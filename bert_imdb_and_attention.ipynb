{
  "nbformat": 4,
  "nbformat_minor": 0,
  "metadata": {
    "colab": {
      "name": "bert_imdb.ipynb",
      "provenance": [],
      "collapsed_sections": [],
      "machine_shape": "hm",
      "mount_file_id": "1LjtnrCnWv_P-0U3pFrMSZJVFYyFcS5N6",
      "authorship_tag": "ABX9TyMtyOj0T/1El5krP/hqKmAN"
    },
    "kernelspec": {
      "name": "python3",
      "display_name": "Python 3"
    },
    "language_info": {
      "name": "python"
    },
    "accelerator": "GPU",
    "gpuClass": "standard"
  },
  "cells": [
    {
      "cell_type": "code",
      "execution_count": 70,
      "metadata": {
        "colab": {
          "base_uri": "https://localhost:8080/"
        },
        "id": "MsAbHBeCF-Ef",
        "outputId": "cacdddc3-1cce-4f07-f189-19b2f70e3b15"
      },
      "outputs": [
        {
          "output_type": "stream",
          "name": "stdout",
          "text": [
            "Looking in indexes: https://pypi.org/simple, https://us-python.pkg.dev/colab-wheels/public/simple/\n",
            "Requirement already satisfied: transformers==4.5.0 in /usr/local/lib/python3.7/dist-packages (4.5.0)\n",
            "Requirement already satisfied: fugashi==1.1.0 in /usr/local/lib/python3.7/dist-packages (1.1.0)\n",
            "Requirement already satisfied: ipadic==1.0.0 in /usr/local/lib/python3.7/dist-packages (1.0.0)\n",
            "Requirement already satisfied: tqdm>=4.27 in /usr/local/lib/python3.7/dist-packages (from transformers==4.5.0) (4.64.0)\n",
            "Requirement already satisfied: sacremoses in /usr/local/lib/python3.7/dist-packages (from transformers==4.5.0) (0.0.53)\n",
            "Requirement already satisfied: packaging in /usr/local/lib/python3.7/dist-packages (from transformers==4.5.0) (21.3)\n",
            "Requirement already satisfied: requests in /usr/local/lib/python3.7/dist-packages (from transformers==4.5.0) (2.23.0)\n",
            "Requirement already satisfied: numpy>=1.17 in /usr/local/lib/python3.7/dist-packages (from transformers==4.5.0) (1.21.6)\n",
            "Requirement already satisfied: importlib-metadata in /usr/local/lib/python3.7/dist-packages (from transformers==4.5.0) (4.12.0)\n",
            "Requirement already satisfied: filelock in /usr/local/lib/python3.7/dist-packages (from transformers==4.5.0) (3.7.1)\n",
            "Requirement already satisfied: regex!=2019.12.17 in /usr/local/lib/python3.7/dist-packages (from transformers==4.5.0) (2022.6.2)\n",
            "Requirement already satisfied: tokenizers<0.11,>=0.10.1 in /usr/local/lib/python3.7/dist-packages (from transformers==4.5.0) (0.10.3)\n",
            "Requirement already satisfied: zipp>=0.5 in /usr/local/lib/python3.7/dist-packages (from importlib-metadata->transformers==4.5.0) (3.8.1)\n",
            "Requirement already satisfied: typing-extensions>=3.6.4 in /usr/local/lib/python3.7/dist-packages (from importlib-metadata->transformers==4.5.0) (4.1.1)\n",
            "Requirement already satisfied: pyparsing!=3.0.5,>=2.0.2 in /usr/local/lib/python3.7/dist-packages (from packaging->transformers==4.5.0) (3.0.9)\n",
            "Requirement already satisfied: idna<3,>=2.5 in /usr/local/lib/python3.7/dist-packages (from requests->transformers==4.5.0) (2.10)\n",
            "Requirement already satisfied: certifi>=2017.4.17 in /usr/local/lib/python3.7/dist-packages (from requests->transformers==4.5.0) (2022.6.15)\n",
            "Requirement already satisfied: chardet<4,>=3.0.2 in /usr/local/lib/python3.7/dist-packages (from requests->transformers==4.5.0) (3.0.4)\n",
            "Requirement already satisfied: urllib3!=1.25.0,!=1.25.1,<1.26,>=1.21.1 in /usr/local/lib/python3.7/dist-packages (from requests->transformers==4.5.0) (1.24.3)\n",
            "Requirement already satisfied: click in /usr/local/lib/python3.7/dist-packages (from sacremoses->transformers==4.5.0) (7.1.2)\n",
            "Requirement already satisfied: six in /usr/local/lib/python3.7/dist-packages (from sacremoses->transformers==4.5.0) (1.15.0)\n",
            "Requirement already satisfied: joblib in /usr/local/lib/python3.7/dist-packages (from sacremoses->transformers==4.5.0) (1.1.0)\n"
          ]
        }
      ],
      "source": [
        "!pip install transformers==4.5.0 fugashi==1.1.0 ipadic==1.0.0 "
      ]
    },
    {
      "cell_type": "code",
      "source": [
        "import numpy as np\n",
        "import pandas as pd\n",
        "import string\n",
        "import re\n",
        "import torch\n",
        "from torch.utils.data import Dataset, DataLoader\n",
        "from transformers import AutoModel, AutoTokenizer, BertJapaneseTokenizer, BertModel\n",
        "from torch import cuda\n",
        "import sklearn.metrics as skm\n",
        "from sklearn.model_selection import train_test_split\n",
        "import torch.nn.functional as F\n",
        "from transformers import logging\n"
      ],
      "metadata": {
        "id": "pnCaB1WEG0dr"
      },
      "execution_count": 71,
      "outputs": []
    },
    {
      "cell_type": "code",
      "source": [
        "batch_size = 16\n",
        "max_len = 256"
      ],
      "metadata": {
        "id": "s0DTlUuXaQk0"
      },
      "execution_count": 72,
      "outputs": []
    },
    {
      "cell_type": "code",
      "source": [
        "df_train = pd.read_csv(\"./drive/MyDrive/Colab_Notebooks/data/IMDb/IMDb_train.tsv\", sep=\"\\t\", header=None)\n",
        "df_train = df_train.iloc[:, 0:2]\n",
        "df_train.columns = [\"text\", \"label\"]\n",
        "print(df_train.shape)\n",
        "df_train.head()"
      ],
      "metadata": {
        "colab": {
          "base_uri": "https://localhost:8080/",
          "height": 224
        },
        "id": "jPzhLL26GLCB",
        "outputId": "dd7cf1a6-816d-42bc-9f12-b1f0538de45a"
      },
      "execution_count": 73,
      "outputs": [
        {
          "output_type": "stream",
          "name": "stdout",
          "text": [
            "(25000, 2)\n"
          ]
        },
        {
          "output_type": "execute_result",
          "data": {
            "text/plain": [
              "                                                text  label\n",
              "0  The Unborn is a pretty good low-budget horror ...      1\n",
              "1  Vincente Minnelli directed some of the most ce...      1\n",
              "2  The first time I saw this, I didn't laugh too ...      1\n",
              "3  This is a great movie for all Generation X'ers...      1\n",
              "4  I first saw this absolutely riveting documenta...      1"
            ],
            "text/html": [
              "\n",
              "  <div id=\"df-23fa3bec-2889-4c0f-8be6-952812674b9a\">\n",
              "    <div class=\"colab-df-container\">\n",
              "      <div>\n",
              "<style scoped>\n",
              "    .dataframe tbody tr th:only-of-type {\n",
              "        vertical-align: middle;\n",
              "    }\n",
              "\n",
              "    .dataframe tbody tr th {\n",
              "        vertical-align: top;\n",
              "    }\n",
              "\n",
              "    .dataframe thead th {\n",
              "        text-align: right;\n",
              "    }\n",
              "</style>\n",
              "<table border=\"1\" class=\"dataframe\">\n",
              "  <thead>\n",
              "    <tr style=\"text-align: right;\">\n",
              "      <th></th>\n",
              "      <th>text</th>\n",
              "      <th>label</th>\n",
              "    </tr>\n",
              "  </thead>\n",
              "  <tbody>\n",
              "    <tr>\n",
              "      <th>0</th>\n",
              "      <td>The Unborn is a pretty good low-budget horror ...</td>\n",
              "      <td>1</td>\n",
              "    </tr>\n",
              "    <tr>\n",
              "      <th>1</th>\n",
              "      <td>Vincente Minnelli directed some of the most ce...</td>\n",
              "      <td>1</td>\n",
              "    </tr>\n",
              "    <tr>\n",
              "      <th>2</th>\n",
              "      <td>The first time I saw this, I didn't laugh too ...</td>\n",
              "      <td>1</td>\n",
              "    </tr>\n",
              "    <tr>\n",
              "      <th>3</th>\n",
              "      <td>This is a great movie for all Generation X'ers...</td>\n",
              "      <td>1</td>\n",
              "    </tr>\n",
              "    <tr>\n",
              "      <th>4</th>\n",
              "      <td>I first saw this absolutely riveting documenta...</td>\n",
              "      <td>1</td>\n",
              "    </tr>\n",
              "  </tbody>\n",
              "</table>\n",
              "</div>\n",
              "      <button class=\"colab-df-convert\" onclick=\"convertToInteractive('df-23fa3bec-2889-4c0f-8be6-952812674b9a')\"\n",
              "              title=\"Convert this dataframe to an interactive table.\"\n",
              "              style=\"display:none;\">\n",
              "        \n",
              "  <svg xmlns=\"http://www.w3.org/2000/svg\" height=\"24px\"viewBox=\"0 0 24 24\"\n",
              "       width=\"24px\">\n",
              "    <path d=\"M0 0h24v24H0V0z\" fill=\"none\"/>\n",
              "    <path d=\"M18.56 5.44l.94 2.06.94-2.06 2.06-.94-2.06-.94-.94-2.06-.94 2.06-2.06.94zm-11 1L8.5 8.5l.94-2.06 2.06-.94-2.06-.94L8.5 2.5l-.94 2.06-2.06.94zm10 10l.94 2.06.94-2.06 2.06-.94-2.06-.94-.94-2.06-.94 2.06-2.06.94z\"/><path d=\"M17.41 7.96l-1.37-1.37c-.4-.4-.92-.59-1.43-.59-.52 0-1.04.2-1.43.59L10.3 9.45l-7.72 7.72c-.78.78-.78 2.05 0 2.83L4 21.41c.39.39.9.59 1.41.59.51 0 1.02-.2 1.41-.59l7.78-7.78 2.81-2.81c.8-.78.8-2.07 0-2.86zM5.41 20L4 18.59l7.72-7.72 1.47 1.35L5.41 20z\"/>\n",
              "  </svg>\n",
              "      </button>\n",
              "      \n",
              "  <style>\n",
              "    .colab-df-container {\n",
              "      display:flex;\n",
              "      flex-wrap:wrap;\n",
              "      gap: 12px;\n",
              "    }\n",
              "\n",
              "    .colab-df-convert {\n",
              "      background-color: #E8F0FE;\n",
              "      border: none;\n",
              "      border-radius: 50%;\n",
              "      cursor: pointer;\n",
              "      display: none;\n",
              "      fill: #1967D2;\n",
              "      height: 32px;\n",
              "      padding: 0 0 0 0;\n",
              "      width: 32px;\n",
              "    }\n",
              "\n",
              "    .colab-df-convert:hover {\n",
              "      background-color: #E2EBFA;\n",
              "      box-shadow: 0px 1px 2px rgba(60, 64, 67, 0.3), 0px 1px 3px 1px rgba(60, 64, 67, 0.15);\n",
              "      fill: #174EA6;\n",
              "    }\n",
              "\n",
              "    [theme=dark] .colab-df-convert {\n",
              "      background-color: #3B4455;\n",
              "      fill: #D2E3FC;\n",
              "    }\n",
              "\n",
              "    [theme=dark] .colab-df-convert:hover {\n",
              "      background-color: #434B5C;\n",
              "      box-shadow: 0px 1px 3px 1px rgba(0, 0, 0, 0.15);\n",
              "      filter: drop-shadow(0px 1px 2px rgba(0, 0, 0, 0.3));\n",
              "      fill: #FFFFFF;\n",
              "    }\n",
              "  </style>\n",
              "\n",
              "      <script>\n",
              "        const buttonEl =\n",
              "          document.querySelector('#df-23fa3bec-2889-4c0f-8be6-952812674b9a button.colab-df-convert');\n",
              "        buttonEl.style.display =\n",
              "          google.colab.kernel.accessAllowed ? 'block' : 'none';\n",
              "\n",
              "        async function convertToInteractive(key) {\n",
              "          const element = document.querySelector('#df-23fa3bec-2889-4c0f-8be6-952812674b9a');\n",
              "          const dataTable =\n",
              "            await google.colab.kernel.invokeFunction('convertToInteractive',\n",
              "                                                     [key], {});\n",
              "          if (!dataTable) return;\n",
              "\n",
              "          const docLinkHtml = 'Like what you see? Visit the ' +\n",
              "            '<a target=\"_blank\" href=https://colab.research.google.com/notebooks/data_table.ipynb>data table notebook</a>'\n",
              "            + ' to learn more about interactive tables.';\n",
              "          element.innerHTML = '';\n",
              "          dataTable['output_type'] = 'display_data';\n",
              "          await google.colab.output.renderOutput(dataTable, element);\n",
              "          const docLink = document.createElement('div');\n",
              "          docLink.innerHTML = docLinkHtml;\n",
              "          element.appendChild(docLink);\n",
              "        }\n",
              "      </script>\n",
              "    </div>\n",
              "  </div>\n",
              "  "
            ]
          },
          "metadata": {},
          "execution_count": 73
        }
      ]
    },
    {
      "cell_type": "code",
      "source": [
        "df_test = pd.read_csv(\"./drive/MyDrive/Colab_Notebooks/data/IMDb/IMDb_test.tsv\", sep=\"\\t\", header=None)\n",
        "df_test = df_test.iloc[:, 0:2]\n",
        "df_test.columns = [\"text\", \"label\"]\n",
        "print(df_test.shape)\n",
        "df_test.head()"
      ],
      "metadata": {
        "colab": {
          "base_uri": "https://localhost:8080/",
          "height": 224
        },
        "id": "bYE3xlVPNAUa",
        "outputId": "090346ed-8786-4596-f9d2-8e46287dc477"
      },
      "execution_count": 74,
      "outputs": [
        {
          "output_type": "stream",
          "name": "stdout",
          "text": [
            "(25000, 2)\n"
          ]
        },
        {
          "output_type": "execute_result",
          "data": {
            "text/plain": [
              "                                                text  label\n",
              "0  Susan Sarandon is, for lack of a better word, ...      1\n",
              "1  Seeing Laurel without Hardy in a film seems st...      1\n",
              "2  I was recently at a sleepover birthday party w...      1\n",
              "3  This movie took me by surprise. The opening cr...      1\n",
              "4  A widely unknown strange little western with m...      1"
            ],
            "text/html": [
              "\n",
              "  <div id=\"df-cee1be69-a8a4-4e8c-827b-4121e6dbb21d\">\n",
              "    <div class=\"colab-df-container\">\n",
              "      <div>\n",
              "<style scoped>\n",
              "    .dataframe tbody tr th:only-of-type {\n",
              "        vertical-align: middle;\n",
              "    }\n",
              "\n",
              "    .dataframe tbody tr th {\n",
              "        vertical-align: top;\n",
              "    }\n",
              "\n",
              "    .dataframe thead th {\n",
              "        text-align: right;\n",
              "    }\n",
              "</style>\n",
              "<table border=\"1\" class=\"dataframe\">\n",
              "  <thead>\n",
              "    <tr style=\"text-align: right;\">\n",
              "      <th></th>\n",
              "      <th>text</th>\n",
              "      <th>label</th>\n",
              "    </tr>\n",
              "  </thead>\n",
              "  <tbody>\n",
              "    <tr>\n",
              "      <th>0</th>\n",
              "      <td>Susan Sarandon is, for lack of a better word, ...</td>\n",
              "      <td>1</td>\n",
              "    </tr>\n",
              "    <tr>\n",
              "      <th>1</th>\n",
              "      <td>Seeing Laurel without Hardy in a film seems st...</td>\n",
              "      <td>1</td>\n",
              "    </tr>\n",
              "    <tr>\n",
              "      <th>2</th>\n",
              "      <td>I was recently at a sleepover birthday party w...</td>\n",
              "      <td>1</td>\n",
              "    </tr>\n",
              "    <tr>\n",
              "      <th>3</th>\n",
              "      <td>This movie took me by surprise. The opening cr...</td>\n",
              "      <td>1</td>\n",
              "    </tr>\n",
              "    <tr>\n",
              "      <th>4</th>\n",
              "      <td>A widely unknown strange little western with m...</td>\n",
              "      <td>1</td>\n",
              "    </tr>\n",
              "  </tbody>\n",
              "</table>\n",
              "</div>\n",
              "      <button class=\"colab-df-convert\" onclick=\"convertToInteractive('df-cee1be69-a8a4-4e8c-827b-4121e6dbb21d')\"\n",
              "              title=\"Convert this dataframe to an interactive table.\"\n",
              "              style=\"display:none;\">\n",
              "        \n",
              "  <svg xmlns=\"http://www.w3.org/2000/svg\" height=\"24px\"viewBox=\"0 0 24 24\"\n",
              "       width=\"24px\">\n",
              "    <path d=\"M0 0h24v24H0V0z\" fill=\"none\"/>\n",
              "    <path d=\"M18.56 5.44l.94 2.06.94-2.06 2.06-.94-2.06-.94-.94-2.06-.94 2.06-2.06.94zm-11 1L8.5 8.5l.94-2.06 2.06-.94-2.06-.94L8.5 2.5l-.94 2.06-2.06.94zm10 10l.94 2.06.94-2.06 2.06-.94-2.06-.94-.94-2.06-.94 2.06-2.06.94z\"/><path d=\"M17.41 7.96l-1.37-1.37c-.4-.4-.92-.59-1.43-.59-.52 0-1.04.2-1.43.59L10.3 9.45l-7.72 7.72c-.78.78-.78 2.05 0 2.83L4 21.41c.39.39.9.59 1.41.59.51 0 1.02-.2 1.41-.59l7.78-7.78 2.81-2.81c.8-.78.8-2.07 0-2.86zM5.41 20L4 18.59l7.72-7.72 1.47 1.35L5.41 20z\"/>\n",
              "  </svg>\n",
              "      </button>\n",
              "      \n",
              "  <style>\n",
              "    .colab-df-container {\n",
              "      display:flex;\n",
              "      flex-wrap:wrap;\n",
              "      gap: 12px;\n",
              "    }\n",
              "\n",
              "    .colab-df-convert {\n",
              "      background-color: #E8F0FE;\n",
              "      border: none;\n",
              "      border-radius: 50%;\n",
              "      cursor: pointer;\n",
              "      display: none;\n",
              "      fill: #1967D2;\n",
              "      height: 32px;\n",
              "      padding: 0 0 0 0;\n",
              "      width: 32px;\n",
              "    }\n",
              "\n",
              "    .colab-df-convert:hover {\n",
              "      background-color: #E2EBFA;\n",
              "      box-shadow: 0px 1px 2px rgba(60, 64, 67, 0.3), 0px 1px 3px 1px rgba(60, 64, 67, 0.15);\n",
              "      fill: #174EA6;\n",
              "    }\n",
              "\n",
              "    [theme=dark] .colab-df-convert {\n",
              "      background-color: #3B4455;\n",
              "      fill: #D2E3FC;\n",
              "    }\n",
              "\n",
              "    [theme=dark] .colab-df-convert:hover {\n",
              "      background-color: #434B5C;\n",
              "      box-shadow: 0px 1px 3px 1px rgba(0, 0, 0, 0.15);\n",
              "      filter: drop-shadow(0px 1px 2px rgba(0, 0, 0, 0.3));\n",
              "      fill: #FFFFFF;\n",
              "    }\n",
              "  </style>\n",
              "\n",
              "      <script>\n",
              "        const buttonEl =\n",
              "          document.querySelector('#df-cee1be69-a8a4-4e8c-827b-4121e6dbb21d button.colab-df-convert');\n",
              "        buttonEl.style.display =\n",
              "          google.colab.kernel.accessAllowed ? 'block' : 'none';\n",
              "\n",
              "        async function convertToInteractive(key) {\n",
              "          const element = document.querySelector('#df-cee1be69-a8a4-4e8c-827b-4121e6dbb21d');\n",
              "          const dataTable =\n",
              "            await google.colab.kernel.invokeFunction('convertToInteractive',\n",
              "                                                     [key], {});\n",
              "          if (!dataTable) return;\n",
              "\n",
              "          const docLinkHtml = 'Like what you see? Visit the ' +\n",
              "            '<a target=\"_blank\" href=https://colab.research.google.com/notebooks/data_table.ipynb>data table notebook</a>'\n",
              "            + ' to learn more about interactive tables.';\n",
              "          element.innerHTML = '';\n",
              "          dataTable['output_type'] = 'display_data';\n",
              "          await google.colab.output.renderOutput(dataTable, element);\n",
              "          const docLink = document.createElement('div');\n",
              "          docLink.innerHTML = docLinkHtml;\n",
              "          element.appendChild(docLink);\n",
              "        }\n",
              "      </script>\n",
              "    </div>\n",
              "  </div>\n",
              "  "
            ]
          },
          "metadata": {},
          "execution_count": 74
        }
      ]
    },
    {
      "cell_type": "code",
      "source": [
        "df_train[\"label\"].value_counts()"
      ],
      "metadata": {
        "colab": {
          "base_uri": "https://localhost:8080/"
        },
        "id": "lNYGDgxARBPN",
        "outputId": "497636af-5f28-4ee7-e692-12bcf92b8fef"
      },
      "execution_count": 75,
      "outputs": [
        {
          "output_type": "execute_result",
          "data": {
            "text/plain": [
              "1    12500\n",
              "0    12500\n",
              "Name: label, dtype: int64"
            ]
          },
          "metadata": {},
          "execution_count": 75
        }
      ]
    },
    {
      "cell_type": "code",
      "source": [
        "df_train[\"text\"].map(len).median()"
      ],
      "metadata": {
        "colab": {
          "base_uri": "https://localhost:8080/"
        },
        "id": "KFjEF1KxRQ6M",
        "outputId": "406752f3-2174-4fe2-e496-ef750db85f1d"
      },
      "execution_count": 76,
      "outputs": [
        {
          "output_type": "execute_result",
          "data": {
            "text/plain": [
              "979.0"
            ]
          },
          "metadata": {},
          "execution_count": 76
        }
      ]
    },
    {
      "cell_type": "code",
      "source": [
        "df_train[\"text\"].map(len)"
      ],
      "metadata": {
        "colab": {
          "base_uri": "https://localhost:8080/"
        },
        "id": "7w6htWkkRnp_",
        "outputId": "3680644a-ba49-496b-8dcd-b1f72788de1f"
      },
      "execution_count": 77,
      "outputs": [
        {
          "output_type": "execute_result",
          "data": {
            "text/plain": [
              "0         639\n",
              "1        4018\n",
              "2         921\n",
              "3        1582\n",
              "4        1526\n",
              "         ... \n",
              "24995     472\n",
              "24996     751\n",
              "24997     964\n",
              "24998    6041\n",
              "24999    1405\n",
              "Name: text, Length: 25000, dtype: int64"
            ]
          },
          "metadata": {},
          "execution_count": 77
        }
      ]
    },
    {
      "cell_type": "markdown",
      "source": [
        "# 前処理"
      ],
      "metadata": {
        "id": "P5EaZRBqNGky"
      }
    },
    {
      "cell_type": "code",
      "source": [
        "def preprocessing_text(text):\n",
        "    # 改行コードを消去\n",
        "    text = re.sub('<br />', '', text)\n",
        "\n",
        "    # カンマ、ピリオド以外の記号をスペースに置換\n",
        "    for p in string.punctuation:\n",
        "        if (p == \".\") or (p == \",\"):\n",
        "            continue\n",
        "        else:\n",
        "            text = text.replace(p, \" \")\n",
        "\n",
        "    # ピリオドなどの前後にはスペースを入れておく\n",
        "    text = text.replace(\".\", \" . \")\n",
        "    text = text.replace(\",\", \" , \")\n",
        "    return text\n"
      ],
      "metadata": {
        "id": "JzXfSVD7NL3F"
      },
      "execution_count": 78,
      "outputs": []
    },
    {
      "cell_type": "code",
      "source": [
        "df_train[\"text\"].map(preprocessing_text)\n",
        "preprocessing_text(df_train[\"text\"][0])"
      ],
      "metadata": {
        "colab": {
          "base_uri": "https://localhost:8080/",
          "height": 90
        },
        "id": "vFx55HH9NX0H",
        "outputId": "21ce3ed1-4871-4008-fe54-62a108f57fec"
      },
      "execution_count": 79,
      "outputs": [
        {
          "output_type": "execute_result",
          "data": {
            "text/plain": [
              "'The Unborn is a pretty good low budget horror movie exploiting the fears associated with pregnancy .  It s very well acted by the always good Brooke Adams and b movie stalwart James Karen ,  although the supporting cast is pretty average for a b grader .  The music ,  by Gary Numan of all people ,  is good too .  Henry Dominic s script is quite intelligent for this sort of thing ,  although there is a hint of misogyny about it .  Rodman Fender s direction is merely adequate ,  and there are some unnecessary cheap scares .  If you re a fan of Adams ,  whose movie career is nowhere near as illustrious as it should be ,  check it out  she s great ,  as always . '"
            ],
            "application/vnd.google.colaboratory.intrinsic+json": {
              "type": "string"
            }
          },
          "metadata": {},
          "execution_count": 79
        }
      ]
    },
    {
      "cell_type": "markdown",
      "source": [
        "# データセット作成"
      ],
      "metadata": {
        "id": "cFHKTHZ4NRyr"
      }
    },
    {
      "cell_type": "code",
      "source": [
        "class CreateDataset(Dataset):\n",
        "  def __init__(self, X, y, tokenizer, max_len):\n",
        "    self.X = X\n",
        "    self.y = y\n",
        "    # self.uid = uid\n",
        "    self.tokenizer = tokenizer\n",
        "    self.max_len = max_len\n",
        "\n",
        "  def __len__(self):\n",
        "    return len(self.y)\n",
        "\n",
        "  def encode(self, tokenizer, text):\n",
        "\n",
        "      # 前処理\n",
        "      text = preprocessing_text(text)\n",
        "      \n",
        "\n",
        "      inputs = tokenizer.encode_plus(\n",
        "          text,\n",
        "          add_special_tokens=True,\n",
        "          max_length=self.max_len,\n",
        "          padding = 'max_length',\n",
        "          truncation = True\n",
        "      )\n",
        "      return inputs\n",
        "\n",
        "  def __getitem__(self, index):\n",
        "    text = self.X[index]\n",
        "    label = self.y[index]\n",
        "    # userID = self.uid[index]\n",
        "    ids = []\n",
        "    mask = []\n",
        "    inputs = self.encode(tokenizer=self.tokenizer, text=text)\n",
        "    ids.append(torch.LongTensor(inputs['input_ids']))\n",
        "    mask.append(torch.LongTensor(inputs['attention_mask']))\n",
        "\n",
        "    return {\n",
        "      'ids': ids,\n",
        "      'mask': mask,\n",
        "      'label': label,\n",
        "      'text':text,\n",
        "      # 'userID':userID\n",
        "    }"
      ],
      "metadata": {
        "id": "B7aXkzLgG9za"
      },
      "execution_count": 80,
      "outputs": []
    },
    {
      "cell_type": "code",
      "source": [
        "# tokenizer = BertJapaneseTokenizer.from_pretrained(\"cl-tohoku/bert-base-japanese-whole-word-masking\")\n",
        "tokenizer = AutoTokenizer.from_pretrained(\"bert-base-cased\")"
      ],
      "metadata": {
        "id": "bdoMudggG_T8"
      },
      "execution_count": 81,
      "outputs": []
    },
    {
      "cell_type": "code",
      "source": [
        "X = df_train[\"text\"].values\n",
        "y = df_train[\"label\"].values"
      ],
      "metadata": {
        "id": "X2yZh73HG_YC"
      },
      "execution_count": 82,
      "outputs": []
    },
    {
      "cell_type": "code",
      "source": [
        "X_train, X_eval, y_train, y_eval = train_test_split(X, y, train_size=0.75)\n",
        "\n",
        "print(len(X_train))\n",
        "print(len(y_train))\n",
        "print(len(X_eval))\n",
        "print(len(y_eval))\n",
        "\n",
        "X_test = df_test[\"text\"].values\n",
        "y_test = df_test[\"label\"].values\n",
        "print(len(X_test))\n",
        "print(len(y_test))"
      ],
      "metadata": {
        "colab": {
          "base_uri": "https://localhost:8080/"
        },
        "id": "KuZghJ37RwyC",
        "outputId": "4f42dc04-1f60-4517-9c1e-460a1a952f3b"
      },
      "execution_count": 83,
      "outputs": [
        {
          "output_type": "stream",
          "name": "stdout",
          "text": [
            "18750\n",
            "18750\n",
            "6250\n",
            "6250\n",
            "25000\n",
            "25000\n"
          ]
        }
      ]
    },
    {
      "cell_type": "code",
      "source": [
        "dataset_train = CreateDataset(X_train, y_train, tokenizer, max_len=max_len)\n",
        "dataset_eval = CreateDataset(X_eval, y_eval, tokenizer, max_len=max_len)\n",
        "dataset_test = CreateDataset(X_test, y_test, tokenizer, max_len=max_len)\n",
        "\n",
        "print(dataset_train.__len__())\n",
        "print(dataset_eval.__len__())\n",
        "print(dataset_test.__len__())"
      ],
      "metadata": {
        "colab": {
          "base_uri": "https://localhost:8080/"
        },
        "id": "F5PTf6oiG_bd",
        "outputId": "9475fa2f-c151-4282-fdef-11e0c482df8e"
      },
      "execution_count": 84,
      "outputs": [
        {
          "output_type": "stream",
          "name": "stdout",
          "text": [
            "18750\n",
            "6250\n",
            "25000\n"
          ]
        }
      ]
    },
    {
      "cell_type": "code",
      "source": [
        "dataset_train[1]"
      ],
      "metadata": {
        "colab": {
          "base_uri": "https://localhost:8080/"
        },
        "id": "pVD_X9ipXi6m",
        "outputId": "0246ef81-8300-4c9d-fdd4-899aacd7ac25"
      },
      "execution_count": 85,
      "outputs": [
        {
          "output_type": "execute_result",
          "data": {
            "text/plain": [
              "{'ids': [tensor([  101,  2119,  1293,  1108,   146,  6699,  1106,  1221,  1142,  1108,\n",
              "           1103, 14908,  3919, 10626,  2188,  1182, 12153, 10041,   146,  1928,\n",
              "            117,   146,  2788,  1142,  1165,  1115, 23569, 10220,  2799,  1146,\n",
              "           1105,  1118,  1103,  1159,  1103,  1730,  2483,  1189,  1117,  2468,\n",
              "            146,  1108, 23474,  9322,  2977, 22867,  7535, 18671,  1106,  1991,\n",
              "            119,   119,   119,  1256,  1463,   146,  4819,  1115,  1461,   119,\n",
              "           4753, 22774,  1116,  1110,  1164,   170,  1685, 12686, 12948,  1596,\n",
              "           1873,  1150,  1110,  1107,  1103,  1965,  1104,  1217, 14647,  1174,\n",
              "           1149,  1104,  1103,  2704,  1118,  1123,  1166,  9760,  1401,  1165,\n",
              "           1152,   117,  1105,  1103,  1832,  1104,  1103,  1234,  1107,  1115,\n",
              "           2440,  7605,   117,  1561, 17429,  7333,   119,   119,   119,  1332,\n",
              "           1152,  6657,  1120,  1147,  1837,  1122,  2502,  1112,  2385,   170,\n",
              "           3774,  1106,  1525,  1115,  1175,  1110,  8582,   102])],\n",
              " 'label': 0,\n",
              " 'mask': [tensor([1, 1, 1, 1, 1, 1, 1, 1, 1, 1, 1, 1, 1, 1, 1, 1, 1, 1, 1, 1, 1, 1, 1, 1,\n",
              "          1, 1, 1, 1, 1, 1, 1, 1, 1, 1, 1, 1, 1, 1, 1, 1, 1, 1, 1, 1, 1, 1, 1, 1,\n",
              "          1, 1, 1, 1, 1, 1, 1, 1, 1, 1, 1, 1, 1, 1, 1, 1, 1, 1, 1, 1, 1, 1, 1, 1,\n",
              "          1, 1, 1, 1, 1, 1, 1, 1, 1, 1, 1, 1, 1, 1, 1, 1, 1, 1, 1, 1, 1, 1, 1, 1,\n",
              "          1, 1, 1, 1, 1, 1, 1, 1, 1, 1, 1, 1, 1, 1, 1, 1, 1, 1, 1, 1, 1, 1, 1, 1,\n",
              "          1, 1, 1, 1, 1, 1, 1, 1])],\n",
              " 'text': 'Well how was I suppose to know this was \"the\" dumb ass promotional \"Lordi Motion Picture\"? I mean, I realized this when that \"dinosaur\" costume showed up and by the time the lead singer made his appearance I was humming \"Hard Rock Hallelujah\" to myself... even though I hate that song. \"Dark Floors\" is about a young autistic girl who is in the process of being sneaked out of the hospital by her over protective father when they, and the rest of the people in that particular elevator, become momentarily trapped... When they arrive at their floor it comes as quite a surprise to find that there is nobody else around. The hospital is empty... Except for a variety of monsters that seem to be stalking them for no apparent reason... They run through the hallways and stairwells, encountering all of the band members of the heavy metal band in their outlandish, shock-rock costumes... Nothing really memorable here, except the lousy acting, lack of gore/nudity, and the utterly shameless promotional edge, reminding me very much of \"KISS Meet the Phantom of the Park\". Yeah, remember that dud? Wish I didn\\'t... I would just recommend avoiding all of these Ghost House films like a fungus and not listen to Lordi since they are a Gwar ripoff band!'}"
            ]
          },
          "metadata": {},
          "execution_count": 85
        }
      ]
    },
    {
      "cell_type": "code",
      "source": [
        "dataloader_train = DataLoader(dataset_train, batch_size=batch_size, shuffle=True, pin_memory=True)\n",
        "dataloader_eval = DataLoader(dataset_eval, batch_size=batch_size, shuffle=False, pin_memory=True)\n",
        "dataloader_test = DataLoader(dataset_test, batch_size=batch_size, shuffle=False, pin_memory=True)\n",
        "\n",
        "# 辞書オブジェクトにまとめる\n",
        "dataloaders_dict = {\"train\": dataloader_train, \"val\": dataloader_eval}"
      ],
      "metadata": {
        "id": "BJUfrG01WT-U"
      },
      "execution_count": 86,
      "outputs": []
    },
    {
      "cell_type": "code",
      "source": [
        "tmp = next(iter(dataloader_train))\n",
        "print(tmp[\"ids\"][0].size())\n",
        "print(tmp[\"label\"])\n",
        "tmp[\"ids\"][0][0]\n"
      ],
      "metadata": {
        "colab": {
          "base_uri": "https://localhost:8080/"
        },
        "id": "HrJDt5u-YTlI",
        "outputId": "f2f2069d-f6c4-4c7a-9f29-d38385e7dfe8"
      },
      "execution_count": 87,
      "outputs": [
        {
          "output_type": "stream",
          "name": "stdout",
          "text": [
            "torch.Size([16, 128])\n",
            "tensor([1, 0, 1, 0, 0, 1, 0, 1, 1, 0, 0, 1, 1, 1, 1, 0])\n"
          ]
        },
        {
          "output_type": "execute_result",
          "data": {
            "text/plain": [
              "tensor([  101,  2711,  1217,  2385,  1677,  2856,  1121,  1139, 11471,   117,\n",
              "          146,  1108, 12678,  7351,  1118,  8166, 27400,  1162,  8166,   119,\n",
              "          146, 12765,  1122,  1136,  3650,  1277,  1164,  1122,   117,  1133,\n",
              "          146,  7588,  2637,  1122,  1106,  1129,   170,  8317,  3959,  2168,\n",
              "         1273,  1107,  1103,  2530,  3475,  3462,  2168,  3904,   117,  1104,\n",
              "         1134,   146,  1821,   170,  6970,  5442,   119,   146,  2207,  1146,\n",
              "         2033,  1380,  3665,  1472,   117,  1134,  1110,  1136,  1120,  1155,\n",
              "          170,  2213,  1645,   119,  1799,  1103,  1273,  1180,  1129,  5667,\n",
              "         1112,  1216,   117,  1105,  1175,  1110,  5397,  1199,  1363,  2168,\n",
              "         1105,  1289,  1106,  1289,  4127,  4429,  1107,  1103,  1273,   117,\n",
              "         1122,  1110,  5397,  1136,  1103,  2425,  2817,   119,  2098,  2650,\n",
              "         1132, 13157,  1193,  1167,  1696,  1106,  1103,  1273,  1190,  1157,\n",
              "         9718,   117,   170,  1897, 14124,  1645,  1107,   102])"
            ]
          },
          "metadata": {},
          "execution_count": 87
        }
      ]
    },
    {
      "cell_type": "code",
      "source": [
        "# model = BertModel.from_pretrained(\"cl-tohoku/bert-base-japanese-whole-word-masking\", output_attentions=True, output_hidden_states=True)\n",
        "model = BertModel.from_pretrained(\"bert-base-cased\", output_attentions=True, output_hidden_states=True)"
      ],
      "metadata": {
        "id": "sJX70XFWG_ee"
      },
      "execution_count": 173,
      "outputs": []
    },
    {
      "cell_type": "code",
      "source": [
        "from torch import nn\n",
        "\n",
        "\n",
        "class BertForLivedoor(nn.Module):\n",
        "    '''BERTモデルにPosiNegaの2クラスを判定する部分をつなげたモデル'''\n",
        "\n",
        "    def __init__(self):\n",
        "        super(BertForLivedoor, self).__init__()\n",
        "\n",
        "        # BERTモジュール\n",
        "        self.bert = model  # 日本語学習済みのBERTモデル\n",
        "\n",
        "        # headにクラス予測を追加\n",
        "        # 入力はBERTの出力特徴量の次元768、出力は2クラス\n",
        "        self.cls = nn.Linear(in_features=768, out_features=2)\n",
        "\n",
        "        # 重み初期化処理\n",
        "        nn.init.normal_(self.cls.weight, std=0.02)\n",
        "        nn.init.normal_(self.cls.bias, 0)\n",
        "\n",
        "        # カウント\n",
        "        self.count = 0\n",
        "\n",
        "    def forward(self, input_ids, attention_show_flg):\n",
        "        '''\n",
        "        input_ids： [batch_size, sequence_length]の文章の単語IDの羅列\n",
        "        '''\n",
        "\n",
        "        # BERTの基本モデル部分の順伝搬\n",
        "        # 順伝搬させる\n",
        "        result = self.bert(input_ids)  # reult は、sequence_output, pooled_output\n",
        "        # print(result)\n",
        "        if self.count==0:\n",
        "          print(f\"Size of attentions: {result.attentions[-1].size()}\")\n",
        "          print(f\"Size of sequence_output: {result[0].size()}\")\n",
        "          print(f\"Size of pooled_output: {result[1].size()}\")\n",
        "\n",
        "        # sequence_outputの先頭の単語ベクトルを抜き出す\n",
        "        vec_0 = result[0]  # 最初の0がsequence_outputを示す\n",
        "        vec_0 = vec_0[:, 0, :]  # 全バッチ。先頭0番目の単語(cls)の全768要素\n",
        "        vec_0 = vec_0.view(-1, 768)  # sizeを[batch_size, hidden_size]に変換\n",
        "        output = self.cls(vec_0)  # 全結合層\n",
        "\n",
        "        self.count += 1\n",
        "\n",
        "        if attention_show_flg:\n",
        "          return output, result.attentions[-1]\n",
        "        else:\n",
        "          return output"
      ],
      "metadata": {
        "id": "kt7Ox3ISQhyQ"
      },
      "execution_count": 175,
      "outputs": []
    },
    {
      "cell_type": "code",
      "source": [
        "# モデル構築\n",
        "net = BertForLivedoor()\n",
        "\n",
        "# 訓練モードに設定\n",
        "net.train()\n",
        "\n",
        "print('ネットワーク設定完了')"
      ],
      "metadata": {
        "colab": {
          "base_uri": "https://localhost:8080/"
        },
        "id": "oYAN0RMZRZ-F",
        "outputId": "c34a728c-775f-49fa-ad13-fd9f2888f7c5"
      },
      "execution_count": 176,
      "outputs": [
        {
          "output_type": "stream",
          "name": "stdout",
          "text": [
            "ネットワーク設定完了\n"
          ]
        }
      ]
    },
    {
      "cell_type": "code",
      "source": [
        "# 勾配計算を最後のBertLayerモジュールと追加した分類アダプターのみ実行\n",
        "\n",
        "# 1. まず全部を、勾配計算Falseにしてしまう\n",
        "for param in net.parameters():\n",
        "    param.requires_grad = False\n",
        "\n",
        "# 2. BertLayerモジュールの最後を勾配計算ありに変更\n",
        "for param in net.bert.encoder.layer[-1].parameters():\n",
        "    param.requires_grad = True\n",
        "\n",
        "# 3. 識別器を勾配計算ありに変更\n",
        "for param in net.cls.parameters():\n",
        "    param.requires_grad = True"
      ],
      "metadata": {
        "id": "yESzArCNRaee"
      },
      "execution_count": 177,
      "outputs": []
    },
    {
      "cell_type": "code",
      "source": [
        "# 最適化手法の設定\n",
        "import torch.optim as optim\n",
        "\n",
        "\n",
        "# BERTの元の部分はファインチューニング\n",
        "optimizer = optim.Adam([\n",
        "    {'params': net.bert.encoder.layer[-1].parameters(), 'lr': 5e-5},\n",
        "    {'params': net.cls.parameters(), 'lr': 1e-4}\n",
        "])\n",
        "\n",
        "# 損失関数の設定\n",
        "criterion = nn.CrossEntropyLoss()\n",
        "# nn.LogSoftmax()を計算してからnn.NLLLoss(negative log likelihood loss)を計算"
      ],
      "metadata": {
        "id": "Ze8n1lpURaoD"
      },
      "execution_count": 178,
      "outputs": []
    },
    {
      "cell_type": "code",
      "source": [
        "# モデルを学習させる関数を作成\n",
        "\n",
        "def train_model(net, dataloaders_dict, criterion, optimizer, num_epochs):\n",
        "\n",
        "    # GPUが使えるかを確認\n",
        "    device = torch.device(\"cuda:0\" if torch.cuda.is_available() else \"cpu\")\n",
        "    print(\"使用デバイス：\", device)\n",
        "    print('-----start-------')\n",
        "\n",
        "    # ネットワークをGPUへ\n",
        "    net.to(device)\n",
        "\n",
        "    # ネットワークがある程度固定であれば、高速化させる\n",
        "    torch.backends.cudnn.benchmark = True\n",
        "\n",
        "    # ミニバッチのサイズ\n",
        "    batch_size = dataloaders_dict[\"train\"].batch_size\n",
        "\n",
        "    # epochのループ\n",
        "    for epoch in range(num_epochs):\n",
        "        # epochごとの訓練と検証のループ\n",
        "        for phase in ['train', 'val']:\n",
        "            if phase == 'train':\n",
        "                net.train()  # モデルを訓練モードに\n",
        "            else:\n",
        "                net.eval()   # モデルを検証モードに\n",
        "\n",
        "            epoch_loss = 0.0  # epochの損失和\n",
        "            epoch_corrects = 0  # epochの正解数\n",
        "            iteration = 1\n",
        "\n",
        "            # データローダーからミニバッチを取り出すループ\n",
        "            for batch in (dataloaders_dict[phase]):\n",
        "                # batchはTextとLableの辞書型変数\n",
        "\n",
        "                # GPUが使えるならGPUにデータを送る\n",
        "                inputs = batch[\"ids\"][0].to(device)  # 文章\n",
        "                labels = batch[\"label\"].to(device)  # ラベル\n",
        "\n",
        "                # optimizerを初期化\n",
        "                optimizer.zero_grad()\n",
        "\n",
        "                # 順伝搬（forward）計算\n",
        "                with torch.set_grad_enabled(phase == 'train'):\n",
        "\n",
        "                    # BERTに入力\n",
        "                    outputs = net(inputs, attention_show_flg=False)\n",
        "\n",
        "                    loss = criterion(outputs, labels)  # 損失を計算\n",
        "\n",
        "                    _, preds = torch.max(outputs, 1)  # ラベルを予測\n",
        "\n",
        "                    # 訓練時はバックプロパゲーション\n",
        "                    if phase == 'train':\n",
        "                        loss.backward()\n",
        "                        optimizer.step()\n",
        "\n",
        "                        if (iteration % 10 == 0):  # 10iterに1度、lossを表示\n",
        "                            acc = (torch.sum(preds == labels.data)\n",
        "                                   ).double()/batch_size\n",
        "                            print('イテレーション {} || Loss: {:.4f} || 10iter. || 本イテレーションの正解率：{}'.format(\n",
        "                                iteration, loss.item(),  acc))\n",
        "\n",
        "                    iteration += 1\n",
        "\n",
        "                    # 損失と正解数の合計を更新\n",
        "                    epoch_loss += loss.item() * batch_size\n",
        "                    epoch_corrects += torch.sum(preds == labels.data)\n",
        "\n",
        "            # epochごとのlossと正解率\n",
        "            epoch_loss = epoch_loss / len(dataloaders_dict[phase].dataset)\n",
        "            epoch_acc = epoch_corrects.double(\n",
        "            ) / len(dataloaders_dict[phase].dataset)\n",
        "\n",
        "            print('Epoch {}/{} | {:^5} |  Loss: {:.4f} Acc: {:.4f}'.format(epoch+1, num_epochs,\n",
        "                                                                           phase, epoch_loss, epoch_acc))\n",
        "\n",
        "    return net"
      ],
      "metadata": {
        "id": "dPcjornYRawV"
      },
      "execution_count": 179,
      "outputs": []
    },
    {
      "cell_type": "code",
      "source": [
        "# 学習・検証を実行する。\n",
        "num_epochs = 3\n",
        "net_trained = train_model(net, dataloaders_dict,\n",
        "                          criterion, optimizer, num_epochs=num_epochs)\n"
      ],
      "metadata": {
        "colab": {
          "base_uri": "https://localhost:8080/"
        },
        "id": "HvIKi67TRa2w",
        "outputId": "3bd69b2c-9bfd-4332-ef2d-56d0263d0566"
      },
      "execution_count": null,
      "outputs": [
        {
          "output_type": "stream",
          "name": "stdout",
          "text": [
            "使用デバイス： cuda:0\n",
            "-----start-------\n",
            "Size of attentions: torch.Size([16, 12, 128, 128])\n",
            "Size of sequence_output: torch.Size([16, 128, 768])\n",
            "Size of pooled_output: torch.Size([16, 768])\n",
            "イテレーション 10 || Loss: 0.6524 || 10iter. || 本イテレーションの正解率：0.625\n",
            "イテレーション 20 || Loss: 0.6329 || 10iter. || 本イテレーションの正解率：0.75\n",
            "イテレーション 30 || Loss: 0.6880 || 10iter. || 本イテレーションの正解率：0.5\n",
            "イテレーション 40 || Loss: 0.6838 || 10iter. || 本イテレーションの正解率：0.5\n",
            "イテレーション 50 || Loss: 0.5832 || 10iter. || 本イテレーションの正解率：0.75\n",
            "イテレーション 60 || Loss: 0.6440 || 10iter. || 本イテレーションの正解率：0.625\n",
            "イテレーション 70 || Loss: 0.5694 || 10iter. || 本イテレーションの正解率：0.75\n",
            "イテレーション 80 || Loss: 0.5838 || 10iter. || 本イテレーションの正解率：0.8125\n",
            "イテレーション 90 || Loss: 0.4903 || 10iter. || 本イテレーションの正解率：0.8125\n",
            "イテレーション 100 || Loss: 0.4939 || 10iter. || 本イテレーションの正解率：0.8125\n",
            "イテレーション 110 || Loss: 0.4288 || 10iter. || 本イテレーションの正解率：0.8125\n",
            "イテレーション 120 || Loss: 0.6025 || 10iter. || 本イテレーションの正解率：0.625\n",
            "イテレーション 130 || Loss: 0.4541 || 10iter. || 本イテレーションの正解率：0.875\n",
            "イテレーション 140 || Loss: 0.3165 || 10iter. || 本イテレーションの正解率：1.0\n",
            "イテレーション 150 || Loss: 0.5058 || 10iter. || 本イテレーションの正解率：0.6875\n",
            "イテレーション 160 || Loss: 0.5741 || 10iter. || 本イテレーションの正解率：0.6875\n",
            "イテレーション 170 || Loss: 0.2966 || 10iter. || 本イテレーションの正解率：0.875\n",
            "イテレーション 180 || Loss: 0.6304 || 10iter. || 本イテレーションの正解率：0.6875\n",
            "イテレーション 190 || Loss: 0.4924 || 10iter. || 本イテレーションの正解率：0.6875\n",
            "イテレーション 200 || Loss: 0.6682 || 10iter. || 本イテレーションの正解率：0.8125\n",
            "イテレーション 210 || Loss: 0.3482 || 10iter. || 本イテレーションの正解率：0.8125\n",
            "イテレーション 220 || Loss: 0.7127 || 10iter. || 本イテレーションの正解率：0.6875\n",
            "イテレーション 230 || Loss: 0.4008 || 10iter. || 本イテレーションの正解率：0.8125\n",
            "イテレーション 240 || Loss: 0.5802 || 10iter. || 本イテレーションの正解率：0.75\n",
            "イテレーション 250 || Loss: 0.3593 || 10iter. || 本イテレーションの正解率：0.8125\n",
            "イテレーション 260 || Loss: 0.9796 || 10iter. || 本イテレーションの正解率：0.625\n",
            "イテレーション 270 || Loss: 0.5060 || 10iter. || 本イテレーションの正解率：0.6875\n",
            "イテレーション 280 || Loss: 0.2323 || 10iter. || 本イテレーションの正解率：1.0\n",
            "イテレーション 290 || Loss: 0.3758 || 10iter. || 本イテレーションの正解率：0.75\n",
            "イテレーション 300 || Loss: 0.2979 || 10iter. || 本イテレーションの正解率：0.8125\n",
            "イテレーション 310 || Loss: 0.2808 || 10iter. || 本イテレーションの正解率：0.875\n",
            "イテレーション 320 || Loss: 0.3197 || 10iter. || 本イテレーションの正解率：0.75\n",
            "イテレーション 330 || Loss: 0.8006 || 10iter. || 本イテレーションの正解率：0.5\n",
            "イテレーション 340 || Loss: 0.3460 || 10iter. || 本イテレーションの正解率：0.9375\n",
            "イテレーション 350 || Loss: 0.5039 || 10iter. || 本イテレーションの正解率：0.8125\n",
            "イテレーション 360 || Loss: 0.2356 || 10iter. || 本イテレーションの正解率：0.9375\n",
            "イテレーション 370 || Loss: 0.4112 || 10iter. || 本イテレーションの正解率：0.875\n",
            "イテレーション 380 || Loss: 0.3684 || 10iter. || 本イテレーションの正解率：0.8125\n",
            "イテレーション 390 || Loss: 0.5160 || 10iter. || 本イテレーションの正解率：0.6875\n",
            "イテレーション 400 || Loss: 0.3333 || 10iter. || 本イテレーションの正解率：0.9375\n",
            "イテレーション 410 || Loss: 0.3443 || 10iter. || 本イテレーションの正解率：0.75\n",
            "イテレーション 420 || Loss: 0.2869 || 10iter. || 本イテレーションの正解率：0.875\n",
            "イテレーション 430 || Loss: 0.2255 || 10iter. || 本イテレーションの正解率：0.9375\n",
            "イテレーション 440 || Loss: 0.3661 || 10iter. || 本イテレーションの正解率：0.8125\n",
            "イテレーション 450 || Loss: 0.2136 || 10iter. || 本イテレーションの正解率：0.9375\n",
            "イテレーション 460 || Loss: 0.4818 || 10iter. || 本イテレーションの正解率：0.8125\n",
            "イテレーション 470 || Loss: 0.5674 || 10iter. || 本イテレーションの正解率：0.625\n",
            "イテレーション 480 || Loss: 0.2541 || 10iter. || 本イテレーションの正解率：0.875\n",
            "イテレーション 490 || Loss: 0.1937 || 10iter. || 本イテレーションの正解率：1.0\n",
            "イテレーション 500 || Loss: 0.1529 || 10iter. || 本イテレーションの正解率：1.0\n",
            "イテレーション 510 || Loss: 0.2520 || 10iter. || 本イテレーションの正解率：0.875\n",
            "イテレーション 520 || Loss: 0.2355 || 10iter. || 本イテレーションの正解率：0.875\n",
            "イテレーション 530 || Loss: 0.2903 || 10iter. || 本イテレーションの正解率：0.9375\n",
            "イテレーション 540 || Loss: 0.9700 || 10iter. || 本イテレーションの正解率：0.5625\n",
            "イテレーション 550 || Loss: 0.5121 || 10iter. || 本イテレーションの正解率：0.75\n",
            "イテレーション 560 || Loss: 0.3203 || 10iter. || 本イテレーションの正解率：0.875\n",
            "イテレーション 570 || Loss: 0.3122 || 10iter. || 本イテレーションの正解率：0.75\n",
            "イテレーション 580 || Loss: 0.3398 || 10iter. || 本イテレーションの正解率：0.8125\n",
            "イテレーション 590 || Loss: 0.5589 || 10iter. || 本イテレーションの正解率：0.625\n",
            "イテレーション 600 || Loss: 0.1927 || 10iter. || 本イテレーションの正解率：0.9375\n",
            "イテレーション 610 || Loss: 0.4212 || 10iter. || 本イテレーションの正解率：0.875\n",
            "イテレーション 620 || Loss: 0.4532 || 10iter. || 本イテレーションの正解率：0.75\n",
            "イテレーション 630 || Loss: 0.1855 || 10iter. || 本イテレーションの正解率：1.0\n",
            "イテレーション 640 || Loss: 0.2660 || 10iter. || 本イテレーションの正解率：0.875\n",
            "イテレーション 650 || Loss: 0.4493 || 10iter. || 本イテレーションの正解率：0.75\n",
            "イテレーション 660 || Loss: 0.3787 || 10iter. || 本イテレーションの正解率：0.9375\n",
            "イテレーション 670 || Loss: 0.3022 || 10iter. || 本イテレーションの正解率：0.75\n",
            "イテレーション 680 || Loss: 0.3968 || 10iter. || 本イテレーションの正解率：0.8125\n",
            "イテレーション 690 || Loss: 0.2560 || 10iter. || 本イテレーションの正解率：0.875\n",
            "イテレーション 700 || Loss: 0.2855 || 10iter. || 本イテレーションの正解率：0.875\n",
            "イテレーション 710 || Loss: 0.5774 || 10iter. || 本イテレーションの正解率：0.75\n",
            "イテレーション 720 || Loss: 0.5853 || 10iter. || 本イテレーションの正解率：0.6875\n",
            "イテレーション 730 || Loss: 0.2612 || 10iter. || 本イテレーションの正解率：0.9375\n",
            "イテレーション 740 || Loss: 0.4219 || 10iter. || 本イテレーションの正解率：0.9375\n",
            "イテレーション 750 || Loss: 0.1796 || 10iter. || 本イテレーションの正解率：1.0\n",
            "イテレーション 760 || Loss: 0.7491 || 10iter. || 本イテレーションの正解率：0.5625\n",
            "イテレーション 770 || Loss: 0.2050 || 10iter. || 本イテレーションの正解率：1.0\n",
            "イテレーション 780 || Loss: 0.3708 || 10iter. || 本イテレーションの正解率：0.8125\n",
            "イテレーション 790 || Loss: 0.3897 || 10iter. || 本イテレーションの正解率：0.8125\n",
            "イテレーション 800 || Loss: 0.6888 || 10iter. || 本イテレーションの正解率：0.75\n",
            "イテレーション 810 || Loss: 0.2445 || 10iter. || 本イテレーションの正解率：1.0\n",
            "イテレーション 820 || Loss: 0.2917 || 10iter. || 本イテレーションの正解率：0.875\n",
            "イテレーション 830 || Loss: 0.1718 || 10iter. || 本イテレーションの正解率：1.0\n",
            "イテレーション 840 || Loss: 0.5393 || 10iter. || 本イテレーションの正解率：0.75\n",
            "イテレーション 850 || Loss: 0.5513 || 10iter. || 本イテレーションの正解率：0.625\n",
            "イテレーション 860 || Loss: 0.3062 || 10iter. || 本イテレーションの正解率：0.875\n",
            "イテレーション 870 || Loss: 0.4226 || 10iter. || 本イテレーションの正解率：0.75\n",
            "イテレーション 880 || Loss: 0.2505 || 10iter. || 本イテレーションの正解率：0.9375\n",
            "イテレーション 890 || Loss: 0.5188 || 10iter. || 本イテレーションの正解率：0.75\n",
            "イテレーション 900 || Loss: 0.4582 || 10iter. || 本イテレーションの正解率：0.875\n",
            "イテレーション 910 || Loss: 0.5886 || 10iter. || 本イテレーションの正解率：0.625\n",
            "イテレーション 920 || Loss: 0.2449 || 10iter. || 本イテレーションの正解率：0.9375\n",
            "イテレーション 930 || Loss: 0.3405 || 10iter. || 本イテレーションの正解率：0.8125\n",
            "イテレーション 940 || Loss: 0.5957 || 10iter. || 本イテレーションの正解率：0.6875\n",
            "イテレーション 950 || Loss: 0.2924 || 10iter. || 本イテレーションの正解率：0.75\n",
            "イテレーション 960 || Loss: 0.4406 || 10iter. || 本イテレーションの正解率：0.8125\n",
            "イテレーション 970 || Loss: 0.4476 || 10iter. || 本イテレーションの正解率：0.875\n"
          ]
        }
      ]
    },
    {
      "cell_type": "code",
      "source": [
        "from tqdm import tqdm\n",
        "\n",
        "# テストデータでの正解率を求める\n",
        "device = torch.device(\"cuda:0\" if torch.cuda.is_available() else \"cpu\")\n",
        "\n",
        "net_trained.eval()   # モデルを検証モードに\n",
        "net_trained.to(device)  # GPUが使えるならGPUへ送る\n",
        "\n",
        "# epochの正解数を記録する変数\n",
        "epoch_corrects = 0\n",
        "\n",
        "# モデル評価用データ\n",
        "labels_all = []\n",
        "preds_all = []\n",
        "\n",
        "for batch in tqdm(dataloader_test):  # testデータのDataLoader\n",
        "    # batchはTextとLableの辞書オブジェクト\n",
        "    # GPUが使えるならGPUにデータを送る\n",
        "    inputs = batch[\"ids\"][0].to(device)  # 文章\n",
        "    labels = batch[\"label\"].to(device)  # ラベル\n",
        "\n",
        "    # 順伝搬（forward）計算\n",
        "    with torch.set_grad_enabled(False):\n",
        "\n",
        "        # BertForLivedoorに入力\n",
        "        outputs = net_trained(inputs, attention_show_flg=False)\n",
        "\n",
        "\n",
        "        loss = criterion(outputs, labels)  # 損失を計算\n",
        "        _, preds = torch.max(outputs, 1)  # ラベルを予測\n",
        "        epoch_corrects += torch.sum(preds == labels.data)  # 正解数の合計を更新\n",
        "\n",
        "        # f1計算用\n",
        "        labels_all.extend(batch[\"label\"].to('cpu').detach().numpy())\n",
        "        preds_all.extend(preds.to('cpu').detach().numpy())\n",
        "\n",
        "# 正解率\n",
        "epoch_acc = epoch_corrects.double() / len(dataloader_test.dataset)\n",
        "\n",
        "print('テストデータ{}個での正解率：{:.4f}'.format(len(dataloader_test.dataset), epoch_acc))"
      ],
      "metadata": {
        "id": "XDzzCqhOZzEh",
        "outputId": "f1fe0f1e-42aa-43b6-824a-45717f49ae84",
        "colab": {
          "base_uri": "https://localhost:8080/",
          "height": 263
        }
      },
      "execution_count": 160,
      "outputs": [
        {
          "output_type": "stream",
          "name": "stderr",
          "text": [
            " 58%|█████▊    | 903/1563 [01:51<01:21,  8.10it/s]\n"
          ]
        },
        {
          "output_type": "error",
          "ename": "KeyboardInterrupt",
          "evalue": "ignored",
          "traceback": [
            "\u001b[0;31m---------------------------------------------------------------------------\u001b[0m",
            "\u001b[0;31mKeyboardInterrupt\u001b[0m                         Traceback (most recent call last)",
            "\u001b[0;32m<ipython-input-160-47b32b07623c>\u001b[0m in \u001b[0;36m<module>\u001b[0;34m()\u001b[0m\n\u001b[1;32m     33\u001b[0m         \u001b[0;31m# f1計算用\u001b[0m\u001b[0;34m\u001b[0m\u001b[0;34m\u001b[0m\u001b[0;34m\u001b[0m\u001b[0m\n\u001b[1;32m     34\u001b[0m         \u001b[0mlabels_all\u001b[0m\u001b[0;34m.\u001b[0m\u001b[0mextend\u001b[0m\u001b[0;34m(\u001b[0m\u001b[0mbatch\u001b[0m\u001b[0;34m[\u001b[0m\u001b[0;34m\"label\"\u001b[0m\u001b[0;34m]\u001b[0m\u001b[0;34m.\u001b[0m\u001b[0mto\u001b[0m\u001b[0;34m(\u001b[0m\u001b[0;34m'cpu'\u001b[0m\u001b[0;34m)\u001b[0m\u001b[0;34m.\u001b[0m\u001b[0mdetach\u001b[0m\u001b[0;34m(\u001b[0m\u001b[0;34m)\u001b[0m\u001b[0;34m.\u001b[0m\u001b[0mnumpy\u001b[0m\u001b[0;34m(\u001b[0m\u001b[0;34m)\u001b[0m\u001b[0;34m)\u001b[0m\u001b[0;34m\u001b[0m\u001b[0;34m\u001b[0m\u001b[0m\n\u001b[0;32m---> 35\u001b[0;31m         \u001b[0mpreds_all\u001b[0m\u001b[0;34m.\u001b[0m\u001b[0mextend\u001b[0m\u001b[0;34m(\u001b[0m\u001b[0mpreds\u001b[0m\u001b[0;34m.\u001b[0m\u001b[0mto\u001b[0m\u001b[0;34m(\u001b[0m\u001b[0;34m'cpu'\u001b[0m\u001b[0;34m)\u001b[0m\u001b[0;34m.\u001b[0m\u001b[0mdetach\u001b[0m\u001b[0;34m(\u001b[0m\u001b[0;34m)\u001b[0m\u001b[0;34m.\u001b[0m\u001b[0mnumpy\u001b[0m\u001b[0;34m(\u001b[0m\u001b[0;34m)\u001b[0m\u001b[0;34m)\u001b[0m\u001b[0;34m\u001b[0m\u001b[0;34m\u001b[0m\u001b[0m\n\u001b[0m\u001b[1;32m     36\u001b[0m \u001b[0;34m\u001b[0m\u001b[0m\n\u001b[1;32m     37\u001b[0m \u001b[0;31m# 正解率\u001b[0m\u001b[0;34m\u001b[0m\u001b[0;34m\u001b[0m\u001b[0;34m\u001b[0m\u001b[0m\n",
            "\u001b[0;31mKeyboardInterrupt\u001b[0m: "
          ]
        }
      ]
    },
    {
      "cell_type": "code",
      "source": [
        "from sklearn.metrics import accuracy_score\n",
        "from sklearn.metrics import precision_score\n",
        "from sklearn.metrics import recall_score\n",
        "from sklearn.metrics import f1_score\n",
        "\n",
        "print(f\"正解率: {accuracy_score(labels_all, preds_all):.3f}\")\n",
        "print(f\"適合率: {precision_score(labels_all, preds_all):.3f}\")\n",
        "print(f\"再現率: {recall_score(labels_all, preds_all):.3f}\")\n",
        "print(f\"F1: {f1_score(labels_all, preds_all):.3f}\")"
      ],
      "metadata": {
        "id": "V8TcDWjva1Js"
      },
      "execution_count": null,
      "outputs": []
    },
    {
      "cell_type": "markdown",
      "source": [
        "# Attentionの可視化"
      ],
      "metadata": {
        "id": "OZCkv0rzigml"
      }
    },
    {
      "cell_type": "code",
      "source": [
        "# BertForIMDbで処理\n",
        "\n",
        "# ミニバッチの用意\n",
        "batch = next(iter(dataloader_test))\n",
        "\n",
        "# GPUが使えるならGPUにデータを送る\n",
        "device = torch.device(\"cuda:0\" if torch.cuda.is_available() else \"cpu\")\n",
        "inputs = batch[\"ids\"][0].to(device)  # 文章\n",
        "labels = batch[\"label\"].to(device)  # ラベル\n",
        "\n",
        "outputs, attention_probs = net_trained(inputs, attention_show_flg=True)\n",
        "\n",
        "_, preds = torch.max(outputs, 1)  # ラベルを予測\n"
      ],
      "metadata": {
        "id": "T7ijf9_mfJBw"
      },
      "execution_count": 161,
      "outputs": []
    },
    {
      "cell_type": "code",
      "source": [
        "attention_probs.size()"
      ],
      "metadata": {
        "id": "C6TqTAxZfdL3",
        "outputId": "d4e1737d-075b-4297-d5be-dfbc1fa614d2",
        "colab": {
          "base_uri": "https://localhost:8080/"
        }
      },
      "execution_count": 163,
      "outputs": [
        {
          "output_type": "execute_result",
          "data": {
            "text/plain": [
              "torch.Size([16, 12, 128, 128])"
            ]
          },
          "metadata": {},
          "execution_count": 163
        }
      ]
    },
    {
      "cell_type": "code",
      "source": [
        "# HTMLを作成する関数を実装\n",
        "\n",
        "\n",
        "def highlight(word, attn):\n",
        "    \"Attentionの値が大きいと文字の背景が濃い赤になるhtmlを出力させる関数\"\n",
        "\n",
        "    html_color = '#%02X%02X%02X' % (\n",
        "        255, int(255*(1 - attn)), int(255*(1 - attn)))\n",
        "    return '<span style=\"background-color: {}\"> {}</span>'.format(html_color, word)\n",
        "\n",
        "\n",
        "def mk_html(index, batch, preds, normlized_weights):\n",
        "    \"HTMLデータを作成する\"\n",
        "\n",
        "    # indexの結果を抽出\n",
        "    sentence = batch[\"ids\"][0][index]  # 文章\n",
        "    label = batch[\"label\"][index]  # ラベル\n",
        "    pred = preds[index]  # 予測\n",
        "\n",
        "    # ラベルと予測結果を文字に置き換え\n",
        "    if label == 0:\n",
        "        label_str = \"Negative\"\n",
        "    else:\n",
        "        label_str = \"Positive\"\n",
        "\n",
        "    if pred == 0:\n",
        "        pred_str = \"Negative\"\n",
        "    else:\n",
        "        pred_str = \"Positive\"\n",
        "\n",
        "    # 表示用のHTMLを作成する\n",
        "    html = '正解ラベル：{}<br>推論ラベル：{}<br><br>'.format(label_str, pred_str)\n",
        "\n",
        "    # Self-Attentionの重みを可視化。Multi-Headが12個なので、12種類のアテンションが存在\n",
        "    for i in range(12):\n",
        "\n",
        "        # indexのAttentionを抽出と規格化\n",
        "        # 0単語目[CLS]の、i番目のMulti-Head Attentionを取り出す\n",
        "        # indexはミニバッチの何個目のデータかをしめす\n",
        "        attens = normlized_weights[index, i, 0, :]\n",
        "        attens /= attens.max()\n",
        "\n",
        "        html += '[BERTのAttentionを可視化_' + str(i+1) + ']<br>'\n",
        "        for word, attn in zip(sentence, attens):\n",
        "\n",
        "            # 単語が[SEP]の場合は文章が終わりなのでbreak\n",
        "            if tokenizer.convert_ids_to_tokens([word.numpy().tolist()])[0] == \"[SEP]\":\n",
        "                break\n",
        "\n",
        "            # 関数highlightで色をつける、関数tokenizer_bert.convert_ids_to_tokensでIDを単語に戻す\n",
        "            html += highlight(tokenizer.convert_ids_to_tokens(\n",
        "                [word.numpy().tolist()])[0], attn)\n",
        "        html += \"<br><br>\"\n",
        "\n",
        "    # 12種類のAttentionの平均を求める。最大値で規格化\n",
        "    all_attens = attens*0  # all_attensという変数を作成する\n",
        "    for i in range(12):\n",
        "        attens += normlized_weights[index, i, 0, :]\n",
        "    attens /= attens.max()\n",
        "\n",
        "    html += '[BERTのAttentionを可視化_ALL]<br>'\n",
        "    for word, attn in zip(sentence, attens):\n",
        "\n",
        "        # 単語が[SEP]の場合は文章が終わりなのでbreak\n",
        "        if tokenizer.convert_ids_to_tokens([word.numpy().tolist()])[0] == \"[SEP]\":\n",
        "            break\n",
        "\n",
        "        # 関数highlightで色をつける、関数tokenizer_bert.convert_ids_to_tokensでIDを単語に戻す\n",
        "        html += highlight(tokenizer.convert_ids_to_tokens(\n",
        "            [word.numpy().tolist()])[0], attn)\n",
        "    html += \"<br><br>\"\n",
        "\n",
        "    return html\n"
      ],
      "metadata": {
        "id": "BVlVRka6V1qn"
      },
      "execution_count": 167,
      "outputs": []
    },
    {
      "cell_type": "code",
      "source": [
        "from IPython.display import HTML\n",
        "\n",
        "index = 4  # 出力させたいデータ\n",
        "html_output = mk_html(index, batch, preds, attention_probs)  # HTML作成\n",
        "HTML(html_output)  # HTML形式で出力\n"
      ],
      "metadata": {
        "id": "Io-_yCt-WzRZ",
        "outputId": "aac77d4f-2f11-472c-a105-35781a1731b6",
        "colab": {
          "base_uri": "https://localhost:8080/",
          "height": 1000
        }
      },
      "execution_count": 172,
      "outputs": [
        {
          "output_type": "execute_result",
          "data": {
            "text/plain": [
              "<IPython.core.display.HTML object>"
            ],
            "text/html": [
              "正解ラベル：Positive<br>推論ラベル：Positive<br><br>[BERTのAttentionを可視化_1]<br><span style=\"background-color: #FFF3F3\"> [CLS]</span><span style=\"background-color: #FFF2F2\"> And</span><span style=\"background-color: #FF9292\"> with</span><span style=\"background-color: #FFD5D5\"> those</span><span style=\"background-color: #FFD9D9\"> words</span><span style=\"background-color: #FFF4F4\"> one</span><span style=\"background-color: #FFF1F1\"> of</span><span style=\"background-color: #FFCBCB\"> the</span><span style=\"background-color: #FF8080\"> great</span><span style=\"background-color: #FFFCFC\"> movie</span><span style=\"background-color: #FFFBFB\"> publicity</span><span style=\"background-color: #FFF2F2\"> campaigns</span><span style=\"background-color: #FF5F5F\"> came</span><span style=\"background-color: #FFF3F3\"> to</span><span style=\"background-color: #FF7A7A\"> a</span><span style=\"background-color: #FF0101\"> conclusion</span><span style=\"background-color: #FFF5F5\"> .</span><span style=\"background-color: #FFF8F8\"> G</span><span style=\"background-color: #FFFDFD\"> ##ar</span><span style=\"background-color: #FFF5F5\"> ##bo</span><span style=\"background-color: #FFF5F5\"> Talk</span><span style=\"background-color: #FFFDFD\"> ##s</span><span style=\"background-color: #FFFBFB\"> and</span><span style=\"background-color: #FFE4E4\"> she</span><span style=\"background-color: #FFEBEB\"> spoke</span><span style=\"background-color: #FFF2F2\"> those</span><span style=\"background-color: #FFEEEE\"> words</span><span style=\"background-color: #FFF0F0\"> in</span><span style=\"background-color: #FFE4E4\"> her</span><span style=\"background-color: #FFCCCC\"> first</span><span style=\"background-color: #FFE1E1\"> sound</span><span style=\"background-color: #FFF8F8\"> film</span><span style=\"background-color: #FFF6F6\"> ,</span><span style=\"background-color: #FFF4F4\"> an</span><span style=\"background-color: #FFFDFD\"> adapt</span><span style=\"background-color: #FFDEDE\"> ##ion</span><span style=\"background-color: #FFFDFD\"> of</span><span style=\"background-color: #FFFEFE\"> the</span><span style=\"background-color: #FFFDFD\"> Eugene</span><span style=\"background-color: #FFFEFE\"> O</span><span style=\"background-color: #FFFEFE\"> Neil</span><span style=\"background-color: #FFFDFD\"> play</span><span style=\"background-color: #FFFEFE\"> Anna</span><span style=\"background-color: #FFFEFE\"> Christie</span><span style=\"background-color: #FFFBFB\"> .</span><span style=\"background-color: #FFFDFD\"> Unlike</span><span style=\"background-color: #FFFEFE\"> with</span><span style=\"background-color: #FFFEFE\"> some</span><span style=\"background-color: #FFFCFC\"> other</span><span style=\"background-color: #FFFDFD\"> players</span><span style=\"background-color: #FFFEFE\"> and</span><span style=\"background-color: #FFFEFE\"> some</span><span style=\"background-color: #FFFCFC\"> other</span><span style=\"background-color: #FFF5F5\"> studios</span><span style=\"background-color: #FFF3F3\"> ,</span><span style=\"background-color: #FFE3E3\"> MGM</span><span style=\"background-color: #FF7575\"> took</span><span style=\"background-color: #FF0000\"> great</span><span style=\"background-color: #FF6D6D\"> care</span><span style=\"background-color: #FFF8F8\"> in</span><span style=\"background-color: #FFCACA\"> finding</span><span style=\"background-color: #FFE3E3\"> the</span><span style=\"background-color: #FFB5B5\"> proper</span><span style=\"background-color: #FFFBFB\"> vehicle</span><span style=\"background-color: #FFF2F2\"> for</span><span style=\"background-color: #FFF4F4\"> G</span><span style=\"background-color: #FFE1E1\"> ##reta</span><span style=\"background-color: #FFF8F8\"> G</span><span style=\"background-color: #FFFCFC\"> ##ar</span><span style=\"background-color: #FFEDED\"> ##bo</span><span style=\"background-color: #FFFBFB\"> .</span><span style=\"background-color: #FFFDFD\"> Many</span><span style=\"background-color: #FFFDFD\"> players</span><span style=\"background-color: #FFFDFD\"> who</span><span style=\"background-color: #FFFEFE\"> were</span><span style=\"background-color: #FFBDBD\"> fine</span><span style=\"background-color: #FFFDFD\"> in</span><span style=\"background-color: #FFFCFC\"> the</span><span style=\"background-color: #FFDFDF\"> universal</span><span style=\"background-color: #FFF9F9\"> medium</span><span style=\"background-color: #FFF0F0\"> of</span><span style=\"background-color: #FFEBEB\"> silent</span><span style=\"background-color: #FFFCFC\"> film</span><span style=\"background-color: #FFFAFA\"> would</span><span style=\"background-color: #FFF6F6\"> lose</span><span style=\"background-color: #FFFEFE\"> their</span><span style=\"background-color: #FFFCFC\"> careers</span><span style=\"background-color: #FFF3F3\"> because</span><span style=\"background-color: #FFF8F8\"> of</span><span style=\"background-color: #FFEBEB\"> talk</span><span style=\"background-color: #FFF0F0\"> ##ies</span><span style=\"background-color: #FFFBFB\"> .</span><span style=\"background-color: #FFFBFB\"> Their</span><span style=\"background-color: #FFECEC\"> heavy</span><span style=\"background-color: #FFF9F9\"> native</span><span style=\"background-color: #FFFCFC\"> accent</span><span style=\"background-color: #FFFBFB\"> ##s</span><span style=\"background-color: #FFD7D7\"> would</span><span style=\"background-color: #FFDBDB\"> get</span><span style=\"background-color: #FFF7F7\"> in</span><span style=\"background-color: #FFD4D4\"> the</span><span style=\"background-color: #FFF3F3\"> way</span><span style=\"background-color: #FFFEFE\"> ,</span><span style=\"background-color: #FFF8F8\"> some</span><span style=\"background-color: #FFF9F9\"> didn</span><span style=\"background-color: #FFF9F9\"> t</span><span style=\"background-color: #FFFEFE\"> know</span><span style=\"background-color: #FFFDFD\"> any</span><span style=\"background-color: #FFFEFE\"> English</span><span style=\"background-color: #FFFBFB\"> .</span><span style=\"background-color: #FFF8F8\"> It</span><span style=\"background-color: #FFDFDF\"> was</span><span style=\"background-color: #FFEBEB\"> no</span><span style=\"background-color: #FFEBEB\"> accident</span><span style=\"background-color: #FFF2F2\"> that</span><span style=\"background-color: #FFFDFD\"> Anna</span><span style=\"background-color: #FFFAFA\"> Christie</span><span style=\"background-color: #FFFBFB\"> was</span><span style=\"background-color: #FFE8E8\"> chosen</span><span style=\"background-color: #FFFCFC\"> for</span><span style=\"background-color: #FFF7F7\"> G</span><span style=\"background-color: #FFF8F8\"> ##ar</span><span style=\"background-color: #FFDFDF\"> ##bo</span><span style=\"background-color: #FFFBFB\"> .</span><span style=\"background-color: #FFF9F9\"> First</span><span style=\"background-color: #FFFAFA\"> of</span><span style=\"background-color: #FFF8F8\"> all</span><br><br>[BERTのAttentionを可視化_2]<br><span style=\"background-color: #FFFBFB\"> [CLS]</span><span style=\"background-color: #FFFEFE\"> And</span><span style=\"background-color: #FFFDFD\"> with</span><span style=\"background-color: #FFFEFE\"> those</span><span style=\"background-color: #FFFEFE\"> words</span><span style=\"background-color: #FFFEFE\"> one</span><span style=\"background-color: #FFFEFE\"> of</span><span style=\"background-color: #FFFEFE\"> the</span><span style=\"background-color: #FFFEFE\"> great</span><span style=\"background-color: #FFFEFE\"> movie</span><span style=\"background-color: #FFFEFE\"> publicity</span><span style=\"background-color: #FFFEFE\"> campaigns</span><span style=\"background-color: #FFFEFE\"> came</span><span style=\"background-color: #FFFEFE\"> to</span><span style=\"background-color: #FFFEFE\"> a</span><span style=\"background-color: #FFFEFE\"> conclusion</span><span style=\"background-color: #FFFEFE\"> .</span><span style=\"background-color: #FFFEFE\"> G</span><span style=\"background-color: #FFFEFE\"> ##ar</span><span style=\"background-color: #FFFEFE\"> ##bo</span><span style=\"background-color: #FFFEFE\"> Talk</span><span style=\"background-color: #FFFEFE\"> ##s</span><span style=\"background-color: #FFFEFE\"> and</span><span style=\"background-color: #FFFCFC\"> she</span><span style=\"background-color: #FFFDFD\"> spoke</span><span style=\"background-color: #FFFEFE\"> those</span><span style=\"background-color: #FFFEFE\"> words</span><span style=\"background-color: #FFFEFE\"> in</span><span style=\"background-color: #FFFDFD\"> her</span><span style=\"background-color: #FF0000\"> first</span><span style=\"background-color: #FFE9E9\"> sound</span><span style=\"background-color: #FFFCFC\"> film</span><span style=\"background-color: #FFFDFD\"> ,</span><span style=\"background-color: #FFF9F9\"> an</span><span style=\"background-color: #FFFEFE\"> adapt</span><span style=\"background-color: #FFFEFE\"> ##ion</span><span style=\"background-color: #FFFEFE\"> of</span><span style=\"background-color: #FFFEFE\"> the</span><span style=\"background-color: #FFFEFE\"> Eugene</span><span style=\"background-color: #FFFEFE\"> O</span><span style=\"background-color: #FFFEFE\"> Neil</span><span style=\"background-color: #FFFEFE\"> play</span><span style=\"background-color: #FFFEFE\"> Anna</span><span style=\"background-color: #FFFEFE\"> Christie</span><span style=\"background-color: #FFFEFE\"> .</span><span style=\"background-color: #FFFEFE\"> Unlike</span><span style=\"background-color: #FFFEFE\"> with</span><span style=\"background-color: #FFFEFE\"> some</span><span style=\"background-color: #FFFEFE\"> other</span><span style=\"background-color: #FFFEFE\"> players</span><span style=\"background-color: #FFFEFE\"> and</span><span style=\"background-color: #FFFEFE\"> some</span><span style=\"background-color: #FFFEFE\"> other</span><span style=\"background-color: #FFFDFD\"> studios</span><span style=\"background-color: #FFFAFA\"> ,</span><span style=\"background-color: #FFF7F7\"> MGM</span><span style=\"background-color: #FFFDFD\"> took</span><span style=\"background-color: #FFFCFC\"> great</span><span style=\"background-color: #FFFCFC\"> care</span><span style=\"background-color: #FFFEFE\"> in</span><span style=\"background-color: #FFFCFC\"> finding</span><span style=\"background-color: #FFFCFC\"> the</span><span style=\"background-color: #FFF5F5\"> proper</span><span style=\"background-color: #FFF9F9\"> vehicle</span><span style=\"background-color: #FFFDFD\"> for</span><span style=\"background-color: #FFFEFE\"> G</span><span style=\"background-color: #FFFEFE\"> ##reta</span><span style=\"background-color: #FFFEFE\"> G</span><span style=\"background-color: #FFFEFE\"> ##ar</span><span style=\"background-color: #FFFEFE\"> ##bo</span><span style=\"background-color: #FFFEFE\"> .</span><span style=\"background-color: #FFFDFD\"> Many</span><span style=\"background-color: #FFFEFE\"> players</span><span style=\"background-color: #FFFEFE\"> who</span><span style=\"background-color: #FFFEFE\"> were</span><span style=\"background-color: #FFFDFD\"> fine</span><span style=\"background-color: #FFFEFE\"> in</span><span style=\"background-color: #FFFEFE\"> the</span><span style=\"background-color: #FFFEFE\"> universal</span><span style=\"background-color: #FFFEFE\"> medium</span><span style=\"background-color: #FFFEFE\"> of</span><span style=\"background-color: #FFFDFD\"> silent</span><span style=\"background-color: #FFFEFE\"> film</span><span style=\"background-color: #FFFEFE\"> would</span><span style=\"background-color: #FFFEFE\"> lose</span><span style=\"background-color: #FFFEFE\"> their</span><span style=\"background-color: #FFFEFE\"> careers</span><span style=\"background-color: #FFFEFE\"> because</span><span style=\"background-color: #FFFEFE\"> of</span><span style=\"background-color: #FFFEFE\"> talk</span><span style=\"background-color: #FFFEFE\"> ##ies</span><span style=\"background-color: #FFFEFE\"> .</span><span style=\"background-color: #FFFEFE\"> Their</span><span style=\"background-color: #FFFEFE\"> heavy</span><span style=\"background-color: #FFFEFE\"> native</span><span style=\"background-color: #FFFEFE\"> accent</span><span style=\"background-color: #FFFEFE\"> ##s</span><span style=\"background-color: #FFFEFE\"> would</span><span style=\"background-color: #FFFEFE\"> get</span><span style=\"background-color: #FFFEFE\"> in</span><span style=\"background-color: #FFFEFE\"> the</span><span style=\"background-color: #FFFEFE\"> way</span><span style=\"background-color: #FFFEFE\"> ,</span><span style=\"background-color: #FFFBFB\"> some</span><span style=\"background-color: #FFFDFD\"> didn</span><span style=\"background-color: #FFF9F9\"> t</span><span style=\"background-color: #FFFEFE\"> know</span><span style=\"background-color: #FFFEFE\"> any</span><span style=\"background-color: #FFFEFE\"> English</span><span style=\"background-color: #FFFEFE\"> .</span><span style=\"background-color: #FFFEFE\"> It</span><span style=\"background-color: #FFFEFE\"> was</span><span style=\"background-color: #FFFCFC\"> no</span><span style=\"background-color: #FFFDFD\"> accident</span><span style=\"background-color: #FFFEFE\"> that</span><span style=\"background-color: #FFFEFE\"> Anna</span><span style=\"background-color: #FFFDFD\"> Christie</span><span style=\"background-color: #FFFEFE\"> was</span><span style=\"background-color: #FFFCFC\"> chosen</span><span style=\"background-color: #FFFCFC\"> for</span><span style=\"background-color: #FFFEFE\"> G</span><span style=\"background-color: #FFFEFE\"> ##ar</span><span style=\"background-color: #FFFEFE\"> ##bo</span><span style=\"background-color: #FFFEFE\"> .</span><span style=\"background-color: #FF6A6A\"> First</span><span style=\"background-color: #FFFCFC\"> of</span><span style=\"background-color: #FFFCFC\"> all</span><br><br>[BERTのAttentionを可視化_3]<br><span style=\"background-color: #FFF0F0\"> [CLS]</span><span style=\"background-color: #FFE1E1\"> And</span><span style=\"background-color: #FFFEFE\"> with</span><span style=\"background-color: #FFFEFE\"> those</span><span style=\"background-color: #FFFEFE\"> words</span><span style=\"background-color: #FFD1D1\"> one</span><span style=\"background-color: #FFFDFD\"> of</span><span style=\"background-color: #FFE5E5\"> the</span><span style=\"background-color: #FF0505\"> great</span><span style=\"background-color: #FFFDFD\"> movie</span><span style=\"background-color: #FFFEFE\"> publicity</span><span style=\"background-color: #FFF9F9\"> campaigns</span><span style=\"background-color: #FFF2F2\"> came</span><span style=\"background-color: #FFFEFE\"> to</span><span style=\"background-color: #FFFBFB\"> a</span><span style=\"background-color: #FFEEEE\"> conclusion</span><span style=\"background-color: #FFFDFD\"> .</span><span style=\"background-color: #FFFEFE\"> G</span><span style=\"background-color: #FFFEFE\"> ##ar</span><span style=\"background-color: #FFFEFE\"> ##bo</span><span style=\"background-color: #FFECEC\"> Talk</span><span style=\"background-color: #FFFDFD\"> ##s</span><span style=\"background-color: #FFF7F7\"> and</span><span style=\"background-color: #FFF8F8\"> she</span><span style=\"background-color: #FFFCFC\"> spoke</span><span style=\"background-color: #FFFEFE\"> those</span><span style=\"background-color: #FFFEFE\"> words</span><span style=\"background-color: #FFFDFD\"> in</span><span style=\"background-color: #FFF9F9\"> her</span><span style=\"background-color: #FF7D7D\"> first</span><span style=\"background-color: #FFF1F1\"> sound</span><span style=\"background-color: #FFFDFD\"> film</span><span style=\"background-color: #FFFDFD\"> ,</span><span style=\"background-color: #FFFDFD\"> an</span><span style=\"background-color: #FFFEFE\"> adapt</span><span style=\"background-color: #FFFEFE\"> ##ion</span><span style=\"background-color: #FFFEFE\"> of</span><span style=\"background-color: #FFFEFE\"> the</span><span style=\"background-color: #FFFEFE\"> Eugene</span><span style=\"background-color: #FFFEFE\"> O</span><span style=\"background-color: #FFFEFE\"> Neil</span><span style=\"background-color: #FFFEFE\"> play</span><span style=\"background-color: #FFFEFE\"> Anna</span><span style=\"background-color: #FFFEFE\"> Christie</span><span style=\"background-color: #FFFEFE\"> .</span><span style=\"background-color: #FFF9F9\"> Unlike</span><span style=\"background-color: #FFFEFE\"> with</span><span style=\"background-color: #FFFDFD\"> some</span><span style=\"background-color: #FFFDFD\"> other</span><span style=\"background-color: #FFF7F7\"> players</span><span style=\"background-color: #FFFEFE\"> and</span><span style=\"background-color: #FFFCFC\"> some</span><span style=\"background-color: #FFFCFC\"> other</span><span style=\"background-color: #FFFCFC\"> studios</span><span style=\"background-color: #FFF0F0\"> ,</span><span style=\"background-color: #FFD6D6\"> MGM</span><span style=\"background-color: #FFE3E3\"> took</span><span style=\"background-color: #FFCDCD\"> great</span><span style=\"background-color: #FF9E9E\"> care</span><span style=\"background-color: #FFFEFE\"> in</span><span style=\"background-color: #FFF9F9\"> finding</span><span style=\"background-color: #FFFDFD\"> the</span><span style=\"background-color: #FFF5F5\"> proper</span><span style=\"background-color: #FFFEFE\"> vehicle</span><span style=\"background-color: #FFFEFE\"> for</span><span style=\"background-color: #FFFDFD\"> G</span><span style=\"background-color: #FFFBFB\"> ##reta</span><span style=\"background-color: #FFFEFE\"> G</span><span style=\"background-color: #FFFEFE\"> ##ar</span><span style=\"background-color: #FFFEFE\"> ##bo</span><span style=\"background-color: #FFFEFE\"> .</span><span style=\"background-color: #FFF2F2\"> Many</span><span style=\"background-color: #FFFDFD\"> players</span><span style=\"background-color: #FFFEFE\"> who</span><span style=\"background-color: #FFFEFE\"> were</span><span style=\"background-color: #FFEBEB\"> fine</span><span style=\"background-color: #FFFEFE\"> in</span><span style=\"background-color: #FFFEFE\"> the</span><span style=\"background-color: #FFF0F0\"> universal</span><span style=\"background-color: #FFFDFD\"> medium</span><span style=\"background-color: #FFFEFE\"> of</span><span style=\"background-color: #FFFAFA\"> silent</span><span style=\"background-color: #FFFEFE\"> film</span><span style=\"background-color: #FFF9F9\"> would</span><span style=\"background-color: #FFF0F0\"> lose</span><span style=\"background-color: #FFFEFE\"> their</span><span style=\"background-color: #FFFEFE\"> careers</span><span style=\"background-color: #FFFEFE\"> because</span><span style=\"background-color: #FFFDFD\"> of</span><span style=\"background-color: #FFF0F0\"> talk</span><span style=\"background-color: #FFFDFD\"> ##ies</span><span style=\"background-color: #FFFEFE\"> .</span><span style=\"background-color: #FFFDFD\"> Their</span><span style=\"background-color: #FFF5F5\"> heavy</span><span style=\"background-color: #FFFEFE\"> native</span><span style=\"background-color: #FFFEFE\"> accent</span><span style=\"background-color: #FFFEFE\"> ##s</span><span style=\"background-color: #FFFCFC\"> would</span><span style=\"background-color: #FFFBFB\"> get</span><span style=\"background-color: #FFFEFE\"> in</span><span style=\"background-color: #FFFEFE\"> the</span><span style=\"background-color: #FFFEFE\"> way</span><span style=\"background-color: #FFFEFE\"> ,</span><span style=\"background-color: #FFFEFE\"> some</span><span style=\"background-color: #FFFEFE\"> didn</span><span style=\"background-color: #FFFEFE\"> t</span><span style=\"background-color: #FFFEFE\"> know</span><span style=\"background-color: #FFFEFE\"> any</span><span style=\"background-color: #FFFEFE\"> English</span><span style=\"background-color: #FFFEFE\"> .</span><span style=\"background-color: #FFF9F9\"> It</span><span style=\"background-color: #FFF8F8\"> was</span><span style=\"background-color: #FFFCFC\"> no</span><span style=\"background-color: #FF0000\"> accident</span><span style=\"background-color: #FFFEFE\"> that</span><span style=\"background-color: #FFFEFE\"> Anna</span><span style=\"background-color: #FFFEFE\"> Christie</span><span style=\"background-color: #FFFEFE\"> was</span><span style=\"background-color: #FFFEFE\"> chosen</span><span style=\"background-color: #FFFEFE\"> for</span><span style=\"background-color: #FFFEFE\"> G</span><span style=\"background-color: #FFFEFE\"> ##ar</span><span style=\"background-color: #FFFEFE\"> ##bo</span><span style=\"background-color: #FFFEFE\"> .</span><span style=\"background-color: #FFDFDF\"> First</span><span style=\"background-color: #FFFDFD\"> of</span><span style=\"background-color: #FFFAFA\"> all</span><br><br>[BERTのAttentionを可視化_4]<br><span style=\"background-color: #FFFCFC\"> [CLS]</span><span style=\"background-color: #FFE0E0\"> And</span><span style=\"background-color: #FF9999\"> with</span><span style=\"background-color: #FFFCFC\"> those</span><span style=\"background-color: #FFE2E2\"> words</span><span style=\"background-color: #FFE9E9\"> one</span><span style=\"background-color: #FFFBFB\"> of</span><span style=\"background-color: #FFEFEF\"> the</span><span style=\"background-color: #FF0000\"> great</span><span style=\"background-color: #FFFDFD\"> movie</span><span style=\"background-color: #FFFBFB\"> publicity</span><span style=\"background-color: #FFE1E1\"> campaigns</span><span style=\"background-color: #FFBFBF\"> came</span><span style=\"background-color: #FFFEFE\"> to</span><span style=\"background-color: #FFF6F6\"> a</span><span style=\"background-color: #FFE3E3\"> conclusion</span><span style=\"background-color: #FFF7F7\"> .</span><span style=\"background-color: #FFFEFE\"> G</span><span style=\"background-color: #FFFEFE\"> ##ar</span><span style=\"background-color: #FFFAFA\"> ##bo</span><span style=\"background-color: #FFFBFB\"> Talk</span><span style=\"background-color: #FFE3E3\"> ##s</span><span style=\"background-color: #FF0C0C\"> and</span><span style=\"background-color: #FF9797\"> she</span><span style=\"background-color: #FFBDBD\"> spoke</span><span style=\"background-color: #FFFBFB\"> those</span><span style=\"background-color: #FFEBEB\"> words</span><span style=\"background-color: #FFEFEF\"> in</span><span style=\"background-color: #FFE7E7\"> her</span><span style=\"background-color: #FF0202\"> first</span><span style=\"background-color: #FFEBEB\"> sound</span><span style=\"background-color: #FFEAEA\"> film</span><span style=\"background-color: #FFF0F0\"> ,</span><span style=\"background-color: #FFFAFA\"> an</span><span style=\"background-color: #FFE7E7\"> adapt</span><span style=\"background-color: #FFE4E4\"> ##ion</span><span style=\"background-color: #FFFEFE\"> of</span><span style=\"background-color: #FFFEFE\"> the</span><span style=\"background-color: #FFFEFE\"> Eugene</span><span style=\"background-color: #FFFEFE\"> O</span><span style=\"background-color: #FFFEFE\"> Neil</span><span style=\"background-color: #FFFEFE\"> play</span><span style=\"background-color: #FFFEFE\"> Anna</span><span style=\"background-color: #FFFEFE\"> Christie</span><span style=\"background-color: #FFFEFE\"> .</span><span style=\"background-color: #FFFBFB\"> Unlike</span><span style=\"background-color: #FFFEFE\"> with</span><span style=\"background-color: #FFEDED\"> some</span><span style=\"background-color: #FFFAFA\"> other</span><span style=\"background-color: #FFFAFA\"> players</span><span style=\"background-color: #FFFDFD\"> and</span><span style=\"background-color: #FFDFDF\"> some</span><span style=\"background-color: #FFFAFA\"> other</span><span style=\"background-color: #FFFBFB\"> studios</span><span style=\"background-color: #FFFDFD\"> ,</span><span style=\"background-color: #FFF9F9\"> MGM</span><span style=\"background-color: #FFF7F7\"> took</span><span style=\"background-color: #FFBDBD\"> great</span><span style=\"background-color: #FFEDED\"> care</span><span style=\"background-color: #FFFEFE\"> in</span><span style=\"background-color: #FFFCFC\"> finding</span><span style=\"background-color: #FFFEFE\"> the</span><span style=\"background-color: #FFE8E8\"> proper</span><span style=\"background-color: #FFFDFD\"> vehicle</span><span style=\"background-color: #FFFEFE\"> for</span><span style=\"background-color: #FFFEFE\"> G</span><span style=\"background-color: #FFE7E7\"> ##reta</span><span style=\"background-color: #FFFEFE\"> G</span><span style=\"background-color: #FFFEFE\"> ##ar</span><span style=\"background-color: #FFFEFE\"> ##bo</span><span style=\"background-color: #FFFEFE\"> .</span><span style=\"background-color: #FFDFDF\"> Many</span><span style=\"background-color: #FFFEFE\"> players</span><span style=\"background-color: #FFFEFE\"> who</span><span style=\"background-color: #FFFEFE\"> were</span><span style=\"background-color: #FFEDED\"> fine</span><span style=\"background-color: #FFFEFE\"> in</span><span style=\"background-color: #FFFEFE\"> the</span><span style=\"background-color: #FFBEBE\"> universal</span><span style=\"background-color: #FFECEC\"> medium</span><span style=\"background-color: #FFFCFC\"> of</span><span style=\"background-color: #FFF6F6\"> silent</span><span style=\"background-color: #FFF9F9\"> film</span><span style=\"background-color: #FFFDFD\"> would</span><span style=\"background-color: #FFF7F7\"> lose</span><span style=\"background-color: #FFFEFE\"> their</span><span style=\"background-color: #FFFEFE\"> careers</span><span style=\"background-color: #FFE0E0\"> because</span><span style=\"background-color: #FFFDFD\"> of</span><span style=\"background-color: #FFFDFD\"> talk</span><span style=\"background-color: #FF9B9B\"> ##ies</span><span style=\"background-color: #FFFEFE\"> .</span><span style=\"background-color: #FFFDFD\"> Their</span><span style=\"background-color: #FFFAFA\"> heavy</span><span style=\"background-color: #FFFCFC\"> native</span><span style=\"background-color: #FFFEFE\"> accent</span><span style=\"background-color: #FFFEFE\"> ##s</span><span style=\"background-color: #FFFCFC\"> would</span><span style=\"background-color: #FFF2F2\"> get</span><span style=\"background-color: #FFFEFE\"> in</span><span style=\"background-color: #FFFEFE\"> the</span><span style=\"background-color: #FFF9F9\"> way</span><span style=\"background-color: #FFFAFA\"> ,</span><span style=\"background-color: #FF7E7E\"> some</span><span style=\"background-color: #FFE6E6\"> didn</span><span style=\"background-color: #FFF0F0\"> t</span><span style=\"background-color: #FFFBFB\"> know</span><span style=\"background-color: #FFB8B8\"> any</span><span style=\"background-color: #FFFDFD\"> English</span><span style=\"background-color: #FFFEFE\"> .</span><span style=\"background-color: #FFFEFE\"> It</span><span style=\"background-color: #FFF6F6\"> was</span><span style=\"background-color: #FFF7F7\"> no</span><span style=\"background-color: #FFB3B3\"> accident</span><span style=\"background-color: #FFF5F5\"> that</span><span style=\"background-color: #FFFEFE\"> Anna</span><span style=\"background-color: #FFFEFE\"> Christie</span><span style=\"background-color: #FFFEFE\"> was</span><span style=\"background-color: #FFFDFD\"> chosen</span><span style=\"background-color: #FFFCFC\"> for</span><span style=\"background-color: #FFFEFE\"> G</span><span style=\"background-color: #FFFCFC\"> ##ar</span><span style=\"background-color: #FFFBFB\"> ##bo</span><span style=\"background-color: #FFFEFE\"> .</span><span style=\"background-color: #FFDDDD\"> First</span><span style=\"background-color: #FFFCFC\"> of</span><span style=\"background-color: #FFF2F2\"> all</span><br><br>[BERTのAttentionを可視化_5]<br><span style=\"background-color: #FFFEFE\"> [CLS]</span><span style=\"background-color: #FFFEFE\"> And</span><span style=\"background-color: #FFEBEB\"> with</span><span style=\"background-color: #FFFBFB\"> those</span><span style=\"background-color: #FFFDFD\"> words</span><span style=\"background-color: #FFFAFA\"> one</span><span style=\"background-color: #FFFDFD\"> of</span><span style=\"background-color: #FFFEFE\"> the</span><span style=\"background-color: #FFFEFE\"> great</span><span style=\"background-color: #FFFEFE\"> movie</span><span style=\"background-color: #FFFEFE\"> publicity</span><span style=\"background-color: #FFFEFE\"> campaigns</span><span style=\"background-color: #FFFCFC\"> came</span><span style=\"background-color: #FFFDFD\"> to</span><span style=\"background-color: #FFFBFB\"> a</span><span style=\"background-color: #FFFCFC\"> conclusion</span><span style=\"background-color: #FFFEFE\"> .</span><span style=\"background-color: #FFFEFE\"> G</span><span style=\"background-color: #FFFDFD\"> ##ar</span><span style=\"background-color: #FFFEFE\"> ##bo</span><span style=\"background-color: #FFFEFE\"> Talk</span><span style=\"background-color: #FFFEFE\"> ##s</span><span style=\"background-color: #FFFBFB\"> and</span><span style=\"background-color: #FFFEFE\"> she</span><span style=\"background-color: #FFFAFA\"> spoke</span><span style=\"background-color: #FFFAFA\"> those</span><span style=\"background-color: #FFFDFD\"> words</span><span style=\"background-color: #FFFDFD\"> in</span><span style=\"background-color: #FFFEFE\"> her</span><span style=\"background-color: #FFFBFB\"> first</span><span style=\"background-color: #FFFEFE\"> sound</span><span style=\"background-color: #FFFEFE\"> film</span><span style=\"background-color: #FFF9F9\"> ,</span><span style=\"background-color: #FFFDFD\"> an</span><span style=\"background-color: #FFFEFE\"> adapt</span><span style=\"background-color: #FFFEFE\"> ##ion</span><span style=\"background-color: #FFFAFA\"> of</span><span style=\"background-color: #FFFEFE\"> the</span><span style=\"background-color: #FFFEFE\"> Eugene</span><span style=\"background-color: #FFFEFE\"> O</span><span style=\"background-color: #FFFDFD\"> Neil</span><span style=\"background-color: #FFFEFE\"> play</span><span style=\"background-color: #FFFEFE\"> Anna</span><span style=\"background-color: #FFFEFE\"> Christie</span><span style=\"background-color: #FFF8F8\"> .</span><span style=\"background-color: #FFFDFD\"> Unlike</span><span style=\"background-color: #FFF6F6\"> with</span><span style=\"background-color: #FFFEFE\"> some</span><span style=\"background-color: #FFFEFE\"> other</span><span style=\"background-color: #FFFEFE\"> players</span><span style=\"background-color: #FFFEFE\"> and</span><span style=\"background-color: #FFFEFE\"> some</span><span style=\"background-color: #FFFEFE\"> other</span><span style=\"background-color: #FFFEFE\"> studios</span><span style=\"background-color: #FFFDFD\"> ,</span><span style=\"background-color: #FFFEFE\"> MGM</span><span style=\"background-color: #FFFBFB\"> took</span><span style=\"background-color: #FFFBFB\"> great</span><span style=\"background-color: #FFE4E4\"> care</span><span style=\"background-color: #FFF9F9\"> in</span><span style=\"background-color: #FFF3F3\"> finding</span><span style=\"background-color: #FFFDFD\"> the</span><span style=\"background-color: #FFF7F7\"> proper</span><span style=\"background-color: #FFFEFE\"> vehicle</span><span style=\"background-color: #FFFEFE\"> for</span><span style=\"background-color: #FFFEFE\"> G</span><span style=\"background-color: #FFFDFD\"> ##reta</span><span style=\"background-color: #FFFEFE\"> G</span><span style=\"background-color: #FFFBFB\"> ##ar</span><span style=\"background-color: #FFFAFA\"> ##bo</span><span style=\"background-color: #FFF8F8\"> .</span><span style=\"background-color: #FFFCFC\"> Many</span><span style=\"background-color: #FFFEFE\"> players</span><span style=\"background-color: #FFFEFE\"> who</span><span style=\"background-color: #FFFCFC\"> were</span><span style=\"background-color: #FFF3F3\"> fine</span><span style=\"background-color: #FFFDFD\"> in</span><span style=\"background-color: #FFFBFB\"> the</span><span style=\"background-color: #FFEFEF\"> universal</span><span style=\"background-color: #FFFEFE\"> medium</span><span style=\"background-color: #FFFAFA\"> of</span><span style=\"background-color: #FFFEFE\"> silent</span><span style=\"background-color: #FFFEFE\"> film</span><span style=\"background-color: #FFFCFC\"> would</span><span style=\"background-color: #FFE5E5\"> lose</span><span style=\"background-color: #FFFDFD\"> their</span><span style=\"background-color: #FFFDFD\"> careers</span><span style=\"background-color: #FFFAFA\"> because</span><span style=\"background-color: #FFFBFB\"> of</span><span style=\"background-color: #FFFBFB\"> talk</span><span style=\"background-color: #FFFBFB\"> ##ies</span><span style=\"background-color: #FFFAFA\"> .</span><span style=\"background-color: #FFFBFB\"> Their</span><span style=\"background-color: #FFFCFC\"> heavy</span><span style=\"background-color: #FFFEFE\"> native</span><span style=\"background-color: #FFFEFE\"> accent</span><span style=\"background-color: #FFF9F9\"> ##s</span><span style=\"background-color: #FFF2F2\"> would</span><span style=\"background-color: #FFF7F7\"> get</span><span style=\"background-color: #FFF0F0\"> in</span><span style=\"background-color: #FFE1E1\"> the</span><span style=\"background-color: #FF8E8E\"> way</span><span style=\"background-color: #FFF6F6\"> ,</span><span style=\"background-color: #FFF2F2\"> some</span><span style=\"background-color: #FFF6F6\"> didn</span><span style=\"background-color: #FFE7E7\"> t</span><span style=\"background-color: #FFF2F2\"> know</span><span style=\"background-color: #FFEFEF\"> any</span><span style=\"background-color: #FFFCFC\"> English</span><span style=\"background-color: #FFF8F8\"> .</span><span style=\"background-color: #FFB5B5\"> It</span><span style=\"background-color: #FFECEC\"> was</span><span style=\"background-color: #FF4545\"> no</span><span style=\"background-color: #FF8787\"> accident</span><span style=\"background-color: #FFF4F4\"> that</span><span style=\"background-color: #FFFEFE\"> Anna</span><span style=\"background-color: #FFFEFE\"> Christie</span><span style=\"background-color: #FFFDFD\"> was</span><span style=\"background-color: #FFF1F1\"> chosen</span><span style=\"background-color: #FFFBFB\"> for</span><span style=\"background-color: #FFFBFB\"> G</span><span style=\"background-color: #FFF4F4\"> ##ar</span><span style=\"background-color: #FFF0F0\"> ##bo</span><span style=\"background-color: #FFF7F7\"> .</span><span style=\"background-color: #FF0000\"> First</span><span style=\"background-color: #FF6B6B\"> of</span><span style=\"background-color: #FFF2F2\"> all</span><br><br>[BERTのAttentionを可視化_6]<br><span style=\"background-color: #FFEAEA\"> [CLS]</span><span style=\"background-color: #FFE7E7\"> And</span><span style=\"background-color: #FFFDFD\"> with</span><span style=\"background-color: #FFFBFB\"> those</span><span style=\"background-color: #FFFBFB\"> words</span><span style=\"background-color: #FFFCFC\"> one</span><span style=\"background-color: #FFFEFE\"> of</span><span style=\"background-color: #FFF7F7\"> the</span><span style=\"background-color: #FFF9F9\"> great</span><span style=\"background-color: #FFFBFB\"> movie</span><span style=\"background-color: #FFF8F8\"> publicity</span><span style=\"background-color: #FFF9F9\"> campaigns</span><span style=\"background-color: #FFDFDF\"> came</span><span style=\"background-color: #FFFEFE\"> to</span><span style=\"background-color: #FFFCFC\"> a</span><span style=\"background-color: #FFFDFD\"> conclusion</span><span style=\"background-color: #FFF9F9\"> .</span><span style=\"background-color: #FFFCFC\"> G</span><span style=\"background-color: #FFFDFD\"> ##ar</span><span style=\"background-color: #FFF3F3\"> ##bo</span><span style=\"background-color: #FFF1F1\"> Talk</span><span style=\"background-color: #FFF4F4\"> ##s</span><span style=\"background-color: #FFEFEF\"> and</span><span style=\"background-color: #FFE2E2\"> she</span><span style=\"background-color: #FFF7F7\"> spoke</span><span style=\"background-color: #FFFAFA\"> those</span><span style=\"background-color: #FFFBFB\"> words</span><span style=\"background-color: #FFFCFC\"> in</span><span style=\"background-color: #FFF8F8\"> her</span><span style=\"background-color: #FFFCFC\"> first</span><span style=\"background-color: #FFFBFB\"> sound</span><span style=\"background-color: #FFFBFB\"> film</span><span style=\"background-color: #FFFEFE\"> ,</span><span style=\"background-color: #FFFDFD\"> an</span><span style=\"background-color: #FFFEFE\"> adapt</span><span style=\"background-color: #FFFEFE\"> ##ion</span><span style=\"background-color: #FFFEFE\"> of</span><span style=\"background-color: #FFFEFE\"> the</span><span style=\"background-color: #FFFEFE\"> Eugene</span><span style=\"background-color: #FFFEFE\"> O</span><span style=\"background-color: #FFFEFE\"> Neil</span><span style=\"background-color: #FFFEFE\"> play</span><span style=\"background-color: #FFFEFE\"> Anna</span><span style=\"background-color: #FFFEFE\"> Christie</span><span style=\"background-color: #FFF9F9\"> .</span><span style=\"background-color: #FFEEEE\"> Unlike</span><span style=\"background-color: #FFEAEA\"> with</span><span style=\"background-color: #FFE6E6\"> some</span><span style=\"background-color: #FFF1F1\"> other</span><span style=\"background-color: #FFD4D4\"> players</span><span style=\"background-color: #FFFCFC\"> and</span><span style=\"background-color: #FFF7F7\"> some</span><span style=\"background-color: #FFFAFA\"> other</span><span style=\"background-color: #FFD0D0\"> studios</span><span style=\"background-color: #FFA0A0\"> ,</span><span style=\"background-color: #FF4D4D\"> MGM</span><span style=\"background-color: #FF0000\"> took</span><span style=\"background-color: #FFDADA\"> great</span><span style=\"background-color: #FFF5F5\"> care</span><span style=\"background-color: #FFF4F4\"> in</span><span style=\"background-color: #FFF0F0\"> finding</span><span style=\"background-color: #FFF7F7\"> the</span><span style=\"background-color: #FFF6F6\"> proper</span><span style=\"background-color: #FFF5F5\"> vehicle</span><span style=\"background-color: #FFEDED\"> for</span><span style=\"background-color: #FFF4F4\"> G</span><span style=\"background-color: #FFEDED\"> ##reta</span><span style=\"background-color: #FFFBFB\"> G</span><span style=\"background-color: #FFFCFC\"> ##ar</span><span style=\"background-color: #FFF6F6\"> ##bo</span><span style=\"background-color: #FFFAFA\"> .</span><span style=\"background-color: #FFF6F6\"> Many</span><span style=\"background-color: #FFE0E0\"> players</span><span style=\"background-color: #FFFCFC\"> who</span><span style=\"background-color: #FFFDFD\"> were</span><span style=\"background-color: #FFFEFE\"> fine</span><span style=\"background-color: #FFFEFE\"> in</span><span style=\"background-color: #FFFEFE\"> the</span><span style=\"background-color: #FFFEFE\"> universal</span><span style=\"background-color: #FFFEFE\"> medium</span><span style=\"background-color: #FFFEFE\"> of</span><span style=\"background-color: #FFFDFD\"> silent</span><span style=\"background-color: #FFFCFC\"> film</span><span style=\"background-color: #FFEAEA\"> would</span><span style=\"background-color: #FFFCFC\"> lose</span><span style=\"background-color: #FFFEFE\"> their</span><span style=\"background-color: #FFFBFB\"> careers</span><span style=\"background-color: #FFFEFE\"> because</span><span style=\"background-color: #FFFDFD\"> of</span><span style=\"background-color: #FFFEFE\"> talk</span><span style=\"background-color: #FFFCFC\"> ##ies</span><span style=\"background-color: #FFFCFC\"> .</span><span style=\"background-color: #FFFAFA\"> Their</span><span style=\"background-color: #FFFEFE\"> heavy</span><span style=\"background-color: #FFFEFE\"> native</span><span style=\"background-color: #FFFEFE\"> accent</span><span style=\"background-color: #FFFEFE\"> ##s</span><span style=\"background-color: #FFEAEA\"> would</span><span style=\"background-color: #FFFEFE\"> get</span><span style=\"background-color: #FFFEFE\"> in</span><span style=\"background-color: #FFFEFE\"> the</span><span style=\"background-color: #FFFEFE\"> way</span><span style=\"background-color: #FFFBFB\"> ,</span><span style=\"background-color: #FFFCFC\"> some</span><span style=\"background-color: #FFFAFA\"> didn</span><span style=\"background-color: #FFFEFE\"> t</span><span style=\"background-color: #FFFEFE\"> know</span><span style=\"background-color: #FFFEFE\"> any</span><span style=\"background-color: #FFFEFE\"> English</span><span style=\"background-color: #FFF9F9\"> .</span><span style=\"background-color: #FFFCFC\"> It</span><span style=\"background-color: #FFE3E3\"> was</span><span style=\"background-color: #FFFEFE\"> no</span><span style=\"background-color: #FFFDFD\"> accident</span><span style=\"background-color: #FFF2F2\"> that</span><span style=\"background-color: #FFF6F6\"> Anna</span><span style=\"background-color: #FFFBFB\"> Christie</span><span style=\"background-color: #FFF1F1\"> was</span><span style=\"background-color: #FFE2E2\"> chosen</span><span style=\"background-color: #FFDCDC\"> for</span><span style=\"background-color: #FFF7F7\"> G</span><span style=\"background-color: #FFFAFA\"> ##ar</span><span style=\"background-color: #FFF7F7\"> ##bo</span><span style=\"background-color: #FFFAFA\"> .</span><span style=\"background-color: #FFE9E9\"> First</span><span style=\"background-color: #FFF5F5\"> of</span><span style=\"background-color: #FFDDDD\"> all</span><br><br>[BERTのAttentionを可視化_7]<br><span style=\"background-color: #FFFEFE\"> [CLS]</span><span style=\"background-color: #FF8D8D\"> And</span><span style=\"background-color: #FF0101\"> with</span><span style=\"background-color: #FFEAEA\"> those</span><span style=\"background-color: #FFEEEE\"> words</span><span style=\"background-color: #FF7C7C\"> one</span><span style=\"background-color: #FFFEFE\"> of</span><span style=\"background-color: #FFFDFD\"> the</span><span style=\"background-color: #FFFDFD\"> great</span><span style=\"background-color: #FFFEFE\"> movie</span><span style=\"background-color: #FFFEFE\"> publicity</span><span style=\"background-color: #FFF8F8\"> campaigns</span><span style=\"background-color: #FF0000\"> came</span><span style=\"background-color: #FFE9E9\"> to</span><span style=\"background-color: #FFBBBB\"> a</span><span style=\"background-color: #FF4040\"> conclusion</span><span style=\"background-color: #FFFDFD\"> .</span><span style=\"background-color: #FFFEFE\"> G</span><span style=\"background-color: #FFFEFE\"> ##ar</span><span style=\"background-color: #FFFEFE\"> ##bo</span><span style=\"background-color: #FFF9F9\"> Talk</span><span style=\"background-color: #FFFAFA\"> ##s</span><span style=\"background-color: #FFFBFB\"> and</span><span style=\"background-color: #FFFCFC\"> she</span><span style=\"background-color: #FFFCFC\"> spoke</span><span style=\"background-color: #FFFDFD\"> those</span><span style=\"background-color: #FFFDFD\"> words</span><span style=\"background-color: #FFF9F9\"> in</span><span style=\"background-color: #FFFCFC\"> her</span><span style=\"background-color: #FFFCFC\"> first</span><span style=\"background-color: #FFFEFE\"> sound</span><span style=\"background-color: #FFE2E2\"> film</span><span style=\"background-color: #FFF3F3\"> ,</span><span style=\"background-color: #FFBABA\"> an</span><span style=\"background-color: #FFFEFE\"> adapt</span><span style=\"background-color: #FFDFDF\"> ##ion</span><span style=\"background-color: #FFFEFE\"> of</span><span style=\"background-color: #FFFEFE\"> the</span><span style=\"background-color: #FFFEFE\"> Eugene</span><span style=\"background-color: #FFFEFE\"> O</span><span style=\"background-color: #FFFEFE\"> Neil</span><span style=\"background-color: #FFFEFE\"> play</span><span style=\"background-color: #FFFEFE\"> Anna</span><span style=\"background-color: #FFFEFE\"> Christie</span><span style=\"background-color: #FFFEFE\"> .</span><span style=\"background-color: #FFFBFB\"> Unlike</span><span style=\"background-color: #FFFEFE\"> with</span><span style=\"background-color: #FFFEFE\"> some</span><span style=\"background-color: #FFFEFE\"> other</span><span style=\"background-color: #FFFEFE\"> players</span><span style=\"background-color: #FFFEFE\"> and</span><span style=\"background-color: #FFFEFE\"> some</span><span style=\"background-color: #FFFEFE\"> other</span><span style=\"background-color: #FFFEFE\"> studios</span><span style=\"background-color: #FFFEFE\"> ,</span><span style=\"background-color: #FFFCFC\"> MGM</span><span style=\"background-color: #FFEDED\"> took</span><span style=\"background-color: #FFC3C3\"> great</span><span style=\"background-color: #FFE9E9\"> care</span><span style=\"background-color: #FFFBFB\"> in</span><span style=\"background-color: #FFFEFE\"> finding</span><span style=\"background-color: #FFFEFE\"> the</span><span style=\"background-color: #FFFEFE\"> proper</span><span style=\"background-color: #FFFEFE\"> vehicle</span><span style=\"background-color: #FFFEFE\"> for</span><span style=\"background-color: #FFF7F7\"> G</span><span style=\"background-color: #FFFEFE\"> ##reta</span><span style=\"background-color: #FFF4F4\"> G</span><span style=\"background-color: #FFFEFE\"> ##ar</span><span style=\"background-color: #FFFDFD\"> ##bo</span><span style=\"background-color: #FFFEFE\"> .</span><span style=\"background-color: #FFFCFC\"> Many</span><span style=\"background-color: #FFFEFE\"> players</span><span style=\"background-color: #FFFEFE\"> who</span><span style=\"background-color: #FFFEFE\"> were</span><span style=\"background-color: #FFFEFE\"> fine</span><span style=\"background-color: #FFFEFE\"> in</span><span style=\"background-color: #FFFEFE\"> the</span><span style=\"background-color: #FFFEFE\"> universal</span><span style=\"background-color: #FFFEFE\"> medium</span><span style=\"background-color: #FFFEFE\"> of</span><span style=\"background-color: #FFFEFE\"> silent</span><span style=\"background-color: #FFFDFD\"> film</span><span style=\"background-color: #FFF5F5\"> would</span><span style=\"background-color: #FFFDFD\"> lose</span><span style=\"background-color: #FFFEFE\"> their</span><span style=\"background-color: #FFFEFE\"> careers</span><span style=\"background-color: #FFFEFE\"> because</span><span style=\"background-color: #FFFEFE\"> of</span><span style=\"background-color: #FFF6F6\"> talk</span><span style=\"background-color: #FFFCFC\"> ##ies</span><span style=\"background-color: #FFFEFE\"> .</span><span style=\"background-color: #FFFEFE\"> Their</span><span style=\"background-color: #FFFEFE\"> heavy</span><span style=\"background-color: #FFFEFE\"> native</span><span style=\"background-color: #FFFEFE\"> accent</span><span style=\"background-color: #FFFEFE\"> ##s</span><span style=\"background-color: #FFF9F9\"> would</span><span style=\"background-color: #FFFEFE\"> get</span><span style=\"background-color: #FFFEFE\"> in</span><span style=\"background-color: #FFFEFE\"> the</span><span style=\"background-color: #FFFEFE\"> way</span><span style=\"background-color: #FFFEFE\"> ,</span><span style=\"background-color: #FFFEFE\"> some</span><span style=\"background-color: #FFFEFE\"> didn</span><span style=\"background-color: #FFFEFE\"> t</span><span style=\"background-color: #FFFEFE\"> know</span><span style=\"background-color: #FFFEFE\"> any</span><span style=\"background-color: #FFFEFE\"> English</span><span style=\"background-color: #FFFEFE\"> .</span><span style=\"background-color: #FFDADA\"> It</span><span style=\"background-color: #FFF5F5\"> was</span><span style=\"background-color: #FFF5F5\"> no</span><span style=\"background-color: #FFE7E7\"> accident</span><span style=\"background-color: #FFFDFD\"> that</span><span style=\"background-color: #FFFEFE\"> Anna</span><span style=\"background-color: #FFFEFE\"> Christie</span><span style=\"background-color: #FFFEFE\"> was</span><span style=\"background-color: #FFFEFE\"> chosen</span><span style=\"background-color: #FFFEFE\"> for</span><span style=\"background-color: #FFFEFE\"> G</span><span style=\"background-color: #FFFEFE\"> ##ar</span><span style=\"background-color: #FFFEFE\"> ##bo</span><span style=\"background-color: #FFFEFE\"> .</span><span style=\"background-color: #FF8D8D\"> First</span><span style=\"background-color: #FFE1E1\"> of</span><span style=\"background-color: #FFF3F3\"> all</span><br><br>[BERTのAttentionを可視化_8]<br><span style=\"background-color: #FFFEFE\"> [CLS]</span><span style=\"background-color: #FFFEFE\"> And</span><span style=\"background-color: #FFFCFC\"> with</span><span style=\"background-color: #FFFEFE\"> those</span><span style=\"background-color: #FFFEFE\"> words</span><span style=\"background-color: #FFFDFD\"> one</span><span style=\"background-color: #FFFDFD\"> of</span><span style=\"background-color: #FFF9F9\"> the</span><span style=\"background-color: #FFF9F9\"> great</span><span style=\"background-color: #FFF4F4\"> movie</span><span style=\"background-color: #FFCACA\"> publicity</span><span style=\"background-color: #FFEEEE\"> campaigns</span><span style=\"background-color: #FFFBFB\"> came</span><span style=\"background-color: #FFFDFD\"> to</span><span style=\"background-color: #FFFDFD\"> a</span><span style=\"background-color: #FFFEFE\"> conclusion</span><span style=\"background-color: #FFFDFD\"> .</span><span style=\"background-color: #FFFEFE\"> G</span><span style=\"background-color: #FFFEFE\"> ##ar</span><span style=\"background-color: #FFFEFE\"> ##bo</span><span style=\"background-color: #FFFCFC\"> Talk</span><span style=\"background-color: #FFFDFD\"> ##s</span><span style=\"background-color: #FFFEFE\"> and</span><span style=\"background-color: #FFFDFD\"> she</span><span style=\"background-color: #FFFAFA\"> spoke</span><span style=\"background-color: #FFFEFE\"> those</span><span style=\"background-color: #FFFEFE\"> words</span><span style=\"background-color: #FFE3E3\"> in</span><span style=\"background-color: #FFFAFA\"> her</span><span style=\"background-color: #FFEAEA\"> first</span><span style=\"background-color: #FF0000\"> sound</span><span style=\"background-color: #FFB9B9\"> film</span><span style=\"background-color: #FFF8F8\"> ,</span><span style=\"background-color: #FFB4B4\"> an</span><span style=\"background-color: #FFF7F7\"> adapt</span><span style=\"background-color: #FFEDED\"> ##ion</span><span style=\"background-color: #FFFEFE\"> of</span><span style=\"background-color: #FFFDFD\"> the</span><span style=\"background-color: #FFFEFE\"> Eugene</span><span style=\"background-color: #FFFDFD\"> O</span><span style=\"background-color: #FFFEFE\"> Neil</span><span style=\"background-color: #FFFEFE\"> play</span><span style=\"background-color: #FFFEFE\"> Anna</span><span style=\"background-color: #FFFEFE\"> Christie</span><span style=\"background-color: #FFFEFE\"> .</span><span style=\"background-color: #FFFEFE\"> Unlike</span><span style=\"background-color: #FFFDFD\"> with</span><span style=\"background-color: #FFFEFE\"> some</span><span style=\"background-color: #FFFEFE\"> other</span><span style=\"background-color: #FFFBFB\"> players</span><span style=\"background-color: #FFFDFD\"> and</span><span style=\"background-color: #FFFCFC\"> some</span><span style=\"background-color: #FFFDFD\"> other</span><span style=\"background-color: #FFA7A7\"> studios</span><span style=\"background-color: #FFFEFE\"> ,</span><span style=\"background-color: #FFACAC\"> MGM</span><span style=\"background-color: #FFFEFE\"> took</span><span style=\"background-color: #FFFEFE\"> great</span><span style=\"background-color: #FFFEFE\"> care</span><span style=\"background-color: #FFFEFE\"> in</span><span style=\"background-color: #FFF1F1\"> finding</span><span style=\"background-color: #FFF3F3\"> the</span><span style=\"background-color: #FFFDFD\"> proper</span><span style=\"background-color: #FFFAFA\"> vehicle</span><span style=\"background-color: #FFF7F7\"> for</span><span style=\"background-color: #FFFEFE\"> G</span><span style=\"background-color: #FFFEFE\"> ##reta</span><span style=\"background-color: #FFFEFE\"> G</span><span style=\"background-color: #FFFEFE\"> ##ar</span><span style=\"background-color: #FFFEFE\"> ##bo</span><span style=\"background-color: #FFFEFE\"> .</span><span style=\"background-color: #FFFEFE\"> Many</span><span style=\"background-color: #FFFDFD\"> players</span><span style=\"background-color: #FFFEFE\"> who</span><span style=\"background-color: #FFFEFE\"> were</span><span style=\"background-color: #FFFEFE\"> fine</span><span style=\"background-color: #FFFDFD\"> in</span><span style=\"background-color: #FFFEFE\"> the</span><span style=\"background-color: #FFFEFE\"> universal</span><span style=\"background-color: #FFFDFD\"> medium</span><span style=\"background-color: #FFFCFC\"> of</span><span style=\"background-color: #FFFCFC\"> silent</span><span style=\"background-color: #FFFCFC\"> film</span><span style=\"background-color: #FFFEFE\"> would</span><span style=\"background-color: #FFF9F9\"> lose</span><span style=\"background-color: #FFF9F9\"> their</span><span style=\"background-color: #FFF2F2\"> careers</span><span style=\"background-color: #FFF7F7\"> because</span><span style=\"background-color: #FFF3F3\"> of</span><span style=\"background-color: #FFEFEF\"> talk</span><span style=\"background-color: #FFF8F8\"> ##ies</span><span style=\"background-color: #FFFEFE\"> .</span><span style=\"background-color: #FFFEFE\"> Their</span><span style=\"background-color: #FFFEFE\"> heavy</span><span style=\"background-color: #FFFDFD\"> native</span><span style=\"background-color: #FFFEFE\"> accent</span><span style=\"background-color: #FFFEFE\"> ##s</span><span style=\"background-color: #FFFEFE\"> would</span><span style=\"background-color: #FFFEFE\"> get</span><span style=\"background-color: #FFFEFE\"> in</span><span style=\"background-color: #FFFEFE\"> the</span><span style=\"background-color: #FFFEFE\"> way</span><span style=\"background-color: #FFFEFE\"> ,</span><span style=\"background-color: #FFFEFE\"> some</span><span style=\"background-color: #FFFEFE\"> didn</span><span style=\"background-color: #FFFEFE\"> t</span><span style=\"background-color: #FFFEFE\"> know</span><span style=\"background-color: #FFFEFE\"> any</span><span style=\"background-color: #FFFDFD\"> English</span><span style=\"background-color: #FFFEFE\"> .</span><span style=\"background-color: #FFFEFE\"> It</span><span style=\"background-color: #FFFEFE\"> was</span><span style=\"background-color: #FFFEFE\"> no</span><span style=\"background-color: #FFFEFE\"> accident</span><span style=\"background-color: #FFFEFE\"> that</span><span style=\"background-color: #FFFEFE\"> Anna</span><span style=\"background-color: #FFFEFE\"> Christie</span><span style=\"background-color: #FFFCFC\"> was</span><span style=\"background-color: #FFFAFA\"> chosen</span><span style=\"background-color: #FFF8F8\"> for</span><span style=\"background-color: #FFFEFE\"> G</span><span style=\"background-color: #FFFEFE\"> ##ar</span><span style=\"background-color: #FFFEFE\"> ##bo</span><span style=\"background-color: #FFFEFE\"> .</span><span style=\"background-color: #FFFEFE\"> First</span><span style=\"background-color: #FFFEFE\"> of</span><span style=\"background-color: #FFFEFE\"> all</span><br><br>[BERTのAttentionを可視化_9]<br><span style=\"background-color: #FFEBEB\"> [CLS]</span><span style=\"background-color: #FFE3E3\"> And</span><span style=\"background-color: #FFD7D7\"> with</span><span style=\"background-color: #FFF3F3\"> those</span><span style=\"background-color: #FFF4F4\"> words</span><span style=\"background-color: #FFD2D2\"> one</span><span style=\"background-color: #FFFCFC\"> of</span><span style=\"background-color: #FFF7F7\"> the</span><span style=\"background-color: #FFF5F5\"> great</span><span style=\"background-color: #FFFCFC\"> movie</span><span style=\"background-color: #FFF5F5\"> publicity</span><span style=\"background-color: #FFCECE\"> campaigns</span><span style=\"background-color: #FFDADA\"> came</span><span style=\"background-color: #FFD8D8\"> to</span><span style=\"background-color: #FFAEAE\"> a</span><span style=\"background-color: #FFE1E1\"> conclusion</span><span style=\"background-color: #FFFDFD\"> .</span><span style=\"background-color: #FFFEFE\"> G</span><span style=\"background-color: #FFF9F9\"> ##ar</span><span style=\"background-color: #FFFBFB\"> ##bo</span><span style=\"background-color: #FFEDED\"> Talk</span><span style=\"background-color: #FFFDFD\"> ##s</span><span style=\"background-color: #FFFEFE\"> and</span><span style=\"background-color: #FFF4F4\"> she</span><span style=\"background-color: #FFF7F7\"> spoke</span><span style=\"background-color: #FFF9F9\"> those</span><span style=\"background-color: #FFF6F6\"> words</span><span style=\"background-color: #FFE0E0\"> in</span><span style=\"background-color: #FFF9F9\"> her</span><span style=\"background-color: #FFD3D3\"> first</span><span style=\"background-color: #FFD9D9\"> sound</span><span style=\"background-color: #FFE9E9\"> film</span><span style=\"background-color: #FFEFEF\"> ,</span><span style=\"background-color: #FF7878\"> an</span><span style=\"background-color: #FFEEEE\"> adapt</span><span style=\"background-color: #FFE6E6\"> ##ion</span><span style=\"background-color: #FFFDFD\"> of</span><span style=\"background-color: #FFFAFA\"> the</span><span style=\"background-color: #FFFCFC\"> Eugene</span><span style=\"background-color: #FFFEFE\"> O</span><span style=\"background-color: #FFFEFE\"> Neil</span><span style=\"background-color: #FFFCFC\"> play</span><span style=\"background-color: #FFFBFB\"> Anna</span><span style=\"background-color: #FFFDFD\"> Christie</span><span style=\"background-color: #FFF3F3\"> .</span><span style=\"background-color: #FFF3F3\"> Unlike</span><span style=\"background-color: #FFF8F8\"> with</span><span style=\"background-color: #FFF9F9\"> some</span><span style=\"background-color: #FFF3F3\"> other</span><span style=\"background-color: #FFF5F5\"> players</span><span style=\"background-color: #FFFEFE\"> and</span><span style=\"background-color: #FFF9F9\"> some</span><span style=\"background-color: #FFE6E6\"> other</span><span style=\"background-color: #FF8C8C\"> studios</span><span style=\"background-color: #FFF0F0\"> ,</span><span style=\"background-color: #FF3B3B\"> MGM</span><span style=\"background-color: #FFD5D5\"> took</span><span style=\"background-color: #FFD3D3\"> great</span><span style=\"background-color: #FFF5F5\"> care</span><span style=\"background-color: #FFF8F8\"> in</span><span style=\"background-color: #FFE1E1\"> finding</span><span style=\"background-color: #FFEDED\"> the</span><span style=\"background-color: #FFD0D0\"> proper</span><span style=\"background-color: #FFE7E7\"> vehicle</span><span style=\"background-color: #FFF2F2\"> for</span><span style=\"background-color: #FFFDFD\"> G</span><span style=\"background-color: #FFFAFA\"> ##reta</span><span style=\"background-color: #FFFEFE\"> G</span><span style=\"background-color: #FFFCFC\"> ##ar</span><span style=\"background-color: #FFF9F9\"> ##bo</span><span style=\"background-color: #FFF5F5\"> .</span><span style=\"background-color: #FFEEEE\"> Many</span><span style=\"background-color: #FFE3E3\"> players</span><span style=\"background-color: #FFFCFC\"> who</span><span style=\"background-color: #FFFBFB\"> were</span><span style=\"background-color: #FFF3F3\"> fine</span><span style=\"background-color: #FFFDFD\"> in</span><span style=\"background-color: #FFF5F5\"> the</span><span style=\"background-color: #FFFAFA\"> universal</span><span style=\"background-color: #FFFBFB\"> medium</span><span style=\"background-color: #FFFDFD\"> of</span><span style=\"background-color: #FFE7E7\"> silent</span><span style=\"background-color: #FFF5F5\"> film</span><span style=\"background-color: #FFF9F9\"> would</span><span style=\"background-color: #FFF6F6\"> lose</span><span style=\"background-color: #FFFDFD\"> their</span><span style=\"background-color: #FFF6F6\"> careers</span><span style=\"background-color: #FFFBFB\"> because</span><span style=\"background-color: #FFFDFD\"> of</span><span style=\"background-color: #FFFBFB\"> talk</span><span style=\"background-color: #FFFCFC\"> ##ies</span><span style=\"background-color: #FFFEFE\"> .</span><span style=\"background-color: #FFFDFD\"> Their</span><span style=\"background-color: #FFFEFE\"> heavy</span><span style=\"background-color: #FFFEFE\"> native</span><span style=\"background-color: #FFF8F8\"> accent</span><span style=\"background-color: #FFFDFD\"> ##s</span><span style=\"background-color: #FFF9F9\"> would</span><span style=\"background-color: #FFF7F7\"> get</span><span style=\"background-color: #FFFCFC\"> in</span><span style=\"background-color: #FFF4F4\"> the</span><span style=\"background-color: #FFF8F8\"> way</span><span style=\"background-color: #FFF8F8\"> ,</span><span style=\"background-color: #FFF9F9\"> some</span><span style=\"background-color: #FFFBFB\"> didn</span><span style=\"background-color: #FFFCFC\"> t</span><span style=\"background-color: #FFFAFA\"> know</span><span style=\"background-color: #FFFAFA\"> any</span><span style=\"background-color: #FFFAFA\"> English</span><span style=\"background-color: #FFF3F3\"> .</span><span style=\"background-color: #FFE7E7\"> It</span><span style=\"background-color: #FFEBEB\"> was</span><span style=\"background-color: #FFB3B3\"> no</span><span style=\"background-color: #FFF0F0\"> accident</span><span style=\"background-color: #FFF4F4\"> that</span><span style=\"background-color: #FFF4F4\"> Anna</span><span style=\"background-color: #FFF9F9\"> Christie</span><span style=\"background-color: #FFF6F6\"> was</span><span style=\"background-color: #FF7D7D\"> chosen</span><span style=\"background-color: #FFD2D2\"> for</span><span style=\"background-color: #FFF8F8\"> G</span><span style=\"background-color: #FFECEC\"> ##ar</span><span style=\"background-color: #FFDFDF\"> ##bo</span><span style=\"background-color: #FFF5F5\"> .</span><span style=\"background-color: #FF0000\"> First</span><span style=\"background-color: #FFD3D3\"> of</span><span style=\"background-color: #FFD3D3\"> all</span><br><br>[BERTのAttentionを可視化_10]<br><span style=\"background-color: #FFECEC\"> [CLS]</span><span style=\"background-color: #FFD6D6\"> And</span><span style=\"background-color: #FFC8C8\"> with</span><span style=\"background-color: #FFA9A9\"> those</span><span style=\"background-color: #FFE4E4\"> words</span><span style=\"background-color: #FFE6E6\"> one</span><span style=\"background-color: #FF5E5E\"> of</span><span style=\"background-color: #FF4E4E\"> the</span><span style=\"background-color: #FFDCDC\"> great</span><span style=\"background-color: #FFD4D4\"> movie</span><span style=\"background-color: #FFEDED\"> publicity</span><span style=\"background-color: #FFD9D9\"> campaigns</span><span style=\"background-color: #FFD7D7\"> came</span><span style=\"background-color: #FF5D5D\"> to</span><span style=\"background-color: #FF3F3F\"> a</span><span style=\"background-color: #FFF5F5\"> conclusion</span><span style=\"background-color: #FFFAFA\"> .</span><span style=\"background-color: #FFF7F7\"> G</span><span style=\"background-color: #FFFEFE\"> ##ar</span><span style=\"background-color: #FFFBFB\"> ##bo</span><span style=\"background-color: #FFF9F9\"> Talk</span><span style=\"background-color: #FFEDED\"> ##s</span><span style=\"background-color: #FFF6F6\"> and</span><span style=\"background-color: #FFEBEB\"> she</span><span style=\"background-color: #FFF4F4\"> spoke</span><span style=\"background-color: #FFD9D9\"> those</span><span style=\"background-color: #FFF2F2\"> words</span><span style=\"background-color: #FF8080\"> in</span><span style=\"background-color: #FFD1D1\"> her</span><span style=\"background-color: #FFE3E3\"> first</span><span style=\"background-color: #FFE1E1\"> sound</span><span style=\"background-color: #FFE0E0\"> film</span><span style=\"background-color: #FFE9E9\"> ,</span><span style=\"background-color: #FF9F9F\"> an</span><span style=\"background-color: #FFFDFD\"> adapt</span><span style=\"background-color: #FF6D6D\"> ##ion</span><span style=\"background-color: #FF0000\"> of</span><span style=\"background-color: #FFC9C9\"> the</span><span style=\"background-color: #FFFBFB\"> Eugene</span><span style=\"background-color: #FFFDFD\"> O</span><span style=\"background-color: #FFFDFD\"> Neil</span><span style=\"background-color: #FFFDFD\"> play</span><span style=\"background-color: #FFFCFC\"> Anna</span><span style=\"background-color: #FFFDFD\"> Christie</span><span style=\"background-color: #FFF5F5\"> .</span><span style=\"background-color: #FFF6F6\"> Unlike</span><span style=\"background-color: #FFF9F9\"> with</span><span style=\"background-color: #FFF4F4\"> some</span><span style=\"background-color: #FFEFEF\"> other</span><span style=\"background-color: #FFFCFC\"> players</span><span style=\"background-color: #FFFBFB\"> and</span><span style=\"background-color: #FFEAEA\"> some</span><span style=\"background-color: #FFE3E3\"> other</span><span style=\"background-color: #FFDCDC\"> studios</span><span style=\"background-color: #FFFBFB\"> ,</span><span style=\"background-color: #FFCBCB\"> MGM</span><span style=\"background-color: #FFE8E8\"> took</span><span style=\"background-color: #FFE0E0\"> great</span><span style=\"background-color: #FFF6F6\"> care</span><span style=\"background-color: #FFCACA\"> in</span><span style=\"background-color: #FF9E9E\"> finding</span><span style=\"background-color: #FF0101\"> the</span><span style=\"background-color: #FFBCBC\"> proper</span><span style=\"background-color: #FFDFDF\"> vehicle</span><span style=\"background-color: #FF5252\"> for</span><span style=\"background-color: #FFEDED\"> G</span><span style=\"background-color: #FFF9F9\"> ##reta</span><span style=\"background-color: #FFF1F1\"> G</span><span style=\"background-color: #FFFBFB\"> ##ar</span><span style=\"background-color: #FFF6F6\"> ##bo</span><span style=\"background-color: #FFF6F6\"> .</span><span style=\"background-color: #FFF4F4\"> Many</span><span style=\"background-color: #FFFCFC\"> players</span><span style=\"background-color: #FFECEC\"> who</span><span style=\"background-color: #FFFAFA\"> were</span><span style=\"background-color: #FFF6F6\"> fine</span><span style=\"background-color: #FFE0E0\"> in</span><span style=\"background-color: #FFEEEE\"> the</span><span style=\"background-color: #FFE4E4\"> universal</span><span style=\"background-color: #FFEDED\"> medium</span><span style=\"background-color: #FFD2D2\"> of</span><span style=\"background-color: #FFFAFA\"> silent</span><span style=\"background-color: #FFECEC\"> film</span><span style=\"background-color: #FFFAFA\"> would</span><span style=\"background-color: #FFF0F0\"> lose</span><span style=\"background-color: #FFE5E5\"> their</span><span style=\"background-color: #FFEBEB\"> careers</span><span style=\"background-color: #FFEDED\"> because</span><span style=\"background-color: #FFE1E1\"> of</span><span style=\"background-color: #FFEBEB\"> talk</span><span style=\"background-color: #FFE4E4\"> ##ies</span><span style=\"background-color: #FFFEFE\"> .</span><span style=\"background-color: #FFFCFC\"> Their</span><span style=\"background-color: #FFFEFE\"> heavy</span><span style=\"background-color: #FFF6F6\"> native</span><span style=\"background-color: #FFFEFE\"> accent</span><span style=\"background-color: #FFFDFD\"> ##s</span><span style=\"background-color: #FFFCFC\"> would</span><span style=\"background-color: #FFFDFD\"> get</span><span style=\"background-color: #FFD3D3\"> in</span><span style=\"background-color: #FFEDED\"> the</span><span style=\"background-color: #FFF4F4\"> way</span><span style=\"background-color: #FFFEFE\"> ,</span><span style=\"background-color: #FFFDFD\"> some</span><span style=\"background-color: #FFF9F9\"> didn</span><span style=\"background-color: #FFD3D3\"> t</span><span style=\"background-color: #FFF6F6\"> know</span><span style=\"background-color: #FFD3D3\"> any</span><span style=\"background-color: #FFE7E7\"> English</span><span style=\"background-color: #FFF5F5\"> .</span><span style=\"background-color: #FFDADA\"> It</span><span style=\"background-color: #FFB4B4\"> was</span><span style=\"background-color: #FFD2D2\"> no</span><span style=\"background-color: #FFE4E4\"> accident</span><span style=\"background-color: #FFD5D5\"> that</span><span style=\"background-color: #FFE8E8\"> Anna</span><span style=\"background-color: #FFF8F8\"> Christie</span><span style=\"background-color: #FFCACA\"> was</span><span style=\"background-color: #FFECEC\"> chosen</span><span style=\"background-color: #FFB6B6\"> for</span><span style=\"background-color: #FFECEC\"> G</span><span style=\"background-color: #FFFBFB\"> ##ar</span><span style=\"background-color: #FFF7F7\"> ##bo</span><span style=\"background-color: #FFF6F6\"> .</span><span style=\"background-color: #FFD1D1\"> First</span><span style=\"background-color: #FF4343\"> of</span><span style=\"background-color: #FFC4C4\"> all</span><br><br>[BERTのAttentionを可視化_11]<br><span style=\"background-color: #FFFDFD\"> [CLS]</span><span style=\"background-color: #FFFEFE\"> And</span><span style=\"background-color: #FFFEFE\"> with</span><span style=\"background-color: #FFFEFE\"> those</span><span style=\"background-color: #FFFDFD\"> words</span><span style=\"background-color: #FFFEFE\"> one</span><span style=\"background-color: #FFFEFE\"> of</span><span style=\"background-color: #FFFEFE\"> the</span><span style=\"background-color: #FFFEFE\"> great</span><span style=\"background-color: #FFF2F2\"> movie</span><span style=\"background-color: #FFFCFC\"> publicity</span><span style=\"background-color: #FFFCFC\"> campaigns</span><span style=\"background-color: #FFFDFD\"> came</span><span style=\"background-color: #FFFEFE\"> to</span><span style=\"background-color: #FFFEFE\"> a</span><span style=\"background-color: #FFFCFC\"> conclusion</span><span style=\"background-color: #FFFEFE\"> .</span><span style=\"background-color: #FFFBFB\"> G</span><span style=\"background-color: #FFE8E8\"> ##ar</span><span style=\"background-color: #FFE2E2\"> ##bo</span><span style=\"background-color: #FFEBEB\"> Talk</span><span style=\"background-color: #FFFEFE\"> ##s</span><span style=\"background-color: #FFFEFE\"> and</span><span style=\"background-color: #FFF6F6\"> she</span><span style=\"background-color: #FFF9F9\"> spoke</span><span style=\"background-color: #FFFEFE\"> those</span><span style=\"background-color: #FFF8F8\"> words</span><span style=\"background-color: #FFFEFE\"> in</span><span style=\"background-color: #FFFBFB\"> her</span><span style=\"background-color: #FFFEFE\"> first</span><span style=\"background-color: #FFF8F8\"> sound</span><span style=\"background-color: #FFEDED\"> film</span><span style=\"background-color: #FFFEFE\"> ,</span><span style=\"background-color: #FFFEFE\"> an</span><span style=\"background-color: #FFF1F1\"> adapt</span><span style=\"background-color: #FFF7F7\"> ##ion</span><span style=\"background-color: #FFFEFE\"> of</span><span style=\"background-color: #FFFEFE\"> the</span><span style=\"background-color: #FFFEFE\"> Eugene</span><span style=\"background-color: #FFFDFD\"> O</span><span style=\"background-color: #FFFCFC\"> Neil</span><span style=\"background-color: #FFFAFA\"> play</span><span style=\"background-color: #FFF7F7\"> Anna</span><span style=\"background-color: #FFEEEE\"> Christie</span><span style=\"background-color: #FFF3F3\"> .</span><span style=\"background-color: #FFFEFE\"> Unlike</span><span style=\"background-color: #FFFEFE\"> with</span><span style=\"background-color: #FFFEFE\"> some</span><span style=\"background-color: #FFFDFD\"> other</span><span style=\"background-color: #FF9191\"> players</span><span style=\"background-color: #FFFEFE\"> and</span><span style=\"background-color: #FFFEFE\"> some</span><span style=\"background-color: #FFFDFD\"> other</span><span style=\"background-color: #FFEAEA\"> studios</span><span style=\"background-color: #FFFEFE\"> ,</span><span style=\"background-color: #FFE6E6\"> MGM</span><span style=\"background-color: #FFFCFC\"> took</span><span style=\"background-color: #FFFEFE\"> great</span><span style=\"background-color: #FFFAFA\"> care</span><span style=\"background-color: #FFFDFD\"> in</span><span style=\"background-color: #FFFCFC\"> finding</span><span style=\"background-color: #FFFDFD\"> the</span><span style=\"background-color: #FFFCFC\"> proper</span><span style=\"background-color: #FF9D9D\"> vehicle</span><span style=\"background-color: #FFF8F8\"> for</span><span style=\"background-color: #FFD6D6\"> G</span><span style=\"background-color: #FFE3E3\"> ##reta</span><span style=\"background-color: #FF9393\"> G</span><span style=\"background-color: #FF8F8F\"> ##ar</span><span style=\"background-color: #FF9696\"> ##bo</span><span style=\"background-color: #FFF6F6\"> .</span><span style=\"background-color: #FFFEFE\"> Many</span><span style=\"background-color: #FF3C3C\"> players</span><span style=\"background-color: #FFFEFE\"> who</span><span style=\"background-color: #FFFEFE\"> were</span><span style=\"background-color: #FFF8F8\"> fine</span><span style=\"background-color: #FFFBFB\"> in</span><span style=\"background-color: #FFFEFE\"> the</span><span style=\"background-color: #FFFAFA\"> universal</span><span style=\"background-color: #FFF6F6\"> medium</span><span style=\"background-color: #FFFDFD\"> of</span><span style=\"background-color: #FFFCFC\"> silent</span><span style=\"background-color: #FFECEC\"> film</span><span style=\"background-color: #FFFEFE\"> would</span><span style=\"background-color: #FFF4F4\"> lose</span><span style=\"background-color: #FFFEFE\"> their</span><span style=\"background-color: #FFF6F6\"> careers</span><span style=\"background-color: #FFF8F8\"> because</span><span style=\"background-color: #FFFAFA\"> of</span><span style=\"background-color: #FF0000\"> talk</span><span style=\"background-color: #FFE2E2\"> ##ies</span><span style=\"background-color: #FFFEFE\"> .</span><span style=\"background-color: #FFFDFD\"> Their</span><span style=\"background-color: #FFF7F7\"> heavy</span><span style=\"background-color: #FFF0F0\"> native</span><span style=\"background-color: #FFF8F8\"> accent</span><span style=\"background-color: #FFFEFE\"> ##s</span><span style=\"background-color: #FFFEFE\"> would</span><span style=\"background-color: #FFFCFC\"> get</span><span style=\"background-color: #FFFBFB\"> in</span><span style=\"background-color: #FFFCFC\"> the</span><span style=\"background-color: #FFF8F8\"> way</span><span style=\"background-color: #FFFEFE\"> ,</span><span style=\"background-color: #FFFCFC\"> some</span><span style=\"background-color: #FFFEFE\"> didn</span><span style=\"background-color: #FFFEFE\"> t</span><span style=\"background-color: #FFFDFD\"> know</span><span style=\"background-color: #FFFEFE\"> any</span><span style=\"background-color: #FFFBFB\"> English</span><span style=\"background-color: #FFF4F4\"> .</span><span style=\"background-color: #FFFEFE\"> It</span><span style=\"background-color: #FFFEFE\"> was</span><span style=\"background-color: #FFFEFE\"> no</span><span style=\"background-color: #FFF7F7\"> accident</span><span style=\"background-color: #FFFEFE\"> that</span><span style=\"background-color: #FFF1F1\"> Anna</span><span style=\"background-color: #FFDFDF\"> Christie</span><span style=\"background-color: #FFFCFC\"> was</span><span style=\"background-color: #FFD6D6\"> chosen</span><span style=\"background-color: #FFF1F1\"> for</span><span style=\"background-color: #FFF4F4\"> G</span><span style=\"background-color: #FFABAB\"> ##ar</span><span style=\"background-color: #FFE0E0\"> ##bo</span><span style=\"background-color: #FFF6F6\"> .</span><span style=\"background-color: #FFF8F8\"> First</span><span style=\"background-color: #FFFCFC\"> of</span><span style=\"background-color: #FFFCFC\"> all</span><br><br>[BERTのAttentionを可視化_12]<br><span style=\"background-color: #FFFDFD\"> [CLS]</span><span style=\"background-color: #FFFEFE\"> And</span><span style=\"background-color: #FFEBEB\"> with</span><span style=\"background-color: #FFFEFE\"> those</span><span style=\"background-color: #FFFEFE\"> words</span><span style=\"background-color: #FFFEFE\"> one</span><span style=\"background-color: #FFFEFE\"> of</span><span style=\"background-color: #FFFDFD\"> the</span><span style=\"background-color: #FFF9F9\"> great</span><span style=\"background-color: #FFFEFE\"> movie</span><span style=\"background-color: #FFFDFD\"> publicity</span><span style=\"background-color: #FFFEFE\"> campaigns</span><span style=\"background-color: #FFF5F5\"> came</span><span style=\"background-color: #FFFEFE\"> to</span><span style=\"background-color: #FFF4F4\"> a</span><span style=\"background-color: #FFFBFB\"> conclusion</span><span style=\"background-color: #FFFEFE\"> .</span><span style=\"background-color: #FFFEFE\"> G</span><span style=\"background-color: #FFFEFE\"> ##ar</span><span style=\"background-color: #FFFEFE\"> ##bo</span><span style=\"background-color: #FFFEFE\"> Talk</span><span style=\"background-color: #FFFEFE\"> ##s</span><span style=\"background-color: #FFFEFE\"> and</span><span style=\"background-color: #FFFEFE\"> she</span><span style=\"background-color: #FFFEFE\"> spoke</span><span style=\"background-color: #FFFEFE\"> those</span><span style=\"background-color: #FFFEFE\"> words</span><span style=\"background-color: #FFFDFD\"> in</span><span style=\"background-color: #FFFEFE\"> her</span><span style=\"background-color: #FFF9F9\"> first</span><span style=\"background-color: #FFFEFE\"> sound</span><span style=\"background-color: #FFFEFE\"> film</span><span style=\"background-color: #FFFEFE\"> ,</span><span style=\"background-color: #FFFEFE\"> an</span><span style=\"background-color: #FFFEFE\"> adapt</span><span style=\"background-color: #FFFEFE\"> ##ion</span><span style=\"background-color: #FFFEFE\"> of</span><span style=\"background-color: #FFFEFE\"> the</span><span style=\"background-color: #FFFEFE\"> Eugene</span><span style=\"background-color: #FFFEFE\"> O</span><span style=\"background-color: #FFFEFE\"> Neil</span><span style=\"background-color: #FFFEFE\"> play</span><span style=\"background-color: #FFFEFE\"> Anna</span><span style=\"background-color: #FFFEFE\"> Christie</span><span style=\"background-color: #FFFEFE\"> .</span><span style=\"background-color: #FFFEFE\"> Unlike</span><span style=\"background-color: #FFFEFE\"> with</span><span style=\"background-color: #FFFEFE\"> some</span><span style=\"background-color: #FFFEFE\"> other</span><span style=\"background-color: #FFFEFE\"> players</span><span style=\"background-color: #FFFEFE\"> and</span><span style=\"background-color: #FFFEFE\"> some</span><span style=\"background-color: #FFFDFD\"> other</span><span style=\"background-color: #FFFEFE\"> studios</span><span style=\"background-color: #FFFEFE\"> ,</span><span style=\"background-color: #FFFEFE\"> MGM</span><span style=\"background-color: #FFD3D3\"> took</span><span style=\"background-color: #FF0000\"> great</span><span style=\"background-color: #FFEDED\"> care</span><span style=\"background-color: #FFFCFC\"> in</span><span style=\"background-color: #FFEFEF\"> finding</span><span style=\"background-color: #FFF8F8\"> the</span><span style=\"background-color: #FFF8F8\"> proper</span><span style=\"background-color: #FFFEFE\"> vehicle</span><span style=\"background-color: #FFFEFE\"> for</span><span style=\"background-color: #FFFEFE\"> G</span><span style=\"background-color: #FFFEFE\"> ##reta</span><span style=\"background-color: #FFFEFE\"> G</span><span style=\"background-color: #FFFEFE\"> ##ar</span><span style=\"background-color: #FFFEFE\"> ##bo</span><span style=\"background-color: #FFFEFE\"> .</span><span style=\"background-color: #FFFEFE\"> Many</span><span style=\"background-color: #FFFEFE\"> players</span><span style=\"background-color: #FFFEFE\"> who</span><span style=\"background-color: #FFFEFE\"> were</span><span style=\"background-color: #FFFEFE\"> fine</span><span style=\"background-color: #FFFEFE\"> in</span><span style=\"background-color: #FFFEFE\"> the</span><span style=\"background-color: #FFFDFD\"> universal</span><span style=\"background-color: #FFFEFE\"> medium</span><span style=\"background-color: #FFFEFE\"> of</span><span style=\"background-color: #FFFEFE\"> silent</span><span style=\"background-color: #FFFEFE\"> film</span><span style=\"background-color: #FFFEFE\"> would</span><span style=\"background-color: #FFFEFE\"> lose</span><span style=\"background-color: #FFFEFE\"> their</span><span style=\"background-color: #FFFEFE\"> careers</span><span style=\"background-color: #FFFEFE\"> because</span><span style=\"background-color: #FFFEFE\"> of</span><span style=\"background-color: #FFFEFE\"> talk</span><span style=\"background-color: #FFFEFE\"> ##ies</span><span style=\"background-color: #FFFEFE\"> .</span><span style=\"background-color: #FFFEFE\"> Their</span><span style=\"background-color: #FFFEFE\"> heavy</span><span style=\"background-color: #FFFEFE\"> native</span><span style=\"background-color: #FFFEFE\"> accent</span><span style=\"background-color: #FFFEFE\"> ##s</span><span style=\"background-color: #FFFDFD\"> would</span><span style=\"background-color: #FFFEFE\"> get</span><span style=\"background-color: #FFFEFE\"> in</span><span style=\"background-color: #FFFEFE\"> the</span><span style=\"background-color: #FFFEFE\"> way</span><span style=\"background-color: #FFFEFE\"> ,</span><span style=\"background-color: #FFFEFE\"> some</span><span style=\"background-color: #FFFDFD\"> didn</span><span style=\"background-color: #FFF5F5\"> t</span><span style=\"background-color: #FFFEFE\"> know</span><span style=\"background-color: #FFFAFA\"> any</span><span style=\"background-color: #FFFEFE\"> English</span><span style=\"background-color: #FFFEFE\"> .</span><span style=\"background-color: #FFFDFD\"> It</span><span style=\"background-color: #FFF8F8\"> was</span><span style=\"background-color: #FFDEDE\"> no</span><span style=\"background-color: #FFFCFC\"> accident</span><span style=\"background-color: #FFFBFB\"> that</span><span style=\"background-color: #FFFEFE\"> Anna</span><span style=\"background-color: #FFFEFE\"> Christie</span><span style=\"background-color: #FFFEFE\"> was</span><span style=\"background-color: #FFFEFE\"> chosen</span><span style=\"background-color: #FFFEFE\"> for</span><span style=\"background-color: #FFFEFE\"> G</span><span style=\"background-color: #FFFEFE\"> ##ar</span><span style=\"background-color: #FFFEFE\"> ##bo</span><span style=\"background-color: #FFFEFE\"> .</span><span style=\"background-color: #FFFEFE\"> First</span><span style=\"background-color: #FFFEFE\"> of</span><span style=\"background-color: #FFFDFD\"> all</span><br><br>[BERTのAttentionを可視化_ALL]<br><span style=\"background-color: #FFE4E4\"> [CLS]</span><span style=\"background-color: #FFB0B0\"> And</span><span style=\"background-color: #FF5757\"> with</span><span style=\"background-color: #FFCFCF\"> those</span><span style=\"background-color: #FFDBDB\"> words</span><span style=\"background-color: #FFAFAF\"> one</span><span style=\"background-color: #FFCBCB\"> of</span><span style=\"background-color: #FFADAD\"> the</span><span style=\"background-color: #FF3D3D\"> great</span><span style=\"background-color: #FFE9E9\"> movie</span><span style=\"background-color: #FFE3E3\"> publicity</span><span style=\"background-color: #FFD1D1\"> campaigns</span><span style=\"background-color: #FF5353\"> came</span><span style=\"background-color: #FFBCBC\"> to</span><span style=\"background-color: #FF7373\"> a</span><span style=\"background-color: #FF6969\"> conclusion</span><span style=\"background-color: #FFF5F5\"> .</span><span style=\"background-color: #FFF8F8\"> G</span><span style=\"background-color: #FFF5F5\"> ##ar</span><span style=\"background-color: #FFEDED\"> ##bo</span><span style=\"background-color: #FFE4E4\"> Talk</span><span style=\"background-color: #FFECEC\"> ##s</span><span style=\"background-color: #FFAFAF\"> and</span><span style=\"background-color: #FFC5C5\"> she</span><span style=\"background-color: #FFDADA\"> spoke</span><span style=\"background-color: #FFEBEB\"> those</span><span style=\"background-color: #FFEAEA\"> words</span><span style=\"background-color: #FFBFBF\"> in</span><span style=\"background-color: #FFDBDB\"> her</span><span style=\"background-color: #FF2222\"> first</span><span style=\"background-color: #FF8A8A\"> sound</span><span style=\"background-color: #FFC7C7\"> film</span><span style=\"background-color: #FFE6E6\"> ,</span><span style=\"background-color: #FF8F8F\"> an</span><span style=\"background-color: #FFECEC\"> adapt</span><span style=\"background-color: #FFAFAF\"> ##ion</span><span style=\"background-color: #FFB5B5\"> of</span><span style=\"background-color: #FFEDED\"> the</span><span style=\"background-color: #FFFCFC\"> Eugene</span><span style=\"background-color: #FFFDFD\"> O</span><span style=\"background-color: #FFFDFD\"> Neil</span><span style=\"background-color: #FFFBFB\"> play</span><span style=\"background-color: #FFFAFA\"> Anna</span><span style=\"background-color: #FFF9F9\"> Christie</span><span style=\"background-color: #FFF1F1\"> .</span><span style=\"background-color: #FFF0F0\"> Unlike</span><span style=\"background-color: #FFF2F2\"> with</span><span style=\"background-color: #FFEDED\"> some</span><span style=\"background-color: #FFF0F0\"> other</span><span style=\"background-color: #FFCCCC\"> players</span><span style=\"background-color: #FFFBFB\"> and</span><span style=\"background-color: #FFEAEA\"> some</span><span style=\"background-color: #FFEBEB\"> other</span><span style=\"background-color: #FFA5A5\"> studios</span><span style=\"background-color: #FFD5D5\"> ,</span><span style=\"background-color: #FF5353\"> MGM</span><span style=\"background-color: #FF6262\"> took</span><span style=\"background-color: #FF1F1F\"> great</span><span style=\"background-color: #FF9B9B\"> care</span><span style=\"background-color: #FFE5E5\"> in</span><span style=\"background-color: #FFBABA\"> finding</span><span style=\"background-color: #FFA3A3\"> the</span><span style=\"background-color: #FFB8B8\"> proper</span><span style=\"background-color: #FFCDCD\"> vehicle</span><span style=\"background-color: #FFBEBE\"> for</span><span style=\"background-color: #FFE5E5\"> G</span><span style=\"background-color: #FFDFDF\"> ##reta</span><span style=\"background-color: #FFD7D7\"> G</span><span style=\"background-color: #FFDBDB\"> ##ar</span><span style=\"background-color: #FFD4D4\"> ##bo</span><span style=\"background-color: #FFF2F2\"> .</span><span style=\"background-color: #FFE7E7\"> Many</span><span style=\"background-color: #FFB6B6\"> players</span><span style=\"background-color: #FFF7F7\"> who</span><span style=\"background-color: #FFFAFA\"> were</span><span style=\"background-color: #FFD7D7\"> fine</span><span style=\"background-color: #FFF3F3\"> in</span><span style=\"background-color: #FFF5F5\"> the</span><span style=\"background-color: #FFD1D1\"> universal</span><span style=\"background-color: #FFEEEE\"> medium</span><span style=\"background-color: #FFEAEA\"> of</span><span style=\"background-color: #FFEBEB\"> silent</span><span style=\"background-color: #FFEDED\"> film</span><span style=\"background-color: #FFEFEF\"> would</span><span style=\"background-color: #FFE3E3\"> lose</span><span style=\"background-color: #FFF5F5\"> their</span><span style=\"background-color: #FFEFEF\"> careers</span><span style=\"background-color: #FFE7E7\"> because</span><span style=\"background-color: #FFEDED\"> of</span><span style=\"background-color: #FF9F9F\"> talk</span><span style=\"background-color: #FFCACA\"> ##ies</span><span style=\"background-color: #FFFBFB\"> .</span><span style=\"background-color: #FFF9F9\"> Their</span><span style=\"background-color: #FFF2F2\"> heavy</span><span style=\"background-color: #FFF5F5\"> native</span><span style=\"background-color: #FFFAFA\"> accent</span><span style=\"background-color: #FFFBFB\"> ##s</span><span style=\"background-color: #FFE5E5\"> would</span><span style=\"background-color: #FFEBEB\"> get</span><span style=\"background-color: #FFEBEB\"> in</span><span style=\"background-color: #FFE1E1\"> the</span><span style=\"background-color: #FFD3D3\"> way</span><span style=\"background-color: #FFF7F7\"> ,</span><span style=\"background-color: #FFD0D0\"> some</span><span style=\"background-color: #FFEEEE\"> didn</span><span style=\"background-color: #FFE1E1\"> t</span><span style=\"background-color: #FFF6F6\"> know</span><span style=\"background-color: #FFD7D7\"> any</span><span style=\"background-color: #FFF4F4\"> English</span><span style=\"background-color: #FFF1F1\"> .</span><span style=\"background-color: #FFCACA\"> It</span><span style=\"background-color: #FFC6C6\"> was</span><span style=\"background-color: #FF9595\"> no</span><span style=\"background-color: #FF6666\"> accident</span><span style=\"background-color: #FFE2E2\"> that</span><span style=\"background-color: #FFEEEE\"> Anna</span><span style=\"background-color: #FFF0F0\"> Christie</span><span style=\"background-color: #FFE7E7\"> was</span><span style=\"background-color: #FFB6B6\"> chosen</span><span style=\"background-color: #FFCBCB\"> for</span><span style=\"background-color: #FFEFEF\"> G</span><span style=\"background-color: #FFDADA\"> ##ar</span><span style=\"background-color: #FFDBDB\"> ##bo</span><span style=\"background-color: #FFF2F2\"> .</span><span style=\"background-color: #FF0000\"> First</span><span style=\"background-color: #FF8686\"> of</span><span style=\"background-color: #FFCACA\"> all</span><br><br>"
            ]
          },
          "metadata": {},
          "execution_count": 172
        }
      ]
    }
  ]
}