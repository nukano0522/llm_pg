{
  "nbformat": 4,
  "nbformat_minor": 0,
  "metadata": {
    "colab": {
      "provenance": [],
      "gpuType": "A100",
      "machine_shape": "hm",
      "mount_file_id": "https://github.com/nukano0522/pytorch/blob/master/livedoor_news_cls/bert_livedoor_with_peft_qlora_cls.ipynb",
      "authorship_tag": "ABX9TyMXAW59vuX0lwvPCADgv+UF",
      "include_colab_link": true
    },
    "kernelspec": {
      "name": "python3",
      "display_name": "Python 3"
    },
    "language_info": {
      "name": "python"
    },
    "accelerator": "GPU"
  },
  "cells": [
    {
      "cell_type": "markdown",
      "metadata": {
        "id": "view-in-github",
        "colab_type": "text"
      },
      "source": [
        "<a href=\"https://colab.research.google.com/github/nukano0522/pytorch/blob/master/livedoor_news_cls/bert_livedoor_with_peft_qlora_cls.ipynb\" target=\"_parent\"><img src=\"https://colab.research.google.com/assets/colab-badge.svg\" alt=\"Open In Colab\"/></a>"
      ]
    },
    {
      "cell_type": "markdown",
      "source": [
        "参考：https://colab.research.google.com/drive/1VoYNfYDKcKRQRor98Zbf2-9VQTtGJ24k?usp=sharing#scrollTo=Ybeyl20n3dYH"
      ],
      "metadata": {
        "id": "TIYfOA3KoxkT"
      }
    },
    {
      "cell_type": "code",
      "execution_count": 1,
      "metadata": {
        "id": "pXzNIRMz7KUh",
        "outputId": "6fb9581a-009f-4407-dd59-112ad4d24c61",
        "colab": {
          "base_uri": "https://localhost:8080/"
        }
      },
      "outputs": [
        {
          "output_type": "stream",
          "name": "stdout",
          "text": [
            "\u001b[2K     \u001b[90m━━━━━━━━━━━━━━━━━━━━━━━━━━━━━━━━━━━━━━━━\u001b[0m \u001b[32m47.4/47.4 MB\u001b[0m \u001b[31m33.1 MB/s\u001b[0m eta \u001b[36m0:00:00\u001b[0m\n",
            "\u001b[?25h  Preparing metadata (setup.py) ... \u001b[?25l\u001b[?25hdone\n",
            "  Building wheel for unidic_lite (setup.py) ... \u001b[?25l\u001b[?25hdone\n"
          ]
        }
      ],
      "source": [
        "! pip install -q transformers trl bitsandbytes peft accelerate bitsandbytes fugashi ipadic unidic_lite"
      ]
    },
    {
      "cell_type": "code",
      "source": [
        "# MODEL_ID = \"cl-tohoku/bert-base-japanese-whole-word-masking\"\n",
        "MODEL_ID = \"cl-tohoku/bert-base-japanese-v2\""
      ],
      "metadata": {
        "id": "6ABrmT-yv25O"
      },
      "execution_count": 1,
      "outputs": []
    },
    {
      "cell_type": "code",
      "source": [
        "import pandas as pd\n",
        "import os\n",
        "\n",
        "df = pd.read_csv(\"./drive/MyDrive/Colab_Notebooks/data/livedoor_text.csv\")\n",
        "# カテゴリーのID列を付与しておく\n",
        "categories = df['category'].unique().tolist()\n",
        "df.sample(3)\n"
      ],
      "metadata": {
        "colab": {
          "base_uri": "https://localhost:8080/",
          "height": 195
        },
        "id": "p4hVKJCC7jhz",
        "outputId": "3dd286cf-6d36-4873-e634-3a8246580b4c"
      },
      "execution_count": 2,
      "outputs": [
        {
          "output_type": "execute_result",
          "data": {
            "text/plain": [
              "                                                   text  category\n",
              "5503  　20日のACL（アジア・チャンピオンズリーグ）1次リーグにて、アデレードに0-2で完敗した...         7\n",
              "6102  　昨年5月「第64回カンヌ国際映画祭」でパルムドール（最高賞）に輝いた映画『ツリー・オブ・ラ...         4\n",
              "3924  ソニーのウォークマンのテレビCMに人気歌手の西野カナさんが出演している。冬の空気にぴったりな...         2"
            ],
            "text/html": [
              "\n",
              "  <div id=\"df-22e5120c-0c4d-45b8-b85d-a776fb4689d6\" class=\"colab-df-container\">\n",
              "    <div>\n",
              "<style scoped>\n",
              "    .dataframe tbody tr th:only-of-type {\n",
              "        vertical-align: middle;\n",
              "    }\n",
              "\n",
              "    .dataframe tbody tr th {\n",
              "        vertical-align: top;\n",
              "    }\n",
              "\n",
              "    .dataframe thead th {\n",
              "        text-align: right;\n",
              "    }\n",
              "</style>\n",
              "<table border=\"1\" class=\"dataframe\">\n",
              "  <thead>\n",
              "    <tr style=\"text-align: right;\">\n",
              "      <th></th>\n",
              "      <th>text</th>\n",
              "      <th>category</th>\n",
              "    </tr>\n",
              "  </thead>\n",
              "  <tbody>\n",
              "    <tr>\n",
              "      <th>5503</th>\n",
              "      <td>20日のACL（アジア・チャンピオンズリーグ）1次リーグにて、アデレードに0-2で完敗した...</td>\n",
              "      <td>7</td>\n",
              "    </tr>\n",
              "    <tr>\n",
              "      <th>6102</th>\n",
              "      <td>昨年5月「第64回カンヌ国際映画祭」でパルムドール（最高賞）に輝いた映画『ツリー・オブ・ラ...</td>\n",
              "      <td>4</td>\n",
              "    </tr>\n",
              "    <tr>\n",
              "      <th>3924</th>\n",
              "      <td>ソニーのウォークマンのテレビCMに人気歌手の西野カナさんが出演している。冬の空気にぴったりな...</td>\n",
              "      <td>2</td>\n",
              "    </tr>\n",
              "  </tbody>\n",
              "</table>\n",
              "</div>\n",
              "    <div class=\"colab-df-buttons\">\n",
              "\n",
              "  <div class=\"colab-df-container\">\n",
              "    <button class=\"colab-df-convert\" onclick=\"convertToInteractive('df-22e5120c-0c4d-45b8-b85d-a776fb4689d6')\"\n",
              "            title=\"Convert this dataframe to an interactive table.\"\n",
              "            style=\"display:none;\">\n",
              "\n",
              "  <svg xmlns=\"http://www.w3.org/2000/svg\" height=\"24px\" viewBox=\"0 -960 960 960\">\n",
              "    <path d=\"M120-120v-720h720v720H120Zm60-500h600v-160H180v160Zm220 220h160v-160H400v160Zm0 220h160v-160H400v160ZM180-400h160v-160H180v160Zm440 0h160v-160H620v160ZM180-180h160v-160H180v160Zm440 0h160v-160H620v160Z\"/>\n",
              "  </svg>\n",
              "    </button>\n",
              "\n",
              "  <style>\n",
              "    .colab-df-container {\n",
              "      display:flex;\n",
              "      gap: 12px;\n",
              "    }\n",
              "\n",
              "    .colab-df-convert {\n",
              "      background-color: #E8F0FE;\n",
              "      border: none;\n",
              "      border-radius: 50%;\n",
              "      cursor: pointer;\n",
              "      display: none;\n",
              "      fill: #1967D2;\n",
              "      height: 32px;\n",
              "      padding: 0 0 0 0;\n",
              "      width: 32px;\n",
              "    }\n",
              "\n",
              "    .colab-df-convert:hover {\n",
              "      background-color: #E2EBFA;\n",
              "      box-shadow: 0px 1px 2px rgba(60, 64, 67, 0.3), 0px 1px 3px 1px rgba(60, 64, 67, 0.15);\n",
              "      fill: #174EA6;\n",
              "    }\n",
              "\n",
              "    .colab-df-buttons div {\n",
              "      margin-bottom: 4px;\n",
              "    }\n",
              "\n",
              "    [theme=dark] .colab-df-convert {\n",
              "      background-color: #3B4455;\n",
              "      fill: #D2E3FC;\n",
              "    }\n",
              "\n",
              "    [theme=dark] .colab-df-convert:hover {\n",
              "      background-color: #434B5C;\n",
              "      box-shadow: 0px 1px 3px 1px rgba(0, 0, 0, 0.15);\n",
              "      filter: drop-shadow(0px 1px 2px rgba(0, 0, 0, 0.3));\n",
              "      fill: #FFFFFF;\n",
              "    }\n",
              "  </style>\n",
              "\n",
              "    <script>\n",
              "      const buttonEl =\n",
              "        document.querySelector('#df-22e5120c-0c4d-45b8-b85d-a776fb4689d6 button.colab-df-convert');\n",
              "      buttonEl.style.display =\n",
              "        google.colab.kernel.accessAllowed ? 'block' : 'none';\n",
              "\n",
              "      async function convertToInteractive(key) {\n",
              "        const element = document.querySelector('#df-22e5120c-0c4d-45b8-b85d-a776fb4689d6');\n",
              "        const dataTable =\n",
              "          await google.colab.kernel.invokeFunction('convertToInteractive',\n",
              "                                                    [key], {});\n",
              "        if (!dataTable) return;\n",
              "\n",
              "        const docLinkHtml = 'Like what you see? Visit the ' +\n",
              "          '<a target=\"_blank\" href=https://colab.research.google.com/notebooks/data_table.ipynb>data table notebook</a>'\n",
              "          + ' to learn more about interactive tables.';\n",
              "        element.innerHTML = '';\n",
              "        dataTable['output_type'] = 'display_data';\n",
              "        await google.colab.output.renderOutput(dataTable, element);\n",
              "        const docLink = document.createElement('div');\n",
              "        docLink.innerHTML = docLinkHtml;\n",
              "        element.appendChild(docLink);\n",
              "      }\n",
              "    </script>\n",
              "  </div>\n",
              "\n",
              "\n",
              "<div id=\"df-ba96f298-2701-44db-ae79-82ffd366b953\">\n",
              "  <button class=\"colab-df-quickchart\" onclick=\"quickchart('df-ba96f298-2701-44db-ae79-82ffd366b953')\"\n",
              "            title=\"Suggest charts.\"\n",
              "            style=\"display:none;\">\n",
              "\n",
              "<svg xmlns=\"http://www.w3.org/2000/svg\" height=\"24px\"viewBox=\"0 0 24 24\"\n",
              "     width=\"24px\">\n",
              "    <g>\n",
              "        <path d=\"M19 3H5c-1.1 0-2 .9-2 2v14c0 1.1.9 2 2 2h14c1.1 0 2-.9 2-2V5c0-1.1-.9-2-2-2zM9 17H7v-7h2v7zm4 0h-2V7h2v10zm4 0h-2v-4h2v4z\"/>\n",
              "    </g>\n",
              "</svg>\n",
              "  </button>\n",
              "\n",
              "<style>\n",
              "  .colab-df-quickchart {\n",
              "      --bg-color: #E8F0FE;\n",
              "      --fill-color: #1967D2;\n",
              "      --hover-bg-color: #E2EBFA;\n",
              "      --hover-fill-color: #174EA6;\n",
              "      --disabled-fill-color: #AAA;\n",
              "      --disabled-bg-color: #DDD;\n",
              "  }\n",
              "\n",
              "  [theme=dark] .colab-df-quickchart {\n",
              "      --bg-color: #3B4455;\n",
              "      --fill-color: #D2E3FC;\n",
              "      --hover-bg-color: #434B5C;\n",
              "      --hover-fill-color: #FFFFFF;\n",
              "      --disabled-bg-color: #3B4455;\n",
              "      --disabled-fill-color: #666;\n",
              "  }\n",
              "\n",
              "  .colab-df-quickchart {\n",
              "    background-color: var(--bg-color);\n",
              "    border: none;\n",
              "    border-radius: 50%;\n",
              "    cursor: pointer;\n",
              "    display: none;\n",
              "    fill: var(--fill-color);\n",
              "    height: 32px;\n",
              "    padding: 0;\n",
              "    width: 32px;\n",
              "  }\n",
              "\n",
              "  .colab-df-quickchart:hover {\n",
              "    background-color: var(--hover-bg-color);\n",
              "    box-shadow: 0 1px 2px rgba(60, 64, 67, 0.3), 0 1px 3px 1px rgba(60, 64, 67, 0.15);\n",
              "    fill: var(--button-hover-fill-color);\n",
              "  }\n",
              "\n",
              "  .colab-df-quickchart-complete:disabled,\n",
              "  .colab-df-quickchart-complete:disabled:hover {\n",
              "    background-color: var(--disabled-bg-color);\n",
              "    fill: var(--disabled-fill-color);\n",
              "    box-shadow: none;\n",
              "  }\n",
              "\n",
              "  .colab-df-spinner {\n",
              "    border: 2px solid var(--fill-color);\n",
              "    border-color: transparent;\n",
              "    border-bottom-color: var(--fill-color);\n",
              "    animation:\n",
              "      spin 1s steps(1) infinite;\n",
              "  }\n",
              "\n",
              "  @keyframes spin {\n",
              "    0% {\n",
              "      border-color: transparent;\n",
              "      border-bottom-color: var(--fill-color);\n",
              "      border-left-color: var(--fill-color);\n",
              "    }\n",
              "    20% {\n",
              "      border-color: transparent;\n",
              "      border-left-color: var(--fill-color);\n",
              "      border-top-color: var(--fill-color);\n",
              "    }\n",
              "    30% {\n",
              "      border-color: transparent;\n",
              "      border-left-color: var(--fill-color);\n",
              "      border-top-color: var(--fill-color);\n",
              "      border-right-color: var(--fill-color);\n",
              "    }\n",
              "    40% {\n",
              "      border-color: transparent;\n",
              "      border-right-color: var(--fill-color);\n",
              "      border-top-color: var(--fill-color);\n",
              "    }\n",
              "    60% {\n",
              "      border-color: transparent;\n",
              "      border-right-color: var(--fill-color);\n",
              "    }\n",
              "    80% {\n",
              "      border-color: transparent;\n",
              "      border-right-color: var(--fill-color);\n",
              "      border-bottom-color: var(--fill-color);\n",
              "    }\n",
              "    90% {\n",
              "      border-color: transparent;\n",
              "      border-bottom-color: var(--fill-color);\n",
              "    }\n",
              "  }\n",
              "</style>\n",
              "\n",
              "  <script>\n",
              "    async function quickchart(key) {\n",
              "      const quickchartButtonEl =\n",
              "        document.querySelector('#' + key + ' button');\n",
              "      quickchartButtonEl.disabled = true;  // To prevent multiple clicks.\n",
              "      quickchartButtonEl.classList.add('colab-df-spinner');\n",
              "      try {\n",
              "        const charts = await google.colab.kernel.invokeFunction(\n",
              "            'suggestCharts', [key], {});\n",
              "      } catch (error) {\n",
              "        console.error('Error during call to suggestCharts:', error);\n",
              "      }\n",
              "      quickchartButtonEl.classList.remove('colab-df-spinner');\n",
              "      quickchartButtonEl.classList.add('colab-df-quickchart-complete');\n",
              "    }\n",
              "    (() => {\n",
              "      let quickchartButtonEl =\n",
              "        document.querySelector('#df-ba96f298-2701-44db-ae79-82ffd366b953 button');\n",
              "      quickchartButtonEl.style.display =\n",
              "        google.colab.kernel.accessAllowed ? 'block' : 'none';\n",
              "    })();\n",
              "  </script>\n",
              "</div>\n",
              "    </div>\n",
              "  </div>\n"
            ]
          },
          "metadata": {},
          "execution_count": 2
        }
      ]
    },
    {
      "cell_type": "code",
      "source": [
        "from sklearn.model_selection import train_test_split\n",
        "\n",
        "train_df, eval_df = train_test_split(df, train_size=0.7)\n",
        "eval_df, test_df = train_test_split(eval_df, train_size=0.5)\n",
        "print('train size', train_df.shape)\n",
        "print('eval size', eval_df.shape)\n",
        "print('test size', test_df.shape)\n"
      ],
      "metadata": {
        "colab": {
          "base_uri": "https://localhost:8080/"
        },
        "id": "Hyd6v5eO9joV",
        "outputId": "bf25bc68-e945-4c35-8e2a-e93ecc3a024f"
      },
      "execution_count": 3,
      "outputs": [
        {
          "output_type": "stream",
          "name": "stdout",
          "text": [
            "train size (5156, 2)\n",
            "eval size (1105, 2)\n",
            "test size (1106, 2)\n"
          ]
        }
      ]
    },
    {
      "cell_type": "code",
      "source": [
        "from torch.utils.data import IterableDataset\n",
        "from tqdm import tqdm\n",
        "\n",
        "class LivedoorDataset(IterableDataset):\n",
        "    def __init__(self, df):\n",
        "        self.features = [\n",
        "            {\n",
        "                'title': row.text,\n",
        "                'labels': row.category\n",
        "            } for row in tqdm(df.itertuples(), total=df.shape[0])\n",
        "        ]\n",
        "\n",
        "    def __len__(self):\n",
        "        return len(self.features)\n",
        "\n",
        "    def __iter__(self):\n",
        "        return iter(self.features)\n",
        "\n",
        "train_dataset = LivedoorDataset(train_df)\n",
        "eval_dataset = LivedoorDataset(eval_df)\n",
        "test_dataset = LivedoorDataset(test_df)\n"
      ],
      "metadata": {
        "colab": {
          "base_uri": "https://localhost:8080/"
        },
        "id": "l9Q56x789p6I",
        "outputId": "b34b3686-58d8-4c39-d2dd-0ee5f5160073"
      },
      "execution_count": 4,
      "outputs": [
        {
          "output_type": "stream",
          "name": "stderr",
          "text": [
            "100%|██████████| 5156/5156 [00:00<00:00, 607603.71it/s]\n",
            "100%|██████████| 1105/1105 [00:00<00:00, 764172.45it/s]\n",
            "100%|██████████| 1106/1106 [00:00<00:00, 688877.37it/s]\n"
          ]
        }
      ]
    },
    {
      "cell_type": "code",
      "source": [
        "import torch\n",
        "from transformers import AutoTokenizer\n",
        "\n",
        "class LivedoorCollator():\n",
        "    def __init__(self, tokenizer, max_length=512):\n",
        "        self.tokenizer = tokenizer\n",
        "        self.max_length = max_length\n",
        "\n",
        "    def __call__(self, examples):\n",
        "        examples = {\n",
        "            'title': list(map(lambda x: x['title'], examples)),\n",
        "            'labels': list(map(lambda x: x['labels'], examples))\n",
        "        }\n",
        "\n",
        "        encodings = self.tokenizer(examples['title'],\n",
        "                                   padding=True,\n",
        "                                   truncation=True,\n",
        "                                   max_length=self.max_length,\n",
        "                                   return_tensors='pt')\n",
        "        encodings['labels'] = torch.tensor(examples['labels'])\n",
        "        return encodings\n",
        "\n",
        "tokenizer = AutoTokenizer.from_pretrained(MODEL_ID)\n",
        "livedoor_collator = LivedoorCollator(tokenizer)\n"
      ],
      "metadata": {
        "id": "1a83cm1B9tj8"
      },
      "execution_count": 5,
      "outputs": []
    },
    {
      "cell_type": "code",
      "source": [
        "import torch\n",
        "from transformers import AutoTokenizer, AutoModel, AutoModelForCausalLM, BitsAndBytesConfig\n",
        "\n",
        "bnb_config = BitsAndBytesConfig(\n",
        "    load_in_4bit=True,\n",
        "    bnb_4bit_use_double_quant=True,\n",
        "    bnb_4bit_quant_type=\"nf4\",\n",
        "    bnb_4bit_compute_dtype=torch.bfloat16\n",
        ")\n",
        "\n",
        "pretrained_model = AutoModel.from_pretrained(MODEL_ID, quantization_config=bnb_config, device_map={\"\":0})"
      ],
      "metadata": {
        "id": "d3qTB2kr9zHk"
      },
      "execution_count": 6,
      "outputs": []
    },
    {
      "cell_type": "code",
      "source": [
        "# パラメタ数\n",
        "sum(p.numel() for p in pretrained_model.parameters() if p.requires_grad)"
      ],
      "metadata": {
        "id": "MmiDTsjnvMcQ",
        "outputId": "15a1a47b-58c3-484a-ac1a-d9efbdece3c1",
        "colab": {
          "base_uri": "https://localhost:8080/"
        }
      },
      "execution_count": 7,
      "outputs": [
        {
          "output_type": "execute_result",
          "data": {
            "text/plain": [
              "26189568"
            ]
          },
          "metadata": {},
          "execution_count": 7
        }
      ]
    },
    {
      "cell_type": "code",
      "source": [
        "from peft import prepare_model_for_kbit_training\n",
        "\n",
        "pretrained_model.gradient_checkpointing_enable()\n",
        "pretrained_model = prepare_model_for_kbit_training(pretrained_model)"
      ],
      "metadata": {
        "id": "quJyeGRM-SQX"
      },
      "execution_count": 8,
      "outputs": []
    },
    {
      "cell_type": "code",
      "source": [
        "def print_trainable_parameters(model):\n",
        "    \"\"\"\n",
        "    Prints the number of trainable parameters in the model.\n",
        "    \"\"\"\n",
        "    trainable_params = 0\n",
        "    all_param = 0\n",
        "    for _, param in model.named_parameters():\n",
        "        all_param += param.numel()\n",
        "        if param.requires_grad:\n",
        "            trainable_params += param.numel()\n",
        "    print(\n",
        "        f\"trainable params: {trainable_params} || all params: {all_param} || trainable%: {100 * trainable_params / all_param}\"\n",
        "    )"
      ],
      "metadata": {
        "id": "6wpKlaei-i7W"
      },
      "execution_count": 9,
      "outputs": []
    },
    {
      "cell_type": "code",
      "source": [
        "from peft import LoraConfig, get_peft_model, TaskType\n",
        "\n",
        "config = LoraConfig(\n",
        "    task_type=TaskType.SEQ_CLS,\n",
        "    inference_mode=False,\n",
        "    r=16,\n",
        "    lora_alpha=32,\n",
        "    lora_dropout=0.1\n",
        ")\n",
        "\n",
        "model = get_peft_model(pretrained_model, config)\n",
        "print_trainable_parameters(model)"
      ],
      "metadata": {
        "colab": {
          "base_uri": "https://localhost:8080/"
        },
        "id": "SzlvgXT2-l-R",
        "outputId": "6a9da692-5bd0-4a29-dd00-1427e6de0d3c"
      },
      "execution_count": 10,
      "outputs": [
        {
          "output_type": "stream",
          "name": "stdout",
          "text": [
            "trainable params: 589824 || all params: 69329664 || trainable%: 0.8507527167591639\n"
          ]
        }
      ]
    },
    {
      "cell_type": "code",
      "source": [
        "import torch.nn as nn\n",
        "from transformers.modeling_outputs import ModelOutput\n",
        "\n",
        "class LivedoorNet(nn.Module):\n",
        "    def __init__(self, pretrained_model, num_categories, loss_function=None):\n",
        "        super().__init__()\n",
        "        self.bert = pretrained_model\n",
        "        self.hidden_size = self.bert.config.hidden_size\n",
        "        self.linear = nn.Linear(self.hidden_size, num_categories)\n",
        "        self.loss_function = loss_function\n",
        "\n",
        "    def forward(self,\n",
        "                input_ids,\n",
        "                attention_mask=None,\n",
        "                position_ids=None,\n",
        "                token_type_ids=None,\n",
        "                output_attentions=False,\n",
        "                output_hidden_states=False,\n",
        "                labels=None\n",
        "                ):\n",
        "\n",
        "        outputs = self.bert(input_ids,\n",
        "                            attention_mask=attention_mask,\n",
        "                            position_ids=position_ids,\n",
        "                            token_type_ids=token_type_ids,\n",
        "                            output_attentions=output_attentions,\n",
        "                            output_hidden_states=output_hidden_states)\n",
        "\n",
        "        state = outputs.last_hidden_state[:, 0, :]\n",
        "        state = self.linear(state)\n",
        "\n",
        "        loss=None\n",
        "        if labels is not None and self.loss_function is not None:\n",
        "            loss = self.loss_function(state, labels)\n",
        "\n",
        "        attentions=None\n",
        "        if output_attentions:\n",
        "            attentions=outputs.attentions\n",
        "\n",
        "        hidden_states=None\n",
        "        if output_hidden_states:\n",
        "            hidden_states=outputs.hidden_states\n",
        "\n",
        "        return ModelOutput(\n",
        "            logits=state,\n",
        "            loss=loss,\n",
        "            last_hidden_state=outputs.last_hidden_state,\n",
        "            attentions=attentions,\n",
        "            hidden_states=hidden_states\n",
        "        )\n",
        "\n",
        "loss_fct = nn.CrossEntropyLoss()\n",
        "net = LivedoorNet(model, len(categories), loss_fct)\n",
        "\n",
        "# if peft_use:\n",
        "#   from peft import get_peft_model\n",
        "#   from peft import LoraConfig, TaskType\n",
        "#   peft_config = LoraConfig(task_type=TaskType.SEQ_CLS, inference_mode=False, r=16, lora_alpha=32, lora_dropout=0.1)\n",
        "#   peft_pretrained_model = get_peft_model(pretrained_model, peft_config)\n",
        "#   peft_pretrained_model.print_trainable_parameters()\n",
        "\n",
        "#   net = LivedoorNet(peft_pretrained_model, len(categories), loss_fct)\n",
        "#   # peft_net = get_peft_model(net, peft_config)\n",
        "#   print(\"peft use\")"
      ],
      "metadata": {
        "id": "zeD80msm-_t-"
      },
      "execution_count": 11,
      "outputs": []
    },
    {
      "cell_type": "code",
      "source": [
        "net"
      ],
      "metadata": {
        "colab": {
          "base_uri": "https://localhost:8080/"
        },
        "id": "aILUBLxJ_UKy",
        "outputId": "d1178b01-c3c5-49b4-c806-c582b912c7a9"
      },
      "execution_count": 12,
      "outputs": [
        {
          "output_type": "execute_result",
          "data": {
            "text/plain": [
              "LivedoorNet(\n",
              "  (bert): PeftModelForSequenceClassification(\n",
              "    (base_model): LoraModel(\n",
              "      (model): BertModel(\n",
              "        (embeddings): BertEmbeddings(\n",
              "          (word_embeddings): Embedding(32768, 768, padding_idx=0)\n",
              "          (position_embeddings): Embedding(512, 768)\n",
              "          (token_type_embeddings): Embedding(2, 768)\n",
              "          (LayerNorm): LayerNorm((768,), eps=1e-12, elementwise_affine=True)\n",
              "          (dropout): Dropout(p=0.1, inplace=False)\n",
              "        )\n",
              "        (encoder): BertEncoder(\n",
              "          (layer): ModuleList(\n",
              "            (0-11): 12 x BertLayer(\n",
              "              (attention): BertAttention(\n",
              "                (self): BertSelfAttention(\n",
              "                  (query): Linear4bit(\n",
              "                    in_features=768, out_features=768, bias=True\n",
              "                    (lora_dropout): ModuleDict(\n",
              "                      (default): Dropout(p=0.1, inplace=False)\n",
              "                    )\n",
              "                    (lora_A): ModuleDict(\n",
              "                      (default): Linear(in_features=768, out_features=16, bias=False)\n",
              "                    )\n",
              "                    (lora_B): ModuleDict(\n",
              "                      (default): Linear(in_features=16, out_features=768, bias=False)\n",
              "                    )\n",
              "                    (lora_embedding_A): ParameterDict()\n",
              "                    (lora_embedding_B): ParameterDict()\n",
              "                  )\n",
              "                  (key): Linear4bit(in_features=768, out_features=768, bias=True)\n",
              "                  (value): Linear4bit(\n",
              "                    in_features=768, out_features=768, bias=True\n",
              "                    (lora_dropout): ModuleDict(\n",
              "                      (default): Dropout(p=0.1, inplace=False)\n",
              "                    )\n",
              "                    (lora_A): ModuleDict(\n",
              "                      (default): Linear(in_features=768, out_features=16, bias=False)\n",
              "                    )\n",
              "                    (lora_B): ModuleDict(\n",
              "                      (default): Linear(in_features=16, out_features=768, bias=False)\n",
              "                    )\n",
              "                    (lora_embedding_A): ParameterDict()\n",
              "                    (lora_embedding_B): ParameterDict()\n",
              "                  )\n",
              "                  (dropout): Dropout(p=0.1, inplace=False)\n",
              "                )\n",
              "                (output): BertSelfOutput(\n",
              "                  (dense): Linear4bit(in_features=768, out_features=768, bias=True)\n",
              "                  (LayerNorm): LayerNorm((768,), eps=1e-12, elementwise_affine=True)\n",
              "                  (dropout): Dropout(p=0.1, inplace=False)\n",
              "                )\n",
              "              )\n",
              "              (intermediate): BertIntermediate(\n",
              "                (dense): Linear4bit(in_features=768, out_features=3072, bias=True)\n",
              "                (intermediate_act_fn): GELUActivation()\n",
              "              )\n",
              "              (output): BertOutput(\n",
              "                (dense): Linear4bit(in_features=3072, out_features=768, bias=True)\n",
              "                (LayerNorm): LayerNorm((768,), eps=1e-12, elementwise_affine=True)\n",
              "                (dropout): Dropout(p=0.1, inplace=False)\n",
              "              )\n",
              "            )\n",
              "          )\n",
              "        )\n",
              "        (pooler): BertPooler(\n",
              "          (dense): Linear(in_features=768, out_features=768, bias=True)\n",
              "          (activation): Tanh()\n",
              "        )\n",
              "      )\n",
              "    )\n",
              "  )\n",
              "  (linear): Linear(in_features=768, out_features=9, bias=True)\n",
              "  (loss_function): CrossEntropyLoss()\n",
              ")"
            ]
          },
          "metadata": {},
          "execution_count": 12
        }
      ]
    },
    {
      "cell_type": "code",
      "source": [
        "from torch.utils.data import DataLoader\n",
        "loader = DataLoader(train_dataset, collate_fn=livedoor_collator, batch_size=4)\n",
        "batch = next(iter(loader))\n",
        "batch"
      ],
      "metadata": {
        "colab": {
          "base_uri": "https://localhost:8080/"
        },
        "id": "d1y-O6mg_1gE",
        "outputId": "ebdb12c2-4cb1-4cba-bbde-850d1a1b5486"
      },
      "execution_count": 13,
      "outputs": [
        {
          "output_type": "execute_result",
          "data": {
            "text/plain": [
              "{'input_ids': tensor([[    2, 12114,  4156,  ...,     0,     0,     0],\n",
              "        [    2, 12362, 11141,  ...,   828,  1343,     3],\n",
              "        [    2,   838, 22160,  ...,   828, 16889,     3],\n",
              "        [    2,   854, 27280,  ...,     0,     0,     0]]), 'token_type_ids': tensor([[0, 0, 0,  ..., 0, 0, 0],\n",
              "        [0, 0, 0,  ..., 0, 0, 0],\n",
              "        [0, 0, 0,  ..., 0, 0, 0],\n",
              "        [0, 0, 0,  ..., 0, 0, 0]]), 'attention_mask': tensor([[1, 1, 1,  ..., 0, 0, 0],\n",
              "        [1, 1, 1,  ..., 1, 1, 1],\n",
              "        [1, 1, 1,  ..., 1, 1, 1],\n",
              "        [1, 1, 1,  ..., 0, 0, 0]]), 'labels': tensor([8, 4, 0, 2])}"
            ]
          },
          "metadata": {},
          "execution_count": 13
        }
      ]
    },
    {
      "cell_type": "code",
      "source": [
        "# check\n",
        "## peft_model.pyの l732の「labels=labels」の行をコメントアウトしたら動いた（23/10/09時点）\n",
        "device = torch.device(\"cuda:0\" if torch.cuda.is_available() else \"cpu\")\n",
        "net.to(device)\n",
        "batch.to(device)\n",
        "res = net(**batch)\n",
        "# res\n"
      ],
      "metadata": {
        "id": "E5jsWM_Y_893"
      },
      "execution_count": 15,
      "outputs": []
    },
    {
      "cell_type": "code",
      "source": [
        "from transformers import EvalPrediction\n",
        "from typing import Dict\n",
        "from sklearn.metrics import precision_score, recall_score, f1_score\n",
        "\n",
        "def custom_compute_metrics(res: EvalPrediction) -> Dict:\n",
        "    # res.predictions, res.label_idsはnumpyのarray\n",
        "    pred = res.predictions.argmax(axis=1)\n",
        "    target = res.label_ids\n",
        "    precision = precision_score(target, pred, average='macro')\n",
        "    recall = recall_score(target, pred, average='macro')\n",
        "    f1 = f1_score(target, pred, average='macro')\n",
        "    return {\n",
        "        'precision': precision,\n",
        "        'recall': recall,\n",
        "        'f1': f1\n",
        "    }\n"
      ],
      "metadata": {
        "id": "G2hq6C-WAAkc"
      },
      "execution_count": 16,
      "outputs": []
    },
    {
      "cell_type": "code",
      "source": [
        "from transformers import TrainingArguments\n",
        "\n",
        "training_args = TrainingArguments(\n",
        "    output_dir='./output/model',\n",
        "    evaluation_strategy='epoch',\n",
        "    logging_strategy='epoch',\n",
        "    save_strategy='epoch',\n",
        "    save_total_limit=1,\n",
        "    label_names=['labels'],\n",
        "    lr_scheduler_type='constant',\n",
        "    metric_for_best_model='f1',\n",
        "    load_best_model_at_end=True,\n",
        "    per_device_train_batch_size=16,\n",
        "    per_device_eval_batch_size=16,\n",
        "    num_train_epochs=5,\n",
        "    remove_unused_columns=False,\n",
        "    report_to='none'\n",
        ")\n"
      ],
      "metadata": {
        "id": "22wv069DD80I"
      },
      "execution_count": 18,
      "outputs": []
    },
    {
      "cell_type": "code",
      "source": [
        "from transformers import Trainer\n",
        "from trl import SFTTrainer\n",
        "from transformers import EarlyStoppingCallback\n",
        "\n",
        "trainer = Trainer(\n",
        "    model=net,\n",
        "    # model=pretrained_model,\n",
        "    tokenizer=tokenizer,\n",
        "    data_collator=livedoor_collator,\n",
        "    compute_metrics=custom_compute_metrics,\n",
        "    args=training_args,\n",
        "    train_dataset=train_dataset,\n",
        "    eval_dataset=eval_dataset,\n",
        "    callbacks=[EarlyStoppingCallback(early_stopping_patience=3)]\n",
        ")\n",
        "\n",
        "trainer.train(ignore_keys_for_eval=['last_hidden_state', 'hidden_states', 'attentions'])\n"
      ],
      "metadata": {
        "colab": {
          "base_uri": "https://localhost:8080/",
          "height": 304
        },
        "id": "FcsO5X4wD-i8",
        "outputId": "cee9fcee-c452-4903-e390-dd5cf36a29d0"
      },
      "execution_count": 19,
      "outputs": [
        {
          "output_type": "display_data",
          "data": {
            "text/plain": [
              "<IPython.core.display.HTML object>"
            ],
            "text/html": [
              "\n",
              "    <div>\n",
              "      \n",
              "      <progress value='1615' max='1615' style='width:300px; height:20px; vertical-align: middle;'></progress>\n",
              "      [1615/1615 14:04, Epoch 5/5]\n",
              "    </div>\n",
              "    <table border=\"1\" class=\"dataframe\">\n",
              "  <thead>\n",
              " <tr style=\"text-align: left;\">\n",
              "      <th>Epoch</th>\n",
              "      <th>Training Loss</th>\n",
              "      <th>Validation Loss</th>\n",
              "      <th>Precision</th>\n",
              "      <th>Recall</th>\n",
              "      <th>F1</th>\n",
              "    </tr>\n",
              "  </thead>\n",
              "  <tbody>\n",
              "    <tr>\n",
              "      <td>1</td>\n",
              "      <td>1.392500</td>\n",
              "      <td>0.687823</td>\n",
              "      <td>0.789424</td>\n",
              "      <td>0.768568</td>\n",
              "      <td>0.757081</td>\n",
              "    </tr>\n",
              "    <tr>\n",
              "      <td>2</td>\n",
              "      <td>0.565100</td>\n",
              "      <td>0.468955</td>\n",
              "      <td>0.844927</td>\n",
              "      <td>0.830893</td>\n",
              "      <td>0.829480</td>\n",
              "    </tr>\n",
              "    <tr>\n",
              "      <td>3</td>\n",
              "      <td>0.415500</td>\n",
              "      <td>0.394244</td>\n",
              "      <td>0.878628</td>\n",
              "      <td>0.869847</td>\n",
              "      <td>0.870374</td>\n",
              "    </tr>\n",
              "    <tr>\n",
              "      <td>4</td>\n",
              "      <td>0.335900</td>\n",
              "      <td>0.352277</td>\n",
              "      <td>0.890801</td>\n",
              "      <td>0.885131</td>\n",
              "      <td>0.885204</td>\n",
              "    </tr>\n",
              "    <tr>\n",
              "      <td>5</td>\n",
              "      <td>0.282400</td>\n",
              "      <td>0.325661</td>\n",
              "      <td>0.894373</td>\n",
              "      <td>0.891995</td>\n",
              "      <td>0.891575</td>\n",
              "    </tr>\n",
              "  </tbody>\n",
              "</table><p>"
            ]
          },
          "metadata": {}
        },
        {
          "output_type": "execute_result",
          "data": {
            "text/plain": [
              "TrainOutput(global_step=1615, training_loss=0.5982979789237858, metrics={'train_runtime': 844.6253, 'train_samples_per_second': 30.522, 'train_steps_per_second': 1.912, 'total_flos': 0.0, 'train_loss': 0.5982979789237858, 'epoch': 5.0})"
            ]
          },
          "metadata": {},
          "execution_count": 19
        }
      ]
    },
    {
      "cell_type": "code",
      "source": [
        "pred_result = trainer.predict(test_dataset, ignore_keys=['loss', 'last_hidden_state', 'hidden_states', 'attentions'])\n",
        "test_df['predict'] = pred_result.predictions.argmax(axis=1).tolist()\n",
        "\n",
        "from sklearn.metrics import classification_report\n",
        "print(classification_report(test_df['category'], test_df['predict']))"
      ],
      "metadata": {
        "id": "56G4gFkSEAMT",
        "outputId": "9f9b32b5-293e-48a0-ecad-25cd4dceecc4",
        "colab": {
          "base_uri": "https://localhost:8080/",
          "height": 305
        }
      },
      "execution_count": 20,
      "outputs": [
        {
          "output_type": "display_data",
          "data": {
            "text/plain": [
              "<IPython.core.display.HTML object>"
            ],
            "text/html": []
          },
          "metadata": {}
        },
        {
          "output_type": "stream",
          "name": "stdout",
          "text": [
            "              precision    recall  f1-score   support\n",
            "\n",
            "           0       0.90      0.89      0.90       127\n",
            "           1       0.89      0.88      0.89       129\n",
            "           2       0.94      0.81      0.87       133\n",
            "           3       0.78      0.73      0.75        81\n",
            "           4       0.88      0.98      0.93       125\n",
            "           5       0.87      0.92      0.90       140\n",
            "           6       0.94      0.97      0.95       122\n",
            "           7       0.98      0.98      0.98       146\n",
            "           8       0.95      0.96      0.96       103\n",
            "\n",
            "    accuracy                           0.91      1106\n",
            "   macro avg       0.90      0.90      0.90      1106\n",
            "weighted avg       0.91      0.91      0.91      1106\n",
            "\n"
          ]
        }
      ]
    }
  ]
}