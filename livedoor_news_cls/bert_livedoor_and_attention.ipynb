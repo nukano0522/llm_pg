{
  "nbformat": 4,
  "nbformat_minor": 0,
  "metadata": {
    "colab": {
      "name": "bert_livedoor.ipynb",
      "provenance": [],
      "collapsed_sections": [],
      "machine_shape": "hm",
      "mount_file_id": "https://github.com/nukano0522/pytorch/blob/master/livedoor_news_cls/bert_livedoor_and_attention.ipynb",
      "authorship_tag": "ABX9TyPw+WMcHQknlcBFfFChsvJY"
    },
    "kernelspec": {
      "name": "python3",
      "display_name": "Python 3"
    },
    "language_info": {
      "name": "python"
    },
    "accelerator": "GPU",
    "gpuClass": "standard",
    "widgets": {
      "application/vnd.jupyter.widget-state+json": {
        "fbe47c16e57d4c16a469814a60e9ae4a": {
          "model_module": "@jupyter-widgets/controls",
          "model_name": "HBoxModel",
          "model_module_version": "1.5.0",
          "state": {
            "_dom_classes": [],
            "_model_module": "@jupyter-widgets/controls",
            "_model_module_version": "1.5.0",
            "_model_name": "HBoxModel",
            "_view_count": null,
            "_view_module": "@jupyter-widgets/controls",
            "_view_module_version": "1.5.0",
            "_view_name": "HBoxView",
            "box_style": "",
            "children": [
              "IPY_MODEL_b2f38c98fdbc46b2b2a8c7c567c433a4",
              "IPY_MODEL_0019f5679b1c4b4c897d9bd5a6315084",
              "IPY_MODEL_a0e90d7e34ab494892330888b59de8e0"
            ],
            "layout": "IPY_MODEL_8120740bd2ae4a60a7a34b9e2275242f"
          }
        },
        "b2f38c98fdbc46b2b2a8c7c567c433a4": {
          "model_module": "@jupyter-widgets/controls",
          "model_name": "HTMLModel",
          "model_module_version": "1.5.0",
          "state": {
            "_dom_classes": [],
            "_model_module": "@jupyter-widgets/controls",
            "_model_module_version": "1.5.0",
            "_model_name": "HTMLModel",
            "_view_count": null,
            "_view_module": "@jupyter-widgets/controls",
            "_view_module_version": "1.5.0",
            "_view_name": "HTMLView",
            "description": "",
            "description_tooltip": null,
            "layout": "IPY_MODEL_cb2f701789c1444daa4bb575a7a21210",
            "placeholder": "​",
            "style": "IPY_MODEL_f810174e3ecb4d87a545c6f497e28624",
            "value": "Downloading: 100%"
          }
        },
        "0019f5679b1c4b4c897d9bd5a6315084": {
          "model_module": "@jupyter-widgets/controls",
          "model_name": "FloatProgressModel",
          "model_module_version": "1.5.0",
          "state": {
            "_dom_classes": [],
            "_model_module": "@jupyter-widgets/controls",
            "_model_module_version": "1.5.0",
            "_model_name": "FloatProgressModel",
            "_view_count": null,
            "_view_module": "@jupyter-widgets/controls",
            "_view_module_version": "1.5.0",
            "_view_name": "ProgressView",
            "bar_style": "success",
            "description": "",
            "description_tooltip": null,
            "layout": "IPY_MODEL_bb2c3ec449914c37bce7efe43a9853cf",
            "max": 257706,
            "min": 0,
            "orientation": "horizontal",
            "style": "IPY_MODEL_281b044886ce4a589c81be585d22cef8",
            "value": 257706
          }
        },
        "a0e90d7e34ab494892330888b59de8e0": {
          "model_module": "@jupyter-widgets/controls",
          "model_name": "HTMLModel",
          "model_module_version": "1.5.0",
          "state": {
            "_dom_classes": [],
            "_model_module": "@jupyter-widgets/controls",
            "_model_module_version": "1.5.0",
            "_model_name": "HTMLModel",
            "_view_count": null,
            "_view_module": "@jupyter-widgets/controls",
            "_view_module_version": "1.5.0",
            "_view_name": "HTMLView",
            "description": "",
            "description_tooltip": null,
            "layout": "IPY_MODEL_30deb7defbbf48f380b544ec2ac4e324",
            "placeholder": "​",
            "style": "IPY_MODEL_f6d4f53ea9694804a8c1473c2714b144",
            "value": " 258k/258k [00:00&lt;00:00, 2.62MB/s]"
          }
        },
        "8120740bd2ae4a60a7a34b9e2275242f": {
          "model_module": "@jupyter-widgets/base",
          "model_name": "LayoutModel",
          "model_module_version": "1.2.0",
          "state": {
            "_model_module": "@jupyter-widgets/base",
            "_model_module_version": "1.2.0",
            "_model_name": "LayoutModel",
            "_view_count": null,
            "_view_module": "@jupyter-widgets/base",
            "_view_module_version": "1.2.0",
            "_view_name": "LayoutView",
            "align_content": null,
            "align_items": null,
            "align_self": null,
            "border": null,
            "bottom": null,
            "display": null,
            "flex": null,
            "flex_flow": null,
            "grid_area": null,
            "grid_auto_columns": null,
            "grid_auto_flow": null,
            "grid_auto_rows": null,
            "grid_column": null,
            "grid_gap": null,
            "grid_row": null,
            "grid_template_areas": null,
            "grid_template_columns": null,
            "grid_template_rows": null,
            "height": null,
            "justify_content": null,
            "justify_items": null,
            "left": null,
            "margin": null,
            "max_height": null,
            "max_width": null,
            "min_height": null,
            "min_width": null,
            "object_fit": null,
            "object_position": null,
            "order": null,
            "overflow": null,
            "overflow_x": null,
            "overflow_y": null,
            "padding": null,
            "right": null,
            "top": null,
            "visibility": null,
            "width": null
          }
        },
        "cb2f701789c1444daa4bb575a7a21210": {
          "model_module": "@jupyter-widgets/base",
          "model_name": "LayoutModel",
          "model_module_version": "1.2.0",
          "state": {
            "_model_module": "@jupyter-widgets/base",
            "_model_module_version": "1.2.0",
            "_model_name": "LayoutModel",
            "_view_count": null,
            "_view_module": "@jupyter-widgets/base",
            "_view_module_version": "1.2.0",
            "_view_name": "LayoutView",
            "align_content": null,
            "align_items": null,
            "align_self": null,
            "border": null,
            "bottom": null,
            "display": null,
            "flex": null,
            "flex_flow": null,
            "grid_area": null,
            "grid_auto_columns": null,
            "grid_auto_flow": null,
            "grid_auto_rows": null,
            "grid_column": null,
            "grid_gap": null,
            "grid_row": null,
            "grid_template_areas": null,
            "grid_template_columns": null,
            "grid_template_rows": null,
            "height": null,
            "justify_content": null,
            "justify_items": null,
            "left": null,
            "margin": null,
            "max_height": null,
            "max_width": null,
            "min_height": null,
            "min_width": null,
            "object_fit": null,
            "object_position": null,
            "order": null,
            "overflow": null,
            "overflow_x": null,
            "overflow_y": null,
            "padding": null,
            "right": null,
            "top": null,
            "visibility": null,
            "width": null
          }
        },
        "f810174e3ecb4d87a545c6f497e28624": {
          "model_module": "@jupyter-widgets/controls",
          "model_name": "DescriptionStyleModel",
          "model_module_version": "1.5.0",
          "state": {
            "_model_module": "@jupyter-widgets/controls",
            "_model_module_version": "1.5.0",
            "_model_name": "DescriptionStyleModel",
            "_view_count": null,
            "_view_module": "@jupyter-widgets/base",
            "_view_module_version": "1.2.0",
            "_view_name": "StyleView",
            "description_width": ""
          }
        },
        "bb2c3ec449914c37bce7efe43a9853cf": {
          "model_module": "@jupyter-widgets/base",
          "model_name": "LayoutModel",
          "model_module_version": "1.2.0",
          "state": {
            "_model_module": "@jupyter-widgets/base",
            "_model_module_version": "1.2.0",
            "_model_name": "LayoutModel",
            "_view_count": null,
            "_view_module": "@jupyter-widgets/base",
            "_view_module_version": "1.2.0",
            "_view_name": "LayoutView",
            "align_content": null,
            "align_items": null,
            "align_self": null,
            "border": null,
            "bottom": null,
            "display": null,
            "flex": null,
            "flex_flow": null,
            "grid_area": null,
            "grid_auto_columns": null,
            "grid_auto_flow": null,
            "grid_auto_rows": null,
            "grid_column": null,
            "grid_gap": null,
            "grid_row": null,
            "grid_template_areas": null,
            "grid_template_columns": null,
            "grid_template_rows": null,
            "height": null,
            "justify_content": null,
            "justify_items": null,
            "left": null,
            "margin": null,
            "max_height": null,
            "max_width": null,
            "min_height": null,
            "min_width": null,
            "object_fit": null,
            "object_position": null,
            "order": null,
            "overflow": null,
            "overflow_x": null,
            "overflow_y": null,
            "padding": null,
            "right": null,
            "top": null,
            "visibility": null,
            "width": null
          }
        },
        "281b044886ce4a589c81be585d22cef8": {
          "model_module": "@jupyter-widgets/controls",
          "model_name": "ProgressStyleModel",
          "model_module_version": "1.5.0",
          "state": {
            "_model_module": "@jupyter-widgets/controls",
            "_model_module_version": "1.5.0",
            "_model_name": "ProgressStyleModel",
            "_view_count": null,
            "_view_module": "@jupyter-widgets/base",
            "_view_module_version": "1.2.0",
            "_view_name": "StyleView",
            "bar_color": null,
            "description_width": ""
          }
        },
        "30deb7defbbf48f380b544ec2ac4e324": {
          "model_module": "@jupyter-widgets/base",
          "model_name": "LayoutModel",
          "model_module_version": "1.2.0",
          "state": {
            "_model_module": "@jupyter-widgets/base",
            "_model_module_version": "1.2.0",
            "_model_name": "LayoutModel",
            "_view_count": null,
            "_view_module": "@jupyter-widgets/base",
            "_view_module_version": "1.2.0",
            "_view_name": "LayoutView",
            "align_content": null,
            "align_items": null,
            "align_self": null,
            "border": null,
            "bottom": null,
            "display": null,
            "flex": null,
            "flex_flow": null,
            "grid_area": null,
            "grid_auto_columns": null,
            "grid_auto_flow": null,
            "grid_auto_rows": null,
            "grid_column": null,
            "grid_gap": null,
            "grid_row": null,
            "grid_template_areas": null,
            "grid_template_columns": null,
            "grid_template_rows": null,
            "height": null,
            "justify_content": null,
            "justify_items": null,
            "left": null,
            "margin": null,
            "max_height": null,
            "max_width": null,
            "min_height": null,
            "min_width": null,
            "object_fit": null,
            "object_position": null,
            "order": null,
            "overflow": null,
            "overflow_x": null,
            "overflow_y": null,
            "padding": null,
            "right": null,
            "top": null,
            "visibility": null,
            "width": null
          }
        },
        "f6d4f53ea9694804a8c1473c2714b144": {
          "model_module": "@jupyter-widgets/controls",
          "model_name": "DescriptionStyleModel",
          "model_module_version": "1.5.0",
          "state": {
            "_model_module": "@jupyter-widgets/controls",
            "_model_module_version": "1.5.0",
            "_model_name": "DescriptionStyleModel",
            "_view_count": null,
            "_view_module": "@jupyter-widgets/base",
            "_view_module_version": "1.2.0",
            "_view_name": "StyleView",
            "description_width": ""
          }
        },
        "0b4af58669f74a638789855e85a49156": {
          "model_module": "@jupyter-widgets/controls",
          "model_name": "HBoxModel",
          "model_module_version": "1.5.0",
          "state": {
            "_dom_classes": [],
            "_model_module": "@jupyter-widgets/controls",
            "_model_module_version": "1.5.0",
            "_model_name": "HBoxModel",
            "_view_count": null,
            "_view_module": "@jupyter-widgets/controls",
            "_view_module_version": "1.5.0",
            "_view_name": "HBoxView",
            "box_style": "",
            "children": [
              "IPY_MODEL_c1df0bb1cb7b48d28d6969b30d0efa99",
              "IPY_MODEL_f06363c4b5724c5ca90d8bc5812105d0",
              "IPY_MODEL_469c1e2400b340c1b8b7a72bd94c9525"
            ],
            "layout": "IPY_MODEL_b26a42327e834e9bbbe31f07c9f7f511"
          }
        },
        "c1df0bb1cb7b48d28d6969b30d0efa99": {
          "model_module": "@jupyter-widgets/controls",
          "model_name": "HTMLModel",
          "model_module_version": "1.5.0",
          "state": {
            "_dom_classes": [],
            "_model_module": "@jupyter-widgets/controls",
            "_model_module_version": "1.5.0",
            "_model_name": "HTMLModel",
            "_view_count": null,
            "_view_module": "@jupyter-widgets/controls",
            "_view_module_version": "1.5.0",
            "_view_name": "HTMLView",
            "description": "",
            "description_tooltip": null,
            "layout": "IPY_MODEL_9b7e00877d4b48f581ec4c11a6d06812",
            "placeholder": "​",
            "style": "IPY_MODEL_da1922f0cded4d2887fe781b312d3272",
            "value": "Downloading: 100%"
          }
        },
        "f06363c4b5724c5ca90d8bc5812105d0": {
          "model_module": "@jupyter-widgets/controls",
          "model_name": "FloatProgressModel",
          "model_module_version": "1.5.0",
          "state": {
            "_dom_classes": [],
            "_model_module": "@jupyter-widgets/controls",
            "_model_module_version": "1.5.0",
            "_model_name": "FloatProgressModel",
            "_view_count": null,
            "_view_module": "@jupyter-widgets/controls",
            "_view_module_version": "1.5.0",
            "_view_name": "ProgressView",
            "bar_style": "success",
            "description": "",
            "description_tooltip": null,
            "layout": "IPY_MODEL_22ee3e8682d64cdab1f66d8c86196a96",
            "max": 110,
            "min": 0,
            "orientation": "horizontal",
            "style": "IPY_MODEL_08fd09707c52446fb43938b8351e0654",
            "value": 110
          }
        },
        "469c1e2400b340c1b8b7a72bd94c9525": {
          "model_module": "@jupyter-widgets/controls",
          "model_name": "HTMLModel",
          "model_module_version": "1.5.0",
          "state": {
            "_dom_classes": [],
            "_model_module": "@jupyter-widgets/controls",
            "_model_module_version": "1.5.0",
            "_model_name": "HTMLModel",
            "_view_count": null,
            "_view_module": "@jupyter-widgets/controls",
            "_view_module_version": "1.5.0",
            "_view_name": "HTMLView",
            "description": "",
            "description_tooltip": null,
            "layout": "IPY_MODEL_f643ea5339804a29882ea16b5baa0ba1",
            "placeholder": "​",
            "style": "IPY_MODEL_b903a013f4124bd2a555df6ab0e6d21c",
            "value": " 110/110 [00:00&lt;00:00, 3.08kB/s]"
          }
        },
        "b26a42327e834e9bbbe31f07c9f7f511": {
          "model_module": "@jupyter-widgets/base",
          "model_name": "LayoutModel",
          "model_module_version": "1.2.0",
          "state": {
            "_model_module": "@jupyter-widgets/base",
            "_model_module_version": "1.2.0",
            "_model_name": "LayoutModel",
            "_view_count": null,
            "_view_module": "@jupyter-widgets/base",
            "_view_module_version": "1.2.0",
            "_view_name": "LayoutView",
            "align_content": null,
            "align_items": null,
            "align_self": null,
            "border": null,
            "bottom": null,
            "display": null,
            "flex": null,
            "flex_flow": null,
            "grid_area": null,
            "grid_auto_columns": null,
            "grid_auto_flow": null,
            "grid_auto_rows": null,
            "grid_column": null,
            "grid_gap": null,
            "grid_row": null,
            "grid_template_areas": null,
            "grid_template_columns": null,
            "grid_template_rows": null,
            "height": null,
            "justify_content": null,
            "justify_items": null,
            "left": null,
            "margin": null,
            "max_height": null,
            "max_width": null,
            "min_height": null,
            "min_width": null,
            "object_fit": null,
            "object_position": null,
            "order": null,
            "overflow": null,
            "overflow_x": null,
            "overflow_y": null,
            "padding": null,
            "right": null,
            "top": null,
            "visibility": null,
            "width": null
          }
        },
        "9b7e00877d4b48f581ec4c11a6d06812": {
          "model_module": "@jupyter-widgets/base",
          "model_name": "LayoutModel",
          "model_module_version": "1.2.0",
          "state": {
            "_model_module": "@jupyter-widgets/base",
            "_model_module_version": "1.2.0",
            "_model_name": "LayoutModel",
            "_view_count": null,
            "_view_module": "@jupyter-widgets/base",
            "_view_module_version": "1.2.0",
            "_view_name": "LayoutView",
            "align_content": null,
            "align_items": null,
            "align_self": null,
            "border": null,
            "bottom": null,
            "display": null,
            "flex": null,
            "flex_flow": null,
            "grid_area": null,
            "grid_auto_columns": null,
            "grid_auto_flow": null,
            "grid_auto_rows": null,
            "grid_column": null,
            "grid_gap": null,
            "grid_row": null,
            "grid_template_areas": null,
            "grid_template_columns": null,
            "grid_template_rows": null,
            "height": null,
            "justify_content": null,
            "justify_items": null,
            "left": null,
            "margin": null,
            "max_height": null,
            "max_width": null,
            "min_height": null,
            "min_width": null,
            "object_fit": null,
            "object_position": null,
            "order": null,
            "overflow": null,
            "overflow_x": null,
            "overflow_y": null,
            "padding": null,
            "right": null,
            "top": null,
            "visibility": null,
            "width": null
          }
        },
        "da1922f0cded4d2887fe781b312d3272": {
          "model_module": "@jupyter-widgets/controls",
          "model_name": "DescriptionStyleModel",
          "model_module_version": "1.5.0",
          "state": {
            "_model_module": "@jupyter-widgets/controls",
            "_model_module_version": "1.5.0",
            "_model_name": "DescriptionStyleModel",
            "_view_count": null,
            "_view_module": "@jupyter-widgets/base",
            "_view_module_version": "1.2.0",
            "_view_name": "StyleView",
            "description_width": ""
          }
        },
        "22ee3e8682d64cdab1f66d8c86196a96": {
          "model_module": "@jupyter-widgets/base",
          "model_name": "LayoutModel",
          "model_module_version": "1.2.0",
          "state": {
            "_model_module": "@jupyter-widgets/base",
            "_model_module_version": "1.2.0",
            "_model_name": "LayoutModel",
            "_view_count": null,
            "_view_module": "@jupyter-widgets/base",
            "_view_module_version": "1.2.0",
            "_view_name": "LayoutView",
            "align_content": null,
            "align_items": null,
            "align_self": null,
            "border": null,
            "bottom": null,
            "display": null,
            "flex": null,
            "flex_flow": null,
            "grid_area": null,
            "grid_auto_columns": null,
            "grid_auto_flow": null,
            "grid_auto_rows": null,
            "grid_column": null,
            "grid_gap": null,
            "grid_row": null,
            "grid_template_areas": null,
            "grid_template_columns": null,
            "grid_template_rows": null,
            "height": null,
            "justify_content": null,
            "justify_items": null,
            "left": null,
            "margin": null,
            "max_height": null,
            "max_width": null,
            "min_height": null,
            "min_width": null,
            "object_fit": null,
            "object_position": null,
            "order": null,
            "overflow": null,
            "overflow_x": null,
            "overflow_y": null,
            "padding": null,
            "right": null,
            "top": null,
            "visibility": null,
            "width": null
          }
        },
        "08fd09707c52446fb43938b8351e0654": {
          "model_module": "@jupyter-widgets/controls",
          "model_name": "ProgressStyleModel",
          "model_module_version": "1.5.0",
          "state": {
            "_model_module": "@jupyter-widgets/controls",
            "_model_module_version": "1.5.0",
            "_model_name": "ProgressStyleModel",
            "_view_count": null,
            "_view_module": "@jupyter-widgets/base",
            "_view_module_version": "1.2.0",
            "_view_name": "StyleView",
            "bar_color": null,
            "description_width": ""
          }
        },
        "f643ea5339804a29882ea16b5baa0ba1": {
          "model_module": "@jupyter-widgets/base",
          "model_name": "LayoutModel",
          "model_module_version": "1.2.0",
          "state": {
            "_model_module": "@jupyter-widgets/base",
            "_model_module_version": "1.2.0",
            "_model_name": "LayoutModel",
            "_view_count": null,
            "_view_module": "@jupyter-widgets/base",
            "_view_module_version": "1.2.0",
            "_view_name": "LayoutView",
            "align_content": null,
            "align_items": null,
            "align_self": null,
            "border": null,
            "bottom": null,
            "display": null,
            "flex": null,
            "flex_flow": null,
            "grid_area": null,
            "grid_auto_columns": null,
            "grid_auto_flow": null,
            "grid_auto_rows": null,
            "grid_column": null,
            "grid_gap": null,
            "grid_row": null,
            "grid_template_areas": null,
            "grid_template_columns": null,
            "grid_template_rows": null,
            "height": null,
            "justify_content": null,
            "justify_items": null,
            "left": null,
            "margin": null,
            "max_height": null,
            "max_width": null,
            "min_height": null,
            "min_width": null,
            "object_fit": null,
            "object_position": null,
            "order": null,
            "overflow": null,
            "overflow_x": null,
            "overflow_y": null,
            "padding": null,
            "right": null,
            "top": null,
            "visibility": null,
            "width": null
          }
        },
        "b903a013f4124bd2a555df6ab0e6d21c": {
          "model_module": "@jupyter-widgets/controls",
          "model_name": "DescriptionStyleModel",
          "model_module_version": "1.5.0",
          "state": {
            "_model_module": "@jupyter-widgets/controls",
            "_model_module_version": "1.5.0",
            "_model_name": "DescriptionStyleModel",
            "_view_count": null,
            "_view_module": "@jupyter-widgets/base",
            "_view_module_version": "1.2.0",
            "_view_name": "StyleView",
            "description_width": ""
          }
        },
        "7576384287554ffcb73fbead6ac2b4b5": {
          "model_module": "@jupyter-widgets/controls",
          "model_name": "HBoxModel",
          "model_module_version": "1.5.0",
          "state": {
            "_dom_classes": [],
            "_model_module": "@jupyter-widgets/controls",
            "_model_module_version": "1.5.0",
            "_model_name": "HBoxModel",
            "_view_count": null,
            "_view_module": "@jupyter-widgets/controls",
            "_view_module_version": "1.5.0",
            "_view_name": "HBoxView",
            "box_style": "",
            "children": [
              "IPY_MODEL_613a61320fdf4ab8a457054b1468f24c",
              "IPY_MODEL_47faf059113e457683cb19bea0cbb121",
              "IPY_MODEL_1f8cf8ae533d46b09830e8d6c8a73f20"
            ],
            "layout": "IPY_MODEL_e8f8109e6a5949c1a2c5c1b05dbf3735"
          }
        },
        "613a61320fdf4ab8a457054b1468f24c": {
          "model_module": "@jupyter-widgets/controls",
          "model_name": "HTMLModel",
          "model_module_version": "1.5.0",
          "state": {
            "_dom_classes": [],
            "_model_module": "@jupyter-widgets/controls",
            "_model_module_version": "1.5.0",
            "_model_name": "HTMLModel",
            "_view_count": null,
            "_view_module": "@jupyter-widgets/controls",
            "_view_module_version": "1.5.0",
            "_view_name": "HTMLView",
            "description": "",
            "description_tooltip": null,
            "layout": "IPY_MODEL_bc2da4d3cd604c56b4cfc60f549d2899",
            "placeholder": "​",
            "style": "IPY_MODEL_415d043baeb44d5cae6a05485274c495",
            "value": "Downloading: 100%"
          }
        },
        "47faf059113e457683cb19bea0cbb121": {
          "model_module": "@jupyter-widgets/controls",
          "model_name": "FloatProgressModel",
          "model_module_version": "1.5.0",
          "state": {
            "_dom_classes": [],
            "_model_module": "@jupyter-widgets/controls",
            "_model_module_version": "1.5.0",
            "_model_name": "FloatProgressModel",
            "_view_count": null,
            "_view_module": "@jupyter-widgets/controls",
            "_view_module_version": "1.5.0",
            "_view_name": "ProgressView",
            "bar_style": "success",
            "description": "",
            "description_tooltip": null,
            "layout": "IPY_MODEL_fcb7ebbd8ba3476e980816ac9794d71a",
            "max": 479,
            "min": 0,
            "orientation": "horizontal",
            "style": "IPY_MODEL_884937b493a34be5a32d8cc16e56d5d1",
            "value": 479
          }
        },
        "1f8cf8ae533d46b09830e8d6c8a73f20": {
          "model_module": "@jupyter-widgets/controls",
          "model_name": "HTMLModel",
          "model_module_version": "1.5.0",
          "state": {
            "_dom_classes": [],
            "_model_module": "@jupyter-widgets/controls",
            "_model_module_version": "1.5.0",
            "_model_name": "HTMLModel",
            "_view_count": null,
            "_view_module": "@jupyter-widgets/controls",
            "_view_module_version": "1.5.0",
            "_view_name": "HTMLView",
            "description": "",
            "description_tooltip": null,
            "layout": "IPY_MODEL_7f03fd83fb284bc59f923c9975a3dee3",
            "placeholder": "​",
            "style": "IPY_MODEL_06c56769725b4910bc2441ff4737ee29",
            "value": " 479/479 [00:00&lt;00:00, 12.7kB/s]"
          }
        },
        "e8f8109e6a5949c1a2c5c1b05dbf3735": {
          "model_module": "@jupyter-widgets/base",
          "model_name": "LayoutModel",
          "model_module_version": "1.2.0",
          "state": {
            "_model_module": "@jupyter-widgets/base",
            "_model_module_version": "1.2.0",
            "_model_name": "LayoutModel",
            "_view_count": null,
            "_view_module": "@jupyter-widgets/base",
            "_view_module_version": "1.2.0",
            "_view_name": "LayoutView",
            "align_content": null,
            "align_items": null,
            "align_self": null,
            "border": null,
            "bottom": null,
            "display": null,
            "flex": null,
            "flex_flow": null,
            "grid_area": null,
            "grid_auto_columns": null,
            "grid_auto_flow": null,
            "grid_auto_rows": null,
            "grid_column": null,
            "grid_gap": null,
            "grid_row": null,
            "grid_template_areas": null,
            "grid_template_columns": null,
            "grid_template_rows": null,
            "height": null,
            "justify_content": null,
            "justify_items": null,
            "left": null,
            "margin": null,
            "max_height": null,
            "max_width": null,
            "min_height": null,
            "min_width": null,
            "object_fit": null,
            "object_position": null,
            "order": null,
            "overflow": null,
            "overflow_x": null,
            "overflow_y": null,
            "padding": null,
            "right": null,
            "top": null,
            "visibility": null,
            "width": null
          }
        },
        "bc2da4d3cd604c56b4cfc60f549d2899": {
          "model_module": "@jupyter-widgets/base",
          "model_name": "LayoutModel",
          "model_module_version": "1.2.0",
          "state": {
            "_model_module": "@jupyter-widgets/base",
            "_model_module_version": "1.2.0",
            "_model_name": "LayoutModel",
            "_view_count": null,
            "_view_module": "@jupyter-widgets/base",
            "_view_module_version": "1.2.0",
            "_view_name": "LayoutView",
            "align_content": null,
            "align_items": null,
            "align_self": null,
            "border": null,
            "bottom": null,
            "display": null,
            "flex": null,
            "flex_flow": null,
            "grid_area": null,
            "grid_auto_columns": null,
            "grid_auto_flow": null,
            "grid_auto_rows": null,
            "grid_column": null,
            "grid_gap": null,
            "grid_row": null,
            "grid_template_areas": null,
            "grid_template_columns": null,
            "grid_template_rows": null,
            "height": null,
            "justify_content": null,
            "justify_items": null,
            "left": null,
            "margin": null,
            "max_height": null,
            "max_width": null,
            "min_height": null,
            "min_width": null,
            "object_fit": null,
            "object_position": null,
            "order": null,
            "overflow": null,
            "overflow_x": null,
            "overflow_y": null,
            "padding": null,
            "right": null,
            "top": null,
            "visibility": null,
            "width": null
          }
        },
        "415d043baeb44d5cae6a05485274c495": {
          "model_module": "@jupyter-widgets/controls",
          "model_name": "DescriptionStyleModel",
          "model_module_version": "1.5.0",
          "state": {
            "_model_module": "@jupyter-widgets/controls",
            "_model_module_version": "1.5.0",
            "_model_name": "DescriptionStyleModel",
            "_view_count": null,
            "_view_module": "@jupyter-widgets/base",
            "_view_module_version": "1.2.0",
            "_view_name": "StyleView",
            "description_width": ""
          }
        },
        "fcb7ebbd8ba3476e980816ac9794d71a": {
          "model_module": "@jupyter-widgets/base",
          "model_name": "LayoutModel",
          "model_module_version": "1.2.0",
          "state": {
            "_model_module": "@jupyter-widgets/base",
            "_model_module_version": "1.2.0",
            "_model_name": "LayoutModel",
            "_view_count": null,
            "_view_module": "@jupyter-widgets/base",
            "_view_module_version": "1.2.0",
            "_view_name": "LayoutView",
            "align_content": null,
            "align_items": null,
            "align_self": null,
            "border": null,
            "bottom": null,
            "display": null,
            "flex": null,
            "flex_flow": null,
            "grid_area": null,
            "grid_auto_columns": null,
            "grid_auto_flow": null,
            "grid_auto_rows": null,
            "grid_column": null,
            "grid_gap": null,
            "grid_row": null,
            "grid_template_areas": null,
            "grid_template_columns": null,
            "grid_template_rows": null,
            "height": null,
            "justify_content": null,
            "justify_items": null,
            "left": null,
            "margin": null,
            "max_height": null,
            "max_width": null,
            "min_height": null,
            "min_width": null,
            "object_fit": null,
            "object_position": null,
            "order": null,
            "overflow": null,
            "overflow_x": null,
            "overflow_y": null,
            "padding": null,
            "right": null,
            "top": null,
            "visibility": null,
            "width": null
          }
        },
        "884937b493a34be5a32d8cc16e56d5d1": {
          "model_module": "@jupyter-widgets/controls",
          "model_name": "ProgressStyleModel",
          "model_module_version": "1.5.0",
          "state": {
            "_model_module": "@jupyter-widgets/controls",
            "_model_module_version": "1.5.0",
            "_model_name": "ProgressStyleModel",
            "_view_count": null,
            "_view_module": "@jupyter-widgets/base",
            "_view_module_version": "1.2.0",
            "_view_name": "StyleView",
            "bar_color": null,
            "description_width": ""
          }
        },
        "7f03fd83fb284bc59f923c9975a3dee3": {
          "model_module": "@jupyter-widgets/base",
          "model_name": "LayoutModel",
          "model_module_version": "1.2.0",
          "state": {
            "_model_module": "@jupyter-widgets/base",
            "_model_module_version": "1.2.0",
            "_model_name": "LayoutModel",
            "_view_count": null,
            "_view_module": "@jupyter-widgets/base",
            "_view_module_version": "1.2.0",
            "_view_name": "LayoutView",
            "align_content": null,
            "align_items": null,
            "align_self": null,
            "border": null,
            "bottom": null,
            "display": null,
            "flex": null,
            "flex_flow": null,
            "grid_area": null,
            "grid_auto_columns": null,
            "grid_auto_flow": null,
            "grid_auto_rows": null,
            "grid_column": null,
            "grid_gap": null,
            "grid_row": null,
            "grid_template_areas": null,
            "grid_template_columns": null,
            "grid_template_rows": null,
            "height": null,
            "justify_content": null,
            "justify_items": null,
            "left": null,
            "margin": null,
            "max_height": null,
            "max_width": null,
            "min_height": null,
            "min_width": null,
            "object_fit": null,
            "object_position": null,
            "order": null,
            "overflow": null,
            "overflow_x": null,
            "overflow_y": null,
            "padding": null,
            "right": null,
            "top": null,
            "visibility": null,
            "width": null
          }
        },
        "06c56769725b4910bc2441ff4737ee29": {
          "model_module": "@jupyter-widgets/controls",
          "model_name": "DescriptionStyleModel",
          "model_module_version": "1.5.0",
          "state": {
            "_model_module": "@jupyter-widgets/controls",
            "_model_module_version": "1.5.0",
            "_model_name": "DescriptionStyleModel",
            "_view_count": null,
            "_view_module": "@jupyter-widgets/base",
            "_view_module_version": "1.2.0",
            "_view_name": "StyleView",
            "description_width": ""
          }
        },
        "de7f91a0932d4de3b2e226e6711cc3eb": {
          "model_module": "@jupyter-widgets/controls",
          "model_name": "HBoxModel",
          "model_module_version": "1.5.0",
          "state": {
            "_dom_classes": [],
            "_model_module": "@jupyter-widgets/controls",
            "_model_module_version": "1.5.0",
            "_model_name": "HBoxModel",
            "_view_count": null,
            "_view_module": "@jupyter-widgets/controls",
            "_view_module_version": "1.5.0",
            "_view_name": "HBoxView",
            "box_style": "",
            "children": [
              "IPY_MODEL_aad922208342454cb0008344e9b71823",
              "IPY_MODEL_5c1c3807abda4c81a2ec878365ecfc2e",
              "IPY_MODEL_2a3e5fb760c64bfca73f0c0a4d27153b"
            ],
            "layout": "IPY_MODEL_a3697185f5f64ffb966f0732637bd0f9"
          }
        },
        "aad922208342454cb0008344e9b71823": {
          "model_module": "@jupyter-widgets/controls",
          "model_name": "HTMLModel",
          "model_module_version": "1.5.0",
          "state": {
            "_dom_classes": [],
            "_model_module": "@jupyter-widgets/controls",
            "_model_module_version": "1.5.0",
            "_model_name": "HTMLModel",
            "_view_count": null,
            "_view_module": "@jupyter-widgets/controls",
            "_view_module_version": "1.5.0",
            "_view_name": "HTMLView",
            "description": "",
            "description_tooltip": null,
            "layout": "IPY_MODEL_d19dd18d2e2e4e1a9f76bb680eda137b",
            "placeholder": "​",
            "style": "IPY_MODEL_0ea677d98c714312b91dfefbbb47b833",
            "value": "Downloading: 100%"
          }
        },
        "5c1c3807abda4c81a2ec878365ecfc2e": {
          "model_module": "@jupyter-widgets/controls",
          "model_name": "FloatProgressModel",
          "model_module_version": "1.5.0",
          "state": {
            "_dom_classes": [],
            "_model_module": "@jupyter-widgets/controls",
            "_model_module_version": "1.5.0",
            "_model_name": "FloatProgressModel",
            "_view_count": null,
            "_view_module": "@jupyter-widgets/controls",
            "_view_module_version": "1.5.0",
            "_view_name": "ProgressView",
            "bar_style": "success",
            "description": "",
            "description_tooltip": null,
            "layout": "IPY_MODEL_b2fd96f3517546c3876c0c922a1794bb",
            "max": 445021143,
            "min": 0,
            "orientation": "horizontal",
            "style": "IPY_MODEL_65cf92d64c34450b826e0905e471cc66",
            "value": 445021143
          }
        },
        "2a3e5fb760c64bfca73f0c0a4d27153b": {
          "model_module": "@jupyter-widgets/controls",
          "model_name": "HTMLModel",
          "model_module_version": "1.5.0",
          "state": {
            "_dom_classes": [],
            "_model_module": "@jupyter-widgets/controls",
            "_model_module_version": "1.5.0",
            "_model_name": "HTMLModel",
            "_view_count": null,
            "_view_module": "@jupyter-widgets/controls",
            "_view_module_version": "1.5.0",
            "_view_name": "HTMLView",
            "description": "",
            "description_tooltip": null,
            "layout": "IPY_MODEL_d45c7b0eb10044f795e83c424974768d",
            "placeholder": "​",
            "style": "IPY_MODEL_ebc310127289466f85c1f27fbfef04c4",
            "value": " 445M/445M [00:11&lt;00:00, 41.3MB/s]"
          }
        },
        "a3697185f5f64ffb966f0732637bd0f9": {
          "model_module": "@jupyter-widgets/base",
          "model_name": "LayoutModel",
          "model_module_version": "1.2.0",
          "state": {
            "_model_module": "@jupyter-widgets/base",
            "_model_module_version": "1.2.0",
            "_model_name": "LayoutModel",
            "_view_count": null,
            "_view_module": "@jupyter-widgets/base",
            "_view_module_version": "1.2.0",
            "_view_name": "LayoutView",
            "align_content": null,
            "align_items": null,
            "align_self": null,
            "border": null,
            "bottom": null,
            "display": null,
            "flex": null,
            "flex_flow": null,
            "grid_area": null,
            "grid_auto_columns": null,
            "grid_auto_flow": null,
            "grid_auto_rows": null,
            "grid_column": null,
            "grid_gap": null,
            "grid_row": null,
            "grid_template_areas": null,
            "grid_template_columns": null,
            "grid_template_rows": null,
            "height": null,
            "justify_content": null,
            "justify_items": null,
            "left": null,
            "margin": null,
            "max_height": null,
            "max_width": null,
            "min_height": null,
            "min_width": null,
            "object_fit": null,
            "object_position": null,
            "order": null,
            "overflow": null,
            "overflow_x": null,
            "overflow_y": null,
            "padding": null,
            "right": null,
            "top": null,
            "visibility": null,
            "width": null
          }
        },
        "d19dd18d2e2e4e1a9f76bb680eda137b": {
          "model_module": "@jupyter-widgets/base",
          "model_name": "LayoutModel",
          "model_module_version": "1.2.0",
          "state": {
            "_model_module": "@jupyter-widgets/base",
            "_model_module_version": "1.2.0",
            "_model_name": "LayoutModel",
            "_view_count": null,
            "_view_module": "@jupyter-widgets/base",
            "_view_module_version": "1.2.0",
            "_view_name": "LayoutView",
            "align_content": null,
            "align_items": null,
            "align_self": null,
            "border": null,
            "bottom": null,
            "display": null,
            "flex": null,
            "flex_flow": null,
            "grid_area": null,
            "grid_auto_columns": null,
            "grid_auto_flow": null,
            "grid_auto_rows": null,
            "grid_column": null,
            "grid_gap": null,
            "grid_row": null,
            "grid_template_areas": null,
            "grid_template_columns": null,
            "grid_template_rows": null,
            "height": null,
            "justify_content": null,
            "justify_items": null,
            "left": null,
            "margin": null,
            "max_height": null,
            "max_width": null,
            "min_height": null,
            "min_width": null,
            "object_fit": null,
            "object_position": null,
            "order": null,
            "overflow": null,
            "overflow_x": null,
            "overflow_y": null,
            "padding": null,
            "right": null,
            "top": null,
            "visibility": null,
            "width": null
          }
        },
        "0ea677d98c714312b91dfefbbb47b833": {
          "model_module": "@jupyter-widgets/controls",
          "model_name": "DescriptionStyleModel",
          "model_module_version": "1.5.0",
          "state": {
            "_model_module": "@jupyter-widgets/controls",
            "_model_module_version": "1.5.0",
            "_model_name": "DescriptionStyleModel",
            "_view_count": null,
            "_view_module": "@jupyter-widgets/base",
            "_view_module_version": "1.2.0",
            "_view_name": "StyleView",
            "description_width": ""
          }
        },
        "b2fd96f3517546c3876c0c922a1794bb": {
          "model_module": "@jupyter-widgets/base",
          "model_name": "LayoutModel",
          "model_module_version": "1.2.0",
          "state": {
            "_model_module": "@jupyter-widgets/base",
            "_model_module_version": "1.2.0",
            "_model_name": "LayoutModel",
            "_view_count": null,
            "_view_module": "@jupyter-widgets/base",
            "_view_module_version": "1.2.0",
            "_view_name": "LayoutView",
            "align_content": null,
            "align_items": null,
            "align_self": null,
            "border": null,
            "bottom": null,
            "display": null,
            "flex": null,
            "flex_flow": null,
            "grid_area": null,
            "grid_auto_columns": null,
            "grid_auto_flow": null,
            "grid_auto_rows": null,
            "grid_column": null,
            "grid_gap": null,
            "grid_row": null,
            "grid_template_areas": null,
            "grid_template_columns": null,
            "grid_template_rows": null,
            "height": null,
            "justify_content": null,
            "justify_items": null,
            "left": null,
            "margin": null,
            "max_height": null,
            "max_width": null,
            "min_height": null,
            "min_width": null,
            "object_fit": null,
            "object_position": null,
            "order": null,
            "overflow": null,
            "overflow_x": null,
            "overflow_y": null,
            "padding": null,
            "right": null,
            "top": null,
            "visibility": null,
            "width": null
          }
        },
        "65cf92d64c34450b826e0905e471cc66": {
          "model_module": "@jupyter-widgets/controls",
          "model_name": "ProgressStyleModel",
          "model_module_version": "1.5.0",
          "state": {
            "_model_module": "@jupyter-widgets/controls",
            "_model_module_version": "1.5.0",
            "_model_name": "ProgressStyleModel",
            "_view_count": null,
            "_view_module": "@jupyter-widgets/base",
            "_view_module_version": "1.2.0",
            "_view_name": "StyleView",
            "bar_color": null,
            "description_width": ""
          }
        },
        "d45c7b0eb10044f795e83c424974768d": {
          "model_module": "@jupyter-widgets/base",
          "model_name": "LayoutModel",
          "model_module_version": "1.2.0",
          "state": {
            "_model_module": "@jupyter-widgets/base",
            "_model_module_version": "1.2.0",
            "_model_name": "LayoutModel",
            "_view_count": null,
            "_view_module": "@jupyter-widgets/base",
            "_view_module_version": "1.2.0",
            "_view_name": "LayoutView",
            "align_content": null,
            "align_items": null,
            "align_self": null,
            "border": null,
            "bottom": null,
            "display": null,
            "flex": null,
            "flex_flow": null,
            "grid_area": null,
            "grid_auto_columns": null,
            "grid_auto_flow": null,
            "grid_auto_rows": null,
            "grid_column": null,
            "grid_gap": null,
            "grid_row": null,
            "grid_template_areas": null,
            "grid_template_columns": null,
            "grid_template_rows": null,
            "height": null,
            "justify_content": null,
            "justify_items": null,
            "left": null,
            "margin": null,
            "max_height": null,
            "max_width": null,
            "min_height": null,
            "min_width": null,
            "object_fit": null,
            "object_position": null,
            "order": null,
            "overflow": null,
            "overflow_x": null,
            "overflow_y": null,
            "padding": null,
            "right": null,
            "top": null,
            "visibility": null,
            "width": null
          }
        },
        "ebc310127289466f85c1f27fbfef04c4": {
          "model_module": "@jupyter-widgets/controls",
          "model_name": "DescriptionStyleModel",
          "model_module_version": "1.5.0",
          "state": {
            "_model_module": "@jupyter-widgets/controls",
            "_model_module_version": "1.5.0",
            "_model_name": "DescriptionStyleModel",
            "_view_count": null,
            "_view_module": "@jupyter-widgets/base",
            "_view_module_version": "1.2.0",
            "_view_name": "StyleView",
            "description_width": ""
          }
        }
      }
    }
  },
  "cells": [
    {
      "cell_type": "code",
      "execution_count": 1,
      "metadata": {
        "colab": {
          "base_uri": "https://localhost:8080/"
        },
        "id": "MsAbHBeCF-Ef",
        "outputId": "5f470a83-519e-4081-f683-86151b731017"
      },
      "outputs": [
        {
          "output_type": "stream",
          "name": "stdout",
          "text": [
            "Looking in indexes: https://pypi.org/simple, https://us-python.pkg.dev/colab-wheels/public/simple/\n",
            "Collecting transformers==4.5.0\n",
            "  Downloading transformers-4.5.0-py3-none-any.whl (2.1 MB)\n",
            "\u001b[K     |████████████████████████████████| 2.1 MB 5.1 MB/s \n",
            "\u001b[?25hCollecting fugashi==1.1.0\n",
            "  Downloading fugashi-1.1.0-cp37-cp37m-manylinux1_x86_64.whl (486 kB)\n",
            "\u001b[K     |████████████████████████████████| 486 kB 55.5 MB/s \n",
            "\u001b[?25hCollecting ipadic==1.0.0\n",
            "  Downloading ipadic-1.0.0.tar.gz (13.4 MB)\n",
            "\u001b[K     |████████████████████████████████| 13.4 MB 49.2 MB/s \n",
            "\u001b[?25hRequirement already satisfied: tqdm>=4.27 in /usr/local/lib/python3.7/dist-packages (from transformers==4.5.0) (4.64.1)\n",
            "Requirement already satisfied: regex!=2019.12.17 in /usr/local/lib/python3.7/dist-packages (from transformers==4.5.0) (2022.6.2)\n",
            "Collecting sacremoses\n",
            "  Downloading sacremoses-0.0.53.tar.gz (880 kB)\n",
            "\u001b[K     |████████████████████████████████| 880 kB 39.1 MB/s \n",
            "\u001b[?25hRequirement already satisfied: filelock in /usr/local/lib/python3.7/dist-packages (from transformers==4.5.0) (3.8.0)\n",
            "Collecting tokenizers<0.11,>=0.10.1\n",
            "  Downloading tokenizers-0.10.3-cp37-cp37m-manylinux_2_5_x86_64.manylinux1_x86_64.manylinux_2_12_x86_64.manylinux2010_x86_64.whl (3.3 MB)\n",
            "\u001b[K     |████████████████████████████████| 3.3 MB 35.6 MB/s \n",
            "\u001b[?25hRequirement already satisfied: packaging in /usr/local/lib/python3.7/dist-packages (from transformers==4.5.0) (21.3)\n",
            "Requirement already satisfied: importlib-metadata in /usr/local/lib/python3.7/dist-packages (from transformers==4.5.0) (4.12.0)\n",
            "Requirement already satisfied: numpy>=1.17 in /usr/local/lib/python3.7/dist-packages (from transformers==4.5.0) (1.21.6)\n",
            "Requirement already satisfied: requests in /usr/local/lib/python3.7/dist-packages (from transformers==4.5.0) (2.23.0)\n",
            "Requirement already satisfied: zipp>=0.5 in /usr/local/lib/python3.7/dist-packages (from importlib-metadata->transformers==4.5.0) (3.8.1)\n",
            "Requirement already satisfied: typing-extensions>=3.6.4 in /usr/local/lib/python3.7/dist-packages (from importlib-metadata->transformers==4.5.0) (4.1.1)\n",
            "Requirement already satisfied: pyparsing!=3.0.5,>=2.0.2 in /usr/local/lib/python3.7/dist-packages (from packaging->transformers==4.5.0) (3.0.9)\n",
            "Requirement already satisfied: urllib3!=1.25.0,!=1.25.1,<1.26,>=1.21.1 in /usr/local/lib/python3.7/dist-packages (from requests->transformers==4.5.0) (1.24.3)\n",
            "Requirement already satisfied: certifi>=2017.4.17 in /usr/local/lib/python3.7/dist-packages (from requests->transformers==4.5.0) (2022.6.15)\n",
            "Requirement already satisfied: chardet<4,>=3.0.2 in /usr/local/lib/python3.7/dist-packages (from requests->transformers==4.5.0) (3.0.4)\n",
            "Requirement already satisfied: idna<3,>=2.5 in /usr/local/lib/python3.7/dist-packages (from requests->transformers==4.5.0) (2.10)\n",
            "Requirement already satisfied: six in /usr/local/lib/python3.7/dist-packages (from sacremoses->transformers==4.5.0) (1.15.0)\n",
            "Requirement already satisfied: click in /usr/local/lib/python3.7/dist-packages (from sacremoses->transformers==4.5.0) (7.1.2)\n",
            "Requirement already satisfied: joblib in /usr/local/lib/python3.7/dist-packages (from sacremoses->transformers==4.5.0) (1.1.0)\n",
            "Building wheels for collected packages: ipadic, sacremoses\n",
            "  Building wheel for ipadic (setup.py) ... \u001b[?25l\u001b[?25hdone\n",
            "  Created wheel for ipadic: filename=ipadic-1.0.0-py3-none-any.whl size=13556723 sha256=795b7038861e10cff7d8246dcd1725a1671a5cf7d832376322225e19d4e178f6\n",
            "  Stored in directory: /root/.cache/pip/wheels/33/8b/99/cf0d27191876637cd3639a560f93aa982d7855ce826c94348b\n",
            "  Building wheel for sacremoses (setup.py) ... \u001b[?25l\u001b[?25hdone\n",
            "  Created wheel for sacremoses: filename=sacremoses-0.0.53-py3-none-any.whl size=895260 sha256=cc649d07c425b7668ac26a621338ebe47070e46ebf76940b15b1466429793171\n",
            "  Stored in directory: /root/.cache/pip/wheels/87/39/dd/a83eeef36d0bf98e7a4d1933a4ad2d660295a40613079bafc9\n",
            "Successfully built ipadic sacremoses\n",
            "Installing collected packages: tokenizers, sacremoses, transformers, ipadic, fugashi\n",
            "Successfully installed fugashi-1.1.0 ipadic-1.0.0 sacremoses-0.0.53 tokenizers-0.10.3 transformers-4.5.0\n"
          ]
        }
      ],
      "source": [
        "!pip install transformers==4.5.0 fugashi==1.1.0 ipadic==1.0.0 "
      ]
    },
    {
      "cell_type": "code",
      "source": [
        "import numpy as np\n",
        "import pandas as pd\n",
        "\n",
        "import torch\n",
        "from torch.utils.data import Dataset, DataLoader\n",
        "from transformers import AutoModel, AutoTokenizer, BertJapaneseTokenizer, BertModel\n",
        "from torch import cuda\n",
        "import sklearn.metrics as skm\n",
        "from sklearn.model_selection import train_test_split\n",
        "import torch.nn.functional as F\n",
        "from transformers import logging\n"
      ],
      "metadata": {
        "id": "pnCaB1WEG0dr"
      },
      "execution_count": 2,
      "outputs": []
    },
    {
      "cell_type": "code",
      "source": [
        "batch_size = 16\n",
        "max_len = 512"
      ],
      "metadata": {
        "id": "s0DTlUuXaQk0"
      },
      "execution_count": 3,
      "outputs": []
    },
    {
      "cell_type": "code",
      "source": [
        "df = pd.read_csv(\"./drive/MyDrive/Colab_Notebooks/data/livedoor_text.csv\")\n",
        "print(df.shape)\n",
        "df.head()"
      ],
      "metadata": {
        "colab": {
          "base_uri": "https://localhost:8080/",
          "height": 225
        },
        "id": "jPzhLL26GLCB",
        "outputId": "0117ecdf-e664-4811-f6cf-de133b7d87cd"
      },
      "execution_count": 5,
      "outputs": [
        {
          "output_type": "stream",
          "name": "stdout",
          "text": [
            "(7367, 2)\n"
          ]
        },
        {
          "output_type": "execute_result",
          "data": {
            "text/plain": [
              "                                                text  category\n",
              "0  27日に生放送された日本テレビ「バンクーバー2010」には、女子フィギュアスケートで銀メダル...         7\n",
              "1  「腐女子」という言葉をご存知でしょうか。\\nいわゆる漫画やアニメキャラなどの男性同士の恋愛（...         0\n",
              "2  展示会イベント恒例のおねいさん写真のコーナーでございます \\n\\n国内最大級の携帯電話や無線...         6\n",
              "3  芸能界を引退した島田紳助さんが、今月２８日に公開される映画「犬の首輪とコロッケと」に声だけ出...         2\n",
              "4  お花に包まれた洋館で、イケメン執事に囲まれながら、ゆったりと過ごす午後のひととき……。女の子...         5"
            ],
            "text/html": [
              "\n",
              "  <div id=\"df-6f81291b-426b-4157-ba83-fe668aa4f6be\">\n",
              "    <div class=\"colab-df-container\">\n",
              "      <div>\n",
              "<style scoped>\n",
              "    .dataframe tbody tr th:only-of-type {\n",
              "        vertical-align: middle;\n",
              "    }\n",
              "\n",
              "    .dataframe tbody tr th {\n",
              "        vertical-align: top;\n",
              "    }\n",
              "\n",
              "    .dataframe thead th {\n",
              "        text-align: right;\n",
              "    }\n",
              "</style>\n",
              "<table border=\"1\" class=\"dataframe\">\n",
              "  <thead>\n",
              "    <tr style=\"text-align: right;\">\n",
              "      <th></th>\n",
              "      <th>text</th>\n",
              "      <th>category</th>\n",
              "    </tr>\n",
              "  </thead>\n",
              "  <tbody>\n",
              "    <tr>\n",
              "      <th>0</th>\n",
              "      <td>27日に生放送された日本テレビ「バンクーバー2010」には、女子フィギュアスケートで銀メダル...</td>\n",
              "      <td>7</td>\n",
              "    </tr>\n",
              "    <tr>\n",
              "      <th>1</th>\n",
              "      <td>「腐女子」という言葉をご存知でしょうか。\\nいわゆる漫画やアニメキャラなどの男性同士の恋愛（...</td>\n",
              "      <td>0</td>\n",
              "    </tr>\n",
              "    <tr>\n",
              "      <th>2</th>\n",
              "      <td>展示会イベント恒例のおねいさん写真のコーナーでございます \\n\\n国内最大級の携帯電話や無線...</td>\n",
              "      <td>6</td>\n",
              "    </tr>\n",
              "    <tr>\n",
              "      <th>3</th>\n",
              "      <td>芸能界を引退した島田紳助さんが、今月２８日に公開される映画「犬の首輪とコロッケと」に声だけ出...</td>\n",
              "      <td>2</td>\n",
              "    </tr>\n",
              "    <tr>\n",
              "      <th>4</th>\n",
              "      <td>お花に包まれた洋館で、イケメン執事に囲まれながら、ゆったりと過ごす午後のひととき……。女の子...</td>\n",
              "      <td>5</td>\n",
              "    </tr>\n",
              "  </tbody>\n",
              "</table>\n",
              "</div>\n",
              "      <button class=\"colab-df-convert\" onclick=\"convertToInteractive('df-6f81291b-426b-4157-ba83-fe668aa4f6be')\"\n",
              "              title=\"Convert this dataframe to an interactive table.\"\n",
              "              style=\"display:none;\">\n",
              "        \n",
              "  <svg xmlns=\"http://www.w3.org/2000/svg\" height=\"24px\"viewBox=\"0 0 24 24\"\n",
              "       width=\"24px\">\n",
              "    <path d=\"M0 0h24v24H0V0z\" fill=\"none\"/>\n",
              "    <path d=\"M18.56 5.44l.94 2.06.94-2.06 2.06-.94-2.06-.94-.94-2.06-.94 2.06-2.06.94zm-11 1L8.5 8.5l.94-2.06 2.06-.94-2.06-.94L8.5 2.5l-.94 2.06-2.06.94zm10 10l.94 2.06.94-2.06 2.06-.94-2.06-.94-.94-2.06-.94 2.06-2.06.94z\"/><path d=\"M17.41 7.96l-1.37-1.37c-.4-.4-.92-.59-1.43-.59-.52 0-1.04.2-1.43.59L10.3 9.45l-7.72 7.72c-.78.78-.78 2.05 0 2.83L4 21.41c.39.39.9.59 1.41.59.51 0 1.02-.2 1.41-.59l7.78-7.78 2.81-2.81c.8-.78.8-2.07 0-2.86zM5.41 20L4 18.59l7.72-7.72 1.47 1.35L5.41 20z\"/>\n",
              "  </svg>\n",
              "      </button>\n",
              "      \n",
              "  <style>\n",
              "    .colab-df-container {\n",
              "      display:flex;\n",
              "      flex-wrap:wrap;\n",
              "      gap: 12px;\n",
              "    }\n",
              "\n",
              "    .colab-df-convert {\n",
              "      background-color: #E8F0FE;\n",
              "      border: none;\n",
              "      border-radius: 50%;\n",
              "      cursor: pointer;\n",
              "      display: none;\n",
              "      fill: #1967D2;\n",
              "      height: 32px;\n",
              "      padding: 0 0 0 0;\n",
              "      width: 32px;\n",
              "    }\n",
              "\n",
              "    .colab-df-convert:hover {\n",
              "      background-color: #E2EBFA;\n",
              "      box-shadow: 0px 1px 2px rgba(60, 64, 67, 0.3), 0px 1px 3px 1px rgba(60, 64, 67, 0.15);\n",
              "      fill: #174EA6;\n",
              "    }\n",
              "\n",
              "    [theme=dark] .colab-df-convert {\n",
              "      background-color: #3B4455;\n",
              "      fill: #D2E3FC;\n",
              "    }\n",
              "\n",
              "    [theme=dark] .colab-df-convert:hover {\n",
              "      background-color: #434B5C;\n",
              "      box-shadow: 0px 1px 3px 1px rgba(0, 0, 0, 0.15);\n",
              "      filter: drop-shadow(0px 1px 2px rgba(0, 0, 0, 0.3));\n",
              "      fill: #FFFFFF;\n",
              "    }\n",
              "  </style>\n",
              "\n",
              "      <script>\n",
              "        const buttonEl =\n",
              "          document.querySelector('#df-6f81291b-426b-4157-ba83-fe668aa4f6be button.colab-df-convert');\n",
              "        buttonEl.style.display =\n",
              "          google.colab.kernel.accessAllowed ? 'block' : 'none';\n",
              "\n",
              "        async function convertToInteractive(key) {\n",
              "          const element = document.querySelector('#df-6f81291b-426b-4157-ba83-fe668aa4f6be');\n",
              "          const dataTable =\n",
              "            await google.colab.kernel.invokeFunction('convertToInteractive',\n",
              "                                                     [key], {});\n",
              "          if (!dataTable) return;\n",
              "\n",
              "          const docLinkHtml = 'Like what you see? Visit the ' +\n",
              "            '<a target=\"_blank\" href=https://colab.research.google.com/notebooks/data_table.ipynb>data table notebook</a>'\n",
              "            + ' to learn more about interactive tables.';\n",
              "          element.innerHTML = '';\n",
              "          dataTable['output_type'] = 'display_data';\n",
              "          await google.colab.output.renderOutput(dataTable, element);\n",
              "          const docLink = document.createElement('div');\n",
              "          docLink.innerHTML = docLinkHtml;\n",
              "          element.appendChild(docLink);\n",
              "        }\n",
              "      </script>\n",
              "    </div>\n",
              "  </div>\n",
              "  "
            ]
          },
          "metadata": {},
          "execution_count": 5
        }
      ]
    },
    {
      "cell_type": "markdown",
      "source": [
        "# データセットの作成"
      ],
      "metadata": {
        "id": "Tfm6tn61oW0r"
      }
    },
    {
      "cell_type": "code",
      "source": [
        "class CreateDataset(Dataset):\n",
        "  def __init__(self, X, y, tokenizer, max_len):\n",
        "    self.X = X\n",
        "    self.y = y\n",
        "    self.tokenizer = tokenizer\n",
        "    self.max_len = max_len\n",
        "\n",
        "  def __len__(self):\n",
        "    return len(self.y)\n",
        "\n",
        "  def encode(self, tokenizer, text):\n",
        "      inputs = tokenizer.encode_plus(\n",
        "          text,\n",
        "          add_special_tokens=True,\n",
        "          max_length=self.max_len,\n",
        "          padding = 'max_length',\n",
        "          truncation = True\n",
        "      )\n",
        "      return inputs\n",
        "\n",
        "  def __getitem__(self, index):\n",
        "    text = self.X[index]\n",
        "    label = self.y[index]\n",
        "    ids = []\n",
        "    mask = []\n",
        "    inputs = self.encode(tokenizer=self.tokenizer, text=text)\n",
        "    ids.append(torch.LongTensor(inputs['input_ids']))\n",
        "    mask.append(torch.LongTensor(inputs['attention_mask']))\n",
        "\n",
        "    return {\n",
        "      'ids': ids,\n",
        "      'mask': mask,\n",
        "      'label': label,\n",
        "      'text':text,\n",
        "      # 'userID':userID\n",
        "    }"
      ],
      "metadata": {
        "id": "B7aXkzLgG9za"
      },
      "execution_count": 6,
      "outputs": []
    },
    {
      "cell_type": "code",
      "source": [
        "tokenizer = BertJapaneseTokenizer.from_pretrained(\"cl-tohoku/bert-base-japanese-whole-word-masking\")"
      ],
      "metadata": {
        "id": "bdoMudggG_T8",
        "outputId": "2592fd26-0370-4354-a636-89666235b5de",
        "colab": {
          "base_uri": "https://localhost:8080/",
          "height": 81,
          "referenced_widgets": [
            "fbe47c16e57d4c16a469814a60e9ae4a",
            "b2f38c98fdbc46b2b2a8c7c567c433a4",
            "0019f5679b1c4b4c897d9bd5a6315084",
            "a0e90d7e34ab494892330888b59de8e0",
            "8120740bd2ae4a60a7a34b9e2275242f",
            "cb2f701789c1444daa4bb575a7a21210",
            "f810174e3ecb4d87a545c6f497e28624",
            "bb2c3ec449914c37bce7efe43a9853cf",
            "281b044886ce4a589c81be585d22cef8",
            "30deb7defbbf48f380b544ec2ac4e324",
            "f6d4f53ea9694804a8c1473c2714b144",
            "0b4af58669f74a638789855e85a49156",
            "c1df0bb1cb7b48d28d6969b30d0efa99",
            "f06363c4b5724c5ca90d8bc5812105d0",
            "469c1e2400b340c1b8b7a72bd94c9525",
            "b26a42327e834e9bbbe31f07c9f7f511",
            "9b7e00877d4b48f581ec4c11a6d06812",
            "da1922f0cded4d2887fe781b312d3272",
            "22ee3e8682d64cdab1f66d8c86196a96",
            "08fd09707c52446fb43938b8351e0654",
            "f643ea5339804a29882ea16b5baa0ba1",
            "b903a013f4124bd2a555df6ab0e6d21c"
          ]
        }
      },
      "execution_count": 7,
      "outputs": [
        {
          "output_type": "display_data",
          "data": {
            "text/plain": [
              "Downloading:   0%|          | 0.00/258k [00:00<?, ?B/s]"
            ],
            "application/vnd.jupyter.widget-view+json": {
              "version_major": 2,
              "version_minor": 0,
              "model_id": "fbe47c16e57d4c16a469814a60e9ae4a"
            }
          },
          "metadata": {}
        },
        {
          "output_type": "display_data",
          "data": {
            "text/plain": [
              "Downloading:   0%|          | 0.00/110 [00:00<?, ?B/s]"
            ],
            "application/vnd.jupyter.widget-view+json": {
              "version_major": 2,
              "version_minor": 0,
              "model_id": "0b4af58669f74a638789855e85a49156"
            }
          },
          "metadata": {}
        }
      ]
    },
    {
      "cell_type": "code",
      "source": [
        "X = df[\"text\"].values\n",
        "y = df[\"category\"].values"
      ],
      "metadata": {
        "id": "X2yZh73HG_YC"
      },
      "execution_count": 8,
      "outputs": []
    },
    {
      "cell_type": "code",
      "source": [
        "X_train_eval, X_test, y_train_eval, y_test = train_test_split(X, y, train_size=0.8)\n",
        "\n",
        "X_train, X_eval, y_train, y_eval = train_test_split(X_train_eval, y_train_eval, train_size=0.75)\n",
        "\n",
        "print(len(X_train))\n",
        "print(len(X_eval))\n",
        "print(len(X_test))\n",
        "\n",
        "print(len(y_train))\n",
        "print(len(y_eval))\n",
        "print(len(y_test))"
      ],
      "metadata": {
        "colab": {
          "base_uri": "https://localhost:8080/"
        },
        "id": "KuZghJ37RwyC",
        "outputId": "efda818b-5be8-4348-aac7-0d9de6398bab"
      },
      "execution_count": 9,
      "outputs": [
        {
          "output_type": "stream",
          "name": "stdout",
          "text": [
            "4419\n",
            "1474\n",
            "1474\n",
            "4419\n",
            "1474\n",
            "1474\n"
          ]
        }
      ]
    },
    {
      "cell_type": "code",
      "source": [
        "dataset_train = CreateDataset(X_train, y_train, tokenizer, max_len=max_len)\n",
        "dataset_eval = CreateDataset(X_eval, y_eval, tokenizer, max_len=max_len)\n",
        "dataset_test = CreateDataset(X_test, y_test, tokenizer, max_len=max_len)\n",
        "\n",
        "print(dataset_train.__len__())\n",
        "print(dataset_eval.__len__())\n",
        "print(dataset_test.__len__())"
      ],
      "metadata": {
        "colab": {
          "base_uri": "https://localhost:8080/"
        },
        "id": "F5PTf6oiG_bd",
        "outputId": "deda5c88-ca51-47ca-ab15-53088af2c409"
      },
      "execution_count": 10,
      "outputs": [
        {
          "output_type": "stream",
          "name": "stdout",
          "text": [
            "4419\n",
            "1474\n",
            "1474\n"
          ]
        }
      ]
    },
    {
      "cell_type": "code",
      "source": [
        "# dataset_train[0]"
      ],
      "metadata": {
        "id": "pVD_X9ipXi6m"
      },
      "execution_count": 11,
      "outputs": []
    },
    {
      "cell_type": "markdown",
      "source": [
        "# データローダの作成"
      ],
      "metadata": {
        "id": "x9_FUL53oTdW"
      }
    },
    {
      "cell_type": "code",
      "source": [
        "dataloader_train = DataLoader(dataset_train, batch_size=batch_size, shuffle=True, pin_memory=True)\n",
        "dataloader_eval = DataLoader(dataset_eval, batch_size=batch_size, shuffle=True, pin_memory=True)\n",
        "dataloader_test = DataLoader(dataset_test, batch_size=batch_size, shuffle=True, pin_memory=True)\n",
        "\n",
        "# 辞書オブジェクトにまとめる\n",
        "dataloaders_dict = {\"train\": dataloader_train, \"val\": dataloader_eval}"
      ],
      "metadata": {
        "id": "BJUfrG01WT-U"
      },
      "execution_count": 12,
      "outputs": []
    },
    {
      "cell_type": "code",
      "source": [
        "tmp = next(iter(dataloader_train))\n",
        "print(tmp[\"ids\"][0].size())\n",
        "print(tmp[\"label\"])\n",
        "tmp[\"ids\"][0][0]\n"
      ],
      "metadata": {
        "colab": {
          "base_uri": "https://localhost:8080/"
        },
        "id": "HrJDt5u-YTlI",
        "outputId": "6f36d363-f137-4e8c-e959-325d1a550414"
      },
      "execution_count": 13,
      "outputs": [
        {
          "output_type": "stream",
          "name": "stdout",
          "text": [
            "torch.Size([16, 512])\n",
            "tensor([0, 5, 6, 2, 5, 0, 7, 4, 7, 6, 6, 0, 8, 0, 3, 7])\n"
          ]
        },
        {
          "output_type": "execute_result",
          "data": {
            "text/plain": [
              "tensor([    2, 25099,  6309,   315,     7, 10219,    47, 28504, 28468,    10,\n",
              "         7946,    23,   594,    24,    28,     6,  6739,    12,     9, 13215,\n",
              "          591, 28477,    18,     5,    29,     6, 12008,  7255, 30144,  7255,\n",
              "            5,  8903, 28689,  4427,   199,     8,   205, 31958,     6,  9039,\n",
              "        28462, 28446, 20996, 22752,    10,  5602,     6,    13, 11213, 28457,\n",
              "           16,     9, 20856,     8,  7033,   737,  4354,    11, 15889,    45,\n",
              "          250,  3393,     5,  1709,     9,     6,  5523,   981,     7,  6602,\n",
              "         2722,   120,    75,    40,     8,   381, 16131,   250, 16019,     5,\n",
              "         1709,     8,    70,   969,  2032,     5,  1208,     5,  1570,     5,\n",
              "        14919,    11,   426,    15,    16,    33,     5,    14,     6, 19240,\n",
              "         2334,     5,   469,  4616,     8,    36,   469,  4616,  1410,  1377,\n",
              "         2397,    38,     9,  3437,    19,     5,  2991,  1601,     6,   171,\n",
              "          126,    57,   429,    53,     5, 14284,  4771,    11,  1630,     6,\n",
              "         4733, 15988,   250, 16019,  1709,     5, 14919,    11,   426,     8,\n",
              "         5607,     5, 10907,   426,    13, 11303,    18,  1676,    11,  4084,\n",
              "           81,     7,  3601,    15,     6,    31,  3302,     5,  7580,    14,\n",
              "           31,    45,    11,  1296,    15,    10,     5,    12,    31,     8,\n",
              "          785,    19,    57,    37,     7,     9,   792, 28476,     5,   381,\n",
              "        16131,  1709,   362,    11, 10836,     6,   602,    15,    10,    14,\n",
              "            6,   478, 28486,   127,    37,   483,    32,     6,    73,  7914,\n",
              "           35, 13412,     5,   381, 16131,  1709,     5, 14919,   362,   426,\n",
              "          602,    11,   517,    10,     8,  7168,     5,   426,  5638,     5,\n",
              "         9394,  1279,    18,  3028,     9,    36,   909,  5002, 10191,    14,\n",
              "         2950,    38,    13,   625,   687,     5,  5880,    18,   735,    12,\n",
              "            9,    80,   140,    45,     8,    73,  7914,     6, 13412,   981,\n",
              "            7, 11203,    14, 14960, 28449,    45,   230, 10191,    14,  8245,\n",
              "           12,  3024,   790,     6,  8406,    14,   251, 30185,    15,   790,\n",
              "         1162,    45,    14,  2424,    12,     6,    73,  7914,    14, 22314,\n",
              "            6, 13412,    14, 18882, 28449,  1162,    45,     7,    58,    16,\n",
              "         1497,     5,    75,     8,  9394, 18144, 28477,     9, 11203,    13,\n",
              "        10191,    11, 15502,  3638,  1137,    14, 14746,    64,   230, 14188,\n",
              "        28614,     6, 10191,  1562,    14,   251,     7,  4823, 28507, 17020,\n",
              "           16,  1497,   140,  2120,    14,  8056,    10,     5,    12,    31,\n",
              "            8,   862,    12,  1241,   201,   962,  6297, 26206,   950,     5,\n",
              "           53,    14,    33,     5,    28,  2120,     8,    70,    53,   558,\n",
              "            9, 11203,     5,  1294,    14,    41,   201,     7,  2407,    16,\n",
              "           33,    45,    28,  9031,    10,     5,    12,    31,     8,    12,\n",
              "            9,  6297,  3393,    11,  2495,    34,    82,     7,     9, 14072,\n",
              "           14,   727,    29,     8,   218,     9,  9588, 28467,    64,     5,\n",
              "         1197,   245, 26032,    11,  5586,    34,    45,    13,     6,  8611,\n",
              "         4960,    12, 13860,    45,    12,    31,     8, 16019,     7,   102,\n",
              "           10,  1197,   245, 26032,    11,  5586,    34,    45,    12, 24878,\n",
              "           11, 17024,  2685,     6,  6846,    16, 13412,     5,  1200, 14746,\n",
              "           11,  5090,    16, 10191,     5, 18882, 19913,    11,  6569,     8,\n",
              "          604,     9,  1197,   245, 26032,     9,  8611,  4960,    12, 13734,\n",
              "           15,    10, 14841,    11,  4283,    34,   120,    28,   707,     8,\n",
              "           59,  5842,    11, 10318,    16,  1200, 11203,    11,  2110,    16,\n",
              "        13734,    15,    10, 14841,     6, 24863,  3296,  1073,    11, 10113,\n",
              "        10191,    11,  5217, 13840,    34,     8,    70,    25,   652,    14,\n",
              "         1279,    18,     5,    12,    31,     8,  7731,  1241,   201,   962,\n",
              "         6297, 26206,   950,     5,   283,     9,     6,  1197,   245, 26032,\n",
              "            5,     3])"
            ]
          },
          "metadata": {},
          "execution_count": 13
        }
      ]
    },
    {
      "cell_type": "markdown",
      "source": [
        "# BERTモデル"
      ],
      "metadata": {
        "id": "CZPTyZ5IoQka"
      }
    },
    {
      "cell_type": "code",
      "source": [
        "model = BertModel.from_pretrained(\"cl-tohoku/bert-base-japanese-whole-word-masking\", output_attentions=True, output_hidden_states=True)"
      ],
      "metadata": {
        "id": "sJX70XFWG_ee",
        "outputId": "e663f237-bfa4-4a6f-ed46-a8f8559a4b19",
        "colab": {
          "base_uri": "https://localhost:8080/",
          "height": 81,
          "referenced_widgets": [
            "7576384287554ffcb73fbead6ac2b4b5",
            "613a61320fdf4ab8a457054b1468f24c",
            "47faf059113e457683cb19bea0cbb121",
            "1f8cf8ae533d46b09830e8d6c8a73f20",
            "e8f8109e6a5949c1a2c5c1b05dbf3735",
            "bc2da4d3cd604c56b4cfc60f549d2899",
            "415d043baeb44d5cae6a05485274c495",
            "fcb7ebbd8ba3476e980816ac9794d71a",
            "884937b493a34be5a32d8cc16e56d5d1",
            "7f03fd83fb284bc59f923c9975a3dee3",
            "06c56769725b4910bc2441ff4737ee29",
            "de7f91a0932d4de3b2e226e6711cc3eb",
            "aad922208342454cb0008344e9b71823",
            "5c1c3807abda4c81a2ec878365ecfc2e",
            "2a3e5fb760c64bfca73f0c0a4d27153b",
            "a3697185f5f64ffb966f0732637bd0f9",
            "d19dd18d2e2e4e1a9f76bb680eda137b",
            "0ea677d98c714312b91dfefbbb47b833",
            "b2fd96f3517546c3876c0c922a1794bb",
            "65cf92d64c34450b826e0905e471cc66",
            "d45c7b0eb10044f795e83c424974768d",
            "ebc310127289466f85c1f27fbfef04c4"
          ]
        }
      },
      "execution_count": 14,
      "outputs": [
        {
          "output_type": "display_data",
          "data": {
            "text/plain": [
              "Downloading:   0%|          | 0.00/479 [00:00<?, ?B/s]"
            ],
            "application/vnd.jupyter.widget-view+json": {
              "version_major": 2,
              "version_minor": 0,
              "model_id": "7576384287554ffcb73fbead6ac2b4b5"
            }
          },
          "metadata": {}
        },
        {
          "output_type": "display_data",
          "data": {
            "text/plain": [
              "Downloading:   0%|          | 0.00/445M [00:00<?, ?B/s]"
            ],
            "application/vnd.jupyter.widget-view+json": {
              "version_major": 2,
              "version_minor": 0,
              "model_id": "de7f91a0932d4de3b2e226e6711cc3eb"
            }
          },
          "metadata": {}
        }
      ]
    },
    {
      "cell_type": "code",
      "source": [
        "from torch import nn\n",
        "\n",
        "\n",
        "class BertForLivedoor(nn.Module):\n",
        "    '''BERTモデルにLivedoorニュースの9クラスを判定する部分をつなげたモデル'''\n",
        "\n",
        "    def __init__(self):\n",
        "        super(BertForLivedoor, self).__init__()\n",
        "\n",
        "        # BERTモジュール\n",
        "        self.bert = model  # 日本語学習済みのBERTモデル\n",
        "\n",
        "        # headにクラス予測を追加\n",
        "        # 入力はBERTの出力特徴量の次元768、出力は9クラス\n",
        "        self.cls = nn.Linear(in_features=768, out_features=9)\n",
        "\n",
        "        # 重み初期化処理\n",
        "        nn.init.normal_(self.cls.weight, std=0.02)\n",
        "        nn.init.normal_(self.cls.bias, 0)\n",
        "\n",
        "        # カウント\n",
        "        self.count = 0\n",
        "\n",
        "\n",
        "    def forward(self, input_ids, attention_show_flg:bool):\n",
        "        '''\n",
        "        input_ids： [batch_size, sequence_length]の文章の単語IDの羅列\n",
        "        '''\n",
        "\n",
        "        # BERTの基本モデル部分の順伝搬\n",
        "        # 順伝搬させる\n",
        "        result = self.bert(input_ids)  # reult は、sequence_output, pooled_output\n",
        "\n",
        "        # sequence_outputの先頭の単語ベクトルを抜き出す\n",
        "        vec_0 = result[0]  # 最初の0がsequence_outputを示す\n",
        "        vec_0 = vec_0[:, 0, :]  # 全バッチ。先頭0番目の単語の全768要素\n",
        "        vec_0 = vec_0.view(-1, 768)  # sizeを[batch_size, hidden_size]に変換\n",
        "        output = self.cls(vec_0)  # 全結合層\n",
        "\n",
        "        self.count += 1\n",
        "\n",
        "        if attention_show_flg:\n",
        "          return output, result.attentions[-1]\n",
        "        else:\n",
        "          return output\n"
      ],
      "metadata": {
        "id": "kt7Ox3ISQhyQ"
      },
      "execution_count": 15,
      "outputs": []
    },
    {
      "cell_type": "code",
      "source": [
        "# モデル構築\n",
        "net = BertForLivedoor()\n",
        "\n",
        "# 訓練モードに設定\n",
        "net.train()\n",
        "\n",
        "print('ネットワーク設定完了')"
      ],
      "metadata": {
        "colab": {
          "base_uri": "https://localhost:8080/"
        },
        "id": "oYAN0RMZRZ-F",
        "outputId": "ecb43fe9-a1ef-4bbb-d559-360f283700e2"
      },
      "execution_count": 16,
      "outputs": [
        {
          "output_type": "stream",
          "name": "stdout",
          "text": [
            "ネットワーク設定完了\n"
          ]
        }
      ]
    },
    {
      "cell_type": "code",
      "source": [
        "# 勾配計算を最後のBertLayerモジュールと追加した分類アダプターのみ実行\n",
        "\n",
        "# 1. まず全部を、勾配計算Falseにしてしまう\n",
        "for param in net.parameters():\n",
        "    param.requires_grad = False\n",
        "\n",
        "# 2. BertLayerモジュールの最後を勾配計算ありに変更\n",
        "for param in net.bert.encoder.layer[-1].parameters():\n",
        "    param.requires_grad = True\n",
        "\n",
        "# 3. 識別器を勾配計算ありに変更\n",
        "for param in net.cls.parameters():\n",
        "    param.requires_grad = True"
      ],
      "metadata": {
        "id": "yESzArCNRaee"
      },
      "execution_count": 17,
      "outputs": []
    },
    {
      "cell_type": "code",
      "source": [
        "# 最適化手法の設定\n",
        "import torch.optim as optim\n",
        "\n",
        "\n",
        "# BERTの元の部分はファインチューニング\n",
        "optimizer = optim.Adam([\n",
        "    {'params': net.bert.encoder.layer[-1].parameters(), 'lr': 5e-5},\n",
        "    {'params': net.cls.parameters(), 'lr': 1e-4}\n",
        "])\n",
        "\n",
        "# 損失関数の設定\n",
        "criterion = nn.CrossEntropyLoss()\n",
        "# nn.LogSoftmax()を計算してからnn.NLLLoss(negative log likelihood loss)を計算"
      ],
      "metadata": {
        "id": "Ze8n1lpURaoD"
      },
      "execution_count": 18,
      "outputs": []
    },
    {
      "cell_type": "markdown",
      "source": [
        "# 学習・検証"
      ],
      "metadata": {
        "id": "g83K9OAfoN1J"
      }
    },
    {
      "cell_type": "code",
      "source": [
        "# モデルを学習させる関数を作成\n",
        "\n",
        "\n",
        "def train_model(net, dataloaders_dict, criterion, optimizer, num_epochs):\n",
        "\n",
        "    # GPUが使えるかを確認\n",
        "    device = torch.device(\"cuda:0\" if torch.cuda.is_available() else \"cpu\")\n",
        "    print(\"使用デバイス：\", device)\n",
        "    print('-----start-------')\n",
        "\n",
        "    # ネットワークをGPUへ\n",
        "    net.to(device)\n",
        "\n",
        "    # ネットワークがある程度固定であれば、高速化させる\n",
        "    torch.backends.cudnn.benchmark = True\n",
        "\n",
        "    # ミニバッチのサイズ\n",
        "    batch_size = dataloaders_dict[\"train\"].batch_size\n",
        "\n",
        "    # epochのループ\n",
        "    for epoch in range(num_epochs):\n",
        "        # epochごとの訓練と検証のループ\n",
        "        for phase in ['train', 'val']:\n",
        "            if phase == 'train':\n",
        "                net.train()  # モデルを訓練モードに\n",
        "            else:\n",
        "                net.eval()   # モデルを検証モードに\n",
        "\n",
        "            epoch_loss = 0.0  # epochの損失和\n",
        "            epoch_corrects = 0  # epochの正解数\n",
        "            iteration = 1\n",
        "\n",
        "            # データローダーからミニバッチを取り出すループ\n",
        "            for batch in (dataloaders_dict[phase]):\n",
        "                # batchはTextとLableの辞書型変数\n",
        "\n",
        "                # GPUが使えるならGPUにデータを送る\n",
        "                inputs = batch[\"ids\"][0].to(device)  # 文章\n",
        "                labels = batch[\"label\"].to(device)  # ラベル\n",
        "\n",
        "                # optimizerを初期化\n",
        "                optimizer.zero_grad()\n",
        "\n",
        "                # 順伝搬（forward）計算\n",
        "                with torch.set_grad_enabled(phase == 'train'):\n",
        "\n",
        "                    # BERTに入力\n",
        "                    outputs = net(inputs, attention_show_flg=False)\n",
        "\n",
        "                    loss = criterion(outputs, labels)  # 損失を計算\n",
        "\n",
        "                    _, preds = torch.max(outputs, 1)  # ラベルを予測\n",
        "\n",
        "                    # 訓練時はバックプロパゲーション\n",
        "                    if phase == 'train':\n",
        "                        loss.backward()\n",
        "                        optimizer.step()\n",
        "\n",
        "                        if (iteration % 10 == 0):  # 10iterに1度、lossを表示\n",
        "                            acc = (torch.sum(preds == labels.data)\n",
        "                                   ).double()/batch_size\n",
        "                            print('イテレーション {} || Loss: {:.4f} || 10iter. || 本イテレーションの正解率：{}'.format(\n",
        "                                iteration, loss.item(),  acc))\n",
        "\n",
        "                    iteration += 1\n",
        "\n",
        "                    # 損失と正解数の合計を更新\n",
        "                    epoch_loss += loss.item() * batch_size\n",
        "                    epoch_corrects += torch.sum(preds == labels.data)\n",
        "\n",
        "            # epochごとのlossと正解率\n",
        "            epoch_loss = epoch_loss / len(dataloaders_dict[phase].dataset)\n",
        "            epoch_acc = epoch_corrects.double(\n",
        "            ) / len(dataloaders_dict[phase].dataset)\n",
        "\n",
        "            print('Epoch {}/{} | {:^5} |  Loss: {:.4f} Acc: {:.4f}'.format(epoch+1, num_epochs,\n",
        "                                                                           phase, epoch_loss, epoch_acc))\n",
        "\n",
        "    return net"
      ],
      "metadata": {
        "id": "dPcjornYRawV"
      },
      "execution_count": 19,
      "outputs": []
    },
    {
      "cell_type": "code",
      "source": [
        "# 学習・検証を実行する。1epochに2分ほどかかります\n",
        "num_epochs = 3\n",
        "net_trained = train_model(net, dataloaders_dict,\n",
        "                          criterion, optimizer, num_epochs=num_epochs)\n"
      ],
      "metadata": {
        "colab": {
          "base_uri": "https://localhost:8080/"
        },
        "id": "HvIKi67TRa2w",
        "outputId": "866b877d-9039-4710-a553-369f7be53190"
      },
      "execution_count": 20,
      "outputs": [
        {
          "output_type": "stream",
          "name": "stdout",
          "text": [
            "使用デバイス： cuda:0\n",
            "-----start-------\n",
            "イテレーション 10 || Loss: 2.3880 || 10iter. || 本イテレーションの正解率：0.1875\n",
            "イテレーション 20 || Loss: 1.7851 || 10iter. || 本イテレーションの正解率：0.5625\n",
            "イテレーション 30 || Loss: 1.7566 || 10iter. || 本イテレーションの正解率：0.375\n",
            "イテレーション 40 || Loss: 1.5637 || 10iter. || 本イテレーションの正解率：0.5\n",
            "イテレーション 50 || Loss: 0.7577 || 10iter. || 本イテレーションの正解率：0.9375\n",
            "イテレーション 60 || Loss: 1.0643 || 10iter. || 本イテレーションの正解率：0.6875\n",
            "イテレーション 70 || Loss: 1.0008 || 10iter. || 本イテレーションの正解率：0.6875\n",
            "イテレーション 80 || Loss: 1.2287 || 10iter. || 本イテレーションの正解率：0.5625\n",
            "イテレーション 90 || Loss: 0.7291 || 10iter. || 本イテレーションの正解率：0.875\n",
            "イテレーション 100 || Loss: 0.4459 || 10iter. || 本イテレーションの正解率：0.9375\n",
            "イテレーション 110 || Loss: 1.0650 || 10iter. || 本イテレーションの正解率：0.5\n",
            "イテレーション 120 || Loss: 0.3648 || 10iter. || 本イテレーションの正解率：0.875\n",
            "イテレーション 130 || Loss: 0.6504 || 10iter. || 本イテレーションの正解率：0.75\n",
            "イテレーション 140 || Loss: 0.3478 || 10iter. || 本イテレーションの正解率：1.0\n",
            "イテレーション 150 || Loss: 0.6508 || 10iter. || 本イテレーションの正解率：0.6875\n",
            "イテレーション 160 || Loss: 0.6419 || 10iter. || 本イテレーションの正解率：0.8125\n",
            "イテレーション 170 || Loss: 0.4127 || 10iter. || 本イテレーションの正解率：0.875\n",
            "イテレーション 180 || Loss: 0.4153 || 10iter. || 本イテレーションの正解率：0.75\n",
            "イテレーション 190 || Loss: 0.4328 || 10iter. || 本イテレーションの正解率：0.9375\n",
            "イテレーション 200 || Loss: 1.1377 || 10iter. || 本イテレーションの正解率：0.75\n",
            "イテレーション 210 || Loss: 0.8234 || 10iter. || 本イテレーションの正解率：0.6875\n",
            "イテレーション 220 || Loss: 0.5681 || 10iter. || 本イテレーションの正解率：0.8125\n",
            "イテレーション 230 || Loss: 0.1708 || 10iter. || 本イテレーションの正解率：0.875\n",
            "イテレーション 240 || Loss: 0.4195 || 10iter. || 本イテレーションの正解率：0.8125\n",
            "イテレーション 250 || Loss: 0.3358 || 10iter. || 本イテレーションの正解率：0.9375\n",
            "イテレーション 260 || Loss: 0.6264 || 10iter. || 本イテレーションの正解率：0.8125\n",
            "イテレーション 270 || Loss: 0.6549 || 10iter. || 本イテレーションの正解率：0.8125\n",
            "Epoch 1/3 | train |  Loss: 0.8289 Acc: 0.7323\n",
            "Epoch 1/3 |  val  |  Loss: 0.3923 Acc: 0.8860\n",
            "イテレーション 10 || Loss: 0.3021 || 10iter. || 本イテレーションの正解率：0.9375\n",
            "イテレーション 20 || Loss: 0.4567 || 10iter. || 本イテレーションの正解率：0.8125\n",
            "イテレーション 30 || Loss: 0.2971 || 10iter. || 本イテレーションの正解率：0.9375\n",
            "イテレーション 40 || Loss: 0.2414 || 10iter. || 本イテレーションの正解率：0.9375\n",
            "イテレーション 50 || Loss: 0.3165 || 10iter. || 本イテレーションの正解率：0.875\n",
            "イテレーション 60 || Loss: 0.8983 || 10iter. || 本イテレーションの正解率：0.75\n",
            "イテレーション 70 || Loss: 0.2692 || 10iter. || 本イテレーションの正解率：0.9375\n",
            "イテレーション 80 || Loss: 0.4442 || 10iter. || 本イテレーションの正解率：0.875\n",
            "イテレーション 90 || Loss: 0.2525 || 10iter. || 本イテレーションの正解率：0.875\n",
            "イテレーション 100 || Loss: 0.4687 || 10iter. || 本イテレーションの正解率：0.875\n",
            "イテレーション 110 || Loss: 0.1910 || 10iter. || 本イテレーションの正解率：0.9375\n",
            "イテレーション 120 || Loss: 0.2030 || 10iter. || 本イテレーションの正解率：0.9375\n",
            "イテレーション 130 || Loss: 0.4451 || 10iter. || 本イテレーションの正解率：0.8125\n",
            "イテレーション 140 || Loss: 0.1531 || 10iter. || 本イテレーションの正解率：0.9375\n",
            "イテレーション 150 || Loss: 0.0687 || 10iter. || 本イテレーションの正解率：1.0\n",
            "イテレーション 160 || Loss: 0.3376 || 10iter. || 本イテレーションの正解率：0.8125\n",
            "イテレーション 170 || Loss: 0.0980 || 10iter. || 本イテレーションの正解率：1.0\n",
            "イテレーション 180 || Loss: 0.4846 || 10iter. || 本イテレーションの正解率：0.875\n",
            "イテレーション 190 || Loss: 0.4017 || 10iter. || 本イテレーションの正解率：0.875\n",
            "イテレーション 200 || Loss: 0.2882 || 10iter. || 本イテレーションの正解率：0.875\n",
            "イテレーション 210 || Loss: 0.4801 || 10iter. || 本イテレーションの正解率：0.875\n",
            "イテレーション 220 || Loss: 0.7385 || 10iter. || 本イテレーションの正解率：0.8125\n",
            "イテレーション 230 || Loss: 0.1615 || 10iter. || 本イテレーションの正解率：0.9375\n",
            "イテレーション 240 || Loss: 0.3106 || 10iter. || 本イテレーションの正解率：0.875\n",
            "イテレーション 250 || Loss: 0.1462 || 10iter. || 本イテレーションの正解率：1.0\n",
            "イテレーション 260 || Loss: 0.2910 || 10iter. || 本イテレーションの正解率：0.9375\n",
            "イテレーション 270 || Loss: 0.1902 || 10iter. || 本イテレーションの正解率：0.875\n",
            "Epoch 2/3 | train |  Loss: 0.3400 Acc: 0.8916\n",
            "Epoch 2/3 |  val  |  Loss: 0.2991 Acc: 0.9050\n",
            "イテレーション 10 || Loss: 0.4282 || 10iter. || 本イテレーションの正解率：0.875\n",
            "イテレーション 20 || Loss: 0.1690 || 10iter. || 本イテレーションの正解率：0.875\n",
            "イテレーション 30 || Loss: 0.0966 || 10iter. || 本イテレーションの正解率：0.9375\n",
            "イテレーション 40 || Loss: 0.3481 || 10iter. || 本イテレーションの正解率：0.875\n",
            "イテレーション 50 || Loss: 0.3019 || 10iter. || 本イテレーションの正解率：0.9375\n",
            "イテレーション 60 || Loss: 0.6267 || 10iter. || 本イテレーションの正解率：0.875\n",
            "イテレーション 70 || Loss: 0.4128 || 10iter. || 本イテレーションの正解率：0.875\n",
            "イテレーション 80 || Loss: 0.3699 || 10iter. || 本イテレーションの正解率：0.875\n",
            "イテレーション 90 || Loss: 0.1601 || 10iter. || 本イテレーションの正解率：0.9375\n",
            "イテレーション 100 || Loss: 0.2687 || 10iter. || 本イテレーションの正解率：0.9375\n",
            "イテレーション 110 || Loss: 0.2943 || 10iter. || 本イテレーションの正解率：0.875\n",
            "イテレーション 120 || Loss: 0.4165 || 10iter. || 本イテレーションの正解率：0.9375\n",
            "イテレーション 130 || Loss: 0.1912 || 10iter. || 本イテレーションの正解率：0.9375\n",
            "イテレーション 140 || Loss: 0.2646 || 10iter. || 本イテレーションの正解率：0.875\n",
            "イテレーション 150 || Loss: 0.3553 || 10iter. || 本イテレーションの正解率：0.9375\n",
            "イテレーション 160 || Loss: 0.0361 || 10iter. || 本イテレーションの正解率：1.0\n",
            "イテレーション 170 || Loss: 0.1455 || 10iter. || 本イテレーションの正解率：0.9375\n",
            "イテレーション 180 || Loss: 0.2830 || 10iter. || 本イテレーションの正解率：0.9375\n",
            "イテレーション 190 || Loss: 0.2533 || 10iter. || 本イテレーションの正解率：0.9375\n",
            "イテレーション 200 || Loss: 0.2320 || 10iter. || 本イテレーションの正解率：0.9375\n",
            "イテレーション 210 || Loss: 0.3057 || 10iter. || 本イテレーションの正解率：0.9375\n",
            "イテレーション 220 || Loss: 0.1348 || 10iter. || 本イテレーションの正解率：1.0\n",
            "イテレーション 230 || Loss: 0.5592 || 10iter. || 本イテレーションの正解率：0.875\n",
            "イテレーション 240 || Loss: 0.0660 || 10iter. || 本イテレーションの正解率：1.0\n",
            "イテレーション 250 || Loss: 0.0856 || 10iter. || 本イテレーションの正解率：1.0\n",
            "イテレーション 260 || Loss: 0.3492 || 10iter. || 本イテレーションの正解率：0.875\n",
            "イテレーション 270 || Loss: 0.4238 || 10iter. || 本イテレーションの正解率：0.9375\n",
            "Epoch 3/3 | train |  Loss: 0.2222 Acc: 0.9271\n",
            "Epoch 3/3 |  val  |  Loss: 0.2632 Acc: 0.9172\n"
          ]
        }
      ]
    },
    {
      "cell_type": "code",
      "source": [
        "# モデル保存\n",
        "# CPU版\n",
        "save_path = \"./drive/MyDrive/Colab_Notebooks/model/single_bert_fine_tuning_livedoor_cpu.pth\"\n",
        "torch.save(net_trained.to('cpu').state_dict(), save_path)\n",
        "\n",
        "# GPU版\n",
        "save_path = \"./drive/MyDrive/Colab_Notebooks/model/single_bert_fine_tuning_livedoor_gpu.pth\"\n",
        "torch.save(net_trained.state_dict(), save_path)"
      ],
      "metadata": {
        "id": "2OuR41Bu44LS"
      },
      "execution_count": null,
      "outputs": []
    },
    {
      "cell_type": "code",
      "source": [
        "from tqdm import tqdm\n",
        "\n",
        "# テストデータでの正解率を求める\n",
        "device = torch.device(\"cuda:0\" if torch.cuda.is_available() else \"cpu\")\n",
        "\n",
        "net_trained.eval()   # モデルを検証モードに\n",
        "net_trained.to(device)  # GPUが使えるならGPUへ送る\n",
        "\n",
        "# epochの正解数を記録する変数\n",
        "epoch_corrects = 0\n",
        "\n",
        "for batch in tqdm(dataloader_test):  # testデータのDataLoader\n",
        "    # batchはTextとLableの辞書オブジェクト\n",
        "    # GPUが使えるならGPUにデータを送る\n",
        "    inputs = batch[\"ids\"][0].to(device)  # 文章\n",
        "    labels = batch[\"label\"].to(device)  # ラベル\n",
        "\n",
        "    # 順伝搬（forward）計算\n",
        "    with torch.set_grad_enabled(False):\n",
        "\n",
        "        # BertForLivedoorに入力\n",
        "        outputs = net_trained(inputs, attention_show_flg=False)\n",
        "\n",
        "        loss = criterion(outputs, labels)  # 損失を計算\n",
        "        _, preds = torch.max(outputs, 1)  # ラベルを予測\n",
        "        epoch_corrects += torch.sum(preds == labels.data)  # 正解数の合計を更新\n",
        "\n",
        "# 正解率\n",
        "epoch_acc = epoch_corrects.double() / len(dataloader_test.dataset)\n",
        "\n",
        "print('テストデータ{}個での正解率：{:.4f}'.format(len(dataloader_test.dataset), epoch_acc))"
      ],
      "metadata": {
        "colab": {
          "base_uri": "https://localhost:8080/"
        },
        "id": "XDzzCqhOZzEh",
        "outputId": "65ffe353-227b-41eb-9085-134e739d4318"
      },
      "execution_count": null,
      "outputs": [
        {
          "output_type": "stream",
          "name": "stderr",
          "text": [
            "100%|██████████| 93/93 [00:25<00:00,  3.63it/s]"
          ]
        },
        {
          "output_type": "stream",
          "name": "stdout",
          "text": [
            "テストデータ1474個での正解率：0.9227\n"
          ]
        },
        {
          "output_type": "stream",
          "name": "stderr",
          "text": [
            "\n"
          ]
        }
      ]
    },
    {
      "cell_type": "markdown",
      "source": [
        "# Limeによる解釈"
      ],
      "metadata": {
        "id": "UsrXDuhuZuZX"
      }
    },
    {
      "cell_type": "code",
      "source": [
        "! pip install lime"
      ],
      "metadata": {
        "id": "pXDWPgrpZ6mX",
        "outputId": "1e9acb5f-ff3b-4dec-c203-ca652905df15",
        "colab": {
          "base_uri": "https://localhost:8080/"
        }
      },
      "execution_count": 78,
      "outputs": [
        {
          "output_type": "stream",
          "name": "stdout",
          "text": [
            "Looking in indexes: https://pypi.org/simple, https://us-python.pkg.dev/colab-wheels/public/simple/\n",
            "Collecting lime\n",
            "  Downloading lime-0.2.0.1.tar.gz (275 kB)\n",
            "\u001b[K     |████████████████████████████████| 275 kB 5.0 MB/s \n",
            "\u001b[?25hRequirement already satisfied: matplotlib in /usr/local/lib/python3.7/dist-packages (from lime) (3.2.2)\n",
            "Requirement already satisfied: numpy in /usr/local/lib/python3.7/dist-packages (from lime) (1.21.6)\n",
            "Requirement already satisfied: scipy in /usr/local/lib/python3.7/dist-packages (from lime) (1.7.3)\n",
            "Requirement already satisfied: tqdm in /usr/local/lib/python3.7/dist-packages (from lime) (4.64.1)\n",
            "Requirement already satisfied: scikit-learn>=0.18 in /usr/local/lib/python3.7/dist-packages (from lime) (1.0.2)\n",
            "Requirement already satisfied: scikit-image>=0.12 in /usr/local/lib/python3.7/dist-packages (from lime) (0.18.3)\n",
            "Requirement already satisfied: pillow!=7.1.0,!=7.1.1,>=4.3.0 in /usr/local/lib/python3.7/dist-packages (from scikit-image>=0.12->lime) (7.1.2)\n",
            "Requirement already satisfied: tifffile>=2019.7.26 in /usr/local/lib/python3.7/dist-packages (from scikit-image>=0.12->lime) (2021.11.2)\n",
            "Requirement already satisfied: networkx>=2.0 in /usr/local/lib/python3.7/dist-packages (from scikit-image>=0.12->lime) (2.6.3)\n",
            "Requirement already satisfied: PyWavelets>=1.1.1 in /usr/local/lib/python3.7/dist-packages (from scikit-image>=0.12->lime) (1.3.0)\n",
            "Requirement already satisfied: imageio>=2.3.0 in /usr/local/lib/python3.7/dist-packages (from scikit-image>=0.12->lime) (2.9.0)\n",
            "Requirement already satisfied: kiwisolver>=1.0.1 in /usr/local/lib/python3.7/dist-packages (from matplotlib->lime) (1.4.4)\n",
            "Requirement already satisfied: python-dateutil>=2.1 in /usr/local/lib/python3.7/dist-packages (from matplotlib->lime) (2.8.2)\n",
            "Requirement already satisfied: pyparsing!=2.0.4,!=2.1.2,!=2.1.6,>=2.0.1 in /usr/local/lib/python3.7/dist-packages (from matplotlib->lime) (3.0.9)\n",
            "Requirement already satisfied: cycler>=0.10 in /usr/local/lib/python3.7/dist-packages (from matplotlib->lime) (0.11.0)\n",
            "Requirement already satisfied: typing-extensions in /usr/local/lib/python3.7/dist-packages (from kiwisolver>=1.0.1->matplotlib->lime) (4.1.1)\n",
            "Requirement already satisfied: six>=1.5 in /usr/local/lib/python3.7/dist-packages (from python-dateutil>=2.1->matplotlib->lime) (1.15.0)\n",
            "Requirement already satisfied: threadpoolctl>=2.0.0 in /usr/local/lib/python3.7/dist-packages (from scikit-learn>=0.18->lime) (3.1.0)\n",
            "Requirement already satisfied: joblib>=0.11 in /usr/local/lib/python3.7/dist-packages (from scikit-learn>=0.18->lime) (1.1.0)\n",
            "Building wheels for collected packages: lime\n",
            "  Building wheel for lime (setup.py) ... \u001b[?25l\u001b[?25hdone\n",
            "  Created wheel for lime: filename=lime-0.2.0.1-py3-none-any.whl size=283857 sha256=29fa0509dcd6e721a095a2b32244b64da1c47e89855cd71bdac8d7fb827deca2\n",
            "  Stored in directory: /root/.cache/pip/wheels/ca/cb/e5/ac701e12d365a08917bf4c6171c0961bc880a8181359c66aa7\n",
            "Successfully built lime\n",
            "Installing collected packages: lime\n",
            "Successfully installed lime-0.2.0.1\n"
          ]
        }
      ]
    },
    {
      "cell_type": "code",
      "source": [
        "import torch.nn.functional as F\n",
        "import lime\n",
        "from lime.lime_text import LimeTextExplainer"
      ],
      "metadata": {
        "id": "cG2yvlrVZ7TF"
      },
      "execution_count": 79,
      "outputs": []
    },
    {
      "cell_type": "code",
      "source": [
        "class_names = [\n",
        "    'dokujo-tsushin',\n",
        "    'it-life-hack',\n",
        "    'smax',\n",
        "    'sports-watch',\n",
        "    'kaden-channel',\n",
        "    'movie-enter',\n",
        "    'topic-news',\n",
        "    'livedoor-homme',\n",
        "    'peachy'\n",
        "    ]"
      ],
      "metadata": {
        "id": "yTXSbyFQaODd"
      },
      "execution_count": 82,
      "outputs": []
    },
    {
      "cell_type": "code",
      "source": [
        "device = torch.device(\"cuda:0\" if torch.cuda.is_available() else \"cpu\")\n",
        "\n",
        "def predictor(texts):\n",
        "    encoding = tokenizer.batch_encode_plus(texts, padding=\"max_length\", max_length=512)\n",
        "    print(encoding)\n",
        "    \n",
        "    input_ids = torch.tensor(encoding['input_ids']).to(device)\n",
        "    print(input_ids.size())\n",
        "\n",
        "    with torch.no_grad():\n",
        "        output = net_trained(input_ids, attention_show_flg=False)\n",
        "    \n",
        "    probas = F.softmax(output).cpu().detach().numpy()\n",
        "\n",
        "    return probas"
      ],
      "metadata": {
        "id": "3lT3iDzwUHA_"
      },
      "execution_count": 101,
      "outputs": []
    },
    {
      "cell_type": "code",
      "source": [
        "i = 2\n",
        "texts = []\n",
        "texts.append(dataset_test[i][\"text\"])\n",
        "output = predictor(texts)\n",
        "output"
      ],
      "metadata": {
        "colab": {
          "base_uri": "https://localhost:8080/"
        },
        "id": "LBqAQI6pUFwz",
        "outputId": "60609018-a12a-4725-bf3a-8d22ffc6e19c"
      },
      "execution_count": 104,
      "outputs": [
        {
          "output_type": "stream",
          "name": "stdout",
          "text": [
            "{'input_ids': [[2, 197, 32, 4473, 333, 6, 6098, 36, 49, 1148, 14027, 301, 143, 184, 14882, 7, 9, 6, 22309, 28838, 23612, 724, 28472, 4328, 2554, 29986, 13, 6, 601, 28522, 2233, 28472, 11071, 493, 28500, 14, 128, 793, 8, 91, 542, 1213, 14, 486, 3453, 7, 7143, 11, 10570, 267, 36, 49, 1148, 14027, 18361, 38, 5, 3001, 12, 9, 6, 744, 28737, 4668, 29634, 6, 8629, 28551, 5283, 60, 5, 7143, 7, 5764, 10, 8, 22237, 6, 744, 28737, 40, 36, 7946, 75, 13, 4479, 16, 21, 2610, 29, 2935, 28471, 101, 573, 251, 18, 5602, 69, 8096, 5, 124, 7, 6373, 16, 2501, 40, 1108, 140, 7143, 14, 6202, 84, 10, 11071, 8, 36, 26590, 45, 3083, 16, 2610, 11218, 6, 23218, 28469, 20, 16, 14930, 28457, 18607, 28454, 1778, 4046, 28484, 54, 38, 13, 10880, 34, 13, 6, 59, 2524, 7, 9, 36, 23, 744, 28737, 5, 24, 1925, 212, 16, 9533, 3318, 9763, 1058, 2992, 11218, 6, 20654, 20125, 16, 2610, 54, 1852, 38, 13, 3059, 1549, 244, 28927, 8, 171, 7, 9, 6, 486, 7054, 5, 26159, 5762, 29494, 28, 36, 16329, 28523, 49, 8, 1, 7134, 630, 38, 13, 1, 10, 4367, 12, 1, 10, 8, 106, 6, 657, 12, 9, 15327, 28719, 28472, 12073, 9737, 28514, 13, 4265, 7, 10889, 3361, 14, 378, 6, 901, 5, 6905, 12, 28, 8545, 12073, 5, 1925, 11, 3091, 15, 16, 33, 4328, 1487, 6, 91, 542, 9296, 35, 8629, 28551, 40, 36, 6905, 7, 12073, 5, 1925, 11, 9914, 16, 33, 124, 2992, 14, 6, 375, 53, 28792, 28616, 12, 2575, 1058, 2992, 29, 7045, 140, 26774, 28599, 5, 124, 18, 7143, 14, 24259, 171, 7, 9, 4328, 28, 36, 375, 53, 28792, 28616, 4847, 80, 2992, 54, 38, 13, 6388, 9, 3059, 2708, 10, 14, 6, 21314, 36, 21272, 6, 4673, 276, 14, 11701, 1058, 28455, 8, 13278, 28454, 21, 735, 38, 13, 108, 28833, 11, 7995, 1950, 6, 10857, 1883, 14, 1273, 3563, 16, 2533, 485, 14614, 2383, 2992, 54, 8, 80, 80, 38, 13, 6, 20663, 28457, 14, 18918, 3325, 40, 6202, 342, 2203, 12944, 1964, 11, 2155, 7674, 12, 3727, 6, 11071, 14, 36, 4397, 287, 53, 12, 3250, 10294, 12, 4265, 7, 21, 2610, 40, 1852, 38, 13, 6, 1183, 7, 3610, 11, 13923, 49, 6, 36, 4508, 28455, 128, 12, 4799, 45, 2217, 1058, 2992, 29, 7045, 13, 1295, 11, 2661, 4525, 4551, 4328, 308, 10, 8, 3, 0, 0, 0, 0, 0, 0, 0, 0, 0, 0, 0, 0, 0, 0, 0, 0, 0, 0, 0, 0, 0, 0, 0, 0, 0, 0, 0, 0, 0, 0, 0, 0, 0, 0, 0, 0, 0, 0, 0, 0, 0, 0, 0, 0, 0, 0, 0, 0, 0, 0, 0, 0, 0, 0, 0, 0, 0, 0, 0, 0, 0, 0, 0, 0, 0, 0, 0, 0, 0, 0, 0, 0, 0, 0, 0, 0, 0, 0, 0, 0, 0, 0, 0, 0, 0, 0, 0, 0, 0, 0, 0, 0, 0, 0, 0, 0, 0, 0, 0, 0, 0, 0, 0, 0]], 'token_type_ids': [[0, 0, 0, 0, 0, 0, 0, 0, 0, 0, 0, 0, 0, 0, 0, 0, 0, 0, 0, 0, 0, 0, 0, 0, 0, 0, 0, 0, 0, 0, 0, 0, 0, 0, 0, 0, 0, 0, 0, 0, 0, 0, 0, 0, 0, 0, 0, 0, 0, 0, 0, 0, 0, 0, 0, 0, 0, 0, 0, 0, 0, 0, 0, 0, 0, 0, 0, 0, 0, 0, 0, 0, 0, 0, 0, 0, 0, 0, 0, 0, 0, 0, 0, 0, 0, 0, 0, 0, 0, 0, 0, 0, 0, 0, 0, 0, 0, 0, 0, 0, 0, 0, 0, 0, 0, 0, 0, 0, 0, 0, 0, 0, 0, 0, 0, 0, 0, 0, 0, 0, 0, 0, 0, 0, 0, 0, 0, 0, 0, 0, 0, 0, 0, 0, 0, 0, 0, 0, 0, 0, 0, 0, 0, 0, 0, 0, 0, 0, 0, 0, 0, 0, 0, 0, 0, 0, 0, 0, 0, 0, 0, 0, 0, 0, 0, 0, 0, 0, 0, 0, 0, 0, 0, 0, 0, 0, 0, 0, 0, 0, 0, 0, 0, 0, 0, 0, 0, 0, 0, 0, 0, 0, 0, 0, 0, 0, 0, 0, 0, 0, 0, 0, 0, 0, 0, 0, 0, 0, 0, 0, 0, 0, 0, 0, 0, 0, 0, 0, 0, 0, 0, 0, 0, 0, 0, 0, 0, 0, 0, 0, 0, 0, 0, 0, 0, 0, 0, 0, 0, 0, 0, 0, 0, 0, 0, 0, 0, 0, 0, 0, 0, 0, 0, 0, 0, 0, 0, 0, 0, 0, 0, 0, 0, 0, 0, 0, 0, 0, 0, 0, 0, 0, 0, 0, 0, 0, 0, 0, 0, 0, 0, 0, 0, 0, 0, 0, 0, 0, 0, 0, 0, 0, 0, 0, 0, 0, 0, 0, 0, 0, 0, 0, 0, 0, 0, 0, 0, 0, 0, 0, 0, 0, 0, 0, 0, 0, 0, 0, 0, 0, 0, 0, 0, 0, 0, 0, 0, 0, 0, 0, 0, 0, 0, 0, 0, 0, 0, 0, 0, 0, 0, 0, 0, 0, 0, 0, 0, 0, 0, 0, 0, 0, 0, 0, 0, 0, 0, 0, 0, 0, 0, 0, 0, 0, 0, 0, 0, 0, 0, 0, 0, 0, 0, 0, 0, 0, 0, 0, 0, 0, 0, 0, 0, 0, 0, 0, 0, 0, 0, 0, 0, 0, 0, 0, 0, 0, 0, 0, 0, 0, 0, 0, 0, 0, 0, 0, 0, 0, 0, 0, 0, 0, 0, 0, 0, 0, 0, 0, 0, 0, 0, 0, 0, 0, 0, 0, 0, 0, 0, 0, 0, 0, 0, 0, 0, 0, 0, 0, 0, 0, 0, 0, 0, 0, 0, 0, 0, 0, 0, 0, 0, 0, 0, 0, 0, 0, 0, 0, 0, 0, 0, 0, 0, 0, 0, 0, 0, 0, 0, 0, 0, 0, 0, 0, 0, 0, 0, 0, 0, 0, 0, 0, 0, 0, 0, 0, 0, 0, 0, 0, 0, 0, 0, 0, 0, 0, 0, 0, 0, 0, 0, 0, 0, 0, 0, 0, 0, 0, 0, 0, 0, 0]], 'attention_mask': [[1, 1, 1, 1, 1, 1, 1, 1, 1, 1, 1, 1, 1, 1, 1, 1, 1, 1, 1, 1, 1, 1, 1, 1, 1, 1, 1, 1, 1, 1, 1, 1, 1, 1, 1, 1, 1, 1, 1, 1, 1, 1, 1, 1, 1, 1, 1, 1, 1, 1, 1, 1, 1, 1, 1, 1, 1, 1, 1, 1, 1, 1, 1, 1, 1, 1, 1, 1, 1, 1, 1, 1, 1, 1, 1, 1, 1, 1, 1, 1, 1, 1, 1, 1, 1, 1, 1, 1, 1, 1, 1, 1, 1, 1, 1, 1, 1, 1, 1, 1, 1, 1, 1, 1, 1, 1, 1, 1, 1, 1, 1, 1, 1, 1, 1, 1, 1, 1, 1, 1, 1, 1, 1, 1, 1, 1, 1, 1, 1, 1, 1, 1, 1, 1, 1, 1, 1, 1, 1, 1, 1, 1, 1, 1, 1, 1, 1, 1, 1, 1, 1, 1, 1, 1, 1, 1, 1, 1, 1, 1, 1, 1, 1, 1, 1, 1, 1, 1, 1, 1, 1, 1, 1, 1, 1, 1, 1, 1, 1, 1, 1, 1, 1, 1, 1, 1, 1, 1, 1, 1, 1, 1, 1, 1, 1, 1, 1, 1, 1, 1, 1, 1, 1, 1, 1, 1, 1, 1, 1, 1, 1, 1, 1, 1, 1, 1, 1, 1, 1, 1, 1, 1, 1, 1, 1, 1, 1, 1, 1, 1, 1, 1, 1, 1, 1, 1, 1, 1, 1, 1, 1, 1, 1, 1, 1, 1, 1, 1, 1, 1, 1, 1, 1, 1, 1, 1, 1, 1, 1, 1, 1, 1, 1, 1, 1, 1, 1, 1, 1, 1, 1, 1, 1, 1, 1, 1, 1, 1, 1, 1, 1, 1, 1, 1, 1, 1, 1, 1, 1, 1, 1, 1, 1, 1, 1, 1, 1, 1, 1, 1, 1, 1, 1, 1, 1, 1, 1, 1, 1, 1, 1, 1, 1, 1, 1, 1, 1, 1, 1, 1, 1, 1, 1, 1, 1, 1, 1, 1, 1, 1, 1, 1, 1, 1, 1, 1, 1, 1, 1, 1, 1, 1, 1, 1, 1, 1, 1, 1, 1, 1, 1, 1, 1, 1, 1, 1, 1, 1, 1, 1, 1, 1, 1, 1, 1, 1, 1, 1, 1, 1, 1, 1, 1, 1, 1, 1, 1, 1, 1, 1, 1, 1, 1, 1, 1, 1, 1, 1, 1, 1, 1, 1, 1, 1, 1, 1, 1, 1, 1, 1, 1, 1, 1, 1, 1, 1, 1, 1, 0, 0, 0, 0, 0, 0, 0, 0, 0, 0, 0, 0, 0, 0, 0, 0, 0, 0, 0, 0, 0, 0, 0, 0, 0, 0, 0, 0, 0, 0, 0, 0, 0, 0, 0, 0, 0, 0, 0, 0, 0, 0, 0, 0, 0, 0, 0, 0, 0, 0, 0, 0, 0, 0, 0, 0, 0, 0, 0, 0, 0, 0, 0, 0, 0, 0, 0, 0, 0, 0, 0, 0, 0, 0, 0, 0, 0, 0, 0, 0, 0, 0, 0, 0, 0, 0, 0, 0, 0, 0, 0, 0, 0, 0, 0, 0, 0, 0, 0, 0, 0, 0, 0, 0]]}\n",
            "torch.Size([1, 512])\n"
          ]
        },
        {
          "output_type": "stream",
          "name": "stderr",
          "text": [
            "/usr/local/lib/python3.7/dist-packages/ipykernel_launcher.py:13: UserWarning: Implicit dimension choice for softmax has been deprecated. Change the call to include dim=X as an argument.\n",
            "  del sys.path[0]\n"
          ]
        },
        {
          "output_type": "execute_result",
          "data": {
            "text/plain": [
              "array([[4.6288947e-06, 9.5980095e-06, 1.9094357e-06, 3.4744698e-05,\n",
              "        1.3533072e-04, 2.8226789e-06, 3.3784329e-06, 9.7459829e-01,\n",
              "        2.5209313e-02]], dtype=float32)"
            ]
          },
          "metadata": {},
          "execution_count": 104
        }
      ]
    },
    {
      "cell_type": "code",
      "source": [
        "output.sum()"
      ],
      "metadata": {
        "id": "liDGv53Bcyv3",
        "outputId": "e592d01f-ccb1-47f6-c23c-36be134b3a19",
        "colab": {
          "base_uri": "https://localhost:8080/"
        }
      },
      "execution_count": 105,
      "outputs": [
        {
          "output_type": "execute_result",
          "data": {
            "text/plain": [
              "1.0000001"
            ]
          },
          "metadata": {},
          "execution_count": 105
        }
      ]
    },
    {
      "cell_type": "code",
      "source": [
        "print(np.argmax(output))\n",
        "print(dataset_test[i][\"text\"])\n",
        "print(dataset_test[i][\"label\"])"
      ],
      "metadata": {
        "colab": {
          "base_uri": "https://localhost:8080/"
        },
        "id": "NDbACsovXfbo",
        "outputId": "9b18835f-ce14-4ab4-9e56-94b74e131842"
      },
      "execution_count": 107,
      "outputs": [
        {
          "output_type": "stream",
          "name": "stdout",
          "text": [
            "7\n",
            "12日深夜放送、テレビ朝日「やべっちF.C.」には、VVVフェンロー・吉田麻也と、フィテッセ・安田理大が生出演。日本代表メンバーが番組ゲストに質問をぶつける「やべっちQB」のコーナーでは、今野泰幸、長谷部誠らの質問に答えた。\n",
            "\n",
            "まずは、今野から「先輩だと思っていますか？（6歳下なのに同学年のように接してくるから）」という質問が寄せられた安田。「こういうこと言ってますけど、いじられて凄い嬉しそうっすよ」と反論すると、その直後には「（今野の）写真見てもらったら分かるんですけど、エラはってますよね」と言いたい放題。これには、番組MCの矢部浩之も「ホンマや。舐めてるわ」と呆れた様子で呟いた。\n",
            "\n",
            "また、ドイツではシャルケ・内田篤人と一緒に過ごす機会が多く、自身のブログでも度々内田の写真をアップしている吉田に対し、日本代表キャプテン・長谷部から「ブログに内田の写真を載せているようですが、他人任せでいいんですか？」というツッコミのような質問が……。\n",
            "\n",
            "これには吉田も「他人任せじゃないですよ」と一旦は言い返したが、すぐさま「正直、アクセス数が増えるんで。やらしい話」と本音を漏らし、「（仲が良過ぎて怪しい？）普通ですよ。ないない」と、仲良いがゆえに周囲から寄せられる“疑惑”を苦笑いで否定、安田が「常に二人で部屋とかで一緒にいますからね」と、火に油を注ぐや、「なんで生でそんなこと言うんですか？」と声を荒げる吉田だった。\n",
            "7\n"
          ]
        }
      ]
    },
    {
      "cell_type": "code",
      "source": [
        "explainer = LimeTextExplainer(class_names=class_names)\n",
        "\n",
        "str_to_predict = texts[0]\n",
        "exp = explainer.explain_instance(str_to_predict, predictor, num_features=20, num_samples=2000)\n",
        "exp.show_in_notebook(text=str_to_predict)"
      ],
      "metadata": {
        "id": "6xdRknKYZ1EJ",
        "outputId": "3cb944f6-027f-4a3b-916b-57b447ad8e9f",
        "colab": {
          "base_uri": "https://localhost:8080/",
          "height": 605
        }
      },
      "execution_count": 108,
      "outputs": [
        {
          "output_type": "stream",
          "name": "stderr",
          "text": [
            "IOPub data rate exceeded.\n",
            "The notebook server will temporarily stop sending output\n",
            "to the client in order to avoid crashing it.\n",
            "To change this limit, set the config variable\n",
            "`--NotebookApp.iopub_data_rate_limit`.\n",
            "\n",
            "Current values:\n",
            "NotebookApp.iopub_data_rate_limit=1000000.0 (bytes/sec)\n",
            "NotebookApp.rate_limit_window=3.0 (secs)\n",
            "\n"
          ]
        },
        {
          "output_type": "error",
          "ename": "RuntimeError",
          "evalue": "ignored",
          "traceback": [
            "\u001b[0;31m---------------------------------------------------------------------------\u001b[0m",
            "\u001b[0;31mRuntimeError\u001b[0m                              Traceback (most recent call last)",
            "\u001b[0;32m<ipython-input-108-5a1e796f9ac8>\u001b[0m in \u001b[0;36m<module>\u001b[0;34m\u001b[0m\n\u001b[1;32m      2\u001b[0m \u001b[0;34m\u001b[0m\u001b[0m\n\u001b[1;32m      3\u001b[0m \u001b[0mstr_to_predict\u001b[0m \u001b[0;34m=\u001b[0m \u001b[0mtexts\u001b[0m\u001b[0;34m[\u001b[0m\u001b[0;36m0\u001b[0m\u001b[0;34m]\u001b[0m\u001b[0;34m\u001b[0m\u001b[0;34m\u001b[0m\u001b[0m\n\u001b[0;32m----> 4\u001b[0;31m \u001b[0mexp\u001b[0m \u001b[0;34m=\u001b[0m \u001b[0mexplainer\u001b[0m\u001b[0;34m.\u001b[0m\u001b[0mexplain_instance\u001b[0m\u001b[0;34m(\u001b[0m\u001b[0mstr_to_predict\u001b[0m\u001b[0;34m,\u001b[0m \u001b[0mpredictor\u001b[0m\u001b[0;34m,\u001b[0m \u001b[0mnum_features\u001b[0m\u001b[0;34m=\u001b[0m\u001b[0;36m20\u001b[0m\u001b[0;34m,\u001b[0m \u001b[0mnum_samples\u001b[0m\u001b[0;34m=\u001b[0m\u001b[0;36m2000\u001b[0m\u001b[0;34m)\u001b[0m\u001b[0;34m\u001b[0m\u001b[0;34m\u001b[0m\u001b[0m\n\u001b[0m\u001b[1;32m      5\u001b[0m \u001b[0mexp\u001b[0m\u001b[0;34m.\u001b[0m\u001b[0mshow_in_notebook\u001b[0m\u001b[0;34m(\u001b[0m\u001b[0mtext\u001b[0m\u001b[0;34m=\u001b[0m\u001b[0mstr_to_predict\u001b[0m\u001b[0;34m)\u001b[0m\u001b[0;34m\u001b[0m\u001b[0;34m\u001b[0m\u001b[0m\n",
            "\u001b[0;32m/usr/local/lib/python3.7/dist-packages/lime/lime_text.py\u001b[0m in \u001b[0;36mexplain_instance\u001b[0;34m(self, text_instance, classifier_fn, labels, top_labels, num_features, num_samples, distance_metric, model_regressor)\u001b[0m\n\u001b[1;32m    413\u001b[0m         data, yss, distances = self.__data_labels_distances(\n\u001b[1;32m    414\u001b[0m             \u001b[0mindexed_string\u001b[0m\u001b[0;34m,\u001b[0m \u001b[0mclassifier_fn\u001b[0m\u001b[0;34m,\u001b[0m \u001b[0mnum_samples\u001b[0m\u001b[0;34m,\u001b[0m\u001b[0;34m\u001b[0m\u001b[0;34m\u001b[0m\u001b[0m\n\u001b[0;32m--> 415\u001b[0;31m             distance_metric=distance_metric)\n\u001b[0m\u001b[1;32m    416\u001b[0m         \u001b[0;32mif\u001b[0m \u001b[0mself\u001b[0m\u001b[0;34m.\u001b[0m\u001b[0mclass_names\u001b[0m \u001b[0;32mis\u001b[0m \u001b[0;32mNone\u001b[0m\u001b[0;34m:\u001b[0m\u001b[0;34m\u001b[0m\u001b[0;34m\u001b[0m\u001b[0m\n\u001b[1;32m    417\u001b[0m             \u001b[0mself\u001b[0m\u001b[0;34m.\u001b[0m\u001b[0mclass_names\u001b[0m \u001b[0;34m=\u001b[0m \u001b[0;34m[\u001b[0m\u001b[0mstr\u001b[0m\u001b[0;34m(\u001b[0m\u001b[0mx\u001b[0m\u001b[0;34m)\u001b[0m \u001b[0;32mfor\u001b[0m \u001b[0mx\u001b[0m \u001b[0;32min\u001b[0m \u001b[0mrange\u001b[0m\u001b[0;34m(\u001b[0m\u001b[0myss\u001b[0m\u001b[0;34m[\u001b[0m\u001b[0;36m0\u001b[0m\u001b[0;34m]\u001b[0m\u001b[0;34m.\u001b[0m\u001b[0mshape\u001b[0m\u001b[0;34m[\u001b[0m\u001b[0;36m0\u001b[0m\u001b[0;34m]\u001b[0m\u001b[0;34m)\u001b[0m\u001b[0;34m]\u001b[0m\u001b[0;34m\u001b[0m\u001b[0;34m\u001b[0m\u001b[0m\n",
            "\u001b[0;32m/usr/local/lib/python3.7/dist-packages/lime/lime_text.py\u001b[0m in \u001b[0;36m__data_labels_distances\u001b[0;34m(self, indexed_string, classifier_fn, num_samples, distance_metric)\u001b[0m\n\u001b[1;32m    480\u001b[0m             \u001b[0mdata\u001b[0m\u001b[0;34m[\u001b[0m\u001b[0mi\u001b[0m\u001b[0;34m,\u001b[0m \u001b[0minactive\u001b[0m\u001b[0;34m]\u001b[0m \u001b[0;34m=\u001b[0m \u001b[0;36m0\u001b[0m\u001b[0;34m\u001b[0m\u001b[0;34m\u001b[0m\u001b[0m\n\u001b[1;32m    481\u001b[0m             \u001b[0minverse_data\u001b[0m\u001b[0;34m.\u001b[0m\u001b[0mappend\u001b[0m\u001b[0;34m(\u001b[0m\u001b[0mindexed_string\u001b[0m\u001b[0;34m.\u001b[0m\u001b[0minverse_removing\u001b[0m\u001b[0;34m(\u001b[0m\u001b[0minactive\u001b[0m\u001b[0;34m)\u001b[0m\u001b[0;34m)\u001b[0m\u001b[0;34m\u001b[0m\u001b[0;34m\u001b[0m\u001b[0m\n\u001b[0;32m--> 482\u001b[0;31m         \u001b[0mlabels\u001b[0m \u001b[0;34m=\u001b[0m \u001b[0mclassifier_fn\u001b[0m\u001b[0;34m(\u001b[0m\u001b[0minverse_data\u001b[0m\u001b[0;34m)\u001b[0m\u001b[0;34m\u001b[0m\u001b[0;34m\u001b[0m\u001b[0m\n\u001b[0m\u001b[1;32m    483\u001b[0m         \u001b[0mdistances\u001b[0m \u001b[0;34m=\u001b[0m \u001b[0mdistance_fn\u001b[0m\u001b[0;34m(\u001b[0m\u001b[0msp\u001b[0m\u001b[0;34m.\u001b[0m\u001b[0msparse\u001b[0m\u001b[0;34m.\u001b[0m\u001b[0mcsr_matrix\u001b[0m\u001b[0;34m(\u001b[0m\u001b[0mdata\u001b[0m\u001b[0;34m)\u001b[0m\u001b[0;34m)\u001b[0m\u001b[0;34m\u001b[0m\u001b[0;34m\u001b[0m\u001b[0m\n\u001b[1;32m    484\u001b[0m         \u001b[0;32mreturn\u001b[0m \u001b[0mdata\u001b[0m\u001b[0;34m,\u001b[0m \u001b[0mlabels\u001b[0m\u001b[0;34m,\u001b[0m \u001b[0mdistances\u001b[0m\u001b[0;34m\u001b[0m\u001b[0;34m\u001b[0m\u001b[0m\n",
            "\u001b[0;32m<ipython-input-101-019351dc98a2>\u001b[0m in \u001b[0;36mpredictor\u001b[0;34m(texts)\u001b[0m\n\u001b[1;32m      9\u001b[0m \u001b[0;34m\u001b[0m\u001b[0m\n\u001b[1;32m     10\u001b[0m     \u001b[0;32mwith\u001b[0m \u001b[0mtorch\u001b[0m\u001b[0;34m.\u001b[0m\u001b[0mno_grad\u001b[0m\u001b[0;34m(\u001b[0m\u001b[0;34m)\u001b[0m\u001b[0;34m:\u001b[0m\u001b[0;34m\u001b[0m\u001b[0;34m\u001b[0m\u001b[0m\n\u001b[0;32m---> 11\u001b[0;31m         \u001b[0moutput\u001b[0m \u001b[0;34m=\u001b[0m \u001b[0mnet_trained\u001b[0m\u001b[0;34m(\u001b[0m\u001b[0minput_ids\u001b[0m\u001b[0;34m,\u001b[0m \u001b[0mattention_show_flg\u001b[0m\u001b[0;34m=\u001b[0m\u001b[0;32mFalse\u001b[0m\u001b[0;34m)\u001b[0m\u001b[0;34m\u001b[0m\u001b[0;34m\u001b[0m\u001b[0m\n\u001b[0m\u001b[1;32m     12\u001b[0m \u001b[0;34m\u001b[0m\u001b[0m\n\u001b[1;32m     13\u001b[0m     \u001b[0mprobas\u001b[0m \u001b[0;34m=\u001b[0m \u001b[0mF\u001b[0m\u001b[0;34m.\u001b[0m\u001b[0msoftmax\u001b[0m\u001b[0;34m(\u001b[0m\u001b[0moutput\u001b[0m\u001b[0;34m)\u001b[0m\u001b[0;34m.\u001b[0m\u001b[0mcpu\u001b[0m\u001b[0;34m(\u001b[0m\u001b[0;34m)\u001b[0m\u001b[0;34m.\u001b[0m\u001b[0mdetach\u001b[0m\u001b[0;34m(\u001b[0m\u001b[0;34m)\u001b[0m\u001b[0;34m.\u001b[0m\u001b[0mnumpy\u001b[0m\u001b[0;34m(\u001b[0m\u001b[0;34m)\u001b[0m\u001b[0;34m\u001b[0m\u001b[0;34m\u001b[0m\u001b[0m\n",
            "\u001b[0;32m/usr/local/lib/python3.7/dist-packages/torch/nn/modules/module.py\u001b[0m in \u001b[0;36m_call_impl\u001b[0;34m(self, *input, **kwargs)\u001b[0m\n\u001b[1;32m   1128\u001b[0m         if not (self._backward_hooks or self._forward_hooks or self._forward_pre_hooks or _global_backward_hooks\n\u001b[1;32m   1129\u001b[0m                 or _global_forward_hooks or _global_forward_pre_hooks):\n\u001b[0;32m-> 1130\u001b[0;31m             \u001b[0;32mreturn\u001b[0m \u001b[0mforward_call\u001b[0m\u001b[0;34m(\u001b[0m\u001b[0;34m*\u001b[0m\u001b[0minput\u001b[0m\u001b[0;34m,\u001b[0m \u001b[0;34m**\u001b[0m\u001b[0mkwargs\u001b[0m\u001b[0;34m)\u001b[0m\u001b[0;34m\u001b[0m\u001b[0;34m\u001b[0m\u001b[0m\n\u001b[0m\u001b[1;32m   1131\u001b[0m         \u001b[0;31m# Do not call functions when jit is used\u001b[0m\u001b[0;34m\u001b[0m\u001b[0;34m\u001b[0m\u001b[0;34m\u001b[0m\u001b[0m\n\u001b[1;32m   1132\u001b[0m         \u001b[0mfull_backward_hooks\u001b[0m\u001b[0;34m,\u001b[0m \u001b[0mnon_full_backward_hooks\u001b[0m \u001b[0;34m=\u001b[0m \u001b[0;34m[\u001b[0m\u001b[0;34m]\u001b[0m\u001b[0;34m,\u001b[0m \u001b[0;34m[\u001b[0m\u001b[0;34m]\u001b[0m\u001b[0;34m\u001b[0m\u001b[0;34m\u001b[0m\u001b[0m\n",
            "\u001b[0;32m<ipython-input-15-d68d82bf0ca9>\u001b[0m in \u001b[0;36mforward\u001b[0;34m(self, input_ids, attention_show_flg)\u001b[0m\n\u001b[1;32m     30\u001b[0m         \u001b[0;31m# BERTの基本モデル部分の順伝搬\u001b[0m\u001b[0;34m\u001b[0m\u001b[0;34m\u001b[0m\u001b[0;34m\u001b[0m\u001b[0m\n\u001b[1;32m     31\u001b[0m         \u001b[0;31m# 順伝搬させる\u001b[0m\u001b[0;34m\u001b[0m\u001b[0;34m\u001b[0m\u001b[0;34m\u001b[0m\u001b[0m\n\u001b[0;32m---> 32\u001b[0;31m         \u001b[0mresult\u001b[0m \u001b[0;34m=\u001b[0m \u001b[0mself\u001b[0m\u001b[0;34m.\u001b[0m\u001b[0mbert\u001b[0m\u001b[0;34m(\u001b[0m\u001b[0minput_ids\u001b[0m\u001b[0;34m)\u001b[0m  \u001b[0;31m# reult は、sequence_output, pooled_output\u001b[0m\u001b[0;34m\u001b[0m\u001b[0;34m\u001b[0m\u001b[0m\n\u001b[0m\u001b[1;32m     33\u001b[0m \u001b[0;34m\u001b[0m\u001b[0m\n\u001b[1;32m     34\u001b[0m         \u001b[0;31m# sequence_outputの先頭の単語ベクトルを抜き出す\u001b[0m\u001b[0;34m\u001b[0m\u001b[0;34m\u001b[0m\u001b[0;34m\u001b[0m\u001b[0m\n",
            "\u001b[0;32m/usr/local/lib/python3.7/dist-packages/torch/nn/modules/module.py\u001b[0m in \u001b[0;36m_call_impl\u001b[0;34m(self, *input, **kwargs)\u001b[0m\n\u001b[1;32m   1128\u001b[0m         if not (self._backward_hooks or self._forward_hooks or self._forward_pre_hooks or _global_backward_hooks\n\u001b[1;32m   1129\u001b[0m                 or _global_forward_hooks or _global_forward_pre_hooks):\n\u001b[0;32m-> 1130\u001b[0;31m             \u001b[0;32mreturn\u001b[0m \u001b[0mforward_call\u001b[0m\u001b[0;34m(\u001b[0m\u001b[0;34m*\u001b[0m\u001b[0minput\u001b[0m\u001b[0;34m,\u001b[0m \u001b[0;34m**\u001b[0m\u001b[0mkwargs\u001b[0m\u001b[0;34m)\u001b[0m\u001b[0;34m\u001b[0m\u001b[0;34m\u001b[0m\u001b[0m\n\u001b[0m\u001b[1;32m   1131\u001b[0m         \u001b[0;31m# Do not call functions when jit is used\u001b[0m\u001b[0;34m\u001b[0m\u001b[0;34m\u001b[0m\u001b[0;34m\u001b[0m\u001b[0m\n\u001b[1;32m   1132\u001b[0m         \u001b[0mfull_backward_hooks\u001b[0m\u001b[0;34m,\u001b[0m \u001b[0mnon_full_backward_hooks\u001b[0m \u001b[0;34m=\u001b[0m \u001b[0;34m[\u001b[0m\u001b[0;34m]\u001b[0m\u001b[0;34m,\u001b[0m \u001b[0;34m[\u001b[0m\u001b[0;34m]\u001b[0m\u001b[0;34m\u001b[0m\u001b[0;34m\u001b[0m\u001b[0m\n",
            "\u001b[0;32m/usr/local/lib/python3.7/dist-packages/transformers/models/bert/modeling_bert.py\u001b[0m in \u001b[0;36mforward\u001b[0;34m(self, input_ids, attention_mask, token_type_ids, position_ids, head_mask, inputs_embeds, encoder_hidden_states, encoder_attention_mask, past_key_values, use_cache, output_attentions, output_hidden_states, return_dict)\u001b[0m\n\u001b[1;32m    979\u001b[0m             \u001b[0moutput_attentions\u001b[0m\u001b[0;34m=\u001b[0m\u001b[0moutput_attentions\u001b[0m\u001b[0;34m,\u001b[0m\u001b[0;34m\u001b[0m\u001b[0;34m\u001b[0m\u001b[0m\n\u001b[1;32m    980\u001b[0m             \u001b[0moutput_hidden_states\u001b[0m\u001b[0;34m=\u001b[0m\u001b[0moutput_hidden_states\u001b[0m\u001b[0;34m,\u001b[0m\u001b[0;34m\u001b[0m\u001b[0;34m\u001b[0m\u001b[0m\n\u001b[0;32m--> 981\u001b[0;31m             \u001b[0mreturn_dict\u001b[0m\u001b[0;34m=\u001b[0m\u001b[0mreturn_dict\u001b[0m\u001b[0;34m,\u001b[0m\u001b[0;34m\u001b[0m\u001b[0;34m\u001b[0m\u001b[0m\n\u001b[0m\u001b[1;32m    982\u001b[0m         )\n\u001b[1;32m    983\u001b[0m         \u001b[0msequence_output\u001b[0m \u001b[0;34m=\u001b[0m \u001b[0mencoder_outputs\u001b[0m\u001b[0;34m[\u001b[0m\u001b[0;36m0\u001b[0m\u001b[0;34m]\u001b[0m\u001b[0;34m\u001b[0m\u001b[0;34m\u001b[0m\u001b[0m\n",
            "\u001b[0;32m/usr/local/lib/python3.7/dist-packages/torch/nn/modules/module.py\u001b[0m in \u001b[0;36m_call_impl\u001b[0;34m(self, *input, **kwargs)\u001b[0m\n\u001b[1;32m   1128\u001b[0m         if not (self._backward_hooks or self._forward_hooks or self._forward_pre_hooks or _global_backward_hooks\n\u001b[1;32m   1129\u001b[0m                 or _global_forward_hooks or _global_forward_pre_hooks):\n\u001b[0;32m-> 1130\u001b[0;31m             \u001b[0;32mreturn\u001b[0m \u001b[0mforward_call\u001b[0m\u001b[0;34m(\u001b[0m\u001b[0;34m*\u001b[0m\u001b[0minput\u001b[0m\u001b[0;34m,\u001b[0m \u001b[0;34m**\u001b[0m\u001b[0mkwargs\u001b[0m\u001b[0;34m)\u001b[0m\u001b[0;34m\u001b[0m\u001b[0;34m\u001b[0m\u001b[0m\n\u001b[0m\u001b[1;32m   1131\u001b[0m         \u001b[0;31m# Do not call functions when jit is used\u001b[0m\u001b[0;34m\u001b[0m\u001b[0;34m\u001b[0m\u001b[0;34m\u001b[0m\u001b[0m\n\u001b[1;32m   1132\u001b[0m         \u001b[0mfull_backward_hooks\u001b[0m\u001b[0;34m,\u001b[0m \u001b[0mnon_full_backward_hooks\u001b[0m \u001b[0;34m=\u001b[0m \u001b[0;34m[\u001b[0m\u001b[0;34m]\u001b[0m\u001b[0;34m,\u001b[0m \u001b[0;34m[\u001b[0m\u001b[0;34m]\u001b[0m\u001b[0;34m\u001b[0m\u001b[0;34m\u001b[0m\u001b[0m\n",
            "\u001b[0;32m/usr/local/lib/python3.7/dist-packages/transformers/models/bert/modeling_bert.py\u001b[0m in \u001b[0;36mforward\u001b[0;34m(self, hidden_states, attention_mask, head_mask, encoder_hidden_states, encoder_attention_mask, past_key_values, use_cache, output_attentions, output_hidden_states, return_dict)\u001b[0m\n\u001b[1;32m    573\u001b[0m                     \u001b[0mencoder_attention_mask\u001b[0m\u001b[0;34m,\u001b[0m\u001b[0;34m\u001b[0m\u001b[0;34m\u001b[0m\u001b[0m\n\u001b[1;32m    574\u001b[0m                     \u001b[0mpast_key_value\u001b[0m\u001b[0;34m,\u001b[0m\u001b[0;34m\u001b[0m\u001b[0;34m\u001b[0m\u001b[0m\n\u001b[0;32m--> 575\u001b[0;31m                     \u001b[0moutput_attentions\u001b[0m\u001b[0;34m,\u001b[0m\u001b[0;34m\u001b[0m\u001b[0;34m\u001b[0m\u001b[0m\n\u001b[0m\u001b[1;32m    576\u001b[0m                 )\n\u001b[1;32m    577\u001b[0m \u001b[0;34m\u001b[0m\u001b[0m\n",
            "\u001b[0;32m/usr/local/lib/python3.7/dist-packages/torch/nn/modules/module.py\u001b[0m in \u001b[0;36m_call_impl\u001b[0;34m(self, *input, **kwargs)\u001b[0m\n\u001b[1;32m   1128\u001b[0m         if not (self._backward_hooks or self._forward_hooks or self._forward_pre_hooks or _global_backward_hooks\n\u001b[1;32m   1129\u001b[0m                 or _global_forward_hooks or _global_forward_pre_hooks):\n\u001b[0;32m-> 1130\u001b[0;31m             \u001b[0;32mreturn\u001b[0m \u001b[0mforward_call\u001b[0m\u001b[0;34m(\u001b[0m\u001b[0;34m*\u001b[0m\u001b[0minput\u001b[0m\u001b[0;34m,\u001b[0m \u001b[0;34m**\u001b[0m\u001b[0mkwargs\u001b[0m\u001b[0;34m)\u001b[0m\u001b[0;34m\u001b[0m\u001b[0;34m\u001b[0m\u001b[0m\n\u001b[0m\u001b[1;32m   1131\u001b[0m         \u001b[0;31m# Do not call functions when jit is used\u001b[0m\u001b[0;34m\u001b[0m\u001b[0;34m\u001b[0m\u001b[0;34m\u001b[0m\u001b[0m\n\u001b[1;32m   1132\u001b[0m         \u001b[0mfull_backward_hooks\u001b[0m\u001b[0;34m,\u001b[0m \u001b[0mnon_full_backward_hooks\u001b[0m \u001b[0;34m=\u001b[0m \u001b[0;34m[\u001b[0m\u001b[0;34m]\u001b[0m\u001b[0;34m,\u001b[0m \u001b[0;34m[\u001b[0m\u001b[0;34m]\u001b[0m\u001b[0;34m\u001b[0m\u001b[0;34m\u001b[0m\u001b[0m\n",
            "\u001b[0;32m/usr/local/lib/python3.7/dist-packages/transformers/models/bert/modeling_bert.py\u001b[0m in \u001b[0;36mforward\u001b[0;34m(self, hidden_states, attention_mask, head_mask, encoder_hidden_states, encoder_attention_mask, past_key_value, output_attentions)\u001b[0m\n\u001b[1;32m    459\u001b[0m             \u001b[0mhead_mask\u001b[0m\u001b[0;34m,\u001b[0m\u001b[0;34m\u001b[0m\u001b[0;34m\u001b[0m\u001b[0m\n\u001b[1;32m    460\u001b[0m             \u001b[0moutput_attentions\u001b[0m\u001b[0;34m=\u001b[0m\u001b[0moutput_attentions\u001b[0m\u001b[0;34m,\u001b[0m\u001b[0;34m\u001b[0m\u001b[0;34m\u001b[0m\u001b[0m\n\u001b[0;32m--> 461\u001b[0;31m             \u001b[0mpast_key_value\u001b[0m\u001b[0;34m=\u001b[0m\u001b[0mself_attn_past_key_value\u001b[0m\u001b[0;34m,\u001b[0m\u001b[0;34m\u001b[0m\u001b[0;34m\u001b[0m\u001b[0m\n\u001b[0m\u001b[1;32m    462\u001b[0m         )\n\u001b[1;32m    463\u001b[0m         \u001b[0mattention_output\u001b[0m \u001b[0;34m=\u001b[0m \u001b[0mself_attention_outputs\u001b[0m\u001b[0;34m[\u001b[0m\u001b[0;36m0\u001b[0m\u001b[0;34m]\u001b[0m\u001b[0;34m\u001b[0m\u001b[0;34m\u001b[0m\u001b[0m\n",
            "\u001b[0;32m/usr/local/lib/python3.7/dist-packages/torch/nn/modules/module.py\u001b[0m in \u001b[0;36m_call_impl\u001b[0;34m(self, *input, **kwargs)\u001b[0m\n\u001b[1;32m   1128\u001b[0m         if not (self._backward_hooks or self._forward_hooks or self._forward_pre_hooks or _global_backward_hooks\n\u001b[1;32m   1129\u001b[0m                 or _global_forward_hooks or _global_forward_pre_hooks):\n\u001b[0;32m-> 1130\u001b[0;31m             \u001b[0;32mreturn\u001b[0m \u001b[0mforward_call\u001b[0m\u001b[0;34m(\u001b[0m\u001b[0;34m*\u001b[0m\u001b[0minput\u001b[0m\u001b[0;34m,\u001b[0m \u001b[0;34m**\u001b[0m\u001b[0mkwargs\u001b[0m\u001b[0;34m)\u001b[0m\u001b[0;34m\u001b[0m\u001b[0;34m\u001b[0m\u001b[0m\n\u001b[0m\u001b[1;32m   1131\u001b[0m         \u001b[0;31m# Do not call functions when jit is used\u001b[0m\u001b[0;34m\u001b[0m\u001b[0;34m\u001b[0m\u001b[0;34m\u001b[0m\u001b[0m\n\u001b[1;32m   1132\u001b[0m         \u001b[0mfull_backward_hooks\u001b[0m\u001b[0;34m,\u001b[0m \u001b[0mnon_full_backward_hooks\u001b[0m \u001b[0;34m=\u001b[0m \u001b[0;34m[\u001b[0m\u001b[0;34m]\u001b[0m\u001b[0;34m,\u001b[0m \u001b[0;34m[\u001b[0m\u001b[0;34m]\u001b[0m\u001b[0;34m\u001b[0m\u001b[0;34m\u001b[0m\u001b[0m\n",
            "\u001b[0;32m/usr/local/lib/python3.7/dist-packages/transformers/models/bert/modeling_bert.py\u001b[0m in \u001b[0;36mforward\u001b[0;34m(self, hidden_states, attention_mask, head_mask, encoder_hidden_states, encoder_attention_mask, past_key_value, output_attentions)\u001b[0m\n\u001b[1;32m    392\u001b[0m             \u001b[0mencoder_attention_mask\u001b[0m\u001b[0;34m,\u001b[0m\u001b[0;34m\u001b[0m\u001b[0;34m\u001b[0m\u001b[0m\n\u001b[1;32m    393\u001b[0m             \u001b[0mpast_key_value\u001b[0m\u001b[0;34m,\u001b[0m\u001b[0;34m\u001b[0m\u001b[0;34m\u001b[0m\u001b[0m\n\u001b[0;32m--> 394\u001b[0;31m             \u001b[0moutput_attentions\u001b[0m\u001b[0;34m,\u001b[0m\u001b[0;34m\u001b[0m\u001b[0;34m\u001b[0m\u001b[0m\n\u001b[0m\u001b[1;32m    395\u001b[0m         )\n\u001b[1;32m    396\u001b[0m         \u001b[0mattention_output\u001b[0m \u001b[0;34m=\u001b[0m \u001b[0mself\u001b[0m\u001b[0;34m.\u001b[0m\u001b[0moutput\u001b[0m\u001b[0;34m(\u001b[0m\u001b[0mself_outputs\u001b[0m\u001b[0;34m[\u001b[0m\u001b[0;36m0\u001b[0m\u001b[0;34m]\u001b[0m\u001b[0;34m,\u001b[0m \u001b[0mhidden_states\u001b[0m\u001b[0;34m)\u001b[0m\u001b[0;34m\u001b[0m\u001b[0;34m\u001b[0m\u001b[0m\n",
            "\u001b[0;32m/usr/local/lib/python3.7/dist-packages/torch/nn/modules/module.py\u001b[0m in \u001b[0;36m_call_impl\u001b[0;34m(self, *input, **kwargs)\u001b[0m\n\u001b[1;32m   1128\u001b[0m         if not (self._backward_hooks or self._forward_hooks or self._forward_pre_hooks or _global_backward_hooks\n\u001b[1;32m   1129\u001b[0m                 or _global_forward_hooks or _global_forward_pre_hooks):\n\u001b[0;32m-> 1130\u001b[0;31m             \u001b[0;32mreturn\u001b[0m \u001b[0mforward_call\u001b[0m\u001b[0;34m(\u001b[0m\u001b[0;34m*\u001b[0m\u001b[0minput\u001b[0m\u001b[0;34m,\u001b[0m \u001b[0;34m**\u001b[0m\u001b[0mkwargs\u001b[0m\u001b[0;34m)\u001b[0m\u001b[0;34m\u001b[0m\u001b[0;34m\u001b[0m\u001b[0m\n\u001b[0m\u001b[1;32m   1131\u001b[0m         \u001b[0;31m# Do not call functions when jit is used\u001b[0m\u001b[0;34m\u001b[0m\u001b[0;34m\u001b[0m\u001b[0;34m\u001b[0m\u001b[0m\n\u001b[1;32m   1132\u001b[0m         \u001b[0mfull_backward_hooks\u001b[0m\u001b[0;34m,\u001b[0m \u001b[0mnon_full_backward_hooks\u001b[0m \u001b[0;34m=\u001b[0m \u001b[0;34m[\u001b[0m\u001b[0;34m]\u001b[0m\u001b[0;34m,\u001b[0m \u001b[0;34m[\u001b[0m\u001b[0;34m]\u001b[0m\u001b[0;34m\u001b[0m\u001b[0;34m\u001b[0m\u001b[0m\n",
            "\u001b[0;32m/usr/local/lib/python3.7/dist-packages/transformers/models/bert/modeling_bert.py\u001b[0m in \u001b[0;36mforward\u001b[0;34m(self, hidden_states, attention_mask, head_mask, encoder_hidden_states, encoder_attention_mask, past_key_value, output_attentions)\u001b[0m\n\u001b[1;32m    289\u001b[0m \u001b[0;34m\u001b[0m\u001b[0m\n\u001b[1;32m    290\u001b[0m         \u001b[0;31m# Take the dot product between \"query\" and \"key\" to get the raw attention scores.\u001b[0m\u001b[0;34m\u001b[0m\u001b[0;34m\u001b[0m\u001b[0;34m\u001b[0m\u001b[0m\n\u001b[0;32m--> 291\u001b[0;31m         \u001b[0mattention_scores\u001b[0m \u001b[0;34m=\u001b[0m \u001b[0mtorch\u001b[0m\u001b[0;34m.\u001b[0m\u001b[0mmatmul\u001b[0m\u001b[0;34m(\u001b[0m\u001b[0mquery_layer\u001b[0m\u001b[0;34m,\u001b[0m \u001b[0mkey_layer\u001b[0m\u001b[0;34m.\u001b[0m\u001b[0mtranspose\u001b[0m\u001b[0;34m(\u001b[0m\u001b[0;34m-\u001b[0m\u001b[0;36m1\u001b[0m\u001b[0;34m,\u001b[0m \u001b[0;34m-\u001b[0m\u001b[0;36m2\u001b[0m\u001b[0;34m)\u001b[0m\u001b[0;34m)\u001b[0m\u001b[0;34m\u001b[0m\u001b[0;34m\u001b[0m\u001b[0m\n\u001b[0m\u001b[1;32m    292\u001b[0m \u001b[0;34m\u001b[0m\u001b[0m\n\u001b[1;32m    293\u001b[0m         \u001b[0;32mif\u001b[0m \u001b[0mself\u001b[0m\u001b[0;34m.\u001b[0m\u001b[0mposition_embedding_type\u001b[0m \u001b[0;34m==\u001b[0m \u001b[0;34m\"relative_key\"\u001b[0m \u001b[0;32mor\u001b[0m \u001b[0mself\u001b[0m\u001b[0;34m.\u001b[0m\u001b[0mposition_embedding_type\u001b[0m \u001b[0;34m==\u001b[0m \u001b[0;34m\"relative_key_query\"\u001b[0m\u001b[0;34m:\u001b[0m\u001b[0;34m\u001b[0m\u001b[0;34m\u001b[0m\u001b[0m\n",
            "\u001b[0;31mRuntimeError\u001b[0m: CUDA out of memory. Tried to allocate 2.93 GiB (GPU 0; 15.90 GiB total capacity; 12.25 GiB already allocated; 2.84 GiB free; 12.35 GiB reserved in total by PyTorch) If reserved memory is >> allocated memory try setting max_split_size_mb to avoid fragmentation.  See documentation for Memory Management and PYTORCH_CUDA_ALLOC_CONF"
          ]
        }
      ]
    },
    {
      "cell_type": "code",
      "source": [],
      "metadata": {
        "id": "9rJVGVuUZ2qZ"
      },
      "execution_count": null,
      "outputs": []
    },
    {
      "cell_type": "code",
      "source": [],
      "metadata": {
        "id": "iRlIqVr0Z2nQ"
      },
      "execution_count": null,
      "outputs": []
    },
    {
      "cell_type": "code",
      "source": [],
      "metadata": {
        "id": "MbDMbR-xZ2jz"
      },
      "execution_count": null,
      "outputs": []
    },
    {
      "cell_type": "code",
      "source": [],
      "metadata": {
        "id": "f6UltQuhZ2ab"
      },
      "execution_count": null,
      "outputs": []
    },
    {
      "cell_type": "markdown",
      "source": [
        "# Attentionの可視化"
      ],
      "metadata": {
        "id": "lBy_yin5mqnW"
      }
    },
    {
      "cell_type": "code",
      "source": [
        "# BertForIMDbで処理\n",
        "\n",
        "# ミニバッチの用意\n",
        "batch = next(iter(dataloader_test))\n",
        "\n",
        "# GPUが使えるならGPUにデータを送る\n",
        "device = torch.device(\"cuda:0\" if torch.cuda.is_available() else \"cpu\")\n",
        "inputs = batch[\"ids\"][0].to(device)  # 文章\n",
        "labels = batch[\"label\"].to(device)  # ラベル\n",
        "\n",
        "outputs, attention_probs = net_trained(inputs, attention_show_flg=True)\n",
        "\n",
        "_, preds = torch.max(outputs, 1)  # ラベルを予測\n"
      ],
      "metadata": {
        "id": "EHr6gDHTmu7z"
      },
      "execution_count": null,
      "outputs": []
    },
    {
      "cell_type": "code",
      "source": [
        "attention_probs.size()"
      ],
      "metadata": {
        "colab": {
          "base_uri": "https://localhost:8080/"
        },
        "id": "9s5sOzrEmuyT",
        "outputId": "5629fa2a-9886-48c4-84c9-5b1af6db2b5a"
      },
      "execution_count": null,
      "outputs": [
        {
          "output_type": "execute_result",
          "data": {
            "text/plain": [
              "torch.Size([16, 12, 512, 512])"
            ]
          },
          "metadata": {},
          "execution_count": 75
        }
      ]
    },
    {
      "cell_type": "code",
      "source": [
        "id2label = {\n",
        "    0: 'dokujo-tsushin', \n",
        "    1: 'it-life-hack', \n",
        "    2: 'smax', \n",
        "    3: 'sports-watch', \n",
        "    4: 'kaden-channel', \n",
        "    5: 'movie-enter', \n",
        "    6: 'topic-news', \n",
        "    7: 'livedoor-homme', \n",
        "    8: 'peachy'\n",
        "}"
      ],
      "metadata": {
        "id": "k_iFpBe_nJNJ"
      },
      "execution_count": null,
      "outputs": []
    },
    {
      "cell_type": "code",
      "source": [
        "# HTMLを作成する関数を実装\n",
        "\n",
        "\n",
        "def highlight(word, attn):\n",
        "    '''\n",
        "    Attentionの値が大きいと文字の背景が濃い赤になるhtmlを出力させる関数\n",
        "    '''\n",
        "\n",
        "    html_color = '#%02X%02X%02X' % (\n",
        "        255, int(255*(1 - attn)), int(255*(1 - attn)))\n",
        "    return '<span style=\"background-color: {}\"> {}</span>'.format(html_color, word)\n",
        "\n",
        "\n",
        "def mk_html(index, batch, preds, normlized_weights):\n",
        "    '''\n",
        "    HTMLデータを作成する\n",
        "    '''\n",
        "\n",
        "    # indexの結果を抽出\n",
        "    sentence = batch[\"ids\"][0][index]  # 文章\n",
        "    label = batch[\"label\"][index]  # ラベル\n",
        "    pred = preds[index]  # 予測\n",
        "\n",
        "    # ラベルと予測結果を文字に置き換え\n",
        "    label_str = id2label[label.item()]\n",
        "    pred_str = id2label[pred.item()]\n",
        "\n",
        "    # 表示用のHTMLを作成する\n",
        "    html = f\"正解ラベル：{label_str}<br>推論ラベル：{pred_str}<br><br>\"\n",
        "\n",
        "    # Self-Attentionの重みを可視化。Multi-Headが12個なので、12種類のアテンションが存在\n",
        "    for i in range(12):\n",
        "\n",
        "        # indexのAttentionを抽出と規格化\n",
        "        # 0単語目[CLS]の、i番目のMulti-Head Attentionを取り出す\n",
        "        # indexはミニバッチの何個目のデータかをしめす\n",
        "        attens = normlized_weights[index, i, 0, :]\n",
        "        attens /= attens.max()\n",
        "\n",
        "        html += '[BERTのAttentionを可視化_' + str(i+1) + ']<br>'\n",
        "        for word, attn in zip(sentence, attens):\n",
        "\n",
        "            # 単語が[SEP]の場合は文章が終わりなのでbreak\n",
        "            if tokenizer.convert_ids_to_tokens([word.numpy().tolist()])[0] == \"[SEP]\":\n",
        "                break\n",
        "\n",
        "            # 関数highlightで色をつける、関数tokenizer_bert.convert_ids_to_tokensでIDを単語に戻す\n",
        "            html += highlight(tokenizer.convert_ids_to_tokens(\n",
        "                [word.numpy().tolist()])[0], attn)\n",
        "        html += \"<br><br>\"\n",
        "\n",
        "    # 12種類のAttentionの平均を求める。最大値で規格化\n",
        "    all_attens = attens*0  # all_attensという変数を作成する\n",
        "    for i in range(12):\n",
        "        attens += normlized_weights[index, i, 0, :]\n",
        "    attens /= attens.max()\n",
        "\n",
        "    html += '[BERTのAttentionを可視化_ALL]<br>'\n",
        "    for word, attn in zip(sentence, attens):\n",
        "\n",
        "        # 単語が[SEP]の場合は文章が終わりなのでbreak\n",
        "        if tokenizer.convert_ids_to_tokens([word.numpy().tolist()])[0] == \"[SEP]\":\n",
        "            break\n",
        "\n",
        "        # 関数highlightで色をつける、関数tokenizer_bert.convert_ids_to_tokensでIDを単語に戻す\n",
        "        html += highlight(tokenizer.convert_ids_to_tokens(\n",
        "            [word.numpy().tolist()])[0], attn)\n",
        "    html += \"<br><br>\"\n",
        "\n",
        "    return html\n"
      ],
      "metadata": {
        "id": "UVdJ0Sg4mx6J"
      },
      "execution_count": null,
      "outputs": []
    },
    {
      "cell_type": "code",
      "source": [
        "from IPython.display import HTML\n",
        "\n",
        "index = 2  # 出力させたいデータ\n",
        "html_output = mk_html(index, batch, preds, attention_probs)  # HTML作成\n",
        "HTML(html_output)  # HTML形式で出力\n"
      ],
      "metadata": {
        "colab": {
          "base_uri": "https://localhost:8080/",
          "height": 1000
        },
        "id": "kgYZYjfkmyqS",
        "outputId": "61f3ca77-ada1-474f-952b-7494f2db8c2e"
      },
      "execution_count": null,
      "outputs": [
        {
          "output_type": "execute_result",
          "data": {
            "text/plain": [
              "<IPython.core.display.HTML object>"
            ],
            "text/html": [
              "正解ラベル：livedoor-homme<br>推論ラベル：livedoor-homme<br><br>[BERTのAttentionを可視化_1]<br><span style=\"background-color: #FFFEFE\"> [CLS]</span><span style=\"background-color: #FFFEFE\"> ヒ</span><span style=\"background-color: #FFFEFE\"> ##ョー</span><span style=\"background-color: #FFFEFE\"> ##ドル</span><span style=\"background-color: #FFFEFE\"> 戦</span><span style=\"background-color: #FFFEFE\"> で</span><span style=\"background-color: #FFFEFE\"> KO</span><span style=\"background-color: #FFFEFE\"> さ</span><span style=\"background-color: #FFFEFE\"> れ</span><span style=\"background-color: #FFFEFE\"> 病院</span><span style=\"background-color: #FFFEFE\"> に</span><span style=\"background-color: #FFFEFE\"> 直行</span><span style=\"background-color: #FFFEFE\"> し</span><span style=\"background-color: #FFFEFE\"> た</span><span style=\"background-color: #FFFEFE\"> 石井</span><span style=\"background-color: #FFFEFE\"> 慧</span><span style=\"background-color: #FFFEFE\"> について</span><span style=\"background-color: #FFFEFE\"> 、</span><span style=\"background-color: #FFFDFD\"> 30</span><span style=\"background-color: #FFFEFE\"> 日</span><span style=\"background-color: #FFFEFE\"> に</span><span style=\"background-color: #FFFEFE\"> 脳</span><span style=\"background-color: #FFFEFE\"> 障害</span><span style=\"background-color: #FFFEFE\"> により</span><span style=\"background-color: #FFFEFE\"> 引退</span><span style=\"background-color: #FFFEFE\"> 危機</span><span style=\"background-color: #FFFDFD\"> という</span><span style=\"background-color: #FFEEEE\"> 報道</span><span style=\"background-color: #FFFDFD\"> が</span><span style=\"background-color: #FFFEFE\"> 行なわ</span><span style=\"background-color: #FFFDFD\"> れ</span><span style=\"background-color: #FFFBFB\"> た</span><span style=\"background-color: #FFFEFE\"> 。</span><span style=\"background-color: #FF0000\"> 記事</span><span style=\"background-color: #FFFCFC\"> に</span><span style=\"background-color: #FFFDFD\"> は</span><span style=\"background-color: #FFFEFE\"> 「</span><span style=\"background-color: #FFFBFB\"> 一説</span><span style=\"background-color: #FFF7F7\"> に</span><span style=\"background-color: #FFFDFD\"> は</span><span style=\"background-color: #FFFEFE\"> 『</span><span style=\"background-color: #FFFEFE\"> 脳</span><span style=\"background-color: #FFFEFE\"> 浮</span><span style=\"background-color: #FFFEFE\"> ##腫</span><span style=\"background-color: #FFFDFD\"> 』</span><span style=\"background-color: #FFFEFE\"> と</span><span style=\"background-color: #FFFEFE\"> も</span><span style=\"background-color: #FFFCFC\"> 言わ</span><span style=\"background-color: #FFFCFC\"> れ</span><span style=\"background-color: #FFFEFE\"> て</span><span style=\"background-color: #FFFAFA\"> い</span><span style=\"background-color: #FFFDFD\"> ます</span><span style=\"background-color: #FFFDFD\"> 」</span><span style=\"background-color: #FFFEFE\"> (</span><span style=\"background-color: #FFFEFE\"> 格闘技</span><span style=\"background-color: #FFFCFC\"> 事情</span><span style=\"background-color: #FFFBFB\"> 通</span><span style=\"background-color: #FFFCFC\"> )</span><span style=\"background-color: #FFFCFC\"> と</span><span style=\"background-color: #FFF6F6\"> あり</span><span style=\"background-color: #FFFDFD\"> 、</span><span style=\"background-color: #FFFEFE\"> 石井</span><span style=\"background-color: #FFFEFE\"> の</span><span style=\"background-color: #FFFEFE\"> 容</span><span style=\"background-color: #FFFBFB\"> ##態</span><span style=\"background-color: #FFFDFD\"> は</span><span style=\"background-color: #FFFDFD\"> 深刻</span><span style=\"background-color: #FFFDFD\"> な</span><span style=\"background-color: #FFFDFD\"> もの</span><span style=\"background-color: #FFF1F1\"> と</span><span style=\"background-color: #FFE0E0\"> 思わ</span><span style=\"background-color: #FFC8C8\"> れ</span><span style=\"background-color: #FFE7E7\"> た</span><span style=\"background-color: #FFFEFE\"> 。</span><span style=\"background-color: #FFF9F9\"> しかし</span><span style=\"background-color: #FFFDFD\"> 、</span><span style=\"background-color: #FFFDFD\"> この</span><span style=\"background-color: #FFFAFA\"> 件</span><span style=\"background-color: #FFFDFD\"> について</span><span style=\"background-color: #FFFEFE\"> 元</span><span style=\"background-color: #FFFEFE\"> DEEP</span><span style=\"background-color: #FFFEFE\"> ミドル</span><span style=\"background-color: #FFFEFE\"> 級</span><span style=\"background-color: #FFFCFC\"> 王者</span><span style=\"background-color: #FFFEFE\"> で</span><span style=\"background-color: #FFFEFE\"> ある</span><span style=\"background-color: #FFFEFE\"> 長</span><span style=\"background-color: #FFFEFE\"> ##南</span><span style=\"background-color: #FFFEFE\"> 亮</span><span style=\"background-color: #FFFEFE\"> (</span><span style=\"background-color: #FFFEFE\"> ちょう</span><span style=\"background-color: #FFFEFE\"> なん</span><span style=\"background-color: #FFFEFE\"> ・</span><span style=\"background-color: #FFFEFE\"> りょう</span><span style=\"background-color: #FFFEFE\"> )</span><span style=\"background-color: #FFFEFE\"> は</span><span style=\"background-color: #FFFEFE\"> 真っ</span><span style=\"background-color: #FFFEFE\"> ##向</span><span style=\"background-color: #FFFDFD\"> から</span><span style=\"background-color: #FFFCFC\"> 否定</span><span style=\"background-color: #FFFDFD\"> 。</span><span style=\"background-color: #FFFEFE\"> 自身</span><span style=\"background-color: #FFFEFE\"> の</span><span style=\"background-color: #FFFEFE\"> ツイッター</span><span style=\"background-color: #FFFEFE\"> にて</span><span style=\"background-color: #FFFEFE\"> 「</span><span style=\"background-color: #FFFEFE\"> 石井</span><span style=\"background-color: #FFFEFE\"> 慧</span><span style=\"background-color: #FFFEFE\"> の</span><span style=\"background-color: #FFFEFE\"> 体調</span><span style=\"background-color: #FFFEFE\"> は</span><span style=\"background-color: #FFFCFC\"> 良好</span><span style=\"background-color: #FFFEFE\"> だ</span><span style=\"background-color: #FFFEFE\"> そう</span><span style=\"background-color: #FFFEFE\"> です</span><span style=\"background-color: #FFFEFE\"> 。</span><span style=\"background-color: #FFFEFE\"> 」</span><span style=\"background-color: #FFFEFE\"> と</span><span style=\"background-color: #FFFAFA\"> コメント</span><span style=\"background-color: #FFFCFC\"> 、</span><span style=\"background-color: #FFFEFE\"> さらに</span><span style=\"background-color: #FFFEFE\"> 「</span><span style=\"background-color: #FFFEFE\"> 人</span><span style=\"background-color: #FFFEFE\"> の</span><span style=\"background-color: #FFFEFE\"> 人生</span><span style=\"background-color: #FFFEFE\"> や</span><span style=\"background-color: #FFFEFE\"> 生命</span><span style=\"background-color: #FFFEFE\"> に</span><span style=\"background-color: #FFFEFE\"> 関わる</span><span style=\"background-color: #FFFEFE\"> こと</span><span style=\"background-color: #FFFEFE\"> を</span><span style=\"background-color: #FFFEFE\"> 平</span><span style=\"background-color: #FFFEFE\"> ##気</span><span style=\"background-color: #FFFEFE\"> で</span><span style=\"background-color: #FFFEFE\"> ガ</span><span style=\"background-color: #FFFEFE\"> ##セ</span><span style=\"background-color: #FFFEFE\"> 流す</span><span style=\"background-color: #FFFEFE\"> 奴</span><span style=\"background-color: #FFFEFE\"> は</span><span style=\"background-color: #FFFEFE\"> 死ん</span><span style=\"background-color: #FFFEFE\"> だ</span><span style=\"background-color: #FFFEFE\"> ほう</span><span style=\"background-color: #FFFEFE\"> が</span><span style=\"background-color: #FFFEFE\"> 世</span><span style=\"background-color: #FFFEFE\"> の</span><span style=\"background-color: #FFFEFE\"> 為</span><span style=\"background-color: #FFFEFE\"> 。</span><span style=\"background-color: #FFFDFD\"> 」</span><span style=\"background-color: #FFFDFD\"> と</span><span style=\"background-color: #FFFCFC\"> 怒り</span><span style=\"background-color: #FFFEFE\"> の</span><span style=\"background-color: #FFFCFC\"> ツイート</span><span style=\"background-color: #FFFCFC\"> を</span><span style=\"background-color: #FFF8F8\"> し</span><span style=\"background-color: #FFFBFB\"> て</span><span style=\"background-color: #FFFCFC\"> いる</span><span style=\"background-color: #FFFEFE\"> 。</span><span style=\"background-color: #FFFBFB\"> これ</span><span style=\"background-color: #FFFBFB\"> を</span><span style=\"background-color: #FFF6F6\"> もっ</span><span style=\"background-color: #FFFCFC\"> て</span><span style=\"background-color: #FFFEFE\"> 、</span><span style=\"background-color: #FFFEFE\"> 石井</span><span style=\"background-color: #FFFEFE\"> の</span><span style=\"background-color: #FFFEFE\"> 体調</span><span style=\"background-color: #FFFBFB\"> 不良</span><span style=\"background-color: #FFFEFE\"> が</span><span style=\"background-color: #FFFEFE\"> ただちに</span><span style=\"background-color: #FFFDFD\"> 否定</span><span style=\"background-color: #FFFCFC\"> さ</span><span style=\"background-color: #FFFCFC\"> れ</span><span style=\"background-color: #FFF4F4\"> た</span><span style=\"background-color: #FFFAFA\"> わけ</span><span style=\"background-color: #FFF8F8\"> で</span><span style=\"background-color: #FFFDFD\"> は</span><span style=\"background-color: #FFFCFC\"> ない</span><span style=\"background-color: #FFFEFE\"> 。</span><span style=\"background-color: #FFFCFC\"> しかし</span><span style=\"background-color: #FFFEFE\"> 、</span><span style=\"background-color: #FFFEFE\"> 石井</span><span style=\"background-color: #FFFEFE\"> から</span><span style=\"background-color: #FFFEFE\"> 近</span><span style=\"background-color: #FFFEFE\"> ##しい</span><span style=\"background-color: #FFFEFE\"> と</span><span style=\"background-color: #FFFDFD\"> 思わ</span><span style=\"background-color: #FFFEFE\"> れる</span><span style=\"background-color: #FFFEFE\"> 人間</span><span style=\"background-color: #FFFEFE\"> から</span><span style=\"background-color: #FFFEFE\"> の</span><span style=\"background-color: #FFFAFA\"> 情報</span><span style=\"background-color: #FFFDFD\"> で</span><span style=\"background-color: #FFFEFE\"> あり</span><span style=\"background-color: #FFFEFE\"> 、</span><span style=\"background-color: #FFFEFE\"> 信</span><span style=\"background-color: #FFFEFE\"> ##ぴ</span><span style=\"background-color: #FFFEFE\"> ##ょう</span><span style=\"background-color: #FFFEFE\"> 性</span><span style=\"background-color: #FFFEFE\"> は</span><span style=\"background-color: #FFFDFD\"> 高い</span><span style=\"background-color: #FFFDFD\"> と</span><span style=\"background-color: #FFFCFC\"> いえる</span><span style=\"background-color: #FFFDFD\"> だろ</span><span style=\"background-color: #FFFDFD\"> う</span><span style=\"background-color: #FFFEFE\"> 。</span><span style=\"background-color: #FFFDFD\"> この</span><span style=\"background-color: #FFFCFC\"> 件</span><span style=\"background-color: #FFFDFD\"> について</span><span style=\"background-color: #FFFEFE\"> 、</span><span style=\"background-color: #FFFEFE\"> 格闘技</span><span style=\"background-color: #FFFEFE\"> ファン</span><span style=\"background-color: #FFFCFC\"> から</span><span style=\"background-color: #FFFEFE\"> は</span><span style=\"background-color: #FFFEFE\"> 「</span><span style=\"background-color: #FFFCFC\"> 良かっ</span><span style=\"background-color: #FFF8F8\"> た</span><span style=\"background-color: #FFFEFE\"> 、</span><span style=\"background-color: #FFFDFD\"> 引退</span><span style=\"background-color: #FFFEFE\"> する</span><span style=\"background-color: #FFFEFE\"> 石井</span><span style=\"background-color: #FFFEFE\"> は</span><span style=\"background-color: #FFFEFE\"> 居</span><span style=\"background-color: #FFFEFE\"> なかっ</span><span style=\"background-color: #FFFDFD\"> た</span><span style=\"background-color: #FFFEFE\"> ん</span><span style=\"background-color: #FFFEFE\"> だ</span><span style=\"background-color: #FFFEFE\"> ...」</span><span style=\"background-color: #FFFEFE\"> ##「</span><span style=\"background-color: #FFFEFE\"> とり</span><span style=\"background-color: #FFFEFE\"> ##あ</span><span style=\"background-color: #FFFDFD\"> ##えず</span><span style=\"background-color: #FFFEFE\"> よかっ</span><span style=\"background-color: #FFF8F8\"> た</span><span style=\"background-color: #FFFEFE\"> 」</span><span style=\"background-color: #FFFDFD\"> といった</span><span style=\"background-color: #FFFDFD\"> 安堵</span><span style=\"background-color: #FFFEFE\"> の</span><span style=\"background-color: #FFF8F8\"> コメント</span><span style=\"background-color: #FFF7F7\"> が</span><span style=\"background-color: #FFFAFA\"> 並ん</span><span style=\"background-color: #FFF8F8\"> で</span><span style=\"background-color: #FFF5F5\"> いる</span><span style=\"background-color: #FFFEFE\"> 。</span><br><br>[BERTのAttentionを可視化_2]<br><span style=\"background-color: #FFFEFE\"> [CLS]</span><span style=\"background-color: #FFFEFE\"> ヒ</span><span style=\"background-color: #FFFEFE\"> ##ョー</span><span style=\"background-color: #FFFEFE\"> ##ドル</span><span style=\"background-color: #FFFBFB\"> 戦</span><span style=\"background-color: #FFFEFE\"> で</span><span style=\"background-color: #FFFEFE\"> KO</span><span style=\"background-color: #FFFEFE\"> さ</span><span style=\"background-color: #FFFEFE\"> れ</span><span style=\"background-color: #FFFEFE\"> 病院</span><span style=\"background-color: #FFFEFE\"> に</span><span style=\"background-color: #FFFEFE\"> 直行</span><span style=\"background-color: #FFFEFE\"> し</span><span style=\"background-color: #FFFEFE\"> た</span><span style=\"background-color: #FFFEFE\"> 石井</span><span style=\"background-color: #FFFEFE\"> 慧</span><span style=\"background-color: #FFDEDE\"> について</span><span style=\"background-color: #FFFEFE\"> 、</span><span style=\"background-color: #FFFEFE\"> 30</span><span style=\"background-color: #FFFEFE\"> 日</span><span style=\"background-color: #FFFEFE\"> に</span><span style=\"background-color: #FFFEFE\"> 脳</span><span style=\"background-color: #FFFEFE\"> 障害</span><span style=\"background-color: #FFFEFE\"> により</span><span style=\"background-color: #FFFEFE\"> 引退</span><span style=\"background-color: #FFFEFE\"> 危機</span><span style=\"background-color: #FFFCFC\"> という</span><span style=\"background-color: #FFE8E8\"> 報道</span><span style=\"background-color: #FFFEFE\"> が</span><span style=\"background-color: #FFDBDB\"> 行なわ</span><span style=\"background-color: #FFFCFC\"> れ</span><span style=\"background-color: #FFFCFC\"> た</span><span style=\"background-color: #FFFEFE\"> 。</span><span style=\"background-color: #FFEFEF\"> 記事</span><span style=\"background-color: #FFFCFC\"> に</span><span style=\"background-color: #FFFEFE\"> は</span><span style=\"background-color: #FFFEFE\"> 「</span><span style=\"background-color: #FFFEFE\"> 一説</span><span style=\"background-color: #FFFEFE\"> に</span><span style=\"background-color: #FFFEFE\"> は</span><span style=\"background-color: #FFFEFE\"> 『</span><span style=\"background-color: #FFFEFE\"> 脳</span><span style=\"background-color: #FFFEFE\"> 浮</span><span style=\"background-color: #FFFEFE\"> ##腫</span><span style=\"background-color: #FFFEFE\"> 』</span><span style=\"background-color: #FFFEFE\"> と</span><span style=\"background-color: #FFFEFE\"> も</span><span style=\"background-color: #FFFEFE\"> 言わ</span><span style=\"background-color: #FFFEFE\"> れ</span><span style=\"background-color: #FFFEFE\"> て</span><span style=\"background-color: #FFFEFE\"> い</span><span style=\"background-color: #FFFEFE\"> ます</span><span style=\"background-color: #FFFEFE\"> 」</span><span style=\"background-color: #FFFEFE\"> (</span><span style=\"background-color: #FFFEFE\"> 格闘技</span><span style=\"background-color: #FFFEFE\"> 事情</span><span style=\"background-color: #FFFDFD\"> 通</span><span style=\"background-color: #FFFDFD\"> )</span><span style=\"background-color: #FFFDFD\"> と</span><span style=\"background-color: #FFFBFB\"> あり</span><span style=\"background-color: #FFFEFE\"> 、</span><span style=\"background-color: #FFFEFE\"> 石井</span><span style=\"background-color: #FFFEFE\"> の</span><span style=\"background-color: #FFFEFE\"> 容</span><span style=\"background-color: #FFFEFE\"> ##態</span><span style=\"background-color: #FFFEFE\"> は</span><span style=\"background-color: #FFFEFE\"> 深刻</span><span style=\"background-color: #FFFEFE\"> な</span><span style=\"background-color: #FFFEFE\"> もの</span><span style=\"background-color: #FFFEFE\"> と</span><span style=\"background-color: #FFFEFE\"> 思わ</span><span style=\"background-color: #FFFEFE\"> れ</span><span style=\"background-color: #FFFEFE\"> た</span><span style=\"background-color: #FFFEFE\"> 。</span><span style=\"background-color: #FFFEFE\"> しかし</span><span style=\"background-color: #FFFEFE\"> 、</span><span style=\"background-color: #FFFEFE\"> この</span><span style=\"background-color: #FFFEFE\"> 件</span><span style=\"background-color: #FFFDFD\"> について</span><span style=\"background-color: #FFFEFE\"> 元</span><span style=\"background-color: #FFFEFE\"> DEEP</span><span style=\"background-color: #FFFEFE\"> ミドル</span><span style=\"background-color: #FFFEFE\"> 級</span><span style=\"background-color: #FFFEFE\"> 王者</span><span style=\"background-color: #FFFEFE\"> で</span><span style=\"background-color: #FFFEFE\"> ある</span><span style=\"background-color: #FFFEFE\"> 長</span><span style=\"background-color: #FFFEFE\"> ##南</span><span style=\"background-color: #FFFEFE\"> 亮</span><span style=\"background-color: #FFFEFE\"> (</span><span style=\"background-color: #FFFEFE\"> ちょう</span><span style=\"background-color: #FFFEFE\"> なん</span><span style=\"background-color: #FFFEFE\"> ・</span><span style=\"background-color: #FFFEFE\"> りょう</span><span style=\"background-color: #FFFEFE\"> )</span><span style=\"background-color: #FFFDFD\"> は</span><span style=\"background-color: #FFFEFE\"> 真っ</span><span style=\"background-color: #FFFEFE\"> ##向</span><span style=\"background-color: #FFFEFE\"> から</span><span style=\"background-color: #FFF6F6\"> 否定</span><span style=\"background-color: #FFFDFD\"> 。</span><span style=\"background-color: #FFFEFE\"> 自身</span><span style=\"background-color: #FFFEFE\"> の</span><span style=\"background-color: #FFFEFE\"> ツイッター</span><span style=\"background-color: #FFF2F2\"> にて</span><span style=\"background-color: #FFFEFE\"> 「</span><span style=\"background-color: #FFFEFE\"> 石井</span><span style=\"background-color: #FFFEFE\"> 慧</span><span style=\"background-color: #FFFEFE\"> の</span><span style=\"background-color: #FFFEFE\"> 体調</span><span style=\"background-color: #FFFEFE\"> は</span><span style=\"background-color: #FFFEFE\"> 良好</span><span style=\"background-color: #FFFEFE\"> だ</span><span style=\"background-color: #FFFEFE\"> そう</span><span style=\"background-color: #FFFEFE\"> です</span><span style=\"background-color: #FFFEFE\"> 。</span><span style=\"background-color: #FFFEFE\"> 」</span><span style=\"background-color: #FFFEFE\"> と</span><span style=\"background-color: #FFFEFE\"> コメント</span><span style=\"background-color: #FFFEFE\"> 、</span><span style=\"background-color: #FFFEFE\"> さらに</span><span style=\"background-color: #FFFEFE\"> 「</span><span style=\"background-color: #FFFFFF\"> 人</span><span style=\"background-color: #FFFEFE\"> の</span><span style=\"background-color: #FFFEFE\"> 人生</span><span style=\"background-color: #FFFFFF\"> や</span><span style=\"background-color: #FFFFFF\"> 生命</span><span style=\"background-color: #FFFEFE\"> に</span><span style=\"background-color: #FFFEFE\"> 関わる</span><span style=\"background-color: #FFFEFE\"> こと</span><span style=\"background-color: #FFFEFE\"> を</span><span style=\"background-color: #FFFEFE\"> 平</span><span style=\"background-color: #FFFEFE\"> ##気</span><span style=\"background-color: #FFFEFE\"> で</span><span style=\"background-color: #FFFEFE\"> ガ</span><span style=\"background-color: #FFFEFE\"> ##セ</span><span style=\"background-color: #FFFEFE\"> 流す</span><span style=\"background-color: #FFFEFE\"> 奴</span><span style=\"background-color: #FFFEFE\"> は</span><span style=\"background-color: #FFFEFE\"> 死ん</span><span style=\"background-color: #FFFEFE\"> だ</span><span style=\"background-color: #FFFEFE\"> ほう</span><span style=\"background-color: #FFFEFE\"> が</span><span style=\"background-color: #FFFEFE\"> 世</span><span style=\"background-color: #FFFEFE\"> の</span><span style=\"background-color: #FFFEFE\"> 為</span><span style=\"background-color: #FFFEFE\"> 。</span><span style=\"background-color: #FFFEFE\"> 」</span><span style=\"background-color: #FFFDFD\"> と</span><span style=\"background-color: #FFFEFE\"> 怒り</span><span style=\"background-color: #FFFEFE\"> の</span><span style=\"background-color: #FFFBFB\"> ツイート</span><span style=\"background-color: #FFFEFE\"> を</span><span style=\"background-color: #FFFDFD\"> し</span><span style=\"background-color: #FFFCFC\"> て</span><span style=\"background-color: #FFFCFC\"> いる</span><span style=\"background-color: #FFFEFE\"> 。</span><span style=\"background-color: #FFFEFE\"> これ</span><span style=\"background-color: #FFFEFE\"> を</span><span style=\"background-color: #FFFEFE\"> もっ</span><span style=\"background-color: #FFFEFE\"> て</span><span style=\"background-color: #FFFEFE\"> 、</span><span style=\"background-color: #FFFEFE\"> 石井</span><span style=\"background-color: #FFFEFE\"> の</span><span style=\"background-color: #FFFEFE\"> 体調</span><span style=\"background-color: #FFFEFE\"> 不良</span><span style=\"background-color: #FFFEFE\"> が</span><span style=\"background-color: #FFFEFE\"> ただちに</span><span style=\"background-color: #FFFEFE\"> 否定</span><span style=\"background-color: #FFFEFE\"> さ</span><span style=\"background-color: #FFFEFE\"> れ</span><span style=\"background-color: #FFFEFE\"> た</span><span style=\"background-color: #FFFEFE\"> わけ</span><span style=\"background-color: #FFFEFE\"> で</span><span style=\"background-color: #FFFEFE\"> は</span><span style=\"background-color: #FFFEFE\"> ない</span><span style=\"background-color: #FFFEFE\"> 。</span><span style=\"background-color: #FFFEFE\"> しかし</span><span style=\"background-color: #FFFEFE\"> 、</span><span style=\"background-color: #FFFEFE\"> 石井</span><span style=\"background-color: #FFFEFE\"> から</span><span style=\"background-color: #FFFEFE\"> 近</span><span style=\"background-color: #FFFEFE\"> ##しい</span><span style=\"background-color: #FFFEFE\"> と</span><span style=\"background-color: #FFFEFE\"> 思わ</span><span style=\"background-color: #FFFEFE\"> れる</span><span style=\"background-color: #FFFEFE\"> 人間</span><span style=\"background-color: #FFFEFE\"> から</span><span style=\"background-color: #FFFEFE\"> の</span><span style=\"background-color: #FFFEFE\"> 情報</span><span style=\"background-color: #FFFEFE\"> で</span><span style=\"background-color: #FFFEFE\"> あり</span><span style=\"background-color: #FFFEFE\"> 、</span><span style=\"background-color: #FFFEFE\"> 信</span><span style=\"background-color: #FFFEFE\"> ##ぴ</span><span style=\"background-color: #FFFEFE\"> ##ょう</span><span style=\"background-color: #FFFDFD\"> 性</span><span style=\"background-color: #FFFEFE\"> は</span><span style=\"background-color: #FFFEFE\"> 高い</span><span style=\"background-color: #FFFEFE\"> と</span><span style=\"background-color: #FFFEFE\"> いえる</span><span style=\"background-color: #FFFEFE\"> だろ</span><span style=\"background-color: #FFFEFE\"> う</span><span style=\"background-color: #FFFEFE\"> 。</span><span style=\"background-color: #FFFEFE\"> この</span><span style=\"background-color: #FFFBFB\"> 件</span><span style=\"background-color: #FFE5E5\"> について</span><span style=\"background-color: #FFFEFE\"> 、</span><span style=\"background-color: #FFFEFE\"> 格闘技</span><span style=\"background-color: #FFFDFD\"> ファン</span><span style=\"background-color: #FF0000\"> から</span><span style=\"background-color: #FFF2F2\"> は</span><span style=\"background-color: #FFFEFE\"> 「</span><span style=\"background-color: #FFFEFE\"> 良かっ</span><span style=\"background-color: #FFFEFE\"> た</span><span style=\"background-color: #FFFEFE\"> 、</span><span style=\"background-color: #FFFEFE\"> 引退</span><span style=\"background-color: #FFFEFE\"> する</span><span style=\"background-color: #FFFEFE\"> 石井</span><span style=\"background-color: #FFFEFE\"> は</span><span style=\"background-color: #FFFEFE\"> 居</span><span style=\"background-color: #FFFEFE\"> なかっ</span><span style=\"background-color: #FFFEFE\"> た</span><span style=\"background-color: #FFFEFE\"> ん</span><span style=\"background-color: #FFFEFE\"> だ</span><span style=\"background-color: #FFFEFE\"> ...」</span><span style=\"background-color: #FFFEFE\"> ##「</span><span style=\"background-color: #FFFEFE\"> とり</span><span style=\"background-color: #FFFEFE\"> ##あ</span><span style=\"background-color: #FFFEFE\"> ##えず</span><span style=\"background-color: #FFFEFE\"> よかっ</span><span style=\"background-color: #FFFEFE\"> た</span><span style=\"background-color: #FFFEFE\"> 」</span><span style=\"background-color: #FFFEFE\"> といった</span><span style=\"background-color: #FFFEFE\"> 安堵</span><span style=\"background-color: #FFFEFE\"> の</span><span style=\"background-color: #FFFDFD\"> コメント</span><span style=\"background-color: #FFFDFD\"> が</span><span style=\"background-color: #FFF9F9\"> 並ん</span><span style=\"background-color: #FFFDFD\"> で</span><span style=\"background-color: #FFFAFA\"> いる</span><span style=\"background-color: #FFFEFE\"> 。</span><br><br>[BERTのAttentionを可視化_3]<br><span style=\"background-color: #FFFEFE\"> [CLS]</span><span style=\"background-color: #FFFEFE\"> ヒ</span><span style=\"background-color: #FFFEFE\"> ##ョー</span><span style=\"background-color: #FFFEFE\"> ##ドル</span><span style=\"background-color: #FFFEFE\"> 戦</span><span style=\"background-color: #FFFEFE\"> で</span><span style=\"background-color: #FFFEFE\"> KO</span><span style=\"background-color: #FFFEFE\"> さ</span><span style=\"background-color: #FFFEFE\"> れ</span><span style=\"background-color: #FFFEFE\"> 病院</span><span style=\"background-color: #FFFEFE\"> に</span><span style=\"background-color: #FFFEFE\"> 直行</span><span style=\"background-color: #FFFEFE\"> し</span><span style=\"background-color: #FFFEFE\"> た</span><span style=\"background-color: #FFF3F3\"> 石井</span><span style=\"background-color: #FFFCFC\"> 慧</span><span style=\"background-color: #FF0000\"> について</span><span style=\"background-color: #FFE5E5\"> 、</span><span style=\"background-color: #FFFEFE\"> 30</span><span style=\"background-color: #FFFEFE\"> 日</span><span style=\"background-color: #FFFEFE\"> に</span><span style=\"background-color: #FFFEFE\"> 脳</span><span style=\"background-color: #FFFEFE\"> 障害</span><span style=\"background-color: #FFFEFE\"> により</span><span style=\"background-color: #FFFEFE\"> 引退</span><span style=\"background-color: #FFFEFE\"> 危機</span><span style=\"background-color: #FFFEFE\"> という</span><span style=\"background-color: #FFFEFE\"> 報道</span><span style=\"background-color: #FFFEFE\"> が</span><span style=\"background-color: #FFFEFE\"> 行なわ</span><span style=\"background-color: #FFFEFE\"> れ</span><span style=\"background-color: #FFFDFD\"> た</span><span style=\"background-color: #FFFEFE\"> 。</span><span style=\"background-color: #FFFCFC\"> 記事</span><span style=\"background-color: #FFFDFD\"> に</span><span style=\"background-color: #FFCFCF\"> は</span><span style=\"background-color: #FFFEFE\"> 「</span><span style=\"background-color: #FFFEFE\"> 一説</span><span style=\"background-color: #FFFEFE\"> に</span><span style=\"background-color: #FFFEFE\"> は</span><span style=\"background-color: #FFFEFE\"> 『</span><span style=\"background-color: #FFFEFE\"> 脳</span><span style=\"background-color: #FFFEFE\"> 浮</span><span style=\"background-color: #FFFEFE\"> ##腫</span><span style=\"background-color: #FFFEFE\"> 』</span><span style=\"background-color: #FFFEFE\"> と</span><span style=\"background-color: #FFFEFE\"> も</span><span style=\"background-color: #FFFEFE\"> 言わ</span><span style=\"background-color: #FFFEFE\"> れ</span><span style=\"background-color: #FFFEFE\"> て</span><span style=\"background-color: #FFFEFE\"> い</span><span style=\"background-color: #FFFEFE\"> ます</span><span style=\"background-color: #FFFEFE\"> 」</span><span style=\"background-color: #FFFEFE\"> (</span><span style=\"background-color: #FFFEFE\"> 格闘技</span><span style=\"background-color: #FFFEFE\"> 事情</span><span style=\"background-color: #FFFEFE\"> 通</span><span style=\"background-color: #FFFEFE\"> )</span><span style=\"background-color: #FFFEFE\"> と</span><span style=\"background-color: #FFFEFE\"> あり</span><span style=\"background-color: #FFFDFD\"> 、</span><span style=\"background-color: #FFE5E5\"> 石井</span><span style=\"background-color: #FFFDFD\"> の</span><span style=\"background-color: #FFFEFE\"> 容</span><span style=\"background-color: #FFFEFE\"> ##態</span><span style=\"background-color: #FFFEFE\"> は</span><span style=\"background-color: #FFFEFE\"> 深刻</span><span style=\"background-color: #FFFEFE\"> な</span><span style=\"background-color: #FFFEFE\"> もの</span><span style=\"background-color: #FFFEFE\"> と</span><span style=\"background-color: #FFFEFE\"> 思わ</span><span style=\"background-color: #FFFEFE\"> れ</span><span style=\"background-color: #FFFEFE\"> た</span><span style=\"background-color: #FFFEFE\"> 。</span><span style=\"background-color: #FFFEFE\"> しかし</span><span style=\"background-color: #FFFAFA\"> 、</span><span style=\"background-color: #FFFEFE\"> この</span><span style=\"background-color: #FFFEFE\"> 件</span><span style=\"background-color: #FFF7F7\"> について</span><span style=\"background-color: #FFFEFE\"> 元</span><span style=\"background-color: #FFFEFE\"> DEEP</span><span style=\"background-color: #FFFEFE\"> ミドル</span><span style=\"background-color: #FFFEFE\"> 級</span><span style=\"background-color: #FFFEFE\"> 王者</span><span style=\"background-color: #FFFEFE\"> で</span><span style=\"background-color: #FFFDFD\"> ある</span><span style=\"background-color: #FFFBFB\"> 長</span><span style=\"background-color: #FFFEFE\"> ##南</span><span style=\"background-color: #FFFEFE\"> 亮</span><span style=\"background-color: #FFFEFE\"> (</span><span style=\"background-color: #FFFEFE\"> ちょう</span><span style=\"background-color: #FFFEFE\"> なん</span><span style=\"background-color: #FFFEFE\"> ・</span><span style=\"background-color: #FFFEFE\"> りょう</span><span style=\"background-color: #FFFEFE\"> )</span><span style=\"background-color: #FFC6C6\"> は</span><span style=\"background-color: #FFFEFE\"> 真っ</span><span style=\"background-color: #FFFEFE\"> ##向</span><span style=\"background-color: #FFFEFE\"> から</span><span style=\"background-color: #FFFEFE\"> 否定</span><span style=\"background-color: #FFF1F1\"> 。</span><span style=\"background-color: #FFF6F6\"> 自身</span><span style=\"background-color: #FFFEFE\"> の</span><span style=\"background-color: #FFFEFE\"> ツイッター</span><span style=\"background-color: #FFE4E4\"> にて</span><span style=\"background-color: #FFFEFE\"> 「</span><span style=\"background-color: #FFF6F6\"> 石井</span><span style=\"background-color: #FFFEFE\"> 慧</span><span style=\"background-color: #FFFEFE\"> の</span><span style=\"background-color: #FFFEFE\"> 体調</span><span style=\"background-color: #FFFEFE\"> は</span><span style=\"background-color: #FFFEFE\"> 良好</span><span style=\"background-color: #FFFEFE\"> だ</span><span style=\"background-color: #FFFEFE\"> そう</span><span style=\"background-color: #FFFEFE\"> です</span><span style=\"background-color: #FFFEFE\"> 。</span><span style=\"background-color: #FFFEFE\"> 」</span><span style=\"background-color: #FFFEFE\"> と</span><span style=\"background-color: #FFFEFE\"> コメント</span><span style=\"background-color: #FFFEFE\"> 、</span><span style=\"background-color: #FFFEFE\"> さらに</span><span style=\"background-color: #FFFEFE\"> 「</span><span style=\"background-color: #FFFEFE\"> 人</span><span style=\"background-color: #FFFEFE\"> の</span><span style=\"background-color: #FFFEFE\"> 人生</span><span style=\"background-color: #FFFEFE\"> や</span><span style=\"background-color: #FFFEFE\"> 生命</span><span style=\"background-color: #FFFEFE\"> に</span><span style=\"background-color: #FFFEFE\"> 関わる</span><span style=\"background-color: #FFFEFE\"> こと</span><span style=\"background-color: #FFFEFE\"> を</span><span style=\"background-color: #FFFEFE\"> 平</span><span style=\"background-color: #FFFEFE\"> ##気</span><span style=\"background-color: #FFFEFE\"> で</span><span style=\"background-color: #FFFEFE\"> ガ</span><span style=\"background-color: #FFFEFE\"> ##セ</span><span style=\"background-color: #FFFEFE\"> 流す</span><span style=\"background-color: #FFFEFE\"> 奴</span><span style=\"background-color: #FFFEFE\"> は</span><span style=\"background-color: #FFFEFE\"> 死ん</span><span style=\"background-color: #FFFEFE\"> だ</span><span style=\"background-color: #FFFEFE\"> ほう</span><span style=\"background-color: #FFFEFE\"> が</span><span style=\"background-color: #FFFEFE\"> 世</span><span style=\"background-color: #FFFEFE\"> の</span><span style=\"background-color: #FFFEFE\"> 為</span><span style=\"background-color: #FFFEFE\"> 。</span><span style=\"background-color: #FFFEFE\"> 」</span><span style=\"background-color: #FFFEFE\"> と</span><span style=\"background-color: #FFFEFE\"> 怒り</span><span style=\"background-color: #FFFEFE\"> の</span><span style=\"background-color: #FFFEFE\"> ツイート</span><span style=\"background-color: #FFFEFE\"> を</span><span style=\"background-color: #FFFEFE\"> し</span><span style=\"background-color: #FFFEFE\"> て</span><span style=\"background-color: #FFFDFD\"> いる</span><span style=\"background-color: #FFFEFE\"> 。</span><span style=\"background-color: #FFFEFE\"> これ</span><span style=\"background-color: #FFFEFE\"> を</span><span style=\"background-color: #FFFEFE\"> もっ</span><span style=\"background-color: #FFFEFE\"> て</span><span style=\"background-color: #FFFEFE\"> 、</span><span style=\"background-color: #FFEEEE\"> 石井</span><span style=\"background-color: #FFFDFD\"> の</span><span style=\"background-color: #FFFEFE\"> 体調</span><span style=\"background-color: #FFFEFE\"> 不良</span><span style=\"background-color: #FFFEFE\"> が</span><span style=\"background-color: #FFFEFE\"> ただちに</span><span style=\"background-color: #FFFEFE\"> 否定</span><span style=\"background-color: #FFFEFE\"> さ</span><span style=\"background-color: #FFFEFE\"> れ</span><span style=\"background-color: #FFFEFE\"> た</span><span style=\"background-color: #FFFEFE\"> わけ</span><span style=\"background-color: #FFFEFE\"> で</span><span style=\"background-color: #FFFEFE\"> は</span><span style=\"background-color: #FFFEFE\"> ない</span><span style=\"background-color: #FFFEFE\"> 。</span><span style=\"background-color: #FFFEFE\"> しかし</span><span style=\"background-color: #FFFEFE\"> 、</span><span style=\"background-color: #FFFBFB\"> 石井</span><span style=\"background-color: #FFFEFE\"> から</span><span style=\"background-color: #FFFEFE\"> 近</span><span style=\"background-color: #FFFEFE\"> ##しい</span><span style=\"background-color: #FFFEFE\"> と</span><span style=\"background-color: #FFFEFE\"> 思わ</span><span style=\"background-color: #FFFEFE\"> れる</span><span style=\"background-color: #FFFCFC\"> 人間</span><span style=\"background-color: #FFFEFE\"> から</span><span style=\"background-color: #FFFEFE\"> の</span><span style=\"background-color: #FFFEFE\"> 情報</span><span style=\"background-color: #FFFEFE\"> で</span><span style=\"background-color: #FFFDFD\"> あり</span><span style=\"background-color: #FFFEFE\"> 、</span><span style=\"background-color: #FFFEFE\"> 信</span><span style=\"background-color: #FFFEFE\"> ##ぴ</span><span style=\"background-color: #FFFEFE\"> ##ょう</span><span style=\"background-color: #FFFEFE\"> 性</span><span style=\"background-color: #FFFEFE\"> は</span><span style=\"background-color: #FFFEFE\"> 高い</span><span style=\"background-color: #FFFEFE\"> と</span><span style=\"background-color: #FFFEFE\"> いえる</span><span style=\"background-color: #FFFEFE\"> だろ</span><span style=\"background-color: #FFFEFE\"> う</span><span style=\"background-color: #FFFEFE\"> 。</span><span style=\"background-color: #FFFEFE\"> この</span><span style=\"background-color: #FFFEFE\"> 件</span><span style=\"background-color: #FFE2E2\"> について</span><span style=\"background-color: #FFFCFC\"> 、</span><span style=\"background-color: #FFFEFE\"> 格闘技</span><span style=\"background-color: #FFFEFE\"> ファン</span><span style=\"background-color: #FFEEEE\"> から</span><span style=\"background-color: #FF6C6C\"> は</span><span style=\"background-color: #FFFEFE\"> 「</span><span style=\"background-color: #FFFEFE\"> 良かっ</span><span style=\"background-color: #FFFEFE\"> た</span><span style=\"background-color: #FFFEFE\"> 、</span><span style=\"background-color: #FFFEFE\"> 引退</span><span style=\"background-color: #FFFEFE\"> する</span><span style=\"background-color: #FFFBFB\"> 石井</span><span style=\"background-color: #FFFEFE\"> は</span><span style=\"background-color: #FFFEFE\"> 居</span><span style=\"background-color: #FFFEFE\"> なかっ</span><span style=\"background-color: #FFFEFE\"> た</span><span style=\"background-color: #FFFEFE\"> ん</span><span style=\"background-color: #FFFEFE\"> だ</span><span style=\"background-color: #FFFEFE\"> ...」</span><span style=\"background-color: #FFFEFE\"> ##「</span><span style=\"background-color: #FFFEFE\"> とり</span><span style=\"background-color: #FFFEFE\"> ##あ</span><span style=\"background-color: #FFFEFE\"> ##えず</span><span style=\"background-color: #FFFEFE\"> よかっ</span><span style=\"background-color: #FFFEFE\"> た</span><span style=\"background-color: #FFFEFE\"> 」</span><span style=\"background-color: #FFFEFE\"> といった</span><span style=\"background-color: #FFFEFE\"> 安堵</span><span style=\"background-color: #FFFEFE\"> の</span><span style=\"background-color: #FFFEFE\"> コメント</span><span style=\"background-color: #FFFEFE\"> が</span><span style=\"background-color: #FFFEFE\"> 並ん</span><span style=\"background-color: #FFFEFE\"> で</span><span style=\"background-color: #FFFEFE\"> いる</span><span style=\"background-color: #FFFEFE\"> 。</span><br><br>[BERTのAttentionを可視化_4]<br><span style=\"background-color: #FFFEFE\"> [CLS]</span><span style=\"background-color: #FFFEFE\"> ヒ</span><span style=\"background-color: #FFFEFE\"> ##ョー</span><span style=\"background-color: #FFFEFE\"> ##ドル</span><span style=\"background-color: #FFF2F2\"> 戦</span><span style=\"background-color: #FFFEFE\"> で</span><span style=\"background-color: #FFFFFF\"> KO</span><span style=\"background-color: #FFFEFE\"> さ</span><span style=\"background-color: #FFFEFE\"> れ</span><span style=\"background-color: #FFFEFE\"> 病院</span><span style=\"background-color: #FFFEFE\"> に</span><span style=\"background-color: #FFFEFE\"> 直行</span><span style=\"background-color: #FFFEFE\"> し</span><span style=\"background-color: #FFFEFE\"> た</span><span style=\"background-color: #FFECEC\"> 石井</span><span style=\"background-color: #FFFEFE\"> 慧</span><span style=\"background-color: #FFFEFE\"> について</span><span style=\"background-color: #FFFEFE\"> 、</span><span style=\"background-color: #FFFEFE\"> 30</span><span style=\"background-color: #FFFEFE\"> 日</span><span style=\"background-color: #FFFEFE\"> に</span><span style=\"background-color: #FFF9F9\"> 脳</span><span style=\"background-color: #FFFEFE\"> 障害</span><span style=\"background-color: #FFFEFE\"> により</span><span style=\"background-color: #FFFCFC\"> 引退</span><span style=\"background-color: #FFFEFE\"> 危機</span><span style=\"background-color: #FFFEFE\"> という</span><span style=\"background-color: #FFFEFE\"> 報道</span><span style=\"background-color: #FFFEFE\"> が</span><span style=\"background-color: #FFFEFE\"> 行なわ</span><span style=\"background-color: #FFFEFE\"> れ</span><span style=\"background-color: #FFFEFE\"> た</span><span style=\"background-color: #FFFEFE\"> 。</span><span style=\"background-color: #FFFEFE\"> 記事</span><span style=\"background-color: #FFFEFE\"> に</span><span style=\"background-color: #FFFEFE\"> は</span><span style=\"background-color: #FFFEFE\"> 「</span><span style=\"background-color: #FFFEFE\"> 一説</span><span style=\"background-color: #FFFEFE\"> に</span><span style=\"background-color: #FFFEFE\"> は</span><span style=\"background-color: #FFFEFE\"> 『</span><span style=\"background-color: #FFFEFE\"> 脳</span><span style=\"background-color: #FFFEFE\"> 浮</span><span style=\"background-color: #FFFEFE\"> ##腫</span><span style=\"background-color: #FFFEFE\"> 』</span><span style=\"background-color: #FFFEFE\"> と</span><span style=\"background-color: #FFFEFE\"> も</span><span style=\"background-color: #FFFEFE\"> 言わ</span><span style=\"background-color: #FFFFFF\"> れ</span><span style=\"background-color: #FFFFFF\"> て</span><span style=\"background-color: #FFFEFE\"> い</span><span style=\"background-color: #FFFEFE\"> ます</span><span style=\"background-color: #FFFEFE\"> 」</span><span style=\"background-color: #FFFEFE\"> (</span><span style=\"background-color: #FFC0C0\"> 格闘技</span><span style=\"background-color: #FFFEFE\"> 事情</span><span style=\"background-color: #FFFEFE\"> 通</span><span style=\"background-color: #FFFEFE\"> )</span><span style=\"background-color: #FFFEFE\"> と</span><span style=\"background-color: #FFFEFE\"> あり</span><span style=\"background-color: #FFFEFE\"> 、</span><span style=\"background-color: #FFEEEE\"> 石井</span><span style=\"background-color: #FFFEFE\"> の</span><span style=\"background-color: #FFFEFE\"> 容</span><span style=\"background-color: #FFFEFE\"> ##態</span><span style=\"background-color: #FFFEFE\"> は</span><span style=\"background-color: #FFFEFE\"> 深刻</span><span style=\"background-color: #FFFEFE\"> な</span><span style=\"background-color: #FFFEFE\"> もの</span><span style=\"background-color: #FFFEFE\"> と</span><span style=\"background-color: #FFFEFE\"> 思わ</span><span style=\"background-color: #FFFEFE\"> れ</span><span style=\"background-color: #FFFEFE\"> た</span><span style=\"background-color: #FFFEFE\"> 。</span><span style=\"background-color: #FFFEFE\"> しかし</span><span style=\"background-color: #FFFEFE\"> 、</span><span style=\"background-color: #FFFEFE\"> この</span><span style=\"background-color: #FFFEFE\"> 件</span><span style=\"background-color: #FFFEFE\"> について</span><span style=\"background-color: #FFFEFE\"> 元</span><span style=\"background-color: #FFFEFE\"> DEEP</span><span style=\"background-color: #FF6D6D\"> ミドル</span><span style=\"background-color: #FFEBEB\"> 級</span><span style=\"background-color: #FFFDFD\"> 王者</span><span style=\"background-color: #FFFEFE\"> で</span><span style=\"background-color: #FFFEFE\"> ある</span><span style=\"background-color: #FFFEFE\"> 長</span><span style=\"background-color: #FFFEFE\"> ##南</span><span style=\"background-color: #FFFEFE\"> 亮</span><span style=\"background-color: #FFFEFE\"> (</span><span style=\"background-color: #FFFEFE\"> ちょう</span><span style=\"background-color: #FFFEFE\"> なん</span><span style=\"background-color: #FFFEFE\"> ・</span><span style=\"background-color: #FFFEFE\"> りょう</span><span style=\"background-color: #FFFEFE\"> )</span><span style=\"background-color: #FFFEFE\"> は</span><span style=\"background-color: #FFFEFE\"> 真っ</span><span style=\"background-color: #FFFEFE\"> ##向</span><span style=\"background-color: #FFFEFE\"> から</span><span style=\"background-color: #FFFEFE\"> 否定</span><span style=\"background-color: #FFFEFE\"> 。</span><span style=\"background-color: #FFFEFE\"> 自身</span><span style=\"background-color: #FFFEFE\"> の</span><span style=\"background-color: #FFEFEF\"> ツイッター</span><span style=\"background-color: #FFFEFE\"> にて</span><span style=\"background-color: #FFFEFE\"> 「</span><span style=\"background-color: #FFE2E2\"> 石井</span><span style=\"background-color: #FFFDFD\"> 慧</span><span style=\"background-color: #FFFEFE\"> の</span><span style=\"background-color: #FFFEFE\"> 体調</span><span style=\"background-color: #FFFEFE\"> は</span><span style=\"background-color: #FFFEFE\"> 良好</span><span style=\"background-color: #FFFEFE\"> だ</span><span style=\"background-color: #FFFEFE\"> そう</span><span style=\"background-color: #FFFEFE\"> です</span><span style=\"background-color: #FFFEFE\"> 。</span><span style=\"background-color: #FFFEFE\"> 」</span><span style=\"background-color: #FFFEFE\"> と</span><span style=\"background-color: #FFFEFE\"> コメント</span><span style=\"background-color: #FFFEFE\"> 、</span><span style=\"background-color: #FFFEFE\"> さらに</span><span style=\"background-color: #FFFEFE\"> 「</span><span style=\"background-color: #FFFEFE\"> 人</span><span style=\"background-color: #FFFEFE\"> の</span><span style=\"background-color: #FFFEFE\"> 人生</span><span style=\"background-color: #FFFEFE\"> や</span><span style=\"background-color: #FFFEFE\"> 生命</span><span style=\"background-color: #FFFEFE\"> に</span><span style=\"background-color: #FFFEFE\"> 関わる</span><span style=\"background-color: #FFFEFE\"> こと</span><span style=\"background-color: #FFFEFE\"> を</span><span style=\"background-color: #FFFEFE\"> 平</span><span style=\"background-color: #FFFEFE\"> ##気</span><span style=\"background-color: #FFFEFE\"> で</span><span style=\"background-color: #FFFEFE\"> ガ</span><span style=\"background-color: #FFFEFE\"> ##セ</span><span style=\"background-color: #FFFEFE\"> 流す</span><span style=\"background-color: #FFFEFE\"> 奴</span><span style=\"background-color: #FFFEFE\"> は</span><span style=\"background-color: #FFFEFE\"> 死ん</span><span style=\"background-color: #FFFEFE\"> だ</span><span style=\"background-color: #FFFEFE\"> ほう</span><span style=\"background-color: #FFFEFE\"> が</span><span style=\"background-color: #FFFEFE\"> 世</span><span style=\"background-color: #FFFEFE\"> の</span><span style=\"background-color: #FFFEFE\"> 為</span><span style=\"background-color: #FFFEFE\"> 。</span><span style=\"background-color: #FFFEFE\"> 」</span><span style=\"background-color: #FFFEFE\"> と</span><span style=\"background-color: #FFFEFE\"> 怒り</span><span style=\"background-color: #FFFEFE\"> の</span><span style=\"background-color: #FFFEFE\"> ツイート</span><span style=\"background-color: #FFFEFE\"> を</span><span style=\"background-color: #FFFEFE\"> し</span><span style=\"background-color: #FFFEFE\"> て</span><span style=\"background-color: #FFFEFE\"> いる</span><span style=\"background-color: #FFFEFE\"> 。</span><span style=\"background-color: #FFFEFE\"> これ</span><span style=\"background-color: #FFFEFE\"> を</span><span style=\"background-color: #FFFEFE\"> もっ</span><span style=\"background-color: #FFFEFE\"> て</span><span style=\"background-color: #FFFEFE\"> 、</span><span style=\"background-color: #FFD2D2\"> 石井</span><span style=\"background-color: #FFFEFE\"> の</span><span style=\"background-color: #FFFEFE\"> 体調</span><span style=\"background-color: #FFFEFE\"> 不良</span><span style=\"background-color: #FFFEFE\"> が</span><span style=\"background-color: #FFFEFE\"> ただちに</span><span style=\"background-color: #FFFEFE\"> 否定</span><span style=\"background-color: #FFFEFE\"> さ</span><span style=\"background-color: #FFFEFE\"> れ</span><span style=\"background-color: #FFFEFE\"> た</span><span style=\"background-color: #FFFEFE\"> わけ</span><span style=\"background-color: #FFFEFE\"> で</span><span style=\"background-color: #FFFEFE\"> は</span><span style=\"background-color: #FFFEFE\"> ない</span><span style=\"background-color: #FFFEFE\"> 。</span><span style=\"background-color: #FFFEFE\"> しかし</span><span style=\"background-color: #FFFEFE\"> 、</span><span style=\"background-color: #FFF0F0\"> 石井</span><span style=\"background-color: #FFFEFE\"> から</span><span style=\"background-color: #FFFEFE\"> 近</span><span style=\"background-color: #FFFEFE\"> ##しい</span><span style=\"background-color: #FFFEFE\"> と</span><span style=\"background-color: #FFFEFE\"> 思わ</span><span style=\"background-color: #FFFEFE\"> れる</span><span style=\"background-color: #FFFEFE\"> 人間</span><span style=\"background-color: #FFFEFE\"> から</span><span style=\"background-color: #FFFEFE\"> の</span><span style=\"background-color: #FFFEFE\"> 情報</span><span style=\"background-color: #FFFEFE\"> で</span><span style=\"background-color: #FFFEFE\"> あり</span><span style=\"background-color: #FFFEFE\"> 、</span><span style=\"background-color: #FFFEFE\"> 信</span><span style=\"background-color: #FFFFFF\"> ##ぴ</span><span style=\"background-color: #FFFEFE\"> ##ょう</span><span style=\"background-color: #FFFEFE\"> 性</span><span style=\"background-color: #FFFEFE\"> は</span><span style=\"background-color: #FFFEFE\"> 高い</span><span style=\"background-color: #FFFEFE\"> と</span><span style=\"background-color: #FFFEFE\"> いえる</span><span style=\"background-color: #FFFEFE\"> だろ</span><span style=\"background-color: #FFFEFE\"> う</span><span style=\"background-color: #FFFEFE\"> 。</span><span style=\"background-color: #FFFEFE\"> この</span><span style=\"background-color: #FFFEFE\"> 件</span><span style=\"background-color: #FFFEFE\"> について</span><span style=\"background-color: #FFFEFE\"> 、</span><span style=\"background-color: #FF0000\"> 格闘技</span><span style=\"background-color: #FFFDFD\"> ファン</span><span style=\"background-color: #FFFEFE\"> から</span><span style=\"background-color: #FFFEFE\"> は</span><span style=\"background-color: #FFFEFE\"> 「</span><span style=\"background-color: #FFFEFE\"> 良かっ</span><span style=\"background-color: #FFFEFE\"> た</span><span style=\"background-color: #FFFEFE\"> 、</span><span style=\"background-color: #FFFDFD\"> 引退</span><span style=\"background-color: #FFFEFE\"> する</span><span style=\"background-color: #FFECEC\"> 石井</span><span style=\"background-color: #FFFEFE\"> は</span><span style=\"background-color: #FFFEFE\"> 居</span><span style=\"background-color: #FFFEFE\"> なかっ</span><span style=\"background-color: #FFFEFE\"> た</span><span style=\"background-color: #FFFEFE\"> ん</span><span style=\"background-color: #FFFEFE\"> だ</span><span style=\"background-color: #FFFEFE\"> ...」</span><span style=\"background-color: #FFFEFE\"> ##「</span><span style=\"background-color: #FFFEFE\"> とり</span><span style=\"background-color: #FFFEFE\"> ##あ</span><span style=\"background-color: #FFFEFE\"> ##えず</span><span style=\"background-color: #FFFEFE\"> よかっ</span><span style=\"background-color: #FFFEFE\"> た</span><span style=\"background-color: #FFFEFE\"> 」</span><span style=\"background-color: #FFFEFE\"> といった</span><span style=\"background-color: #FFFEFE\"> 安堵</span><span style=\"background-color: #FFFEFE\"> の</span><span style=\"background-color: #FFFEFE\"> コメント</span><span style=\"background-color: #FFFEFE\"> が</span><span style=\"background-color: #FFFEFE\"> 並ん</span><span style=\"background-color: #FFFEFE\"> で</span><span style=\"background-color: #FFFEFE\"> いる</span><span style=\"background-color: #FFFEFE\"> 。</span><br><br>[BERTのAttentionを可視化_5]<br><span style=\"background-color: #FFFEFE\"> [CLS]</span><span style=\"background-color: #FFFEFE\"> ヒ</span><span style=\"background-color: #FFFEFE\"> ##ョー</span><span style=\"background-color: #FFFEFE\"> ##ドル</span><span style=\"background-color: #FFFEFE\"> 戦</span><span style=\"background-color: #FFFEFE\"> で</span><span style=\"background-color: #FFFEFE\"> KO</span><span style=\"background-color: #FFFEFE\"> さ</span><span style=\"background-color: #FFFEFE\"> れ</span><span style=\"background-color: #FFFEFE\"> 病院</span><span style=\"background-color: #FFFEFE\"> に</span><span style=\"background-color: #FFFEFE\"> 直行</span><span style=\"background-color: #FFFEFE\"> し</span><span style=\"background-color: #FFFEFE\"> た</span><span style=\"background-color: #FFFEFE\"> 石井</span><span style=\"background-color: #FFFEFE\"> 慧</span><span style=\"background-color: #FFFEFE\"> について</span><span style=\"background-color: #FFFEFE\"> 、</span><span style=\"background-color: #FFFEFE\"> 30</span><span style=\"background-color: #FFFEFE\"> 日</span><span style=\"background-color: #FFFEFE\"> に</span><span style=\"background-color: #FFFEFE\"> 脳</span><span style=\"background-color: #FFFEFE\"> 障害</span><span style=\"background-color: #FFFEFE\"> により</span><span style=\"background-color: #FFFEFE\"> 引退</span><span style=\"background-color: #FFFEFE\"> 危機</span><span style=\"background-color: #FFFEFE\"> という</span><span style=\"background-color: #FFF9F9\"> 報道</span><span style=\"background-color: #FFFDFD\"> が</span><span style=\"background-color: #FFF7F7\"> 行なわ</span><span style=\"background-color: #FF8C8C\"> れ</span><span style=\"background-color: #FF9494\"> た</span><span style=\"background-color: #FFFEFE\"> 。</span><span style=\"background-color: #FFFDFD\"> 記事</span><span style=\"background-color: #FFFEFE\"> に</span><span style=\"background-color: #FFFEFE\"> は</span><span style=\"background-color: #FFFEFE\"> 「</span><span style=\"background-color: #FFFEFE\"> 一説</span><span style=\"background-color: #FFFEFE\"> に</span><span style=\"background-color: #FFFEFE\"> は</span><span style=\"background-color: #FFFEFE\"> 『</span><span style=\"background-color: #FFFEFE\"> 脳</span><span style=\"background-color: #FFFEFE\"> 浮</span><span style=\"background-color: #FFFEFE\"> ##腫</span><span style=\"background-color: #FFFEFE\"> 』</span><span style=\"background-color: #FFFEFE\"> と</span><span style=\"background-color: #FFFEFE\"> も</span><span style=\"background-color: #FFFEFE\"> 言わ</span><span style=\"background-color: #FFFEFE\"> れ</span><span style=\"background-color: #FFFEFE\"> て</span><span style=\"background-color: #FFFEFE\"> い</span><span style=\"background-color: #FFFCFC\"> ます</span><span style=\"background-color: #FFFCFC\"> 」</span><span style=\"background-color: #FFFEFE\"> (</span><span style=\"background-color: #FFFEFE\"> 格闘技</span><span style=\"background-color: #FFFEFE\"> 事情</span><span style=\"background-color: #FFFEFE\"> 通</span><span style=\"background-color: #FFFEFE\"> )</span><span style=\"background-color: #FFFEFE\"> と</span><span style=\"background-color: #FFF8F8\"> あり</span><span style=\"background-color: #FFFEFE\"> 、</span><span style=\"background-color: #FFFEFE\"> 石井</span><span style=\"background-color: #FFFEFE\"> の</span><span style=\"background-color: #FFFEFE\"> 容</span><span style=\"background-color: #FFFEFE\"> ##態</span><span style=\"background-color: #FFFEFE\"> は</span><span style=\"background-color: #FFFEFE\"> 深刻</span><span style=\"background-color: #FFFEFE\"> な</span><span style=\"background-color: #FFFEFE\"> もの</span><span style=\"background-color: #FFFEFE\"> と</span><span style=\"background-color: #FFFCFC\"> 思わ</span><span style=\"background-color: #FF9696\"> れ</span><span style=\"background-color: #FF7171\"> た</span><span style=\"background-color: #FFFEFE\"> 。</span><span style=\"background-color: #FFE7E7\"> しかし</span><span style=\"background-color: #FFFEFE\"> 、</span><span style=\"background-color: #FFFEFE\"> この</span><span style=\"background-color: #FFFEFE\"> 件</span><span style=\"background-color: #FFFEFE\"> について</span><span style=\"background-color: #FFFEFE\"> 元</span><span style=\"background-color: #FFFEFE\"> DEEP</span><span style=\"background-color: #FFFEFE\"> ミドル</span><span style=\"background-color: #FFFEFE\"> 級</span><span style=\"background-color: #FFFEFE\"> 王者</span><span style=\"background-color: #FFFEFE\"> で</span><span style=\"background-color: #FFFEFE\"> ある</span><span style=\"background-color: #FFFEFE\"> 長</span><span style=\"background-color: #FFFEFE\"> ##南</span><span style=\"background-color: #FFFEFE\"> 亮</span><span style=\"background-color: #FFFEFE\"> (</span><span style=\"background-color: #FFFEFE\"> ちょう</span><span style=\"background-color: #FFFEFE\"> なん</span><span style=\"background-color: #FFFEFE\"> ・</span><span style=\"background-color: #FFFEFE\"> りょう</span><span style=\"background-color: #FFFEFE\"> )</span><span style=\"background-color: #FFFEFE\"> は</span><span style=\"background-color: #FFFDFD\"> 真っ</span><span style=\"background-color: #FFFEFE\"> ##向</span><span style=\"background-color: #FFFEFE\"> から</span><span style=\"background-color: #FFECEC\"> 否定</span><span style=\"background-color: #FFDBDB\"> 。</span><span style=\"background-color: #FFFDFD\"> 自身</span><span style=\"background-color: #FFFEFE\"> の</span><span style=\"background-color: #FFFEFE\"> ツイッター</span><span style=\"background-color: #FFF8F8\"> にて</span><span style=\"background-color: #FFFEFE\"> 「</span><span style=\"background-color: #FFFEFE\"> 石井</span><span style=\"background-color: #FFFEFE\"> 慧</span><span style=\"background-color: #FFFEFE\"> の</span><span style=\"background-color: #FFFEFE\"> 体調</span><span style=\"background-color: #FFFEFE\"> は</span><span style=\"background-color: #FFFEFE\"> 良好</span><span style=\"background-color: #FFFEFE\"> だ</span><span style=\"background-color: #FFFDFD\"> そう</span><span style=\"background-color: #FFF7F7\"> です</span><span style=\"background-color: #FFFDFD\"> 。</span><span style=\"background-color: #FFFEFE\"> 」</span><span style=\"background-color: #FFFEFE\"> と</span><span style=\"background-color: #FFFBFB\"> コメント</span><span style=\"background-color: #FFF6F6\"> 、</span><span style=\"background-color: #FFF6F6\"> さらに</span><span style=\"background-color: #FFFEFE\"> 「</span><span style=\"background-color: #FFFEFE\"> 人</span><span style=\"background-color: #FFFEFE\"> の</span><span style=\"background-color: #FFFEFE\"> 人生</span><span style=\"background-color: #FFFEFE\"> や</span><span style=\"background-color: #FFFEFE\"> 生命</span><span style=\"background-color: #FFFEFE\"> に</span><span style=\"background-color: #FFFEFE\"> 関わる</span><span style=\"background-color: #FFFEFE\"> こと</span><span style=\"background-color: #FFFEFE\"> を</span><span style=\"background-color: #FFFEFE\"> 平</span><span style=\"background-color: #FFFEFE\"> ##気</span><span style=\"background-color: #FFFEFE\"> で</span><span style=\"background-color: #FFFEFE\"> ガ</span><span style=\"background-color: #FFFEFE\"> ##セ</span><span style=\"background-color: #FFFEFE\"> 流す</span><span style=\"background-color: #FFFEFE\"> 奴</span><span style=\"background-color: #FFFEFE\"> は</span><span style=\"background-color: #FFFEFE\"> 死ん</span><span style=\"background-color: #FFFEFE\"> だ</span><span style=\"background-color: #FFFEFE\"> ほう</span><span style=\"background-color: #FFFEFE\"> が</span><span style=\"background-color: #FFFEFE\"> 世</span><span style=\"background-color: #FFFEFE\"> の</span><span style=\"background-color: #FFFEFE\"> 為</span><span style=\"background-color: #FFFCFC\"> 。</span><span style=\"background-color: #FFF8F8\"> 」</span><span style=\"background-color: #FFFEFE\"> と</span><span style=\"background-color: #FFFAFA\"> 怒り</span><span style=\"background-color: #FFFEFE\"> の</span><span style=\"background-color: #FFFAFA\"> ツイート</span><span style=\"background-color: #FFFBFB\"> を</span><span style=\"background-color: #FFDADA\"> し</span><span style=\"background-color: #FFDEDE\"> て</span><span style=\"background-color: #FF8484\"> いる</span><span style=\"background-color: #FFFEFE\"> 。</span><span style=\"background-color: #FFF3F3\"> これ</span><span style=\"background-color: #FFFCFC\"> を</span><span style=\"background-color: #FFF8F8\"> もっ</span><span style=\"background-color: #FFFBFB\"> て</span><span style=\"background-color: #FFFEFE\"> 、</span><span style=\"background-color: #FFFEFE\"> 石井</span><span style=\"background-color: #FFFEFE\"> の</span><span style=\"background-color: #FFFEFE\"> 体調</span><span style=\"background-color: #FFFEFE\"> 不良</span><span style=\"background-color: #FFFEFE\"> が</span><span style=\"background-color: #FFFEFE\"> ただちに</span><span style=\"background-color: #FFFDFD\"> 否定</span><span style=\"background-color: #FFFCFC\"> さ</span><span style=\"background-color: #FFF6F6\"> れ</span><span style=\"background-color: #FFF4F4\"> た</span><span style=\"background-color: #FFFBFB\"> わけ</span><span style=\"background-color: #FFEFEF\"> で</span><span style=\"background-color: #FFFCFC\"> は</span><span style=\"background-color: #FF8787\"> ない</span><span style=\"background-color: #FFFEFE\"> 。</span><span style=\"background-color: #FFE6E6\"> しかし</span><span style=\"background-color: #FFFEFE\"> 、</span><span style=\"background-color: #FFFEFE\"> 石井</span><span style=\"background-color: #FFFEFE\"> から</span><span style=\"background-color: #FFFEFE\"> 近</span><span style=\"background-color: #FFFEFE\"> ##しい</span><span style=\"background-color: #FFFEFE\"> と</span><span style=\"background-color: #FFFEFE\"> 思わ</span><span style=\"background-color: #FFFEFE\"> れる</span><span style=\"background-color: #FFFEFE\"> 人間</span><span style=\"background-color: #FFFEFE\"> から</span><span style=\"background-color: #FFFEFE\"> の</span><span style=\"background-color: #FFFEFE\"> 情報</span><span style=\"background-color: #FFFBFB\"> で</span><span style=\"background-color: #FFFBFB\"> あり</span><span style=\"background-color: #FFFEFE\"> 、</span><span style=\"background-color: #FFFEFE\"> 信</span><span style=\"background-color: #FFFEFE\"> ##ぴ</span><span style=\"background-color: #FFFEFE\"> ##ょう</span><span style=\"background-color: #FFFBFB\"> 性</span><span style=\"background-color: #FFFDFD\"> は</span><span style=\"background-color: #FFE2E2\"> 高い</span><span style=\"background-color: #FFFDFD\"> と</span><span style=\"background-color: #FFE5E5\"> いえる</span><span style=\"background-color: #FFB6B6\"> だろ</span><span style=\"background-color: #FFB7B7\"> う</span><span style=\"background-color: #FFFEFE\"> 。</span><span style=\"background-color: #FFFCFC\"> この</span><span style=\"background-color: #FFF5F5\"> 件</span><span style=\"background-color: #FFF9F9\"> について</span><span style=\"background-color: #FFFDFD\"> 、</span><span style=\"background-color: #FFFEFE\"> 格闘技</span><span style=\"background-color: #FFFEFE\"> ファン</span><span style=\"background-color: #FFFAFA\"> から</span><span style=\"background-color: #FFE0E0\"> は</span><span style=\"background-color: #FFFDFD\"> 「</span><span style=\"background-color: #FFFEFE\"> 良かっ</span><span style=\"background-color: #FFFEFE\"> た</span><span style=\"background-color: #FFFEFE\"> 、</span><span style=\"background-color: #FFFEFE\"> 引退</span><span style=\"background-color: #FFFEFE\"> する</span><span style=\"background-color: #FFFEFE\"> 石井</span><span style=\"background-color: #FFFEFE\"> は</span><span style=\"background-color: #FFFEFE\"> 居</span><span style=\"background-color: #FFFEFE\"> なかっ</span><span style=\"background-color: #FFFEFE\"> た</span><span style=\"background-color: #FFFEFE\"> ん</span><span style=\"background-color: #FFFCFC\"> だ</span><span style=\"background-color: #FFF8F8\"> ...」</span><span style=\"background-color: #FFFEFE\"> ##「</span><span style=\"background-color: #FFFEFE\"> とり</span><span style=\"background-color: #FFFEFE\"> ##あ</span><span style=\"background-color: #FFFEFE\"> ##えず</span><span style=\"background-color: #FFFEFE\"> よかっ</span><span style=\"background-color: #FFFEFE\"> た</span><span style=\"background-color: #FFFEFE\"> 」</span><span style=\"background-color: #FFFCFC\"> といった</span><span style=\"background-color: #FFFDFD\"> 安堵</span><span style=\"background-color: #FFFEFE\"> の</span><span style=\"background-color: #FFF6F6\"> コメント</span><span style=\"background-color: #FFF4F4\"> が</span><span style=\"background-color: #FF5656\"> 並ん</span><span style=\"background-color: #FF9393\"> で</span><span style=\"background-color: #FF0000\"> いる</span><span style=\"background-color: #FFFEFE\"> 。</span><br><br>[BERTのAttentionを可視化_6]<br><span style=\"background-color: #FFFEFE\"> [CLS]</span><span style=\"background-color: #FFFEFE\"> ヒ</span><span style=\"background-color: #FFFEFE\"> ##ョー</span><span style=\"background-color: #FFFEFE\"> ##ドル</span><span style=\"background-color: #FFFEFE\"> 戦</span><span style=\"background-color: #FFFEFE\"> で</span><span style=\"background-color: #FFFEFE\"> KO</span><span style=\"background-color: #FFFEFE\"> さ</span><span style=\"background-color: #FFFEFE\"> れ</span><span style=\"background-color: #FFFEFE\"> 病院</span><span style=\"background-color: #FFFEFE\"> に</span><span style=\"background-color: #FFFEFE\"> 直行</span><span style=\"background-color: #FFFEFE\"> し</span><span style=\"background-color: #FFFEFE\"> た</span><span style=\"background-color: #FFFEFE\"> 石井</span><span style=\"background-color: #FFFEFE\"> 慧</span><span style=\"background-color: #FFFEFE\"> について</span><span style=\"background-color: #FFFEFE\"> 、</span><span style=\"background-color: #FFFDFD\"> 30</span><span style=\"background-color: #FFFEFE\"> 日</span><span style=\"background-color: #FFFEFE\"> に</span><span style=\"background-color: #FFFEFE\"> 脳</span><span style=\"background-color: #FFFEFE\"> 障害</span><span style=\"background-color: #FFFEFE\"> により</span><span style=\"background-color: #FFFEFE\"> 引退</span><span style=\"background-color: #FFFEFE\"> 危機</span><span style=\"background-color: #FFFDFD\"> という</span><span style=\"background-color: #FFFEFE\"> 報道</span><span style=\"background-color: #FFFEFE\"> が</span><span style=\"background-color: #FFFEFE\"> 行なわ</span><span style=\"background-color: #FFFCFC\"> れ</span><span style=\"background-color: #FFE4E4\"> た</span><span style=\"background-color: #FFFEFE\"> 。</span><span style=\"background-color: #FFFEFE\"> 記事</span><span style=\"background-color: #FFFEFE\"> に</span><span style=\"background-color: #FFFEFE\"> は</span><span style=\"background-color: #FFFEFE\"> 「</span><span style=\"background-color: #FFFEFE\"> 一説</span><span style=\"background-color: #FFFEFE\"> に</span><span style=\"background-color: #FFFEFE\"> は</span><span style=\"background-color: #FFFEFE\"> 『</span><span style=\"background-color: #FFFEFE\"> 脳</span><span style=\"background-color: #FFFEFE\"> 浮</span><span style=\"background-color: #FFFEFE\"> ##腫</span><span style=\"background-color: #FFFEFE\"> 』</span><span style=\"background-color: #FFFEFE\"> と</span><span style=\"background-color: #FFFEFE\"> も</span><span style=\"background-color: #FFFEFE\"> 言わ</span><span style=\"background-color: #FFFEFE\"> れ</span><span style=\"background-color: #FFFEFE\"> て</span><span style=\"background-color: #FFFCFC\"> い</span><span style=\"background-color: #FFC3C3\"> ます</span><span style=\"background-color: #FFCBCB\"> 」</span><span style=\"background-color: #FFFDFD\"> (</span><span style=\"background-color: #FFFEFE\"> 格闘技</span><span style=\"background-color: #FFFEFE\"> 事情</span><span style=\"background-color: #FFFEFE\"> 通</span><span style=\"background-color: #FFFEFE\"> )</span><span style=\"background-color: #FFE9E9\"> と</span><span style=\"background-color: #FFF7F7\"> あり</span><span style=\"background-color: #FFF9F9\"> 、</span><span style=\"background-color: #FFFEFE\"> 石井</span><span style=\"background-color: #FFFEFE\"> の</span><span style=\"background-color: #FFFEFE\"> 容</span><span style=\"background-color: #FFFEFE\"> ##態</span><span style=\"background-color: #FFFEFE\"> は</span><span style=\"background-color: #FFFEFE\"> 深刻</span><span style=\"background-color: #FFFEFE\"> な</span><span style=\"background-color: #FFFEFE\"> もの</span><span style=\"background-color: #FFFEFE\"> と</span><span style=\"background-color: #FFFEFE\"> 思わ</span><span style=\"background-color: #FFF3F3\"> れ</span><span style=\"background-color: #FFAEAE\"> た</span><span style=\"background-color: #FFFEFE\"> 。</span><span style=\"background-color: #FFFDFD\"> しかし</span><span style=\"background-color: #FFFEFE\"> 、</span><span style=\"background-color: #FFFDFD\"> この</span><span style=\"background-color: #FFFDFD\"> 件</span><span style=\"background-color: #FFFEFE\"> について</span><span style=\"background-color: #FFFEFE\"> 元</span><span style=\"background-color: #FFFEFE\"> DEEP</span><span style=\"background-color: #FFFEFE\"> ミドル</span><span style=\"background-color: #FFFEFE\"> 級</span><span style=\"background-color: #FFFEFE\"> 王者</span><span style=\"background-color: #FFFEFE\"> で</span><span style=\"background-color: #FFFEFE\"> ある</span><span style=\"background-color: #FFFEFE\"> 長</span><span style=\"background-color: #FFFEFE\"> ##南</span><span style=\"background-color: #FFFEFE\"> 亮</span><span style=\"background-color: #FFFEFE\"> (</span><span style=\"background-color: #FFFEFE\"> ちょう</span><span style=\"background-color: #FFFEFE\"> なん</span><span style=\"background-color: #FFFEFE\"> ・</span><span style=\"background-color: #FFFEFE\"> りょう</span><span style=\"background-color: #FFFEFE\"> )</span><span style=\"background-color: #FFFEFE\"> は</span><span style=\"background-color: #FFE5E5\"> 真っ</span><span style=\"background-color: #FFFEFE\"> ##向</span><span style=\"background-color: #FFFEFE\"> から</span><span style=\"background-color: #FFFCFC\"> 否定</span><span style=\"background-color: #FFEAEA\"> 。</span><span style=\"background-color: #FFFEFE\"> 自身</span><span style=\"background-color: #FFFEFE\"> の</span><span style=\"background-color: #FFFEFE\"> ツイッター</span><span style=\"background-color: #FFFEFE\"> にて</span><span style=\"background-color: #FFFEFE\"> 「</span><span style=\"background-color: #FFFEFE\"> 石井</span><span style=\"background-color: #FFFEFE\"> 慧</span><span style=\"background-color: #FFFEFE\"> の</span><span style=\"background-color: #FFFEFE\"> 体調</span><span style=\"background-color: #FFFEFE\"> は</span><span style=\"background-color: #FFFEFE\"> 良好</span><span style=\"background-color: #FFFDFD\"> だ</span><span style=\"background-color: #FFF5F5\"> そう</span><span style=\"background-color: #FFF8F8\"> です</span><span style=\"background-color: #FFFDFD\"> 。</span><span style=\"background-color: #FFFDFD\"> 」</span><span style=\"background-color: #FFFAFA\"> と</span><span style=\"background-color: #FFFEFE\"> コメント</span><span style=\"background-color: #FF5A5A\"> 、</span><span style=\"background-color: #FFFBFB\"> さらに</span><span style=\"background-color: #FFFEFE\"> 「</span><span style=\"background-color: #FFFEFE\"> 人</span><span style=\"background-color: #FFFEFE\"> の</span><span style=\"background-color: #FFFEFE\"> 人生</span><span style=\"background-color: #FFFEFE\"> や</span><span style=\"background-color: #FFFEFE\"> 生命</span><span style=\"background-color: #FFFEFE\"> に</span><span style=\"background-color: #FFFEFE\"> 関わる</span><span style=\"background-color: #FFFEFE\"> こと</span><span style=\"background-color: #FFFEFE\"> を</span><span style=\"background-color: #FFFEFE\"> 平</span><span style=\"background-color: #FFFEFE\"> ##気</span><span style=\"background-color: #FFFEFE\"> で</span><span style=\"background-color: #FFFEFE\"> ガ</span><span style=\"background-color: #FFFEFE\"> ##セ</span><span style=\"background-color: #FFFEFE\"> 流す</span><span style=\"background-color: #FFFEFE\"> 奴</span><span style=\"background-color: #FFFEFE\"> は</span><span style=\"background-color: #FFFEFE\"> 死ん</span><span style=\"background-color: #FFFEFE\"> だ</span><span style=\"background-color: #FFFEFE\"> ほう</span><span style=\"background-color: #FFFEFE\"> が</span><span style=\"background-color: #FFFEFE\"> 世</span><span style=\"background-color: #FFFEFE\"> の</span><span style=\"background-color: #FFFEFE\"> 為</span><span style=\"background-color: #FFFEFE\"> 。</span><span style=\"background-color: #FFFAFA\"> 」</span><span style=\"background-color: #FFFBFB\"> と</span><span style=\"background-color: #FFFEFE\"> 怒り</span><span style=\"background-color: #FFFDFD\"> の</span><span style=\"background-color: #FFFEFE\"> ツイート</span><span style=\"background-color: #FFFDFD\"> を</span><span style=\"background-color: #FFFEFE\"> し</span><span style=\"background-color: #FFECEC\"> て</span><span style=\"background-color: #FFE8E8\"> いる</span><span style=\"background-color: #FFFEFE\"> 。</span><span style=\"background-color: #FFD3D3\"> これ</span><span style=\"background-color: #FFD2D2\"> を</span><span style=\"background-color: #FFEBEB\"> もっ</span><span style=\"background-color: #FFFDFD\"> て</span><span style=\"background-color: #FFFCFC\"> 、</span><span style=\"background-color: #FFFEFE\"> 石井</span><span style=\"background-color: #FFFEFE\"> の</span><span style=\"background-color: #FFFEFE\"> 体調</span><span style=\"background-color: #FFFEFE\"> 不良</span><span style=\"background-color: #FFFEFE\"> が</span><span style=\"background-color: #FFFEFE\"> ただちに</span><span style=\"background-color: #FFFEFE\"> 否定</span><span style=\"background-color: #FFFEFE\"> さ</span><span style=\"background-color: #FFFEFE\"> れ</span><span style=\"background-color: #FFFBFB\"> た</span><span style=\"background-color: #FFFDFD\"> わけ</span><span style=\"background-color: #FFFEFE\"> で</span><span style=\"background-color: #FFFEFE\"> は</span><span style=\"background-color: #FF5F5F\"> ない</span><span style=\"background-color: #FFFEFE\"> 。</span><span style=\"background-color: #FFF3F3\"> しかし</span><span style=\"background-color: #FFFCFC\"> 、</span><span style=\"background-color: #FFFEFE\"> 石井</span><span style=\"background-color: #FFFEFE\"> から</span><span style=\"background-color: #FFFEFE\"> 近</span><span style=\"background-color: #FFFEFE\"> ##しい</span><span style=\"background-color: #FFFEFE\"> と</span><span style=\"background-color: #FFFEFE\"> 思わ</span><span style=\"background-color: #FFFEFE\"> れる</span><span style=\"background-color: #FFFEFE\"> 人間</span><span style=\"background-color: #FFFEFE\"> から</span><span style=\"background-color: #FFFEFE\"> の</span><span style=\"background-color: #FFFEFE\"> 情報</span><span style=\"background-color: #FFF9F9\"> で</span><span style=\"background-color: #FFFBFB\"> あり</span><span style=\"background-color: #FFFCFC\"> 、</span><span style=\"background-color: #FFFEFE\"> 信</span><span style=\"background-color: #FFFEFE\"> ##ぴ</span><span style=\"background-color: #FFFEFE\"> ##ょう</span><span style=\"background-color: #FFFEFE\"> 性</span><span style=\"background-color: #FFFEFE\"> は</span><span style=\"background-color: #FFFEFE\"> 高い</span><span style=\"background-color: #FFFEFE\"> と</span><span style=\"background-color: #FFF9F9\"> いえる</span><span style=\"background-color: #FF0000\"> だろ</span><span style=\"background-color: #FFF8F8\"> う</span><span style=\"background-color: #FFFEFE\"> 。</span><span style=\"background-color: #FFFBFB\"> この</span><span style=\"background-color: #FFFEFE\"> 件</span><span style=\"background-color: #FFFEFE\"> について</span><span style=\"background-color: #FFFEFE\"> 、</span><span style=\"background-color: #FFFEFE\"> 格闘技</span><span style=\"background-color: #FFFEFE\"> ファン</span><span style=\"background-color: #FFFEFE\"> から</span><span style=\"background-color: #FFFEFE\"> は</span><span style=\"background-color: #FFFEFE\"> 「</span><span style=\"background-color: #FFFEFE\"> 良かっ</span><span style=\"background-color: #FFFEFE\"> た</span><span style=\"background-color: #FFFEFE\"> 、</span><span style=\"background-color: #FFFEFE\"> 引退</span><span style=\"background-color: #FFFEFE\"> する</span><span style=\"background-color: #FFFEFE\"> 石井</span><span style=\"background-color: #FFFEFE\"> は</span><span style=\"background-color: #FFFEFE\"> 居</span><span style=\"background-color: #FFFEFE\"> なかっ</span><span style=\"background-color: #FFFEFE\"> た</span><span style=\"background-color: #FFFBFB\"> ん</span><span style=\"background-color: #FFFDFD\"> だ</span><span style=\"background-color: #FFFAFA\"> ...」</span><span style=\"background-color: #FFFEFE\"> ##「</span><span style=\"background-color: #FFFEFE\"> とり</span><span style=\"background-color: #FFFEFE\"> ##あ</span><span style=\"background-color: #FFFEFE\"> ##えず</span><span style=\"background-color: #FFFEFE\"> よかっ</span><span style=\"background-color: #FFFEFE\"> た</span><span style=\"background-color: #FFFEFE\"> 」</span><span style=\"background-color: #FFF6F6\"> といった</span><span style=\"background-color: #FFFEFE\"> 安堵</span><span style=\"background-color: #FFFDFD\"> の</span><span style=\"background-color: #FFFEFE\"> コメント</span><span style=\"background-color: #FFFEFE\"> が</span><span style=\"background-color: #FFF6F6\"> 並ん</span><span style=\"background-color: #FFF5F5\"> で</span><span style=\"background-color: #FFF6F6\"> いる</span><span style=\"background-color: #FFFEFE\"> 。</span><br><br>[BERTのAttentionを可視化_7]<br><span style=\"background-color: #FFFEFE\"> [CLS]</span><span style=\"background-color: #FFFEFE\"> ヒ</span><span style=\"background-color: #FFFEFE\"> ##ョー</span><span style=\"background-color: #FFFEFE\"> ##ドル</span><span style=\"background-color: #FFFEFE\"> 戦</span><span style=\"background-color: #FFFEFE\"> で</span><span style=\"background-color: #FFFEFE\"> KO</span><span style=\"background-color: #FFFEFE\"> さ</span><span style=\"background-color: #FFFEFE\"> れ</span><span style=\"background-color: #FFFEFE\"> 病院</span><span style=\"background-color: #FFFEFE\"> に</span><span style=\"background-color: #FFFEFE\"> 直行</span><span style=\"background-color: #FFFEFE\"> し</span><span style=\"background-color: #FFFEFE\"> た</span><span style=\"background-color: #FFFEFE\"> 石井</span><span style=\"background-color: #FFFEFE\"> 慧</span><span style=\"background-color: #FFFEFE\"> について</span><span style=\"background-color: #FFFEFE\"> 、</span><span style=\"background-color: #FFFEFE\"> 30</span><span style=\"background-color: #FFFEFE\"> 日</span><span style=\"background-color: #FFFEFE\"> に</span><span style=\"background-color: #FFFEFE\"> 脳</span><span style=\"background-color: #FFFEFE\"> 障害</span><span style=\"background-color: #FFFEFE\"> により</span><span style=\"background-color: #FFFEFE\"> 引退</span><span style=\"background-color: #FFFEFE\"> 危機</span><span style=\"background-color: #FFFEFE\"> という</span><span style=\"background-color: #FFF3F3\"> 報道</span><span style=\"background-color: #FFFEFE\"> が</span><span style=\"background-color: #FFFEFE\"> 行なわ</span><span style=\"background-color: #FFFEFE\"> れ</span><span style=\"background-color: #FFFEFE\"> た</span><span style=\"background-color: #FFFEFE\"> 。</span><span style=\"background-color: #FF0000\"> 記事</span><span style=\"background-color: #FFFEFE\"> に</span><span style=\"background-color: #FFFEFE\"> は</span><span style=\"background-color: #FFFEFE\"> 「</span><span style=\"background-color: #FFFEFE\"> 一説</span><span style=\"background-color: #FFFEFE\"> に</span><span style=\"background-color: #FFFEFE\"> は</span><span style=\"background-color: #FFFEFE\"> 『</span><span style=\"background-color: #FFFEFE\"> 脳</span><span style=\"background-color: #FFFEFE\"> 浮</span><span style=\"background-color: #FFFEFE\"> ##腫</span><span style=\"background-color: #FFFEFE\"> 』</span><span style=\"background-color: #FFFEFE\"> と</span><span style=\"background-color: #FFFEFE\"> も</span><span style=\"background-color: #FFFEFE\"> 言わ</span><span style=\"background-color: #FFFEFE\"> れ</span><span style=\"background-color: #FFFEFE\"> て</span><span style=\"background-color: #FFFEFE\"> い</span><span style=\"background-color: #FFFEFE\"> ます</span><span style=\"background-color: #FFFEFE\"> 」</span><span style=\"background-color: #FFFEFE\"> (</span><span style=\"background-color: #FFFEFE\"> 格闘技</span><span style=\"background-color: #FFFEFE\"> 事情</span><span style=\"background-color: #FFFEFE\"> 通</span><span style=\"background-color: #FFFEFE\"> )</span><span style=\"background-color: #FFFEFE\"> と</span><span style=\"background-color: #FFFEFE\"> あり</span><span style=\"background-color: #FFFEFE\"> 、</span><span style=\"background-color: #FFFEFE\"> 石井</span><span style=\"background-color: #FFFEFE\"> の</span><span style=\"background-color: #FFFEFE\"> 容</span><span style=\"background-color: #FFFEFE\"> ##態</span><span style=\"background-color: #FFFEFE\"> は</span><span style=\"background-color: #FFFEFE\"> 深刻</span><span style=\"background-color: #FFFEFE\"> な</span><span style=\"background-color: #FFFEFE\"> もの</span><span style=\"background-color: #FFFEFE\"> と</span><span style=\"background-color: #FFFEFE\"> 思わ</span><span style=\"background-color: #FFFEFE\"> れ</span><span style=\"background-color: #FFFEFE\"> た</span><span style=\"background-color: #FFFEFE\"> 。</span><span style=\"background-color: #FFEEEE\"> しかし</span><span style=\"background-color: #FFFDFD\"> 、</span><span style=\"background-color: #FFF4F4\"> この</span><span style=\"background-color: #FFF7F7\"> 件</span><span style=\"background-color: #FFFEFE\"> について</span><span style=\"background-color: #FFFEFE\"> 元</span><span style=\"background-color: #FFFEFE\"> DEEP</span><span style=\"background-color: #FFFEFE\"> ミドル</span><span style=\"background-color: #FFFEFE\"> 級</span><span style=\"background-color: #FFFEFE\"> 王者</span><span style=\"background-color: #FFFEFE\"> で</span><span style=\"background-color: #FFFEFE\"> ある</span><span style=\"background-color: #FFFEFE\"> 長</span><span style=\"background-color: #FFFEFE\"> ##南</span><span style=\"background-color: #FFFEFE\"> 亮</span><span style=\"background-color: #FFFEFE\"> (</span><span style=\"background-color: #FFFEFE\"> ちょう</span><span style=\"background-color: #FFFEFE\"> なん</span><span style=\"background-color: #FFFEFE\"> ・</span><span style=\"background-color: #FFFEFE\"> りょう</span><span style=\"background-color: #FFFEFE\"> )</span><span style=\"background-color: #FFFEFE\"> は</span><span style=\"background-color: #FFFEFE\"> 真っ</span><span style=\"background-color: #FFFEFE\"> ##向</span><span style=\"background-color: #FFFEFE\"> から</span><span style=\"background-color: #FFFEFE\"> 否定</span><span style=\"background-color: #FFFEFE\"> 。</span><span style=\"background-color: #FFFEFE\"> 自身</span><span style=\"background-color: #FFFEFE\"> の</span><span style=\"background-color: #FFFEFE\"> ツイッター</span><span style=\"background-color: #FFFEFE\"> にて</span><span style=\"background-color: #FFFEFE\"> 「</span><span style=\"background-color: #FFFEFE\"> 石井</span><span style=\"background-color: #FFFEFE\"> 慧</span><span style=\"background-color: #FFFEFE\"> の</span><span style=\"background-color: #FFFEFE\"> 体調</span><span style=\"background-color: #FFFEFE\"> は</span><span style=\"background-color: #FFFEFE\"> 良好</span><span style=\"background-color: #FFFEFE\"> だ</span><span style=\"background-color: #FFFEFE\"> そう</span><span style=\"background-color: #FFFEFE\"> です</span><span style=\"background-color: #FFFEFE\"> 。</span><span style=\"background-color: #FFFEFE\"> 」</span><span style=\"background-color: #FFFEFE\"> と</span><span style=\"background-color: #FFFEFE\"> コメント</span><span style=\"background-color: #FFFEFE\"> 、</span><span style=\"background-color: #FFFEFE\"> さらに</span><span style=\"background-color: #FFFEFE\"> 「</span><span style=\"background-color: #FFFEFE\"> 人</span><span style=\"background-color: #FFFEFE\"> の</span><span style=\"background-color: #FFFEFE\"> 人生</span><span style=\"background-color: #FFFEFE\"> や</span><span style=\"background-color: #FFFEFE\"> 生命</span><span style=\"background-color: #FFFEFE\"> に</span><span style=\"background-color: #FFFEFE\"> 関わる</span><span style=\"background-color: #FFFEFE\"> こと</span><span style=\"background-color: #FFFEFE\"> を</span><span style=\"background-color: #FFFEFE\"> 平</span><span style=\"background-color: #FFFEFE\"> ##気</span><span style=\"background-color: #FFFEFE\"> で</span><span style=\"background-color: #FFFEFE\"> ガ</span><span style=\"background-color: #FFFEFE\"> ##セ</span><span style=\"background-color: #FFFEFE\"> 流す</span><span style=\"background-color: #FFFEFE\"> 奴</span><span style=\"background-color: #FFFEFE\"> は</span><span style=\"background-color: #FFFEFE\"> 死ん</span><span style=\"background-color: #FFFEFE\"> だ</span><span style=\"background-color: #FFFEFE\"> ほう</span><span style=\"background-color: #FFFEFE\"> が</span><span style=\"background-color: #FFFEFE\"> 世</span><span style=\"background-color: #FFFEFE\"> の</span><span style=\"background-color: #FFFEFE\"> 為</span><span style=\"background-color: #FFFEFE\"> 。</span><span style=\"background-color: #FFFEFE\"> 」</span><span style=\"background-color: #FFFEFE\"> と</span><span style=\"background-color: #FFFDFD\"> 怒り</span><span style=\"background-color: #FFFEFE\"> の</span><span style=\"background-color: #FFFEFE\"> ツイート</span><span style=\"background-color: #FFFEFE\"> を</span><span style=\"background-color: #FFFEFE\"> し</span><span style=\"background-color: #FFFEFE\"> て</span><span style=\"background-color: #FFFEFE\"> いる</span><span style=\"background-color: #FFFEFE\"> 。</span><span style=\"background-color: #FFC0C0\"> これ</span><span style=\"background-color: #FFE3E3\"> を</span><span style=\"background-color: #FFDCDC\"> もっ</span><span style=\"background-color: #FFFDFD\"> て</span><span style=\"background-color: #FFFDFD\"> 、</span><span style=\"background-color: #FFFEFE\"> 石井</span><span style=\"background-color: #FFFEFE\"> の</span><span style=\"background-color: #FFFEFE\"> 体調</span><span style=\"background-color: #FFFEFE\"> 不良</span><span style=\"background-color: #FFF6F6\"> が</span><span style=\"background-color: #FFFEFE\"> ただちに</span><span style=\"background-color: #FFFCFC\"> 否定</span><span style=\"background-color: #FFF6F6\"> さ</span><span style=\"background-color: #FFFBFB\"> れ</span><span style=\"background-color: #FFFDFD\"> た</span><span style=\"background-color: #FFFCFC\"> わけ</span><span style=\"background-color: #FFFEFE\"> で</span><span style=\"background-color: #FFFEFE\"> は</span><span style=\"background-color: #FFF6F6\"> ない</span><span style=\"background-color: #FFFEFE\"> 。</span><span style=\"background-color: #FFAEAE\"> しかし</span><span style=\"background-color: #FFFEFE\"> 、</span><span style=\"background-color: #FFFEFE\"> 石井</span><span style=\"background-color: #FFFEFE\"> から</span><span style=\"background-color: #FFFEFE\"> 近</span><span style=\"background-color: #FFFEFE\"> ##しい</span><span style=\"background-color: #FFFEFE\"> と</span><span style=\"background-color: #FFFEFE\"> 思わ</span><span style=\"background-color: #FFFEFE\"> れる</span><span style=\"background-color: #FFFEFE\"> 人間</span><span style=\"background-color: #FFFEFE\"> から</span><span style=\"background-color: #FFFEFE\"> の</span><span style=\"background-color: #FFFDFD\"> 情報</span><span style=\"background-color: #FFFEFE\"> で</span><span style=\"background-color: #FFFDFD\"> あり</span><span style=\"background-color: #FFFEFE\"> 、</span><span style=\"background-color: #FFFEFE\"> 信</span><span style=\"background-color: #FFFEFE\"> ##ぴ</span><span style=\"background-color: #FFFEFE\"> ##ょう</span><span style=\"background-color: #FFFCFC\"> 性</span><span style=\"background-color: #FFFEFE\"> は</span><span style=\"background-color: #FFFEFE\"> 高い</span><span style=\"background-color: #FFFEFE\"> と</span><span style=\"background-color: #FFFEFE\"> いえる</span><span style=\"background-color: #FFFDFD\"> だろ</span><span style=\"background-color: #FFFDFD\"> う</span><span style=\"background-color: #FFFEFE\"> 。</span><span style=\"background-color: #FFC7C7\"> この</span><span style=\"background-color: #FFEEEE\"> 件</span><span style=\"background-color: #FFFDFD\"> について</span><span style=\"background-color: #FFFEFE\"> 、</span><span style=\"background-color: #FFFEFE\"> 格闘技</span><span style=\"background-color: #FFFEFE\"> ファン</span><span style=\"background-color: #FFFEFE\"> から</span><span style=\"background-color: #FFFEFE\"> は</span><span style=\"background-color: #FFFEFE\"> 「</span><span style=\"background-color: #FFFEFE\"> 良かっ</span><span style=\"background-color: #FFFEFE\"> た</span><span style=\"background-color: #FFFEFE\"> 、</span><span style=\"background-color: #FFFEFE\"> 引退</span><span style=\"background-color: #FFFEFE\"> する</span><span style=\"background-color: #FFFEFE\"> 石井</span><span style=\"background-color: #FFFEFE\"> は</span><span style=\"background-color: #FFFEFE\"> 居</span><span style=\"background-color: #FFFEFE\"> なかっ</span><span style=\"background-color: #FFFEFE\"> た</span><span style=\"background-color: #FFFEFE\"> ん</span><span style=\"background-color: #FFFEFE\"> だ</span><span style=\"background-color: #FFFEFE\"> ...」</span><span style=\"background-color: #FFFEFE\"> ##「</span><span style=\"background-color: #FFFEFE\"> とり</span><span style=\"background-color: #FFFEFE\"> ##あ</span><span style=\"background-color: #FFFEFE\"> ##えず</span><span style=\"background-color: #FFFEFE\"> よかっ</span><span style=\"background-color: #FFFEFE\"> た</span><span style=\"background-color: #FFFEFE\"> 」</span><span style=\"background-color: #FFFEFE\"> といった</span><span style=\"background-color: #FFFEFE\"> 安堵</span><span style=\"background-color: #FFFEFE\"> の</span><span style=\"background-color: #FFFEFE\"> コメント</span><span style=\"background-color: #FFFEFE\"> が</span><span style=\"background-color: #FFFEFE\"> 並ん</span><span style=\"background-color: #FFFEFE\"> で</span><span style=\"background-color: #FFFEFE\"> いる</span><span style=\"background-color: #FFFEFE\"> 。</span><br><br>[BERTのAttentionを可視化_8]<br><span style=\"background-color: #FFFEFE\"> [CLS]</span><span style=\"background-color: #FFFEFE\"> ヒ</span><span style=\"background-color: #FFFEFE\"> ##ョー</span><span style=\"background-color: #FFFEFE\"> ##ドル</span><span style=\"background-color: #FFFEFE\"> 戦</span><span style=\"background-color: #FFFEFE\"> で</span><span style=\"background-color: #FFFEFE\"> KO</span><span style=\"background-color: #FFFEFE\"> さ</span><span style=\"background-color: #FFFEFE\"> れ</span><span style=\"background-color: #FFFFFF\"> 病院</span><span style=\"background-color: #FFFFFF\"> に</span><span style=\"background-color: #FFFEFE\"> 直行</span><span style=\"background-color: #FFFEFE\"> し</span><span style=\"background-color: #FFFEFE\"> た</span><span style=\"background-color: #FFFEFE\"> 石井</span><span style=\"background-color: #FFFEFE\"> 慧</span><span style=\"background-color: #FFFEFE\"> について</span><span style=\"background-color: #FFFEFE\"> 、</span><span style=\"background-color: #FFFEFE\"> 30</span><span style=\"background-color: #FFFEFE\"> 日</span><span style=\"background-color: #FFFEFE\"> に</span><span style=\"background-color: #FFFEFE\"> 脳</span><span style=\"background-color: #FFFEFE\"> 障害</span><span style=\"background-color: #FFFEFE\"> により</span><span style=\"background-color: #FFFEFE\"> 引退</span><span style=\"background-color: #FFFEFE\"> 危機</span><span style=\"background-color: #FFFEFE\"> という</span><span style=\"background-color: #FFFEFE\"> 報道</span><span style=\"background-color: #FFFEFE\"> が</span><span style=\"background-color: #FFFEFE\"> 行なわ</span><span style=\"background-color: #FFCCCC\"> れ</span><span style=\"background-color: #FF8F8F\"> た</span><span style=\"background-color: #FFFEFE\"> 。</span><span style=\"background-color: #FFFEFE\"> 記事</span><span style=\"background-color: #FFFEFE\"> に</span><span style=\"background-color: #FFFEFE\"> は</span><span style=\"background-color: #FFFEFE\"> 「</span><span style=\"background-color: #FFFEFE\"> 一説</span><span style=\"background-color: #FFFEFE\"> に</span><span style=\"background-color: #FFFEFE\"> は</span><span style=\"background-color: #FFFFFF\"> 『</span><span style=\"background-color: #FFFFFF\"> 脳</span><span style=\"background-color: #FFFEFE\"> 浮</span><span style=\"background-color: #FFFEFE\"> ##腫</span><span style=\"background-color: #FFFFFF\"> 』</span><span style=\"background-color: #FFFEFE\"> と</span><span style=\"background-color: #FFFEFE\"> も</span><span style=\"background-color: #FFFEFE\"> 言わ</span><span style=\"background-color: #FFFEFE\"> れ</span><span style=\"background-color: #FFFEFE\"> て</span><span style=\"background-color: #FFFEFE\"> い</span><span style=\"background-color: #FFFEFE\"> ます</span><span style=\"background-color: #FFFEFE\"> 」</span><span style=\"background-color: #FFFEFE\"> (</span><span style=\"background-color: #FFFEFE\"> 格闘技</span><span style=\"background-color: #FFFEFE\"> 事情</span><span style=\"background-color: #FFFEFE\"> 通</span><span style=\"background-color: #FFFEFE\"> )</span><span style=\"background-color: #FFFEFE\"> と</span><span style=\"background-color: #FFFEFE\"> あり</span><span style=\"background-color: #FFFEFE\"> 、</span><span style=\"background-color: #FFFEFE\"> 石井</span><span style=\"background-color: #FFFEFE\"> の</span><span style=\"background-color: #FFFEFE\"> 容</span><span style=\"background-color: #FFFEFE\"> ##態</span><span style=\"background-color: #FFFEFE\"> は</span><span style=\"background-color: #FFFEFE\"> 深刻</span><span style=\"background-color: #FFFEFE\"> な</span><span style=\"background-color: #FFFEFE\"> もの</span><span style=\"background-color: #FFFEFE\"> と</span><span style=\"background-color: #FFFEFE\"> 思わ</span><span style=\"background-color: #FFE7E7\"> れ</span><span style=\"background-color: #FFAEAE\"> た</span><span style=\"background-color: #FFFEFE\"> 。</span><span style=\"background-color: #FFFEFE\"> しかし</span><span style=\"background-color: #FFFEFE\"> 、</span><span style=\"background-color: #FFFEFE\"> この</span><span style=\"background-color: #FFFEFE\"> 件</span><span style=\"background-color: #FFFEFE\"> について</span><span style=\"background-color: #FFFEFE\"> 元</span><span style=\"background-color: #FFFEFE\"> DEEP</span><span style=\"background-color: #FFFEFE\"> ミドル</span><span style=\"background-color: #FFFEFE\"> 級</span><span style=\"background-color: #FFFEFE\"> 王者</span><span style=\"background-color: #FFFEFE\"> で</span><span style=\"background-color: #FFFEFE\"> ある</span><span style=\"background-color: #FFFEFE\"> 長</span><span style=\"background-color: #FFFEFE\"> ##南</span><span style=\"background-color: #FFFEFE\"> 亮</span><span style=\"background-color: #FFFEFE\"> (</span><span style=\"background-color: #FFFFFF\"> ちょう</span><span style=\"background-color: #FFFEFE\"> なん</span><span style=\"background-color: #FFFEFE\"> ・</span><span style=\"background-color: #FFFEFE\"> りょう</span><span style=\"background-color: #FFFEFE\"> )</span><span style=\"background-color: #FFFEFE\"> は</span><span style=\"background-color: #FFFEFE\"> 真っ</span><span style=\"background-color: #FFFEFE\"> ##向</span><span style=\"background-color: #FFFEFE\"> から</span><span style=\"background-color: #FFFDFD\"> 否定</span><span style=\"background-color: #FFFBFB\"> 。</span><span style=\"background-color: #FFFEFE\"> 自身</span><span style=\"background-color: #FFFEFE\"> の</span><span style=\"background-color: #FFFEFE\"> ツイッター</span><span style=\"background-color: #FFFEFE\"> にて</span><span style=\"background-color: #FFFEFE\"> 「</span><span style=\"background-color: #FFFEFE\"> 石井</span><span style=\"background-color: #FFFEFE\"> 慧</span><span style=\"background-color: #FFFEFE\"> の</span><span style=\"background-color: #FFFEFE\"> 体調</span><span style=\"background-color: #FFFEFE\"> は</span><span style=\"background-color: #FFFEFE\"> 良好</span><span style=\"background-color: #FFFEFE\"> だ</span><span style=\"background-color: #FFFEFE\"> そう</span><span style=\"background-color: #FFFEFE\"> です</span><span style=\"background-color: #FFFEFE\"> 。</span><span style=\"background-color: #FFFEFE\"> 」</span><span style=\"background-color: #FFFEFE\"> と</span><span style=\"background-color: #FFFEFE\"> コメント</span><span style=\"background-color: #FFFEFE\"> 、</span><span style=\"background-color: #FFFEFE\"> さらに</span><span style=\"background-color: #FFFEFE\"> 「</span><span style=\"background-color: #FFFFFF\"> 人</span><span style=\"background-color: #FFFFFF\"> の</span><span style=\"background-color: #FFFFFF\"> 人生</span><span style=\"background-color: #FFFFFF\"> や</span><span style=\"background-color: #FFFFFF\"> 生命</span><span style=\"background-color: #FFFFFF\"> に</span><span style=\"background-color: #FFFFFF\"> 関わる</span><span style=\"background-color: #FFFFFF\"> こと</span><span style=\"background-color: #FFFFFF\"> を</span><span style=\"background-color: #FFFFFF\"> 平</span><span style=\"background-color: #FFFEFE\"> ##気</span><span style=\"background-color: #FFFEFE\"> で</span><span style=\"background-color: #FFFFFF\"> ガ</span><span style=\"background-color: #FFFEFE\"> ##セ</span><span style=\"background-color: #FFFEFE\"> 流す</span><span style=\"background-color: #FFFEFE\"> 奴</span><span style=\"background-color: #FFFFFF\"> は</span><span style=\"background-color: #FFFEFE\"> 死ん</span><span style=\"background-color: #FFFEFE\"> だ</span><span style=\"background-color: #FFFEFE\"> ほう</span><span style=\"background-color: #FFFEFE\"> が</span><span style=\"background-color: #FFFFFF\"> 世</span><span style=\"background-color: #FFFFFF\"> の</span><span style=\"background-color: #FFFEFE\"> 為</span><span style=\"background-color: #FFFEFE\"> 。</span><span style=\"background-color: #FFFEFE\"> 」</span><span style=\"background-color: #FFFEFE\"> と</span><span style=\"background-color: #FFFEFE\"> 怒り</span><span style=\"background-color: #FFFEFE\"> の</span><span style=\"background-color: #FFFEFE\"> ツイート</span><span style=\"background-color: #FFFEFE\"> を</span><span style=\"background-color: #FFFCFC\"> し</span><span style=\"background-color: #FFF1F1\"> て</span><span style=\"background-color: #FF0000\"> いる</span><span style=\"background-color: #FFFEFE\"> 。</span><span style=\"background-color: #FFFEFE\"> これ</span><span style=\"background-color: #FFFEFE\"> を</span><span style=\"background-color: #FFFEFE\"> もっ</span><span style=\"background-color: #FFFEFE\"> て</span><span style=\"background-color: #FFFEFE\"> 、</span><span style=\"background-color: #FFFEFE\"> 石井</span><span style=\"background-color: #FFFEFE\"> の</span><span style=\"background-color: #FFFEFE\"> 体調</span><span style=\"background-color: #FFFEFE\"> 不良</span><span style=\"background-color: #FFFEFE\"> が</span><span style=\"background-color: #FFFEFE\"> ただちに</span><span style=\"background-color: #FFFEFE\"> 否定</span><span style=\"background-color: #FFFEFE\"> さ</span><span style=\"background-color: #FFFEFE\"> れ</span><span style=\"background-color: #FFFEFE\"> た</span><span style=\"background-color: #FFFEFE\"> わけ</span><span style=\"background-color: #FFFEFE\"> で</span><span style=\"background-color: #FFFEFE\"> は</span><span style=\"background-color: #FFFCFC\"> ない</span><span style=\"background-color: #FFFEFE\"> 。</span><span style=\"background-color: #FFFEFE\"> しかし</span><span style=\"background-color: #FFFEFE\"> 、</span><span style=\"background-color: #FFFEFE\"> 石井</span><span style=\"background-color: #FFFEFE\"> から</span><span style=\"background-color: #FFFFFF\"> 近</span><span style=\"background-color: #FFFEFE\"> ##しい</span><span style=\"background-color: #FFFFFF\"> と</span><span style=\"background-color: #FFFEFE\"> 思わ</span><span style=\"background-color: #FFFEFE\"> れる</span><span style=\"background-color: #FFFEFE\"> 人間</span><span style=\"background-color: #FFFEFE\"> から</span><span style=\"background-color: #FFFEFE\"> の</span><span style=\"background-color: #FFFEFE\"> 情報</span><span style=\"background-color: #FFFEFE\"> で</span><span style=\"background-color: #FFFEFE\"> あり</span><span style=\"background-color: #FFFEFE\"> 、</span><span style=\"background-color: #FFFEFE\"> 信</span><span style=\"background-color: #FFFEFE\"> ##ぴ</span><span style=\"background-color: #FFFEFE\"> ##ょう</span><span style=\"background-color: #FFFEFE\"> 性</span><span style=\"background-color: #FFFEFE\"> は</span><span style=\"background-color: #FFFEFE\"> 高い</span><span style=\"background-color: #FFFEFE\"> と</span><span style=\"background-color: #FFFEFE\"> いえる</span><span style=\"background-color: #FFFEFE\"> だろ</span><span style=\"background-color: #FFFEFE\"> う</span><span style=\"background-color: #FFFEFE\"> 。</span><span style=\"background-color: #FFFEFE\"> この</span><span style=\"background-color: #FFFEFE\"> 件</span><span style=\"background-color: #FFFEFE\"> について</span><span style=\"background-color: #FFFEFE\"> 、</span><span style=\"background-color: #FFFEFE\"> 格闘技</span><span style=\"background-color: #FFFEFE\"> ファン</span><span style=\"background-color: #FFFEFE\"> から</span><span style=\"background-color: #FFFEFE\"> は</span><span style=\"background-color: #FFFEFE\"> 「</span><span style=\"background-color: #FFFEFE\"> 良かっ</span><span style=\"background-color: #FFFEFE\"> た</span><span style=\"background-color: #FFFFFF\"> 、</span><span style=\"background-color: #FFFEFE\"> 引退</span><span style=\"background-color: #FFFEFE\"> する</span><span style=\"background-color: #FFFEFE\"> 石井</span><span style=\"background-color: #FFFFFF\"> は</span><span style=\"background-color: #FFFEFE\"> 居</span><span style=\"background-color: #FFFEFE\"> なかっ</span><span style=\"background-color: #FFFEFE\"> た</span><span style=\"background-color: #FFFEFE\"> ん</span><span style=\"background-color: #FFFEFE\"> だ</span><span style=\"background-color: #FFFEFE\"> ...」</span><span style=\"background-color: #FFFEFE\"> ##「</span><span style=\"background-color: #FFFEFE\"> とり</span><span style=\"background-color: #FFFEFE\"> ##あ</span><span style=\"background-color: #FFFFFF\"> ##えず</span><span style=\"background-color: #FFFEFE\"> よかっ</span><span style=\"background-color: #FFFEFE\"> た</span><span style=\"background-color: #FFFEFE\"> 」</span><span style=\"background-color: #FFFEFE\"> といった</span><span style=\"background-color: #FFFEFE\"> 安堵</span><span style=\"background-color: #FFFEFE\"> の</span><span style=\"background-color: #FFFEFE\"> コメント</span><span style=\"background-color: #FFFEFE\"> が</span><span style=\"background-color: #FFFEFE\"> 並ん</span><span style=\"background-color: #FFFDFD\"> で</span><span style=\"background-color: #FF9797\"> いる</span><span style=\"background-color: #FFFEFE\"> 。</span><br><br>[BERTのAttentionを可視化_9]<br><span style=\"background-color: #FFFEFE\"> [CLS]</span><span style=\"background-color: #FFFEFE\"> ヒ</span><span style=\"background-color: #FFFEFE\"> ##ョー</span><span style=\"background-color: #FFFEFE\"> ##ドル</span><span style=\"background-color: #FFFEFE\"> 戦</span><span style=\"background-color: #FFFEFE\"> で</span><span style=\"background-color: #FFFEFE\"> KO</span><span style=\"background-color: #FFFEFE\"> さ</span><span style=\"background-color: #FFFEFE\"> れ</span><span style=\"background-color: #FFFEFE\"> 病院</span><span style=\"background-color: #FFFEFE\"> に</span><span style=\"background-color: #FFFEFE\"> 直行</span><span style=\"background-color: #FFFEFE\"> し</span><span style=\"background-color: #FFFEFE\"> た</span><span style=\"background-color: #FFFEFE\"> 石井</span><span style=\"background-color: #FFFEFE\"> 慧</span><span style=\"background-color: #FFFBFB\"> について</span><span style=\"background-color: #FFFEFE\"> 、</span><span style=\"background-color: #FFFEFE\"> 30</span><span style=\"background-color: #FFFEFE\"> 日</span><span style=\"background-color: #FFFEFE\"> に</span><span style=\"background-color: #FFFEFE\"> 脳</span><span style=\"background-color: #FFFEFE\"> 障害</span><span style=\"background-color: #FFFEFE\"> により</span><span style=\"background-color: #FFFEFE\"> 引退</span><span style=\"background-color: #FFFEFE\"> 危機</span><span style=\"background-color: #FFFDFD\"> という</span><span style=\"background-color: #FFFCFC\"> 報道</span><span style=\"background-color: #FFFEFE\"> が</span><span style=\"background-color: #FFFBFB\"> 行なわ</span><span style=\"background-color: #FFF6F6\"> れ</span><span style=\"background-color: #FFC7C7\"> た</span><span style=\"background-color: #FFFEFE\"> 。</span><span style=\"background-color: #FFFDFD\"> 記事</span><span style=\"background-color: #FFFDFD\"> に</span><span style=\"background-color: #FFF4F4\"> は</span><span style=\"background-color: #FFFEFE\"> 「</span><span style=\"background-color: #FFFEFE\"> 一説</span><span style=\"background-color: #FFFEFE\"> に</span><span style=\"background-color: #FFFEFE\"> は</span><span style=\"background-color: #FFFEFE\"> 『</span><span style=\"background-color: #FFFEFE\"> 脳</span><span style=\"background-color: #FFFEFE\"> 浮</span><span style=\"background-color: #FFFEFE\"> ##腫</span><span style=\"background-color: #FFFEFE\"> 』</span><span style=\"background-color: #FFFEFE\"> と</span><span style=\"background-color: #FFFDFD\"> も</span><span style=\"background-color: #FFFEFE\"> 言わ</span><span style=\"background-color: #FFFEFE\"> れ</span><span style=\"background-color: #FFFEFE\"> て</span><span style=\"background-color: #FFFCFC\"> い</span><span style=\"background-color: #FFFAFA\"> ます</span><span style=\"background-color: #FFF1F1\"> 」</span><span style=\"background-color: #FFFEFE\"> (</span><span style=\"background-color: #FFFEFE\"> 格闘技</span><span style=\"background-color: #FFFEFE\"> 事情</span><span style=\"background-color: #FFFEFE\"> 通</span><span style=\"background-color: #FFFEFE\"> )</span><span style=\"background-color: #FFF5F5\"> と</span><span style=\"background-color: #FF6E6E\"> あり</span><span style=\"background-color: #FFFEFE\"> 、</span><span style=\"background-color: #FFFDFD\"> 石井</span><span style=\"background-color: #FFFEFE\"> の</span><span style=\"background-color: #FFFEFE\"> 容</span><span style=\"background-color: #FFFEFE\"> ##態</span><span style=\"background-color: #FFFEFE\"> は</span><span style=\"background-color: #FFFEFE\"> 深刻</span><span style=\"background-color: #FFFEFE\"> な</span><span style=\"background-color: #FFFCFC\"> もの</span><span style=\"background-color: #FFFEFE\"> と</span><span style=\"background-color: #FFFEFE\"> 思わ</span><span style=\"background-color: #FFFEFE\"> れ</span><span style=\"background-color: #FFEFEF\"> た</span><span style=\"background-color: #FFFEFE\"> 。</span><span style=\"background-color: #FF9494\"> しかし</span><span style=\"background-color: #FFFEFE\"> 、</span><span style=\"background-color: #FFFDFD\"> この</span><span style=\"background-color: #FFFDFD\"> 件</span><span style=\"background-color: #FFFCFC\"> について</span><span style=\"background-color: #FFFEFE\"> 元</span><span style=\"background-color: #FFFEFE\"> DEEP</span><span style=\"background-color: #FFFEFE\"> ミドル</span><span style=\"background-color: #FFFEFE\"> 級</span><span style=\"background-color: #FFFEFE\"> 王者</span><span style=\"background-color: #FFFEFE\"> で</span><span style=\"background-color: #FFFDFD\"> ある</span><span style=\"background-color: #FFFEFE\"> 長</span><span style=\"background-color: #FFFEFE\"> ##南</span><span style=\"background-color: #FFFEFE\"> 亮</span><span style=\"background-color: #FFFEFE\"> (</span><span style=\"background-color: #FFFEFE\"> ちょう</span><span style=\"background-color: #FFFEFE\"> なん</span><span style=\"background-color: #FFFEFE\"> ・</span><span style=\"background-color: #FFFEFE\"> りょう</span><span style=\"background-color: #FFFEFE\"> )</span><span style=\"background-color: #FFFEFE\"> は</span><span style=\"background-color: #FFFEFE\"> 真っ</span><span style=\"background-color: #FFFEFE\"> ##向</span><span style=\"background-color: #FFFEFE\"> から</span><span style=\"background-color: #FFFEFE\"> 否定</span><span style=\"background-color: #FFFEFE\"> 。</span><span style=\"background-color: #FFF6F6\"> 自身</span><span style=\"background-color: #FFFEFE\"> の</span><span style=\"background-color: #FFFEFE\"> ツイッター</span><span style=\"background-color: #FFFDFD\"> にて</span><span style=\"background-color: #FFFEFE\"> 「</span><span style=\"background-color: #FFFEFE\"> 石井</span><span style=\"background-color: #FFFEFE\"> 慧</span><span style=\"background-color: #FFFEFE\"> の</span><span style=\"background-color: #FFFEFE\"> 体調</span><span style=\"background-color: #FFFEFE\"> は</span><span style=\"background-color: #FFFEFE\"> 良好</span><span style=\"background-color: #FFFEFE\"> だ</span><span style=\"background-color: #FFFEFE\"> そう</span><span style=\"background-color: #FFFBFB\"> です</span><span style=\"background-color: #FFFCFC\"> 。</span><span style=\"background-color: #FFF8F8\"> 」</span><span style=\"background-color: #FFFEFE\"> と</span><span style=\"background-color: #FFFEFE\"> コメント</span><span style=\"background-color: #FFFEFE\"> 、</span><span style=\"background-color: #FFE7E7\"> さらに</span><span style=\"background-color: #FFFEFE\"> 「</span><span style=\"background-color: #FFFEFE\"> 人</span><span style=\"background-color: #FFFEFE\"> の</span><span style=\"background-color: #FFFEFE\"> 人生</span><span style=\"background-color: #FFFEFE\"> や</span><span style=\"background-color: #FFFEFE\"> 生命</span><span style=\"background-color: #FFFEFE\"> に</span><span style=\"background-color: #FFFEFE\"> 関わる</span><span style=\"background-color: #FFFEFE\"> こと</span><span style=\"background-color: #FFFEFE\"> を</span><span style=\"background-color: #FFFEFE\"> 平</span><span style=\"background-color: #FFFEFE\"> ##気</span><span style=\"background-color: #FFFEFE\"> で</span><span style=\"background-color: #FFFEFE\"> ガ</span><span style=\"background-color: #FFFEFE\"> ##セ</span><span style=\"background-color: #FFFEFE\"> 流す</span><span style=\"background-color: #FFFEFE\"> 奴</span><span style=\"background-color: #FFFEFE\"> は</span><span style=\"background-color: #FFFEFE\"> 死ん</span><span style=\"background-color: #FFFEFE\"> だ</span><span style=\"background-color: #FFFEFE\"> ほう</span><span style=\"background-color: #FFFEFE\"> が</span><span style=\"background-color: #FFFEFE\"> 世</span><span style=\"background-color: #FFFEFE\"> の</span><span style=\"background-color: #FFFEFE\"> 為</span><span style=\"background-color: #FFFCFC\"> 。</span><span style=\"background-color: #FFD1D1\"> 」</span><span style=\"background-color: #FFFEFE\"> と</span><span style=\"background-color: #FFFEFE\"> 怒り</span><span style=\"background-color: #FFFEFE\"> の</span><span style=\"background-color: #FFFEFE\"> ツイート</span><span style=\"background-color: #FFFDFD\"> を</span><span style=\"background-color: #FFF0F0\"> し</span><span style=\"background-color: #FFFCFC\"> て</span><span style=\"background-color: #FF0000\"> いる</span><span style=\"background-color: #FFFEFE\"> 。</span><span style=\"background-color: #FFFCFC\"> これ</span><span style=\"background-color: #FFFEFE\"> を</span><span style=\"background-color: #FFFEFE\"> もっ</span><span style=\"background-color: #FFFEFE\"> て</span><span style=\"background-color: #FFFEFE\"> 、</span><span style=\"background-color: #FFFDFD\"> 石井</span><span style=\"background-color: #FFFEFE\"> の</span><span style=\"background-color: #FFFEFE\"> 体調</span><span style=\"background-color: #FFFEFE\"> 不良</span><span style=\"background-color: #FFFEFE\"> が</span><span style=\"background-color: #FFFEFE\"> ただちに</span><span style=\"background-color: #FFFEFE\"> 否定</span><span style=\"background-color: #FFFEFE\"> さ</span><span style=\"background-color: #FFFEFE\"> れ</span><span style=\"background-color: #FFFDFD\"> た</span><span style=\"background-color: #FFF5F5\"> わけ</span><span style=\"background-color: #FFFDFD\"> で</span><span style=\"background-color: #FFFDFD\"> は</span><span style=\"background-color: #FFF1F1\"> ない</span><span style=\"background-color: #FFFEFE\"> 。</span><span style=\"background-color: #FFDBDB\"> しかし</span><span style=\"background-color: #FFFEFE\"> 、</span><span style=\"background-color: #FFFEFE\"> 石井</span><span style=\"background-color: #FFFEFE\"> から</span><span style=\"background-color: #FFFEFE\"> 近</span><span style=\"background-color: #FFFEFE\"> ##しい</span><span style=\"background-color: #FFFEFE\"> と</span><span style=\"background-color: #FFFEFE\"> 思わ</span><span style=\"background-color: #FFFEFE\"> れる</span><span style=\"background-color: #FFFEFE\"> 人間</span><span style=\"background-color: #FFFEFE\"> から</span><span style=\"background-color: #FFFEFE\"> の</span><span style=\"background-color: #FFFEFE\"> 情報</span><span style=\"background-color: #FFFEFE\"> で</span><span style=\"background-color: #FFFAFA\"> あり</span><span style=\"background-color: #FFFEFE\"> 、</span><span style=\"background-color: #FFFEFE\"> 信</span><span style=\"background-color: #FFFEFE\"> ##ぴ</span><span style=\"background-color: #FFFEFE\"> ##ょう</span><span style=\"background-color: #FFFEFE\"> 性</span><span style=\"background-color: #FFFEFE\"> は</span><span style=\"background-color: #FFF1F1\"> 高い</span><span style=\"background-color: #FFFEFE\"> と</span><span style=\"background-color: #FFFBFB\"> いえる</span><span style=\"background-color: #FFFCFC\"> だろ</span><span style=\"background-color: #FFF8F8\"> う</span><span style=\"background-color: #FFFEFE\"> 。</span><span style=\"background-color: #FFFDFD\"> この</span><span style=\"background-color: #FFFEFE\"> 件</span><span style=\"background-color: #FFFCFC\"> について</span><span style=\"background-color: #FFFEFE\"> 、</span><span style=\"background-color: #FFFEFE\"> 格闘技</span><span style=\"background-color: #FFFEFE\"> ファン</span><span style=\"background-color: #FFFDFD\"> から</span><span style=\"background-color: #FFFCFC\"> は</span><span style=\"background-color: #FFFEFE\"> 「</span><span style=\"background-color: #FFFEFE\"> 良かっ</span><span style=\"background-color: #FFFEFE\"> た</span><span style=\"background-color: #FFFEFE\"> 、</span><span style=\"background-color: #FFFEFE\"> 引退</span><span style=\"background-color: #FFFEFE\"> する</span><span style=\"background-color: #FFFEFE\"> 石井</span><span style=\"background-color: #FFFEFE\"> は</span><span style=\"background-color: #FFFEFE\"> 居</span><span style=\"background-color: #FFFEFE\"> なかっ</span><span style=\"background-color: #FFFEFE\"> た</span><span style=\"background-color: #FFFEFE\"> ん</span><span style=\"background-color: #FFFDFD\"> だ</span><span style=\"background-color: #FFFEFE\"> ...」</span><span style=\"background-color: #FFFEFE\"> ##「</span><span style=\"background-color: #FFFEFE\"> とり</span><span style=\"background-color: #FFFEFE\"> ##あ</span><span style=\"background-color: #FFFEFE\"> ##えず</span><span style=\"background-color: #FFFEFE\"> よかっ</span><span style=\"background-color: #FFFEFE\"> た</span><span style=\"background-color: #FFFBFB\"> 」</span><span style=\"background-color: #FFFDFD\"> といった</span><span style=\"background-color: #FFFEFE\"> 安堵</span><span style=\"background-color: #FFFEFE\"> の</span><span style=\"background-color: #FFFEFE\"> コメント</span><span style=\"background-color: #FFFEFE\"> が</span><span style=\"background-color: #FFFEFE\"> 並ん</span><span style=\"background-color: #FFFEFE\"> で</span><span style=\"background-color: #FFA0A0\"> いる</span><span style=\"background-color: #FFFEFE\"> 。</span><br><br>[BERTのAttentionを可視化_10]<br><span style=\"background-color: #FFFEFE\"> [CLS]</span><span style=\"background-color: #FFFEFE\"> ヒ</span><span style=\"background-color: #FFFEFE\"> ##ョー</span><span style=\"background-color: #FFFEFE\"> ##ドル</span><span style=\"background-color: #FFFEFE\"> 戦</span><span style=\"background-color: #FFFEFE\"> で</span><span style=\"background-color: #FFFEFE\"> KO</span><span style=\"background-color: #FFFEFE\"> さ</span><span style=\"background-color: #FFFEFE\"> れ</span><span style=\"background-color: #FFFEFE\"> 病院</span><span style=\"background-color: #FFFEFE\"> に</span><span style=\"background-color: #FFFEFE\"> 直行</span><span style=\"background-color: #FFFEFE\"> し</span><span style=\"background-color: #FFFEFE\"> た</span><span style=\"background-color: #FFFEFE\"> 石井</span><span style=\"background-color: #FFFEFE\"> 慧</span><span style=\"background-color: #FF0000\"> について</span><span style=\"background-color: #FFFEFE\"> 、</span><span style=\"background-color: #FFFEFE\"> 30</span><span style=\"background-color: #FFFEFE\"> 日</span><span style=\"background-color: #FFFEFE\"> に</span><span style=\"background-color: #FFFEFE\"> 脳</span><span style=\"background-color: #FFFEFE\"> 障害</span><span style=\"background-color: #FFFEFE\"> により</span><span style=\"background-color: #FFFEFE\"> 引退</span><span style=\"background-color: #FFFEFE\"> 危機</span><span style=\"background-color: #FFFEFE\"> という</span><span style=\"background-color: #FFFEFE\"> 報道</span><span style=\"background-color: #FFFEFE\"> が</span><span style=\"background-color: #FFFEFE\"> 行なわ</span><span style=\"background-color: #FFFDFD\"> れ</span><span style=\"background-color: #FFFEFE\"> た</span><span style=\"background-color: #FFFEFE\"> 。</span><span style=\"background-color: #FFFEFE\"> 記事</span><span style=\"background-color: #FFFEFE\"> に</span><span style=\"background-color: #FFFBFB\"> は</span><span style=\"background-color: #FFFEFE\"> 「</span><span style=\"background-color: #FFFEFE\"> 一説</span><span style=\"background-color: #FFFEFE\"> に</span><span style=\"background-color: #FFFEFE\"> は</span><span style=\"background-color: #FFFEFE\"> 『</span><span style=\"background-color: #FFFEFE\"> 脳</span><span style=\"background-color: #FFFEFE\"> 浮</span><span style=\"background-color: #FFFEFE\"> ##腫</span><span style=\"background-color: #FFFEFE\"> 』</span><span style=\"background-color: #FFFEFE\"> と</span><span style=\"background-color: #FFFEFE\"> も</span><span style=\"background-color: #FFFEFE\"> 言わ</span><span style=\"background-color: #FFFEFE\"> れ</span><span style=\"background-color: #FFFEFE\"> て</span><span style=\"background-color: #FFFEFE\"> い</span><span style=\"background-color: #FFFEFE\"> ます</span><span style=\"background-color: #FFFEFE\"> 」</span><span style=\"background-color: #FFFEFE\"> (</span><span style=\"background-color: #FFFEFE\"> 格闘技</span><span style=\"background-color: #FFFEFE\"> 事情</span><span style=\"background-color: #FFFEFE\"> 通</span><span style=\"background-color: #FFFEFE\"> )</span><span style=\"background-color: #FFFEFE\"> と</span><span style=\"background-color: #FFD3D3\"> あり</span><span style=\"background-color: #FFFEFE\"> 、</span><span style=\"background-color: #FFFEFE\"> 石井</span><span style=\"background-color: #FFFEFE\"> の</span><span style=\"background-color: #FFFEFE\"> 容</span><span style=\"background-color: #FFFEFE\"> ##態</span><span style=\"background-color: #FFFEFE\"> は</span><span style=\"background-color: #FFFEFE\"> 深刻</span><span style=\"background-color: #FFFEFE\"> な</span><span style=\"background-color: #FFFEFE\"> もの</span><span style=\"background-color: #FFFEFE\"> と</span><span style=\"background-color: #FFFEFE\"> 思わ</span><span style=\"background-color: #FFFEFE\"> れ</span><span style=\"background-color: #FFFEFE\"> た</span><span style=\"background-color: #FFFEFE\"> 。</span><span style=\"background-color: #FFFAFA\"> しかし</span><span style=\"background-color: #FFFEFE\"> 、</span><span style=\"background-color: #FFFEFE\"> この</span><span style=\"background-color: #FFFEFE\"> 件</span><span style=\"background-color: #FFF6F6\"> について</span><span style=\"background-color: #FFFEFE\"> 元</span><span style=\"background-color: #FFFEFE\"> DEEP</span><span style=\"background-color: #FFFEFE\"> ミドル</span><span style=\"background-color: #FFFEFE\"> 級</span><span style=\"background-color: #FFFEFE\"> 王者</span><span style=\"background-color: #FFFEFE\"> で</span><span style=\"background-color: #FFFEFE\"> ある</span><span style=\"background-color: #FFFEFE\"> 長</span><span style=\"background-color: #FFFEFE\"> ##南</span><span style=\"background-color: #FFFEFE\"> 亮</span><span style=\"background-color: #FFFEFE\"> (</span><span style=\"background-color: #FFFEFE\"> ちょう</span><span style=\"background-color: #FFFEFE\"> なん</span><span style=\"background-color: #FFFEFE\"> ・</span><span style=\"background-color: #FFFEFE\"> りょう</span><span style=\"background-color: #FFFDFD\"> )</span><span style=\"background-color: #FFF0F0\"> は</span><span style=\"background-color: #FFFEFE\"> 真っ</span><span style=\"background-color: #FFFEFE\"> ##向</span><span style=\"background-color: #FFFEFE\"> から</span><span style=\"background-color: #FFFEFE\"> 否定</span><span style=\"background-color: #FFFEFE\"> 。</span><span style=\"background-color: #FFFEFE\"> 自身</span><span style=\"background-color: #FFFEFE\"> の</span><span style=\"background-color: #FFFEFE\"> ツイッター</span><span style=\"background-color: #FFFEFE\"> にて</span><span style=\"background-color: #FFFEFE\"> 「</span><span style=\"background-color: #FFFEFE\"> 石井</span><span style=\"background-color: #FFFEFE\"> 慧</span><span style=\"background-color: #FFFEFE\"> の</span><span style=\"background-color: #FFFEFE\"> 体調</span><span style=\"background-color: #FFFEFE\"> は</span><span style=\"background-color: #FFFEFE\"> 良好</span><span style=\"background-color: #FFFEFE\"> だ</span><span style=\"background-color: #FFFEFE\"> そう</span><span style=\"background-color: #FFFEFE\"> です</span><span style=\"background-color: #FFFEFE\"> 。</span><span style=\"background-color: #FFFEFE\"> 」</span><span style=\"background-color: #FFFEFE\"> と</span><span style=\"background-color: #FFFEFE\"> コメント</span><span style=\"background-color: #FFFEFE\"> 、</span><span style=\"background-color: #FFFEFE\"> さらに</span><span style=\"background-color: #FFFEFE\"> 「</span><span style=\"background-color: #FFFEFE\"> 人</span><span style=\"background-color: #FFFEFE\"> の</span><span style=\"background-color: #FFFEFE\"> 人生</span><span style=\"background-color: #FFFEFE\"> や</span><span style=\"background-color: #FFFEFE\"> 生命</span><span style=\"background-color: #FFFEFE\"> に</span><span style=\"background-color: #FFFEFE\"> 関わる</span><span style=\"background-color: #FFFEFE\"> こと</span><span style=\"background-color: #FFFEFE\"> を</span><span style=\"background-color: #FFFEFE\"> 平</span><span style=\"background-color: #FFFEFE\"> ##気</span><span style=\"background-color: #FFFEFE\"> で</span><span style=\"background-color: #FFFEFE\"> ガ</span><span style=\"background-color: #FFFFFF\"> ##セ</span><span style=\"background-color: #FFFEFE\"> 流す</span><span style=\"background-color: #FFFEFE\"> 奴</span><span style=\"background-color: #FFFEFE\"> は</span><span style=\"background-color: #FFFEFE\"> 死ん</span><span style=\"background-color: #FFFEFE\"> だ</span><span style=\"background-color: #FFFEFE\"> ほう</span><span style=\"background-color: #FFFEFE\"> が</span><span style=\"background-color: #FFFEFE\"> 世</span><span style=\"background-color: #FFFEFE\"> の</span><span style=\"background-color: #FFFEFE\"> 為</span><span style=\"background-color: #FFFEFE\"> 。</span><span style=\"background-color: #FFFEFE\"> 」</span><span style=\"background-color: #FFFEFE\"> と</span><span style=\"background-color: #FFFEFE\"> 怒り</span><span style=\"background-color: #FFFEFE\"> の</span><span style=\"background-color: #FFFEFE\"> ツイート</span><span style=\"background-color: #FFFEFE\"> を</span><span style=\"background-color: #FFFEFE\"> し</span><span style=\"background-color: #FFFEFE\"> て</span><span style=\"background-color: #FFFEFE\"> いる</span><span style=\"background-color: #FFFEFE\"> 。</span><span style=\"background-color: #FFFEFE\"> これ</span><span style=\"background-color: #FFFEFE\"> を</span><span style=\"background-color: #FFFEFE\"> もっ</span><span style=\"background-color: #FFFEFE\"> て</span><span style=\"background-color: #FFFEFE\"> 、</span><span style=\"background-color: #FFFEFE\"> 石井</span><span style=\"background-color: #FFFEFE\"> の</span><span style=\"background-color: #FFFEFE\"> 体調</span><span style=\"background-color: #FFFEFE\"> 不良</span><span style=\"background-color: #FFFEFE\"> が</span><span style=\"background-color: #FFFEFE\"> ただちに</span><span style=\"background-color: #FFFEFE\"> 否定</span><span style=\"background-color: #FFFEFE\"> さ</span><span style=\"background-color: #FFFEFE\"> れ</span><span style=\"background-color: #FFFEFE\"> た</span><span style=\"background-color: #FFFEFE\"> わけ</span><span style=\"background-color: #FFFEFE\"> で</span><span style=\"background-color: #FFFEFE\"> は</span><span style=\"background-color: #FFFBFB\"> ない</span><span style=\"background-color: #FFFEFE\"> 。</span><span style=\"background-color: #FFFBFB\"> しかし</span><span style=\"background-color: #FFFEFE\"> 、</span><span style=\"background-color: #FFFEFE\"> 石井</span><span style=\"background-color: #FFFEFE\"> から</span><span style=\"background-color: #FFFEFE\"> 近</span><span style=\"background-color: #FFFEFE\"> ##しい</span><span style=\"background-color: #FFFEFE\"> と</span><span style=\"background-color: #FFFEFE\"> 思わ</span><span style=\"background-color: #FFFEFE\"> れる</span><span style=\"background-color: #FFFEFE\"> 人間</span><span style=\"background-color: #FFFEFE\"> から</span><span style=\"background-color: #FFFEFE\"> の</span><span style=\"background-color: #FFFEFE\"> 情報</span><span style=\"background-color: #FFFEFE\"> で</span><span style=\"background-color: #FFEDED\"> あり</span><span style=\"background-color: #FFFEFE\"> 、</span><span style=\"background-color: #FFFEFE\"> 信</span><span style=\"background-color: #FFFEFE\"> ##ぴ</span><span style=\"background-color: #FFFEFE\"> ##ょう</span><span style=\"background-color: #FFFEFE\"> 性</span><span style=\"background-color: #FFFEFE\"> は</span><span style=\"background-color: #FFFEFE\"> 高い</span><span style=\"background-color: #FFFEFE\"> と</span><span style=\"background-color: #FFFDFD\"> いえる</span><span style=\"background-color: #FFFDFD\"> だろ</span><span style=\"background-color: #FFFDFD\"> う</span><span style=\"background-color: #FFFEFE\"> 。</span><span style=\"background-color: #FFFEFE\"> この</span><span style=\"background-color: #FFFEFE\"> 件</span><span style=\"background-color: #FFCFCF\"> について</span><span style=\"background-color: #FFFEFE\"> 、</span><span style=\"background-color: #FFFEFE\"> 格闘技</span><span style=\"background-color: #FFFEFE\"> ファン</span><span style=\"background-color: #FFFEFE\"> から</span><span style=\"background-color: #FFFBFB\"> は</span><span style=\"background-color: #FFFEFE\"> 「</span><span style=\"background-color: #FFFEFE\"> 良かっ</span><span style=\"background-color: #FFFEFE\"> た</span><span style=\"background-color: #FFFEFE\"> 、</span><span style=\"background-color: #FFFEFE\"> 引退</span><span style=\"background-color: #FFFEFE\"> する</span><span style=\"background-color: #FFFEFE\"> 石井</span><span style=\"background-color: #FFFEFE\"> は</span><span style=\"background-color: #FFFEFE\"> 居</span><span style=\"background-color: #FFFEFE\"> なかっ</span><span style=\"background-color: #FFFEFE\"> た</span><span style=\"background-color: #FFFEFE\"> ん</span><span style=\"background-color: #FFFEFE\"> だ</span><span style=\"background-color: #FFFEFE\"> ...」</span><span style=\"background-color: #FFFEFE\"> ##「</span><span style=\"background-color: #FFFEFE\"> とり</span><span style=\"background-color: #FFFEFE\"> ##あ</span><span style=\"background-color: #FFFEFE\"> ##えず</span><span style=\"background-color: #FFFEFE\"> よかっ</span><span style=\"background-color: #FFFEFE\"> た</span><span style=\"background-color: #FFFEFE\"> 」</span><span style=\"background-color: #FFFEFE\"> といった</span><span style=\"background-color: #FFFEFE\"> 安堵</span><span style=\"background-color: #FFFEFE\"> の</span><span style=\"background-color: #FFFEFE\"> コメント</span><span style=\"background-color: #FFFEFE\"> が</span><span style=\"background-color: #FFFEFE\"> 並ん</span><span style=\"background-color: #FFFEFE\"> で</span><span style=\"background-color: #FFFEFE\"> いる</span><span style=\"background-color: #FFFEFE\"> 。</span><br><br>[BERTのAttentionを可視化_11]<br><span style=\"background-color: #FFFEFE\"> [CLS]</span><span style=\"background-color: #FFFEFE\"> ヒ</span><span style=\"background-color: #FFFEFE\"> ##ョー</span><span style=\"background-color: #FFFEFE\"> ##ドル</span><span style=\"background-color: #FFEBEB\"> 戦</span><span style=\"background-color: #FFFEFE\"> で</span><span style=\"background-color: #FFFEFE\"> KO</span><span style=\"background-color: #FFFEFE\"> さ</span><span style=\"background-color: #FFFEFE\"> れ</span><span style=\"background-color: #FFFEFE\"> 病院</span><span style=\"background-color: #FFFEFE\"> に</span><span style=\"background-color: #FFFEFE\"> 直行</span><span style=\"background-color: #FFFEFE\"> し</span><span style=\"background-color: #FFFEFE\"> た</span><span style=\"background-color: #FFF3F3\"> 石井</span><span style=\"background-color: #FFFEFE\"> 慧</span><span style=\"background-color: #FFFEFE\"> について</span><span style=\"background-color: #FFFEFE\"> 、</span><span style=\"background-color: #FFFEFE\"> 30</span><span style=\"background-color: #FFFEFE\"> 日</span><span style=\"background-color: #FFFEFE\"> に</span><span style=\"background-color: #FFFEFE\"> 脳</span><span style=\"background-color: #FFFEFE\"> 障害</span><span style=\"background-color: #FFFEFE\"> により</span><span style=\"background-color: #FFFEFE\"> 引退</span><span style=\"background-color: #FFFEFE\"> 危機</span><span style=\"background-color: #FFFEFE\"> という</span><span style=\"background-color: #FFFEFE\"> 報道</span><span style=\"background-color: #FFFEFE\"> が</span><span style=\"background-color: #FFFEFE\"> 行なわ</span><span style=\"background-color: #FFFEFE\"> れ</span><span style=\"background-color: #FFFEFE\"> た</span><span style=\"background-color: #FFFEFE\"> 。</span><span style=\"background-color: #FFFEFE\"> 記事</span><span style=\"background-color: #FFFEFE\"> に</span><span style=\"background-color: #FFFEFE\"> は</span><span style=\"background-color: #FFFEFE\"> 「</span><span style=\"background-color: #FFFEFE\"> 一説</span><span style=\"background-color: #FFFEFE\"> に</span><span style=\"background-color: #FFFEFE\"> は</span><span style=\"background-color: #FFFEFE\"> 『</span><span style=\"background-color: #FFFEFE\"> 脳</span><span style=\"background-color: #FFFEFE\"> 浮</span><span style=\"background-color: #FFFEFE\"> ##腫</span><span style=\"background-color: #FFFEFE\"> 』</span><span style=\"background-color: #FFFEFE\"> と</span><span style=\"background-color: #FFFEFE\"> も</span><span style=\"background-color: #FFFEFE\"> 言わ</span><span style=\"background-color: #FFFEFE\"> れ</span><span style=\"background-color: #FFFEFE\"> て</span><span style=\"background-color: #FFFEFE\"> い</span><span style=\"background-color: #FFFEFE\"> ます</span><span style=\"background-color: #FFFEFE\"> 」</span><span style=\"background-color: #FFFEFE\"> (</span><span style=\"background-color: #FF3B3B\"> 格闘技</span><span style=\"background-color: #FFFEFE\"> 事情</span><span style=\"background-color: #FFFEFE\"> 通</span><span style=\"background-color: #FFFEFE\"> )</span><span style=\"background-color: #FFFEFE\"> と</span><span style=\"background-color: #FFFEFE\"> あり</span><span style=\"background-color: #FFFEFE\"> 、</span><span style=\"background-color: #FFDFDF\"> 石井</span><span style=\"background-color: #FFFEFE\"> の</span><span style=\"background-color: #FFFEFE\"> 容</span><span style=\"background-color: #FFFEFE\"> ##態</span><span style=\"background-color: #FFFEFE\"> は</span><span style=\"background-color: #FFFEFE\"> 深刻</span><span style=\"background-color: #FFFEFE\"> な</span><span style=\"background-color: #FFFEFE\"> もの</span><span style=\"background-color: #FFFEFE\"> と</span><span style=\"background-color: #FFFEFE\"> 思わ</span><span style=\"background-color: #FFFEFE\"> れ</span><span style=\"background-color: #FFFEFE\"> た</span><span style=\"background-color: #FFFEFE\"> 。</span><span style=\"background-color: #FFFEFE\"> しかし</span><span style=\"background-color: #FFFEFE\"> 、</span><span style=\"background-color: #FFFEFE\"> この</span><span style=\"background-color: #FFFEFE\"> 件</span><span style=\"background-color: #FFFEFE\"> について</span><span style=\"background-color: #FFFEFE\"> 元</span><span style=\"background-color: #FFFEFE\"> DEEP</span><span style=\"background-color: #FFF5F5\"> ミドル</span><span style=\"background-color: #FFF8F8\"> 級</span><span style=\"background-color: #FFF7F7\"> 王者</span><span style=\"background-color: #FFFEFE\"> で</span><span style=\"background-color: #FFFEFE\"> ある</span><span style=\"background-color: #FFFEFE\"> 長</span><span style=\"background-color: #FFFEFE\"> ##南</span><span style=\"background-color: #FFFEFE\"> 亮</span><span style=\"background-color: #FFFEFE\"> (</span><span style=\"background-color: #FFFEFE\"> ちょう</span><span style=\"background-color: #FFFEFE\"> なん</span><span style=\"background-color: #FFFEFE\"> ・</span><span style=\"background-color: #FFFEFE\"> りょう</span><span style=\"background-color: #FFFEFE\"> )</span><span style=\"background-color: #FFFEFE\"> は</span><span style=\"background-color: #FFFEFE\"> 真っ</span><span style=\"background-color: #FFFEFE\"> ##向</span><span style=\"background-color: #FFFEFE\"> から</span><span style=\"background-color: #FFFEFE\"> 否定</span><span style=\"background-color: #FFFEFE\"> 。</span><span style=\"background-color: #FFFEFE\"> 自身</span><span style=\"background-color: #FFFEFE\"> の</span><span style=\"background-color: #FFFEFE\"> ツイッター</span><span style=\"background-color: #FFFEFE\"> にて</span><span style=\"background-color: #FFFEFE\"> 「</span><span style=\"background-color: #FFE3E3\"> 石井</span><span style=\"background-color: #FFFDFD\"> 慧</span><span style=\"background-color: #FFFEFE\"> の</span><span style=\"background-color: #FFFEFE\"> 体調</span><span style=\"background-color: #FFFEFE\"> は</span><span style=\"background-color: #FFFEFE\"> 良好</span><span style=\"background-color: #FFFEFE\"> だ</span><span style=\"background-color: #FFFEFE\"> そう</span><span style=\"background-color: #FFFEFE\"> です</span><span style=\"background-color: #FFFEFE\"> 。</span><span style=\"background-color: #FFFEFE\"> 」</span><span style=\"background-color: #FFFEFE\"> と</span><span style=\"background-color: #FFFEFE\"> コメント</span><span style=\"background-color: #FFFEFE\"> 、</span><span style=\"background-color: #FFFEFE\"> さらに</span><span style=\"background-color: #FFFEFE\"> 「</span><span style=\"background-color: #FFFEFE\"> 人</span><span style=\"background-color: #FFFEFE\"> の</span><span style=\"background-color: #FFFEFE\"> 人生</span><span style=\"background-color: #FFFEFE\"> や</span><span style=\"background-color: #FFFEFE\"> 生命</span><span style=\"background-color: #FFFEFE\"> に</span><span style=\"background-color: #FFFEFE\"> 関わる</span><span style=\"background-color: #FFFEFE\"> こと</span><span style=\"background-color: #FFFEFE\"> を</span><span style=\"background-color: #FFFEFE\"> 平</span><span style=\"background-color: #FFFEFE\"> ##気</span><span style=\"background-color: #FFFEFE\"> で</span><span style=\"background-color: #FFFEFE\"> ガ</span><span style=\"background-color: #FFFEFE\"> ##セ</span><span style=\"background-color: #FFFEFE\"> 流す</span><span style=\"background-color: #FFFEFE\"> 奴</span><span style=\"background-color: #FFFEFE\"> は</span><span style=\"background-color: #FFFEFE\"> 死ん</span><span style=\"background-color: #FFFEFE\"> だ</span><span style=\"background-color: #FFFEFE\"> ほう</span><span style=\"background-color: #FFFEFE\"> が</span><span style=\"background-color: #FFFEFE\"> 世</span><span style=\"background-color: #FFFEFE\"> の</span><span style=\"background-color: #FFFEFE\"> 為</span><span style=\"background-color: #FFFEFE\"> 。</span><span style=\"background-color: #FFFEFE\"> 」</span><span style=\"background-color: #FFFEFE\"> と</span><span style=\"background-color: #FFFEFE\"> 怒り</span><span style=\"background-color: #FFFEFE\"> の</span><span style=\"background-color: #FFFEFE\"> ツイート</span><span style=\"background-color: #FFFEFE\"> を</span><span style=\"background-color: #FFFEFE\"> し</span><span style=\"background-color: #FFFEFE\"> て</span><span style=\"background-color: #FFFEFE\"> いる</span><span style=\"background-color: #FFFEFE\"> 。</span><span style=\"background-color: #FFFEFE\"> これ</span><span style=\"background-color: #FFFEFE\"> を</span><span style=\"background-color: #FFFEFE\"> もっ</span><span style=\"background-color: #FFFEFE\"> て</span><span style=\"background-color: #FFFEFE\"> 、</span><span style=\"background-color: #FFD4D4\"> 石井</span><span style=\"background-color: #FFFEFE\"> の</span><span style=\"background-color: #FFFEFE\"> 体調</span><span style=\"background-color: #FFFEFE\"> 不良</span><span style=\"background-color: #FFFEFE\"> が</span><span style=\"background-color: #FFFEFE\"> ただちに</span><span style=\"background-color: #FFFEFE\"> 否定</span><span style=\"background-color: #FFFEFE\"> さ</span><span style=\"background-color: #FFFEFE\"> れ</span><span style=\"background-color: #FFFEFE\"> た</span><span style=\"background-color: #FFFFFF\"> わけ</span><span style=\"background-color: #FFFEFE\"> で</span><span style=\"background-color: #FFFFFF\"> は</span><span style=\"background-color: #FFFEFE\"> ない</span><span style=\"background-color: #FFFEFE\"> 。</span><span style=\"background-color: #FFFEFE\"> しかし</span><span style=\"background-color: #FFFEFE\"> 、</span><span style=\"background-color: #FFC4C4\"> 石井</span><span style=\"background-color: #FFFEFE\"> から</span><span style=\"background-color: #FFFEFE\"> 近</span><span style=\"background-color: #FFFEFE\"> ##しい</span><span style=\"background-color: #FFFEFE\"> と</span><span style=\"background-color: #FFFEFE\"> 思わ</span><span style=\"background-color: #FFFEFE\"> れる</span><span style=\"background-color: #FFFEFE\"> 人間</span><span style=\"background-color: #FFFEFE\"> から</span><span style=\"background-color: #FFFEFE\"> の</span><span style=\"background-color: #FFFEFE\"> 情報</span><span style=\"background-color: #FFFEFE\"> で</span><span style=\"background-color: #FFFEFE\"> あり</span><span style=\"background-color: #FFFEFE\"> 、</span><span style=\"background-color: #FFFEFE\"> 信</span><span style=\"background-color: #FFFEFE\"> ##ぴ</span><span style=\"background-color: #FFFEFE\"> ##ょう</span><span style=\"background-color: #FFFEFE\"> 性</span><span style=\"background-color: #FFFEFE\"> は</span><span style=\"background-color: #FFFEFE\"> 高い</span><span style=\"background-color: #FFFEFE\"> と</span><span style=\"background-color: #FFFEFE\"> いえる</span><span style=\"background-color: #FFFEFE\"> だろ</span><span style=\"background-color: #FFFEFE\"> う</span><span style=\"background-color: #FFFEFE\"> 。</span><span style=\"background-color: #FFFEFE\"> この</span><span style=\"background-color: #FFFEFE\"> 件</span><span style=\"background-color: #FFFEFE\"> について</span><span style=\"background-color: #FFFEFE\"> 、</span><span style=\"background-color: #FF0000\"> 格闘技</span><span style=\"background-color: #FFFDFD\"> ファン</span><span style=\"background-color: #FFFEFE\"> から</span><span style=\"background-color: #FFFEFE\"> は</span><span style=\"background-color: #FFFEFE\"> 「</span><span style=\"background-color: #FFFEFE\"> 良かっ</span><span style=\"background-color: #FFFEFE\"> た</span><span style=\"background-color: #FFFEFE\"> 、</span><span style=\"background-color: #FFFAFA\"> 引退</span><span style=\"background-color: #FFFEFE\"> する</span><span style=\"background-color: #FFDBDB\"> 石井</span><span style=\"background-color: #FFFEFE\"> は</span><span style=\"background-color: #FFFEFE\"> 居</span><span style=\"background-color: #FFFEFE\"> なかっ</span><span style=\"background-color: #FFFEFE\"> た</span><span style=\"background-color: #FFFEFE\"> ん</span><span style=\"background-color: #FFFEFE\"> だ</span><span style=\"background-color: #FFFEFE\"> ...」</span><span style=\"background-color: #FFFEFE\"> ##「</span><span style=\"background-color: #FFFEFE\"> とり</span><span style=\"background-color: #FFFEFE\"> ##あ</span><span style=\"background-color: #FFFEFE\"> ##えず</span><span style=\"background-color: #FFFEFE\"> よかっ</span><span style=\"background-color: #FFFEFE\"> た</span><span style=\"background-color: #FFFEFE\"> 」</span><span style=\"background-color: #FFFEFE\"> といった</span><span style=\"background-color: #FFFEFE\"> 安堵</span><span style=\"background-color: #FFFEFE\"> の</span><span style=\"background-color: #FFFEFE\"> コメント</span><span style=\"background-color: #FFFEFE\"> が</span><span style=\"background-color: #FFFEFE\"> 並ん</span><span style=\"background-color: #FFFEFE\"> で</span><span style=\"background-color: #FFFEFE\"> いる</span><span style=\"background-color: #FFFEFE\"> 。</span><br><br>[BERTのAttentionを可視化_12]<br><span style=\"background-color: #FFFEFE\"> [CLS]</span><span style=\"background-color: #FFFEFE\"> ヒ</span><span style=\"background-color: #FFFEFE\"> ##ョー</span><span style=\"background-color: #FFFEFE\"> ##ドル</span><span style=\"background-color: #FFFEFE\"> 戦</span><span style=\"background-color: #FFFEFE\"> で</span><span style=\"background-color: #FFFEFE\"> KO</span><span style=\"background-color: #FFFEFE\"> さ</span><span style=\"background-color: #FFFEFE\"> れ</span><span style=\"background-color: #FFFEFE\"> 病院</span><span style=\"background-color: #FFFEFE\"> に</span><span style=\"background-color: #FFFEFE\"> 直行</span><span style=\"background-color: #FFFEFE\"> し</span><span style=\"background-color: #FFFEFE\"> た</span><span style=\"background-color: #FFFEFE\"> 石井</span><span style=\"background-color: #FFFEFE\"> 慧</span><span style=\"background-color: #FFFEFE\"> について</span><span style=\"background-color: #FFFEFE\"> 、</span><span style=\"background-color: #FFFEFE\"> 30</span><span style=\"background-color: #FFFEFE\"> 日</span><span style=\"background-color: #FFFEFE\"> に</span><span style=\"background-color: #FFFEFE\"> 脳</span><span style=\"background-color: #FFFEFE\"> 障害</span><span style=\"background-color: #FFFEFE\"> により</span><span style=\"background-color: #FFFEFE\"> 引退</span><span style=\"background-color: #FFFEFE\"> 危機</span><span style=\"background-color: #FFFBFB\"> という</span><span style=\"background-color: #FFFCFC\"> 報道</span><span style=\"background-color: #FFF6F6\"> が</span><span style=\"background-color: #FFF4F4\"> 行なわ</span><span style=\"background-color: #FFC9C9\"> れ</span><span style=\"background-color: #FFEBEB\"> た</span><span style=\"background-color: #FFFEFE\"> 。</span><span style=\"background-color: #FFFBFB\"> 記事</span><span style=\"background-color: #FFFDFD\"> に</span><span style=\"background-color: #FFFBFB\"> は</span><span style=\"background-color: #FFFEFE\"> 「</span><span style=\"background-color: #FFFEFE\"> 一説</span><span style=\"background-color: #FFFEFE\"> に</span><span style=\"background-color: #FFFEFE\"> は</span><span style=\"background-color: #FFFEFE\"> 『</span><span style=\"background-color: #FFFEFE\"> 脳</span><span style=\"background-color: #FFFEFE\"> 浮</span><span style=\"background-color: #FFFEFE\"> ##腫</span><span style=\"background-color: #FFFEFE\"> 』</span><span style=\"background-color: #FFFEFE\"> と</span><span style=\"background-color: #FFFEFE\"> も</span><span style=\"background-color: #FFFEFE\"> 言わ</span><span style=\"background-color: #FFFEFE\"> れ</span><span style=\"background-color: #FFFEFE\"> て</span><span style=\"background-color: #FFFEFE\"> い</span><span style=\"background-color: #FFFEFE\"> ます</span><span style=\"background-color: #FFFEFE\"> 」</span><span style=\"background-color: #FFFEFE\"> (</span><span style=\"background-color: #FFFEFE\"> 格闘技</span><span style=\"background-color: #FFFEFE\"> 事情</span><span style=\"background-color: #FFFEFE\"> 通</span><span style=\"background-color: #FFFEFE\"> )</span><span style=\"background-color: #FFFEFE\"> と</span><span style=\"background-color: #FFF8F8\"> あり</span><span style=\"background-color: #FFFEFE\"> 、</span><span style=\"background-color: #FFFEFE\"> 石井</span><span style=\"background-color: #FFFEFE\"> の</span><span style=\"background-color: #FFFEFE\"> 容</span><span style=\"background-color: #FFFEFE\"> ##態</span><span style=\"background-color: #FFFEFE\"> は</span><span style=\"background-color: #FFFEFE\"> 深刻</span><span style=\"background-color: #FFFEFE\"> な</span><span style=\"background-color: #FFFEFE\"> もの</span><span style=\"background-color: #FFFEFE\"> と</span><span style=\"background-color: #FFFEFE\"> 思わ</span><span style=\"background-color: #FFFDFD\"> れ</span><span style=\"background-color: #FFFCFC\"> た</span><span style=\"background-color: #FFFEFE\"> 。</span><span style=\"background-color: #FFFEFE\"> しかし</span><span style=\"background-color: #FFFEFE\"> 、</span><span style=\"background-color: #FFFEFE\"> この</span><span style=\"background-color: #FFFEFE\"> 件</span><span style=\"background-color: #FFFEFE\"> について</span><span style=\"background-color: #FFFEFE\"> 元</span><span style=\"background-color: #FFFEFE\"> DEEP</span><span style=\"background-color: #FFFEFE\"> ミドル</span><span style=\"background-color: #FFFEFE\"> 級</span><span style=\"background-color: #FFFEFE\"> 王者</span><span style=\"background-color: #FFFEFE\"> で</span><span style=\"background-color: #FFFEFE\"> ある</span><span style=\"background-color: #FFFEFE\"> 長</span><span style=\"background-color: #FFFEFE\"> ##南</span><span style=\"background-color: #FFFEFE\"> 亮</span><span style=\"background-color: #FFFEFE\"> (</span><span style=\"background-color: #FFFEFE\"> ちょう</span><span style=\"background-color: #FFFEFE\"> なん</span><span style=\"background-color: #FFFEFE\"> ・</span><span style=\"background-color: #FFFEFE\"> りょう</span><span style=\"background-color: #FFFEFE\"> )</span><span style=\"background-color: #FFFEFE\"> は</span><span style=\"background-color: #FFFEFE\"> 真っ</span><span style=\"background-color: #FFFEFE\"> ##向</span><span style=\"background-color: #FFFEFE\"> から</span><span style=\"background-color: #FFFEFE\"> 否定</span><span style=\"background-color: #FFFEFE\"> 。</span><span style=\"background-color: #FFF2F2\"> 自身</span><span style=\"background-color: #FFFEFE\"> の</span><span style=\"background-color: #FFFEFE\"> ツイッター</span><span style=\"background-color: #FFFEFE\"> にて</span><span style=\"background-color: #FFFEFE\"> 「</span><span style=\"background-color: #FFFEFE\"> 石井</span><span style=\"background-color: #FFFEFE\"> 慧</span><span style=\"background-color: #FFFEFE\"> の</span><span style=\"background-color: #FFFEFE\"> 体調</span><span style=\"background-color: #FFFEFE\"> は</span><span style=\"background-color: #FFFEFE\"> 良好</span><span style=\"background-color: #FFFEFE\"> だ</span><span style=\"background-color: #FFFEFE\"> そう</span><span style=\"background-color: #FFFEFE\"> です</span><span style=\"background-color: #FFFEFE\"> 。</span><span style=\"background-color: #FFFEFE\"> 」</span><span style=\"background-color: #FFFEFE\"> と</span><span style=\"background-color: #FFFEFE\"> コメント</span><span style=\"background-color: #FFFEFE\"> 、</span><span style=\"background-color: #FFFEFE\"> さらに</span><span style=\"background-color: #FFFEFE\"> 「</span><span style=\"background-color: #FFFFFF\"> 人</span><span style=\"background-color: #FFFFFF\"> の</span><span style=\"background-color: #FFFFFF\"> 人生</span><span style=\"background-color: #FFFFFF\"> や</span><span style=\"background-color: #FFFFFF\"> 生命</span><span style=\"background-color: #FFFFFF\"> に</span><span style=\"background-color: #FFFFFF\"> 関わる</span><span style=\"background-color: #FFFFFF\"> こと</span><span style=\"background-color: #FFFFFF\"> を</span><span style=\"background-color: #FFFFFF\"> 平</span><span style=\"background-color: #FFFEFE\"> ##気</span><span style=\"background-color: #FFFEFE\"> で</span><span style=\"background-color: #FFFEFE\"> ガ</span><span style=\"background-color: #FFFEFE\"> ##セ</span><span style=\"background-color: #FFFEFE\"> 流す</span><span style=\"background-color: #FFFFFF\"> 奴</span><span style=\"background-color: #FFFFFF\"> は</span><span style=\"background-color: #FFFEFE\"> 死ん</span><span style=\"background-color: #FFFFFF\"> だ</span><span style=\"background-color: #FFFFFF\"> ほう</span><span style=\"background-color: #FFFFFF\"> が</span><span style=\"background-color: #FFFFFF\"> 世</span><span style=\"background-color: #FFFFFF\"> の</span><span style=\"background-color: #FFFEFE\"> 為</span><span style=\"background-color: #FFFEFE\"> 。</span><span style=\"background-color: #FFFEFE\"> 」</span><span style=\"background-color: #FFFEFE\"> と</span><span style=\"background-color: #FFFEFE\"> 怒り</span><span style=\"background-color: #FFFEFE\"> の</span><span style=\"background-color: #FFFEFE\"> ツイート</span><span style=\"background-color: #FFFDFD\"> を</span><span style=\"background-color: #FF5E5E\"> し</span><span style=\"background-color: #FFE2E2\"> て</span><span style=\"background-color: #FFC0C0\"> いる</span><span style=\"background-color: #FFFEFE\"> 。</span><span style=\"background-color: #FFFEFE\"> これ</span><span style=\"background-color: #FFFEFE\"> を</span><span style=\"background-color: #FFFEFE\"> もっ</span><span style=\"background-color: #FFFEFE\"> て</span><span style=\"background-color: #FFFEFE\"> 、</span><span style=\"background-color: #FFFEFE\"> 石井</span><span style=\"background-color: #FFFEFE\"> の</span><span style=\"background-color: #FFFEFE\"> 体調</span><span style=\"background-color: #FFFEFE\"> 不良</span><span style=\"background-color: #FFFEFE\"> が</span><span style=\"background-color: #FFFEFE\"> ただちに</span><span style=\"background-color: #FFFEFE\"> 否定</span><span style=\"background-color: #FFFEFE\"> さ</span><span style=\"background-color: #FFFEFE\"> れ</span><span style=\"background-color: #FFFEFE\"> た</span><span style=\"background-color: #FFFEFE\"> わけ</span><span style=\"background-color: #FFFEFE\"> で</span><span style=\"background-color: #FFFEFE\"> は</span><span style=\"background-color: #FFFEFE\"> ない</span><span style=\"background-color: #FFFEFE\"> 。</span><span style=\"background-color: #FFFEFE\"> しかし</span><span style=\"background-color: #FFFEFE\"> 、</span><span style=\"background-color: #FFFEFE\"> 石井</span><span style=\"background-color: #FFFEFE\"> から</span><span style=\"background-color: #FFFEFE\"> 近</span><span style=\"background-color: #FFFEFE\"> ##しい</span><span style=\"background-color: #FFFEFE\"> と</span><span style=\"background-color: #FFFEFE\"> 思わ</span><span style=\"background-color: #FFFEFE\"> れる</span><span style=\"background-color: #FFFEFE\"> 人間</span><span style=\"background-color: #FFFEFE\"> から</span><span style=\"background-color: #FFFEFE\"> の</span><span style=\"background-color: #FFFEFE\"> 情報</span><span style=\"background-color: #FFFEFE\"> で</span><span style=\"background-color: #FFFEFE\"> あり</span><span style=\"background-color: #FFFEFE\"> 、</span><span style=\"background-color: #FFFEFE\"> 信</span><span style=\"background-color: #FFFEFE\"> ##ぴ</span><span style=\"background-color: #FFFEFE\"> ##ょう</span><span style=\"background-color: #FFFEFE\"> 性</span><span style=\"background-color: #FFFEFE\"> は</span><span style=\"background-color: #FFEAEA\"> 高い</span><span style=\"background-color: #FFFEFE\"> と</span><span style=\"background-color: #FFFDFD\"> いえる</span><span style=\"background-color: #FFFEFE\"> だろ</span><span style=\"background-color: #FFFEFE\"> う</span><span style=\"background-color: #FFFEFE\"> 。</span><span style=\"background-color: #FFFEFE\"> この</span><span style=\"background-color: #FFFEFE\"> 件</span><span style=\"background-color: #FFFEFE\"> について</span><span style=\"background-color: #FFFEFE\"> 、</span><span style=\"background-color: #FFFEFE\"> 格闘技</span><span style=\"background-color: #FFFEFE\"> ファン</span><span style=\"background-color: #FFFEFE\"> から</span><span style=\"background-color: #FFFDFD\"> は</span><span style=\"background-color: #FFFEFE\"> 「</span><span style=\"background-color: #FFFEFE\"> 良かっ</span><span style=\"background-color: #FFFEFE\"> た</span><span style=\"background-color: #FFFEFE\"> 、</span><span style=\"background-color: #FFFEFE\"> 引退</span><span style=\"background-color: #FFFEFE\"> する</span><span style=\"background-color: #FFFEFE\"> 石井</span><span style=\"background-color: #FFFEFE\"> は</span><span style=\"background-color: #FFFEFE\"> 居</span><span style=\"background-color: #FFFEFE\"> なかっ</span><span style=\"background-color: #FFFEFE\"> た</span><span style=\"background-color: #FFFEFE\"> ん</span><span style=\"background-color: #FFFEFE\"> だ</span><span style=\"background-color: #FFFEFE\"> ...」</span><span style=\"background-color: #FFFEFE\"> ##「</span><span style=\"background-color: #FFFEFE\"> とり</span><span style=\"background-color: #FFFEFE\"> ##あ</span><span style=\"background-color: #FFFEFE\"> ##えず</span><span style=\"background-color: #FFFEFE\"> よかっ</span><span style=\"background-color: #FFFEFE\"> た</span><span style=\"background-color: #FFFEFE\"> 」</span><span style=\"background-color: #FFFDFD\"> といった</span><span style=\"background-color: #FFFEFE\"> 安堵</span><span style=\"background-color: #FFFEFE\"> の</span><span style=\"background-color: #FFFEFE\"> コメント</span><span style=\"background-color: #FFF6F6\"> が</span><span style=\"background-color: #FF0000\"> 並ん</span><span style=\"background-color: #FFA3A3\"> で</span><span style=\"background-color: #FF7474\"> いる</span><span style=\"background-color: #FFFEFE\"> 。</span><br><br>[BERTのAttentionを可視化_ALL]<br><span style=\"background-color: #FFFEFE\"> [CLS]</span><span style=\"background-color: #FFFEFE\"> ヒ</span><span style=\"background-color: #FFFEFE\"> ##ョー</span><span style=\"background-color: #FFFEFE\"> ##ドル</span><span style=\"background-color: #FFF2F2\"> 戦</span><span style=\"background-color: #FFFEFE\"> で</span><span style=\"background-color: #FFFEFE\"> KO</span><span style=\"background-color: #FFFEFE\"> さ</span><span style=\"background-color: #FFFEFE\"> れ</span><span style=\"background-color: #FFFEFE\"> 病院</span><span style=\"background-color: #FFFEFE\"> に</span><span style=\"background-color: #FFFEFE\"> 直行</span><span style=\"background-color: #FFFEFE\"> し</span><span style=\"background-color: #FFFEFE\"> た</span><span style=\"background-color: #FFF0F0\"> 石井</span><span style=\"background-color: #FFFDFD\"> 慧</span><span style=\"background-color: #FF3E3E\"> について</span><span style=\"background-color: #FFF4F4\"> 、</span><span style=\"background-color: #FFFDFD\"> 30</span><span style=\"background-color: #FFFEFE\"> 日</span><span style=\"background-color: #FFFEFE\"> に</span><span style=\"background-color: #FFFCFC\"> 脳</span><span style=\"background-color: #FFFEFE\"> 障害</span><span style=\"background-color: #FFFEFE\"> により</span><span style=\"background-color: #FFFDFD\"> 引退</span><span style=\"background-color: #FFFEFE\"> 危機</span><span style=\"background-color: #FFFBFB\"> という</span><span style=\"background-color: #FFE9E9\"> 報道</span><span style=\"background-color: #FFFAFA\"> が</span><span style=\"background-color: #FFEAEA\"> 行なわ</span><span style=\"background-color: #FFACAC\"> れ</span><span style=\"background-color: #FF8B8B\"> た</span><span style=\"background-color: #FFFEFE\"> 。</span><span style=\"background-color: #FF4242\"> 記事</span><span style=\"background-color: #FFFBFB\"> に</span><span style=\"background-color: #FFE7E7\"> は</span><span style=\"background-color: #FFFEFE\"> 「</span><span style=\"background-color: #FFFDFD\"> 一説</span><span style=\"background-color: #FFFCFC\"> に</span><span style=\"background-color: #FFFEFE\"> は</span><span style=\"background-color: #FFFEFE\"> 『</span><span style=\"background-color: #FFFEFE\"> 脳</span><span style=\"background-color: #FFFEFE\"> 浮</span><span style=\"background-color: #FFFEFE\"> ##腫</span><span style=\"background-color: #FFFEFE\"> 』</span><span style=\"background-color: #FFFEFE\"> と</span><span style=\"background-color: #FFFEFE\"> も</span><span style=\"background-color: #FFFDFD\"> 言わ</span><span style=\"background-color: #FFFDFD\"> れ</span><span style=\"background-color: #FFFEFE\"> て</span><span style=\"background-color: #FFFBFB\"> い</span><span style=\"background-color: #FFE6E6\"> ます</span><span style=\"background-color: #FFE6E6\"> 」</span><span style=\"background-color: #FFFEFE\"> (</span><span style=\"background-color: #FFA3A3\"> 格闘技</span><span style=\"background-color: #FFFDFD\"> 事情</span><span style=\"background-color: #FFFCFC\"> 通</span><span style=\"background-color: #FFFCFC\"> )</span><span style=\"background-color: #FFF2F2\"> と</span><span style=\"background-color: #FFB1B1\"> あり</span><span style=\"background-color: #FFFBFB\"> 、</span><span style=\"background-color: #FFE4E4\"> 石井</span><span style=\"background-color: #FFFEFE\"> の</span><span style=\"background-color: #FFFEFE\"> 容</span><span style=\"background-color: #FFFDFD\"> ##態</span><span style=\"background-color: #FFFEFE\"> は</span><span style=\"background-color: #FFFEFE\"> 深刻</span><span style=\"background-color: #FFFEFE\"> な</span><span style=\"background-color: #FFFDFD\"> もの</span><span style=\"background-color: #FFF9F9\"> と</span><span style=\"background-color: #FFF2F2\"> 思わ</span><span style=\"background-color: #FFB9B9\"> れ</span><span style=\"background-color: #FF8585\"> た</span><span style=\"background-color: #FFFEFE\"> 。</span><span style=\"background-color: #FFC6C6\"> しかし</span><span style=\"background-color: #FFFBFB\"> 、</span><span style=\"background-color: #FFF9F9\"> この</span><span style=\"background-color: #FFF8F8\"> 件</span><span style=\"background-color: #FFF7F7\"> について</span><span style=\"background-color: #FFFEFE\"> 元</span><span style=\"background-color: #FFFEFE\"> DEEP</span><span style=\"background-color: #FFC8C8\"> ミドル</span><span style=\"background-color: #FFF5F5\"> 級</span><span style=\"background-color: #FFFAFA\"> 王者</span><span style=\"background-color: #FFFEFE\"> で</span><span style=\"background-color: #FFFDFD\"> ある</span><span style=\"background-color: #FFFDFD\"> 長</span><span style=\"background-color: #FFFEFE\"> ##南</span><span style=\"background-color: #FFFEFE\"> 亮</span><span style=\"background-color: #FFFEFE\"> (</span><span style=\"background-color: #FFFEFE\"> ちょう</span><span style=\"background-color: #FFFEFE\"> なん</span><span style=\"background-color: #FFFEFE\"> ・</span><span style=\"background-color: #FFFEFE\"> りょう</span><span style=\"background-color: #FFFEFE\"> )</span><span style=\"background-color: #FFE5E5\"> は</span><span style=\"background-color: #FFF5F5\"> 真っ</span><span style=\"background-color: #FFFEFE\"> ##向</span><span style=\"background-color: #FFFEFE\"> から</span><span style=\"background-color: #FFF2F2\"> 否定</span><span style=\"background-color: #FFE4E4\"> 。</span><span style=\"background-color: #FFF3F3\"> 自身</span><span style=\"background-color: #FFFEFE\"> の</span><span style=\"background-color: #FFF8F8\"> ツイッター</span><span style=\"background-color: #FFEEEE\"> にて</span><span style=\"background-color: #FFFEFE\"> 「</span><span style=\"background-color: #FFE8E8\"> 石井</span><span style=\"background-color: #FFFDFD\"> 慧</span><span style=\"background-color: #FFFEFE\"> の</span><span style=\"background-color: #FFFEFE\"> 体調</span><span style=\"background-color: #FFFEFE\"> は</span><span style=\"background-color: #FFFDFD\"> 良好</span><span style=\"background-color: #FFFEFE\"> だ</span><span style=\"background-color: #FFFAFA\"> そう</span><span style=\"background-color: #FFF8F8\"> です</span><span style=\"background-color: #FFFDFD\"> 。</span><span style=\"background-color: #FFFBFB\"> 」</span><span style=\"background-color: #FFFCFC\"> と</span><span style=\"background-color: #FFFAFA\"> コメント</span><span style=\"background-color: #FFC0C0\"> 、</span><span style=\"background-color: #FFF2F2\"> さらに</span><span style=\"background-color: #FFFEFE\"> 「</span><span style=\"background-color: #FFFEFE\"> 人</span><span style=\"background-color: #FFFEFE\"> の</span><span style=\"background-color: #FFFEFE\"> 人生</span><span style=\"background-color: #FFFEFE\"> や</span><span style=\"background-color: #FFFEFE\"> 生命</span><span style=\"background-color: #FFFEFE\"> に</span><span style=\"background-color: #FFFEFE\"> 関わる</span><span style=\"background-color: #FFFEFE\"> こと</span><span style=\"background-color: #FFFEFE\"> を</span><span style=\"background-color: #FFFEFE\"> 平</span><span style=\"background-color: #FFFEFE\"> ##気</span><span style=\"background-color: #FFFEFE\"> で</span><span style=\"background-color: #FFFEFE\"> ガ</span><span style=\"background-color: #FFFEFE\"> ##セ</span><span style=\"background-color: #FFFEFE\"> 流す</span><span style=\"background-color: #FFFEFE\"> 奴</span><span style=\"background-color: #FFFEFE\"> は</span><span style=\"background-color: #FFFEFE\"> 死ん</span><span style=\"background-color: #FFFEFE\"> だ</span><span style=\"background-color: #FFFEFE\"> ほう</span><span style=\"background-color: #FFFEFE\"> が</span><span style=\"background-color: #FFFEFE\"> 世</span><span style=\"background-color: #FFFEFE\"> の</span><span style=\"background-color: #FFFEFE\"> 為</span><span style=\"background-color: #FFFCFC\"> 。</span><span style=\"background-color: #FFEAEA\"> 」</span><span style=\"background-color: #FFFCFC\"> と</span><span style=\"background-color: #FFFBFB\"> 怒り</span><span style=\"background-color: #FFFEFE\"> の</span><span style=\"background-color: #FFFAFA\"> ツイート</span><span style=\"background-color: #FFFAFA\"> を</span><span style=\"background-color: #FFB0B0\"> し</span><span style=\"background-color: #FFDADA\"> て</span><span style=\"background-color: #FF0000\"> いる</span><span style=\"background-color: #FFFEFE\"> 。</span><span style=\"background-color: #FFD2D2\"> これ</span><span style=\"background-color: #FFE3E3\"> を</span><span style=\"background-color: #FFE6E6\"> もっ</span><span style=\"background-color: #FFFBFB\"> て</span><span style=\"background-color: #FFFCFC\"> 、</span><span style=\"background-color: #FFD9D9\"> 石井</span><span style=\"background-color: #FFFEFE\"> の</span><span style=\"background-color: #FFFEFE\"> 体調</span><span style=\"background-color: #FFFDFD\"> 不良</span><span style=\"background-color: #FFFBFB\"> が</span><span style=\"background-color: #FFFEFE\"> ただちに</span><span style=\"background-color: #FFFCFC\"> 否定</span><span style=\"background-color: #FFFAFA\"> さ</span><span style=\"background-color: #FFF9F9\"> れ</span><span style=\"background-color: #FFF5F5\"> た</span><span style=\"background-color: #FFF7F7\"> わけ</span><span style=\"background-color: #FFF6F6\"> で</span><span style=\"background-color: #FFFCFC\"> は</span><span style=\"background-color: #FF9292\"> ない</span><span style=\"background-color: #FFFEFE\"> 。</span><span style=\"background-color: #FFC7C7\"> しかし</span><span style=\"background-color: #FFFDFD\"> 、</span><span style=\"background-color: #FFE3E3\"> 石井</span><span style=\"background-color: #FFFEFE\"> から</span><span style=\"background-color: #FFFEFE\"> 近</span><span style=\"background-color: #FFFEFE\"> ##しい</span><span style=\"background-color: #FFFEFE\"> と</span><span style=\"background-color: #FFFEFE\"> 思わ</span><span style=\"background-color: #FFFEFE\"> れる</span><span style=\"background-color: #FFFDFD\"> 人間</span><span style=\"background-color: #FFFEFE\"> から</span><span style=\"background-color: #FFFEFE\"> の</span><span style=\"background-color: #FFFCFC\"> 情報</span><span style=\"background-color: #FFFAFA\"> で</span><span style=\"background-color: #FFF2F2\"> あり</span><span style=\"background-color: #FFFDFD\"> 、</span><span style=\"background-color: #FFFEFE\"> 信</span><span style=\"background-color: #FFFEFE\"> ##ぴ</span><span style=\"background-color: #FFFEFE\"> ##ょう</span><span style=\"background-color: #FFFBFB\"> 性</span><span style=\"background-color: #FFFEFE\"> は</span><span style=\"background-color: #FFE7E7\"> 高い</span><span style=\"background-color: #FFFDFD\"> と</span><span style=\"background-color: #FFF0F0\"> いえる</span><span style=\"background-color: #FF8888\"> だろ</span><span style=\"background-color: #FFDFDF\"> う</span><span style=\"background-color: #FFFEFE\"> 。</span><span style=\"background-color: #FFE8E8\"> この</span><span style=\"background-color: #FFF2F2\"> 件</span><span style=\"background-color: #FFD7D7\"> について</span><span style=\"background-color: #FFFCFC\"> 、</span><span style=\"background-color: #FF4B4B\"> 格闘技</span><span style=\"background-color: #FFFDFD\"> ファン</span><span style=\"background-color: #FF9C9C\"> から</span><span style=\"background-color: #FFB9B9\"> は</span><span style=\"background-color: #FFFEFE\"> 「</span><span style=\"background-color: #FFFDFD\"> 良かっ</span><span style=\"background-color: #FFFCFC\"> た</span><span style=\"background-color: #FFFEFE\"> 、</span><span style=\"background-color: #FFFCFC\"> 引退</span><span style=\"background-color: #FFFEFE\"> する</span><span style=\"background-color: #FFEAEA\"> 石井</span><span style=\"background-color: #FFFEFE\"> は</span><span style=\"background-color: #FFFEFE\"> 居</span><span style=\"background-color: #FFFEFE\"> なかっ</span><span style=\"background-color: #FFFEFE\"> た</span><span style=\"background-color: #FFFDFD\"> ん</span><span style=\"background-color: #FFFCFC\"> だ</span><span style=\"background-color: #FFFAFA\"> ...」</span><span style=\"background-color: #FFFEFE\"> ##「</span><span style=\"background-color: #FFFEFE\"> とり</span><span style=\"background-color: #FFFEFE\"> ##あ</span><span style=\"background-color: #FFFEFE\"> ##えず</span><span style=\"background-color: #FFFEFE\"> よかっ</span><span style=\"background-color: #FFFCFC\"> た</span><span style=\"background-color: #FFFDFD\"> 」</span><span style=\"background-color: #FFF9F9\"> といった</span><span style=\"background-color: #FFFDFD\"> 安堵</span><span style=\"background-color: #FFFEFE\"> の</span><span style=\"background-color: #FFF8F8\"> コメント</span><span style=\"background-color: #FFF4F4\"> が</span><span style=\"background-color: #FF6262\"> 並ん</span><span style=\"background-color: #FFB1B1\"> で</span><span style=\"background-color: #FF2626\"> いる</span><span style=\"background-color: #FFFEFE\"> 。</span><br><br>"
            ]
          },
          "metadata": {},
          "execution_count": 78
        }
      ]
    },
    {
      "cell_type": "code",
      "source": [],
      "metadata": {
        "id": "RZbw3QXQpMrG"
      },
      "execution_count": null,
      "outputs": []
    }
  ]
}