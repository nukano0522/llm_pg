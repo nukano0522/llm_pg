{
  "nbformat": 4,
  "nbformat_minor": 0,
  "metadata": {
    "colab": {
      "name": "bert_livedoor.ipynb",
      "provenance": [],
      "collapsed_sections": [],
      "machine_shape": "hm",
      "mount_file_id": "https://github.com/nukano0522/pytorch/blob/bert_livedoor/bert_livedoor_and_attention.ipynb",
      "authorship_tag": "ABX9TyMNlrL+5maOyLiBw7qZdplL"
    },
    "kernelspec": {
      "name": "python3",
      "display_name": "Python 3"
    },
    "language_info": {
      "name": "python"
    },
    "accelerator": "GPU",
    "gpuClass": "standard",
    "widgets": {
      "application/vnd.jupyter.widget-state+json": {
        "fe54eef1899c4b5f9f3b7efe3d257651": {
          "model_module": "@jupyter-widgets/controls",
          "model_name": "HBoxModel",
          "model_module_version": "1.5.0",
          "state": {
            "_dom_classes": [],
            "_model_module": "@jupyter-widgets/controls",
            "_model_module_version": "1.5.0",
            "_model_name": "HBoxModel",
            "_view_count": null,
            "_view_module": "@jupyter-widgets/controls",
            "_view_module_version": "1.5.0",
            "_view_name": "HBoxView",
            "box_style": "",
            "children": [
              "IPY_MODEL_773e8a4879854b858da08d8260906a17",
              "IPY_MODEL_e119712c649e4d0a8fd31257db170b6e",
              "IPY_MODEL_9a89a6151d5a4e56a35f5e0a81f36f4a"
            ],
            "layout": "IPY_MODEL_35d2c32d8acc48299dff2c7cc6538cb9"
          }
        },
        "773e8a4879854b858da08d8260906a17": {
          "model_module": "@jupyter-widgets/controls",
          "model_name": "HTMLModel",
          "model_module_version": "1.5.0",
          "state": {
            "_dom_classes": [],
            "_model_module": "@jupyter-widgets/controls",
            "_model_module_version": "1.5.0",
            "_model_name": "HTMLModel",
            "_view_count": null,
            "_view_module": "@jupyter-widgets/controls",
            "_view_module_version": "1.5.0",
            "_view_name": "HTMLView",
            "description": "",
            "description_tooltip": null,
            "layout": "IPY_MODEL_0bdb857f4e9e48a490eefcd6b43730ac",
            "placeholder": "​",
            "style": "IPY_MODEL_2d9e6dbd918a470f8111f1d72fca3760",
            "value": "Downloading: 100%"
          }
        },
        "e119712c649e4d0a8fd31257db170b6e": {
          "model_module": "@jupyter-widgets/controls",
          "model_name": "FloatProgressModel",
          "model_module_version": "1.5.0",
          "state": {
            "_dom_classes": [],
            "_model_module": "@jupyter-widgets/controls",
            "_model_module_version": "1.5.0",
            "_model_name": "FloatProgressModel",
            "_view_count": null,
            "_view_module": "@jupyter-widgets/controls",
            "_view_module_version": "1.5.0",
            "_view_name": "ProgressView",
            "bar_style": "success",
            "description": "",
            "description_tooltip": null,
            "layout": "IPY_MODEL_8516bc9255fd49aab2b35d8b1bdeb802",
            "max": 257706,
            "min": 0,
            "orientation": "horizontal",
            "style": "IPY_MODEL_4b3a32f2451a4de491c439a3fff7dc0a",
            "value": 257706
          }
        },
        "9a89a6151d5a4e56a35f5e0a81f36f4a": {
          "model_module": "@jupyter-widgets/controls",
          "model_name": "HTMLModel",
          "model_module_version": "1.5.0",
          "state": {
            "_dom_classes": [],
            "_model_module": "@jupyter-widgets/controls",
            "_model_module_version": "1.5.0",
            "_model_name": "HTMLModel",
            "_view_count": null,
            "_view_module": "@jupyter-widgets/controls",
            "_view_module_version": "1.5.0",
            "_view_name": "HTMLView",
            "description": "",
            "description_tooltip": null,
            "layout": "IPY_MODEL_9dbebd3d55574eed9a47419f345e8c8a",
            "placeholder": "​",
            "style": "IPY_MODEL_ae74a6b96e0845bc95f10edb6ba62d7b",
            "value": " 258k/258k [00:00&lt;00:00, 600kB/s]"
          }
        },
        "35d2c32d8acc48299dff2c7cc6538cb9": {
          "model_module": "@jupyter-widgets/base",
          "model_name": "LayoutModel",
          "model_module_version": "1.2.0",
          "state": {
            "_model_module": "@jupyter-widgets/base",
            "_model_module_version": "1.2.0",
            "_model_name": "LayoutModel",
            "_view_count": null,
            "_view_module": "@jupyter-widgets/base",
            "_view_module_version": "1.2.0",
            "_view_name": "LayoutView",
            "align_content": null,
            "align_items": null,
            "align_self": null,
            "border": null,
            "bottom": null,
            "display": null,
            "flex": null,
            "flex_flow": null,
            "grid_area": null,
            "grid_auto_columns": null,
            "grid_auto_flow": null,
            "grid_auto_rows": null,
            "grid_column": null,
            "grid_gap": null,
            "grid_row": null,
            "grid_template_areas": null,
            "grid_template_columns": null,
            "grid_template_rows": null,
            "height": null,
            "justify_content": null,
            "justify_items": null,
            "left": null,
            "margin": null,
            "max_height": null,
            "max_width": null,
            "min_height": null,
            "min_width": null,
            "object_fit": null,
            "object_position": null,
            "order": null,
            "overflow": null,
            "overflow_x": null,
            "overflow_y": null,
            "padding": null,
            "right": null,
            "top": null,
            "visibility": null,
            "width": null
          }
        },
        "0bdb857f4e9e48a490eefcd6b43730ac": {
          "model_module": "@jupyter-widgets/base",
          "model_name": "LayoutModel",
          "model_module_version": "1.2.0",
          "state": {
            "_model_module": "@jupyter-widgets/base",
            "_model_module_version": "1.2.0",
            "_model_name": "LayoutModel",
            "_view_count": null,
            "_view_module": "@jupyter-widgets/base",
            "_view_module_version": "1.2.0",
            "_view_name": "LayoutView",
            "align_content": null,
            "align_items": null,
            "align_self": null,
            "border": null,
            "bottom": null,
            "display": null,
            "flex": null,
            "flex_flow": null,
            "grid_area": null,
            "grid_auto_columns": null,
            "grid_auto_flow": null,
            "grid_auto_rows": null,
            "grid_column": null,
            "grid_gap": null,
            "grid_row": null,
            "grid_template_areas": null,
            "grid_template_columns": null,
            "grid_template_rows": null,
            "height": null,
            "justify_content": null,
            "justify_items": null,
            "left": null,
            "margin": null,
            "max_height": null,
            "max_width": null,
            "min_height": null,
            "min_width": null,
            "object_fit": null,
            "object_position": null,
            "order": null,
            "overflow": null,
            "overflow_x": null,
            "overflow_y": null,
            "padding": null,
            "right": null,
            "top": null,
            "visibility": null,
            "width": null
          }
        },
        "2d9e6dbd918a470f8111f1d72fca3760": {
          "model_module": "@jupyter-widgets/controls",
          "model_name": "DescriptionStyleModel",
          "model_module_version": "1.5.0",
          "state": {
            "_model_module": "@jupyter-widgets/controls",
            "_model_module_version": "1.5.0",
            "_model_name": "DescriptionStyleModel",
            "_view_count": null,
            "_view_module": "@jupyter-widgets/base",
            "_view_module_version": "1.2.0",
            "_view_name": "StyleView",
            "description_width": ""
          }
        },
        "8516bc9255fd49aab2b35d8b1bdeb802": {
          "model_module": "@jupyter-widgets/base",
          "model_name": "LayoutModel",
          "model_module_version": "1.2.0",
          "state": {
            "_model_module": "@jupyter-widgets/base",
            "_model_module_version": "1.2.0",
            "_model_name": "LayoutModel",
            "_view_count": null,
            "_view_module": "@jupyter-widgets/base",
            "_view_module_version": "1.2.0",
            "_view_name": "LayoutView",
            "align_content": null,
            "align_items": null,
            "align_self": null,
            "border": null,
            "bottom": null,
            "display": null,
            "flex": null,
            "flex_flow": null,
            "grid_area": null,
            "grid_auto_columns": null,
            "grid_auto_flow": null,
            "grid_auto_rows": null,
            "grid_column": null,
            "grid_gap": null,
            "grid_row": null,
            "grid_template_areas": null,
            "grid_template_columns": null,
            "grid_template_rows": null,
            "height": null,
            "justify_content": null,
            "justify_items": null,
            "left": null,
            "margin": null,
            "max_height": null,
            "max_width": null,
            "min_height": null,
            "min_width": null,
            "object_fit": null,
            "object_position": null,
            "order": null,
            "overflow": null,
            "overflow_x": null,
            "overflow_y": null,
            "padding": null,
            "right": null,
            "top": null,
            "visibility": null,
            "width": null
          }
        },
        "4b3a32f2451a4de491c439a3fff7dc0a": {
          "model_module": "@jupyter-widgets/controls",
          "model_name": "ProgressStyleModel",
          "model_module_version": "1.5.0",
          "state": {
            "_model_module": "@jupyter-widgets/controls",
            "_model_module_version": "1.5.0",
            "_model_name": "ProgressStyleModel",
            "_view_count": null,
            "_view_module": "@jupyter-widgets/base",
            "_view_module_version": "1.2.0",
            "_view_name": "StyleView",
            "bar_color": null,
            "description_width": ""
          }
        },
        "9dbebd3d55574eed9a47419f345e8c8a": {
          "model_module": "@jupyter-widgets/base",
          "model_name": "LayoutModel",
          "model_module_version": "1.2.0",
          "state": {
            "_model_module": "@jupyter-widgets/base",
            "_model_module_version": "1.2.0",
            "_model_name": "LayoutModel",
            "_view_count": null,
            "_view_module": "@jupyter-widgets/base",
            "_view_module_version": "1.2.0",
            "_view_name": "LayoutView",
            "align_content": null,
            "align_items": null,
            "align_self": null,
            "border": null,
            "bottom": null,
            "display": null,
            "flex": null,
            "flex_flow": null,
            "grid_area": null,
            "grid_auto_columns": null,
            "grid_auto_flow": null,
            "grid_auto_rows": null,
            "grid_column": null,
            "grid_gap": null,
            "grid_row": null,
            "grid_template_areas": null,
            "grid_template_columns": null,
            "grid_template_rows": null,
            "height": null,
            "justify_content": null,
            "justify_items": null,
            "left": null,
            "margin": null,
            "max_height": null,
            "max_width": null,
            "min_height": null,
            "min_width": null,
            "object_fit": null,
            "object_position": null,
            "order": null,
            "overflow": null,
            "overflow_x": null,
            "overflow_y": null,
            "padding": null,
            "right": null,
            "top": null,
            "visibility": null,
            "width": null
          }
        },
        "ae74a6b96e0845bc95f10edb6ba62d7b": {
          "model_module": "@jupyter-widgets/controls",
          "model_name": "DescriptionStyleModel",
          "model_module_version": "1.5.0",
          "state": {
            "_model_module": "@jupyter-widgets/controls",
            "_model_module_version": "1.5.0",
            "_model_name": "DescriptionStyleModel",
            "_view_count": null,
            "_view_module": "@jupyter-widgets/base",
            "_view_module_version": "1.2.0",
            "_view_name": "StyleView",
            "description_width": ""
          }
        },
        "29b526f85aa04c66b92ea6bf7249fff1": {
          "model_module": "@jupyter-widgets/controls",
          "model_name": "HBoxModel",
          "model_module_version": "1.5.0",
          "state": {
            "_dom_classes": [],
            "_model_module": "@jupyter-widgets/controls",
            "_model_module_version": "1.5.0",
            "_model_name": "HBoxModel",
            "_view_count": null,
            "_view_module": "@jupyter-widgets/controls",
            "_view_module_version": "1.5.0",
            "_view_name": "HBoxView",
            "box_style": "",
            "children": [
              "IPY_MODEL_2cbe29c6712141a591822209383d90ba",
              "IPY_MODEL_bbccc827aeb74a1aa5c1aa11669c327c",
              "IPY_MODEL_c6b8196f4209472fb4058ed4b5494f07"
            ],
            "layout": "IPY_MODEL_22f518d5731741d980da4c27c305e94b"
          }
        },
        "2cbe29c6712141a591822209383d90ba": {
          "model_module": "@jupyter-widgets/controls",
          "model_name": "HTMLModel",
          "model_module_version": "1.5.0",
          "state": {
            "_dom_classes": [],
            "_model_module": "@jupyter-widgets/controls",
            "_model_module_version": "1.5.0",
            "_model_name": "HTMLModel",
            "_view_count": null,
            "_view_module": "@jupyter-widgets/controls",
            "_view_module_version": "1.5.0",
            "_view_name": "HTMLView",
            "description": "",
            "description_tooltip": null,
            "layout": "IPY_MODEL_2322ebaedab44598a474d18ca09c8b8b",
            "placeholder": "​",
            "style": "IPY_MODEL_f7e25fdc410249c6a51281bfd91a379b",
            "value": "Downloading: 100%"
          }
        },
        "bbccc827aeb74a1aa5c1aa11669c327c": {
          "model_module": "@jupyter-widgets/controls",
          "model_name": "FloatProgressModel",
          "model_module_version": "1.5.0",
          "state": {
            "_dom_classes": [],
            "_model_module": "@jupyter-widgets/controls",
            "_model_module_version": "1.5.0",
            "_model_name": "FloatProgressModel",
            "_view_count": null,
            "_view_module": "@jupyter-widgets/controls",
            "_view_module_version": "1.5.0",
            "_view_name": "ProgressView",
            "bar_style": "success",
            "description": "",
            "description_tooltip": null,
            "layout": "IPY_MODEL_3fa55509ca4c4dcb913e1907a89a2977",
            "max": 110,
            "min": 0,
            "orientation": "horizontal",
            "style": "IPY_MODEL_827b04a7bd3748c2b2c155e2ca6d0f16",
            "value": 110
          }
        },
        "c6b8196f4209472fb4058ed4b5494f07": {
          "model_module": "@jupyter-widgets/controls",
          "model_name": "HTMLModel",
          "model_module_version": "1.5.0",
          "state": {
            "_dom_classes": [],
            "_model_module": "@jupyter-widgets/controls",
            "_model_module_version": "1.5.0",
            "_model_name": "HTMLModel",
            "_view_count": null,
            "_view_module": "@jupyter-widgets/controls",
            "_view_module_version": "1.5.0",
            "_view_name": "HTMLView",
            "description": "",
            "description_tooltip": null,
            "layout": "IPY_MODEL_4035d9978b5a4f5ea5dbc342b8307e1c",
            "placeholder": "​",
            "style": "IPY_MODEL_fa07ad9fd7ce47e2a12d4c6ce8454a19",
            "value": " 110/110 [00:00&lt;00:00, 3.11kB/s]"
          }
        },
        "22f518d5731741d980da4c27c305e94b": {
          "model_module": "@jupyter-widgets/base",
          "model_name": "LayoutModel",
          "model_module_version": "1.2.0",
          "state": {
            "_model_module": "@jupyter-widgets/base",
            "_model_module_version": "1.2.0",
            "_model_name": "LayoutModel",
            "_view_count": null,
            "_view_module": "@jupyter-widgets/base",
            "_view_module_version": "1.2.0",
            "_view_name": "LayoutView",
            "align_content": null,
            "align_items": null,
            "align_self": null,
            "border": null,
            "bottom": null,
            "display": null,
            "flex": null,
            "flex_flow": null,
            "grid_area": null,
            "grid_auto_columns": null,
            "grid_auto_flow": null,
            "grid_auto_rows": null,
            "grid_column": null,
            "grid_gap": null,
            "grid_row": null,
            "grid_template_areas": null,
            "grid_template_columns": null,
            "grid_template_rows": null,
            "height": null,
            "justify_content": null,
            "justify_items": null,
            "left": null,
            "margin": null,
            "max_height": null,
            "max_width": null,
            "min_height": null,
            "min_width": null,
            "object_fit": null,
            "object_position": null,
            "order": null,
            "overflow": null,
            "overflow_x": null,
            "overflow_y": null,
            "padding": null,
            "right": null,
            "top": null,
            "visibility": null,
            "width": null
          }
        },
        "2322ebaedab44598a474d18ca09c8b8b": {
          "model_module": "@jupyter-widgets/base",
          "model_name": "LayoutModel",
          "model_module_version": "1.2.0",
          "state": {
            "_model_module": "@jupyter-widgets/base",
            "_model_module_version": "1.2.0",
            "_model_name": "LayoutModel",
            "_view_count": null,
            "_view_module": "@jupyter-widgets/base",
            "_view_module_version": "1.2.0",
            "_view_name": "LayoutView",
            "align_content": null,
            "align_items": null,
            "align_self": null,
            "border": null,
            "bottom": null,
            "display": null,
            "flex": null,
            "flex_flow": null,
            "grid_area": null,
            "grid_auto_columns": null,
            "grid_auto_flow": null,
            "grid_auto_rows": null,
            "grid_column": null,
            "grid_gap": null,
            "grid_row": null,
            "grid_template_areas": null,
            "grid_template_columns": null,
            "grid_template_rows": null,
            "height": null,
            "justify_content": null,
            "justify_items": null,
            "left": null,
            "margin": null,
            "max_height": null,
            "max_width": null,
            "min_height": null,
            "min_width": null,
            "object_fit": null,
            "object_position": null,
            "order": null,
            "overflow": null,
            "overflow_x": null,
            "overflow_y": null,
            "padding": null,
            "right": null,
            "top": null,
            "visibility": null,
            "width": null
          }
        },
        "f7e25fdc410249c6a51281bfd91a379b": {
          "model_module": "@jupyter-widgets/controls",
          "model_name": "DescriptionStyleModel",
          "model_module_version": "1.5.0",
          "state": {
            "_model_module": "@jupyter-widgets/controls",
            "_model_module_version": "1.5.0",
            "_model_name": "DescriptionStyleModel",
            "_view_count": null,
            "_view_module": "@jupyter-widgets/base",
            "_view_module_version": "1.2.0",
            "_view_name": "StyleView",
            "description_width": ""
          }
        },
        "3fa55509ca4c4dcb913e1907a89a2977": {
          "model_module": "@jupyter-widgets/base",
          "model_name": "LayoutModel",
          "model_module_version": "1.2.0",
          "state": {
            "_model_module": "@jupyter-widgets/base",
            "_model_module_version": "1.2.0",
            "_model_name": "LayoutModel",
            "_view_count": null,
            "_view_module": "@jupyter-widgets/base",
            "_view_module_version": "1.2.0",
            "_view_name": "LayoutView",
            "align_content": null,
            "align_items": null,
            "align_self": null,
            "border": null,
            "bottom": null,
            "display": null,
            "flex": null,
            "flex_flow": null,
            "grid_area": null,
            "grid_auto_columns": null,
            "grid_auto_flow": null,
            "grid_auto_rows": null,
            "grid_column": null,
            "grid_gap": null,
            "grid_row": null,
            "grid_template_areas": null,
            "grid_template_columns": null,
            "grid_template_rows": null,
            "height": null,
            "justify_content": null,
            "justify_items": null,
            "left": null,
            "margin": null,
            "max_height": null,
            "max_width": null,
            "min_height": null,
            "min_width": null,
            "object_fit": null,
            "object_position": null,
            "order": null,
            "overflow": null,
            "overflow_x": null,
            "overflow_y": null,
            "padding": null,
            "right": null,
            "top": null,
            "visibility": null,
            "width": null
          }
        },
        "827b04a7bd3748c2b2c155e2ca6d0f16": {
          "model_module": "@jupyter-widgets/controls",
          "model_name": "ProgressStyleModel",
          "model_module_version": "1.5.0",
          "state": {
            "_model_module": "@jupyter-widgets/controls",
            "_model_module_version": "1.5.0",
            "_model_name": "ProgressStyleModel",
            "_view_count": null,
            "_view_module": "@jupyter-widgets/base",
            "_view_module_version": "1.2.0",
            "_view_name": "StyleView",
            "bar_color": null,
            "description_width": ""
          }
        },
        "4035d9978b5a4f5ea5dbc342b8307e1c": {
          "model_module": "@jupyter-widgets/base",
          "model_name": "LayoutModel",
          "model_module_version": "1.2.0",
          "state": {
            "_model_module": "@jupyter-widgets/base",
            "_model_module_version": "1.2.0",
            "_model_name": "LayoutModel",
            "_view_count": null,
            "_view_module": "@jupyter-widgets/base",
            "_view_module_version": "1.2.0",
            "_view_name": "LayoutView",
            "align_content": null,
            "align_items": null,
            "align_self": null,
            "border": null,
            "bottom": null,
            "display": null,
            "flex": null,
            "flex_flow": null,
            "grid_area": null,
            "grid_auto_columns": null,
            "grid_auto_flow": null,
            "grid_auto_rows": null,
            "grid_column": null,
            "grid_gap": null,
            "grid_row": null,
            "grid_template_areas": null,
            "grid_template_columns": null,
            "grid_template_rows": null,
            "height": null,
            "justify_content": null,
            "justify_items": null,
            "left": null,
            "margin": null,
            "max_height": null,
            "max_width": null,
            "min_height": null,
            "min_width": null,
            "object_fit": null,
            "object_position": null,
            "order": null,
            "overflow": null,
            "overflow_x": null,
            "overflow_y": null,
            "padding": null,
            "right": null,
            "top": null,
            "visibility": null,
            "width": null
          }
        },
        "fa07ad9fd7ce47e2a12d4c6ce8454a19": {
          "model_module": "@jupyter-widgets/controls",
          "model_name": "DescriptionStyleModel",
          "model_module_version": "1.5.0",
          "state": {
            "_model_module": "@jupyter-widgets/controls",
            "_model_module_version": "1.5.0",
            "_model_name": "DescriptionStyleModel",
            "_view_count": null,
            "_view_module": "@jupyter-widgets/base",
            "_view_module_version": "1.2.0",
            "_view_name": "StyleView",
            "description_width": ""
          }
        },
        "13439554befb4c8597559d08c24963b0": {
          "model_module": "@jupyter-widgets/controls",
          "model_name": "HBoxModel",
          "model_module_version": "1.5.0",
          "state": {
            "_dom_classes": [],
            "_model_module": "@jupyter-widgets/controls",
            "_model_module_version": "1.5.0",
            "_model_name": "HBoxModel",
            "_view_count": null,
            "_view_module": "@jupyter-widgets/controls",
            "_view_module_version": "1.5.0",
            "_view_name": "HBoxView",
            "box_style": "",
            "children": [
              "IPY_MODEL_507197cc593d4c9d8c6426cd76efd5c2",
              "IPY_MODEL_728b550c806344f28614178ee618818d",
              "IPY_MODEL_7db75d05a2684a4b91617f742f08100e"
            ],
            "layout": "IPY_MODEL_95617c4c3a47450e879a9f9c17ad0edf"
          }
        },
        "507197cc593d4c9d8c6426cd76efd5c2": {
          "model_module": "@jupyter-widgets/controls",
          "model_name": "HTMLModel",
          "model_module_version": "1.5.0",
          "state": {
            "_dom_classes": [],
            "_model_module": "@jupyter-widgets/controls",
            "_model_module_version": "1.5.0",
            "_model_name": "HTMLModel",
            "_view_count": null,
            "_view_module": "@jupyter-widgets/controls",
            "_view_module_version": "1.5.0",
            "_view_name": "HTMLView",
            "description": "",
            "description_tooltip": null,
            "layout": "IPY_MODEL_6a949ff39e914d10aa1140fb651c1fd8",
            "placeholder": "​",
            "style": "IPY_MODEL_d7e244f13fcc493caf516c328b02f6c6",
            "value": "Downloading: 100%"
          }
        },
        "728b550c806344f28614178ee618818d": {
          "model_module": "@jupyter-widgets/controls",
          "model_name": "FloatProgressModel",
          "model_module_version": "1.5.0",
          "state": {
            "_dom_classes": [],
            "_model_module": "@jupyter-widgets/controls",
            "_model_module_version": "1.5.0",
            "_model_name": "FloatProgressModel",
            "_view_count": null,
            "_view_module": "@jupyter-widgets/controls",
            "_view_module_version": "1.5.0",
            "_view_name": "ProgressView",
            "bar_style": "success",
            "description": "",
            "description_tooltip": null,
            "layout": "IPY_MODEL_e389308ee295409b8d127206ceaab67c",
            "max": 479,
            "min": 0,
            "orientation": "horizontal",
            "style": "IPY_MODEL_2450d18d2e1e4d89bb9b071293153c2d",
            "value": 479
          }
        },
        "7db75d05a2684a4b91617f742f08100e": {
          "model_module": "@jupyter-widgets/controls",
          "model_name": "HTMLModel",
          "model_module_version": "1.5.0",
          "state": {
            "_dom_classes": [],
            "_model_module": "@jupyter-widgets/controls",
            "_model_module_version": "1.5.0",
            "_model_name": "HTMLModel",
            "_view_count": null,
            "_view_module": "@jupyter-widgets/controls",
            "_view_module_version": "1.5.0",
            "_view_name": "HTMLView",
            "description": "",
            "description_tooltip": null,
            "layout": "IPY_MODEL_1652d97e03c54ed2b4e6da1a33d87efc",
            "placeholder": "​",
            "style": "IPY_MODEL_6d86032b77cb45258ce026e6095b97b9",
            "value": " 479/479 [00:00&lt;00:00, 16.3kB/s]"
          }
        },
        "95617c4c3a47450e879a9f9c17ad0edf": {
          "model_module": "@jupyter-widgets/base",
          "model_name": "LayoutModel",
          "model_module_version": "1.2.0",
          "state": {
            "_model_module": "@jupyter-widgets/base",
            "_model_module_version": "1.2.0",
            "_model_name": "LayoutModel",
            "_view_count": null,
            "_view_module": "@jupyter-widgets/base",
            "_view_module_version": "1.2.0",
            "_view_name": "LayoutView",
            "align_content": null,
            "align_items": null,
            "align_self": null,
            "border": null,
            "bottom": null,
            "display": null,
            "flex": null,
            "flex_flow": null,
            "grid_area": null,
            "grid_auto_columns": null,
            "grid_auto_flow": null,
            "grid_auto_rows": null,
            "grid_column": null,
            "grid_gap": null,
            "grid_row": null,
            "grid_template_areas": null,
            "grid_template_columns": null,
            "grid_template_rows": null,
            "height": null,
            "justify_content": null,
            "justify_items": null,
            "left": null,
            "margin": null,
            "max_height": null,
            "max_width": null,
            "min_height": null,
            "min_width": null,
            "object_fit": null,
            "object_position": null,
            "order": null,
            "overflow": null,
            "overflow_x": null,
            "overflow_y": null,
            "padding": null,
            "right": null,
            "top": null,
            "visibility": null,
            "width": null
          }
        },
        "6a949ff39e914d10aa1140fb651c1fd8": {
          "model_module": "@jupyter-widgets/base",
          "model_name": "LayoutModel",
          "model_module_version": "1.2.0",
          "state": {
            "_model_module": "@jupyter-widgets/base",
            "_model_module_version": "1.2.0",
            "_model_name": "LayoutModel",
            "_view_count": null,
            "_view_module": "@jupyter-widgets/base",
            "_view_module_version": "1.2.0",
            "_view_name": "LayoutView",
            "align_content": null,
            "align_items": null,
            "align_self": null,
            "border": null,
            "bottom": null,
            "display": null,
            "flex": null,
            "flex_flow": null,
            "grid_area": null,
            "grid_auto_columns": null,
            "grid_auto_flow": null,
            "grid_auto_rows": null,
            "grid_column": null,
            "grid_gap": null,
            "grid_row": null,
            "grid_template_areas": null,
            "grid_template_columns": null,
            "grid_template_rows": null,
            "height": null,
            "justify_content": null,
            "justify_items": null,
            "left": null,
            "margin": null,
            "max_height": null,
            "max_width": null,
            "min_height": null,
            "min_width": null,
            "object_fit": null,
            "object_position": null,
            "order": null,
            "overflow": null,
            "overflow_x": null,
            "overflow_y": null,
            "padding": null,
            "right": null,
            "top": null,
            "visibility": null,
            "width": null
          }
        },
        "d7e244f13fcc493caf516c328b02f6c6": {
          "model_module": "@jupyter-widgets/controls",
          "model_name": "DescriptionStyleModel",
          "model_module_version": "1.5.0",
          "state": {
            "_model_module": "@jupyter-widgets/controls",
            "_model_module_version": "1.5.0",
            "_model_name": "DescriptionStyleModel",
            "_view_count": null,
            "_view_module": "@jupyter-widgets/base",
            "_view_module_version": "1.2.0",
            "_view_name": "StyleView",
            "description_width": ""
          }
        },
        "e389308ee295409b8d127206ceaab67c": {
          "model_module": "@jupyter-widgets/base",
          "model_name": "LayoutModel",
          "model_module_version": "1.2.0",
          "state": {
            "_model_module": "@jupyter-widgets/base",
            "_model_module_version": "1.2.0",
            "_model_name": "LayoutModel",
            "_view_count": null,
            "_view_module": "@jupyter-widgets/base",
            "_view_module_version": "1.2.0",
            "_view_name": "LayoutView",
            "align_content": null,
            "align_items": null,
            "align_self": null,
            "border": null,
            "bottom": null,
            "display": null,
            "flex": null,
            "flex_flow": null,
            "grid_area": null,
            "grid_auto_columns": null,
            "grid_auto_flow": null,
            "grid_auto_rows": null,
            "grid_column": null,
            "grid_gap": null,
            "grid_row": null,
            "grid_template_areas": null,
            "grid_template_columns": null,
            "grid_template_rows": null,
            "height": null,
            "justify_content": null,
            "justify_items": null,
            "left": null,
            "margin": null,
            "max_height": null,
            "max_width": null,
            "min_height": null,
            "min_width": null,
            "object_fit": null,
            "object_position": null,
            "order": null,
            "overflow": null,
            "overflow_x": null,
            "overflow_y": null,
            "padding": null,
            "right": null,
            "top": null,
            "visibility": null,
            "width": null
          }
        },
        "2450d18d2e1e4d89bb9b071293153c2d": {
          "model_module": "@jupyter-widgets/controls",
          "model_name": "ProgressStyleModel",
          "model_module_version": "1.5.0",
          "state": {
            "_model_module": "@jupyter-widgets/controls",
            "_model_module_version": "1.5.0",
            "_model_name": "ProgressStyleModel",
            "_view_count": null,
            "_view_module": "@jupyter-widgets/base",
            "_view_module_version": "1.2.0",
            "_view_name": "StyleView",
            "bar_color": null,
            "description_width": ""
          }
        },
        "1652d97e03c54ed2b4e6da1a33d87efc": {
          "model_module": "@jupyter-widgets/base",
          "model_name": "LayoutModel",
          "model_module_version": "1.2.0",
          "state": {
            "_model_module": "@jupyter-widgets/base",
            "_model_module_version": "1.2.0",
            "_model_name": "LayoutModel",
            "_view_count": null,
            "_view_module": "@jupyter-widgets/base",
            "_view_module_version": "1.2.0",
            "_view_name": "LayoutView",
            "align_content": null,
            "align_items": null,
            "align_self": null,
            "border": null,
            "bottom": null,
            "display": null,
            "flex": null,
            "flex_flow": null,
            "grid_area": null,
            "grid_auto_columns": null,
            "grid_auto_flow": null,
            "grid_auto_rows": null,
            "grid_column": null,
            "grid_gap": null,
            "grid_row": null,
            "grid_template_areas": null,
            "grid_template_columns": null,
            "grid_template_rows": null,
            "height": null,
            "justify_content": null,
            "justify_items": null,
            "left": null,
            "margin": null,
            "max_height": null,
            "max_width": null,
            "min_height": null,
            "min_width": null,
            "object_fit": null,
            "object_position": null,
            "order": null,
            "overflow": null,
            "overflow_x": null,
            "overflow_y": null,
            "padding": null,
            "right": null,
            "top": null,
            "visibility": null,
            "width": null
          }
        },
        "6d86032b77cb45258ce026e6095b97b9": {
          "model_module": "@jupyter-widgets/controls",
          "model_name": "DescriptionStyleModel",
          "model_module_version": "1.5.0",
          "state": {
            "_model_module": "@jupyter-widgets/controls",
            "_model_module_version": "1.5.0",
            "_model_name": "DescriptionStyleModel",
            "_view_count": null,
            "_view_module": "@jupyter-widgets/base",
            "_view_module_version": "1.2.0",
            "_view_name": "StyleView",
            "description_width": ""
          }
        },
        "ff4ff6431c6044d0a5868e57bcf9c897": {
          "model_module": "@jupyter-widgets/controls",
          "model_name": "HBoxModel",
          "model_module_version": "1.5.0",
          "state": {
            "_dom_classes": [],
            "_model_module": "@jupyter-widgets/controls",
            "_model_module_version": "1.5.0",
            "_model_name": "HBoxModel",
            "_view_count": null,
            "_view_module": "@jupyter-widgets/controls",
            "_view_module_version": "1.5.0",
            "_view_name": "HBoxView",
            "box_style": "",
            "children": [
              "IPY_MODEL_325b9f4a1b464e6e980871c9be7f0a15",
              "IPY_MODEL_d194fa83a114419da08eb6087d72392f",
              "IPY_MODEL_241dd517c1164eb3b8b1aa593eca88ad"
            ],
            "layout": "IPY_MODEL_d867572ce4244e1baa57f710197385d1"
          }
        },
        "325b9f4a1b464e6e980871c9be7f0a15": {
          "model_module": "@jupyter-widgets/controls",
          "model_name": "HTMLModel",
          "model_module_version": "1.5.0",
          "state": {
            "_dom_classes": [],
            "_model_module": "@jupyter-widgets/controls",
            "_model_module_version": "1.5.0",
            "_model_name": "HTMLModel",
            "_view_count": null,
            "_view_module": "@jupyter-widgets/controls",
            "_view_module_version": "1.5.0",
            "_view_name": "HTMLView",
            "description": "",
            "description_tooltip": null,
            "layout": "IPY_MODEL_e97a6c434ed14b40b191e3e7ab0b2ea3",
            "placeholder": "​",
            "style": "IPY_MODEL_364555d9b431446199adf4e55319348e",
            "value": "Downloading: 100%"
          }
        },
        "d194fa83a114419da08eb6087d72392f": {
          "model_module": "@jupyter-widgets/controls",
          "model_name": "FloatProgressModel",
          "model_module_version": "1.5.0",
          "state": {
            "_dom_classes": [],
            "_model_module": "@jupyter-widgets/controls",
            "_model_module_version": "1.5.0",
            "_model_name": "FloatProgressModel",
            "_view_count": null,
            "_view_module": "@jupyter-widgets/controls",
            "_view_module_version": "1.5.0",
            "_view_name": "ProgressView",
            "bar_style": "success",
            "description": "",
            "description_tooltip": null,
            "layout": "IPY_MODEL_511faf8a504549a3aa7dde06a9b3c738",
            "max": 445021143,
            "min": 0,
            "orientation": "horizontal",
            "style": "IPY_MODEL_87267857261841da900deeee52b4b277",
            "value": 445021143
          }
        },
        "241dd517c1164eb3b8b1aa593eca88ad": {
          "model_module": "@jupyter-widgets/controls",
          "model_name": "HTMLModel",
          "model_module_version": "1.5.0",
          "state": {
            "_dom_classes": [],
            "_model_module": "@jupyter-widgets/controls",
            "_model_module_version": "1.5.0",
            "_model_name": "HTMLModel",
            "_view_count": null,
            "_view_module": "@jupyter-widgets/controls",
            "_view_module_version": "1.5.0",
            "_view_name": "HTMLView",
            "description": "",
            "description_tooltip": null,
            "layout": "IPY_MODEL_a534596d2ce74086918d58dd74b436d6",
            "placeholder": "​",
            "style": "IPY_MODEL_20f54a0f761a4084b7a9c62b08b787f8",
            "value": " 445M/445M [00:06&lt;00:00, 68.7MB/s]"
          }
        },
        "d867572ce4244e1baa57f710197385d1": {
          "model_module": "@jupyter-widgets/base",
          "model_name": "LayoutModel",
          "model_module_version": "1.2.0",
          "state": {
            "_model_module": "@jupyter-widgets/base",
            "_model_module_version": "1.2.0",
            "_model_name": "LayoutModel",
            "_view_count": null,
            "_view_module": "@jupyter-widgets/base",
            "_view_module_version": "1.2.0",
            "_view_name": "LayoutView",
            "align_content": null,
            "align_items": null,
            "align_self": null,
            "border": null,
            "bottom": null,
            "display": null,
            "flex": null,
            "flex_flow": null,
            "grid_area": null,
            "grid_auto_columns": null,
            "grid_auto_flow": null,
            "grid_auto_rows": null,
            "grid_column": null,
            "grid_gap": null,
            "grid_row": null,
            "grid_template_areas": null,
            "grid_template_columns": null,
            "grid_template_rows": null,
            "height": null,
            "justify_content": null,
            "justify_items": null,
            "left": null,
            "margin": null,
            "max_height": null,
            "max_width": null,
            "min_height": null,
            "min_width": null,
            "object_fit": null,
            "object_position": null,
            "order": null,
            "overflow": null,
            "overflow_x": null,
            "overflow_y": null,
            "padding": null,
            "right": null,
            "top": null,
            "visibility": null,
            "width": null
          }
        },
        "e97a6c434ed14b40b191e3e7ab0b2ea3": {
          "model_module": "@jupyter-widgets/base",
          "model_name": "LayoutModel",
          "model_module_version": "1.2.0",
          "state": {
            "_model_module": "@jupyter-widgets/base",
            "_model_module_version": "1.2.0",
            "_model_name": "LayoutModel",
            "_view_count": null,
            "_view_module": "@jupyter-widgets/base",
            "_view_module_version": "1.2.0",
            "_view_name": "LayoutView",
            "align_content": null,
            "align_items": null,
            "align_self": null,
            "border": null,
            "bottom": null,
            "display": null,
            "flex": null,
            "flex_flow": null,
            "grid_area": null,
            "grid_auto_columns": null,
            "grid_auto_flow": null,
            "grid_auto_rows": null,
            "grid_column": null,
            "grid_gap": null,
            "grid_row": null,
            "grid_template_areas": null,
            "grid_template_columns": null,
            "grid_template_rows": null,
            "height": null,
            "justify_content": null,
            "justify_items": null,
            "left": null,
            "margin": null,
            "max_height": null,
            "max_width": null,
            "min_height": null,
            "min_width": null,
            "object_fit": null,
            "object_position": null,
            "order": null,
            "overflow": null,
            "overflow_x": null,
            "overflow_y": null,
            "padding": null,
            "right": null,
            "top": null,
            "visibility": null,
            "width": null
          }
        },
        "364555d9b431446199adf4e55319348e": {
          "model_module": "@jupyter-widgets/controls",
          "model_name": "DescriptionStyleModel",
          "model_module_version": "1.5.0",
          "state": {
            "_model_module": "@jupyter-widgets/controls",
            "_model_module_version": "1.5.0",
            "_model_name": "DescriptionStyleModel",
            "_view_count": null,
            "_view_module": "@jupyter-widgets/base",
            "_view_module_version": "1.2.0",
            "_view_name": "StyleView",
            "description_width": ""
          }
        },
        "511faf8a504549a3aa7dde06a9b3c738": {
          "model_module": "@jupyter-widgets/base",
          "model_name": "LayoutModel",
          "model_module_version": "1.2.0",
          "state": {
            "_model_module": "@jupyter-widgets/base",
            "_model_module_version": "1.2.0",
            "_model_name": "LayoutModel",
            "_view_count": null,
            "_view_module": "@jupyter-widgets/base",
            "_view_module_version": "1.2.0",
            "_view_name": "LayoutView",
            "align_content": null,
            "align_items": null,
            "align_self": null,
            "border": null,
            "bottom": null,
            "display": null,
            "flex": null,
            "flex_flow": null,
            "grid_area": null,
            "grid_auto_columns": null,
            "grid_auto_flow": null,
            "grid_auto_rows": null,
            "grid_column": null,
            "grid_gap": null,
            "grid_row": null,
            "grid_template_areas": null,
            "grid_template_columns": null,
            "grid_template_rows": null,
            "height": null,
            "justify_content": null,
            "justify_items": null,
            "left": null,
            "margin": null,
            "max_height": null,
            "max_width": null,
            "min_height": null,
            "min_width": null,
            "object_fit": null,
            "object_position": null,
            "order": null,
            "overflow": null,
            "overflow_x": null,
            "overflow_y": null,
            "padding": null,
            "right": null,
            "top": null,
            "visibility": null,
            "width": null
          }
        },
        "87267857261841da900deeee52b4b277": {
          "model_module": "@jupyter-widgets/controls",
          "model_name": "ProgressStyleModel",
          "model_module_version": "1.5.0",
          "state": {
            "_model_module": "@jupyter-widgets/controls",
            "_model_module_version": "1.5.0",
            "_model_name": "ProgressStyleModel",
            "_view_count": null,
            "_view_module": "@jupyter-widgets/base",
            "_view_module_version": "1.2.0",
            "_view_name": "StyleView",
            "bar_color": null,
            "description_width": ""
          }
        },
        "a534596d2ce74086918d58dd74b436d6": {
          "model_module": "@jupyter-widgets/base",
          "model_name": "LayoutModel",
          "model_module_version": "1.2.0",
          "state": {
            "_model_module": "@jupyter-widgets/base",
            "_model_module_version": "1.2.0",
            "_model_name": "LayoutModel",
            "_view_count": null,
            "_view_module": "@jupyter-widgets/base",
            "_view_module_version": "1.2.0",
            "_view_name": "LayoutView",
            "align_content": null,
            "align_items": null,
            "align_self": null,
            "border": null,
            "bottom": null,
            "display": null,
            "flex": null,
            "flex_flow": null,
            "grid_area": null,
            "grid_auto_columns": null,
            "grid_auto_flow": null,
            "grid_auto_rows": null,
            "grid_column": null,
            "grid_gap": null,
            "grid_row": null,
            "grid_template_areas": null,
            "grid_template_columns": null,
            "grid_template_rows": null,
            "height": null,
            "justify_content": null,
            "justify_items": null,
            "left": null,
            "margin": null,
            "max_height": null,
            "max_width": null,
            "min_height": null,
            "min_width": null,
            "object_fit": null,
            "object_position": null,
            "order": null,
            "overflow": null,
            "overflow_x": null,
            "overflow_y": null,
            "padding": null,
            "right": null,
            "top": null,
            "visibility": null,
            "width": null
          }
        },
        "20f54a0f761a4084b7a9c62b08b787f8": {
          "model_module": "@jupyter-widgets/controls",
          "model_name": "DescriptionStyleModel",
          "model_module_version": "1.5.0",
          "state": {
            "_model_module": "@jupyter-widgets/controls",
            "_model_module_version": "1.5.0",
            "_model_name": "DescriptionStyleModel",
            "_view_count": null,
            "_view_module": "@jupyter-widgets/base",
            "_view_module_version": "1.2.0",
            "_view_name": "StyleView",
            "description_width": ""
          }
        }
      }
    }
  },
  "cells": [
    {
      "cell_type": "code",
      "execution_count": 1,
      "metadata": {
        "colab": {
          "base_uri": "https://localhost:8080/"
        },
        "id": "MsAbHBeCF-Ef",
        "outputId": "f896ccac-105c-41e1-e563-8d21a33d20bd"
      },
      "outputs": [
        {
          "output_type": "stream",
          "name": "stdout",
          "text": [
            "Looking in indexes: https://pypi.org/simple, https://us-python.pkg.dev/colab-wheels/public/simple/\n",
            "Collecting transformers==4.5.0\n",
            "  Downloading transformers-4.5.0-py3-none-any.whl (2.1 MB)\n",
            "\u001b[K     |████████████████████████████████| 2.1 MB 15.2 MB/s \n",
            "\u001b[?25hCollecting fugashi==1.1.0\n",
            "  Downloading fugashi-1.1.0-cp37-cp37m-manylinux1_x86_64.whl (486 kB)\n",
            "\u001b[K     |████████████████████████████████| 486 kB 79.7 MB/s \n",
            "\u001b[?25hCollecting ipadic==1.0.0\n",
            "  Downloading ipadic-1.0.0.tar.gz (13.4 MB)\n",
            "\u001b[K     |████████████████████████████████| 13.4 MB 82.8 MB/s \n",
            "\u001b[?25hRequirement already satisfied: tqdm>=4.27 in /usr/local/lib/python3.7/dist-packages (from transformers==4.5.0) (4.64.0)\n",
            "Requirement already satisfied: numpy>=1.17 in /usr/local/lib/python3.7/dist-packages (from transformers==4.5.0) (1.21.6)\n",
            "Collecting tokenizers<0.11,>=0.10.1\n",
            "  Downloading tokenizers-0.10.3-cp37-cp37m-manylinux_2_5_x86_64.manylinux1_x86_64.manylinux_2_12_x86_64.manylinux2010_x86_64.whl (3.3 MB)\n",
            "\u001b[K     |████████████████████████████████| 3.3 MB 47.8 MB/s \n",
            "\u001b[?25hRequirement already satisfied: importlib-metadata in /usr/local/lib/python3.7/dist-packages (from transformers==4.5.0) (4.12.0)\n",
            "Requirement already satisfied: regex!=2019.12.17 in /usr/local/lib/python3.7/dist-packages (from transformers==4.5.0) (2022.6.2)\n",
            "Collecting sacremoses\n",
            "  Downloading sacremoses-0.0.53.tar.gz (880 kB)\n",
            "\u001b[K     |████████████████████████████████| 880 kB 48.2 MB/s \n",
            "\u001b[?25hRequirement already satisfied: packaging in /usr/local/lib/python3.7/dist-packages (from transformers==4.5.0) (21.3)\n",
            "Requirement already satisfied: filelock in /usr/local/lib/python3.7/dist-packages (from transformers==4.5.0) (3.7.1)\n",
            "Requirement already satisfied: requests in /usr/local/lib/python3.7/dist-packages (from transformers==4.5.0) (2.23.0)\n",
            "Requirement already satisfied: zipp>=0.5 in /usr/local/lib/python3.7/dist-packages (from importlib-metadata->transformers==4.5.0) (3.8.1)\n",
            "Requirement already satisfied: typing-extensions>=3.6.4 in /usr/local/lib/python3.7/dist-packages (from importlib-metadata->transformers==4.5.0) (4.1.1)\n",
            "Requirement already satisfied: pyparsing!=3.0.5,>=2.0.2 in /usr/local/lib/python3.7/dist-packages (from packaging->transformers==4.5.0) (3.0.9)\n",
            "Requirement already satisfied: chardet<4,>=3.0.2 in /usr/local/lib/python3.7/dist-packages (from requests->transformers==4.5.0) (3.0.4)\n",
            "Requirement already satisfied: idna<3,>=2.5 in /usr/local/lib/python3.7/dist-packages (from requests->transformers==4.5.0) (2.10)\n",
            "Requirement already satisfied: urllib3!=1.25.0,!=1.25.1,<1.26,>=1.21.1 in /usr/local/lib/python3.7/dist-packages (from requests->transformers==4.5.0) (1.24.3)\n",
            "Requirement already satisfied: certifi>=2017.4.17 in /usr/local/lib/python3.7/dist-packages (from requests->transformers==4.5.0) (2022.6.15)\n",
            "Requirement already satisfied: six in /usr/local/lib/python3.7/dist-packages (from sacremoses->transformers==4.5.0) (1.15.0)\n",
            "Requirement already satisfied: click in /usr/local/lib/python3.7/dist-packages (from sacremoses->transformers==4.5.0) (7.1.2)\n",
            "Requirement already satisfied: joblib in /usr/local/lib/python3.7/dist-packages (from sacremoses->transformers==4.5.0) (1.1.0)\n",
            "Building wheels for collected packages: ipadic, sacremoses\n",
            "  Building wheel for ipadic (setup.py) ... \u001b[?25l\u001b[?25hdone\n",
            "  Created wheel for ipadic: filename=ipadic-1.0.0-py3-none-any.whl size=13556723 sha256=5dca9713a41e7ab4ecce4c68dd6ceefb663370e4f40a6fa39335de9d20b16de5\n",
            "  Stored in directory: /root/.cache/pip/wheels/33/8b/99/cf0d27191876637cd3639a560f93aa982d7855ce826c94348b\n",
            "  Building wheel for sacremoses (setup.py) ... \u001b[?25l\u001b[?25hdone\n",
            "  Created wheel for sacremoses: filename=sacremoses-0.0.53-py3-none-any.whl size=895260 sha256=d7aea43867dfdf22a73d55e409c0e4a8e0f5444cf6cb30060d49b68a21497a6d\n",
            "  Stored in directory: /root/.cache/pip/wheels/87/39/dd/a83eeef36d0bf98e7a4d1933a4ad2d660295a40613079bafc9\n",
            "Successfully built ipadic sacremoses\n",
            "Installing collected packages: tokenizers, sacremoses, transformers, ipadic, fugashi\n",
            "Successfully installed fugashi-1.1.0 ipadic-1.0.0 sacremoses-0.0.53 tokenizers-0.10.3 transformers-4.5.0\n"
          ]
        }
      ],
      "source": [
        "!pip install transformers==4.5.0 fugashi==1.1.0 ipadic==1.0.0 "
      ]
    },
    {
      "cell_type": "code",
      "source": [
        "import numpy as np\n",
        "import pandas as pd\n",
        "\n",
        "import torch\n",
        "from torch.utils.data import Dataset, DataLoader\n",
        "from transformers import AutoModel, AutoTokenizer, BertJapaneseTokenizer, BertModel\n",
        "from torch import cuda\n",
        "import sklearn.metrics as skm\n",
        "from sklearn.model_selection import train_test_split\n",
        "import torch.nn.functional as F\n",
        "from transformers import logging\n"
      ],
      "metadata": {
        "id": "pnCaB1WEG0dr"
      },
      "execution_count": 2,
      "outputs": []
    },
    {
      "cell_type": "code",
      "source": [
        "batch_size = 16\n",
        "max_len = 512"
      ],
      "metadata": {
        "id": "s0DTlUuXaQk0"
      },
      "execution_count": 3,
      "outputs": []
    },
    {
      "cell_type": "code",
      "source": [
        "df = pd.read_csv(\"./drive/MyDrive/Colab_Notebooks/data/livedoor_text.csv\")\n",
        "print(df.shape)\n",
        "df.head()"
      ],
      "metadata": {
        "colab": {
          "base_uri": "https://localhost:8080/",
          "height": 355
        },
        "id": "jPzhLL26GLCB",
        "outputId": "5179501a-de38-49d3-cefc-15182ae79cc9"
      },
      "execution_count": 4,
      "outputs": [
        {
          "output_type": "stream",
          "name": "stdout",
          "text": [
            "(7367, 2)\n"
          ]
        },
        {
          "output_type": "execute_result",
          "data": {
            "text/plain": [
              "                                                text  category\n",
              "0  27日に生放送された日本テレビ「バンクーバー2010」には、女子フィギュアスケートで銀メダル...         7\n",
              "1  「腐女子」という言葉をご存知でしょうか。\\nいわゆる漫画やアニメキャラなどの男性同士の恋愛（...         0\n",
              "2  展示会イベント恒例のおねいさん写真のコーナーでございます \\n\\n国内最大級の携帯電話や無線...         6\n",
              "3  芸能界を引退した島田紳助さんが、今月２８日に公開される映画「犬の首輪とコロッケと」に声だけ出...         2\n",
              "4  お花に包まれた洋館で、イケメン執事に囲まれながら、ゆったりと過ごす午後のひととき……。女の子...         5"
            ],
            "text/html": [
              "\n",
              "  <div id=\"df-70b82c91-3ad0-49a5-83fd-35a2f885a574\">\n",
              "    <div class=\"colab-df-container\">\n",
              "      <div>\n",
              "<style scoped>\n",
              "    .dataframe tbody tr th:only-of-type {\n",
              "        vertical-align: middle;\n",
              "    }\n",
              "\n",
              "    .dataframe tbody tr th {\n",
              "        vertical-align: top;\n",
              "    }\n",
              "\n",
              "    .dataframe thead th {\n",
              "        text-align: right;\n",
              "    }\n",
              "</style>\n",
              "<table border=\"1\" class=\"dataframe\">\n",
              "  <thead>\n",
              "    <tr style=\"text-align: right;\">\n",
              "      <th></th>\n",
              "      <th>text</th>\n",
              "      <th>category</th>\n",
              "    </tr>\n",
              "  </thead>\n",
              "  <tbody>\n",
              "    <tr>\n",
              "      <th>0</th>\n",
              "      <td>27日に生放送された日本テレビ「バンクーバー2010」には、女子フィギュアスケートで銀メダル...</td>\n",
              "      <td>7</td>\n",
              "    </tr>\n",
              "    <tr>\n",
              "      <th>1</th>\n",
              "      <td>「腐女子」という言葉をご存知でしょうか。\\nいわゆる漫画やアニメキャラなどの男性同士の恋愛（...</td>\n",
              "      <td>0</td>\n",
              "    </tr>\n",
              "    <tr>\n",
              "      <th>2</th>\n",
              "      <td>展示会イベント恒例のおねいさん写真のコーナーでございます \\n\\n国内最大級の携帯電話や無線...</td>\n",
              "      <td>6</td>\n",
              "    </tr>\n",
              "    <tr>\n",
              "      <th>3</th>\n",
              "      <td>芸能界を引退した島田紳助さんが、今月２８日に公開される映画「犬の首輪とコロッケと」に声だけ出...</td>\n",
              "      <td>2</td>\n",
              "    </tr>\n",
              "    <tr>\n",
              "      <th>4</th>\n",
              "      <td>お花に包まれた洋館で、イケメン執事に囲まれながら、ゆったりと過ごす午後のひととき……。女の子...</td>\n",
              "      <td>5</td>\n",
              "    </tr>\n",
              "  </tbody>\n",
              "</table>\n",
              "</div>\n",
              "      <button class=\"colab-df-convert\" onclick=\"convertToInteractive('df-70b82c91-3ad0-49a5-83fd-35a2f885a574')\"\n",
              "              title=\"Convert this dataframe to an interactive table.\"\n",
              "              style=\"display:none;\">\n",
              "        \n",
              "  <svg xmlns=\"http://www.w3.org/2000/svg\" height=\"24px\"viewBox=\"0 0 24 24\"\n",
              "       width=\"24px\">\n",
              "    <path d=\"M0 0h24v24H0V0z\" fill=\"none\"/>\n",
              "    <path d=\"M18.56 5.44l.94 2.06.94-2.06 2.06-.94-2.06-.94-.94-2.06-.94 2.06-2.06.94zm-11 1L8.5 8.5l.94-2.06 2.06-.94-2.06-.94L8.5 2.5l-.94 2.06-2.06.94zm10 10l.94 2.06.94-2.06 2.06-.94-2.06-.94-.94-2.06-.94 2.06-2.06.94z\"/><path d=\"M17.41 7.96l-1.37-1.37c-.4-.4-.92-.59-1.43-.59-.52 0-1.04.2-1.43.59L10.3 9.45l-7.72 7.72c-.78.78-.78 2.05 0 2.83L4 21.41c.39.39.9.59 1.41.59.51 0 1.02-.2 1.41-.59l7.78-7.78 2.81-2.81c.8-.78.8-2.07 0-2.86zM5.41 20L4 18.59l7.72-7.72 1.47 1.35L5.41 20z\"/>\n",
              "  </svg>\n",
              "      </button>\n",
              "      \n",
              "  <style>\n",
              "    .colab-df-container {\n",
              "      display:flex;\n",
              "      flex-wrap:wrap;\n",
              "      gap: 12px;\n",
              "    }\n",
              "\n",
              "    .colab-df-convert {\n",
              "      background-color: #E8F0FE;\n",
              "      border: none;\n",
              "      border-radius: 50%;\n",
              "      cursor: pointer;\n",
              "      display: none;\n",
              "      fill: #1967D2;\n",
              "      height: 32px;\n",
              "      padding: 0 0 0 0;\n",
              "      width: 32px;\n",
              "    }\n",
              "\n",
              "    .colab-df-convert:hover {\n",
              "      background-color: #E2EBFA;\n",
              "      box-shadow: 0px 1px 2px rgba(60, 64, 67, 0.3), 0px 1px 3px 1px rgba(60, 64, 67, 0.15);\n",
              "      fill: #174EA6;\n",
              "    }\n",
              "\n",
              "    [theme=dark] .colab-df-convert {\n",
              "      background-color: #3B4455;\n",
              "      fill: #D2E3FC;\n",
              "    }\n",
              "\n",
              "    [theme=dark] .colab-df-convert:hover {\n",
              "      background-color: #434B5C;\n",
              "      box-shadow: 0px 1px 3px 1px rgba(0, 0, 0, 0.15);\n",
              "      filter: drop-shadow(0px 1px 2px rgba(0, 0, 0, 0.3));\n",
              "      fill: #FFFFFF;\n",
              "    }\n",
              "  </style>\n",
              "\n",
              "      <script>\n",
              "        const buttonEl =\n",
              "          document.querySelector('#df-70b82c91-3ad0-49a5-83fd-35a2f885a574 button.colab-df-convert');\n",
              "        buttonEl.style.display =\n",
              "          google.colab.kernel.accessAllowed ? 'block' : 'none';\n",
              "\n",
              "        async function convertToInteractive(key) {\n",
              "          const element = document.querySelector('#df-70b82c91-3ad0-49a5-83fd-35a2f885a574');\n",
              "          const dataTable =\n",
              "            await google.colab.kernel.invokeFunction('convertToInteractive',\n",
              "                                                     [key], {});\n",
              "          if (!dataTable) return;\n",
              "\n",
              "          const docLinkHtml = 'Like what you see? Visit the ' +\n",
              "            '<a target=\"_blank\" href=https://colab.research.google.com/notebooks/data_table.ipynb>data table notebook</a>'\n",
              "            + ' to learn more about interactive tables.';\n",
              "          element.innerHTML = '';\n",
              "          dataTable['output_type'] = 'display_data';\n",
              "          await google.colab.output.renderOutput(dataTable, element);\n",
              "          const docLink = document.createElement('div');\n",
              "          docLink.innerHTML = docLinkHtml;\n",
              "          element.appendChild(docLink);\n",
              "        }\n",
              "      </script>\n",
              "    </div>\n",
              "  </div>\n",
              "  "
            ]
          },
          "metadata": {},
          "execution_count": 4
        }
      ]
    },
    {
      "cell_type": "markdown",
      "source": [
        "# データセットの作成"
      ],
      "metadata": {
        "id": "Tfm6tn61oW0r"
      }
    },
    {
      "cell_type": "code",
      "source": [
        "class CreateDataset(Dataset):\n",
        "  def __init__(self, X, y, tokenizer, max_len):\n",
        "    self.X = X\n",
        "    self.y = y\n",
        "    self.tokenizer = tokenizer\n",
        "    self.max_len = max_len\n",
        "\n",
        "  def __len__(self):\n",
        "    return len(self.y)\n",
        "\n",
        "  def encode(self, tokenizer, text):\n",
        "      inputs = tokenizer.encode_plus(\n",
        "          text,\n",
        "          add_special_tokens=True,\n",
        "          max_length=self.max_len,\n",
        "          padding = 'max_length',\n",
        "          truncation = True\n",
        "      )\n",
        "      return inputs\n",
        "\n",
        "  def __getitem__(self, index):\n",
        "    text = self.X[index]\n",
        "    label = self.y[index]\n",
        "    ids = []\n",
        "    mask = []\n",
        "    inputs = self.encode(tokenizer=self.tokenizer, text=text)\n",
        "    ids.append(torch.LongTensor(inputs['input_ids']))\n",
        "    mask.append(torch.LongTensor(inputs['attention_mask']))\n",
        "\n",
        "    return {\n",
        "      'ids': ids,\n",
        "      'mask': mask,\n",
        "      'label': label,\n",
        "      'text':text,\n",
        "      # 'userID':userID\n",
        "    }"
      ],
      "metadata": {
        "id": "B7aXkzLgG9za"
      },
      "execution_count": 5,
      "outputs": []
    },
    {
      "cell_type": "code",
      "source": [
        "tokenizer = BertJapaneseTokenizer.from_pretrained(\"cl-tohoku/bert-base-japanese-whole-word-masking\")"
      ],
      "metadata": {
        "id": "bdoMudggG_T8",
        "outputId": "cb42c66d-8528-483e-ea54-6297975cfb6d",
        "colab": {
          "base_uri": "https://localhost:8080/",
          "height": 137,
          "referenced_widgets": [
            "fe54eef1899c4b5f9f3b7efe3d257651",
            "773e8a4879854b858da08d8260906a17",
            "e119712c649e4d0a8fd31257db170b6e",
            "9a89a6151d5a4e56a35f5e0a81f36f4a",
            "35d2c32d8acc48299dff2c7cc6538cb9",
            "0bdb857f4e9e48a490eefcd6b43730ac",
            "2d9e6dbd918a470f8111f1d72fca3760",
            "8516bc9255fd49aab2b35d8b1bdeb802",
            "4b3a32f2451a4de491c439a3fff7dc0a",
            "9dbebd3d55574eed9a47419f345e8c8a",
            "ae74a6b96e0845bc95f10edb6ba62d7b",
            "29b526f85aa04c66b92ea6bf7249fff1",
            "2cbe29c6712141a591822209383d90ba",
            "bbccc827aeb74a1aa5c1aa11669c327c",
            "c6b8196f4209472fb4058ed4b5494f07",
            "22f518d5731741d980da4c27c305e94b",
            "2322ebaedab44598a474d18ca09c8b8b",
            "f7e25fdc410249c6a51281bfd91a379b",
            "3fa55509ca4c4dcb913e1907a89a2977",
            "827b04a7bd3748c2b2c155e2ca6d0f16",
            "4035d9978b5a4f5ea5dbc342b8307e1c",
            "fa07ad9fd7ce47e2a12d4c6ce8454a19"
          ]
        }
      },
      "execution_count": 6,
      "outputs": [
        {
          "output_type": "display_data",
          "data": {
            "text/plain": [
              "Downloading:   0%|          | 0.00/258k [00:00<?, ?B/s]"
            ],
            "application/vnd.jupyter.widget-view+json": {
              "version_major": 2,
              "version_minor": 0,
              "model_id": "fe54eef1899c4b5f9f3b7efe3d257651"
            }
          },
          "metadata": {}
        },
        {
          "output_type": "display_data",
          "data": {
            "text/plain": [
              "Downloading:   0%|          | 0.00/110 [00:00<?, ?B/s]"
            ],
            "application/vnd.jupyter.widget-view+json": {
              "version_major": 2,
              "version_minor": 0,
              "model_id": "29b526f85aa04c66b92ea6bf7249fff1"
            }
          },
          "metadata": {}
        }
      ]
    },
    {
      "cell_type": "code",
      "source": [
        "X = df[\"text\"].values\n",
        "y = df[\"category\"].values"
      ],
      "metadata": {
        "id": "X2yZh73HG_YC"
      },
      "execution_count": 7,
      "outputs": []
    },
    {
      "cell_type": "code",
      "source": [
        "X_train_eval, X_test, y_train_eval, y_test = train_test_split(X, y, train_size=0.8)\n",
        "\n",
        "X_train, X_eval, y_train, y_eval = train_test_split(X_train_eval, y_train_eval, train_size=0.75)\n",
        "\n",
        "print(len(X_train))\n",
        "print(len(X_eval))\n",
        "print(len(X_test))\n",
        "\n",
        "print(len(y_train))\n",
        "print(len(y_eval))\n",
        "print(len(y_test))"
      ],
      "metadata": {
        "colab": {
          "base_uri": "https://localhost:8080/"
        },
        "id": "KuZghJ37RwyC",
        "outputId": "9fe396a0-f178-478d-a534-8eba65bbcc5d"
      },
      "execution_count": 8,
      "outputs": [
        {
          "output_type": "stream",
          "name": "stdout",
          "text": [
            "4419\n",
            "1474\n",
            "1474\n",
            "4419\n",
            "1474\n",
            "1474\n"
          ]
        }
      ]
    },
    {
      "cell_type": "code",
      "source": [
        "dataset_train = CreateDataset(X_train, y_train, tokenizer, max_len=max_len)\n",
        "dataset_eval = CreateDataset(X_eval, y_eval, tokenizer, max_len=max_len)\n",
        "dataset_test = CreateDataset(X_test, y_test, tokenizer, max_len=max_len)\n",
        "\n",
        "print(dataset_train.__len__())\n",
        "print(dataset_eval.__len__())\n",
        "print(dataset_test.__len__())"
      ],
      "metadata": {
        "colab": {
          "base_uri": "https://localhost:8080/"
        },
        "id": "F5PTf6oiG_bd",
        "outputId": "0c1f8bb6-ebaa-416b-fa9c-7e4bd85c32e9"
      },
      "execution_count": 9,
      "outputs": [
        {
          "output_type": "stream",
          "name": "stdout",
          "text": [
            "4419\n",
            "1474\n",
            "1474\n"
          ]
        }
      ]
    },
    {
      "cell_type": "code",
      "source": [
        "# dataset_train[0]"
      ],
      "metadata": {
        "id": "pVD_X9ipXi6m"
      },
      "execution_count": 10,
      "outputs": []
    },
    {
      "cell_type": "markdown",
      "source": [
        "# データローダの作成"
      ],
      "metadata": {
        "id": "x9_FUL53oTdW"
      }
    },
    {
      "cell_type": "code",
      "source": [
        "dataloader_train = DataLoader(dataset_train, batch_size=batch_size, shuffle=True, pin_memory=True)\n",
        "dataloader_eval = DataLoader(dataset_eval, batch_size=batch_size, shuffle=True, pin_memory=True)\n",
        "dataloader_test = DataLoader(dataset_test, batch_size=batch_size, shuffle=True, pin_memory=True)\n",
        "\n",
        "# 辞書オブジェクトにまとめる\n",
        "dataloaders_dict = {\"train\": dataloader_train, \"val\": dataloader_eval}"
      ],
      "metadata": {
        "id": "BJUfrG01WT-U"
      },
      "execution_count": 11,
      "outputs": []
    },
    {
      "cell_type": "code",
      "source": [
        "tmp = next(iter(dataloader_train))\n",
        "print(tmp[\"ids\"][0].size())\n",
        "print(tmp[\"label\"])\n",
        "tmp[\"ids\"][0][0]\n"
      ],
      "metadata": {
        "colab": {
          "base_uri": "https://localhost:8080/"
        },
        "id": "HrJDt5u-YTlI",
        "outputId": "26e3ae93-f5a3-4ce4-a26d-99111e175fd7"
      },
      "execution_count": 12,
      "outputs": [
        {
          "output_type": "stream",
          "name": "stdout",
          "text": [
            "torch.Size([16, 512])\n",
            "tensor([3, 0, 8, 0, 4, 6, 2, 7, 2, 2, 5, 7, 5, 7, 8, 2])\n"
          ]
        },
        {
          "output_type": "execute_result",
          "data": {
            "text/plain": [
              "tensor([    2,    36,    48,    19,    12, 20587,     9,  1214,  8896,  7045,\n",
              "        28496,  4619,    14,  4937,    80,    38,    36,  2198,    14,  9727,\n",
              "        28504,    80,    38,    35,    35,    35,  6421,   745,    53,     5,\n",
              "        15258,     9, 24307,    80,   120,     8,  4799,  1400,    18, 15258,\n",
              "            7,  7216, 28869,    57,  4652,    14,    73, 29731, 28547,    15,\n",
              "         2610,     8,  7168,     5,    73, 15258,  2984,   266,  4838,     5,\n",
              "          640,    28,   811,     5,  1989,  4027,     6,   171,  4847, 28474,\n",
              "        23923,  1203,   203,  6769,  1058,     8,  3472,    35,  1790,   626,\n",
              "          573,  1953,  2509,  6340, 28506,  4551,  5771,   104,  7446,   143,\n",
              "         6420, 28509,  2086,  6259,     5, 17145,   811,     9,  1982,  4354,\n",
              "         1017,   573,    13,     6,  8567,  4772,   811,     8, 18999,     5,\n",
              "         6309,    14,   707,    82,    29,  8405,     9,  8494,  2079,     7,\n",
              "         1172, 28674,    35, 13914, 29650,    35, 17325, 30110, 28477,    35,\n",
              "           55, 28710, 28689,    64,  1989,    14,   378,     6,   106,  5424,\n",
              "           28,  9346,   136,    14,   378,  4397, 11181,     5,    53,    13,\n",
              "         4265,     7,    21,  2610,     8,  2198,    12,     9,    80,  1036,\n",
              "            6,  5408, 30054, 28477,  7720,     5,  1386,     9,  2198,     8,\n",
              "          171,    12,     9,  3125, 23923,  1203,   203,  6769,  1058,     8,\n",
              "          171,  6172,   259, 29122,     5,   749, 11655,   205,    29,     8,\n",
              "        10393, 28466,   462,  2375,    40,     5,    51,  7216, 15700,   192,\n",
              "          266,  1040,  2032,  1037,    14,  4749,  3614,    29,  2430,    34,\n",
              "           45,   679, 11181,     5,  8480,     9, 20045,     7,  2198,    11,\n",
              "         2450,    16,   861,   109,    12,  3952, 28456, 28480,  1279,     8,\n",
              "          909,     6,   727,   695,     7,  4265,     7,  5457,    16,  1497,\n",
              "           45,    12,  6968,     5, 12886,    49,  6954,     5,  2073,    11,\n",
              "         3038, 28506,    16,  1497,   519,   245,    28,  3421,  3125,  1447,\n",
              "         2198,    11,    15,    16,    33,    53,    49,  2043,   315,     5,\n",
              "         3676,    13,  8615,    45,    12,  1842, 12886,    49,  6954,    11,\n",
              "         5290,    45,    14,  1380,  2610,     8, 15376,    20,    16,  1820,\n",
              "         3318,     6, 16874,  7334,   140,    45,    28, 14604,  2610,    14,\n",
              "            6,  1703, 28449, 14740,    28, 11047,   679,  6968,  2032,  3654,\n",
              "           13,  4265,     7, 10889,    45,    14, 16610,    29,     6,  7123,\n",
              "            5,     9,  6968,   679, 13734,  1040,     5,   680,    12, 10725,\n",
              "           11,   679,  1989,     7,   651,    15,    80,    40,  2198,  2450,\n",
              "        13840,   139,     6,  8480,    14, 11646,    80,     6,   140,    45,\n",
              "            9,    80,  4627,   679,    32, 29175,     5,  7720,    49,  1096,\n",
              "        28555,    12,  8480,    11,  5689,    64,  1040,   297,     5,  1559,\n",
              "           11,   680,    16,     9,  2935,  7168,     5, 16357,  8480,     9,\n",
              "           32, 29175,    40,   679,  1703, 28449, 14740,    11,  1750,    16,\n",
              "          679,    23,   933,  1530,   281,   266, 30890,   822, 13743,    24,\n",
              "         3285,  4499, 28683,  9364, 28548,  1354, 28514,    35, 20587,  3285,\n",
              "         4499, 28683,  9364, 28548,  1354, 28514,    35, 20587,     9,     6,\n",
              "         6968,    14, 10150,  1354, 28514,   933,    11,  6623,    16,    33,\n",
              "            5,    29,    11, 27126,     7,  2827,    15,    16,    73, 28484,\n",
              "        28484, 28506,    34,  7319,     8,    36,   391, 11055,    12,    19,\n",
              "        28884,  5811,   429,   695,     5,  1790,  1116,    12,  1039,  1903,\n",
              "        19696,    38,    64,  6968,     5, 20093,     7,  6167,    34, 20587,\n",
              "          455,    11,  1554,  4283,     8, 21313, 16831,   822, 13743,   143,\n",
              "        18453,   465,   936,   465,  3285,  4499, 28683,  9364, 28548,   465,\n",
              "            3,     0,     0,     0,     0,     0,     0,     0,     0,     0,\n",
              "            0,     0,     0,     0,     0,     0,     0,     0,     0,     0,\n",
              "            0,     0])"
            ]
          },
          "metadata": {},
          "execution_count": 12
        }
      ]
    },
    {
      "cell_type": "markdown",
      "source": [
        "# BERTモデル"
      ],
      "metadata": {
        "id": "CZPTyZ5IoQka"
      }
    },
    {
      "cell_type": "code",
      "source": [
        "model = BertModel.from_pretrained(\"cl-tohoku/bert-base-japanese-whole-word-masking\", output_attentions=True, output_hidden_states=True)"
      ],
      "metadata": {
        "id": "sJX70XFWG_ee",
        "outputId": "fb6f9450-4fb9-46d4-83ab-37426b9fd255",
        "colab": {
          "base_uri": "https://localhost:8080/",
          "height": 137,
          "referenced_widgets": [
            "13439554befb4c8597559d08c24963b0",
            "507197cc593d4c9d8c6426cd76efd5c2",
            "728b550c806344f28614178ee618818d",
            "7db75d05a2684a4b91617f742f08100e",
            "95617c4c3a47450e879a9f9c17ad0edf",
            "6a949ff39e914d10aa1140fb651c1fd8",
            "d7e244f13fcc493caf516c328b02f6c6",
            "e389308ee295409b8d127206ceaab67c",
            "2450d18d2e1e4d89bb9b071293153c2d",
            "1652d97e03c54ed2b4e6da1a33d87efc",
            "6d86032b77cb45258ce026e6095b97b9",
            "ff4ff6431c6044d0a5868e57bcf9c897",
            "325b9f4a1b464e6e980871c9be7f0a15",
            "d194fa83a114419da08eb6087d72392f",
            "241dd517c1164eb3b8b1aa593eca88ad",
            "d867572ce4244e1baa57f710197385d1",
            "e97a6c434ed14b40b191e3e7ab0b2ea3",
            "364555d9b431446199adf4e55319348e",
            "511faf8a504549a3aa7dde06a9b3c738",
            "87267857261841da900deeee52b4b277",
            "a534596d2ce74086918d58dd74b436d6",
            "20f54a0f761a4084b7a9c62b08b787f8"
          ]
        }
      },
      "execution_count": 13,
      "outputs": [
        {
          "output_type": "display_data",
          "data": {
            "text/plain": [
              "Downloading:   0%|          | 0.00/479 [00:00<?, ?B/s]"
            ],
            "application/vnd.jupyter.widget-view+json": {
              "version_major": 2,
              "version_minor": 0,
              "model_id": "13439554befb4c8597559d08c24963b0"
            }
          },
          "metadata": {}
        },
        {
          "output_type": "display_data",
          "data": {
            "text/plain": [
              "Downloading:   0%|          | 0.00/445M [00:00<?, ?B/s]"
            ],
            "application/vnd.jupyter.widget-view+json": {
              "version_major": 2,
              "version_minor": 0,
              "model_id": "ff4ff6431c6044d0a5868e57bcf9c897"
            }
          },
          "metadata": {}
        }
      ]
    },
    {
      "cell_type": "code",
      "source": [
        "from torch import nn\n",
        "\n",
        "\n",
        "class BertForLivedoor(nn.Module):\n",
        "    '''BERTモデルにLivedoorニュースの9クラスを判定する部分をつなげたモデル'''\n",
        "\n",
        "    def __init__(self):\n",
        "        super(BertForLivedoor, self).__init__()\n",
        "\n",
        "        # BERTモジュール\n",
        "        self.bert = model  # 日本語学習済みのBERTモデル\n",
        "\n",
        "        # headにクラス予測を追加\n",
        "        # 入力はBERTの出力特徴量の次元768、出力は9クラス\n",
        "        self.cls = nn.Linear(in_features=768, out_features=9)\n",
        "\n",
        "        # 重み初期化処理\n",
        "        nn.init.normal_(self.cls.weight, std=0.02)\n",
        "        nn.init.normal_(self.cls.bias, 0)\n",
        "\n",
        "        # カウント\n",
        "        self.count = 0\n",
        "\n",
        "\n",
        "    def forward(self, input_ids, attention_show_flg:bool):\n",
        "        '''\n",
        "        input_ids： [batch_size, sequence_length]の文章の単語IDの羅列\n",
        "        '''\n",
        "\n",
        "        # BERTの基本モデル部分の順伝搬\n",
        "        # 順伝搬させる\n",
        "        result = self.bert(input_ids)  # reult は、sequence_output, pooled_output\n",
        "\n",
        "        # sequence_outputの先頭の単語ベクトルを抜き出す\n",
        "        vec_0 = result[0]  # 最初の0がsequence_outputを示す\n",
        "        vec_0 = vec_0[:, 0, :]  # 全バッチ。先頭0番目の単語の全768要素\n",
        "        vec_0 = vec_0.view(-1, 768)  # sizeを[batch_size, hidden_size]に変換\n",
        "        output = self.cls(vec_0)  # 全結合層\n",
        "\n",
        "        self.count += 1\n",
        "\n",
        "        if attention_show_flg:\n",
        "          return output, result.attentions[-1]\n",
        "        else:\n",
        "          return output\n"
      ],
      "metadata": {
        "id": "kt7Ox3ISQhyQ"
      },
      "execution_count": 14,
      "outputs": []
    },
    {
      "cell_type": "code",
      "source": [
        "# モデル構築\n",
        "net = BertForLivedoor()\n",
        "\n",
        "# 訓練モードに設定\n",
        "net.train()\n",
        "\n",
        "print('ネットワーク設定完了')"
      ],
      "metadata": {
        "colab": {
          "base_uri": "https://localhost:8080/"
        },
        "id": "oYAN0RMZRZ-F",
        "outputId": "095ef3b8-b986-49ab-bc18-67638337c755"
      },
      "execution_count": 15,
      "outputs": [
        {
          "output_type": "stream",
          "name": "stdout",
          "text": [
            "ネットワーク設定完了\n"
          ]
        }
      ]
    },
    {
      "cell_type": "code",
      "source": [
        "# 勾配計算を最後のBertLayerモジュールと追加した分類アダプターのみ実行\n",
        "\n",
        "# 1. まず全部を、勾配計算Falseにしてしまう\n",
        "for param in net.parameters():\n",
        "    param.requires_grad = False\n",
        "\n",
        "# 2. BertLayerモジュールの最後を勾配計算ありに変更\n",
        "for param in net.bert.encoder.layer[-1].parameters():\n",
        "    param.requires_grad = True\n",
        "\n",
        "# 3. 識別器を勾配計算ありに変更\n",
        "for param in net.cls.parameters():\n",
        "    param.requires_grad = True"
      ],
      "metadata": {
        "id": "yESzArCNRaee"
      },
      "execution_count": 16,
      "outputs": []
    },
    {
      "cell_type": "code",
      "source": [
        "# 最適化手法の設定\n",
        "import torch.optim as optim\n",
        "\n",
        "\n",
        "# BERTの元の部分はファインチューニング\n",
        "optimizer = optim.Adam([\n",
        "    {'params': net.bert.encoder.layer[-1].parameters(), 'lr': 5e-5},\n",
        "    {'params': net.cls.parameters(), 'lr': 1e-4}\n",
        "])\n",
        "\n",
        "# 損失関数の設定\n",
        "criterion = nn.CrossEntropyLoss()\n",
        "# nn.LogSoftmax()を計算してからnn.NLLLoss(negative log likelihood loss)を計算"
      ],
      "metadata": {
        "id": "Ze8n1lpURaoD"
      },
      "execution_count": 17,
      "outputs": []
    },
    {
      "cell_type": "markdown",
      "source": [
        "# 学習・検証"
      ],
      "metadata": {
        "id": "g83K9OAfoN1J"
      }
    },
    {
      "cell_type": "code",
      "source": [
        "# モデルを学習させる関数を作成\n",
        "\n",
        "\n",
        "def train_model(net, dataloaders_dict, criterion, optimizer, num_epochs):\n",
        "\n",
        "    # GPUが使えるかを確認\n",
        "    device = torch.device(\"cuda:0\" if torch.cuda.is_available() else \"cpu\")\n",
        "    print(\"使用デバイス：\", device)\n",
        "    print('-----start-------')\n",
        "\n",
        "    # ネットワークをGPUへ\n",
        "    net.to(device)\n",
        "\n",
        "    # ネットワークがある程度固定であれば、高速化させる\n",
        "    torch.backends.cudnn.benchmark = True\n",
        "\n",
        "    # ミニバッチのサイズ\n",
        "    batch_size = dataloaders_dict[\"train\"].batch_size\n",
        "\n",
        "    # epochのループ\n",
        "    for epoch in range(num_epochs):\n",
        "        # epochごとの訓練と検証のループ\n",
        "        for phase in ['train', 'val']:\n",
        "            if phase == 'train':\n",
        "                net.train()  # モデルを訓練モードに\n",
        "            else:\n",
        "                net.eval()   # モデルを検証モードに\n",
        "\n",
        "            epoch_loss = 0.0  # epochの損失和\n",
        "            epoch_corrects = 0  # epochの正解数\n",
        "            iteration = 1\n",
        "\n",
        "            # データローダーからミニバッチを取り出すループ\n",
        "            for batch in (dataloaders_dict[phase]):\n",
        "                # batchはTextとLableの辞書型変数\n",
        "\n",
        "                # GPUが使えるならGPUにデータを送る\n",
        "                inputs = batch[\"ids\"][0].to(device)  # 文章\n",
        "                labels = batch[\"label\"].to(device)  # ラベル\n",
        "\n",
        "                # optimizerを初期化\n",
        "                optimizer.zero_grad()\n",
        "\n",
        "                # 順伝搬（forward）計算\n",
        "                with torch.set_grad_enabled(phase == 'train'):\n",
        "\n",
        "                    # BERTに入力\n",
        "                    outputs = net(inputs, attention_show_flg=False)\n",
        "\n",
        "                    loss = criterion(outputs, labels)  # 損失を計算\n",
        "\n",
        "                    _, preds = torch.max(outputs, 1)  # ラベルを予測\n",
        "\n",
        "                    # 訓練時はバックプロパゲーション\n",
        "                    if phase == 'train':\n",
        "                        loss.backward()\n",
        "                        optimizer.step()\n",
        "\n",
        "                        if (iteration % 10 == 0):  # 10iterに1度、lossを表示\n",
        "                            acc = (torch.sum(preds == labels.data)\n",
        "                                   ).double()/batch_size\n",
        "                            print('イテレーション {} || Loss: {:.4f} || 10iter. || 本イテレーションの正解率：{}'.format(\n",
        "                                iteration, loss.item(),  acc))\n",
        "\n",
        "                    iteration += 1\n",
        "\n",
        "                    # 損失と正解数の合計を更新\n",
        "                    epoch_loss += loss.item() * batch_size\n",
        "                    epoch_corrects += torch.sum(preds == labels.data)\n",
        "\n",
        "            # epochごとのlossと正解率\n",
        "            epoch_loss = epoch_loss / len(dataloaders_dict[phase].dataset)\n",
        "            epoch_acc = epoch_corrects.double(\n",
        "            ) / len(dataloaders_dict[phase].dataset)\n",
        "\n",
        "            print('Epoch {}/{} | {:^5} |  Loss: {:.4f} Acc: {:.4f}'.format(epoch+1, num_epochs,\n",
        "                                                                           phase, epoch_loss, epoch_acc))\n",
        "\n",
        "    return net"
      ],
      "metadata": {
        "id": "dPcjornYRawV"
      },
      "execution_count": 18,
      "outputs": []
    },
    {
      "cell_type": "code",
      "source": [
        "# 学習・検証を実行する。1epochに2分ほどかかります\n",
        "num_epochs = 3\n",
        "net_trained = train_model(net, dataloaders_dict,\n",
        "                          criterion, optimizer, num_epochs=num_epochs)\n"
      ],
      "metadata": {
        "colab": {
          "base_uri": "https://localhost:8080/"
        },
        "id": "HvIKi67TRa2w",
        "outputId": "06e70919-76b2-4147-ab68-5a03ac22a5da"
      },
      "execution_count": 20,
      "outputs": [
        {
          "output_type": "stream",
          "name": "stdout",
          "text": [
            "使用デバイス： cuda:0\n",
            "-----start-------\n",
            "イテレーション 10 || Loss: 0.4295 || 10iter. || 本イテレーションの正解率：0.875\n",
            "イテレーション 20 || Loss: 0.3930 || 10iter. || 本イテレーションの正解率：0.875\n",
            "イテレーション 30 || Loss: 0.5408 || 10iter. || 本イテレーションの正解率：0.8125\n",
            "イテレーション 40 || Loss: 0.4655 || 10iter. || 本イテレーションの正解率：0.875\n",
            "イテレーション 50 || Loss: 0.2770 || 10iter. || 本イテレーションの正解率：0.9375\n",
            "イテレーション 60 || Loss: 0.6716 || 10iter. || 本イテレーションの正解率：0.75\n",
            "イテレーション 70 || Loss: 0.5493 || 10iter. || 本イテレーションの正解率：0.8125\n",
            "イテレーション 80 || Loss: 0.6460 || 10iter. || 本イテレーションの正解率：0.8125\n",
            "イテレーション 90 || Loss: 0.7454 || 10iter. || 本イテレーションの正解率：0.75\n",
            "イテレーション 100 || Loss: 0.8120 || 10iter. || 本イテレーションの正解率：0.6875\n",
            "イテレーション 110 || Loss: 0.8468 || 10iter. || 本イテレーションの正解率：0.6875\n",
            "イテレーション 120 || Loss: 0.2406 || 10iter. || 本イテレーションの正解率：0.9375\n",
            "イテレーション 130 || Loss: 0.3384 || 10iter. || 本イテレーションの正解率：0.8125\n",
            "イテレーション 140 || Loss: 0.5394 || 10iter. || 本イテレーションの正解率：0.875\n",
            "イテレーション 150 || Loss: 0.6377 || 10iter. || 本イテレーションの正解率：0.8125\n",
            "イテレーション 160 || Loss: 0.3490 || 10iter. || 本イテレーションの正解率：0.875\n",
            "イテレーション 170 || Loss: 0.1797 || 10iter. || 本イテレーションの正解率：1.0\n",
            "イテレーション 180 || Loss: 0.4519 || 10iter. || 本イテレーションの正解率：0.8125\n",
            "イテレーション 190 || Loss: 0.2705 || 10iter. || 本イテレーションの正解率：0.9375\n",
            "イテレーション 200 || Loss: 0.0903 || 10iter. || 本イテレーションの正解率：1.0\n",
            "イテレーション 210 || Loss: 0.5664 || 10iter. || 本イテレーションの正解率：0.875\n",
            "イテレーション 220 || Loss: 0.1916 || 10iter. || 本イテレーションの正解率：0.9375\n",
            "イテレーション 230 || Loss: 0.5713 || 10iter. || 本イテレーションの正解率：0.875\n",
            "イテレーション 240 || Loss: 0.3331 || 10iter. || 本イテレーションの正解率：0.9375\n",
            "イテレーション 250 || Loss: 0.7147 || 10iter. || 本イテレーションの正解率：0.75\n",
            "イテレーション 260 || Loss: 0.8023 || 10iter. || 本イテレーションの正解率：0.75\n",
            "イテレーション 270 || Loss: 0.1389 || 10iter. || 本イテレーションの正解率：1.0\n",
            "Epoch 1/3 | train |  Loss: 0.5295 Acc: 0.8282\n",
            "Epoch 1/3 |  val  |  Loss: 0.4094 Acc: 0.8731\n",
            "イテレーション 10 || Loss: 0.2705 || 10iter. || 本イテレーションの正解率：0.9375\n",
            "イテレーション 20 || Loss: 0.5369 || 10iter. || 本イテレーションの正解率：0.8125\n",
            "イテレーション 30 || Loss: 0.1382 || 10iter. || 本イテレーションの正解率：0.9375\n",
            "イテレーション 40 || Loss: 0.0373 || 10iter. || 本イテレーションの正解率：1.0\n",
            "イテレーション 50 || Loss: 0.5169 || 10iter. || 本イテレーションの正解率：0.9375\n",
            "イテレーション 60 || Loss: 0.1540 || 10iter. || 本イテレーションの正解率：0.9375\n",
            "イテレーション 70 || Loss: 0.5099 || 10iter. || 本イテレーションの正解率：0.9375\n",
            "イテレーション 80 || Loss: 0.0647 || 10iter. || 本イテレーションの正解率：1.0\n",
            "イテレーション 90 || Loss: 0.4791 || 10iter. || 本イテレーションの正解率：0.9375\n",
            "イテレーション 100 || Loss: 0.6425 || 10iter. || 本イテレーションの正解率：0.875\n",
            "イテレーション 110 || Loss: 0.2870 || 10iter. || 本イテレーションの正解率：0.9375\n",
            "イテレーション 120 || Loss: 0.4619 || 10iter. || 本イテレーションの正解率：0.9375\n",
            "イテレーション 130 || Loss: 0.2228 || 10iter. || 本イテレーションの正解率：0.875\n",
            "イテレーション 140 || Loss: 0.6417 || 10iter. || 本イテレーションの正解率：0.6875\n",
            "イテレーション 150 || Loss: 0.6784 || 10iter. || 本イテレーションの正解率：0.875\n",
            "イテレーション 160 || Loss: 0.2194 || 10iter. || 本イテレーションの正解率：0.9375\n",
            "イテレーション 170 || Loss: 0.3026 || 10iter. || 本イテレーションの正解率：0.9375\n",
            "イテレーション 180 || Loss: 0.3629 || 10iter. || 本イテレーションの正解率：0.875\n",
            "イテレーション 190 || Loss: 0.0554 || 10iter. || 本イテレーションの正解率：1.0\n",
            "イテレーション 200 || Loss: 0.1978 || 10iter. || 本イテレーションの正解率：0.9375\n",
            "イテレーション 210 || Loss: 0.0734 || 10iter. || 本イテレーションの正解率：0.9375\n",
            "イテレーション 220 || Loss: 0.1836 || 10iter. || 本イテレーションの正解率：0.9375\n",
            "イテレーション 230 || Loss: 0.2436 || 10iter. || 本イテレーションの正解率：0.9375\n",
            "イテレーション 240 || Loss: 0.3015 || 10iter. || 本イテレーションの正解率：0.875\n",
            "イテレーション 250 || Loss: 0.1036 || 10iter. || 本イテレーションの正解率：1.0\n",
            "イテレーション 260 || Loss: 0.3052 || 10iter. || 本イテレーションの正解率：0.9375\n",
            "イテレーション 270 || Loss: 0.1833 || 10iter. || 本イテレーションの正解率：0.9375\n",
            "Epoch 2/3 | train |  Loss: 0.2835 Acc: 0.9120\n",
            "Epoch 2/3 |  val  |  Loss: 0.2990 Acc: 0.9091\n",
            "イテレーション 10 || Loss: 0.1434 || 10iter. || 本イテレーションの正解率：1.0\n",
            "イテレーション 20 || Loss: 0.2255 || 10iter. || 本イテレーションの正解率：0.9375\n",
            "イテレーション 30 || Loss: 0.0459 || 10iter. || 本イテレーションの正解率：1.0\n",
            "イテレーション 40 || Loss: 0.2135 || 10iter. || 本イテレーションの正解率：0.9375\n",
            "イテレーション 50 || Loss: 0.2153 || 10iter. || 本イテレーションの正解率：0.9375\n",
            "イテレーション 60 || Loss: 0.2325 || 10iter. || 本イテレーションの正解率：0.9375\n",
            "イテレーション 70 || Loss: 0.0621 || 10iter. || 本イテレーションの正解率：1.0\n",
            "イテレーション 80 || Loss: 0.1196 || 10iter. || 本イテレーションの正解率：0.9375\n",
            "イテレーション 90 || Loss: 0.2383 || 10iter. || 本イテレーションの正解率：0.875\n",
            "イテレーション 100 || Loss: 0.2419 || 10iter. || 本イテレーションの正解率：0.875\n",
            "イテレーション 110 || Loss: 0.1364 || 10iter. || 本イテレーションの正解率：0.9375\n",
            "イテレーション 120 || Loss: 0.0665 || 10iter. || 本イテレーションの正解率：1.0\n",
            "イテレーション 130 || Loss: 0.0648 || 10iter. || 本イテレーションの正解率：1.0\n",
            "イテレーション 140 || Loss: 0.2218 || 10iter. || 本イテレーションの正解率：0.875\n",
            "イテレーション 150 || Loss: 0.5666 || 10iter. || 本イテレーションの正解率：0.8125\n",
            "イテレーション 160 || Loss: 0.1363 || 10iter. || 本イテレーションの正解率：0.9375\n",
            "イテレーション 170 || Loss: 0.3234 || 10iter. || 本イテレーションの正解率：0.875\n",
            "イテレーション 180 || Loss: 0.0537 || 10iter. || 本イテレーションの正解率：1.0\n",
            "イテレーション 190 || Loss: 0.1979 || 10iter. || 本イテレーションの正解率：0.9375\n",
            "イテレーション 200 || Loss: 0.0393 || 10iter. || 本イテレーションの正解率：1.0\n",
            "イテレーション 210 || Loss: 0.1925 || 10iter. || 本イテレーションの正解率：0.9375\n",
            "イテレーション 220 || Loss: 0.1956 || 10iter. || 本イテレーションの正解率：0.9375\n",
            "イテレーション 230 || Loss: 0.0734 || 10iter. || 本イテレーションの正解率：1.0\n",
            "イテレーション 240 || Loss: 0.0655 || 10iter. || 本イテレーションの正解率：1.0\n",
            "イテレーション 250 || Loss: 0.2082 || 10iter. || 本イテレーションの正解率：0.875\n",
            "イテレーション 260 || Loss: 0.2176 || 10iter. || 本イテレーションの正解率：0.9375\n",
            "イテレーション 270 || Loss: 0.1142 || 10iter. || 本イテレーションの正解率：1.0\n",
            "Epoch 3/3 | train |  Loss: 0.1887 Acc: 0.9416\n",
            "Epoch 3/3 |  val  |  Loss: 0.2664 Acc: 0.9179\n"
          ]
        }
      ]
    },
    {
      "cell_type": "code",
      "source": [
        "# モデル保存\n",
        "# CPU版\n",
        "save_path = \"./drive/MyDrive/Colab_Notebooks/model/single_bert_fine_tuning_livedoor_cpu.pth\"\n",
        "torch.save(net_trained.to('cpu').state_dict(), save_path)\n",
        "\n",
        "# GPU版\n",
        "save_path = \"./drive/MyDrive/Colab_Notebooks/model/single_bert_fine_tuning_livedoor_gpu.pth\"\n",
        "torch.save(net_trained.state_dict(), save_path)"
      ],
      "metadata": {
        "id": "2OuR41Bu44LS"
      },
      "execution_count": 21,
      "outputs": []
    },
    {
      "cell_type": "code",
      "source": [
        "from tqdm import tqdm\n",
        "\n",
        "# テストデータでの正解率を求める\n",
        "device = torch.device(\"cuda:0\" if torch.cuda.is_available() else \"cpu\")\n",
        "\n",
        "net_trained.eval()   # モデルを検証モードに\n",
        "net_trained.to(device)  # GPUが使えるならGPUへ送る\n",
        "\n",
        "# epochの正解数を記録する変数\n",
        "epoch_corrects = 0\n",
        "\n",
        "for batch in tqdm(dataloader_test):  # testデータのDataLoader\n",
        "    # batchはTextとLableの辞書オブジェクト\n",
        "    # GPUが使えるならGPUにデータを送る\n",
        "    inputs = batch[\"ids\"][0].to(device)  # 文章\n",
        "    labels = batch[\"label\"].to(device)  # ラベル\n",
        "\n",
        "    # 順伝搬（forward）計算\n",
        "    with torch.set_grad_enabled(False):\n",
        "\n",
        "        # BertForLivedoorに入力\n",
        "        outputs = net_trained(inputs, attention_show_flg=False)\n",
        "\n",
        "        loss = criterion(outputs, labels)  # 損失を計算\n",
        "        _, preds = torch.max(outputs, 1)  # ラベルを予測\n",
        "        epoch_corrects += torch.sum(preds == labels.data)  # 正解数の合計を更新\n",
        "\n",
        "# 正解率\n",
        "epoch_acc = epoch_corrects.double() / len(dataloader_test.dataset)\n",
        "\n",
        "print('テストデータ{}個での正解率：{:.4f}'.format(len(dataloader_test.dataset), epoch_acc))"
      ],
      "metadata": {
        "colab": {
          "base_uri": "https://localhost:8080/"
        },
        "id": "XDzzCqhOZzEh",
        "outputId": "65ffe353-227b-41eb-9085-134e739d4318"
      },
      "execution_count": null,
      "outputs": [
        {
          "output_type": "stream",
          "name": "stderr",
          "text": [
            "100%|██████████| 93/93 [00:25<00:00,  3.63it/s]"
          ]
        },
        {
          "output_type": "stream",
          "name": "stdout",
          "text": [
            "テストデータ1474個での正解率：0.9227\n"
          ]
        },
        {
          "output_type": "stream",
          "name": "stderr",
          "text": [
            "\n"
          ]
        }
      ]
    },
    {
      "cell_type": "markdown",
      "source": [
        "# Attentionの可視化"
      ],
      "metadata": {
        "id": "lBy_yin5mqnW"
      }
    },
    {
      "cell_type": "code",
      "source": [
        "# BertForIMDbで処理\n",
        "\n",
        "# ミニバッチの用意\n",
        "batch = next(iter(dataloader_test))\n",
        "\n",
        "# GPUが使えるならGPUにデータを送る\n",
        "device = torch.device(\"cuda:0\" if torch.cuda.is_available() else \"cpu\")\n",
        "inputs = batch[\"ids\"][0].to(device)  # 文章\n",
        "labels = batch[\"label\"].to(device)  # ラベル\n",
        "\n",
        "outputs, attention_probs = net_trained(inputs, attention_show_flg=True)\n",
        "\n",
        "_, preds = torch.max(outputs, 1)  # ラベルを予測\n"
      ],
      "metadata": {
        "id": "EHr6gDHTmu7z"
      },
      "execution_count": null,
      "outputs": []
    },
    {
      "cell_type": "code",
      "source": [
        "attention_probs.size()"
      ],
      "metadata": {
        "colab": {
          "base_uri": "https://localhost:8080/"
        },
        "id": "9s5sOzrEmuyT",
        "outputId": "5629fa2a-9886-48c4-84c9-5b1af6db2b5a"
      },
      "execution_count": null,
      "outputs": [
        {
          "output_type": "execute_result",
          "data": {
            "text/plain": [
              "torch.Size([16, 12, 512, 512])"
            ]
          },
          "metadata": {},
          "execution_count": 75
        }
      ]
    },
    {
      "cell_type": "code",
      "source": [
        "id2label = {\n",
        "    0: 'dokujo-tsushin', \n",
        "    1: 'it-life-hack', \n",
        "    2: 'smax', \n",
        "    3: 'sports-watch', \n",
        "    4: 'kaden-channel', \n",
        "    5: 'movie-enter', \n",
        "    6: 'topic-news', \n",
        "    7: 'livedoor-homme', \n",
        "    8: 'peachy'\n",
        "}"
      ],
      "metadata": {
        "id": "k_iFpBe_nJNJ"
      },
      "execution_count": null,
      "outputs": []
    },
    {
      "cell_type": "code",
      "source": [
        "# HTMLを作成する関数を実装\n",
        "\n",
        "\n",
        "def highlight(word, attn):\n",
        "    '''\n",
        "    Attentionの値が大きいと文字の背景が濃い赤になるhtmlを出力させる関数\n",
        "    '''\n",
        "\n",
        "    html_color = '#%02X%02X%02X' % (\n",
        "        255, int(255*(1 - attn)), int(255*(1 - attn)))\n",
        "    return '<span style=\"background-color: {}\"> {}</span>'.format(html_color, word)\n",
        "\n",
        "\n",
        "def mk_html(index, batch, preds, normlized_weights):\n",
        "    '''\n",
        "    HTMLデータを作成する\n",
        "    '''\n",
        "\n",
        "    # indexの結果を抽出\n",
        "    sentence = batch[\"ids\"][0][index]  # 文章\n",
        "    label = batch[\"label\"][index]  # ラベル\n",
        "    pred = preds[index]  # 予測\n",
        "\n",
        "    # ラベルと予測結果を文字に置き換え\n",
        "    label_str = id2label[label.item()]\n",
        "    pred_str = id2label[pred.item()]\n",
        "\n",
        "    # 表示用のHTMLを作成する\n",
        "    html = f\"正解ラベル：{label_str}<br>推論ラベル：{pred_str}<br><br>\"\n",
        "\n",
        "    # Self-Attentionの重みを可視化。Multi-Headが12個なので、12種類のアテンションが存在\n",
        "    for i in range(12):\n",
        "\n",
        "        # indexのAttentionを抽出と規格化\n",
        "        # 0単語目[CLS]の、i番目のMulti-Head Attentionを取り出す\n",
        "        # indexはミニバッチの何個目のデータかをしめす\n",
        "        attens = normlized_weights[index, i, 0, :]\n",
        "        attens /= attens.max()\n",
        "\n",
        "        html += '[BERTのAttentionを可視化_' + str(i+1) + ']<br>'\n",
        "        for word, attn in zip(sentence, attens):\n",
        "\n",
        "            # 単語が[SEP]の場合は文章が終わりなのでbreak\n",
        "            if tokenizer.convert_ids_to_tokens([word.numpy().tolist()])[0] == \"[SEP]\":\n",
        "                break\n",
        "\n",
        "            # 関数highlightで色をつける、関数tokenizer_bert.convert_ids_to_tokensでIDを単語に戻す\n",
        "            html += highlight(tokenizer.convert_ids_to_tokens(\n",
        "                [word.numpy().tolist()])[0], attn)\n",
        "        html += \"<br><br>\"\n",
        "\n",
        "    # 12種類のAttentionの平均を求める。最大値で規格化\n",
        "    all_attens = attens*0  # all_attensという変数を作成する\n",
        "    for i in range(12):\n",
        "        attens += normlized_weights[index, i, 0, :]\n",
        "    attens /= attens.max()\n",
        "\n",
        "    html += '[BERTのAttentionを可視化_ALL]<br>'\n",
        "    for word, attn in zip(sentence, attens):\n",
        "\n",
        "        # 単語が[SEP]の場合は文章が終わりなのでbreak\n",
        "        if tokenizer.convert_ids_to_tokens([word.numpy().tolist()])[0] == \"[SEP]\":\n",
        "            break\n",
        "\n",
        "        # 関数highlightで色をつける、関数tokenizer_bert.convert_ids_to_tokensでIDを単語に戻す\n",
        "        html += highlight(tokenizer.convert_ids_to_tokens(\n",
        "            [word.numpy().tolist()])[0], attn)\n",
        "    html += \"<br><br>\"\n",
        "\n",
        "    return html\n"
      ],
      "metadata": {
        "id": "UVdJ0Sg4mx6J"
      },
      "execution_count": null,
      "outputs": []
    },
    {
      "cell_type": "code",
      "source": [
        "from IPython.display import HTML\n",
        "\n",
        "index = 2  # 出力させたいデータ\n",
        "html_output = mk_html(index, batch, preds, attention_probs)  # HTML作成\n",
        "HTML(html_output)  # HTML形式で出力\n"
      ],
      "metadata": {
        "colab": {
          "base_uri": "https://localhost:8080/",
          "height": 1000
        },
        "id": "kgYZYjfkmyqS",
        "outputId": "61f3ca77-ada1-474f-952b-7494f2db8c2e"
      },
      "execution_count": null,
      "outputs": [
        {
          "output_type": "execute_result",
          "data": {
            "text/plain": [
              "<IPython.core.display.HTML object>"
            ],
            "text/html": [
              "正解ラベル：livedoor-homme<br>推論ラベル：livedoor-homme<br><br>[BERTのAttentionを可視化_1]<br><span style=\"background-color: #FFFEFE\"> [CLS]</span><span style=\"background-color: #FFFEFE\"> ヒ</span><span style=\"background-color: #FFFEFE\"> ##ョー</span><span style=\"background-color: #FFFEFE\"> ##ドル</span><span style=\"background-color: #FFFEFE\"> 戦</span><span style=\"background-color: #FFFEFE\"> で</span><span style=\"background-color: #FFFEFE\"> KO</span><span style=\"background-color: #FFFEFE\"> さ</span><span style=\"background-color: #FFFEFE\"> れ</span><span style=\"background-color: #FFFEFE\"> 病院</span><span style=\"background-color: #FFFEFE\"> に</span><span style=\"background-color: #FFFEFE\"> 直行</span><span style=\"background-color: #FFFEFE\"> し</span><span style=\"background-color: #FFFEFE\"> た</span><span style=\"background-color: #FFFEFE\"> 石井</span><span style=\"background-color: #FFFEFE\"> 慧</span><span style=\"background-color: #FFFEFE\"> について</span><span style=\"background-color: #FFFEFE\"> 、</span><span style=\"background-color: #FFFDFD\"> 30</span><span style=\"background-color: #FFFEFE\"> 日</span><span style=\"background-color: #FFFEFE\"> に</span><span style=\"background-color: #FFFEFE\"> 脳</span><span style=\"background-color: #FFFEFE\"> 障害</span><span style=\"background-color: #FFFEFE\"> により</span><span style=\"background-color: #FFFEFE\"> 引退</span><span style=\"background-color: #FFFEFE\"> 危機</span><span style=\"background-color: #FFFDFD\"> という</span><span style=\"background-color: #FFEEEE\"> 報道</span><span style=\"background-color: #FFFDFD\"> が</span><span style=\"background-color: #FFFEFE\"> 行なわ</span><span style=\"background-color: #FFFDFD\"> れ</span><span style=\"background-color: #FFFBFB\"> た</span><span style=\"background-color: #FFFEFE\"> 。</span><span style=\"background-color: #FF0000\"> 記事</span><span style=\"background-color: #FFFCFC\"> に</span><span style=\"background-color: #FFFDFD\"> は</span><span style=\"background-color: #FFFEFE\"> 「</span><span style=\"background-color: #FFFBFB\"> 一説</span><span style=\"background-color: #FFF7F7\"> に</span><span style=\"background-color: #FFFDFD\"> は</span><span style=\"background-color: #FFFEFE\"> 『</span><span style=\"background-color: #FFFEFE\"> 脳</span><span style=\"background-color: #FFFEFE\"> 浮</span><span style=\"background-color: #FFFEFE\"> ##腫</span><span style=\"background-color: #FFFDFD\"> 』</span><span style=\"background-color: #FFFEFE\"> と</span><span style=\"background-color: #FFFEFE\"> も</span><span style=\"background-color: #FFFCFC\"> 言わ</span><span style=\"background-color: #FFFCFC\"> れ</span><span style=\"background-color: #FFFEFE\"> て</span><span style=\"background-color: #FFFAFA\"> い</span><span style=\"background-color: #FFFDFD\"> ます</span><span style=\"background-color: #FFFDFD\"> 」</span><span style=\"background-color: #FFFEFE\"> (</span><span style=\"background-color: #FFFEFE\"> 格闘技</span><span style=\"background-color: #FFFCFC\"> 事情</span><span style=\"background-color: #FFFBFB\"> 通</span><span style=\"background-color: #FFFCFC\"> )</span><span style=\"background-color: #FFFCFC\"> と</span><span style=\"background-color: #FFF6F6\"> あり</span><span style=\"background-color: #FFFDFD\"> 、</span><span style=\"background-color: #FFFEFE\"> 石井</span><span style=\"background-color: #FFFEFE\"> の</span><span style=\"background-color: #FFFEFE\"> 容</span><span style=\"background-color: #FFFBFB\"> ##態</span><span style=\"background-color: #FFFDFD\"> は</span><span style=\"background-color: #FFFDFD\"> 深刻</span><span style=\"background-color: #FFFDFD\"> な</span><span style=\"background-color: #FFFDFD\"> もの</span><span style=\"background-color: #FFF1F1\"> と</span><span style=\"background-color: #FFE0E0\"> 思わ</span><span style=\"background-color: #FFC8C8\"> れ</span><span style=\"background-color: #FFE7E7\"> た</span><span style=\"background-color: #FFFEFE\"> 。</span><span style=\"background-color: #FFF9F9\"> しかし</span><span style=\"background-color: #FFFDFD\"> 、</span><span style=\"background-color: #FFFDFD\"> この</span><span style=\"background-color: #FFFAFA\"> 件</span><span style=\"background-color: #FFFDFD\"> について</span><span style=\"background-color: #FFFEFE\"> 元</span><span style=\"background-color: #FFFEFE\"> DEEP</span><span style=\"background-color: #FFFEFE\"> ミドル</span><span style=\"background-color: #FFFEFE\"> 級</span><span style=\"background-color: #FFFCFC\"> 王者</span><span style=\"background-color: #FFFEFE\"> で</span><span style=\"background-color: #FFFEFE\"> ある</span><span style=\"background-color: #FFFEFE\"> 長</span><span style=\"background-color: #FFFEFE\"> ##南</span><span style=\"background-color: #FFFEFE\"> 亮</span><span style=\"background-color: #FFFEFE\"> (</span><span style=\"background-color: #FFFEFE\"> ちょう</span><span style=\"background-color: #FFFEFE\"> なん</span><span style=\"background-color: #FFFEFE\"> ・</span><span style=\"background-color: #FFFEFE\"> りょう</span><span style=\"background-color: #FFFEFE\"> )</span><span style=\"background-color: #FFFEFE\"> は</span><span style=\"background-color: #FFFEFE\"> 真っ</span><span style=\"background-color: #FFFEFE\"> ##向</span><span style=\"background-color: #FFFDFD\"> から</span><span style=\"background-color: #FFFCFC\"> 否定</span><span style=\"background-color: #FFFDFD\"> 。</span><span style=\"background-color: #FFFEFE\"> 自身</span><span style=\"background-color: #FFFEFE\"> の</span><span style=\"background-color: #FFFEFE\"> ツイッター</span><span style=\"background-color: #FFFEFE\"> にて</span><span style=\"background-color: #FFFEFE\"> 「</span><span style=\"background-color: #FFFEFE\"> 石井</span><span style=\"background-color: #FFFEFE\"> 慧</span><span style=\"background-color: #FFFEFE\"> の</span><span style=\"background-color: #FFFEFE\"> 体調</span><span style=\"background-color: #FFFEFE\"> は</span><span style=\"background-color: #FFFCFC\"> 良好</span><span style=\"background-color: #FFFEFE\"> だ</span><span style=\"background-color: #FFFEFE\"> そう</span><span style=\"background-color: #FFFEFE\"> です</span><span style=\"background-color: #FFFEFE\"> 。</span><span style=\"background-color: #FFFEFE\"> 」</span><span style=\"background-color: #FFFEFE\"> と</span><span style=\"background-color: #FFFAFA\"> コメント</span><span style=\"background-color: #FFFCFC\"> 、</span><span style=\"background-color: #FFFEFE\"> さらに</span><span style=\"background-color: #FFFEFE\"> 「</span><span style=\"background-color: #FFFEFE\"> 人</span><span style=\"background-color: #FFFEFE\"> の</span><span style=\"background-color: #FFFEFE\"> 人生</span><span style=\"background-color: #FFFEFE\"> や</span><span style=\"background-color: #FFFEFE\"> 生命</span><span style=\"background-color: #FFFEFE\"> に</span><span style=\"background-color: #FFFEFE\"> 関わる</span><span style=\"background-color: #FFFEFE\"> こと</span><span style=\"background-color: #FFFEFE\"> を</span><span style=\"background-color: #FFFEFE\"> 平</span><span style=\"background-color: #FFFEFE\"> ##気</span><span style=\"background-color: #FFFEFE\"> で</span><span style=\"background-color: #FFFEFE\"> ガ</span><span style=\"background-color: #FFFEFE\"> ##セ</span><span style=\"background-color: #FFFEFE\"> 流す</span><span style=\"background-color: #FFFEFE\"> 奴</span><span style=\"background-color: #FFFEFE\"> は</span><span style=\"background-color: #FFFEFE\"> 死ん</span><span style=\"background-color: #FFFEFE\"> だ</span><span style=\"background-color: #FFFEFE\"> ほう</span><span style=\"background-color: #FFFEFE\"> が</span><span style=\"background-color: #FFFEFE\"> 世</span><span style=\"background-color: #FFFEFE\"> の</span><span style=\"background-color: #FFFEFE\"> 為</span><span style=\"background-color: #FFFEFE\"> 。</span><span style=\"background-color: #FFFDFD\"> 」</span><span style=\"background-color: #FFFDFD\"> と</span><span style=\"background-color: #FFFCFC\"> 怒り</span><span style=\"background-color: #FFFEFE\"> の</span><span style=\"background-color: #FFFCFC\"> ツイート</span><span style=\"background-color: #FFFCFC\"> を</span><span style=\"background-color: #FFF8F8\"> し</span><span style=\"background-color: #FFFBFB\"> て</span><span style=\"background-color: #FFFCFC\"> いる</span><span style=\"background-color: #FFFEFE\"> 。</span><span style=\"background-color: #FFFBFB\"> これ</span><span style=\"background-color: #FFFBFB\"> を</span><span style=\"background-color: #FFF6F6\"> もっ</span><span style=\"background-color: #FFFCFC\"> て</span><span style=\"background-color: #FFFEFE\"> 、</span><span style=\"background-color: #FFFEFE\"> 石井</span><span style=\"background-color: #FFFEFE\"> の</span><span style=\"background-color: #FFFEFE\"> 体調</span><span style=\"background-color: #FFFBFB\"> 不良</span><span style=\"background-color: #FFFEFE\"> が</span><span style=\"background-color: #FFFEFE\"> ただちに</span><span style=\"background-color: #FFFDFD\"> 否定</span><span style=\"background-color: #FFFCFC\"> さ</span><span style=\"background-color: #FFFCFC\"> れ</span><span style=\"background-color: #FFF4F4\"> た</span><span style=\"background-color: #FFFAFA\"> わけ</span><span style=\"background-color: #FFF8F8\"> で</span><span style=\"background-color: #FFFDFD\"> は</span><span style=\"background-color: #FFFCFC\"> ない</span><span style=\"background-color: #FFFEFE\"> 。</span><span style=\"background-color: #FFFCFC\"> しかし</span><span style=\"background-color: #FFFEFE\"> 、</span><span style=\"background-color: #FFFEFE\"> 石井</span><span style=\"background-color: #FFFEFE\"> から</span><span style=\"background-color: #FFFEFE\"> 近</span><span style=\"background-color: #FFFEFE\"> ##しい</span><span style=\"background-color: #FFFEFE\"> と</span><span style=\"background-color: #FFFDFD\"> 思わ</span><span style=\"background-color: #FFFEFE\"> れる</span><span style=\"background-color: #FFFEFE\"> 人間</span><span style=\"background-color: #FFFEFE\"> から</span><span style=\"background-color: #FFFEFE\"> の</span><span style=\"background-color: #FFFAFA\"> 情報</span><span style=\"background-color: #FFFDFD\"> で</span><span style=\"background-color: #FFFEFE\"> あり</span><span style=\"background-color: #FFFEFE\"> 、</span><span style=\"background-color: #FFFEFE\"> 信</span><span style=\"background-color: #FFFEFE\"> ##ぴ</span><span style=\"background-color: #FFFEFE\"> ##ょう</span><span style=\"background-color: #FFFEFE\"> 性</span><span style=\"background-color: #FFFEFE\"> は</span><span style=\"background-color: #FFFDFD\"> 高い</span><span style=\"background-color: #FFFDFD\"> と</span><span style=\"background-color: #FFFCFC\"> いえる</span><span style=\"background-color: #FFFDFD\"> だろ</span><span style=\"background-color: #FFFDFD\"> う</span><span style=\"background-color: #FFFEFE\"> 。</span><span style=\"background-color: #FFFDFD\"> この</span><span style=\"background-color: #FFFCFC\"> 件</span><span style=\"background-color: #FFFDFD\"> について</span><span style=\"background-color: #FFFEFE\"> 、</span><span style=\"background-color: #FFFEFE\"> 格闘技</span><span style=\"background-color: #FFFEFE\"> ファン</span><span style=\"background-color: #FFFCFC\"> から</span><span style=\"background-color: #FFFEFE\"> は</span><span style=\"background-color: #FFFEFE\"> 「</span><span style=\"background-color: #FFFCFC\"> 良かっ</span><span style=\"background-color: #FFF8F8\"> た</span><span style=\"background-color: #FFFEFE\"> 、</span><span style=\"background-color: #FFFDFD\"> 引退</span><span style=\"background-color: #FFFEFE\"> する</span><span style=\"background-color: #FFFEFE\"> 石井</span><span style=\"background-color: #FFFEFE\"> は</span><span style=\"background-color: #FFFEFE\"> 居</span><span style=\"background-color: #FFFEFE\"> なかっ</span><span style=\"background-color: #FFFDFD\"> た</span><span style=\"background-color: #FFFEFE\"> ん</span><span style=\"background-color: #FFFEFE\"> だ</span><span style=\"background-color: #FFFEFE\"> ...」</span><span style=\"background-color: #FFFEFE\"> ##「</span><span style=\"background-color: #FFFEFE\"> とり</span><span style=\"background-color: #FFFEFE\"> ##あ</span><span style=\"background-color: #FFFDFD\"> ##えず</span><span style=\"background-color: #FFFEFE\"> よかっ</span><span style=\"background-color: #FFF8F8\"> た</span><span style=\"background-color: #FFFEFE\"> 」</span><span style=\"background-color: #FFFDFD\"> といった</span><span style=\"background-color: #FFFDFD\"> 安堵</span><span style=\"background-color: #FFFEFE\"> の</span><span style=\"background-color: #FFF8F8\"> コメント</span><span style=\"background-color: #FFF7F7\"> が</span><span style=\"background-color: #FFFAFA\"> 並ん</span><span style=\"background-color: #FFF8F8\"> で</span><span style=\"background-color: #FFF5F5\"> いる</span><span style=\"background-color: #FFFEFE\"> 。</span><br><br>[BERTのAttentionを可視化_2]<br><span style=\"background-color: #FFFEFE\"> [CLS]</span><span style=\"background-color: #FFFEFE\"> ヒ</span><span style=\"background-color: #FFFEFE\"> ##ョー</span><span style=\"background-color: #FFFEFE\"> ##ドル</span><span style=\"background-color: #FFFBFB\"> 戦</span><span style=\"background-color: #FFFEFE\"> で</span><span style=\"background-color: #FFFEFE\"> KO</span><span style=\"background-color: #FFFEFE\"> さ</span><span style=\"background-color: #FFFEFE\"> れ</span><span style=\"background-color: #FFFEFE\"> 病院</span><span style=\"background-color: #FFFEFE\"> に</span><span style=\"background-color: #FFFEFE\"> 直行</span><span style=\"background-color: #FFFEFE\"> し</span><span style=\"background-color: #FFFEFE\"> た</span><span style=\"background-color: #FFFEFE\"> 石井</span><span style=\"background-color: #FFFEFE\"> 慧</span><span style=\"background-color: #FFDEDE\"> について</span><span style=\"background-color: #FFFEFE\"> 、</span><span style=\"background-color: #FFFEFE\"> 30</span><span style=\"background-color: #FFFEFE\"> 日</span><span style=\"background-color: #FFFEFE\"> に</span><span style=\"background-color: #FFFEFE\"> 脳</span><span style=\"background-color: #FFFEFE\"> 障害</span><span style=\"background-color: #FFFEFE\"> により</span><span style=\"background-color: #FFFEFE\"> 引退</span><span style=\"background-color: #FFFEFE\"> 危機</span><span style=\"background-color: #FFFCFC\"> という</span><span style=\"background-color: #FFE8E8\"> 報道</span><span style=\"background-color: #FFFEFE\"> が</span><span style=\"background-color: #FFDBDB\"> 行なわ</span><span style=\"background-color: #FFFCFC\"> れ</span><span style=\"background-color: #FFFCFC\"> た</span><span style=\"background-color: #FFFEFE\"> 。</span><span style=\"background-color: #FFEFEF\"> 記事</span><span style=\"background-color: #FFFCFC\"> に</span><span style=\"background-color: #FFFEFE\"> は</span><span style=\"background-color: #FFFEFE\"> 「</span><span style=\"background-color: #FFFEFE\"> 一説</span><span style=\"background-color: #FFFEFE\"> に</span><span style=\"background-color: #FFFEFE\"> は</span><span style=\"background-color: #FFFEFE\"> 『</span><span style=\"background-color: #FFFEFE\"> 脳</span><span style=\"background-color: #FFFEFE\"> 浮</span><span style=\"background-color: #FFFEFE\"> ##腫</span><span style=\"background-color: #FFFEFE\"> 』</span><span style=\"background-color: #FFFEFE\"> と</span><span style=\"background-color: #FFFEFE\"> も</span><span style=\"background-color: #FFFEFE\"> 言わ</span><span style=\"background-color: #FFFEFE\"> れ</span><span style=\"background-color: #FFFEFE\"> て</span><span style=\"background-color: #FFFEFE\"> い</span><span style=\"background-color: #FFFEFE\"> ます</span><span style=\"background-color: #FFFEFE\"> 」</span><span style=\"background-color: #FFFEFE\"> (</span><span style=\"background-color: #FFFEFE\"> 格闘技</span><span style=\"background-color: #FFFEFE\"> 事情</span><span style=\"background-color: #FFFDFD\"> 通</span><span style=\"background-color: #FFFDFD\"> )</span><span style=\"background-color: #FFFDFD\"> と</span><span style=\"background-color: #FFFBFB\"> あり</span><span style=\"background-color: #FFFEFE\"> 、</span><span style=\"background-color: #FFFEFE\"> 石井</span><span style=\"background-color: #FFFEFE\"> の</span><span style=\"background-color: #FFFEFE\"> 容</span><span style=\"background-color: #FFFEFE\"> ##態</span><span style=\"background-color: #FFFEFE\"> は</span><span style=\"background-color: #FFFEFE\"> 深刻</span><span style=\"background-color: #FFFEFE\"> な</span><span style=\"background-color: #FFFEFE\"> もの</span><span style=\"background-color: #FFFEFE\"> と</span><span style=\"background-color: #FFFEFE\"> 思わ</span><span style=\"background-color: #FFFEFE\"> れ</span><span style=\"background-color: #FFFEFE\"> た</span><span style=\"background-color: #FFFEFE\"> 。</span><span style=\"background-color: #FFFEFE\"> しかし</span><span style=\"background-color: #FFFEFE\"> 、</span><span style=\"background-color: #FFFEFE\"> この</span><span style=\"background-color: #FFFEFE\"> 件</span><span style=\"background-color: #FFFDFD\"> について</span><span style=\"background-color: #FFFEFE\"> 元</span><span style=\"background-color: #FFFEFE\"> DEEP</span><span style=\"background-color: #FFFEFE\"> ミドル</span><span style=\"background-color: #FFFEFE\"> 級</span><span style=\"background-color: #FFFEFE\"> 王者</span><span style=\"background-color: #FFFEFE\"> で</span><span style=\"background-color: #FFFEFE\"> ある</span><span style=\"background-color: #FFFEFE\"> 長</span><span style=\"background-color: #FFFEFE\"> ##南</span><span style=\"background-color: #FFFEFE\"> 亮</span><span style=\"background-color: #FFFEFE\"> (</span><span style=\"background-color: #FFFEFE\"> ちょう</span><span style=\"background-color: #FFFEFE\"> なん</span><span style=\"background-color: #FFFEFE\"> ・</span><span style=\"background-color: #FFFEFE\"> りょう</span><span style=\"background-color: #FFFEFE\"> )</span><span style=\"background-color: #FFFDFD\"> は</span><span style=\"background-color: #FFFEFE\"> 真っ</span><span style=\"background-color: #FFFEFE\"> ##向</span><span style=\"background-color: #FFFEFE\"> から</span><span style=\"background-color: #FFF6F6\"> 否定</span><span style=\"background-color: #FFFDFD\"> 。</span><span style=\"background-color: #FFFEFE\"> 自身</span><span style=\"background-color: #FFFEFE\"> の</span><span style=\"background-color: #FFFEFE\"> ツイッター</span><span style=\"background-color: #FFF2F2\"> にて</span><span style=\"background-color: #FFFEFE\"> 「</span><span style=\"background-color: #FFFEFE\"> 石井</span><span style=\"background-color: #FFFEFE\"> 慧</span><span style=\"background-color: #FFFEFE\"> の</span><span style=\"background-color: #FFFEFE\"> 体調</span><span style=\"background-color: #FFFEFE\"> は</span><span style=\"background-color: #FFFEFE\"> 良好</span><span style=\"background-color: #FFFEFE\"> だ</span><span style=\"background-color: #FFFEFE\"> そう</span><span style=\"background-color: #FFFEFE\"> です</span><span style=\"background-color: #FFFEFE\"> 。</span><span style=\"background-color: #FFFEFE\"> 」</span><span style=\"background-color: #FFFEFE\"> と</span><span style=\"background-color: #FFFEFE\"> コメント</span><span style=\"background-color: #FFFEFE\"> 、</span><span style=\"background-color: #FFFEFE\"> さらに</span><span style=\"background-color: #FFFEFE\"> 「</span><span style=\"background-color: #FFFFFF\"> 人</span><span style=\"background-color: #FFFEFE\"> の</span><span style=\"background-color: #FFFEFE\"> 人生</span><span style=\"background-color: #FFFFFF\"> や</span><span style=\"background-color: #FFFFFF\"> 生命</span><span style=\"background-color: #FFFEFE\"> に</span><span style=\"background-color: #FFFEFE\"> 関わる</span><span style=\"background-color: #FFFEFE\"> こと</span><span style=\"background-color: #FFFEFE\"> を</span><span style=\"background-color: #FFFEFE\"> 平</span><span style=\"background-color: #FFFEFE\"> ##気</span><span style=\"background-color: #FFFEFE\"> で</span><span style=\"background-color: #FFFEFE\"> ガ</span><span style=\"background-color: #FFFEFE\"> ##セ</span><span style=\"background-color: #FFFEFE\"> 流す</span><span style=\"background-color: #FFFEFE\"> 奴</span><span style=\"background-color: #FFFEFE\"> は</span><span style=\"background-color: #FFFEFE\"> 死ん</span><span style=\"background-color: #FFFEFE\"> だ</span><span style=\"background-color: #FFFEFE\"> ほう</span><span style=\"background-color: #FFFEFE\"> が</span><span style=\"background-color: #FFFEFE\"> 世</span><span style=\"background-color: #FFFEFE\"> の</span><span style=\"background-color: #FFFEFE\"> 為</span><span style=\"background-color: #FFFEFE\"> 。</span><span style=\"background-color: #FFFEFE\"> 」</span><span style=\"background-color: #FFFDFD\"> と</span><span style=\"background-color: #FFFEFE\"> 怒り</span><span style=\"background-color: #FFFEFE\"> の</span><span style=\"background-color: #FFFBFB\"> ツイート</span><span style=\"background-color: #FFFEFE\"> を</span><span style=\"background-color: #FFFDFD\"> し</span><span style=\"background-color: #FFFCFC\"> て</span><span style=\"background-color: #FFFCFC\"> いる</span><span style=\"background-color: #FFFEFE\"> 。</span><span style=\"background-color: #FFFEFE\"> これ</span><span style=\"background-color: #FFFEFE\"> を</span><span style=\"background-color: #FFFEFE\"> もっ</span><span style=\"background-color: #FFFEFE\"> て</span><span style=\"background-color: #FFFEFE\"> 、</span><span style=\"background-color: #FFFEFE\"> 石井</span><span style=\"background-color: #FFFEFE\"> の</span><span style=\"background-color: #FFFEFE\"> 体調</span><span style=\"background-color: #FFFEFE\"> 不良</span><span style=\"background-color: #FFFEFE\"> が</span><span style=\"background-color: #FFFEFE\"> ただちに</span><span style=\"background-color: #FFFEFE\"> 否定</span><span style=\"background-color: #FFFEFE\"> さ</span><span style=\"background-color: #FFFEFE\"> れ</span><span style=\"background-color: #FFFEFE\"> た</span><span style=\"background-color: #FFFEFE\"> わけ</span><span style=\"background-color: #FFFEFE\"> で</span><span style=\"background-color: #FFFEFE\"> は</span><span style=\"background-color: #FFFEFE\"> ない</span><span style=\"background-color: #FFFEFE\"> 。</span><span style=\"background-color: #FFFEFE\"> しかし</span><span style=\"background-color: #FFFEFE\"> 、</span><span style=\"background-color: #FFFEFE\"> 石井</span><span style=\"background-color: #FFFEFE\"> から</span><span style=\"background-color: #FFFEFE\"> 近</span><span style=\"background-color: #FFFEFE\"> ##しい</span><span style=\"background-color: #FFFEFE\"> と</span><span style=\"background-color: #FFFEFE\"> 思わ</span><span style=\"background-color: #FFFEFE\"> れる</span><span style=\"background-color: #FFFEFE\"> 人間</span><span style=\"background-color: #FFFEFE\"> から</span><span style=\"background-color: #FFFEFE\"> の</span><span style=\"background-color: #FFFEFE\"> 情報</span><span style=\"background-color: #FFFEFE\"> で</span><span style=\"background-color: #FFFEFE\"> あり</span><span style=\"background-color: #FFFEFE\"> 、</span><span style=\"background-color: #FFFEFE\"> 信</span><span style=\"background-color: #FFFEFE\"> ##ぴ</span><span style=\"background-color: #FFFEFE\"> ##ょう</span><span style=\"background-color: #FFFDFD\"> 性</span><span style=\"background-color: #FFFEFE\"> は</span><span style=\"background-color: #FFFEFE\"> 高い</span><span style=\"background-color: #FFFEFE\"> と</span><span style=\"background-color: #FFFEFE\"> いえる</span><span style=\"background-color: #FFFEFE\"> だろ</span><span style=\"background-color: #FFFEFE\"> う</span><span style=\"background-color: #FFFEFE\"> 。</span><span style=\"background-color: #FFFEFE\"> この</span><span style=\"background-color: #FFFBFB\"> 件</span><span style=\"background-color: #FFE5E5\"> について</span><span style=\"background-color: #FFFEFE\"> 、</span><span style=\"background-color: #FFFEFE\"> 格闘技</span><span style=\"background-color: #FFFDFD\"> ファン</span><span style=\"background-color: #FF0000\"> から</span><span style=\"background-color: #FFF2F2\"> は</span><span style=\"background-color: #FFFEFE\"> 「</span><span style=\"background-color: #FFFEFE\"> 良かっ</span><span style=\"background-color: #FFFEFE\"> た</span><span style=\"background-color: #FFFEFE\"> 、</span><span style=\"background-color: #FFFEFE\"> 引退</span><span style=\"background-color: #FFFEFE\"> する</span><span style=\"background-color: #FFFEFE\"> 石井</span><span style=\"background-color: #FFFEFE\"> は</span><span style=\"background-color: #FFFEFE\"> 居</span><span style=\"background-color: #FFFEFE\"> なかっ</span><span style=\"background-color: #FFFEFE\"> た</span><span style=\"background-color: #FFFEFE\"> ん</span><span style=\"background-color: #FFFEFE\"> だ</span><span style=\"background-color: #FFFEFE\"> ...」</span><span style=\"background-color: #FFFEFE\"> ##「</span><span style=\"background-color: #FFFEFE\"> とり</span><span style=\"background-color: #FFFEFE\"> ##あ</span><span style=\"background-color: #FFFEFE\"> ##えず</span><span style=\"background-color: #FFFEFE\"> よかっ</span><span style=\"background-color: #FFFEFE\"> た</span><span style=\"background-color: #FFFEFE\"> 」</span><span style=\"background-color: #FFFEFE\"> といった</span><span style=\"background-color: #FFFEFE\"> 安堵</span><span style=\"background-color: #FFFEFE\"> の</span><span style=\"background-color: #FFFDFD\"> コメント</span><span style=\"background-color: #FFFDFD\"> が</span><span style=\"background-color: #FFF9F9\"> 並ん</span><span style=\"background-color: #FFFDFD\"> で</span><span style=\"background-color: #FFFAFA\"> いる</span><span style=\"background-color: #FFFEFE\"> 。</span><br><br>[BERTのAttentionを可視化_3]<br><span style=\"background-color: #FFFEFE\"> [CLS]</span><span style=\"background-color: #FFFEFE\"> ヒ</span><span style=\"background-color: #FFFEFE\"> ##ョー</span><span style=\"background-color: #FFFEFE\"> ##ドル</span><span style=\"background-color: #FFFEFE\"> 戦</span><span style=\"background-color: #FFFEFE\"> で</span><span style=\"background-color: #FFFEFE\"> KO</span><span style=\"background-color: #FFFEFE\"> さ</span><span style=\"background-color: #FFFEFE\"> れ</span><span style=\"background-color: #FFFEFE\"> 病院</span><span style=\"background-color: #FFFEFE\"> に</span><span style=\"background-color: #FFFEFE\"> 直行</span><span style=\"background-color: #FFFEFE\"> し</span><span style=\"background-color: #FFFEFE\"> た</span><span style=\"background-color: #FFF3F3\"> 石井</span><span style=\"background-color: #FFFCFC\"> 慧</span><span style=\"background-color: #FF0000\"> について</span><span style=\"background-color: #FFE5E5\"> 、</span><span style=\"background-color: #FFFEFE\"> 30</span><span style=\"background-color: #FFFEFE\"> 日</span><span style=\"background-color: #FFFEFE\"> に</span><span style=\"background-color: #FFFEFE\"> 脳</span><span style=\"background-color: #FFFEFE\"> 障害</span><span style=\"background-color: #FFFEFE\"> により</span><span style=\"background-color: #FFFEFE\"> 引退</span><span style=\"background-color: #FFFEFE\"> 危機</span><span style=\"background-color: #FFFEFE\"> という</span><span style=\"background-color: #FFFEFE\"> 報道</span><span style=\"background-color: #FFFEFE\"> が</span><span style=\"background-color: #FFFEFE\"> 行なわ</span><span style=\"background-color: #FFFEFE\"> れ</span><span style=\"background-color: #FFFDFD\"> た</span><span style=\"background-color: #FFFEFE\"> 。</span><span style=\"background-color: #FFFCFC\"> 記事</span><span style=\"background-color: #FFFDFD\"> に</span><span style=\"background-color: #FFCFCF\"> は</span><span style=\"background-color: #FFFEFE\"> 「</span><span style=\"background-color: #FFFEFE\"> 一説</span><span style=\"background-color: #FFFEFE\"> に</span><span style=\"background-color: #FFFEFE\"> は</span><span style=\"background-color: #FFFEFE\"> 『</span><span style=\"background-color: #FFFEFE\"> 脳</span><span style=\"background-color: #FFFEFE\"> 浮</span><span style=\"background-color: #FFFEFE\"> ##腫</span><span style=\"background-color: #FFFEFE\"> 』</span><span style=\"background-color: #FFFEFE\"> と</span><span style=\"background-color: #FFFEFE\"> も</span><span style=\"background-color: #FFFEFE\"> 言わ</span><span style=\"background-color: #FFFEFE\"> れ</span><span style=\"background-color: #FFFEFE\"> て</span><span style=\"background-color: #FFFEFE\"> い</span><span style=\"background-color: #FFFEFE\"> ます</span><span style=\"background-color: #FFFEFE\"> 」</span><span style=\"background-color: #FFFEFE\"> (</span><span style=\"background-color: #FFFEFE\"> 格闘技</span><span style=\"background-color: #FFFEFE\"> 事情</span><span style=\"background-color: #FFFEFE\"> 通</span><span style=\"background-color: #FFFEFE\"> )</span><span style=\"background-color: #FFFEFE\"> と</span><span style=\"background-color: #FFFEFE\"> あり</span><span style=\"background-color: #FFFDFD\"> 、</span><span style=\"background-color: #FFE5E5\"> 石井</span><span style=\"background-color: #FFFDFD\"> の</span><span style=\"background-color: #FFFEFE\"> 容</span><span style=\"background-color: #FFFEFE\"> ##態</span><span style=\"background-color: #FFFEFE\"> は</span><span style=\"background-color: #FFFEFE\"> 深刻</span><span style=\"background-color: #FFFEFE\"> な</span><span style=\"background-color: #FFFEFE\"> もの</span><span style=\"background-color: #FFFEFE\"> と</span><span style=\"background-color: #FFFEFE\"> 思わ</span><span style=\"background-color: #FFFEFE\"> れ</span><span style=\"background-color: #FFFEFE\"> た</span><span style=\"background-color: #FFFEFE\"> 。</span><span style=\"background-color: #FFFEFE\"> しかし</span><span style=\"background-color: #FFFAFA\"> 、</span><span style=\"background-color: #FFFEFE\"> この</span><span style=\"background-color: #FFFEFE\"> 件</span><span style=\"background-color: #FFF7F7\"> について</span><span style=\"background-color: #FFFEFE\"> 元</span><span style=\"background-color: #FFFEFE\"> DEEP</span><span style=\"background-color: #FFFEFE\"> ミドル</span><span style=\"background-color: #FFFEFE\"> 級</span><span style=\"background-color: #FFFEFE\"> 王者</span><span style=\"background-color: #FFFEFE\"> で</span><span style=\"background-color: #FFFDFD\"> ある</span><span style=\"background-color: #FFFBFB\"> 長</span><span style=\"background-color: #FFFEFE\"> ##南</span><span style=\"background-color: #FFFEFE\"> 亮</span><span style=\"background-color: #FFFEFE\"> (</span><span style=\"background-color: #FFFEFE\"> ちょう</span><span style=\"background-color: #FFFEFE\"> なん</span><span style=\"background-color: #FFFEFE\"> ・</span><span style=\"background-color: #FFFEFE\"> りょう</span><span style=\"background-color: #FFFEFE\"> )</span><span style=\"background-color: #FFC6C6\"> は</span><span style=\"background-color: #FFFEFE\"> 真っ</span><span style=\"background-color: #FFFEFE\"> ##向</span><span style=\"background-color: #FFFEFE\"> から</span><span style=\"background-color: #FFFEFE\"> 否定</span><span style=\"background-color: #FFF1F1\"> 。</span><span style=\"background-color: #FFF6F6\"> 自身</span><span style=\"background-color: #FFFEFE\"> の</span><span style=\"background-color: #FFFEFE\"> ツイッター</span><span style=\"background-color: #FFE4E4\"> にて</span><span style=\"background-color: #FFFEFE\"> 「</span><span style=\"background-color: #FFF6F6\"> 石井</span><span style=\"background-color: #FFFEFE\"> 慧</span><span style=\"background-color: #FFFEFE\"> の</span><span style=\"background-color: #FFFEFE\"> 体調</span><span style=\"background-color: #FFFEFE\"> は</span><span style=\"background-color: #FFFEFE\"> 良好</span><span style=\"background-color: #FFFEFE\"> だ</span><span style=\"background-color: #FFFEFE\"> そう</span><span style=\"background-color: #FFFEFE\"> です</span><span style=\"background-color: #FFFEFE\"> 。</span><span style=\"background-color: #FFFEFE\"> 」</span><span style=\"background-color: #FFFEFE\"> と</span><span style=\"background-color: #FFFEFE\"> コメント</span><span style=\"background-color: #FFFEFE\"> 、</span><span style=\"background-color: #FFFEFE\"> さらに</span><span style=\"background-color: #FFFEFE\"> 「</span><span style=\"background-color: #FFFEFE\"> 人</span><span style=\"background-color: #FFFEFE\"> の</span><span style=\"background-color: #FFFEFE\"> 人生</span><span style=\"background-color: #FFFEFE\"> や</span><span style=\"background-color: #FFFEFE\"> 生命</span><span style=\"background-color: #FFFEFE\"> に</span><span style=\"background-color: #FFFEFE\"> 関わる</span><span style=\"background-color: #FFFEFE\"> こと</span><span style=\"background-color: #FFFEFE\"> を</span><span style=\"background-color: #FFFEFE\"> 平</span><span style=\"background-color: #FFFEFE\"> ##気</span><span style=\"background-color: #FFFEFE\"> で</span><span style=\"background-color: #FFFEFE\"> ガ</span><span style=\"background-color: #FFFEFE\"> ##セ</span><span style=\"background-color: #FFFEFE\"> 流す</span><span style=\"background-color: #FFFEFE\"> 奴</span><span style=\"background-color: #FFFEFE\"> は</span><span style=\"background-color: #FFFEFE\"> 死ん</span><span style=\"background-color: #FFFEFE\"> だ</span><span style=\"background-color: #FFFEFE\"> ほう</span><span style=\"background-color: #FFFEFE\"> が</span><span style=\"background-color: #FFFEFE\"> 世</span><span style=\"background-color: #FFFEFE\"> の</span><span style=\"background-color: #FFFEFE\"> 為</span><span style=\"background-color: #FFFEFE\"> 。</span><span style=\"background-color: #FFFEFE\"> 」</span><span style=\"background-color: #FFFEFE\"> と</span><span style=\"background-color: #FFFEFE\"> 怒り</span><span style=\"background-color: #FFFEFE\"> の</span><span style=\"background-color: #FFFEFE\"> ツイート</span><span style=\"background-color: #FFFEFE\"> を</span><span style=\"background-color: #FFFEFE\"> し</span><span style=\"background-color: #FFFEFE\"> て</span><span style=\"background-color: #FFFDFD\"> いる</span><span style=\"background-color: #FFFEFE\"> 。</span><span style=\"background-color: #FFFEFE\"> これ</span><span style=\"background-color: #FFFEFE\"> を</span><span style=\"background-color: #FFFEFE\"> もっ</span><span style=\"background-color: #FFFEFE\"> て</span><span style=\"background-color: #FFFEFE\"> 、</span><span style=\"background-color: #FFEEEE\"> 石井</span><span style=\"background-color: #FFFDFD\"> の</span><span style=\"background-color: #FFFEFE\"> 体調</span><span style=\"background-color: #FFFEFE\"> 不良</span><span style=\"background-color: #FFFEFE\"> が</span><span style=\"background-color: #FFFEFE\"> ただちに</span><span style=\"background-color: #FFFEFE\"> 否定</span><span style=\"background-color: #FFFEFE\"> さ</span><span style=\"background-color: #FFFEFE\"> れ</span><span style=\"background-color: #FFFEFE\"> た</span><span style=\"background-color: #FFFEFE\"> わけ</span><span style=\"background-color: #FFFEFE\"> で</span><span style=\"background-color: #FFFEFE\"> は</span><span style=\"background-color: #FFFEFE\"> ない</span><span style=\"background-color: #FFFEFE\"> 。</span><span style=\"background-color: #FFFEFE\"> しかし</span><span style=\"background-color: #FFFEFE\"> 、</span><span style=\"background-color: #FFFBFB\"> 石井</span><span style=\"background-color: #FFFEFE\"> から</span><span style=\"background-color: #FFFEFE\"> 近</span><span style=\"background-color: #FFFEFE\"> ##しい</span><span style=\"background-color: #FFFEFE\"> と</span><span style=\"background-color: #FFFEFE\"> 思わ</span><span style=\"background-color: #FFFEFE\"> れる</span><span style=\"background-color: #FFFCFC\"> 人間</span><span style=\"background-color: #FFFEFE\"> から</span><span style=\"background-color: #FFFEFE\"> の</span><span style=\"background-color: #FFFEFE\"> 情報</span><span style=\"background-color: #FFFEFE\"> で</span><span style=\"background-color: #FFFDFD\"> あり</span><span style=\"background-color: #FFFEFE\"> 、</span><span style=\"background-color: #FFFEFE\"> 信</span><span style=\"background-color: #FFFEFE\"> ##ぴ</span><span style=\"background-color: #FFFEFE\"> ##ょう</span><span style=\"background-color: #FFFEFE\"> 性</span><span style=\"background-color: #FFFEFE\"> は</span><span style=\"background-color: #FFFEFE\"> 高い</span><span style=\"background-color: #FFFEFE\"> と</span><span style=\"background-color: #FFFEFE\"> いえる</span><span style=\"background-color: #FFFEFE\"> だろ</span><span style=\"background-color: #FFFEFE\"> う</span><span style=\"background-color: #FFFEFE\"> 。</span><span style=\"background-color: #FFFEFE\"> この</span><span style=\"background-color: #FFFEFE\"> 件</span><span style=\"background-color: #FFE2E2\"> について</span><span style=\"background-color: #FFFCFC\"> 、</span><span style=\"background-color: #FFFEFE\"> 格闘技</span><span style=\"background-color: #FFFEFE\"> ファン</span><span style=\"background-color: #FFEEEE\"> から</span><span style=\"background-color: #FF6C6C\"> は</span><span style=\"background-color: #FFFEFE\"> 「</span><span style=\"background-color: #FFFEFE\"> 良かっ</span><span style=\"background-color: #FFFEFE\"> た</span><span style=\"background-color: #FFFEFE\"> 、</span><span style=\"background-color: #FFFEFE\"> 引退</span><span style=\"background-color: #FFFEFE\"> する</span><span style=\"background-color: #FFFBFB\"> 石井</span><span style=\"background-color: #FFFEFE\"> は</span><span style=\"background-color: #FFFEFE\"> 居</span><span style=\"background-color: #FFFEFE\"> なかっ</span><span style=\"background-color: #FFFEFE\"> た</span><span style=\"background-color: #FFFEFE\"> ん</span><span style=\"background-color: #FFFEFE\"> だ</span><span style=\"background-color: #FFFEFE\"> ...」</span><span style=\"background-color: #FFFEFE\"> ##「</span><span style=\"background-color: #FFFEFE\"> とり</span><span style=\"background-color: #FFFEFE\"> ##あ</span><span style=\"background-color: #FFFEFE\"> ##えず</span><span style=\"background-color: #FFFEFE\"> よかっ</span><span style=\"background-color: #FFFEFE\"> た</span><span style=\"background-color: #FFFEFE\"> 」</span><span style=\"background-color: #FFFEFE\"> といった</span><span style=\"background-color: #FFFEFE\"> 安堵</span><span style=\"background-color: #FFFEFE\"> の</span><span style=\"background-color: #FFFEFE\"> コメント</span><span style=\"background-color: #FFFEFE\"> が</span><span style=\"background-color: #FFFEFE\"> 並ん</span><span style=\"background-color: #FFFEFE\"> で</span><span style=\"background-color: #FFFEFE\"> いる</span><span style=\"background-color: #FFFEFE\"> 。</span><br><br>[BERTのAttentionを可視化_4]<br><span style=\"background-color: #FFFEFE\"> [CLS]</span><span style=\"background-color: #FFFEFE\"> ヒ</span><span style=\"background-color: #FFFEFE\"> ##ョー</span><span style=\"background-color: #FFFEFE\"> ##ドル</span><span style=\"background-color: #FFF2F2\"> 戦</span><span style=\"background-color: #FFFEFE\"> で</span><span style=\"background-color: #FFFFFF\"> KO</span><span style=\"background-color: #FFFEFE\"> さ</span><span style=\"background-color: #FFFEFE\"> れ</span><span style=\"background-color: #FFFEFE\"> 病院</span><span style=\"background-color: #FFFEFE\"> に</span><span style=\"background-color: #FFFEFE\"> 直行</span><span style=\"background-color: #FFFEFE\"> し</span><span style=\"background-color: #FFFEFE\"> た</span><span style=\"background-color: #FFECEC\"> 石井</span><span style=\"background-color: #FFFEFE\"> 慧</span><span style=\"background-color: #FFFEFE\"> について</span><span style=\"background-color: #FFFEFE\"> 、</span><span style=\"background-color: #FFFEFE\"> 30</span><span style=\"background-color: #FFFEFE\"> 日</span><span style=\"background-color: #FFFEFE\"> に</span><span style=\"background-color: #FFF9F9\"> 脳</span><span style=\"background-color: #FFFEFE\"> 障害</span><span style=\"background-color: #FFFEFE\"> により</span><span style=\"background-color: #FFFCFC\"> 引退</span><span style=\"background-color: #FFFEFE\"> 危機</span><span style=\"background-color: #FFFEFE\"> という</span><span style=\"background-color: #FFFEFE\"> 報道</span><span style=\"background-color: #FFFEFE\"> が</span><span style=\"background-color: #FFFEFE\"> 行なわ</span><span style=\"background-color: #FFFEFE\"> れ</span><span style=\"background-color: #FFFEFE\"> た</span><span style=\"background-color: #FFFEFE\"> 。</span><span style=\"background-color: #FFFEFE\"> 記事</span><span style=\"background-color: #FFFEFE\"> に</span><span style=\"background-color: #FFFEFE\"> は</span><span style=\"background-color: #FFFEFE\"> 「</span><span style=\"background-color: #FFFEFE\"> 一説</span><span style=\"background-color: #FFFEFE\"> に</span><span style=\"background-color: #FFFEFE\"> は</span><span style=\"background-color: #FFFEFE\"> 『</span><span style=\"background-color: #FFFEFE\"> 脳</span><span style=\"background-color: #FFFEFE\"> 浮</span><span style=\"background-color: #FFFEFE\"> ##腫</span><span style=\"background-color: #FFFEFE\"> 』</span><span style=\"background-color: #FFFEFE\"> と</span><span style=\"background-color: #FFFEFE\"> も</span><span style=\"background-color: #FFFEFE\"> 言わ</span><span style=\"background-color: #FFFFFF\"> れ</span><span style=\"background-color: #FFFFFF\"> て</span><span style=\"background-color: #FFFEFE\"> い</span><span style=\"background-color: #FFFEFE\"> ます</span><span style=\"background-color: #FFFEFE\"> 」</span><span style=\"background-color: #FFFEFE\"> (</span><span style=\"background-color: #FFC0C0\"> 格闘技</span><span style=\"background-color: #FFFEFE\"> 事情</span><span style=\"background-color: #FFFEFE\"> 通</span><span style=\"background-color: #FFFEFE\"> )</span><span style=\"background-color: #FFFEFE\"> と</span><span style=\"background-color: #FFFEFE\"> あり</span><span style=\"background-color: #FFFEFE\"> 、</span><span style=\"background-color: #FFEEEE\"> 石井</span><span style=\"background-color: #FFFEFE\"> の</span><span style=\"background-color: #FFFEFE\"> 容</span><span style=\"background-color: #FFFEFE\"> ##態</span><span style=\"background-color: #FFFEFE\"> は</span><span style=\"background-color: #FFFEFE\"> 深刻</span><span style=\"background-color: #FFFEFE\"> な</span><span style=\"background-color: #FFFEFE\"> もの</span><span style=\"background-color: #FFFEFE\"> と</span><span style=\"background-color: #FFFEFE\"> 思わ</span><span style=\"background-color: #FFFEFE\"> れ</span><span style=\"background-color: #FFFEFE\"> た</span><span style=\"background-color: #FFFEFE\"> 。</span><span style=\"background-color: #FFFEFE\"> しかし</span><span style=\"background-color: #FFFEFE\"> 、</span><span style=\"background-color: #FFFEFE\"> この</span><span style=\"background-color: #FFFEFE\"> 件</span><span style=\"background-color: #FFFEFE\"> について</span><span style=\"background-color: #FFFEFE\"> 元</span><span style=\"background-color: #FFFEFE\"> DEEP</span><span style=\"background-color: #FF6D6D\"> ミドル</span><span style=\"background-color: #FFEBEB\"> 級</span><span style=\"background-color: #FFFDFD\"> 王者</span><span style=\"background-color: #FFFEFE\"> で</span><span style=\"background-color: #FFFEFE\"> ある</span><span style=\"background-color: #FFFEFE\"> 長</span><span style=\"background-color: #FFFEFE\"> ##南</span><span style=\"background-color: #FFFEFE\"> 亮</span><span style=\"background-color: #FFFEFE\"> (</span><span style=\"background-color: #FFFEFE\"> ちょう</span><span style=\"background-color: #FFFEFE\"> なん</span><span style=\"background-color: #FFFEFE\"> ・</span><span style=\"background-color: #FFFEFE\"> りょう</span><span style=\"background-color: #FFFEFE\"> )</span><span style=\"background-color: #FFFEFE\"> は</span><span style=\"background-color: #FFFEFE\"> 真っ</span><span style=\"background-color: #FFFEFE\"> ##向</span><span style=\"background-color: #FFFEFE\"> から</span><span style=\"background-color: #FFFEFE\"> 否定</span><span style=\"background-color: #FFFEFE\"> 。</span><span style=\"background-color: #FFFEFE\"> 自身</span><span style=\"background-color: #FFFEFE\"> の</span><span style=\"background-color: #FFEFEF\"> ツイッター</span><span style=\"background-color: #FFFEFE\"> にて</span><span style=\"background-color: #FFFEFE\"> 「</span><span style=\"background-color: #FFE2E2\"> 石井</span><span style=\"background-color: #FFFDFD\"> 慧</span><span style=\"background-color: #FFFEFE\"> の</span><span style=\"background-color: #FFFEFE\"> 体調</span><span style=\"background-color: #FFFEFE\"> は</span><span style=\"background-color: #FFFEFE\"> 良好</span><span style=\"background-color: #FFFEFE\"> だ</span><span style=\"background-color: #FFFEFE\"> そう</span><span style=\"background-color: #FFFEFE\"> です</span><span style=\"background-color: #FFFEFE\"> 。</span><span style=\"background-color: #FFFEFE\"> 」</span><span style=\"background-color: #FFFEFE\"> と</span><span style=\"background-color: #FFFEFE\"> コメント</span><span style=\"background-color: #FFFEFE\"> 、</span><span style=\"background-color: #FFFEFE\"> さらに</span><span style=\"background-color: #FFFEFE\"> 「</span><span style=\"background-color: #FFFEFE\"> 人</span><span style=\"background-color: #FFFEFE\"> の</span><span style=\"background-color: #FFFEFE\"> 人生</span><span style=\"background-color: #FFFEFE\"> や</span><span style=\"background-color: #FFFEFE\"> 生命</span><span style=\"background-color: #FFFEFE\"> に</span><span style=\"background-color: #FFFEFE\"> 関わる</span><span style=\"background-color: #FFFEFE\"> こと</span><span style=\"background-color: #FFFEFE\"> を</span><span style=\"background-color: #FFFEFE\"> 平</span><span style=\"background-color: #FFFEFE\"> ##気</span><span style=\"background-color: #FFFEFE\"> で</span><span style=\"background-color: #FFFEFE\"> ガ</span><span style=\"background-color: #FFFEFE\"> ##セ</span><span style=\"background-color: #FFFEFE\"> 流す</span><span style=\"background-color: #FFFEFE\"> 奴</span><span style=\"background-color: #FFFEFE\"> は</span><span style=\"background-color: #FFFEFE\"> 死ん</span><span style=\"background-color: #FFFEFE\"> だ</span><span style=\"background-color: #FFFEFE\"> ほう</span><span style=\"background-color: #FFFEFE\"> が</span><span style=\"background-color: #FFFEFE\"> 世</span><span style=\"background-color: #FFFEFE\"> の</span><span style=\"background-color: #FFFEFE\"> 為</span><span style=\"background-color: #FFFEFE\"> 。</span><span style=\"background-color: #FFFEFE\"> 」</span><span style=\"background-color: #FFFEFE\"> と</span><span style=\"background-color: #FFFEFE\"> 怒り</span><span style=\"background-color: #FFFEFE\"> の</span><span style=\"background-color: #FFFEFE\"> ツイート</span><span style=\"background-color: #FFFEFE\"> を</span><span style=\"background-color: #FFFEFE\"> し</span><span style=\"background-color: #FFFEFE\"> て</span><span style=\"background-color: #FFFEFE\"> いる</span><span style=\"background-color: #FFFEFE\"> 。</span><span style=\"background-color: #FFFEFE\"> これ</span><span style=\"background-color: #FFFEFE\"> を</span><span style=\"background-color: #FFFEFE\"> もっ</span><span style=\"background-color: #FFFEFE\"> て</span><span style=\"background-color: #FFFEFE\"> 、</span><span style=\"background-color: #FFD2D2\"> 石井</span><span style=\"background-color: #FFFEFE\"> の</span><span style=\"background-color: #FFFEFE\"> 体調</span><span style=\"background-color: #FFFEFE\"> 不良</span><span style=\"background-color: #FFFEFE\"> が</span><span style=\"background-color: #FFFEFE\"> ただちに</span><span style=\"background-color: #FFFEFE\"> 否定</span><span style=\"background-color: #FFFEFE\"> さ</span><span style=\"background-color: #FFFEFE\"> れ</span><span style=\"background-color: #FFFEFE\"> た</span><span style=\"background-color: #FFFEFE\"> わけ</span><span style=\"background-color: #FFFEFE\"> で</span><span style=\"background-color: #FFFEFE\"> は</span><span style=\"background-color: #FFFEFE\"> ない</span><span style=\"background-color: #FFFEFE\"> 。</span><span style=\"background-color: #FFFEFE\"> しかし</span><span style=\"background-color: #FFFEFE\"> 、</span><span style=\"background-color: #FFF0F0\"> 石井</span><span style=\"background-color: #FFFEFE\"> から</span><span style=\"background-color: #FFFEFE\"> 近</span><span style=\"background-color: #FFFEFE\"> ##しい</span><span style=\"background-color: #FFFEFE\"> と</span><span style=\"background-color: #FFFEFE\"> 思わ</span><span style=\"background-color: #FFFEFE\"> れる</span><span style=\"background-color: #FFFEFE\"> 人間</span><span style=\"background-color: #FFFEFE\"> から</span><span style=\"background-color: #FFFEFE\"> の</span><span style=\"background-color: #FFFEFE\"> 情報</span><span style=\"background-color: #FFFEFE\"> で</span><span style=\"background-color: #FFFEFE\"> あり</span><span style=\"background-color: #FFFEFE\"> 、</span><span style=\"background-color: #FFFEFE\"> 信</span><span style=\"background-color: #FFFFFF\"> ##ぴ</span><span style=\"background-color: #FFFEFE\"> ##ょう</span><span style=\"background-color: #FFFEFE\"> 性</span><span style=\"background-color: #FFFEFE\"> は</span><span style=\"background-color: #FFFEFE\"> 高い</span><span style=\"background-color: #FFFEFE\"> と</span><span style=\"background-color: #FFFEFE\"> いえる</span><span style=\"background-color: #FFFEFE\"> だろ</span><span style=\"background-color: #FFFEFE\"> う</span><span style=\"background-color: #FFFEFE\"> 。</span><span style=\"background-color: #FFFEFE\"> この</span><span style=\"background-color: #FFFEFE\"> 件</span><span style=\"background-color: #FFFEFE\"> について</span><span style=\"background-color: #FFFEFE\"> 、</span><span style=\"background-color: #FF0000\"> 格闘技</span><span style=\"background-color: #FFFDFD\"> ファン</span><span style=\"background-color: #FFFEFE\"> から</span><span style=\"background-color: #FFFEFE\"> は</span><span style=\"background-color: #FFFEFE\"> 「</span><span style=\"background-color: #FFFEFE\"> 良かっ</span><span style=\"background-color: #FFFEFE\"> た</span><span style=\"background-color: #FFFEFE\"> 、</span><span style=\"background-color: #FFFDFD\"> 引退</span><span style=\"background-color: #FFFEFE\"> する</span><span style=\"background-color: #FFECEC\"> 石井</span><span style=\"background-color: #FFFEFE\"> は</span><span style=\"background-color: #FFFEFE\"> 居</span><span style=\"background-color: #FFFEFE\"> なかっ</span><span style=\"background-color: #FFFEFE\"> た</span><span style=\"background-color: #FFFEFE\"> ん</span><span style=\"background-color: #FFFEFE\"> だ</span><span style=\"background-color: #FFFEFE\"> ...」</span><span style=\"background-color: #FFFEFE\"> ##「</span><span style=\"background-color: #FFFEFE\"> とり</span><span style=\"background-color: #FFFEFE\"> ##あ</span><span style=\"background-color: #FFFEFE\"> ##えず</span><span style=\"background-color: #FFFEFE\"> よかっ</span><span style=\"background-color: #FFFEFE\"> た</span><span style=\"background-color: #FFFEFE\"> 」</span><span style=\"background-color: #FFFEFE\"> といった</span><span style=\"background-color: #FFFEFE\"> 安堵</span><span style=\"background-color: #FFFEFE\"> の</span><span style=\"background-color: #FFFEFE\"> コメント</span><span style=\"background-color: #FFFEFE\"> が</span><span style=\"background-color: #FFFEFE\"> 並ん</span><span style=\"background-color: #FFFEFE\"> で</span><span style=\"background-color: #FFFEFE\"> いる</span><span style=\"background-color: #FFFEFE\"> 。</span><br><br>[BERTのAttentionを可視化_5]<br><span style=\"background-color: #FFFEFE\"> [CLS]</span><span style=\"background-color: #FFFEFE\"> ヒ</span><span style=\"background-color: #FFFEFE\"> ##ョー</span><span style=\"background-color: #FFFEFE\"> ##ドル</span><span style=\"background-color: #FFFEFE\"> 戦</span><span style=\"background-color: #FFFEFE\"> で</span><span style=\"background-color: #FFFEFE\"> KO</span><span style=\"background-color: #FFFEFE\"> さ</span><span style=\"background-color: #FFFEFE\"> れ</span><span style=\"background-color: #FFFEFE\"> 病院</span><span style=\"background-color: #FFFEFE\"> に</span><span style=\"background-color: #FFFEFE\"> 直行</span><span style=\"background-color: #FFFEFE\"> し</span><span style=\"background-color: #FFFEFE\"> た</span><span style=\"background-color: #FFFEFE\"> 石井</span><span style=\"background-color: #FFFEFE\"> 慧</span><span style=\"background-color: #FFFEFE\"> について</span><span style=\"background-color: #FFFEFE\"> 、</span><span style=\"background-color: #FFFEFE\"> 30</span><span style=\"background-color: #FFFEFE\"> 日</span><span style=\"background-color: #FFFEFE\"> に</span><span style=\"background-color: #FFFEFE\"> 脳</span><span style=\"background-color: #FFFEFE\"> 障害</span><span style=\"background-color: #FFFEFE\"> により</span><span style=\"background-color: #FFFEFE\"> 引退</span><span style=\"background-color: #FFFEFE\"> 危機</span><span style=\"background-color: #FFFEFE\"> という</span><span style=\"background-color: #FFF9F9\"> 報道</span><span style=\"background-color: #FFFDFD\"> が</span><span style=\"background-color: #FFF7F7\"> 行なわ</span><span style=\"background-color: #FF8C8C\"> れ</span><span style=\"background-color: #FF9494\"> た</span><span style=\"background-color: #FFFEFE\"> 。</span><span style=\"background-color: #FFFDFD\"> 記事</span><span style=\"background-color: #FFFEFE\"> に</span><span style=\"background-color: #FFFEFE\"> は</span><span style=\"background-color: #FFFEFE\"> 「</span><span style=\"background-color: #FFFEFE\"> 一説</span><span style=\"background-color: #FFFEFE\"> に</span><span style=\"background-color: #FFFEFE\"> は</span><span style=\"background-color: #FFFEFE\"> 『</span><span style=\"background-color: #FFFEFE\"> 脳</span><span style=\"background-color: #FFFEFE\"> 浮</span><span style=\"background-color: #FFFEFE\"> ##腫</span><span style=\"background-color: #FFFEFE\"> 』</span><span style=\"background-color: #FFFEFE\"> と</span><span style=\"background-color: #FFFEFE\"> も</span><span style=\"background-color: #FFFEFE\"> 言わ</span><span style=\"background-color: #FFFEFE\"> れ</span><span style=\"background-color: #FFFEFE\"> て</span><span style=\"background-color: #FFFEFE\"> い</span><span style=\"background-color: #FFFCFC\"> ます</span><span style=\"background-color: #FFFCFC\"> 」</span><span style=\"background-color: #FFFEFE\"> (</span><span style=\"background-color: #FFFEFE\"> 格闘技</span><span style=\"background-color: #FFFEFE\"> 事情</span><span style=\"background-color: #FFFEFE\"> 通</span><span style=\"background-color: #FFFEFE\"> )</span><span style=\"background-color: #FFFEFE\"> と</span><span style=\"background-color: #FFF8F8\"> あり</span><span style=\"background-color: #FFFEFE\"> 、</span><span style=\"background-color: #FFFEFE\"> 石井</span><span style=\"background-color: #FFFEFE\"> の</span><span style=\"background-color: #FFFEFE\"> 容</span><span style=\"background-color: #FFFEFE\"> ##態</span><span style=\"background-color: #FFFEFE\"> は</span><span style=\"background-color: #FFFEFE\"> 深刻</span><span style=\"background-color: #FFFEFE\"> な</span><span style=\"background-color: #FFFEFE\"> もの</span><span style=\"background-color: #FFFEFE\"> と</span><span style=\"background-color: #FFFCFC\"> 思わ</span><span style=\"background-color: #FF9696\"> れ</span><span style=\"background-color: #FF7171\"> た</span><span style=\"background-color: #FFFEFE\"> 。</span><span style=\"background-color: #FFE7E7\"> しかし</span><span style=\"background-color: #FFFEFE\"> 、</span><span style=\"background-color: #FFFEFE\"> この</span><span style=\"background-color: #FFFEFE\"> 件</span><span style=\"background-color: #FFFEFE\"> について</span><span style=\"background-color: #FFFEFE\"> 元</span><span style=\"background-color: #FFFEFE\"> DEEP</span><span style=\"background-color: #FFFEFE\"> ミドル</span><span style=\"background-color: #FFFEFE\"> 級</span><span style=\"background-color: #FFFEFE\"> 王者</span><span style=\"background-color: #FFFEFE\"> で</span><span style=\"background-color: #FFFEFE\"> ある</span><span style=\"background-color: #FFFEFE\"> 長</span><span style=\"background-color: #FFFEFE\"> ##南</span><span style=\"background-color: #FFFEFE\"> 亮</span><span style=\"background-color: #FFFEFE\"> (</span><span style=\"background-color: #FFFEFE\"> ちょう</span><span style=\"background-color: #FFFEFE\"> なん</span><span style=\"background-color: #FFFEFE\"> ・</span><span style=\"background-color: #FFFEFE\"> りょう</span><span style=\"background-color: #FFFEFE\"> )</span><span style=\"background-color: #FFFEFE\"> は</span><span style=\"background-color: #FFFDFD\"> 真っ</span><span style=\"background-color: #FFFEFE\"> ##向</span><span style=\"background-color: #FFFEFE\"> から</span><span style=\"background-color: #FFECEC\"> 否定</span><span style=\"background-color: #FFDBDB\"> 。</span><span style=\"background-color: #FFFDFD\"> 自身</span><span style=\"background-color: #FFFEFE\"> の</span><span style=\"background-color: #FFFEFE\"> ツイッター</span><span style=\"background-color: #FFF8F8\"> にて</span><span style=\"background-color: #FFFEFE\"> 「</span><span style=\"background-color: #FFFEFE\"> 石井</span><span style=\"background-color: #FFFEFE\"> 慧</span><span style=\"background-color: #FFFEFE\"> の</span><span style=\"background-color: #FFFEFE\"> 体調</span><span style=\"background-color: #FFFEFE\"> は</span><span style=\"background-color: #FFFEFE\"> 良好</span><span style=\"background-color: #FFFEFE\"> だ</span><span style=\"background-color: #FFFDFD\"> そう</span><span style=\"background-color: #FFF7F7\"> です</span><span style=\"background-color: #FFFDFD\"> 。</span><span style=\"background-color: #FFFEFE\"> 」</span><span style=\"background-color: #FFFEFE\"> と</span><span style=\"background-color: #FFFBFB\"> コメント</span><span style=\"background-color: #FFF6F6\"> 、</span><span style=\"background-color: #FFF6F6\"> さらに</span><span style=\"background-color: #FFFEFE\"> 「</span><span style=\"background-color: #FFFEFE\"> 人</span><span style=\"background-color: #FFFEFE\"> の</span><span style=\"background-color: #FFFEFE\"> 人生</span><span style=\"background-color: #FFFEFE\"> や</span><span style=\"background-color: #FFFEFE\"> 生命</span><span style=\"background-color: #FFFEFE\"> に</span><span style=\"background-color: #FFFEFE\"> 関わる</span><span style=\"background-color: #FFFEFE\"> こと</span><span style=\"background-color: #FFFEFE\"> を</span><span style=\"background-color: #FFFEFE\"> 平</span><span style=\"background-color: #FFFEFE\"> ##気</span><span style=\"background-color: #FFFEFE\"> で</span><span style=\"background-color: #FFFEFE\"> ガ</span><span style=\"background-color: #FFFEFE\"> ##セ</span><span style=\"background-color: #FFFEFE\"> 流す</span><span style=\"background-color: #FFFEFE\"> 奴</span><span style=\"background-color: #FFFEFE\"> は</span><span style=\"background-color: #FFFEFE\"> 死ん</span><span style=\"background-color: #FFFEFE\"> だ</span><span style=\"background-color: #FFFEFE\"> ほう</span><span style=\"background-color: #FFFEFE\"> が</span><span style=\"background-color: #FFFEFE\"> 世</span><span style=\"background-color: #FFFEFE\"> の</span><span style=\"background-color: #FFFEFE\"> 為</span><span style=\"background-color: #FFFCFC\"> 。</span><span style=\"background-color: #FFF8F8\"> 」</span><span style=\"background-color: #FFFEFE\"> と</span><span style=\"background-color: #FFFAFA\"> 怒り</span><span style=\"background-color: #FFFEFE\"> の</span><span style=\"background-color: #FFFAFA\"> ツイート</span><span style=\"background-color: #FFFBFB\"> を</span><span style=\"background-color: #FFDADA\"> し</span><span style=\"background-color: #FFDEDE\"> て</span><span style=\"background-color: #FF8484\"> いる</span><span style=\"background-color: #FFFEFE\"> 。</span><span style=\"background-color: #FFF3F3\"> これ</span><span style=\"background-color: #FFFCFC\"> を</span><span style=\"background-color: #FFF8F8\"> もっ</span><span style=\"background-color: #FFFBFB\"> て</span><span style=\"background-color: #FFFEFE\"> 、</span><span style=\"background-color: #FFFEFE\"> 石井</span><span style=\"background-color: #FFFEFE\"> の</span><span style=\"background-color: #FFFEFE\"> 体調</span><span style=\"background-color: #FFFEFE\"> 不良</span><span style=\"background-color: #FFFEFE\"> が</span><span style=\"background-color: #FFFEFE\"> ただちに</span><span style=\"background-color: #FFFDFD\"> 否定</span><span style=\"background-color: #FFFCFC\"> さ</span><span style=\"background-color: #FFF6F6\"> れ</span><span style=\"background-color: #FFF4F4\"> た</span><span style=\"background-color: #FFFBFB\"> わけ</span><span style=\"background-color: #FFEFEF\"> で</span><span style=\"background-color: #FFFCFC\"> は</span><span style=\"background-color: #FF8787\"> ない</span><span style=\"background-color: #FFFEFE\"> 。</span><span style=\"background-color: #FFE6E6\"> しかし</span><span style=\"background-color: #FFFEFE\"> 、</span><span style=\"background-color: #FFFEFE\"> 石井</span><span style=\"background-color: #FFFEFE\"> から</span><span style=\"background-color: #FFFEFE\"> 近</span><span style=\"background-color: #FFFEFE\"> ##しい</span><span style=\"background-color: #FFFEFE\"> と</span><span style=\"background-color: #FFFEFE\"> 思わ</span><span style=\"background-color: #FFFEFE\"> れる</span><span style=\"background-color: #FFFEFE\"> 人間</span><span style=\"background-color: #FFFEFE\"> から</span><span style=\"background-color: #FFFEFE\"> の</span><span style=\"background-color: #FFFEFE\"> 情報</span><span style=\"background-color: #FFFBFB\"> で</span><span style=\"background-color: #FFFBFB\"> あり</span><span style=\"background-color: #FFFEFE\"> 、</span><span style=\"background-color: #FFFEFE\"> 信</span><span style=\"background-color: #FFFEFE\"> ##ぴ</span><span style=\"background-color: #FFFEFE\"> ##ょう</span><span style=\"background-color: #FFFBFB\"> 性</span><span style=\"background-color: #FFFDFD\"> は</span><span style=\"background-color: #FFE2E2\"> 高い</span><span style=\"background-color: #FFFDFD\"> と</span><span style=\"background-color: #FFE5E5\"> いえる</span><span style=\"background-color: #FFB6B6\"> だろ</span><span style=\"background-color: #FFB7B7\"> う</span><span style=\"background-color: #FFFEFE\"> 。</span><span style=\"background-color: #FFFCFC\"> この</span><span style=\"background-color: #FFF5F5\"> 件</span><span style=\"background-color: #FFF9F9\"> について</span><span style=\"background-color: #FFFDFD\"> 、</span><span style=\"background-color: #FFFEFE\"> 格闘技</span><span style=\"background-color: #FFFEFE\"> ファン</span><span style=\"background-color: #FFFAFA\"> から</span><span style=\"background-color: #FFE0E0\"> は</span><span style=\"background-color: #FFFDFD\"> 「</span><span style=\"background-color: #FFFEFE\"> 良かっ</span><span style=\"background-color: #FFFEFE\"> た</span><span style=\"background-color: #FFFEFE\"> 、</span><span style=\"background-color: #FFFEFE\"> 引退</span><span style=\"background-color: #FFFEFE\"> する</span><span style=\"background-color: #FFFEFE\"> 石井</span><span style=\"background-color: #FFFEFE\"> は</span><span style=\"background-color: #FFFEFE\"> 居</span><span style=\"background-color: #FFFEFE\"> なかっ</span><span style=\"background-color: #FFFEFE\"> た</span><span style=\"background-color: #FFFEFE\"> ん</span><span style=\"background-color: #FFFCFC\"> だ</span><span style=\"background-color: #FFF8F8\"> ...」</span><span style=\"background-color: #FFFEFE\"> ##「</span><span style=\"background-color: #FFFEFE\"> とり</span><span style=\"background-color: #FFFEFE\"> ##あ</span><span style=\"background-color: #FFFEFE\"> ##えず</span><span style=\"background-color: #FFFEFE\"> よかっ</span><span style=\"background-color: #FFFEFE\"> た</span><span style=\"background-color: #FFFEFE\"> 」</span><span style=\"background-color: #FFFCFC\"> といった</span><span style=\"background-color: #FFFDFD\"> 安堵</span><span style=\"background-color: #FFFEFE\"> の</span><span style=\"background-color: #FFF6F6\"> コメント</span><span style=\"background-color: #FFF4F4\"> が</span><span style=\"background-color: #FF5656\"> 並ん</span><span style=\"background-color: #FF9393\"> で</span><span style=\"background-color: #FF0000\"> いる</span><span style=\"background-color: #FFFEFE\"> 。</span><br><br>[BERTのAttentionを可視化_6]<br><span style=\"background-color: #FFFEFE\"> [CLS]</span><span style=\"background-color: #FFFEFE\"> ヒ</span><span style=\"background-color: #FFFEFE\"> ##ョー</span><span style=\"background-color: #FFFEFE\"> ##ドル</span><span style=\"background-color: #FFFEFE\"> 戦</span><span style=\"background-color: #FFFEFE\"> で</span><span style=\"background-color: #FFFEFE\"> KO</span><span style=\"background-color: #FFFEFE\"> さ</span><span style=\"background-color: #FFFEFE\"> れ</span><span style=\"background-color: #FFFEFE\"> 病院</span><span style=\"background-color: #FFFEFE\"> に</span><span style=\"background-color: #FFFEFE\"> 直行</span><span style=\"background-color: #FFFEFE\"> し</span><span style=\"background-color: #FFFEFE\"> た</span><span style=\"background-color: #FFFEFE\"> 石井</span><span style=\"background-color: #FFFEFE\"> 慧</span><span style=\"background-color: #FFFEFE\"> について</span><span style=\"background-color: #FFFEFE\"> 、</span><span style=\"background-color: #FFFDFD\"> 30</span><span style=\"background-color: #FFFEFE\"> 日</span><span style=\"background-color: #FFFEFE\"> に</span><span style=\"background-color: #FFFEFE\"> 脳</span><span style=\"background-color: #FFFEFE\"> 障害</span><span style=\"background-color: #FFFEFE\"> により</span><span style=\"background-color: #FFFEFE\"> 引退</span><span style=\"background-color: #FFFEFE\"> 危機</span><span style=\"background-color: #FFFDFD\"> という</span><span style=\"background-color: #FFFEFE\"> 報道</span><span style=\"background-color: #FFFEFE\"> が</span><span style=\"background-color: #FFFEFE\"> 行なわ</span><span style=\"background-color: #FFFCFC\"> れ</span><span style=\"background-color: #FFE4E4\"> た</span><span style=\"background-color: #FFFEFE\"> 。</span><span style=\"background-color: #FFFEFE\"> 記事</span><span style=\"background-color: #FFFEFE\"> に</span><span style=\"background-color: #FFFEFE\"> は</span><span style=\"background-color: #FFFEFE\"> 「</span><span style=\"background-color: #FFFEFE\"> 一説</span><span style=\"background-color: #FFFEFE\"> に</span><span style=\"background-color: #FFFEFE\"> は</span><span style=\"background-color: #FFFEFE\"> 『</span><span style=\"background-color: #FFFEFE\"> 脳</span><span style=\"background-color: #FFFEFE\"> 浮</span><span style=\"background-color: #FFFEFE\"> ##腫</span><span style=\"background-color: #FFFEFE\"> 』</span><span style=\"background-color: #FFFEFE\"> と</span><span style=\"background-color: #FFFEFE\"> も</span><span style=\"background-color: #FFFEFE\"> 言わ</span><span style=\"background-color: #FFFEFE\"> れ</span><span style=\"background-color: #FFFEFE\"> て</span><span style=\"background-color: #FFFCFC\"> い</span><span style=\"background-color: #FFC3C3\"> ます</span><span style=\"background-color: #FFCBCB\"> 」</span><span style=\"background-color: #FFFDFD\"> (</span><span style=\"background-color: #FFFEFE\"> 格闘技</span><span style=\"background-color: #FFFEFE\"> 事情</span><span style=\"background-color: #FFFEFE\"> 通</span><span style=\"background-color: #FFFEFE\"> )</span><span style=\"background-color: #FFE9E9\"> と</span><span style=\"background-color: #FFF7F7\"> あり</span><span style=\"background-color: #FFF9F9\"> 、</span><span style=\"background-color: #FFFEFE\"> 石井</span><span style=\"background-color: #FFFEFE\"> の</span><span style=\"background-color: #FFFEFE\"> 容</span><span style=\"background-color: #FFFEFE\"> ##態</span><span style=\"background-color: #FFFEFE\"> は</span><span style=\"background-color: #FFFEFE\"> 深刻</span><span style=\"background-color: #FFFEFE\"> な</span><span style=\"background-color: #FFFEFE\"> もの</span><span style=\"background-color: #FFFEFE\"> と</span><span style=\"background-color: #FFFEFE\"> 思わ</span><span style=\"background-color: #FFF3F3\"> れ</span><span style=\"background-color: #FFAEAE\"> た</span><span style=\"background-color: #FFFEFE\"> 。</span><span style=\"background-color: #FFFDFD\"> しかし</span><span style=\"background-color: #FFFEFE\"> 、</span><span style=\"background-color: #FFFDFD\"> この</span><span style=\"background-color: #FFFDFD\"> 件</span><span style=\"background-color: #FFFEFE\"> について</span><span style=\"background-color: #FFFEFE\"> 元</span><span style=\"background-color: #FFFEFE\"> DEEP</span><span style=\"background-color: #FFFEFE\"> ミドル</span><span style=\"background-color: #FFFEFE\"> 級</span><span style=\"background-color: #FFFEFE\"> 王者</span><span style=\"background-color: #FFFEFE\"> で</span><span style=\"background-color: #FFFEFE\"> ある</span><span style=\"background-color: #FFFEFE\"> 長</span><span style=\"background-color: #FFFEFE\"> ##南</span><span style=\"background-color: #FFFEFE\"> 亮</span><span style=\"background-color: #FFFEFE\"> (</span><span style=\"background-color: #FFFEFE\"> ちょう</span><span style=\"background-color: #FFFEFE\"> なん</span><span style=\"background-color: #FFFEFE\"> ・</span><span style=\"background-color: #FFFEFE\"> りょう</span><span style=\"background-color: #FFFEFE\"> )</span><span style=\"background-color: #FFFEFE\"> は</span><span style=\"background-color: #FFE5E5\"> 真っ</span><span style=\"background-color: #FFFEFE\"> ##向</span><span style=\"background-color: #FFFEFE\"> から</span><span style=\"background-color: #FFFCFC\"> 否定</span><span style=\"background-color: #FFEAEA\"> 。</span><span style=\"background-color: #FFFEFE\"> 自身</span><span style=\"background-color: #FFFEFE\"> の</span><span style=\"background-color: #FFFEFE\"> ツイッター</span><span style=\"background-color: #FFFEFE\"> にて</span><span style=\"background-color: #FFFEFE\"> 「</span><span style=\"background-color: #FFFEFE\"> 石井</span><span style=\"background-color: #FFFEFE\"> 慧</span><span style=\"background-color: #FFFEFE\"> の</span><span style=\"background-color: #FFFEFE\"> 体調</span><span style=\"background-color: #FFFEFE\"> は</span><span style=\"background-color: #FFFEFE\"> 良好</span><span style=\"background-color: #FFFDFD\"> だ</span><span style=\"background-color: #FFF5F5\"> そう</span><span style=\"background-color: #FFF8F8\"> です</span><span style=\"background-color: #FFFDFD\"> 。</span><span style=\"background-color: #FFFDFD\"> 」</span><span style=\"background-color: #FFFAFA\"> と</span><span style=\"background-color: #FFFEFE\"> コメント</span><span style=\"background-color: #FF5A5A\"> 、</span><span style=\"background-color: #FFFBFB\"> さらに</span><span style=\"background-color: #FFFEFE\"> 「</span><span style=\"background-color: #FFFEFE\"> 人</span><span style=\"background-color: #FFFEFE\"> の</span><span style=\"background-color: #FFFEFE\"> 人生</span><span style=\"background-color: #FFFEFE\"> や</span><span style=\"background-color: #FFFEFE\"> 生命</span><span style=\"background-color: #FFFEFE\"> に</span><span style=\"background-color: #FFFEFE\"> 関わる</span><span style=\"background-color: #FFFEFE\"> こと</span><span style=\"background-color: #FFFEFE\"> を</span><span style=\"background-color: #FFFEFE\"> 平</span><span style=\"background-color: #FFFEFE\"> ##気</span><span style=\"background-color: #FFFEFE\"> で</span><span style=\"background-color: #FFFEFE\"> ガ</span><span style=\"background-color: #FFFEFE\"> ##セ</span><span style=\"background-color: #FFFEFE\"> 流す</span><span style=\"background-color: #FFFEFE\"> 奴</span><span style=\"background-color: #FFFEFE\"> は</span><span style=\"background-color: #FFFEFE\"> 死ん</span><span style=\"background-color: #FFFEFE\"> だ</span><span style=\"background-color: #FFFEFE\"> ほう</span><span style=\"background-color: #FFFEFE\"> が</span><span style=\"background-color: #FFFEFE\"> 世</span><span style=\"background-color: #FFFEFE\"> の</span><span style=\"background-color: #FFFEFE\"> 為</span><span style=\"background-color: #FFFEFE\"> 。</span><span style=\"background-color: #FFFAFA\"> 」</span><span style=\"background-color: #FFFBFB\"> と</span><span style=\"background-color: #FFFEFE\"> 怒り</span><span style=\"background-color: #FFFDFD\"> の</span><span style=\"background-color: #FFFEFE\"> ツイート</span><span style=\"background-color: #FFFDFD\"> を</span><span style=\"background-color: #FFFEFE\"> し</span><span style=\"background-color: #FFECEC\"> て</span><span style=\"background-color: #FFE8E8\"> いる</span><span style=\"background-color: #FFFEFE\"> 。</span><span style=\"background-color: #FFD3D3\"> これ</span><span style=\"background-color: #FFD2D2\"> を</span><span style=\"background-color: #FFEBEB\"> もっ</span><span style=\"background-color: #FFFDFD\"> て</span><span style=\"background-color: #FFFCFC\"> 、</span><span style=\"background-color: #FFFEFE\"> 石井</span><span style=\"background-color: #FFFEFE\"> の</span><span style=\"background-color: #FFFEFE\"> 体調</span><span style=\"background-color: #FFFEFE\"> 不良</span><span style=\"background-color: #FFFEFE\"> が</span><span style=\"background-color: #FFFEFE\"> ただちに</span><span style=\"background-color: #FFFEFE\"> 否定</span><span style=\"background-color: #FFFEFE\"> さ</span><span style=\"background-color: #FFFEFE\"> れ</span><span style=\"background-color: #FFFBFB\"> た</span><span style=\"background-color: #FFFDFD\"> わけ</span><span style=\"background-color: #FFFEFE\"> で</span><span style=\"background-color: #FFFEFE\"> は</span><span style=\"background-color: #FF5F5F\"> ない</span><span style=\"background-color: #FFFEFE\"> 。</span><span style=\"background-color: #FFF3F3\"> しかし</span><span style=\"background-color: #FFFCFC\"> 、</span><span style=\"background-color: #FFFEFE\"> 石井</span><span style=\"background-color: #FFFEFE\"> から</span><span style=\"background-color: #FFFEFE\"> 近</span><span style=\"background-color: #FFFEFE\"> ##しい</span><span style=\"background-color: #FFFEFE\"> と</span><span style=\"background-color: #FFFEFE\"> 思わ</span><span style=\"background-color: #FFFEFE\"> れる</span><span style=\"background-color: #FFFEFE\"> 人間</span><span style=\"background-color: #FFFEFE\"> から</span><span style=\"background-color: #FFFEFE\"> の</span><span style=\"background-color: #FFFEFE\"> 情報</span><span style=\"background-color: #FFF9F9\"> で</span><span style=\"background-color: #FFFBFB\"> あり</span><span style=\"background-color: #FFFCFC\"> 、</span><span style=\"background-color: #FFFEFE\"> 信</span><span style=\"background-color: #FFFEFE\"> ##ぴ</span><span style=\"background-color: #FFFEFE\"> ##ょう</span><span style=\"background-color: #FFFEFE\"> 性</span><span style=\"background-color: #FFFEFE\"> は</span><span style=\"background-color: #FFFEFE\"> 高い</span><span style=\"background-color: #FFFEFE\"> と</span><span style=\"background-color: #FFF9F9\"> いえる</span><span style=\"background-color: #FF0000\"> だろ</span><span style=\"background-color: #FFF8F8\"> う</span><span style=\"background-color: #FFFEFE\"> 。</span><span style=\"background-color: #FFFBFB\"> この</span><span style=\"background-color: #FFFEFE\"> 件</span><span style=\"background-color: #FFFEFE\"> について</span><span style=\"background-color: #FFFEFE\"> 、</span><span style=\"background-color: #FFFEFE\"> 格闘技</span><span style=\"background-color: #FFFEFE\"> ファン</span><span style=\"background-color: #FFFEFE\"> から</span><span style=\"background-color: #FFFEFE\"> は</span><span style=\"background-color: #FFFEFE\"> 「</span><span style=\"background-color: #FFFEFE\"> 良かっ</span><span style=\"background-color: #FFFEFE\"> た</span><span style=\"background-color: #FFFEFE\"> 、</span><span style=\"background-color: #FFFEFE\"> 引退</span><span style=\"background-color: #FFFEFE\"> する</span><span style=\"background-color: #FFFEFE\"> 石井</span><span style=\"background-color: #FFFEFE\"> は</span><span style=\"background-color: #FFFEFE\"> 居</span><span style=\"background-color: #FFFEFE\"> なかっ</span><span style=\"background-color: #FFFEFE\"> た</span><span style=\"background-color: #FFFBFB\"> ん</span><span style=\"background-color: #FFFDFD\"> だ</span><span style=\"background-color: #FFFAFA\"> ...」</span><span style=\"background-color: #FFFEFE\"> ##「</span><span style=\"background-color: #FFFEFE\"> とり</span><span style=\"background-color: #FFFEFE\"> ##あ</span><span style=\"background-color: #FFFEFE\"> ##えず</span><span style=\"background-color: #FFFEFE\"> よかっ</span><span style=\"background-color: #FFFEFE\"> た</span><span style=\"background-color: #FFFEFE\"> 」</span><span style=\"background-color: #FFF6F6\"> といった</span><span style=\"background-color: #FFFEFE\"> 安堵</span><span style=\"background-color: #FFFDFD\"> の</span><span style=\"background-color: #FFFEFE\"> コメント</span><span style=\"background-color: #FFFEFE\"> が</span><span style=\"background-color: #FFF6F6\"> 並ん</span><span style=\"background-color: #FFF5F5\"> で</span><span style=\"background-color: #FFF6F6\"> いる</span><span style=\"background-color: #FFFEFE\"> 。</span><br><br>[BERTのAttentionを可視化_7]<br><span style=\"background-color: #FFFEFE\"> [CLS]</span><span style=\"background-color: #FFFEFE\"> ヒ</span><span style=\"background-color: #FFFEFE\"> ##ョー</span><span style=\"background-color: #FFFEFE\"> ##ドル</span><span style=\"background-color: #FFFEFE\"> 戦</span><span style=\"background-color: #FFFEFE\"> で</span><span style=\"background-color: #FFFEFE\"> KO</span><span style=\"background-color: #FFFEFE\"> さ</span><span style=\"background-color: #FFFEFE\"> れ</span><span style=\"background-color: #FFFEFE\"> 病院</span><span style=\"background-color: #FFFEFE\"> に</span><span style=\"background-color: #FFFEFE\"> 直行</span><span style=\"background-color: #FFFEFE\"> し</span><span style=\"background-color: #FFFEFE\"> た</span><span style=\"background-color: #FFFEFE\"> 石井</span><span style=\"background-color: #FFFEFE\"> 慧</span><span style=\"background-color: #FFFEFE\"> について</span><span style=\"background-color: #FFFEFE\"> 、</span><span style=\"background-color: #FFFEFE\"> 30</span><span style=\"background-color: #FFFEFE\"> 日</span><span style=\"background-color: #FFFEFE\"> に</span><span style=\"background-color: #FFFEFE\"> 脳</span><span style=\"background-color: #FFFEFE\"> 障害</span><span style=\"background-color: #FFFEFE\"> により</span><span style=\"background-color: #FFFEFE\"> 引退</span><span style=\"background-color: #FFFEFE\"> 危機</span><span style=\"background-color: #FFFEFE\"> という</span><span style=\"background-color: #FFF3F3\"> 報道</span><span style=\"background-color: #FFFEFE\"> が</span><span style=\"background-color: #FFFEFE\"> 行なわ</span><span style=\"background-color: #FFFEFE\"> れ</span><span style=\"background-color: #FFFEFE\"> た</span><span style=\"background-color: #FFFEFE\"> 。</span><span style=\"background-color: #FF0000\"> 記事</span><span style=\"background-color: #FFFEFE\"> に</span><span style=\"background-color: #FFFEFE\"> は</span><span style=\"background-color: #FFFEFE\"> 「</span><span style=\"background-color: #FFFEFE\"> 一説</span><span style=\"background-color: #FFFEFE\"> に</span><span style=\"background-color: #FFFEFE\"> は</span><span style=\"background-color: #FFFEFE\"> 『</span><span style=\"background-color: #FFFEFE\"> 脳</span><span style=\"background-color: #FFFEFE\"> 浮</span><span style=\"background-color: #FFFEFE\"> ##腫</span><span style=\"background-color: #FFFEFE\"> 』</span><span style=\"background-color: #FFFEFE\"> と</span><span style=\"background-color: #FFFEFE\"> も</span><span style=\"background-color: #FFFEFE\"> 言わ</span><span style=\"background-color: #FFFEFE\"> れ</span><span style=\"background-color: #FFFEFE\"> て</span><span style=\"background-color: #FFFEFE\"> い</span><span style=\"background-color: #FFFEFE\"> ます</span><span style=\"background-color: #FFFEFE\"> 」</span><span style=\"background-color: #FFFEFE\"> (</span><span style=\"background-color: #FFFEFE\"> 格闘技</span><span style=\"background-color: #FFFEFE\"> 事情</span><span style=\"background-color: #FFFEFE\"> 通</span><span style=\"background-color: #FFFEFE\"> )</span><span style=\"background-color: #FFFEFE\"> と</span><span style=\"background-color: #FFFEFE\"> あり</span><span style=\"background-color: #FFFEFE\"> 、</span><span style=\"background-color: #FFFEFE\"> 石井</span><span style=\"background-color: #FFFEFE\"> の</span><span style=\"background-color: #FFFEFE\"> 容</span><span style=\"background-color: #FFFEFE\"> ##態</span><span style=\"background-color: #FFFEFE\"> は</span><span style=\"background-color: #FFFEFE\"> 深刻</span><span style=\"background-color: #FFFEFE\"> な</span><span style=\"background-color: #FFFEFE\"> もの</span><span style=\"background-color: #FFFEFE\"> と</span><span style=\"background-color: #FFFEFE\"> 思わ</span><span style=\"background-color: #FFFEFE\"> れ</span><span style=\"background-color: #FFFEFE\"> た</span><span style=\"background-color: #FFFEFE\"> 。</span><span style=\"background-color: #FFEEEE\"> しかし</span><span style=\"background-color: #FFFDFD\"> 、</span><span style=\"background-color: #FFF4F4\"> この</span><span style=\"background-color: #FFF7F7\"> 件</span><span style=\"background-color: #FFFEFE\"> について</span><span style=\"background-color: #FFFEFE\"> 元</span><span style=\"background-color: #FFFEFE\"> DEEP</span><span style=\"background-color: #FFFEFE\"> ミドル</span><span style=\"background-color: #FFFEFE\"> 級</span><span style=\"background-color: #FFFEFE\"> 王者</span><span style=\"background-color: #FFFEFE\"> で</span><span style=\"background-color: #FFFEFE\"> ある</span><span style=\"background-color: #FFFEFE\"> 長</span><span style=\"background-color: #FFFEFE\"> ##南</span><span style=\"background-color: #FFFEFE\"> 亮</span><span style=\"background-color: #FFFEFE\"> (</span><span style=\"background-color: #FFFEFE\"> ちょう</span><span style=\"background-color: #FFFEFE\"> なん</span><span style=\"background-color: #FFFEFE\"> ・</span><span style=\"background-color: #FFFEFE\"> りょう</span><span style=\"background-color: #FFFEFE\"> )</span><span style=\"background-color: #FFFEFE\"> は</span><span style=\"background-color: #FFFEFE\"> 真っ</span><span style=\"background-color: #FFFEFE\"> ##向</span><span style=\"background-color: #FFFEFE\"> から</span><span style=\"background-color: #FFFEFE\"> 否定</span><span style=\"background-color: #FFFEFE\"> 。</span><span style=\"background-color: #FFFEFE\"> 自身</span><span style=\"background-color: #FFFEFE\"> の</span><span style=\"background-color: #FFFEFE\"> ツイッター</span><span style=\"background-color: #FFFEFE\"> にて</span><span style=\"background-color: #FFFEFE\"> 「</span><span style=\"background-color: #FFFEFE\"> 石井</span><span style=\"background-color: #FFFEFE\"> 慧</span><span style=\"background-color: #FFFEFE\"> の</span><span style=\"background-color: #FFFEFE\"> 体調</span><span style=\"background-color: #FFFEFE\"> は</span><span style=\"background-color: #FFFEFE\"> 良好</span><span style=\"background-color: #FFFEFE\"> だ</span><span style=\"background-color: #FFFEFE\"> そう</span><span style=\"background-color: #FFFEFE\"> です</span><span style=\"background-color: #FFFEFE\"> 。</span><span style=\"background-color: #FFFEFE\"> 」</span><span style=\"background-color: #FFFEFE\"> と</span><span style=\"background-color: #FFFEFE\"> コメント</span><span style=\"background-color: #FFFEFE\"> 、</span><span style=\"background-color: #FFFEFE\"> さらに</span><span style=\"background-color: #FFFEFE\"> 「</span><span style=\"background-color: #FFFEFE\"> 人</span><span style=\"background-color: #FFFEFE\"> の</span><span style=\"background-color: #FFFEFE\"> 人生</span><span style=\"background-color: #FFFEFE\"> や</span><span style=\"background-color: #FFFEFE\"> 生命</span><span style=\"background-color: #FFFEFE\"> に</span><span style=\"background-color: #FFFEFE\"> 関わる</span><span style=\"background-color: #FFFEFE\"> こと</span><span style=\"background-color: #FFFEFE\"> を</span><span style=\"background-color: #FFFEFE\"> 平</span><span style=\"background-color: #FFFEFE\"> ##気</span><span style=\"background-color: #FFFEFE\"> で</span><span style=\"background-color: #FFFEFE\"> ガ</span><span style=\"background-color: #FFFEFE\"> ##セ</span><span style=\"background-color: #FFFEFE\"> 流す</span><span style=\"background-color: #FFFEFE\"> 奴</span><span style=\"background-color: #FFFEFE\"> は</span><span style=\"background-color: #FFFEFE\"> 死ん</span><span style=\"background-color: #FFFEFE\"> だ</span><span style=\"background-color: #FFFEFE\"> ほう</span><span style=\"background-color: #FFFEFE\"> が</span><span style=\"background-color: #FFFEFE\"> 世</span><span style=\"background-color: #FFFEFE\"> の</span><span style=\"background-color: #FFFEFE\"> 為</span><span style=\"background-color: #FFFEFE\"> 。</span><span style=\"background-color: #FFFEFE\"> 」</span><span style=\"background-color: #FFFEFE\"> と</span><span style=\"background-color: #FFFDFD\"> 怒り</span><span style=\"background-color: #FFFEFE\"> の</span><span style=\"background-color: #FFFEFE\"> ツイート</span><span style=\"background-color: #FFFEFE\"> を</span><span style=\"background-color: #FFFEFE\"> し</span><span style=\"background-color: #FFFEFE\"> て</span><span style=\"background-color: #FFFEFE\"> いる</span><span style=\"background-color: #FFFEFE\"> 。</span><span style=\"background-color: #FFC0C0\"> これ</span><span style=\"background-color: #FFE3E3\"> を</span><span style=\"background-color: #FFDCDC\"> もっ</span><span style=\"background-color: #FFFDFD\"> て</span><span style=\"background-color: #FFFDFD\"> 、</span><span style=\"background-color: #FFFEFE\"> 石井</span><span style=\"background-color: #FFFEFE\"> の</span><span style=\"background-color: #FFFEFE\"> 体調</span><span style=\"background-color: #FFFEFE\"> 不良</span><span style=\"background-color: #FFF6F6\"> が</span><span style=\"background-color: #FFFEFE\"> ただちに</span><span style=\"background-color: #FFFCFC\"> 否定</span><span style=\"background-color: #FFF6F6\"> さ</span><span style=\"background-color: #FFFBFB\"> れ</span><span style=\"background-color: #FFFDFD\"> た</span><span style=\"background-color: #FFFCFC\"> わけ</span><span style=\"background-color: #FFFEFE\"> で</span><span style=\"background-color: #FFFEFE\"> は</span><span style=\"background-color: #FFF6F6\"> ない</span><span style=\"background-color: #FFFEFE\"> 。</span><span style=\"background-color: #FFAEAE\"> しかし</span><span style=\"background-color: #FFFEFE\"> 、</span><span style=\"background-color: #FFFEFE\"> 石井</span><span style=\"background-color: #FFFEFE\"> から</span><span style=\"background-color: #FFFEFE\"> 近</span><span style=\"background-color: #FFFEFE\"> ##しい</span><span style=\"background-color: #FFFEFE\"> と</span><span style=\"background-color: #FFFEFE\"> 思わ</span><span style=\"background-color: #FFFEFE\"> れる</span><span style=\"background-color: #FFFEFE\"> 人間</span><span style=\"background-color: #FFFEFE\"> から</span><span style=\"background-color: #FFFEFE\"> の</span><span style=\"background-color: #FFFDFD\"> 情報</span><span style=\"background-color: #FFFEFE\"> で</span><span style=\"background-color: #FFFDFD\"> あり</span><span style=\"background-color: #FFFEFE\"> 、</span><span style=\"background-color: #FFFEFE\"> 信</span><span style=\"background-color: #FFFEFE\"> ##ぴ</span><span style=\"background-color: #FFFEFE\"> ##ょう</span><span style=\"background-color: #FFFCFC\"> 性</span><span style=\"background-color: #FFFEFE\"> は</span><span style=\"background-color: #FFFEFE\"> 高い</span><span style=\"background-color: #FFFEFE\"> と</span><span style=\"background-color: #FFFEFE\"> いえる</span><span style=\"background-color: #FFFDFD\"> だろ</span><span style=\"background-color: #FFFDFD\"> う</span><span style=\"background-color: #FFFEFE\"> 。</span><span style=\"background-color: #FFC7C7\"> この</span><span style=\"background-color: #FFEEEE\"> 件</span><span style=\"background-color: #FFFDFD\"> について</span><span style=\"background-color: #FFFEFE\"> 、</span><span style=\"background-color: #FFFEFE\"> 格闘技</span><span style=\"background-color: #FFFEFE\"> ファン</span><span style=\"background-color: #FFFEFE\"> から</span><span style=\"background-color: #FFFEFE\"> は</span><span style=\"background-color: #FFFEFE\"> 「</span><span style=\"background-color: #FFFEFE\"> 良かっ</span><span style=\"background-color: #FFFEFE\"> た</span><span style=\"background-color: #FFFEFE\"> 、</span><span style=\"background-color: #FFFEFE\"> 引退</span><span style=\"background-color: #FFFEFE\"> する</span><span style=\"background-color: #FFFEFE\"> 石井</span><span style=\"background-color: #FFFEFE\"> は</span><span style=\"background-color: #FFFEFE\"> 居</span><span style=\"background-color: #FFFEFE\"> なかっ</span><span style=\"background-color: #FFFEFE\"> た</span><span style=\"background-color: #FFFEFE\"> ん</span><span style=\"background-color: #FFFEFE\"> だ</span><span style=\"background-color: #FFFEFE\"> ...」</span><span style=\"background-color: #FFFEFE\"> ##「</span><span style=\"background-color: #FFFEFE\"> とり</span><span style=\"background-color: #FFFEFE\"> ##あ</span><span style=\"background-color: #FFFEFE\"> ##えず</span><span style=\"background-color: #FFFEFE\"> よかっ</span><span style=\"background-color: #FFFEFE\"> た</span><span style=\"background-color: #FFFEFE\"> 」</span><span style=\"background-color: #FFFEFE\"> といった</span><span style=\"background-color: #FFFEFE\"> 安堵</span><span style=\"background-color: #FFFEFE\"> の</span><span style=\"background-color: #FFFEFE\"> コメント</span><span style=\"background-color: #FFFEFE\"> が</span><span style=\"background-color: #FFFEFE\"> 並ん</span><span style=\"background-color: #FFFEFE\"> で</span><span style=\"background-color: #FFFEFE\"> いる</span><span style=\"background-color: #FFFEFE\"> 。</span><br><br>[BERTのAttentionを可視化_8]<br><span style=\"background-color: #FFFEFE\"> [CLS]</span><span style=\"background-color: #FFFEFE\"> ヒ</span><span style=\"background-color: #FFFEFE\"> ##ョー</span><span style=\"background-color: #FFFEFE\"> ##ドル</span><span style=\"background-color: #FFFEFE\"> 戦</span><span style=\"background-color: #FFFEFE\"> で</span><span style=\"background-color: #FFFEFE\"> KO</span><span style=\"background-color: #FFFEFE\"> さ</span><span style=\"background-color: #FFFEFE\"> れ</span><span style=\"background-color: #FFFFFF\"> 病院</span><span style=\"background-color: #FFFFFF\"> に</span><span style=\"background-color: #FFFEFE\"> 直行</span><span style=\"background-color: #FFFEFE\"> し</span><span style=\"background-color: #FFFEFE\"> た</span><span style=\"background-color: #FFFEFE\"> 石井</span><span style=\"background-color: #FFFEFE\"> 慧</span><span style=\"background-color: #FFFEFE\"> について</span><span style=\"background-color: #FFFEFE\"> 、</span><span style=\"background-color: #FFFEFE\"> 30</span><span style=\"background-color: #FFFEFE\"> 日</span><span style=\"background-color: #FFFEFE\"> に</span><span style=\"background-color: #FFFEFE\"> 脳</span><span style=\"background-color: #FFFEFE\"> 障害</span><span style=\"background-color: #FFFEFE\"> により</span><span style=\"background-color: #FFFEFE\"> 引退</span><span style=\"background-color: #FFFEFE\"> 危機</span><span style=\"background-color: #FFFEFE\"> という</span><span style=\"background-color: #FFFEFE\"> 報道</span><span style=\"background-color: #FFFEFE\"> が</span><span style=\"background-color: #FFFEFE\"> 行なわ</span><span style=\"background-color: #FFCCCC\"> れ</span><span style=\"background-color: #FF8F8F\"> た</span><span style=\"background-color: #FFFEFE\"> 。</span><span style=\"background-color: #FFFEFE\"> 記事</span><span style=\"background-color: #FFFEFE\"> に</span><span style=\"background-color: #FFFEFE\"> は</span><span style=\"background-color: #FFFEFE\"> 「</span><span style=\"background-color: #FFFEFE\"> 一説</span><span style=\"background-color: #FFFEFE\"> に</span><span style=\"background-color: #FFFEFE\"> は</span><span style=\"background-color: #FFFFFF\"> 『</span><span style=\"background-color: #FFFFFF\"> 脳</span><span style=\"background-color: #FFFEFE\"> 浮</span><span style=\"background-color: #FFFEFE\"> ##腫</span><span style=\"background-color: #FFFFFF\"> 』</span><span style=\"background-color: #FFFEFE\"> と</span><span style=\"background-color: #FFFEFE\"> も</span><span style=\"background-color: #FFFEFE\"> 言わ</span><span style=\"background-color: #FFFEFE\"> れ</span><span style=\"background-color: #FFFEFE\"> て</span><span style=\"background-color: #FFFEFE\"> い</span><span style=\"background-color: #FFFEFE\"> ます</span><span style=\"background-color: #FFFEFE\"> 」</span><span style=\"background-color: #FFFEFE\"> (</span><span style=\"background-color: #FFFEFE\"> 格闘技</span><span style=\"background-color: #FFFEFE\"> 事情</span><span style=\"background-color: #FFFEFE\"> 通</span><span style=\"background-color: #FFFEFE\"> )</span><span style=\"background-color: #FFFEFE\"> と</span><span style=\"background-color: #FFFEFE\"> あり</span><span style=\"background-color: #FFFEFE\"> 、</span><span style=\"background-color: #FFFEFE\"> 石井</span><span style=\"background-color: #FFFEFE\"> の</span><span style=\"background-color: #FFFEFE\"> 容</span><span style=\"background-color: #FFFEFE\"> ##態</span><span style=\"background-color: #FFFEFE\"> は</span><span style=\"background-color: #FFFEFE\"> 深刻</span><span style=\"background-color: #FFFEFE\"> な</span><span style=\"background-color: #FFFEFE\"> もの</span><span style=\"background-color: #FFFEFE\"> と</span><span style=\"background-color: #FFFEFE\"> 思わ</span><span style=\"background-color: #FFE7E7\"> れ</span><span style=\"background-color: #FFAEAE\"> た</span><span style=\"background-color: #FFFEFE\"> 。</span><span style=\"background-color: #FFFEFE\"> しかし</span><span style=\"background-color: #FFFEFE\"> 、</span><span style=\"background-color: #FFFEFE\"> この</span><span style=\"background-color: #FFFEFE\"> 件</span><span style=\"background-color: #FFFEFE\"> について</span><span style=\"background-color: #FFFEFE\"> 元</span><span style=\"background-color: #FFFEFE\"> DEEP</span><span style=\"background-color: #FFFEFE\"> ミドル</span><span style=\"background-color: #FFFEFE\"> 級</span><span style=\"background-color: #FFFEFE\"> 王者</span><span style=\"background-color: #FFFEFE\"> で</span><span style=\"background-color: #FFFEFE\"> ある</span><span style=\"background-color: #FFFEFE\"> 長</span><span style=\"background-color: #FFFEFE\"> ##南</span><span style=\"background-color: #FFFEFE\"> 亮</span><span style=\"background-color: #FFFEFE\"> (</span><span style=\"background-color: #FFFFFF\"> ちょう</span><span style=\"background-color: #FFFEFE\"> なん</span><span style=\"background-color: #FFFEFE\"> ・</span><span style=\"background-color: #FFFEFE\"> りょう</span><span style=\"background-color: #FFFEFE\"> )</span><span style=\"background-color: #FFFEFE\"> は</span><span style=\"background-color: #FFFEFE\"> 真っ</span><span style=\"background-color: #FFFEFE\"> ##向</span><span style=\"background-color: #FFFEFE\"> から</span><span style=\"background-color: #FFFDFD\"> 否定</span><span style=\"background-color: #FFFBFB\"> 。</span><span style=\"background-color: #FFFEFE\"> 自身</span><span style=\"background-color: #FFFEFE\"> の</span><span style=\"background-color: #FFFEFE\"> ツイッター</span><span style=\"background-color: #FFFEFE\"> にて</span><span style=\"background-color: #FFFEFE\"> 「</span><span style=\"background-color: #FFFEFE\"> 石井</span><span style=\"background-color: #FFFEFE\"> 慧</span><span style=\"background-color: #FFFEFE\"> の</span><span style=\"background-color: #FFFEFE\"> 体調</span><span style=\"background-color: #FFFEFE\"> は</span><span style=\"background-color: #FFFEFE\"> 良好</span><span style=\"background-color: #FFFEFE\"> だ</span><span style=\"background-color: #FFFEFE\"> そう</span><span style=\"background-color: #FFFEFE\"> です</span><span style=\"background-color: #FFFEFE\"> 。</span><span style=\"background-color: #FFFEFE\"> 」</span><span style=\"background-color: #FFFEFE\"> と</span><span style=\"background-color: #FFFEFE\"> コメント</span><span style=\"background-color: #FFFEFE\"> 、</span><span style=\"background-color: #FFFEFE\"> さらに</span><span style=\"background-color: #FFFEFE\"> 「</span><span style=\"background-color: #FFFFFF\"> 人</span><span style=\"background-color: #FFFFFF\"> の</span><span style=\"background-color: #FFFFFF\"> 人生</span><span style=\"background-color: #FFFFFF\"> や</span><span style=\"background-color: #FFFFFF\"> 生命</span><span style=\"background-color: #FFFFFF\"> に</span><span style=\"background-color: #FFFFFF\"> 関わる</span><span style=\"background-color: #FFFFFF\"> こと</span><span style=\"background-color: #FFFFFF\"> を</span><span style=\"background-color: #FFFFFF\"> 平</span><span style=\"background-color: #FFFEFE\"> ##気</span><span style=\"background-color: #FFFEFE\"> で</span><span style=\"background-color: #FFFFFF\"> ガ</span><span style=\"background-color: #FFFEFE\"> ##セ</span><span style=\"background-color: #FFFEFE\"> 流す</span><span style=\"background-color: #FFFEFE\"> 奴</span><span style=\"background-color: #FFFFFF\"> は</span><span style=\"background-color: #FFFEFE\"> 死ん</span><span style=\"background-color: #FFFEFE\"> だ</span><span style=\"background-color: #FFFEFE\"> ほう</span><span style=\"background-color: #FFFEFE\"> が</span><span style=\"background-color: #FFFFFF\"> 世</span><span style=\"background-color: #FFFFFF\"> の</span><span style=\"background-color: #FFFEFE\"> 為</span><span style=\"background-color: #FFFEFE\"> 。</span><span style=\"background-color: #FFFEFE\"> 」</span><span style=\"background-color: #FFFEFE\"> と</span><span style=\"background-color: #FFFEFE\"> 怒り</span><span style=\"background-color: #FFFEFE\"> の</span><span style=\"background-color: #FFFEFE\"> ツイート</span><span style=\"background-color: #FFFEFE\"> を</span><span style=\"background-color: #FFFCFC\"> し</span><span style=\"background-color: #FFF1F1\"> て</span><span style=\"background-color: #FF0000\"> いる</span><span style=\"background-color: #FFFEFE\"> 。</span><span style=\"background-color: #FFFEFE\"> これ</span><span style=\"background-color: #FFFEFE\"> を</span><span style=\"background-color: #FFFEFE\"> もっ</span><span style=\"background-color: #FFFEFE\"> て</span><span style=\"background-color: #FFFEFE\"> 、</span><span style=\"background-color: #FFFEFE\"> 石井</span><span style=\"background-color: #FFFEFE\"> の</span><span style=\"background-color: #FFFEFE\"> 体調</span><span style=\"background-color: #FFFEFE\"> 不良</span><span style=\"background-color: #FFFEFE\"> が</span><span style=\"background-color: #FFFEFE\"> ただちに</span><span style=\"background-color: #FFFEFE\"> 否定</span><span style=\"background-color: #FFFEFE\"> さ</span><span style=\"background-color: #FFFEFE\"> れ</span><span style=\"background-color: #FFFEFE\"> た</span><span style=\"background-color: #FFFEFE\"> わけ</span><span style=\"background-color: #FFFEFE\"> で</span><span style=\"background-color: #FFFEFE\"> は</span><span style=\"background-color: #FFFCFC\"> ない</span><span style=\"background-color: #FFFEFE\"> 。</span><span style=\"background-color: #FFFEFE\"> しかし</span><span style=\"background-color: #FFFEFE\"> 、</span><span style=\"background-color: #FFFEFE\"> 石井</span><span style=\"background-color: #FFFEFE\"> から</span><span style=\"background-color: #FFFFFF\"> 近</span><span style=\"background-color: #FFFEFE\"> ##しい</span><span style=\"background-color: #FFFFFF\"> と</span><span style=\"background-color: #FFFEFE\"> 思わ</span><span style=\"background-color: #FFFEFE\"> れる</span><span style=\"background-color: #FFFEFE\"> 人間</span><span style=\"background-color: #FFFEFE\"> から</span><span style=\"background-color: #FFFEFE\"> の</span><span style=\"background-color: #FFFEFE\"> 情報</span><span style=\"background-color: #FFFEFE\"> で</span><span style=\"background-color: #FFFEFE\"> あり</span><span style=\"background-color: #FFFEFE\"> 、</span><span style=\"background-color: #FFFEFE\"> 信</span><span style=\"background-color: #FFFEFE\"> ##ぴ</span><span style=\"background-color: #FFFEFE\"> ##ょう</span><span style=\"background-color: #FFFEFE\"> 性</span><span style=\"background-color: #FFFEFE\"> は</span><span style=\"background-color: #FFFEFE\"> 高い</span><span style=\"background-color: #FFFEFE\"> と</span><span style=\"background-color: #FFFEFE\"> いえる</span><span style=\"background-color: #FFFEFE\"> だろ</span><span style=\"background-color: #FFFEFE\"> う</span><span style=\"background-color: #FFFEFE\"> 。</span><span style=\"background-color: #FFFEFE\"> この</span><span style=\"background-color: #FFFEFE\"> 件</span><span style=\"background-color: #FFFEFE\"> について</span><span style=\"background-color: #FFFEFE\"> 、</span><span style=\"background-color: #FFFEFE\"> 格闘技</span><span style=\"background-color: #FFFEFE\"> ファン</span><span style=\"background-color: #FFFEFE\"> から</span><span style=\"background-color: #FFFEFE\"> は</span><span style=\"background-color: #FFFEFE\"> 「</span><span style=\"background-color: #FFFEFE\"> 良かっ</span><span style=\"background-color: #FFFEFE\"> た</span><span style=\"background-color: #FFFFFF\"> 、</span><span style=\"background-color: #FFFEFE\"> 引退</span><span style=\"background-color: #FFFEFE\"> する</span><span style=\"background-color: #FFFEFE\"> 石井</span><span style=\"background-color: #FFFFFF\"> は</span><span style=\"background-color: #FFFEFE\"> 居</span><span style=\"background-color: #FFFEFE\"> なかっ</span><span style=\"background-color: #FFFEFE\"> た</span><span style=\"background-color: #FFFEFE\"> ん</span><span style=\"background-color: #FFFEFE\"> だ</span><span style=\"background-color: #FFFEFE\"> ...」</span><span style=\"background-color: #FFFEFE\"> ##「</span><span style=\"background-color: #FFFEFE\"> とり</span><span style=\"background-color: #FFFEFE\"> ##あ</span><span style=\"background-color: #FFFFFF\"> ##えず</span><span style=\"background-color: #FFFEFE\"> よかっ</span><span style=\"background-color: #FFFEFE\"> た</span><span style=\"background-color: #FFFEFE\"> 」</span><span style=\"background-color: #FFFEFE\"> といった</span><span style=\"background-color: #FFFEFE\"> 安堵</span><span style=\"background-color: #FFFEFE\"> の</span><span style=\"background-color: #FFFEFE\"> コメント</span><span style=\"background-color: #FFFEFE\"> が</span><span style=\"background-color: #FFFEFE\"> 並ん</span><span style=\"background-color: #FFFDFD\"> で</span><span style=\"background-color: #FF9797\"> いる</span><span style=\"background-color: #FFFEFE\"> 。</span><br><br>[BERTのAttentionを可視化_9]<br><span style=\"background-color: #FFFEFE\"> [CLS]</span><span style=\"background-color: #FFFEFE\"> ヒ</span><span style=\"background-color: #FFFEFE\"> ##ョー</span><span style=\"background-color: #FFFEFE\"> ##ドル</span><span style=\"background-color: #FFFEFE\"> 戦</span><span style=\"background-color: #FFFEFE\"> で</span><span style=\"background-color: #FFFEFE\"> KO</span><span style=\"background-color: #FFFEFE\"> さ</span><span style=\"background-color: #FFFEFE\"> れ</span><span style=\"background-color: #FFFEFE\"> 病院</span><span style=\"background-color: #FFFEFE\"> に</span><span style=\"background-color: #FFFEFE\"> 直行</span><span style=\"background-color: #FFFEFE\"> し</span><span style=\"background-color: #FFFEFE\"> た</span><span style=\"background-color: #FFFEFE\"> 石井</span><span style=\"background-color: #FFFEFE\"> 慧</span><span style=\"background-color: #FFFBFB\"> について</span><span style=\"background-color: #FFFEFE\"> 、</span><span style=\"background-color: #FFFEFE\"> 30</span><span style=\"background-color: #FFFEFE\"> 日</span><span style=\"background-color: #FFFEFE\"> に</span><span style=\"background-color: #FFFEFE\"> 脳</span><span style=\"background-color: #FFFEFE\"> 障害</span><span style=\"background-color: #FFFEFE\"> により</span><span style=\"background-color: #FFFEFE\"> 引退</span><span style=\"background-color: #FFFEFE\"> 危機</span><span style=\"background-color: #FFFDFD\"> という</span><span style=\"background-color: #FFFCFC\"> 報道</span><span style=\"background-color: #FFFEFE\"> が</span><span style=\"background-color: #FFFBFB\"> 行なわ</span><span style=\"background-color: #FFF6F6\"> れ</span><span style=\"background-color: #FFC7C7\"> た</span><span style=\"background-color: #FFFEFE\"> 。</span><span style=\"background-color: #FFFDFD\"> 記事</span><span style=\"background-color: #FFFDFD\"> に</span><span style=\"background-color: #FFF4F4\"> は</span><span style=\"background-color: #FFFEFE\"> 「</span><span style=\"background-color: #FFFEFE\"> 一説</span><span style=\"background-color: #FFFEFE\"> に</span><span style=\"background-color: #FFFEFE\"> は</span><span style=\"background-color: #FFFEFE\"> 『</span><span style=\"background-color: #FFFEFE\"> 脳</span><span style=\"background-color: #FFFEFE\"> 浮</span><span style=\"background-color: #FFFEFE\"> ##腫</span><span style=\"background-color: #FFFEFE\"> 』</span><span style=\"background-color: #FFFEFE\"> と</span><span style=\"background-color: #FFFDFD\"> も</span><span style=\"background-color: #FFFEFE\"> 言わ</span><span style=\"background-color: #FFFEFE\"> れ</span><span style=\"background-color: #FFFEFE\"> て</span><span style=\"background-color: #FFFCFC\"> い</span><span style=\"background-color: #FFFAFA\"> ます</span><span style=\"background-color: #FFF1F1\"> 」</span><span style=\"background-color: #FFFEFE\"> (</span><span style=\"background-color: #FFFEFE\"> 格闘技</span><span style=\"background-color: #FFFEFE\"> 事情</span><span style=\"background-color: #FFFEFE\"> 通</span><span style=\"background-color: #FFFEFE\"> )</span><span style=\"background-color: #FFF5F5\"> と</span><span style=\"background-color: #FF6E6E\"> あり</span><span style=\"background-color: #FFFEFE\"> 、</span><span style=\"background-color: #FFFDFD\"> 石井</span><span style=\"background-color: #FFFEFE\"> の</span><span style=\"background-color: #FFFEFE\"> 容</span><span style=\"background-color: #FFFEFE\"> ##態</span><span style=\"background-color: #FFFEFE\"> は</span><span style=\"background-color: #FFFEFE\"> 深刻</span><span style=\"background-color: #FFFEFE\"> な</span><span style=\"background-color: #FFFCFC\"> もの</span><span style=\"background-color: #FFFEFE\"> と</span><span style=\"background-color: #FFFEFE\"> 思わ</span><span style=\"background-color: #FFFEFE\"> れ</span><span style=\"background-color: #FFEFEF\"> た</span><span style=\"background-color: #FFFEFE\"> 。</span><span style=\"background-color: #FF9494\"> しかし</span><span style=\"background-color: #FFFEFE\"> 、</span><span style=\"background-color: #FFFDFD\"> この</span><span style=\"background-color: #FFFDFD\"> 件</span><span style=\"background-color: #FFFCFC\"> について</span><span style=\"background-color: #FFFEFE\"> 元</span><span style=\"background-color: #FFFEFE\"> DEEP</span><span style=\"background-color: #FFFEFE\"> ミドル</span><span style=\"background-color: #FFFEFE\"> 級</span><span style=\"background-color: #FFFEFE\"> 王者</span><span style=\"background-color: #FFFEFE\"> で</span><span style=\"background-color: #FFFDFD\"> ある</span><span style=\"background-color: #FFFEFE\"> 長</span><span style=\"background-color: #FFFEFE\"> ##南</span><span style=\"background-color: #FFFEFE\"> 亮</span><span style=\"background-color: #FFFEFE\"> (</span><span style=\"background-color: #FFFEFE\"> ちょう</span><span style=\"background-color: #FFFEFE\"> なん</span><span style=\"background-color: #FFFEFE\"> ・</span><span style=\"background-color: #FFFEFE\"> りょう</span><span style=\"background-color: #FFFEFE\"> )</span><span style=\"background-color: #FFFEFE\"> は</span><span style=\"background-color: #FFFEFE\"> 真っ</span><span style=\"background-color: #FFFEFE\"> ##向</span><span style=\"background-color: #FFFEFE\"> から</span><span style=\"background-color: #FFFEFE\"> 否定</span><span style=\"background-color: #FFFEFE\"> 。</span><span style=\"background-color: #FFF6F6\"> 自身</span><span style=\"background-color: #FFFEFE\"> の</span><span style=\"background-color: #FFFEFE\"> ツイッター</span><span style=\"background-color: #FFFDFD\"> にて</span><span style=\"background-color: #FFFEFE\"> 「</span><span style=\"background-color: #FFFEFE\"> 石井</span><span style=\"background-color: #FFFEFE\"> 慧</span><span style=\"background-color: #FFFEFE\"> の</span><span style=\"background-color: #FFFEFE\"> 体調</span><span style=\"background-color: #FFFEFE\"> は</span><span style=\"background-color: #FFFEFE\"> 良好</span><span style=\"background-color: #FFFEFE\"> だ</span><span style=\"background-color: #FFFEFE\"> そう</span><span style=\"background-color: #FFFBFB\"> です</span><span style=\"background-color: #FFFCFC\"> 。</span><span style=\"background-color: #FFF8F8\"> 」</span><span style=\"background-color: #FFFEFE\"> と</span><span style=\"background-color: #FFFEFE\"> コメント</span><span style=\"background-color: #FFFEFE\"> 、</span><span style=\"background-color: #FFE7E7\"> さらに</span><span style=\"background-color: #FFFEFE\"> 「</span><span style=\"background-color: #FFFEFE\"> 人</span><span style=\"background-color: #FFFEFE\"> の</span><span style=\"background-color: #FFFEFE\"> 人生</span><span style=\"background-color: #FFFEFE\"> や</span><span style=\"background-color: #FFFEFE\"> 生命</span><span style=\"background-color: #FFFEFE\"> に</span><span style=\"background-color: #FFFEFE\"> 関わる</span><span style=\"background-color: #FFFEFE\"> こと</span><span style=\"background-color: #FFFEFE\"> を</span><span style=\"background-color: #FFFEFE\"> 平</span><span style=\"background-color: #FFFEFE\"> ##気</span><span style=\"background-color: #FFFEFE\"> で</span><span style=\"background-color: #FFFEFE\"> ガ</span><span style=\"background-color: #FFFEFE\"> ##セ</span><span style=\"background-color: #FFFEFE\"> 流す</span><span style=\"background-color: #FFFEFE\"> 奴</span><span style=\"background-color: #FFFEFE\"> は</span><span style=\"background-color: #FFFEFE\"> 死ん</span><span style=\"background-color: #FFFEFE\"> だ</span><span style=\"background-color: #FFFEFE\"> ほう</span><span style=\"background-color: #FFFEFE\"> が</span><span style=\"background-color: #FFFEFE\"> 世</span><span style=\"background-color: #FFFEFE\"> の</span><span style=\"background-color: #FFFEFE\"> 為</span><span style=\"background-color: #FFFCFC\"> 。</span><span style=\"background-color: #FFD1D1\"> 」</span><span style=\"background-color: #FFFEFE\"> と</span><span style=\"background-color: #FFFEFE\"> 怒り</span><span style=\"background-color: #FFFEFE\"> の</span><span style=\"background-color: #FFFEFE\"> ツイート</span><span style=\"background-color: #FFFDFD\"> を</span><span style=\"background-color: #FFF0F0\"> し</span><span style=\"background-color: #FFFCFC\"> て</span><span style=\"background-color: #FF0000\"> いる</span><span style=\"background-color: #FFFEFE\"> 。</span><span style=\"background-color: #FFFCFC\"> これ</span><span style=\"background-color: #FFFEFE\"> を</span><span style=\"background-color: #FFFEFE\"> もっ</span><span style=\"background-color: #FFFEFE\"> て</span><span style=\"background-color: #FFFEFE\"> 、</span><span style=\"background-color: #FFFDFD\"> 石井</span><span style=\"background-color: #FFFEFE\"> の</span><span style=\"background-color: #FFFEFE\"> 体調</span><span style=\"background-color: #FFFEFE\"> 不良</span><span style=\"background-color: #FFFEFE\"> が</span><span style=\"background-color: #FFFEFE\"> ただちに</span><span style=\"background-color: #FFFEFE\"> 否定</span><span style=\"background-color: #FFFEFE\"> さ</span><span style=\"background-color: #FFFEFE\"> れ</span><span style=\"background-color: #FFFDFD\"> た</span><span style=\"background-color: #FFF5F5\"> わけ</span><span style=\"background-color: #FFFDFD\"> で</span><span style=\"background-color: #FFFDFD\"> は</span><span style=\"background-color: #FFF1F1\"> ない</span><span style=\"background-color: #FFFEFE\"> 。</span><span style=\"background-color: #FFDBDB\"> しかし</span><span style=\"background-color: #FFFEFE\"> 、</span><span style=\"background-color: #FFFEFE\"> 石井</span><span style=\"background-color: #FFFEFE\"> から</span><span style=\"background-color: #FFFEFE\"> 近</span><span style=\"background-color: #FFFEFE\"> ##しい</span><span style=\"background-color: #FFFEFE\"> と</span><span style=\"background-color: #FFFEFE\"> 思わ</span><span style=\"background-color: #FFFEFE\"> れる</span><span style=\"background-color: #FFFEFE\"> 人間</span><span style=\"background-color: #FFFEFE\"> から</span><span style=\"background-color: #FFFEFE\"> の</span><span style=\"background-color: #FFFEFE\"> 情報</span><span style=\"background-color: #FFFEFE\"> で</span><span style=\"background-color: #FFFAFA\"> あり</span><span style=\"background-color: #FFFEFE\"> 、</span><span style=\"background-color: #FFFEFE\"> 信</span><span style=\"background-color: #FFFEFE\"> ##ぴ</span><span style=\"background-color: #FFFEFE\"> ##ょう</span><span style=\"background-color: #FFFEFE\"> 性</span><span style=\"background-color: #FFFEFE\"> は</span><span style=\"background-color: #FFF1F1\"> 高い</span><span style=\"background-color: #FFFEFE\"> と</span><span style=\"background-color: #FFFBFB\"> いえる</span><span style=\"background-color: #FFFCFC\"> だろ</span><span style=\"background-color: #FFF8F8\"> う</span><span style=\"background-color: #FFFEFE\"> 。</span><span style=\"background-color: #FFFDFD\"> この</span><span style=\"background-color: #FFFEFE\"> 件</span><span style=\"background-color: #FFFCFC\"> について</span><span style=\"background-color: #FFFEFE\"> 、</span><span style=\"background-color: #FFFEFE\"> 格闘技</span><span style=\"background-color: #FFFEFE\"> ファン</span><span style=\"background-color: #FFFDFD\"> から</span><span style=\"background-color: #FFFCFC\"> は</span><span style=\"background-color: #FFFEFE\"> 「</span><span style=\"background-color: #FFFEFE\"> 良かっ</span><span style=\"background-color: #FFFEFE\"> た</span><span style=\"background-color: #FFFEFE\"> 、</span><span style=\"background-color: #FFFEFE\"> 引退</span><span style=\"background-color: #FFFEFE\"> する</span><span style=\"background-color: #FFFEFE\"> 石井</span><span style=\"background-color: #FFFEFE\"> は</span><span style=\"background-color: #FFFEFE\"> 居</span><span style=\"background-color: #FFFEFE\"> なかっ</span><span style=\"background-color: #FFFEFE\"> た</span><span style=\"background-color: #FFFEFE\"> ん</span><span style=\"background-color: #FFFDFD\"> だ</span><span style=\"background-color: #FFFEFE\"> ...」</span><span style=\"background-color: #FFFEFE\"> ##「</span><span style=\"background-color: #FFFEFE\"> とり</span><span style=\"background-color: #FFFEFE\"> ##あ</span><span style=\"background-color: #FFFEFE\"> ##えず</span><span style=\"background-color: #FFFEFE\"> よかっ</span><span style=\"background-color: #FFFEFE\"> た</span><span style=\"background-color: #FFFBFB\"> 」</span><span style=\"background-color: #FFFDFD\"> といった</span><span style=\"background-color: #FFFEFE\"> 安堵</span><span style=\"background-color: #FFFEFE\"> の</span><span style=\"background-color: #FFFEFE\"> コメント</span><span style=\"background-color: #FFFEFE\"> が</span><span style=\"background-color: #FFFEFE\"> 並ん</span><span style=\"background-color: #FFFEFE\"> で</span><span style=\"background-color: #FFA0A0\"> いる</span><span style=\"background-color: #FFFEFE\"> 。</span><br><br>[BERTのAttentionを可視化_10]<br><span style=\"background-color: #FFFEFE\"> [CLS]</span><span style=\"background-color: #FFFEFE\"> ヒ</span><span style=\"background-color: #FFFEFE\"> ##ョー</span><span style=\"background-color: #FFFEFE\"> ##ドル</span><span style=\"background-color: #FFFEFE\"> 戦</span><span style=\"background-color: #FFFEFE\"> で</span><span style=\"background-color: #FFFEFE\"> KO</span><span style=\"background-color: #FFFEFE\"> さ</span><span style=\"background-color: #FFFEFE\"> れ</span><span style=\"background-color: #FFFEFE\"> 病院</span><span style=\"background-color: #FFFEFE\"> に</span><span style=\"background-color: #FFFEFE\"> 直行</span><span style=\"background-color: #FFFEFE\"> し</span><span style=\"background-color: #FFFEFE\"> た</span><span style=\"background-color: #FFFEFE\"> 石井</span><span style=\"background-color: #FFFEFE\"> 慧</span><span style=\"background-color: #FF0000\"> について</span><span style=\"background-color: #FFFEFE\"> 、</span><span style=\"background-color: #FFFEFE\"> 30</span><span style=\"background-color: #FFFEFE\"> 日</span><span style=\"background-color: #FFFEFE\"> に</span><span style=\"background-color: #FFFEFE\"> 脳</span><span style=\"background-color: #FFFEFE\"> 障害</span><span style=\"background-color: #FFFEFE\"> により</span><span style=\"background-color: #FFFEFE\"> 引退</span><span style=\"background-color: #FFFEFE\"> 危機</span><span style=\"background-color: #FFFEFE\"> という</span><span style=\"background-color: #FFFEFE\"> 報道</span><span style=\"background-color: #FFFEFE\"> が</span><span style=\"background-color: #FFFEFE\"> 行なわ</span><span style=\"background-color: #FFFDFD\"> れ</span><span style=\"background-color: #FFFEFE\"> た</span><span style=\"background-color: #FFFEFE\"> 。</span><span style=\"background-color: #FFFEFE\"> 記事</span><span style=\"background-color: #FFFEFE\"> に</span><span style=\"background-color: #FFFBFB\"> は</span><span style=\"background-color: #FFFEFE\"> 「</span><span style=\"background-color: #FFFEFE\"> 一説</span><span style=\"background-color: #FFFEFE\"> に</span><span style=\"background-color: #FFFEFE\"> は</span><span style=\"background-color: #FFFEFE\"> 『</span><span style=\"background-color: #FFFEFE\"> 脳</span><span style=\"background-color: #FFFEFE\"> 浮</span><span style=\"background-color: #FFFEFE\"> ##腫</span><span style=\"background-color: #FFFEFE\"> 』</span><span style=\"background-color: #FFFEFE\"> と</span><span style=\"background-color: #FFFEFE\"> も</span><span style=\"background-color: #FFFEFE\"> 言わ</span><span style=\"background-color: #FFFEFE\"> れ</span><span style=\"background-color: #FFFEFE\"> て</span><span style=\"background-color: #FFFEFE\"> い</span><span style=\"background-color: #FFFEFE\"> ます</span><span style=\"background-color: #FFFEFE\"> 」</span><span style=\"background-color: #FFFEFE\"> (</span><span style=\"background-color: #FFFEFE\"> 格闘技</span><span style=\"background-color: #FFFEFE\"> 事情</span><span style=\"background-color: #FFFEFE\"> 通</span><span style=\"background-color: #FFFEFE\"> )</span><span style=\"background-color: #FFFEFE\"> と</span><span style=\"background-color: #FFD3D3\"> あり</span><span style=\"background-color: #FFFEFE\"> 、</span><span style=\"background-color: #FFFEFE\"> 石井</span><span style=\"background-color: #FFFEFE\"> の</span><span style=\"background-color: #FFFEFE\"> 容</span><span style=\"background-color: #FFFEFE\"> ##態</span><span style=\"background-color: #FFFEFE\"> は</span><span style=\"background-color: #FFFEFE\"> 深刻</span><span style=\"background-color: #FFFEFE\"> な</span><span style=\"background-color: #FFFEFE\"> もの</span><span style=\"background-color: #FFFEFE\"> と</span><span style=\"background-color: #FFFEFE\"> 思わ</span><span style=\"background-color: #FFFEFE\"> れ</span><span style=\"background-color: #FFFEFE\"> た</span><span style=\"background-color: #FFFEFE\"> 。</span><span style=\"background-color: #FFFAFA\"> しかし</span><span style=\"background-color: #FFFEFE\"> 、</span><span style=\"background-color: #FFFEFE\"> この</span><span style=\"background-color: #FFFEFE\"> 件</span><span style=\"background-color: #FFF6F6\"> について</span><span style=\"background-color: #FFFEFE\"> 元</span><span style=\"background-color: #FFFEFE\"> DEEP</span><span style=\"background-color: #FFFEFE\"> ミドル</span><span style=\"background-color: #FFFEFE\"> 級</span><span style=\"background-color: #FFFEFE\"> 王者</span><span style=\"background-color: #FFFEFE\"> で</span><span style=\"background-color: #FFFEFE\"> ある</span><span style=\"background-color: #FFFEFE\"> 長</span><span style=\"background-color: #FFFEFE\"> ##南</span><span style=\"background-color: #FFFEFE\"> 亮</span><span style=\"background-color: #FFFEFE\"> (</span><span style=\"background-color: #FFFEFE\"> ちょう</span><span style=\"background-color: #FFFEFE\"> なん</span><span style=\"background-color: #FFFEFE\"> ・</span><span style=\"background-color: #FFFEFE\"> りょう</span><span style=\"background-color: #FFFDFD\"> )</span><span style=\"background-color: #FFF0F0\"> は</span><span style=\"background-color: #FFFEFE\"> 真っ</span><span style=\"background-color: #FFFEFE\"> ##向</span><span style=\"background-color: #FFFEFE\"> から</span><span style=\"background-color: #FFFEFE\"> 否定</span><span style=\"background-color: #FFFEFE\"> 。</span><span style=\"background-color: #FFFEFE\"> 自身</span><span style=\"background-color: #FFFEFE\"> の</span><span style=\"background-color: #FFFEFE\"> ツイッター</span><span style=\"background-color: #FFFEFE\"> にて</span><span style=\"background-color: #FFFEFE\"> 「</span><span style=\"background-color: #FFFEFE\"> 石井</span><span style=\"background-color: #FFFEFE\"> 慧</span><span style=\"background-color: #FFFEFE\"> の</span><span style=\"background-color: #FFFEFE\"> 体調</span><span style=\"background-color: #FFFEFE\"> は</span><span style=\"background-color: #FFFEFE\"> 良好</span><span style=\"background-color: #FFFEFE\"> だ</span><span style=\"background-color: #FFFEFE\"> そう</span><span style=\"background-color: #FFFEFE\"> です</span><span style=\"background-color: #FFFEFE\"> 。</span><span style=\"background-color: #FFFEFE\"> 」</span><span style=\"background-color: #FFFEFE\"> と</span><span style=\"background-color: #FFFEFE\"> コメント</span><span style=\"background-color: #FFFEFE\"> 、</span><span style=\"background-color: #FFFEFE\"> さらに</span><span style=\"background-color: #FFFEFE\"> 「</span><span style=\"background-color: #FFFEFE\"> 人</span><span style=\"background-color: #FFFEFE\"> の</span><span style=\"background-color: #FFFEFE\"> 人生</span><span style=\"background-color: #FFFEFE\"> や</span><span style=\"background-color: #FFFEFE\"> 生命</span><span style=\"background-color: #FFFEFE\"> に</span><span style=\"background-color: #FFFEFE\"> 関わる</span><span style=\"background-color: #FFFEFE\"> こと</span><span style=\"background-color: #FFFEFE\"> を</span><span style=\"background-color: #FFFEFE\"> 平</span><span style=\"background-color: #FFFEFE\"> ##気</span><span style=\"background-color: #FFFEFE\"> で</span><span style=\"background-color: #FFFEFE\"> ガ</span><span style=\"background-color: #FFFFFF\"> ##セ</span><span style=\"background-color: #FFFEFE\"> 流す</span><span style=\"background-color: #FFFEFE\"> 奴</span><span style=\"background-color: #FFFEFE\"> は</span><span style=\"background-color: #FFFEFE\"> 死ん</span><span style=\"background-color: #FFFEFE\"> だ</span><span style=\"background-color: #FFFEFE\"> ほう</span><span style=\"background-color: #FFFEFE\"> が</span><span style=\"background-color: #FFFEFE\"> 世</span><span style=\"background-color: #FFFEFE\"> の</span><span style=\"background-color: #FFFEFE\"> 為</span><span style=\"background-color: #FFFEFE\"> 。</span><span style=\"background-color: #FFFEFE\"> 」</span><span style=\"background-color: #FFFEFE\"> と</span><span style=\"background-color: #FFFEFE\"> 怒り</span><span style=\"background-color: #FFFEFE\"> の</span><span style=\"background-color: #FFFEFE\"> ツイート</span><span style=\"background-color: #FFFEFE\"> を</span><span style=\"background-color: #FFFEFE\"> し</span><span style=\"background-color: #FFFEFE\"> て</span><span style=\"background-color: #FFFEFE\"> いる</span><span style=\"background-color: #FFFEFE\"> 。</span><span style=\"background-color: #FFFEFE\"> これ</span><span style=\"background-color: #FFFEFE\"> を</span><span style=\"background-color: #FFFEFE\"> もっ</span><span style=\"background-color: #FFFEFE\"> て</span><span style=\"background-color: #FFFEFE\"> 、</span><span style=\"background-color: #FFFEFE\"> 石井</span><span style=\"background-color: #FFFEFE\"> の</span><span style=\"background-color: #FFFEFE\"> 体調</span><span style=\"background-color: #FFFEFE\"> 不良</span><span style=\"background-color: #FFFEFE\"> が</span><span style=\"background-color: #FFFEFE\"> ただちに</span><span style=\"background-color: #FFFEFE\"> 否定</span><span style=\"background-color: #FFFEFE\"> さ</span><span style=\"background-color: #FFFEFE\"> れ</span><span style=\"background-color: #FFFEFE\"> た</span><span style=\"background-color: #FFFEFE\"> わけ</span><span style=\"background-color: #FFFEFE\"> で</span><span style=\"background-color: #FFFEFE\"> は</span><span style=\"background-color: #FFFBFB\"> ない</span><span style=\"background-color: #FFFEFE\"> 。</span><span style=\"background-color: #FFFBFB\"> しかし</span><span style=\"background-color: #FFFEFE\"> 、</span><span style=\"background-color: #FFFEFE\"> 石井</span><span style=\"background-color: #FFFEFE\"> から</span><span style=\"background-color: #FFFEFE\"> 近</span><span style=\"background-color: #FFFEFE\"> ##しい</span><span style=\"background-color: #FFFEFE\"> と</span><span style=\"background-color: #FFFEFE\"> 思わ</span><span style=\"background-color: #FFFEFE\"> れる</span><span style=\"background-color: #FFFEFE\"> 人間</span><span style=\"background-color: #FFFEFE\"> から</span><span style=\"background-color: #FFFEFE\"> の</span><span style=\"background-color: #FFFEFE\"> 情報</span><span style=\"background-color: #FFFEFE\"> で</span><span style=\"background-color: #FFEDED\"> あり</span><span style=\"background-color: #FFFEFE\"> 、</span><span style=\"background-color: #FFFEFE\"> 信</span><span style=\"background-color: #FFFEFE\"> ##ぴ</span><span style=\"background-color: #FFFEFE\"> ##ょう</span><span style=\"background-color: #FFFEFE\"> 性</span><span style=\"background-color: #FFFEFE\"> は</span><span style=\"background-color: #FFFEFE\"> 高い</span><span style=\"background-color: #FFFEFE\"> と</span><span style=\"background-color: #FFFDFD\"> いえる</span><span style=\"background-color: #FFFDFD\"> だろ</span><span style=\"background-color: #FFFDFD\"> う</span><span style=\"background-color: #FFFEFE\"> 。</span><span style=\"background-color: #FFFEFE\"> この</span><span style=\"background-color: #FFFEFE\"> 件</span><span style=\"background-color: #FFCFCF\"> について</span><span style=\"background-color: #FFFEFE\"> 、</span><span style=\"background-color: #FFFEFE\"> 格闘技</span><span style=\"background-color: #FFFEFE\"> ファン</span><span style=\"background-color: #FFFEFE\"> から</span><span style=\"background-color: #FFFBFB\"> は</span><span style=\"background-color: #FFFEFE\"> 「</span><span style=\"background-color: #FFFEFE\"> 良かっ</span><span style=\"background-color: #FFFEFE\"> た</span><span style=\"background-color: #FFFEFE\"> 、</span><span style=\"background-color: #FFFEFE\"> 引退</span><span style=\"background-color: #FFFEFE\"> する</span><span style=\"background-color: #FFFEFE\"> 石井</span><span style=\"background-color: #FFFEFE\"> は</span><span style=\"background-color: #FFFEFE\"> 居</span><span style=\"background-color: #FFFEFE\"> なかっ</span><span style=\"background-color: #FFFEFE\"> た</span><span style=\"background-color: #FFFEFE\"> ん</span><span style=\"background-color: #FFFEFE\"> だ</span><span style=\"background-color: #FFFEFE\"> ...」</span><span style=\"background-color: #FFFEFE\"> ##「</span><span style=\"background-color: #FFFEFE\"> とり</span><span style=\"background-color: #FFFEFE\"> ##あ</span><span style=\"background-color: #FFFEFE\"> ##えず</span><span style=\"background-color: #FFFEFE\"> よかっ</span><span style=\"background-color: #FFFEFE\"> た</span><span style=\"background-color: #FFFEFE\"> 」</span><span style=\"background-color: #FFFEFE\"> といった</span><span style=\"background-color: #FFFEFE\"> 安堵</span><span style=\"background-color: #FFFEFE\"> の</span><span style=\"background-color: #FFFEFE\"> コメント</span><span style=\"background-color: #FFFEFE\"> が</span><span style=\"background-color: #FFFEFE\"> 並ん</span><span style=\"background-color: #FFFEFE\"> で</span><span style=\"background-color: #FFFEFE\"> いる</span><span style=\"background-color: #FFFEFE\"> 。</span><br><br>[BERTのAttentionを可視化_11]<br><span style=\"background-color: #FFFEFE\"> [CLS]</span><span style=\"background-color: #FFFEFE\"> ヒ</span><span style=\"background-color: #FFFEFE\"> ##ョー</span><span style=\"background-color: #FFFEFE\"> ##ドル</span><span style=\"background-color: #FFEBEB\"> 戦</span><span style=\"background-color: #FFFEFE\"> で</span><span style=\"background-color: #FFFEFE\"> KO</span><span style=\"background-color: #FFFEFE\"> さ</span><span style=\"background-color: #FFFEFE\"> れ</span><span style=\"background-color: #FFFEFE\"> 病院</span><span style=\"background-color: #FFFEFE\"> に</span><span style=\"background-color: #FFFEFE\"> 直行</span><span style=\"background-color: #FFFEFE\"> し</span><span style=\"background-color: #FFFEFE\"> た</span><span style=\"background-color: #FFF3F3\"> 石井</span><span style=\"background-color: #FFFEFE\"> 慧</span><span style=\"background-color: #FFFEFE\"> について</span><span style=\"background-color: #FFFEFE\"> 、</span><span style=\"background-color: #FFFEFE\"> 30</span><span style=\"background-color: #FFFEFE\"> 日</span><span style=\"background-color: #FFFEFE\"> に</span><span style=\"background-color: #FFFEFE\"> 脳</span><span style=\"background-color: #FFFEFE\"> 障害</span><span style=\"background-color: #FFFEFE\"> により</span><span style=\"background-color: #FFFEFE\"> 引退</span><span style=\"background-color: #FFFEFE\"> 危機</span><span style=\"background-color: #FFFEFE\"> という</span><span style=\"background-color: #FFFEFE\"> 報道</span><span style=\"background-color: #FFFEFE\"> が</span><span style=\"background-color: #FFFEFE\"> 行なわ</span><span style=\"background-color: #FFFEFE\"> れ</span><span style=\"background-color: #FFFEFE\"> た</span><span style=\"background-color: #FFFEFE\"> 。</span><span style=\"background-color: #FFFEFE\"> 記事</span><span style=\"background-color: #FFFEFE\"> に</span><span style=\"background-color: #FFFEFE\"> は</span><span style=\"background-color: #FFFEFE\"> 「</span><span style=\"background-color: #FFFEFE\"> 一説</span><span style=\"background-color: #FFFEFE\"> に</span><span style=\"background-color: #FFFEFE\"> は</span><span style=\"background-color: #FFFEFE\"> 『</span><span style=\"background-color: #FFFEFE\"> 脳</span><span style=\"background-color: #FFFEFE\"> 浮</span><span style=\"background-color: #FFFEFE\"> ##腫</span><span style=\"background-color: #FFFEFE\"> 』</span><span style=\"background-color: #FFFEFE\"> と</span><span style=\"background-color: #FFFEFE\"> も</span><span style=\"background-color: #FFFEFE\"> 言わ</span><span style=\"background-color: #FFFEFE\"> れ</span><span style=\"background-color: #FFFEFE\"> て</span><span style=\"background-color: #FFFEFE\"> い</span><span style=\"background-color: #FFFEFE\"> ます</span><span style=\"background-color: #FFFEFE\"> 」</span><span style=\"background-color: #FFFEFE\"> (</span><span style=\"background-color: #FF3B3B\"> 格闘技</span><span style=\"background-color: #FFFEFE\"> 事情</span><span style=\"background-color: #FFFEFE\"> 通</span><span style=\"background-color: #FFFEFE\"> )</span><span style=\"background-color: #FFFEFE\"> と</span><span style=\"background-color: #FFFEFE\"> あり</span><span style=\"background-color: #FFFEFE\"> 、</span><span style=\"background-color: #FFDFDF\"> 石井</span><span style=\"background-color: #FFFEFE\"> の</span><span style=\"background-color: #FFFEFE\"> 容</span><span style=\"background-color: #FFFEFE\"> ##態</span><span style=\"background-color: #FFFEFE\"> は</span><span style=\"background-color: #FFFEFE\"> 深刻</span><span style=\"background-color: #FFFEFE\"> な</span><span style=\"background-color: #FFFEFE\"> もの</span><span style=\"background-color: #FFFEFE\"> と</span><span style=\"background-color: #FFFEFE\"> 思わ</span><span style=\"background-color: #FFFEFE\"> れ</span><span style=\"background-color: #FFFEFE\"> た</span><span style=\"background-color: #FFFEFE\"> 。</span><span style=\"background-color: #FFFEFE\"> しかし</span><span style=\"background-color: #FFFEFE\"> 、</span><span style=\"background-color: #FFFEFE\"> この</span><span style=\"background-color: #FFFEFE\"> 件</span><span style=\"background-color: #FFFEFE\"> について</span><span style=\"background-color: #FFFEFE\"> 元</span><span style=\"background-color: #FFFEFE\"> DEEP</span><span style=\"background-color: #FFF5F5\"> ミドル</span><span style=\"background-color: #FFF8F8\"> 級</span><span style=\"background-color: #FFF7F7\"> 王者</span><span style=\"background-color: #FFFEFE\"> で</span><span style=\"background-color: #FFFEFE\"> ある</span><span style=\"background-color: #FFFEFE\"> 長</span><span style=\"background-color: #FFFEFE\"> ##南</span><span style=\"background-color: #FFFEFE\"> 亮</span><span style=\"background-color: #FFFEFE\"> (</span><span style=\"background-color: #FFFEFE\"> ちょう</span><span style=\"background-color: #FFFEFE\"> なん</span><span style=\"background-color: #FFFEFE\"> ・</span><span style=\"background-color: #FFFEFE\"> りょう</span><span style=\"background-color: #FFFEFE\"> )</span><span style=\"background-color: #FFFEFE\"> は</span><span style=\"background-color: #FFFEFE\"> 真っ</span><span style=\"background-color: #FFFEFE\"> ##向</span><span style=\"background-color: #FFFEFE\"> から</span><span style=\"background-color: #FFFEFE\"> 否定</span><span style=\"background-color: #FFFEFE\"> 。</span><span style=\"background-color: #FFFEFE\"> 自身</span><span style=\"background-color: #FFFEFE\"> の</span><span style=\"background-color: #FFFEFE\"> ツイッター</span><span style=\"background-color: #FFFEFE\"> にて</span><span style=\"background-color: #FFFEFE\"> 「</span><span style=\"background-color: #FFE3E3\"> 石井</span><span style=\"background-color: #FFFDFD\"> 慧</span><span style=\"background-color: #FFFEFE\"> の</span><span style=\"background-color: #FFFEFE\"> 体調</span><span style=\"background-color: #FFFEFE\"> は</span><span style=\"background-color: #FFFEFE\"> 良好</span><span style=\"background-color: #FFFEFE\"> だ</span><span style=\"background-color: #FFFEFE\"> そう</span><span style=\"background-color: #FFFEFE\"> です</span><span style=\"background-color: #FFFEFE\"> 。</span><span style=\"background-color: #FFFEFE\"> 」</span><span style=\"background-color: #FFFEFE\"> と</span><span style=\"background-color: #FFFEFE\"> コメント</span><span style=\"background-color: #FFFEFE\"> 、</span><span style=\"background-color: #FFFEFE\"> さらに</span><span style=\"background-color: #FFFEFE\"> 「</span><span style=\"background-color: #FFFEFE\"> 人</span><span style=\"background-color: #FFFEFE\"> の</span><span style=\"background-color: #FFFEFE\"> 人生</span><span style=\"background-color: #FFFEFE\"> や</span><span style=\"background-color: #FFFEFE\"> 生命</span><span style=\"background-color: #FFFEFE\"> に</span><span style=\"background-color: #FFFEFE\"> 関わる</span><span style=\"background-color: #FFFEFE\"> こと</span><span style=\"background-color: #FFFEFE\"> を</span><span style=\"background-color: #FFFEFE\"> 平</span><span style=\"background-color: #FFFEFE\"> ##気</span><span style=\"background-color: #FFFEFE\"> で</span><span style=\"background-color: #FFFEFE\"> ガ</span><span style=\"background-color: #FFFEFE\"> ##セ</span><span style=\"background-color: #FFFEFE\"> 流す</span><span style=\"background-color: #FFFEFE\"> 奴</span><span style=\"background-color: #FFFEFE\"> は</span><span style=\"background-color: #FFFEFE\"> 死ん</span><span style=\"background-color: #FFFEFE\"> だ</span><span style=\"background-color: #FFFEFE\"> ほう</span><span style=\"background-color: #FFFEFE\"> が</span><span style=\"background-color: #FFFEFE\"> 世</span><span style=\"background-color: #FFFEFE\"> の</span><span style=\"background-color: #FFFEFE\"> 為</span><span style=\"background-color: #FFFEFE\"> 。</span><span style=\"background-color: #FFFEFE\"> 」</span><span style=\"background-color: #FFFEFE\"> と</span><span style=\"background-color: #FFFEFE\"> 怒り</span><span style=\"background-color: #FFFEFE\"> の</span><span style=\"background-color: #FFFEFE\"> ツイート</span><span style=\"background-color: #FFFEFE\"> を</span><span style=\"background-color: #FFFEFE\"> し</span><span style=\"background-color: #FFFEFE\"> て</span><span style=\"background-color: #FFFEFE\"> いる</span><span style=\"background-color: #FFFEFE\"> 。</span><span style=\"background-color: #FFFEFE\"> これ</span><span style=\"background-color: #FFFEFE\"> を</span><span style=\"background-color: #FFFEFE\"> もっ</span><span style=\"background-color: #FFFEFE\"> て</span><span style=\"background-color: #FFFEFE\"> 、</span><span style=\"background-color: #FFD4D4\"> 石井</span><span style=\"background-color: #FFFEFE\"> の</span><span style=\"background-color: #FFFEFE\"> 体調</span><span style=\"background-color: #FFFEFE\"> 不良</span><span style=\"background-color: #FFFEFE\"> が</span><span style=\"background-color: #FFFEFE\"> ただちに</span><span style=\"background-color: #FFFEFE\"> 否定</span><span style=\"background-color: #FFFEFE\"> さ</span><span style=\"background-color: #FFFEFE\"> れ</span><span style=\"background-color: #FFFEFE\"> た</span><span style=\"background-color: #FFFFFF\"> わけ</span><span style=\"background-color: #FFFEFE\"> で</span><span style=\"background-color: #FFFFFF\"> は</span><span style=\"background-color: #FFFEFE\"> ない</span><span style=\"background-color: #FFFEFE\"> 。</span><span style=\"background-color: #FFFEFE\"> しかし</span><span style=\"background-color: #FFFEFE\"> 、</span><span style=\"background-color: #FFC4C4\"> 石井</span><span style=\"background-color: #FFFEFE\"> から</span><span style=\"background-color: #FFFEFE\"> 近</span><span style=\"background-color: #FFFEFE\"> ##しい</span><span style=\"background-color: #FFFEFE\"> と</span><span style=\"background-color: #FFFEFE\"> 思わ</span><span style=\"background-color: #FFFEFE\"> れる</span><span style=\"background-color: #FFFEFE\"> 人間</span><span style=\"background-color: #FFFEFE\"> から</span><span style=\"background-color: #FFFEFE\"> の</span><span style=\"background-color: #FFFEFE\"> 情報</span><span style=\"background-color: #FFFEFE\"> で</span><span style=\"background-color: #FFFEFE\"> あり</span><span style=\"background-color: #FFFEFE\"> 、</span><span style=\"background-color: #FFFEFE\"> 信</span><span style=\"background-color: #FFFEFE\"> ##ぴ</span><span style=\"background-color: #FFFEFE\"> ##ょう</span><span style=\"background-color: #FFFEFE\"> 性</span><span style=\"background-color: #FFFEFE\"> は</span><span style=\"background-color: #FFFEFE\"> 高い</span><span style=\"background-color: #FFFEFE\"> と</span><span style=\"background-color: #FFFEFE\"> いえる</span><span style=\"background-color: #FFFEFE\"> だろ</span><span style=\"background-color: #FFFEFE\"> う</span><span style=\"background-color: #FFFEFE\"> 。</span><span style=\"background-color: #FFFEFE\"> この</span><span style=\"background-color: #FFFEFE\"> 件</span><span style=\"background-color: #FFFEFE\"> について</span><span style=\"background-color: #FFFEFE\"> 、</span><span style=\"background-color: #FF0000\"> 格闘技</span><span style=\"background-color: #FFFDFD\"> ファン</span><span style=\"background-color: #FFFEFE\"> から</span><span style=\"background-color: #FFFEFE\"> は</span><span style=\"background-color: #FFFEFE\"> 「</span><span style=\"background-color: #FFFEFE\"> 良かっ</span><span style=\"background-color: #FFFEFE\"> た</span><span style=\"background-color: #FFFEFE\"> 、</span><span style=\"background-color: #FFFAFA\"> 引退</span><span style=\"background-color: #FFFEFE\"> する</span><span style=\"background-color: #FFDBDB\"> 石井</span><span style=\"background-color: #FFFEFE\"> は</span><span style=\"background-color: #FFFEFE\"> 居</span><span style=\"background-color: #FFFEFE\"> なかっ</span><span style=\"background-color: #FFFEFE\"> た</span><span style=\"background-color: #FFFEFE\"> ん</span><span style=\"background-color: #FFFEFE\"> だ</span><span style=\"background-color: #FFFEFE\"> ...」</span><span style=\"background-color: #FFFEFE\"> ##「</span><span style=\"background-color: #FFFEFE\"> とり</span><span style=\"background-color: #FFFEFE\"> ##あ</span><span style=\"background-color: #FFFEFE\"> ##えず</span><span style=\"background-color: #FFFEFE\"> よかっ</span><span style=\"background-color: #FFFEFE\"> た</span><span style=\"background-color: #FFFEFE\"> 」</span><span style=\"background-color: #FFFEFE\"> といった</span><span style=\"background-color: #FFFEFE\"> 安堵</span><span style=\"background-color: #FFFEFE\"> の</span><span style=\"background-color: #FFFEFE\"> コメント</span><span style=\"background-color: #FFFEFE\"> が</span><span style=\"background-color: #FFFEFE\"> 並ん</span><span style=\"background-color: #FFFEFE\"> で</span><span style=\"background-color: #FFFEFE\"> いる</span><span style=\"background-color: #FFFEFE\"> 。</span><br><br>[BERTのAttentionを可視化_12]<br><span style=\"background-color: #FFFEFE\"> [CLS]</span><span style=\"background-color: #FFFEFE\"> ヒ</span><span style=\"background-color: #FFFEFE\"> ##ョー</span><span style=\"background-color: #FFFEFE\"> ##ドル</span><span style=\"background-color: #FFFEFE\"> 戦</span><span style=\"background-color: #FFFEFE\"> で</span><span style=\"background-color: #FFFEFE\"> KO</span><span style=\"background-color: #FFFEFE\"> さ</span><span style=\"background-color: #FFFEFE\"> れ</span><span style=\"background-color: #FFFEFE\"> 病院</span><span style=\"background-color: #FFFEFE\"> に</span><span style=\"background-color: #FFFEFE\"> 直行</span><span style=\"background-color: #FFFEFE\"> し</span><span style=\"background-color: #FFFEFE\"> た</span><span style=\"background-color: #FFFEFE\"> 石井</span><span style=\"background-color: #FFFEFE\"> 慧</span><span style=\"background-color: #FFFEFE\"> について</span><span style=\"background-color: #FFFEFE\"> 、</span><span style=\"background-color: #FFFEFE\"> 30</span><span style=\"background-color: #FFFEFE\"> 日</span><span style=\"background-color: #FFFEFE\"> に</span><span style=\"background-color: #FFFEFE\"> 脳</span><span style=\"background-color: #FFFEFE\"> 障害</span><span style=\"background-color: #FFFEFE\"> により</span><span style=\"background-color: #FFFEFE\"> 引退</span><span style=\"background-color: #FFFEFE\"> 危機</span><span style=\"background-color: #FFFBFB\"> という</span><span style=\"background-color: #FFFCFC\"> 報道</span><span style=\"background-color: #FFF6F6\"> が</span><span style=\"background-color: #FFF4F4\"> 行なわ</span><span style=\"background-color: #FFC9C9\"> れ</span><span style=\"background-color: #FFEBEB\"> た</span><span style=\"background-color: #FFFEFE\"> 。</span><span style=\"background-color: #FFFBFB\"> 記事</span><span style=\"background-color: #FFFDFD\"> に</span><span style=\"background-color: #FFFBFB\"> は</span><span style=\"background-color: #FFFEFE\"> 「</span><span style=\"background-color: #FFFEFE\"> 一説</span><span style=\"background-color: #FFFEFE\"> に</span><span style=\"background-color: #FFFEFE\"> は</span><span style=\"background-color: #FFFEFE\"> 『</span><span style=\"background-color: #FFFEFE\"> 脳</span><span style=\"background-color: #FFFEFE\"> 浮</span><span style=\"background-color: #FFFEFE\"> ##腫</span><span style=\"background-color: #FFFEFE\"> 』</span><span style=\"background-color: #FFFEFE\"> と</span><span style=\"background-color: #FFFEFE\"> も</span><span style=\"background-color: #FFFEFE\"> 言わ</span><span style=\"background-color: #FFFEFE\"> れ</span><span style=\"background-color: #FFFEFE\"> て</span><span style=\"background-color: #FFFEFE\"> い</span><span style=\"background-color: #FFFEFE\"> ます</span><span style=\"background-color: #FFFEFE\"> 」</span><span style=\"background-color: #FFFEFE\"> (</span><span style=\"background-color: #FFFEFE\"> 格闘技</span><span style=\"background-color: #FFFEFE\"> 事情</span><span style=\"background-color: #FFFEFE\"> 通</span><span style=\"background-color: #FFFEFE\"> )</span><span style=\"background-color: #FFFEFE\"> と</span><span style=\"background-color: #FFF8F8\"> あり</span><span style=\"background-color: #FFFEFE\"> 、</span><span style=\"background-color: #FFFEFE\"> 石井</span><span style=\"background-color: #FFFEFE\"> の</span><span style=\"background-color: #FFFEFE\"> 容</span><span style=\"background-color: #FFFEFE\"> ##態</span><span style=\"background-color: #FFFEFE\"> は</span><span style=\"background-color: #FFFEFE\"> 深刻</span><span style=\"background-color: #FFFEFE\"> な</span><span style=\"background-color: #FFFEFE\"> もの</span><span style=\"background-color: #FFFEFE\"> と</span><span style=\"background-color: #FFFEFE\"> 思わ</span><span style=\"background-color: #FFFDFD\"> れ</span><span style=\"background-color: #FFFCFC\"> た</span><span style=\"background-color: #FFFEFE\"> 。</span><span style=\"background-color: #FFFEFE\"> しかし</span><span style=\"background-color: #FFFEFE\"> 、</span><span style=\"background-color: #FFFEFE\"> この</span><span style=\"background-color: #FFFEFE\"> 件</span><span style=\"background-color: #FFFEFE\"> について</span><span style=\"background-color: #FFFEFE\"> 元</span><span style=\"background-color: #FFFEFE\"> DEEP</span><span style=\"background-color: #FFFEFE\"> ミドル</span><span style=\"background-color: #FFFEFE\"> 級</span><span style=\"background-color: #FFFEFE\"> 王者</span><span style=\"background-color: #FFFEFE\"> で</span><span style=\"background-color: #FFFEFE\"> ある</span><span style=\"background-color: #FFFEFE\"> 長</span><span style=\"background-color: #FFFEFE\"> ##南</span><span style=\"background-color: #FFFEFE\"> 亮</span><span style=\"background-color: #FFFEFE\"> (</span><span style=\"background-color: #FFFEFE\"> ちょう</span><span style=\"background-color: #FFFEFE\"> なん</span><span style=\"background-color: #FFFEFE\"> ・</span><span style=\"background-color: #FFFEFE\"> りょう</span><span style=\"background-color: #FFFEFE\"> )</span><span style=\"background-color: #FFFEFE\"> は</span><span style=\"background-color: #FFFEFE\"> 真っ</span><span style=\"background-color: #FFFEFE\"> ##向</span><span style=\"background-color: #FFFEFE\"> から</span><span style=\"background-color: #FFFEFE\"> 否定</span><span style=\"background-color: #FFFEFE\"> 。</span><span style=\"background-color: #FFF2F2\"> 自身</span><span style=\"background-color: #FFFEFE\"> の</span><span style=\"background-color: #FFFEFE\"> ツイッター</span><span style=\"background-color: #FFFEFE\"> にて</span><span style=\"background-color: #FFFEFE\"> 「</span><span style=\"background-color: #FFFEFE\"> 石井</span><span style=\"background-color: #FFFEFE\"> 慧</span><span style=\"background-color: #FFFEFE\"> の</span><span style=\"background-color: #FFFEFE\"> 体調</span><span style=\"background-color: #FFFEFE\"> は</span><span style=\"background-color: #FFFEFE\"> 良好</span><span style=\"background-color: #FFFEFE\"> だ</span><span style=\"background-color: #FFFEFE\"> そう</span><span style=\"background-color: #FFFEFE\"> です</span><span style=\"background-color: #FFFEFE\"> 。</span><span style=\"background-color: #FFFEFE\"> 」</span><span style=\"background-color: #FFFEFE\"> と</span><span style=\"background-color: #FFFEFE\"> コメント</span><span style=\"background-color: #FFFEFE\"> 、</span><span style=\"background-color: #FFFEFE\"> さらに</span><span style=\"background-color: #FFFEFE\"> 「</span><span style=\"background-color: #FFFFFF\"> 人</span><span style=\"background-color: #FFFFFF\"> の</span><span style=\"background-color: #FFFFFF\"> 人生</span><span style=\"background-color: #FFFFFF\"> や</span><span style=\"background-color: #FFFFFF\"> 生命</span><span style=\"background-color: #FFFFFF\"> に</span><span style=\"background-color: #FFFFFF\"> 関わる</span><span style=\"background-color: #FFFFFF\"> こと</span><span style=\"background-color: #FFFFFF\"> を</span><span style=\"background-color: #FFFFFF\"> 平</span><span style=\"background-color: #FFFEFE\"> ##気</span><span style=\"background-color: #FFFEFE\"> で</span><span style=\"background-color: #FFFEFE\"> ガ</span><span style=\"background-color: #FFFEFE\"> ##セ</span><span style=\"background-color: #FFFEFE\"> 流す</span><span style=\"background-color: #FFFFFF\"> 奴</span><span style=\"background-color: #FFFFFF\"> は</span><span style=\"background-color: #FFFEFE\"> 死ん</span><span style=\"background-color: #FFFFFF\"> だ</span><span style=\"background-color: #FFFFFF\"> ほう</span><span style=\"background-color: #FFFFFF\"> が</span><span style=\"background-color: #FFFFFF\"> 世</span><span style=\"background-color: #FFFFFF\"> の</span><span style=\"background-color: #FFFEFE\"> 為</span><span style=\"background-color: #FFFEFE\"> 。</span><span style=\"background-color: #FFFEFE\"> 」</span><span style=\"background-color: #FFFEFE\"> と</span><span style=\"background-color: #FFFEFE\"> 怒り</span><span style=\"background-color: #FFFEFE\"> の</span><span style=\"background-color: #FFFEFE\"> ツイート</span><span style=\"background-color: #FFFDFD\"> を</span><span style=\"background-color: #FF5E5E\"> し</span><span style=\"background-color: #FFE2E2\"> て</span><span style=\"background-color: #FFC0C0\"> いる</span><span style=\"background-color: #FFFEFE\"> 。</span><span style=\"background-color: #FFFEFE\"> これ</span><span style=\"background-color: #FFFEFE\"> を</span><span style=\"background-color: #FFFEFE\"> もっ</span><span style=\"background-color: #FFFEFE\"> て</span><span style=\"background-color: #FFFEFE\"> 、</span><span style=\"background-color: #FFFEFE\"> 石井</span><span style=\"background-color: #FFFEFE\"> の</span><span style=\"background-color: #FFFEFE\"> 体調</span><span style=\"background-color: #FFFEFE\"> 不良</span><span style=\"background-color: #FFFEFE\"> が</span><span style=\"background-color: #FFFEFE\"> ただちに</span><span style=\"background-color: #FFFEFE\"> 否定</span><span style=\"background-color: #FFFEFE\"> さ</span><span style=\"background-color: #FFFEFE\"> れ</span><span style=\"background-color: #FFFEFE\"> た</span><span style=\"background-color: #FFFEFE\"> わけ</span><span style=\"background-color: #FFFEFE\"> で</span><span style=\"background-color: #FFFEFE\"> は</span><span style=\"background-color: #FFFEFE\"> ない</span><span style=\"background-color: #FFFEFE\"> 。</span><span style=\"background-color: #FFFEFE\"> しかし</span><span style=\"background-color: #FFFEFE\"> 、</span><span style=\"background-color: #FFFEFE\"> 石井</span><span style=\"background-color: #FFFEFE\"> から</span><span style=\"background-color: #FFFEFE\"> 近</span><span style=\"background-color: #FFFEFE\"> ##しい</span><span style=\"background-color: #FFFEFE\"> と</span><span style=\"background-color: #FFFEFE\"> 思わ</span><span style=\"background-color: #FFFEFE\"> れる</span><span style=\"background-color: #FFFEFE\"> 人間</span><span style=\"background-color: #FFFEFE\"> から</span><span style=\"background-color: #FFFEFE\"> の</span><span style=\"background-color: #FFFEFE\"> 情報</span><span style=\"background-color: #FFFEFE\"> で</span><span style=\"background-color: #FFFEFE\"> あり</span><span style=\"background-color: #FFFEFE\"> 、</span><span style=\"background-color: #FFFEFE\"> 信</span><span style=\"background-color: #FFFEFE\"> ##ぴ</span><span style=\"background-color: #FFFEFE\"> ##ょう</span><span style=\"background-color: #FFFEFE\"> 性</span><span style=\"background-color: #FFFEFE\"> は</span><span style=\"background-color: #FFEAEA\"> 高い</span><span style=\"background-color: #FFFEFE\"> と</span><span style=\"background-color: #FFFDFD\"> いえる</span><span style=\"background-color: #FFFEFE\"> だろ</span><span style=\"background-color: #FFFEFE\"> う</span><span style=\"background-color: #FFFEFE\"> 。</span><span style=\"background-color: #FFFEFE\"> この</span><span style=\"background-color: #FFFEFE\"> 件</span><span style=\"background-color: #FFFEFE\"> について</span><span style=\"background-color: #FFFEFE\"> 、</span><span style=\"background-color: #FFFEFE\"> 格闘技</span><span style=\"background-color: #FFFEFE\"> ファン</span><span style=\"background-color: #FFFEFE\"> から</span><span style=\"background-color: #FFFDFD\"> は</span><span style=\"background-color: #FFFEFE\"> 「</span><span style=\"background-color: #FFFEFE\"> 良かっ</span><span style=\"background-color: #FFFEFE\"> た</span><span style=\"background-color: #FFFEFE\"> 、</span><span style=\"background-color: #FFFEFE\"> 引退</span><span style=\"background-color: #FFFEFE\"> する</span><span style=\"background-color: #FFFEFE\"> 石井</span><span style=\"background-color: #FFFEFE\"> は</span><span style=\"background-color: #FFFEFE\"> 居</span><span style=\"background-color: #FFFEFE\"> なかっ</span><span style=\"background-color: #FFFEFE\"> た</span><span style=\"background-color: #FFFEFE\"> ん</span><span style=\"background-color: #FFFEFE\"> だ</span><span style=\"background-color: #FFFEFE\"> ...」</span><span style=\"background-color: #FFFEFE\"> ##「</span><span style=\"background-color: #FFFEFE\"> とり</span><span style=\"background-color: #FFFEFE\"> ##あ</span><span style=\"background-color: #FFFEFE\"> ##えず</span><span style=\"background-color: #FFFEFE\"> よかっ</span><span style=\"background-color: #FFFEFE\"> た</span><span style=\"background-color: #FFFEFE\"> 」</span><span style=\"background-color: #FFFDFD\"> といった</span><span style=\"background-color: #FFFEFE\"> 安堵</span><span style=\"background-color: #FFFEFE\"> の</span><span style=\"background-color: #FFFEFE\"> コメント</span><span style=\"background-color: #FFF6F6\"> が</span><span style=\"background-color: #FF0000\"> 並ん</span><span style=\"background-color: #FFA3A3\"> で</span><span style=\"background-color: #FF7474\"> いる</span><span style=\"background-color: #FFFEFE\"> 。</span><br><br>[BERTのAttentionを可視化_ALL]<br><span style=\"background-color: #FFFEFE\"> [CLS]</span><span style=\"background-color: #FFFEFE\"> ヒ</span><span style=\"background-color: #FFFEFE\"> ##ョー</span><span style=\"background-color: #FFFEFE\"> ##ドル</span><span style=\"background-color: #FFF2F2\"> 戦</span><span style=\"background-color: #FFFEFE\"> で</span><span style=\"background-color: #FFFEFE\"> KO</span><span style=\"background-color: #FFFEFE\"> さ</span><span style=\"background-color: #FFFEFE\"> れ</span><span style=\"background-color: #FFFEFE\"> 病院</span><span style=\"background-color: #FFFEFE\"> に</span><span style=\"background-color: #FFFEFE\"> 直行</span><span style=\"background-color: #FFFEFE\"> し</span><span style=\"background-color: #FFFEFE\"> た</span><span style=\"background-color: #FFF0F0\"> 石井</span><span style=\"background-color: #FFFDFD\"> 慧</span><span style=\"background-color: #FF3E3E\"> について</span><span style=\"background-color: #FFF4F4\"> 、</span><span style=\"background-color: #FFFDFD\"> 30</span><span style=\"background-color: #FFFEFE\"> 日</span><span style=\"background-color: #FFFEFE\"> に</span><span style=\"background-color: #FFFCFC\"> 脳</span><span style=\"background-color: #FFFEFE\"> 障害</span><span style=\"background-color: #FFFEFE\"> により</span><span style=\"background-color: #FFFDFD\"> 引退</span><span style=\"background-color: #FFFEFE\"> 危機</span><span style=\"background-color: #FFFBFB\"> という</span><span style=\"background-color: #FFE9E9\"> 報道</span><span style=\"background-color: #FFFAFA\"> が</span><span style=\"background-color: #FFEAEA\"> 行なわ</span><span style=\"background-color: #FFACAC\"> れ</span><span style=\"background-color: #FF8B8B\"> た</span><span style=\"background-color: #FFFEFE\"> 。</span><span style=\"background-color: #FF4242\"> 記事</span><span style=\"background-color: #FFFBFB\"> に</span><span style=\"background-color: #FFE7E7\"> は</span><span style=\"background-color: #FFFEFE\"> 「</span><span style=\"background-color: #FFFDFD\"> 一説</span><span style=\"background-color: #FFFCFC\"> に</span><span style=\"background-color: #FFFEFE\"> は</span><span style=\"background-color: #FFFEFE\"> 『</span><span style=\"background-color: #FFFEFE\"> 脳</span><span style=\"background-color: #FFFEFE\"> 浮</span><span style=\"background-color: #FFFEFE\"> ##腫</span><span style=\"background-color: #FFFEFE\"> 』</span><span style=\"background-color: #FFFEFE\"> と</span><span style=\"background-color: #FFFEFE\"> も</span><span style=\"background-color: #FFFDFD\"> 言わ</span><span style=\"background-color: #FFFDFD\"> れ</span><span style=\"background-color: #FFFEFE\"> て</span><span style=\"background-color: #FFFBFB\"> い</span><span style=\"background-color: #FFE6E6\"> ます</span><span style=\"background-color: #FFE6E6\"> 」</span><span style=\"background-color: #FFFEFE\"> (</span><span style=\"background-color: #FFA3A3\"> 格闘技</span><span style=\"background-color: #FFFDFD\"> 事情</span><span style=\"background-color: #FFFCFC\"> 通</span><span style=\"background-color: #FFFCFC\"> )</span><span style=\"background-color: #FFF2F2\"> と</span><span style=\"background-color: #FFB1B1\"> あり</span><span style=\"background-color: #FFFBFB\"> 、</span><span style=\"background-color: #FFE4E4\"> 石井</span><span style=\"background-color: #FFFEFE\"> の</span><span style=\"background-color: #FFFEFE\"> 容</span><span style=\"background-color: #FFFDFD\"> ##態</span><span style=\"background-color: #FFFEFE\"> は</span><span style=\"background-color: #FFFEFE\"> 深刻</span><span style=\"background-color: #FFFEFE\"> な</span><span style=\"background-color: #FFFDFD\"> もの</span><span style=\"background-color: #FFF9F9\"> と</span><span style=\"background-color: #FFF2F2\"> 思わ</span><span style=\"background-color: #FFB9B9\"> れ</span><span style=\"background-color: #FF8585\"> た</span><span style=\"background-color: #FFFEFE\"> 。</span><span style=\"background-color: #FFC6C6\"> しかし</span><span style=\"background-color: #FFFBFB\"> 、</span><span style=\"background-color: #FFF9F9\"> この</span><span style=\"background-color: #FFF8F8\"> 件</span><span style=\"background-color: #FFF7F7\"> について</span><span style=\"background-color: #FFFEFE\"> 元</span><span style=\"background-color: #FFFEFE\"> DEEP</span><span style=\"background-color: #FFC8C8\"> ミドル</span><span style=\"background-color: #FFF5F5\"> 級</span><span style=\"background-color: #FFFAFA\"> 王者</span><span style=\"background-color: #FFFEFE\"> で</span><span style=\"background-color: #FFFDFD\"> ある</span><span style=\"background-color: #FFFDFD\"> 長</span><span style=\"background-color: #FFFEFE\"> ##南</span><span style=\"background-color: #FFFEFE\"> 亮</span><span style=\"background-color: #FFFEFE\"> (</span><span style=\"background-color: #FFFEFE\"> ちょう</span><span style=\"background-color: #FFFEFE\"> なん</span><span style=\"background-color: #FFFEFE\"> ・</span><span style=\"background-color: #FFFEFE\"> りょう</span><span style=\"background-color: #FFFEFE\"> )</span><span style=\"background-color: #FFE5E5\"> は</span><span style=\"background-color: #FFF5F5\"> 真っ</span><span style=\"background-color: #FFFEFE\"> ##向</span><span style=\"background-color: #FFFEFE\"> から</span><span style=\"background-color: #FFF2F2\"> 否定</span><span style=\"background-color: #FFE4E4\"> 。</span><span style=\"background-color: #FFF3F3\"> 自身</span><span style=\"background-color: #FFFEFE\"> の</span><span style=\"background-color: #FFF8F8\"> ツイッター</span><span style=\"background-color: #FFEEEE\"> にて</span><span style=\"background-color: #FFFEFE\"> 「</span><span style=\"background-color: #FFE8E8\"> 石井</span><span style=\"background-color: #FFFDFD\"> 慧</span><span style=\"background-color: #FFFEFE\"> の</span><span style=\"background-color: #FFFEFE\"> 体調</span><span style=\"background-color: #FFFEFE\"> は</span><span style=\"background-color: #FFFDFD\"> 良好</span><span style=\"background-color: #FFFEFE\"> だ</span><span style=\"background-color: #FFFAFA\"> そう</span><span style=\"background-color: #FFF8F8\"> です</span><span style=\"background-color: #FFFDFD\"> 。</span><span style=\"background-color: #FFFBFB\"> 」</span><span style=\"background-color: #FFFCFC\"> と</span><span style=\"background-color: #FFFAFA\"> コメント</span><span style=\"background-color: #FFC0C0\"> 、</span><span style=\"background-color: #FFF2F2\"> さらに</span><span style=\"background-color: #FFFEFE\"> 「</span><span style=\"background-color: #FFFEFE\"> 人</span><span style=\"background-color: #FFFEFE\"> の</span><span style=\"background-color: #FFFEFE\"> 人生</span><span style=\"background-color: #FFFEFE\"> や</span><span style=\"background-color: #FFFEFE\"> 生命</span><span style=\"background-color: #FFFEFE\"> に</span><span style=\"background-color: #FFFEFE\"> 関わる</span><span style=\"background-color: #FFFEFE\"> こと</span><span style=\"background-color: #FFFEFE\"> を</span><span style=\"background-color: #FFFEFE\"> 平</span><span style=\"background-color: #FFFEFE\"> ##気</span><span style=\"background-color: #FFFEFE\"> で</span><span style=\"background-color: #FFFEFE\"> ガ</span><span style=\"background-color: #FFFEFE\"> ##セ</span><span style=\"background-color: #FFFEFE\"> 流す</span><span style=\"background-color: #FFFEFE\"> 奴</span><span style=\"background-color: #FFFEFE\"> は</span><span style=\"background-color: #FFFEFE\"> 死ん</span><span style=\"background-color: #FFFEFE\"> だ</span><span style=\"background-color: #FFFEFE\"> ほう</span><span style=\"background-color: #FFFEFE\"> が</span><span style=\"background-color: #FFFEFE\"> 世</span><span style=\"background-color: #FFFEFE\"> の</span><span style=\"background-color: #FFFEFE\"> 為</span><span style=\"background-color: #FFFCFC\"> 。</span><span style=\"background-color: #FFEAEA\"> 」</span><span style=\"background-color: #FFFCFC\"> と</span><span style=\"background-color: #FFFBFB\"> 怒り</span><span style=\"background-color: #FFFEFE\"> の</span><span style=\"background-color: #FFFAFA\"> ツイート</span><span style=\"background-color: #FFFAFA\"> を</span><span style=\"background-color: #FFB0B0\"> し</span><span style=\"background-color: #FFDADA\"> て</span><span style=\"background-color: #FF0000\"> いる</span><span style=\"background-color: #FFFEFE\"> 。</span><span style=\"background-color: #FFD2D2\"> これ</span><span style=\"background-color: #FFE3E3\"> を</span><span style=\"background-color: #FFE6E6\"> もっ</span><span style=\"background-color: #FFFBFB\"> て</span><span style=\"background-color: #FFFCFC\"> 、</span><span style=\"background-color: #FFD9D9\"> 石井</span><span style=\"background-color: #FFFEFE\"> の</span><span style=\"background-color: #FFFEFE\"> 体調</span><span style=\"background-color: #FFFDFD\"> 不良</span><span style=\"background-color: #FFFBFB\"> が</span><span style=\"background-color: #FFFEFE\"> ただちに</span><span style=\"background-color: #FFFCFC\"> 否定</span><span style=\"background-color: #FFFAFA\"> さ</span><span style=\"background-color: #FFF9F9\"> れ</span><span style=\"background-color: #FFF5F5\"> た</span><span style=\"background-color: #FFF7F7\"> わけ</span><span style=\"background-color: #FFF6F6\"> で</span><span style=\"background-color: #FFFCFC\"> は</span><span style=\"background-color: #FF9292\"> ない</span><span style=\"background-color: #FFFEFE\"> 。</span><span style=\"background-color: #FFC7C7\"> しかし</span><span style=\"background-color: #FFFDFD\"> 、</span><span style=\"background-color: #FFE3E3\"> 石井</span><span style=\"background-color: #FFFEFE\"> から</span><span style=\"background-color: #FFFEFE\"> 近</span><span style=\"background-color: #FFFEFE\"> ##しい</span><span style=\"background-color: #FFFEFE\"> と</span><span style=\"background-color: #FFFEFE\"> 思わ</span><span style=\"background-color: #FFFEFE\"> れる</span><span style=\"background-color: #FFFDFD\"> 人間</span><span style=\"background-color: #FFFEFE\"> から</span><span style=\"background-color: #FFFEFE\"> の</span><span style=\"background-color: #FFFCFC\"> 情報</span><span style=\"background-color: #FFFAFA\"> で</span><span style=\"background-color: #FFF2F2\"> あり</span><span style=\"background-color: #FFFDFD\"> 、</span><span style=\"background-color: #FFFEFE\"> 信</span><span style=\"background-color: #FFFEFE\"> ##ぴ</span><span style=\"background-color: #FFFEFE\"> ##ょう</span><span style=\"background-color: #FFFBFB\"> 性</span><span style=\"background-color: #FFFEFE\"> は</span><span style=\"background-color: #FFE7E7\"> 高い</span><span style=\"background-color: #FFFDFD\"> と</span><span style=\"background-color: #FFF0F0\"> いえる</span><span style=\"background-color: #FF8888\"> だろ</span><span style=\"background-color: #FFDFDF\"> う</span><span style=\"background-color: #FFFEFE\"> 。</span><span style=\"background-color: #FFE8E8\"> この</span><span style=\"background-color: #FFF2F2\"> 件</span><span style=\"background-color: #FFD7D7\"> について</span><span style=\"background-color: #FFFCFC\"> 、</span><span style=\"background-color: #FF4B4B\"> 格闘技</span><span style=\"background-color: #FFFDFD\"> ファン</span><span style=\"background-color: #FF9C9C\"> から</span><span style=\"background-color: #FFB9B9\"> は</span><span style=\"background-color: #FFFEFE\"> 「</span><span style=\"background-color: #FFFDFD\"> 良かっ</span><span style=\"background-color: #FFFCFC\"> た</span><span style=\"background-color: #FFFEFE\"> 、</span><span style=\"background-color: #FFFCFC\"> 引退</span><span style=\"background-color: #FFFEFE\"> する</span><span style=\"background-color: #FFEAEA\"> 石井</span><span style=\"background-color: #FFFEFE\"> は</span><span style=\"background-color: #FFFEFE\"> 居</span><span style=\"background-color: #FFFEFE\"> なかっ</span><span style=\"background-color: #FFFEFE\"> た</span><span style=\"background-color: #FFFDFD\"> ん</span><span style=\"background-color: #FFFCFC\"> だ</span><span style=\"background-color: #FFFAFA\"> ...」</span><span style=\"background-color: #FFFEFE\"> ##「</span><span style=\"background-color: #FFFEFE\"> とり</span><span style=\"background-color: #FFFEFE\"> ##あ</span><span style=\"background-color: #FFFEFE\"> ##えず</span><span style=\"background-color: #FFFEFE\"> よかっ</span><span style=\"background-color: #FFFCFC\"> た</span><span style=\"background-color: #FFFDFD\"> 」</span><span style=\"background-color: #FFF9F9\"> といった</span><span style=\"background-color: #FFFDFD\"> 安堵</span><span style=\"background-color: #FFFEFE\"> の</span><span style=\"background-color: #FFF8F8\"> コメント</span><span style=\"background-color: #FFF4F4\"> が</span><span style=\"background-color: #FF6262\"> 並ん</span><span style=\"background-color: #FFB1B1\"> で</span><span style=\"background-color: #FF2626\"> いる</span><span style=\"background-color: #FFFEFE\"> 。</span><br><br>"
            ]
          },
          "metadata": {},
          "execution_count": 78
        }
      ]
    },
    {
      "cell_type": "code",
      "source": [
        ""
      ],
      "metadata": {
        "id": "RZbw3QXQpMrG"
      },
      "execution_count": null,
      "outputs": []
    }
  ]
}