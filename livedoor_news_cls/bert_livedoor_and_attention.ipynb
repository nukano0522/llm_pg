{
  "nbformat": 4,
  "nbformat_minor": 0,
  "metadata": {
    "colab": {
      "name": "bert_livedoor.ipynb",
      "provenance": [],
      "collapsed_sections": [],
      "machine_shape": "hm",
      "mount_file_id": "https://github.com/nukano0522/pytorch/blob/master/livedoor_news_cls/bert_livedoor_and_attention.ipynb",
      "authorship_tag": "ABX9TyOE0sHu1qt6RwLf4psd6R00"
    },
    "kernelspec": {
      "name": "python3",
      "display_name": "Python 3"
    },
    "language_info": {
      "name": "python"
    },
    "accelerator": "GPU",
    "gpuClass": "standard"
  },
  "cells": [
    {
      "cell_type": "code",
      "execution_count": 1,
      "metadata": {
        "colab": {
          "base_uri": "https://localhost:8080/"
        },
        "id": "MsAbHBeCF-Ef",
        "outputId": "22037845-2aa7-4d05-c460-1c2405e8aeee"
      },
      "outputs": [
        {
          "output_type": "stream",
          "name": "stdout",
          "text": [
            "Looking in indexes: https://pypi.org/simple, https://us-python.pkg.dev/colab-wheels/public/simple/\n",
            "Requirement already satisfied: transformers==4.5.0 in /usr/local/lib/python3.7/dist-packages (4.5.0)\n",
            "Requirement already satisfied: fugashi==1.1.0 in /usr/local/lib/python3.7/dist-packages (1.1.0)\n",
            "Requirement already satisfied: ipadic==1.0.0 in /usr/local/lib/python3.7/dist-packages (1.0.0)\n",
            "Requirement already satisfied: requests in /usr/local/lib/python3.7/dist-packages (from transformers==4.5.0) (2.23.0)\n",
            "Requirement already satisfied: sacremoses in /usr/local/lib/python3.7/dist-packages (from transformers==4.5.0) (0.0.53)\n",
            "Requirement already satisfied: filelock in /usr/local/lib/python3.7/dist-packages (from transformers==4.5.0) (3.8.0)\n",
            "Requirement already satisfied: tqdm>=4.27 in /usr/local/lib/python3.7/dist-packages (from transformers==4.5.0) (4.64.1)\n",
            "Requirement already satisfied: numpy>=1.17 in /usr/local/lib/python3.7/dist-packages (from transformers==4.5.0) (1.21.6)\n",
            "Requirement already satisfied: tokenizers<0.11,>=0.10.1 in /usr/local/lib/python3.7/dist-packages (from transformers==4.5.0) (0.10.3)\n",
            "Requirement already satisfied: regex!=2019.12.17 in /usr/local/lib/python3.7/dist-packages (from transformers==4.5.0) (2022.6.2)\n",
            "Requirement already satisfied: packaging in /usr/local/lib/python3.7/dist-packages (from transformers==4.5.0) (21.3)\n",
            "Requirement already satisfied: importlib-metadata in /usr/local/lib/python3.7/dist-packages (from transformers==4.5.0) (4.12.0)\n",
            "Requirement already satisfied: typing-extensions>=3.6.4 in /usr/local/lib/python3.7/dist-packages (from importlib-metadata->transformers==4.5.0) (4.1.1)\n",
            "Requirement already satisfied: zipp>=0.5 in /usr/local/lib/python3.7/dist-packages (from importlib-metadata->transformers==4.5.0) (3.8.1)\n",
            "Requirement already satisfied: pyparsing!=3.0.5,>=2.0.2 in /usr/local/lib/python3.7/dist-packages (from packaging->transformers==4.5.0) (3.0.9)\n",
            "Requirement already satisfied: idna<3,>=2.5 in /usr/local/lib/python3.7/dist-packages (from requests->transformers==4.5.0) (2.10)\n",
            "Requirement already satisfied: urllib3!=1.25.0,!=1.25.1,<1.26,>=1.21.1 in /usr/local/lib/python3.7/dist-packages (from requests->transformers==4.5.0) (1.24.3)\n",
            "Requirement already satisfied: chardet<4,>=3.0.2 in /usr/local/lib/python3.7/dist-packages (from requests->transformers==4.5.0) (3.0.4)\n",
            "Requirement already satisfied: certifi>=2017.4.17 in /usr/local/lib/python3.7/dist-packages (from requests->transformers==4.5.0) (2022.6.15)\n",
            "Requirement already satisfied: joblib in /usr/local/lib/python3.7/dist-packages (from sacremoses->transformers==4.5.0) (1.1.0)\n",
            "Requirement already satisfied: six in /usr/local/lib/python3.7/dist-packages (from sacremoses->transformers==4.5.0) (1.15.0)\n",
            "Requirement already satisfied: click in /usr/local/lib/python3.7/dist-packages (from sacremoses->transformers==4.5.0) (7.1.2)\n"
          ]
        }
      ],
      "source": [
        "!pip install transformers==4.5.0 fugashi==1.1.0 ipadic==1.0.0 "
      ]
    },
    {
      "cell_type": "code",
      "source": [
        "import numpy as np\n",
        "import pandas as pd\n",
        "\n",
        "import torch\n",
        "from torch.utils.data import Dataset, DataLoader\n",
        "from transformers import AutoModel, AutoTokenizer, BertJapaneseTokenizer, BertModel\n",
        "from torch import cuda\n",
        "import sklearn.metrics as skm\n",
        "from sklearn.model_selection import train_test_split\n",
        "import torch.nn.functional as F\n",
        "from transformers import logging\n"
      ],
      "metadata": {
        "id": "pnCaB1WEG0dr"
      },
      "execution_count": 1,
      "outputs": []
    },
    {
      "cell_type": "code",
      "source": [
        "batch_size = 16\n",
        "max_len = 256"
      ],
      "metadata": {
        "id": "s0DTlUuXaQk0"
      },
      "execution_count": 2,
      "outputs": []
    },
    {
      "cell_type": "code",
      "source": [
        "df = pd.read_csv(\"./drive/MyDrive/Colab_Notebooks/data/livedoor_text.csv\")\n",
        "print(df.shape)\n",
        "df.head()"
      ],
      "metadata": {
        "colab": {
          "base_uri": "https://localhost:8080/",
          "height": 225
        },
        "id": "jPzhLL26GLCB",
        "outputId": "7ed4f41a-3855-431d-b8ea-ec6837b545a7"
      },
      "execution_count": 3,
      "outputs": [
        {
          "output_type": "stream",
          "name": "stdout",
          "text": [
            "(7367, 2)\n"
          ]
        },
        {
          "output_type": "execute_result",
          "data": {
            "text/plain": [
              "                                                text  category\n",
              "0  27日に生放送された日本テレビ「バンクーバー2010」には、女子フィギュアスケートで銀メダル...         7\n",
              "1  「腐女子」という言葉をご存知でしょうか。\\nいわゆる漫画やアニメキャラなどの男性同士の恋愛（...         0\n",
              "2  展示会イベント恒例のおねいさん写真のコーナーでございます \\n\\n国内最大級の携帯電話や無線...         6\n",
              "3  芸能界を引退した島田紳助さんが、今月２８日に公開される映画「犬の首輪とコロッケと」に声だけ出...         2\n",
              "4  お花に包まれた洋館で、イケメン執事に囲まれながら、ゆったりと過ごす午後のひととき……。女の子...         5"
            ],
            "text/html": [
              "\n",
              "  <div id=\"df-fe90de8b-99e7-46e2-baac-72cdbc78aefb\">\n",
              "    <div class=\"colab-df-container\">\n",
              "      <div>\n",
              "<style scoped>\n",
              "    .dataframe tbody tr th:only-of-type {\n",
              "        vertical-align: middle;\n",
              "    }\n",
              "\n",
              "    .dataframe tbody tr th {\n",
              "        vertical-align: top;\n",
              "    }\n",
              "\n",
              "    .dataframe thead th {\n",
              "        text-align: right;\n",
              "    }\n",
              "</style>\n",
              "<table border=\"1\" class=\"dataframe\">\n",
              "  <thead>\n",
              "    <tr style=\"text-align: right;\">\n",
              "      <th></th>\n",
              "      <th>text</th>\n",
              "      <th>category</th>\n",
              "    </tr>\n",
              "  </thead>\n",
              "  <tbody>\n",
              "    <tr>\n",
              "      <th>0</th>\n",
              "      <td>27日に生放送された日本テレビ「バンクーバー2010」には、女子フィギュアスケートで銀メダル...</td>\n",
              "      <td>7</td>\n",
              "    </tr>\n",
              "    <tr>\n",
              "      <th>1</th>\n",
              "      <td>「腐女子」という言葉をご存知でしょうか。\\nいわゆる漫画やアニメキャラなどの男性同士の恋愛（...</td>\n",
              "      <td>0</td>\n",
              "    </tr>\n",
              "    <tr>\n",
              "      <th>2</th>\n",
              "      <td>展示会イベント恒例のおねいさん写真のコーナーでございます \\n\\n国内最大級の携帯電話や無線...</td>\n",
              "      <td>6</td>\n",
              "    </tr>\n",
              "    <tr>\n",
              "      <th>3</th>\n",
              "      <td>芸能界を引退した島田紳助さんが、今月２８日に公開される映画「犬の首輪とコロッケと」に声だけ出...</td>\n",
              "      <td>2</td>\n",
              "    </tr>\n",
              "    <tr>\n",
              "      <th>4</th>\n",
              "      <td>お花に包まれた洋館で、イケメン執事に囲まれながら、ゆったりと過ごす午後のひととき……。女の子...</td>\n",
              "      <td>5</td>\n",
              "    </tr>\n",
              "  </tbody>\n",
              "</table>\n",
              "</div>\n",
              "      <button class=\"colab-df-convert\" onclick=\"convertToInteractive('df-fe90de8b-99e7-46e2-baac-72cdbc78aefb')\"\n",
              "              title=\"Convert this dataframe to an interactive table.\"\n",
              "              style=\"display:none;\">\n",
              "        \n",
              "  <svg xmlns=\"http://www.w3.org/2000/svg\" height=\"24px\"viewBox=\"0 0 24 24\"\n",
              "       width=\"24px\">\n",
              "    <path d=\"M0 0h24v24H0V0z\" fill=\"none\"/>\n",
              "    <path d=\"M18.56 5.44l.94 2.06.94-2.06 2.06-.94-2.06-.94-.94-2.06-.94 2.06-2.06.94zm-11 1L8.5 8.5l.94-2.06 2.06-.94-2.06-.94L8.5 2.5l-.94 2.06-2.06.94zm10 10l.94 2.06.94-2.06 2.06-.94-2.06-.94-.94-2.06-.94 2.06-2.06.94z\"/><path d=\"M17.41 7.96l-1.37-1.37c-.4-.4-.92-.59-1.43-.59-.52 0-1.04.2-1.43.59L10.3 9.45l-7.72 7.72c-.78.78-.78 2.05 0 2.83L4 21.41c.39.39.9.59 1.41.59.51 0 1.02-.2 1.41-.59l7.78-7.78 2.81-2.81c.8-.78.8-2.07 0-2.86zM5.41 20L4 18.59l7.72-7.72 1.47 1.35L5.41 20z\"/>\n",
              "  </svg>\n",
              "      </button>\n",
              "      \n",
              "  <style>\n",
              "    .colab-df-container {\n",
              "      display:flex;\n",
              "      flex-wrap:wrap;\n",
              "      gap: 12px;\n",
              "    }\n",
              "\n",
              "    .colab-df-convert {\n",
              "      background-color: #E8F0FE;\n",
              "      border: none;\n",
              "      border-radius: 50%;\n",
              "      cursor: pointer;\n",
              "      display: none;\n",
              "      fill: #1967D2;\n",
              "      height: 32px;\n",
              "      padding: 0 0 0 0;\n",
              "      width: 32px;\n",
              "    }\n",
              "\n",
              "    .colab-df-convert:hover {\n",
              "      background-color: #E2EBFA;\n",
              "      box-shadow: 0px 1px 2px rgba(60, 64, 67, 0.3), 0px 1px 3px 1px rgba(60, 64, 67, 0.15);\n",
              "      fill: #174EA6;\n",
              "    }\n",
              "\n",
              "    [theme=dark] .colab-df-convert {\n",
              "      background-color: #3B4455;\n",
              "      fill: #D2E3FC;\n",
              "    }\n",
              "\n",
              "    [theme=dark] .colab-df-convert:hover {\n",
              "      background-color: #434B5C;\n",
              "      box-shadow: 0px 1px 3px 1px rgba(0, 0, 0, 0.15);\n",
              "      filter: drop-shadow(0px 1px 2px rgba(0, 0, 0, 0.3));\n",
              "      fill: #FFFFFF;\n",
              "    }\n",
              "  </style>\n",
              "\n",
              "      <script>\n",
              "        const buttonEl =\n",
              "          document.querySelector('#df-fe90de8b-99e7-46e2-baac-72cdbc78aefb button.colab-df-convert');\n",
              "        buttonEl.style.display =\n",
              "          google.colab.kernel.accessAllowed ? 'block' : 'none';\n",
              "\n",
              "        async function convertToInteractive(key) {\n",
              "          const element = document.querySelector('#df-fe90de8b-99e7-46e2-baac-72cdbc78aefb');\n",
              "          const dataTable =\n",
              "            await google.colab.kernel.invokeFunction('convertToInteractive',\n",
              "                                                     [key], {});\n",
              "          if (!dataTable) return;\n",
              "\n",
              "          const docLinkHtml = 'Like what you see? Visit the ' +\n",
              "            '<a target=\"_blank\" href=https://colab.research.google.com/notebooks/data_table.ipynb>data table notebook</a>'\n",
              "            + ' to learn more about interactive tables.';\n",
              "          element.innerHTML = '';\n",
              "          dataTable['output_type'] = 'display_data';\n",
              "          await google.colab.output.renderOutput(dataTable, element);\n",
              "          const docLink = document.createElement('div');\n",
              "          docLink.innerHTML = docLinkHtml;\n",
              "          element.appendChild(docLink);\n",
              "        }\n",
              "      </script>\n",
              "    </div>\n",
              "  </div>\n",
              "  "
            ]
          },
          "metadata": {},
          "execution_count": 3
        }
      ]
    },
    {
      "cell_type": "markdown",
      "source": [
        "# データセットの作成"
      ],
      "metadata": {
        "id": "Tfm6tn61oW0r"
      }
    },
    {
      "cell_type": "code",
      "source": [
        "class CreateDataset(Dataset):\n",
        "  def __init__(self, X, y, tokenizer, max_len):\n",
        "    self.X = X\n",
        "    self.y = y\n",
        "    self.tokenizer = tokenizer\n",
        "    self.max_len = max_len\n",
        "\n",
        "  def __len__(self):\n",
        "    return len(self.y)\n",
        "\n",
        "  def encode(self, tokenizer, text):\n",
        "      inputs = tokenizer.encode_plus(\n",
        "          text,\n",
        "          add_special_tokens=True,\n",
        "          max_length=self.max_len,\n",
        "          padding = 'max_length',\n",
        "          truncation = True\n",
        "      )\n",
        "      return inputs\n",
        "\n",
        "  def __getitem__(self, index):\n",
        "    text = self.X[index]\n",
        "    label = self.y[index]\n",
        "    ids = []\n",
        "    mask = []\n",
        "    inputs = self.encode(tokenizer=self.tokenizer, text=text)\n",
        "    ids.append(torch.LongTensor(inputs['input_ids']))\n",
        "    mask.append(torch.LongTensor(inputs['attention_mask']))\n",
        "\n",
        "    return {\n",
        "      'ids': ids,\n",
        "      'mask': mask,\n",
        "      'label': label,\n",
        "      'text':text,\n",
        "      # 'userID':userID\n",
        "    }"
      ],
      "metadata": {
        "id": "B7aXkzLgG9za"
      },
      "execution_count": 4,
      "outputs": []
    },
    {
      "cell_type": "code",
      "source": [
        "tokenizer = BertJapaneseTokenizer.from_pretrained(\"cl-tohoku/bert-base-japanese-whole-word-masking\")"
      ],
      "metadata": {
        "id": "bdoMudggG_T8"
      },
      "execution_count": 5,
      "outputs": []
    },
    {
      "cell_type": "code",
      "source": [
        "X = df[\"text\"].values\n",
        "y = df[\"category\"].values"
      ],
      "metadata": {
        "id": "X2yZh73HG_YC"
      },
      "execution_count": 6,
      "outputs": []
    },
    {
      "cell_type": "code",
      "source": [
        "X_train_eval, X_test, y_train_eval, y_test = train_test_split(X, y, train_size=0.8)\n",
        "\n",
        "X_train, X_eval, y_train, y_eval = train_test_split(X_train_eval, y_train_eval, train_size=0.75)\n",
        "\n",
        "print(len(X_train))\n",
        "print(len(X_eval))\n",
        "print(len(X_test))\n",
        "\n",
        "print(len(y_train))\n",
        "print(len(y_eval))\n",
        "print(len(y_test))"
      ],
      "metadata": {
        "colab": {
          "base_uri": "https://localhost:8080/"
        },
        "id": "KuZghJ37RwyC",
        "outputId": "20cfac4a-be8d-42a9-8575-60425129760e"
      },
      "execution_count": 7,
      "outputs": [
        {
          "output_type": "stream",
          "name": "stdout",
          "text": [
            "4419\n",
            "1474\n",
            "1474\n",
            "4419\n",
            "1474\n",
            "1474\n"
          ]
        }
      ]
    },
    {
      "cell_type": "code",
      "source": [
        "dataset_train = CreateDataset(X_train, y_train, tokenizer, max_len=max_len)\n",
        "dataset_eval = CreateDataset(X_eval, y_eval, tokenizer, max_len=max_len)\n",
        "dataset_test = CreateDataset(X_test, y_test, tokenizer, max_len=max_len)\n",
        "\n",
        "print(dataset_train.__len__())\n",
        "print(dataset_eval.__len__())\n",
        "print(dataset_test.__len__())"
      ],
      "metadata": {
        "colab": {
          "base_uri": "https://localhost:8080/"
        },
        "id": "F5PTf6oiG_bd",
        "outputId": "e3e23e70-af3b-4973-c016-027dc94cde47"
      },
      "execution_count": 8,
      "outputs": [
        {
          "output_type": "stream",
          "name": "stdout",
          "text": [
            "4419\n",
            "1474\n",
            "1474\n"
          ]
        }
      ]
    },
    {
      "cell_type": "code",
      "source": [
        "# dataset_train[0]"
      ],
      "metadata": {
        "id": "pVD_X9ipXi6m"
      },
      "execution_count": 9,
      "outputs": []
    },
    {
      "cell_type": "markdown",
      "source": [
        "# データローダの作成"
      ],
      "metadata": {
        "id": "x9_FUL53oTdW"
      }
    },
    {
      "cell_type": "code",
      "source": [
        "dataloader_train = DataLoader(dataset_train, batch_size=batch_size, shuffle=True, pin_memory=True)\n",
        "dataloader_eval = DataLoader(dataset_eval, batch_size=batch_size, shuffle=True, pin_memory=True)\n",
        "dataloader_test = DataLoader(dataset_test, batch_size=batch_size, shuffle=True, pin_memory=True)\n",
        "\n",
        "# 辞書オブジェクトにまとめる\n",
        "dataloaders_dict = {\"train\": dataloader_train, \"val\": dataloader_eval}"
      ],
      "metadata": {
        "id": "BJUfrG01WT-U"
      },
      "execution_count": 10,
      "outputs": []
    },
    {
      "cell_type": "code",
      "source": [
        "tmp = next(iter(dataloader_train))\n",
        "print(tmp[\"ids\"][0].size())\n",
        "print(tmp[\"label\"])\n",
        "tmp[\"ids\"][0][0]\n"
      ],
      "metadata": {
        "colab": {
          "base_uri": "https://localhost:8080/"
        },
        "id": "HrJDt5u-YTlI",
        "outputId": "e11cd0a9-d4d7-45b2-fd17-e08e19b38f1d"
      },
      "execution_count": 11,
      "outputs": [
        {
          "output_type": "stream",
          "name": "stdout",
          "text": [
            "torch.Size([16, 256])\n",
            "tensor([8, 4, 0, 6, 4, 0, 8, 0, 6, 1, 1, 6, 0, 5, 2, 1])\n"
          ]
        },
        {
          "output_type": "execute_result",
          "data": {
            "text/plain": [
              "tensor([    2,   101,    32,     6,    91,  1208,     5, 13129,    36,    25,\n",
              "         4187, 17495,    38,    12,     6,   281,  1251,    53,    35, 12817,\n",
              "          964, 29494,   643,     5,  3266,    11,  9368,    34, 20619,    14,\n",
              "         2021,     6,  1920, 13129,    14,  3919, 18220,    58,    16,    33,\n",
              "            8, 20619,    14,  2860,    84,    10,     5,     9,    25,  4187,\n",
              "        17495,     5,    36,  2626, 18652,  2318, 28497,  2489,    12,     6,\n",
              "           70, 13129,     9,  2203, 12830,  1964,    13,   501,    62,  6029,\n",
              "           11,  1330,    10,  2255,     5,  4502,   278, 20619,    11,  1485,\n",
              "            7,  3612,    45,     9,   203,    80,     8, 12830,    11,  1330,\n",
              "           16,    33,  4502,     9,  2203,  3753,  1964,    13,   501,    20,\n",
              "            6,  1379,     6, 12817,   964, 29494,   643,  3266,  9368, 20619,\n",
              "           28,    36,  4913,   312,  3081,   591,  4913, 21793, 11911,    38,\n",
              "           13,  7359,     6,  5607,  3753,    11,   763,    16,   322,    10,\n",
              "         4502,   230,  2860,    84,    10,   120,    75,     8,  4913,   312,\n",
              "         3081,   591,  4913, 21793, 11911,  3753,     5,  1381,    12,    36,\n",
              "           25,  4187, 17495,   281,  1251,    53,     5, 12817,   964, 29494,\n",
              "           11,  6007,  2610,    38,    13, 10097,     6,  2860,    84,    10,\n",
              "           69, 20619,     7,     9,     6,    25,  4187, 17495,   281,  1251,\n",
              "           53,     5, 12817,   964, 29494,    11,  6007,  2610,  7476,     7,\n",
              "         6007,  2610,  3733,  4710,  2610,    25,  4187, 17495,     5,   281,\n",
              "         1251,    53,     5, 12817,   964, 29494,    11,  2499, 29446,    12,\n",
              "        18157, 17227, 14979,    11, 14090,  9299,    25,  7431,    11,  4207,\n",
              "           26,   191,  2610,   802,  3252, 16546,   171,     9, 12025,  9368,\n",
              "           75,  1573,     7, 12292,    34,    18, 12292,  3171,   312, 13795,\n",
              "           13,     6,  1198, 28804,    11,  1330,    16,    33,  5553,    14,\n",
              "        16515, 27267,    13,  2621,  1997,     3])"
            ]
          },
          "metadata": {},
          "execution_count": 11
        }
      ]
    },
    {
      "cell_type": "markdown",
      "source": [
        "# BERTモデル"
      ],
      "metadata": {
        "id": "CZPTyZ5IoQka"
      }
    },
    {
      "cell_type": "code",
      "source": [
        "model = BertModel.from_pretrained(\"cl-tohoku/bert-base-japanese-whole-word-masking\", output_attentions=True, output_hidden_states=True)"
      ],
      "metadata": {
        "id": "sJX70XFWG_ee"
      },
      "execution_count": 12,
      "outputs": []
    },
    {
      "cell_type": "code",
      "source": [
        "from torch import nn\n",
        "\n",
        "\n",
        "class BertForLivedoor(nn.Module):\n",
        "    '''BERTモデルにLivedoorニュースの9クラスを判定する部分をつなげたモデル'''\n",
        "\n",
        "    def __init__(self):\n",
        "        super(BertForLivedoor, self).__init__()\n",
        "\n",
        "        # BERTモジュール\n",
        "        self.bert = model  # 日本語学習済みのBERTモデル\n",
        "\n",
        "        # headにクラス予測を追加\n",
        "        # 入力はBERTの出力特徴量の次元768、出力は9クラス\n",
        "        self.cls = nn.Linear(in_features=768, out_features=9)\n",
        "\n",
        "        # 重み初期化処理\n",
        "        nn.init.normal_(self.cls.weight, std=0.02)\n",
        "        nn.init.normal_(self.cls.bias, 0)\n",
        "\n",
        "        # カウント\n",
        "        self.count = 0\n",
        "\n",
        "\n",
        "    def forward(self, input_ids, attention_show_flg:bool):\n",
        "        '''\n",
        "        input_ids： [batch_size, sequence_length]の文章の単語IDの羅列\n",
        "        '''\n",
        "\n",
        "        # BERTの基本モデル部分の順伝搬\n",
        "        # 順伝搬させる\n",
        "        result = self.bert(input_ids)  # reult は、sequence_output, pooled_output\n",
        "\n",
        "        # sequence_outputの先頭の単語ベクトルを抜き出す\n",
        "        vec_0 = result[0]  # 最初の0がsequence_outputを示す\n",
        "        vec_0 = vec_0[:, 0, :]  # 全バッチ。先頭0番目の単語の全768要素\n",
        "        vec_0 = vec_0.view(-1, 768)  # sizeを[batch_size, hidden_size]に変換\n",
        "        output = self.cls(vec_0)  # 全結合層\n",
        "\n",
        "        self.count += 1\n",
        "\n",
        "        if attention_show_flg:\n",
        "          return output, result.attentions[-1]\n",
        "        else:\n",
        "          return output\n"
      ],
      "metadata": {
        "id": "kt7Ox3ISQhyQ"
      },
      "execution_count": 13,
      "outputs": []
    },
    {
      "cell_type": "code",
      "source": [
        "# モデル構築\n",
        "net = BertForLivedoor()\n",
        "\n",
        "# 訓練モードに設定\n",
        "net.train()\n",
        "\n",
        "print('ネットワーク設定完了')"
      ],
      "metadata": {
        "colab": {
          "base_uri": "https://localhost:8080/"
        },
        "id": "oYAN0RMZRZ-F",
        "outputId": "6893b892-7bf3-46db-a51b-dfbfe34abbb8"
      },
      "execution_count": 15,
      "outputs": [
        {
          "output_type": "stream",
          "name": "stdout",
          "text": [
            "ネットワーク設定完了\n"
          ]
        }
      ]
    },
    {
      "cell_type": "code",
      "source": [
        "# 勾配計算を最後のBertLayerモジュールと追加した分類アダプターのみ実行\n",
        "\n",
        "# 1. まず全部を、勾配計算Falseにしてしまう\n",
        "for param in net.parameters():\n",
        "    param.requires_grad = False\n",
        "\n",
        "# 2. BertLayerモジュールの最後を勾配計算ありに変更\n",
        "for param in net.bert.encoder.layer[-1].parameters():\n",
        "    param.requires_grad = True\n",
        "\n",
        "# 3. 識別器を勾配計算ありに変更\n",
        "for param in net.cls.parameters():\n",
        "    param.requires_grad = True"
      ],
      "metadata": {
        "id": "yESzArCNRaee"
      },
      "execution_count": 16,
      "outputs": []
    },
    {
      "cell_type": "code",
      "source": [
        "# 最適化手法の設定\n",
        "import torch.optim as optim\n",
        "\n",
        "\n",
        "# BERTの元の部分はファインチューニング\n",
        "optimizer = optim.Adam([\n",
        "    {'params': net.bert.encoder.layer[-1].parameters(), 'lr': 5e-5},\n",
        "    {'params': net.cls.parameters(), 'lr': 1e-4}\n",
        "])\n",
        "\n",
        "# 損失関数の設定\n",
        "criterion = nn.CrossEntropyLoss()\n",
        "# nn.LogSoftmax()を計算してからnn.NLLLoss(negative log likelihood loss)を計算"
      ],
      "metadata": {
        "id": "Ze8n1lpURaoD"
      },
      "execution_count": 17,
      "outputs": []
    },
    {
      "cell_type": "markdown",
      "source": [
        "# 学習・検証"
      ],
      "metadata": {
        "id": "g83K9OAfoN1J"
      }
    },
    {
      "cell_type": "code",
      "source": [
        "# モデルを学習させる関数を作成\n",
        "\n",
        "\n",
        "def train_model(net, dataloaders_dict, criterion, optimizer, num_epochs):\n",
        "\n",
        "    # GPUが使えるかを確認\n",
        "    device = torch.device(\"cuda:0\" if torch.cuda.is_available() else \"cpu\")\n",
        "    print(\"使用デバイス：\", device)\n",
        "    print('-----start-------')\n",
        "\n",
        "    # ネットワークをGPUへ\n",
        "    net.to(device)\n",
        "\n",
        "    # ネットワークがある程度固定であれば、高速化させる\n",
        "    torch.backends.cudnn.benchmark = True\n",
        "\n",
        "    # ミニバッチのサイズ\n",
        "    batch_size = dataloaders_dict[\"train\"].batch_size\n",
        "\n",
        "    # epochのループ\n",
        "    for epoch in range(num_epochs):\n",
        "        # epochごとの訓練と検証のループ\n",
        "        for phase in ['train', 'val']:\n",
        "            if phase == 'train':\n",
        "                net.train()  # モデルを訓練モードに\n",
        "            else:\n",
        "                net.eval()   # モデルを検証モードに\n",
        "\n",
        "            epoch_loss = 0.0  # epochの損失和\n",
        "            epoch_corrects = 0  # epochの正解数\n",
        "            iteration = 1\n",
        "\n",
        "            # データローダーからミニバッチを取り出すループ\n",
        "            for batch in (dataloaders_dict[phase]):\n",
        "                # batchはTextとLableの辞書型変数\n",
        "\n",
        "                # GPUが使えるならGPUにデータを送る\n",
        "                inputs = batch[\"ids\"][0].to(device)  # 文章\n",
        "                labels = batch[\"label\"].to(device)  # ラベル\n",
        "\n",
        "                # optimizerを初期化\n",
        "                optimizer.zero_grad()\n",
        "\n",
        "                # 順伝搬（forward）計算\n",
        "                with torch.set_grad_enabled(phase == 'train'):\n",
        "\n",
        "                    # BERTに入力\n",
        "                    outputs = net(inputs, attention_show_flg=False)\n",
        "\n",
        "                    loss = criterion(outputs, labels)  # 損失を計算\n",
        "\n",
        "                    _, preds = torch.max(outputs, 1)  # ラベルを予測\n",
        "\n",
        "                    # 訓練時はバックプロパゲーション\n",
        "                    if phase == 'train':\n",
        "                        loss.backward()\n",
        "                        optimizer.step()\n",
        "\n",
        "                        if (iteration % 10 == 0):  # 10iterに1度、lossを表示\n",
        "                            acc = (torch.sum(preds == labels.data)\n",
        "                                   ).double()/batch_size\n",
        "                            print('イテレーション {} || Loss: {:.4f} || 10iter. || 本イテレーションの正解率：{}'.format(\n",
        "                                iteration, loss.item(),  acc))\n",
        "\n",
        "                    iteration += 1\n",
        "\n",
        "                    # 損失と正解数の合計を更新\n",
        "                    epoch_loss += loss.item() * batch_size\n",
        "                    epoch_corrects += torch.sum(preds == labels.data)\n",
        "\n",
        "            # epochごとのlossと正解率\n",
        "            epoch_loss = epoch_loss / len(dataloaders_dict[phase].dataset)\n",
        "            epoch_acc = epoch_corrects.double(\n",
        "            ) / len(dataloaders_dict[phase].dataset)\n",
        "\n",
        "            print('Epoch {}/{} | {:^5} |  Loss: {:.4f} Acc: {:.4f}'.format(epoch+1, num_epochs,\n",
        "                                                                           phase, epoch_loss, epoch_acc))\n",
        "\n",
        "    return net"
      ],
      "metadata": {
        "id": "dPcjornYRawV"
      },
      "execution_count": 18,
      "outputs": []
    },
    {
      "cell_type": "code",
      "source": [
        "# 学習・検証を実行する。1epochに2分ほどかかります\n",
        "num_epochs = 4\n",
        "net_trained = train_model(net, dataloaders_dict,\n",
        "                          criterion, optimizer, num_epochs=num_epochs)\n"
      ],
      "metadata": {
        "colab": {
          "base_uri": "https://localhost:8080/"
        },
        "id": "HvIKi67TRa2w",
        "outputId": "1f8576e0-81ba-45b6-cb21-48bd41e5f07f"
      },
      "execution_count": 19,
      "outputs": [
        {
          "output_type": "stream",
          "name": "stdout",
          "text": [
            "使用デバイス： cuda:0\n",
            "-----start-------\n",
            "イテレーション 10 || Loss: 2.4678 || 10iter. || 本イテレーションの正解率：0.1875\n",
            "イテレーション 20 || Loss: 2.4160 || 10iter. || 本イテレーションの正解率：0.25\n",
            "イテレーション 30 || Loss: 2.0287 || 10iter. || 本イテレーションの正解率：0.375\n",
            "イテレーション 40 || Loss: 1.4768 || 10iter. || 本イテレーションの正解率：0.5625\n",
            "イテレーション 50 || Loss: 1.1865 || 10iter. || 本イテレーションの正解率：0.5625\n",
            "イテレーション 60 || Loss: 0.9661 || 10iter. || 本イテレーションの正解率：0.8125\n",
            "イテレーション 70 || Loss: 1.0505 || 10iter. || 本イテレーションの正解率：0.75\n",
            "イテレーション 80 || Loss: 0.8078 || 10iter. || 本イテレーションの正解率：0.625\n",
            "イテレーション 90 || Loss: 0.7783 || 10iter. || 本イテレーションの正解率：0.75\n",
            "イテレーション 100 || Loss: 0.6145 || 10iter. || 本イテレーションの正解率：0.8125\n",
            "イテレーション 110 || Loss: 0.3920 || 10iter. || 本イテレーションの正解率：0.9375\n",
            "イテレーション 120 || Loss: 0.7609 || 10iter. || 本イテレーションの正解率：0.6875\n",
            "イテレーション 130 || Loss: 0.6976 || 10iter. || 本イテレーションの正解率：0.75\n",
            "イテレーション 140 || Loss: 0.4656 || 10iter. || 本イテレーションの正解率：0.8125\n",
            "イテレーション 150 || Loss: 0.9406 || 10iter. || 本イテレーションの正解率：0.625\n",
            "イテレーション 160 || Loss: 0.8275 || 10iter. || 本イテレーションの正解率：0.625\n",
            "イテレーション 170 || Loss: 0.6104 || 10iter. || 本イテレーションの正解率：0.8125\n",
            "イテレーション 180 || Loss: 0.5771 || 10iter. || 本イテレーションの正解率：0.875\n",
            "イテレーション 190 || Loss: 0.4581 || 10iter. || 本イテレーションの正解率：0.875\n",
            "イテレーション 200 || Loss: 0.5117 || 10iter. || 本イテレーションの正解率：0.875\n",
            "イテレーション 210 || Loss: 0.8799 || 10iter. || 本イテレーションの正解率：0.6875\n",
            "イテレーション 220 || Loss: 0.9385 || 10iter. || 本イテレーションの正解率：0.625\n",
            "イテレーション 230 || Loss: 0.4178 || 10iter. || 本イテレーションの正解率：0.875\n",
            "イテレーション 240 || Loss: 0.6926 || 10iter. || 本イテレーションの正解率：0.6875\n",
            "イテレーション 250 || Loss: 0.1758 || 10iter. || 本イテレーションの正解率：0.9375\n",
            "イテレーション 260 || Loss: 0.6748 || 10iter. || 本イテレーションの正解率：0.75\n",
            "イテレーション 270 || Loss: 0.4972 || 10iter. || 本イテレーションの正解率：0.875\n",
            "Epoch 1/4 | train |  Loss: 0.9189 Acc: 0.7131\n",
            "Epoch 1/4 |  val  |  Loss: 0.4854 Acc: 0.8365\n",
            "イテレーション 10 || Loss: 0.2689 || 10iter. || 本イテレーションの正解率：0.875\n",
            "イテレーション 20 || Loss: 0.3077 || 10iter. || 本イテレーションの正解率：0.9375\n",
            "イテレーション 30 || Loss: 0.2834 || 10iter. || 本イテレーションの正解率：0.9375\n",
            "イテレーション 40 || Loss: 0.4742 || 10iter. || 本イテレーションの正解率：0.8125\n",
            "イテレーション 50 || Loss: 0.3368 || 10iter. || 本イテレーションの正解率：0.875\n",
            "イテレーション 60 || Loss: 0.1665 || 10iter. || 本イテレーションの正解率：1.0\n",
            "イテレーション 70 || Loss: 0.3751 || 10iter. || 本イテレーションの正解率：0.875\n",
            "イテレーション 80 || Loss: 0.2403 || 10iter. || 本イテレーションの正解率：0.875\n",
            "イテレーション 90 || Loss: 0.3001 || 10iter. || 本イテレーションの正解率：0.875\n",
            "イテレーション 100 || Loss: 0.3069 || 10iter. || 本イテレーションの正解率：0.875\n",
            "イテレーション 110 || Loss: 0.8434 || 10iter. || 本イテレーションの正解率：0.6875\n",
            "イテレーション 120 || Loss: 0.2656 || 10iter. || 本イテレーションの正解率：0.9375\n",
            "イテレーション 130 || Loss: 0.3561 || 10iter. || 本イテレーションの正解率：0.8125\n",
            "イテレーション 140 || Loss: 0.4518 || 10iter. || 本イテレーションの正解率：0.8125\n",
            "イテレーション 150 || Loss: 0.1850 || 10iter. || 本イテレーションの正解率：1.0\n",
            "イテレーション 160 || Loss: 0.5355 || 10iter. || 本イテレーションの正解率：0.8125\n",
            "イテレーション 170 || Loss: 0.3061 || 10iter. || 本イテレーションの正解率：0.875\n",
            "イテレーション 180 || Loss: 0.3850 || 10iter. || 本イテレーションの正解率：0.875\n",
            "イテレーション 190 || Loss: 0.4002 || 10iter. || 本イテレーションの正解率：0.8125\n",
            "イテレーション 200 || Loss: 0.1728 || 10iter. || 本イテレーションの正解率：0.9375\n",
            "イテレーション 210 || Loss: 0.3146 || 10iter. || 本イテレーションの正解率：0.9375\n",
            "イテレーション 220 || Loss: 0.3804 || 10iter. || 本イテレーションの正解率：0.875\n",
            "イテレーション 230 || Loss: 0.3887 || 10iter. || 本イテレーションの正解率：0.9375\n",
            "イテレーション 240 || Loss: 0.4330 || 10iter. || 本イテレーションの正解率：0.8125\n",
            "イテレーション 250 || Loss: 0.8317 || 10iter. || 本イテレーションの正解率：0.75\n",
            "イテレーション 260 || Loss: 0.6943 || 10iter. || 本イテレーションの正解率：0.875\n",
            "イテレーション 270 || Loss: 0.4152 || 10iter. || 本イテレーションの正解率：0.875\n",
            "Epoch 2/4 | train |  Loss: 0.3861 Acc: 0.8712\n",
            "Epoch 2/4 |  val  |  Loss: 0.3550 Acc: 0.8826\n",
            "イテレーション 10 || Loss: 0.0796 || 10iter. || 本イテレーションの正解率：1.0\n",
            "イテレーション 20 || Loss: 0.2870 || 10iter. || 本イテレーションの正解率：0.9375\n",
            "イテレーション 30 || Loss: 0.2246 || 10iter. || 本イテレーションの正解率：0.9375\n",
            "イテレーション 40 || Loss: 0.2634 || 10iter. || 本イテレーションの正解率：0.9375\n",
            "イテレーション 50 || Loss: 0.2723 || 10iter. || 本イテレーションの正解率：0.9375\n",
            "イテレーション 60 || Loss: 0.2187 || 10iter. || 本イテレーションの正解率：0.9375\n",
            "イテレーション 70 || Loss: 0.2735 || 10iter. || 本イテレーションの正解率：0.9375\n",
            "イテレーション 80 || Loss: 0.3979 || 10iter. || 本イテレーションの正解率：0.75\n",
            "イテレーション 90 || Loss: 0.1362 || 10iter. || 本イテレーションの正解率：0.9375\n",
            "イテレーション 100 || Loss: 0.4299 || 10iter. || 本イテレーションの正解率：0.875\n",
            "イテレーション 110 || Loss: 0.3533 || 10iter. || 本イテレーションの正解率：0.9375\n",
            "イテレーション 120 || Loss: 0.1024 || 10iter. || 本イテレーションの正解率：1.0\n",
            "イテレーション 130 || Loss: 0.2223 || 10iter. || 本イテレーションの正解率：0.9375\n",
            "イテレーション 140 || Loss: 0.1085 || 10iter. || 本イテレーションの正解率：1.0\n",
            "イテレーション 150 || Loss: 0.4034 || 10iter. || 本イテレーションの正解率：0.8125\n",
            "イテレーション 160 || Loss: 0.5185 || 10iter. || 本イテレーションの正解率：0.75\n",
            "イテレーション 170 || Loss: 0.4036 || 10iter. || 本イテレーションの正解率：0.875\n",
            "イテレーション 180 || Loss: 0.0826 || 10iter. || 本イテレーションの正解率：1.0\n",
            "イテレーション 190 || Loss: 0.4193 || 10iter. || 本イテレーションの正解率：0.875\n",
            "イテレーション 200 || Loss: 0.1651 || 10iter. || 本イテレーションの正解率：0.9375\n",
            "イテレーション 210 || Loss: 0.3153 || 10iter. || 本イテレーションの正解率：0.8125\n",
            "イテレーション 220 || Loss: 0.0944 || 10iter. || 本イテレーションの正解率：1.0\n",
            "イテレーション 230 || Loss: 0.0746 || 10iter. || 本イテレーションの正解率：1.0\n",
            "イテレーション 240 || Loss: 0.1924 || 10iter. || 本イテレーションの正解率：0.9375\n",
            "イテレーション 250 || Loss: 0.8210 || 10iter. || 本イテレーションの正解率：0.6875\n",
            "イテレーション 260 || Loss: 0.4396 || 10iter. || 本イテレーションの正解率：0.9375\n",
            "イテレーション 270 || Loss: 0.4672 || 10iter. || 本イテレーションの正解率：0.875\n",
            "Epoch 3/4 | train |  Loss: 0.2824 Acc: 0.9104\n",
            "Epoch 3/4 |  val  |  Loss: 0.3581 Acc: 0.8813\n",
            "イテレーション 10 || Loss: 0.1709 || 10iter. || 本イテレーションの正解率：1.0\n",
            "イテレーション 20 || Loss: 0.2074 || 10iter. || 本イテレーションの正解率：1.0\n",
            "イテレーション 30 || Loss: 0.1982 || 10iter. || 本イテレーションの正解率：0.9375\n",
            "イテレーション 40 || Loss: 0.4545 || 10iter. || 本イテレーションの正解率：0.8125\n",
            "イテレーション 50 || Loss: 0.2624 || 10iter. || 本イテレーションの正解率：0.875\n",
            "イテレーション 60 || Loss: 0.4087 || 10iter. || 本イテレーションの正解率：0.875\n",
            "イテレーション 70 || Loss: 0.1652 || 10iter. || 本イテレーションの正解率：0.875\n",
            "イテレーション 80 || Loss: 0.1069 || 10iter. || 本イテレーションの正解率：0.9375\n",
            "イテレーション 90 || Loss: 0.1193 || 10iter. || 本イテレーションの正解率：0.9375\n",
            "イテレーション 100 || Loss: 0.1304 || 10iter. || 本イテレーションの正解率：0.875\n",
            "イテレーション 110 || Loss: 0.0571 || 10iter. || 本イテレーションの正解率：1.0\n",
            "イテレーション 120 || Loss: 0.1304 || 10iter. || 本イテレーションの正解率：1.0\n",
            "イテレーション 130 || Loss: 0.3380 || 10iter. || 本イテレーションの正解率：0.875\n",
            "イテレーション 140 || Loss: 0.2393 || 10iter. || 本イテレーションの正解率：0.9375\n",
            "イテレーション 150 || Loss: 0.0766 || 10iter. || 本イテレーションの正解率：1.0\n",
            "イテレーション 160 || Loss: 0.0502 || 10iter. || 本イテレーションの正解率：1.0\n",
            "イテレーション 170 || Loss: 0.1388 || 10iter. || 本イテレーションの正解率：0.9375\n",
            "イテレーション 180 || Loss: 0.0663 || 10iter. || 本イテレーションの正解率：1.0\n",
            "イテレーション 190 || Loss: 0.2287 || 10iter. || 本イテレーションの正解率：0.875\n",
            "イテレーション 200 || Loss: 0.0462 || 10iter. || 本イテレーションの正解率：1.0\n",
            "イテレーション 210 || Loss: 0.3072 || 10iter. || 本イテレーションの正解率：0.9375\n",
            "イテレーション 220 || Loss: 0.0323 || 10iter. || 本イテレーションの正解率：1.0\n",
            "イテレーション 230 || Loss: 0.1657 || 10iter. || 本イテレーションの正解率：0.9375\n",
            "イテレーション 240 || Loss: 0.1416 || 10iter. || 本イテレーションの正解率：0.9375\n",
            "イテレーション 250 || Loss: 0.0540 || 10iter. || 本イテレーションの正解率：1.0\n",
            "イテレーション 260 || Loss: 0.1781 || 10iter. || 本イテレーションの正解率：0.9375\n",
            "イテレーション 270 || Loss: 0.1685 || 10iter. || 本イテレーションの正解率：0.9375\n",
            "Epoch 4/4 | train |  Loss: 0.2052 Acc: 0.9326\n",
            "Epoch 4/4 |  val  |  Loss: 0.3036 Acc: 0.9084\n"
          ]
        }
      ]
    },
    {
      "cell_type": "code",
      "source": [
        "# モデル保存\n",
        "# CPU版\n",
        "# save_path = \"./drive/MyDrive/Colab_Notebooks/model/single_bert_fine_tuning_livedoor_cpu.pth\"\n",
        "# torch.save(net_trained.to('cpu').state_dict(), save_path)\n",
        "\n",
        "# GPU版\n",
        "# save_path = \"./drive/MyDrive/Colab_Notebooks/model/single_bert_fine_tuning_livedoor_gpu.pth\"\n",
        "save_path = \"./model.pth\"\n",
        "torch.save(net_trained.state_dict(), save_path)"
      ],
      "metadata": {
        "id": "2OuR41Bu44LS"
      },
      "execution_count": 20,
      "outputs": []
    },
    {
      "cell_type": "code",
      "source": [
        "from tqdm import tqdm\n",
        "\n",
        "# テストデータでの正解率を求める\n",
        "device = torch.device(\"cuda:0\" if torch.cuda.is_available() else \"cpu\")\n",
        "\n",
        "net_trained.eval()   # モデルを検証モードに\n",
        "net_trained.to(device)  # GPUが使えるならGPUへ送る\n",
        "\n",
        "# epochの正解数を記録する変数\n",
        "epoch_corrects = 0\n",
        "\n",
        "for batch in tqdm(dataloader_test):  # testデータのDataLoader\n",
        "    # batchはTextとLableの辞書オブジェクト\n",
        "    # GPUが使えるならGPUにデータを送る\n",
        "    inputs = batch[\"ids\"][0].to(device)  # 文章\n",
        "    labels = batch[\"label\"].to(device)  # ラベル\n",
        "\n",
        "    # 順伝搬（forward）計算\n",
        "    with torch.set_grad_enabled(False):\n",
        "\n",
        "        # BertForLivedoorに入力\n",
        "        outputs = net_trained(inputs, attention_show_flg=False)\n",
        "\n",
        "        loss = criterion(outputs, labels)  # 損失を計算\n",
        "        _, preds = torch.max(outputs, 1)  # ラベルを予測\n",
        "        epoch_corrects += torch.sum(preds == labels.data)  # 正解数の合計を更新\n",
        "\n",
        "# 正解率\n",
        "epoch_acc = epoch_corrects.double() / len(dataloader_test.dataset)\n",
        "\n",
        "print('テストデータ{}個での正解率：{:.4f}'.format(len(dataloader_test.dataset), epoch_acc))"
      ],
      "metadata": {
        "colab": {
          "base_uri": "https://localhost:8080/"
        },
        "id": "XDzzCqhOZzEh",
        "outputId": "9b63a898-995f-407b-9e4f-61fe5c01704e"
      },
      "execution_count": 21,
      "outputs": [
        {
          "output_type": "stream",
          "name": "stderr",
          "text": [
            "100%|██████████| 93/93 [00:11<00:00,  8.16it/s]"
          ]
        },
        {
          "output_type": "stream",
          "name": "stdout",
          "text": [
            "テストデータ1474個での正解率：0.8833\n"
          ]
        },
        {
          "output_type": "stream",
          "name": "stderr",
          "text": [
            "\n"
          ]
        }
      ]
    },
    {
      "cell_type": "markdown",
      "source": [
        "# Limeによる解釈"
      ],
      "metadata": {
        "id": "UsrXDuhuZuZX"
      }
    },
    {
      "cell_type": "code",
      "source": [
        "! pip install lime"
      ],
      "metadata": {
        "colab": {
          "base_uri": "https://localhost:8080/"
        },
        "id": "pXDWPgrpZ6mX",
        "outputId": "5e359578-a093-43de-821f-c28b0accc07f"
      },
      "execution_count": 22,
      "outputs": [
        {
          "output_type": "stream",
          "name": "stdout",
          "text": [
            "Looking in indexes: https://pypi.org/simple, https://us-python.pkg.dev/colab-wheels/public/simple/\n",
            "Requirement already satisfied: lime in /usr/local/lib/python3.7/dist-packages (0.2.0.1)\n",
            "Requirement already satisfied: scikit-learn>=0.18 in /usr/local/lib/python3.7/dist-packages (from lime) (1.0.2)\n",
            "Requirement already satisfied: scikit-image>=0.12 in /usr/local/lib/python3.7/dist-packages (from lime) (0.18.3)\n",
            "Requirement already satisfied: tqdm in /usr/local/lib/python3.7/dist-packages (from lime) (4.64.1)\n",
            "Requirement already satisfied: matplotlib in /usr/local/lib/python3.7/dist-packages (from lime) (3.2.2)\n",
            "Requirement already satisfied: numpy in /usr/local/lib/python3.7/dist-packages (from lime) (1.21.6)\n",
            "Requirement already satisfied: scipy in /usr/local/lib/python3.7/dist-packages (from lime) (1.7.3)\n",
            "Requirement already satisfied: networkx>=2.0 in /usr/local/lib/python3.7/dist-packages (from scikit-image>=0.12->lime) (2.6.3)\n",
            "Requirement already satisfied: tifffile>=2019.7.26 in /usr/local/lib/python3.7/dist-packages (from scikit-image>=0.12->lime) (2021.11.2)\n",
            "Requirement already satisfied: PyWavelets>=1.1.1 in /usr/local/lib/python3.7/dist-packages (from scikit-image>=0.12->lime) (1.3.0)\n",
            "Requirement already satisfied: pillow!=7.1.0,!=7.1.1,>=4.3.0 in /usr/local/lib/python3.7/dist-packages (from scikit-image>=0.12->lime) (7.1.2)\n",
            "Requirement already satisfied: imageio>=2.3.0 in /usr/local/lib/python3.7/dist-packages (from scikit-image>=0.12->lime) (2.9.0)\n",
            "Requirement already satisfied: pyparsing!=2.0.4,!=2.1.2,!=2.1.6,>=2.0.1 in /usr/local/lib/python3.7/dist-packages (from matplotlib->lime) (3.0.9)\n",
            "Requirement already satisfied: python-dateutil>=2.1 in /usr/local/lib/python3.7/dist-packages (from matplotlib->lime) (2.8.2)\n",
            "Requirement already satisfied: kiwisolver>=1.0.1 in /usr/local/lib/python3.7/dist-packages (from matplotlib->lime) (1.4.4)\n",
            "Requirement already satisfied: cycler>=0.10 in /usr/local/lib/python3.7/dist-packages (from matplotlib->lime) (0.11.0)\n",
            "Requirement already satisfied: typing-extensions in /usr/local/lib/python3.7/dist-packages (from kiwisolver>=1.0.1->matplotlib->lime) (4.1.1)\n",
            "Requirement already satisfied: six>=1.5 in /usr/local/lib/python3.7/dist-packages (from python-dateutil>=2.1->matplotlib->lime) (1.15.0)\n",
            "Requirement already satisfied: threadpoolctl>=2.0.0 in /usr/local/lib/python3.7/dist-packages (from scikit-learn>=0.18->lime) (3.1.0)\n",
            "Requirement already satisfied: joblib>=0.11 in /usr/local/lib/python3.7/dist-packages (from scikit-learn>=0.18->lime) (1.1.0)\n"
          ]
        }
      ]
    },
    {
      "cell_type": "code",
      "source": [
        "import torch.nn.functional as F\n",
        "import lime\n",
        "from lime.lime_text import LimeTextExplainer"
      ],
      "metadata": {
        "id": "cG2yvlrVZ7TF"
      },
      "execution_count": 14,
      "outputs": []
    },
    {
      "cell_type": "code",
      "source": [
        "device = torch.device(\"cuda:0\" if torch.cuda.is_available() else \"cpu\")"
      ],
      "metadata": {
        "id": "0DxN3nn5fvdJ"
      },
      "execution_count": 15,
      "outputs": []
    },
    {
      "cell_type": "code",
      "source": [
        "# モデルのロード\n",
        "model = BertForLivedoor()\n",
        "model.load_state_dict(torch.load(\"./model.pth\"))\n",
        "model.to(device)\n",
        "print(\"complete\")"
      ],
      "metadata": {
        "colab": {
          "base_uri": "https://localhost:8080/"
        },
        "id": "MEO9wzmMfEJ6",
        "outputId": "4959bb2b-4dfb-4c63-eb97-66ef9a15eb85"
      },
      "execution_count": 16,
      "outputs": [
        {
          "output_type": "stream",
          "name": "stdout",
          "text": [
            "complete\n"
          ]
        }
      ]
    },
    {
      "cell_type": "code",
      "source": [
        "class_names = [\n",
        "    'dokujo-tsushin',\n",
        "    'it-life-hack',\n",
        "    'smax',\n",
        "    'sports-watch',\n",
        "    'kaden-channel',\n",
        "    'movie-enter',\n",
        "    'topic-news',\n",
        "    'livedoor-homme',\n",
        "    'peachy'\n",
        "]"
      ],
      "metadata": {
        "id": "yTXSbyFQaODd"
      },
      "execution_count": 17,
      "outputs": []
    },
    {
      "cell_type": "code",
      "source": [
        "device = torch.device(\"cuda:0\" if torch.cuda.is_available() else \"cpu\")\n",
        "\n",
        "def predictor(texts):\n",
        "    encoding = tokenizer.batch_encode_plus(texts, padding=\"max_length\", max_length=512)\n",
        "    \n",
        "    input_ids = torch.tensor(encoding['input_ids']).to(device)\n",
        "\n",
        "    with torch.no_grad():\n",
        "        output = model(input_ids, attention_show_flg=False)\n",
        "    \n",
        "    probas = F.softmax(output).cpu().detach().numpy()\n",
        "\n",
        "    return probas"
      ],
      "metadata": {
        "id": "3lT3iDzwUHA_"
      },
      "execution_count": 18,
      "outputs": []
    },
    {
      "cell_type": "code",
      "source": [
        "i = 15\n",
        "texts = []\n",
        "texts.append(dataset_test[i][\"text\"][0:512])\n",
        "output = predictor(texts)\n",
        "print(output)\n",
        "print(output.sum())"
      ],
      "metadata": {
        "colab": {
          "base_uri": "https://localhost:8080/"
        },
        "id": "LBqAQI6pUFwz",
        "outputId": "5894f1da-d079-43ae-e216-2e1afa65ba20"
      },
      "execution_count": 51,
      "outputs": [
        {
          "output_type": "stream",
          "name": "stdout",
          "text": [
            "[[5.6051284e-01 3.5861065e-04 2.1967221e-02 3.1112099e-02 3.5159837e-04\n",
            "  3.8099058e-02 1.1599450e-04 3.2289168e-01 2.4590973e-02]]\n",
            "1.0\n"
          ]
        },
        {
          "output_type": "stream",
          "name": "stderr",
          "text": [
            "/usr/local/lib/python3.7/dist-packages/ipykernel_launcher.py:11: UserWarning: Implicit dimension choice for softmax has been deprecated. Change the call to include dim=X as an argument.\n",
            "  # This is added back by InteractiveShellApp.init_path()\n"
          ]
        }
      ]
    },
    {
      "cell_type": "code",
      "source": [
        "print(class_names[np.argmax(output)])\n",
        "print(class_names[dataset_test[i][\"label\"]])\n",
        "print(dataset_test[i][\"text\"])\n"
      ],
      "metadata": {
        "colab": {
          "base_uri": "https://localhost:8080/"
        },
        "id": "NDbACsovXfbo",
        "outputId": "3a23c160-05b9-49dd-8aa0-8afe6092ab6e"
      },
      "execution_count": 52,
      "outputs": [
        {
          "output_type": "stream",
          "name": "stdout",
          "text": [
            "dokujo-tsushin\n",
            "dokujo-tsushin\n",
            "「しっかりメイクをしている顔よりも、スッピンのほうがいい」と言う男性は少なくない。しかしメイクを落とすと、たいていの女性はメイク時よりも目は小さくなるし、肌色はくすむし、クマ、シミ、ニキビ跡なども目立つようになる。それでも男たちはスッピンのほうがいいと言ってくれるのだろうか？\n",
            "\n",
            "「『スッピンのほうがいい』とは、スッピンでもメイク時と同じくらいかわいい女性が好みだという意味です（笑）」とは、営業職のエイジさん（32歳）。言葉の裏に隠された男たちの真意に気づかず、スッピン顔で街を歩くのはとても危険な行為である。このような間違いを犯さぬためにも、男性陣が言いがちなフレーズとその言葉の裏の意味を調べてみた。\n",
            "\n",
            "●「女の子は多少、太ってるくらいがかわいいよ」\n",
            "女性は年中、ダイエットと向き合っている。どのレベルなら太っていてもＯＫなのだろう？\n",
            "\n",
            "「どの程度の体型がＯＫなのかは、各人の主観で決められるでしょうね。ＯＫとＮＧの分岐点は、ずばり連れて歩いて恥ずかしくないレベルかどうか。男って、好みと見栄を両方大事にするものです。いずれにしろ、男がこの言葉をぽっちゃり女子（もしくは自分を太っていると思っている女子）に発言していたら、彼女に好意があるのは間違いないでしょう」（35歳）\n",
            "\n",
            "●「胸のサイズはぜんぜん気にしない」\n",
            "ちなみに女性の理想とするカップは「Ｄカップ」だそう。男性誌のグラビアではＦカップ以上が依然、主流である。\n",
            "\n",
            "「胸の大きさの好みは趣味によって違うから言葉通りに受け取っていいのでは？　ボクも手に収まるくらいがベストだと思っています（笑）。ちなみに、巨乳好きな場合でも、太っているコの巨乳は巨乳に感じないので、好まれないこともあります」（29歳）\n",
            "\n",
            "「胸のサイズはそれぞれにイイ（笑）。サイズにこだわるのは若いうちだけでしょう。巨乳と富士山は、遠くから眺めて愛でるものです」（37歳）\n",
            "\n",
            "●「仕事のできる女性って素敵だよね」\n",
            "バリバリのキャリアで30代で課長昇進！　そんな女性に対する同年代男性陣の思いとは？　実は劣等感を抱いていないのか？\n",
            "\n",
            "「社会情勢上、大企業に勤めていても高い収入を得ることが難しくなっています。男性が女性に社会的安定を求めることもあるのでは？　言葉通りに受け取っていいと思うし、キャリアを恋人の条件とする男性もなかにはいるでしょう」（33歳）\n",
            "\n",
            "「向き不向きがあるから、相手が課長であれ社長であれ博士であれ、劣等感は感じません。むしろできる女性だったら、いろいろと頼りたい」（26歳）\n",
            "\n",
            "●彼氏がいない女性に対して「彼氏がいるように見えるよ」 \n",
            "気になる男性にこのセリフを言われたら、「遠回りの告白か？」「彼氏がいるように見えるほど魅力的ってこと？」などとポジティブな妄想が広がりそう。\n",
            "\n",
            "「必ずしもプラスの意味ではありません。男性に対して女度の高い立ち振る舞いをするなど、いかにも場馴れした雰囲気を見せられたときにこのようなセリフを発するでしょう。“男慣れしている”とほぼ同じです」（35歳）\n",
            "\n",
            "「男性に対して、がっついていない印象の女性に言うかもしれません。魅力的というより、男性との接し方を評しているだけ」（29歳）\n",
            "\n",
            "●彼氏がいない女性に対して「彼氏がいないなんてもったいないなぁ」\n",
            "「彼氏がいるように見える」よりも一歩、踏み込んだ発言にはうれしい男の本音が。ここで「誰かすてきな男性を紹介してください」と言ってはいけないのかも。\n",
            "\n",
            "「オレと付き合って」（37歳）\n",
            "\n",
            "「オレでよかったら付き合って欲しい。相手のリアクションを見ています」（35歳）\n",
            "\n",
            "「好意そのもの。素直に喜んで」（33歳）\n",
            "\n",
            "●「○○ちゃんって料理好きなんだね」「意外と家庭的なんだ」\n",
            "これらが好きな男性のセリフだったら、「家庭的アピールが成功した！」とほくそ笑む女子が大半だ。嫁にもらってくれるのか？\n",
            "\n",
            "「手弁当がうまそうなど、単純に見たままを口にした場合が多い。彼女に対してなら、喜ばせたいとの思いから発した言葉でしょうね。結婚とまでは考えていません」（26歳）\n",
            "\n",
            "「裏の意味はとくになく、素直に感想を述べているのでは？　過度な期待は禁物です。でも家庭的な一面を持った女性を嫌いな男性は少ないはずなので、マイナスイメージではありません」（35歳）\n",
            "\n",
            "\n",
            "「太っていてもＯＫ」のほか、男性の「年上女性でもＯＫ」「料理が下手でもＯＫ」といった「ＯＫ」は、「かわいい子、もしくは好みの女性に限る」のただし書きがあることを忘れてはならない。一方、彼氏がいないなんてもったいない」は、相手からの好意のアピール。逆手に取って、気になる男性に「彼女がいないなんてもったいない」と言ってもよさそうだ。（来布十和）\n"
          ]
        }
      ]
    },
    {
      "cell_type": "code",
      "source": [
        "explainer = LimeTextExplainer(class_names=class_names)\n",
        "\n",
        "str_to_predict = texts[0]\n",
        "exp = explainer.explain_instance(str_to_predict, predictor, num_features=5, num_samples=100)\n",
        "exp.show_in_notebook(text=str_to_predict)"
      ],
      "metadata": {
        "colab": {
          "base_uri": "https://localhost:8080/",
          "height": 421
        },
        "id": "6xdRknKYZ1EJ",
        "outputId": "4b516d17-5d48-4bfd-b6f9-e73047e55eea"
      },
      "execution_count": 54,
      "outputs": [
        {
          "output_type": "error",
          "ename": "RuntimeError",
          "evalue": "ignored",
          "traceback": [
            "\u001b[0;31m---------------------------------------------------------------------------\u001b[0m",
            "\u001b[0;31mRuntimeError\u001b[0m                              Traceback (most recent call last)",
            "\u001b[0;32m<ipython-input-54-1d4c69837ee1>\u001b[0m in \u001b[0;36m<module>\u001b[0;34m\u001b[0m\n\u001b[1;32m      2\u001b[0m \u001b[0;34m\u001b[0m\u001b[0m\n\u001b[1;32m      3\u001b[0m \u001b[0mstr_to_predict\u001b[0m \u001b[0;34m=\u001b[0m \u001b[0mtexts\u001b[0m\u001b[0;34m[\u001b[0m\u001b[0;36m0\u001b[0m\u001b[0;34m]\u001b[0m\u001b[0;34m\u001b[0m\u001b[0;34m\u001b[0m\u001b[0m\n\u001b[0;32m----> 4\u001b[0;31m \u001b[0mexp\u001b[0m \u001b[0;34m=\u001b[0m \u001b[0mexplainer\u001b[0m\u001b[0;34m.\u001b[0m\u001b[0mexplain_instance\u001b[0m\u001b[0;34m(\u001b[0m\u001b[0mstr_to_predict\u001b[0m\u001b[0;34m,\u001b[0m \u001b[0mpredictor\u001b[0m\u001b[0;34m,\u001b[0m \u001b[0mnum_features\u001b[0m\u001b[0;34m=\u001b[0m\u001b[0;36m5\u001b[0m\u001b[0;34m,\u001b[0m \u001b[0mnum_samples\u001b[0m\u001b[0;34m=\u001b[0m\u001b[0;36m100\u001b[0m\u001b[0;34m)\u001b[0m\u001b[0;34m\u001b[0m\u001b[0;34m\u001b[0m\u001b[0m\n\u001b[0m\u001b[1;32m      5\u001b[0m \u001b[0mexp\u001b[0m\u001b[0;34m.\u001b[0m\u001b[0mshow_in_notebook\u001b[0m\u001b[0;34m(\u001b[0m\u001b[0mtext\u001b[0m\u001b[0;34m=\u001b[0m\u001b[0mstr_to_predict\u001b[0m\u001b[0;34m)\u001b[0m\u001b[0;34m\u001b[0m\u001b[0;34m\u001b[0m\u001b[0m\n",
            "\u001b[0;32m/usr/local/lib/python3.7/dist-packages/lime/lime_text.py\u001b[0m in \u001b[0;36mexplain_instance\u001b[0;34m(self, text_instance, classifier_fn, labels, top_labels, num_features, num_samples, distance_metric, model_regressor)\u001b[0m\n\u001b[1;32m    413\u001b[0m         data, yss, distances = self.__data_labels_distances(\n\u001b[1;32m    414\u001b[0m             \u001b[0mindexed_string\u001b[0m\u001b[0;34m,\u001b[0m \u001b[0mclassifier_fn\u001b[0m\u001b[0;34m,\u001b[0m \u001b[0mnum_samples\u001b[0m\u001b[0;34m,\u001b[0m\u001b[0;34m\u001b[0m\u001b[0;34m\u001b[0m\u001b[0m\n\u001b[0;32m--> 415\u001b[0;31m             distance_metric=distance_metric)\n\u001b[0m\u001b[1;32m    416\u001b[0m         \u001b[0;32mif\u001b[0m \u001b[0mself\u001b[0m\u001b[0;34m.\u001b[0m\u001b[0mclass_names\u001b[0m \u001b[0;32mis\u001b[0m \u001b[0;32mNone\u001b[0m\u001b[0;34m:\u001b[0m\u001b[0;34m\u001b[0m\u001b[0;34m\u001b[0m\u001b[0m\n\u001b[1;32m    417\u001b[0m             \u001b[0mself\u001b[0m\u001b[0;34m.\u001b[0m\u001b[0mclass_names\u001b[0m \u001b[0;34m=\u001b[0m \u001b[0;34m[\u001b[0m\u001b[0mstr\u001b[0m\u001b[0;34m(\u001b[0m\u001b[0mx\u001b[0m\u001b[0;34m)\u001b[0m \u001b[0;32mfor\u001b[0m \u001b[0mx\u001b[0m \u001b[0;32min\u001b[0m \u001b[0mrange\u001b[0m\u001b[0;34m(\u001b[0m\u001b[0myss\u001b[0m\u001b[0;34m[\u001b[0m\u001b[0;36m0\u001b[0m\u001b[0;34m]\u001b[0m\u001b[0;34m.\u001b[0m\u001b[0mshape\u001b[0m\u001b[0;34m[\u001b[0m\u001b[0;36m0\u001b[0m\u001b[0;34m]\u001b[0m\u001b[0;34m)\u001b[0m\u001b[0;34m]\u001b[0m\u001b[0;34m\u001b[0m\u001b[0;34m\u001b[0m\u001b[0m\n",
            "\u001b[0;32m/usr/local/lib/python3.7/dist-packages/lime/lime_text.py\u001b[0m in \u001b[0;36m__data_labels_distances\u001b[0;34m(self, indexed_string, classifier_fn, num_samples, distance_metric)\u001b[0m\n\u001b[1;32m    480\u001b[0m             \u001b[0mdata\u001b[0m\u001b[0;34m[\u001b[0m\u001b[0mi\u001b[0m\u001b[0;34m,\u001b[0m \u001b[0minactive\u001b[0m\u001b[0;34m]\u001b[0m \u001b[0;34m=\u001b[0m \u001b[0;36m0\u001b[0m\u001b[0;34m\u001b[0m\u001b[0;34m\u001b[0m\u001b[0m\n\u001b[1;32m    481\u001b[0m             \u001b[0minverse_data\u001b[0m\u001b[0;34m.\u001b[0m\u001b[0mappend\u001b[0m\u001b[0;34m(\u001b[0m\u001b[0mindexed_string\u001b[0m\u001b[0;34m.\u001b[0m\u001b[0minverse_removing\u001b[0m\u001b[0;34m(\u001b[0m\u001b[0minactive\u001b[0m\u001b[0;34m)\u001b[0m\u001b[0;34m)\u001b[0m\u001b[0;34m\u001b[0m\u001b[0;34m\u001b[0m\u001b[0m\n\u001b[0;32m--> 482\u001b[0;31m         \u001b[0mlabels\u001b[0m \u001b[0;34m=\u001b[0m \u001b[0mclassifier_fn\u001b[0m\u001b[0;34m(\u001b[0m\u001b[0minverse_data\u001b[0m\u001b[0;34m)\u001b[0m\u001b[0;34m\u001b[0m\u001b[0;34m\u001b[0m\u001b[0m\n\u001b[0m\u001b[1;32m    483\u001b[0m         \u001b[0mdistances\u001b[0m \u001b[0;34m=\u001b[0m \u001b[0mdistance_fn\u001b[0m\u001b[0;34m(\u001b[0m\u001b[0msp\u001b[0m\u001b[0;34m.\u001b[0m\u001b[0msparse\u001b[0m\u001b[0;34m.\u001b[0m\u001b[0mcsr_matrix\u001b[0m\u001b[0;34m(\u001b[0m\u001b[0mdata\u001b[0m\u001b[0;34m)\u001b[0m\u001b[0;34m)\u001b[0m\u001b[0;34m\u001b[0m\u001b[0;34m\u001b[0m\u001b[0m\n\u001b[1;32m    484\u001b[0m         \u001b[0;32mreturn\u001b[0m \u001b[0mdata\u001b[0m\u001b[0;34m,\u001b[0m \u001b[0mlabels\u001b[0m\u001b[0;34m,\u001b[0m \u001b[0mdistances\u001b[0m\u001b[0;34m\u001b[0m\u001b[0;34m\u001b[0m\u001b[0m\n",
            "\u001b[0;32m<ipython-input-18-090553790e4b>\u001b[0m in \u001b[0;36mpredictor\u001b[0;34m(texts)\u001b[0m\n\u001b[1;32m      7\u001b[0m \u001b[0;34m\u001b[0m\u001b[0m\n\u001b[1;32m      8\u001b[0m     \u001b[0;32mwith\u001b[0m \u001b[0mtorch\u001b[0m\u001b[0;34m.\u001b[0m\u001b[0mno_grad\u001b[0m\u001b[0;34m(\u001b[0m\u001b[0;34m)\u001b[0m\u001b[0;34m:\u001b[0m\u001b[0;34m\u001b[0m\u001b[0;34m\u001b[0m\u001b[0m\n\u001b[0;32m----> 9\u001b[0;31m         \u001b[0moutput\u001b[0m \u001b[0;34m=\u001b[0m \u001b[0mmodel\u001b[0m\u001b[0;34m(\u001b[0m\u001b[0minput_ids\u001b[0m\u001b[0;34m,\u001b[0m \u001b[0mattention_show_flg\u001b[0m\u001b[0;34m=\u001b[0m\u001b[0;32mFalse\u001b[0m\u001b[0;34m)\u001b[0m\u001b[0;34m\u001b[0m\u001b[0;34m\u001b[0m\u001b[0m\n\u001b[0m\u001b[1;32m     10\u001b[0m \u001b[0;34m\u001b[0m\u001b[0m\n\u001b[1;32m     11\u001b[0m     \u001b[0mprobas\u001b[0m \u001b[0;34m=\u001b[0m \u001b[0mF\u001b[0m\u001b[0;34m.\u001b[0m\u001b[0msoftmax\u001b[0m\u001b[0;34m(\u001b[0m\u001b[0moutput\u001b[0m\u001b[0;34m)\u001b[0m\u001b[0;34m.\u001b[0m\u001b[0mcpu\u001b[0m\u001b[0;34m(\u001b[0m\u001b[0;34m)\u001b[0m\u001b[0;34m.\u001b[0m\u001b[0mdetach\u001b[0m\u001b[0;34m(\u001b[0m\u001b[0;34m)\u001b[0m\u001b[0;34m.\u001b[0m\u001b[0mnumpy\u001b[0m\u001b[0;34m(\u001b[0m\u001b[0;34m)\u001b[0m\u001b[0;34m\u001b[0m\u001b[0;34m\u001b[0m\u001b[0m\n",
            "\u001b[0;32m/usr/local/lib/python3.7/dist-packages/torch/nn/modules/module.py\u001b[0m in \u001b[0;36m_call_impl\u001b[0;34m(self, *input, **kwargs)\u001b[0m\n\u001b[1;32m   1128\u001b[0m         if not (self._backward_hooks or self._forward_hooks or self._forward_pre_hooks or _global_backward_hooks\n\u001b[1;32m   1129\u001b[0m                 or _global_forward_hooks or _global_forward_pre_hooks):\n\u001b[0;32m-> 1130\u001b[0;31m             \u001b[0;32mreturn\u001b[0m \u001b[0mforward_call\u001b[0m\u001b[0;34m(\u001b[0m\u001b[0;34m*\u001b[0m\u001b[0minput\u001b[0m\u001b[0;34m,\u001b[0m \u001b[0;34m**\u001b[0m\u001b[0mkwargs\u001b[0m\u001b[0;34m)\u001b[0m\u001b[0;34m\u001b[0m\u001b[0;34m\u001b[0m\u001b[0m\n\u001b[0m\u001b[1;32m   1131\u001b[0m         \u001b[0;31m# Do not call functions when jit is used\u001b[0m\u001b[0;34m\u001b[0m\u001b[0;34m\u001b[0m\u001b[0;34m\u001b[0m\u001b[0m\n\u001b[1;32m   1132\u001b[0m         \u001b[0mfull_backward_hooks\u001b[0m\u001b[0;34m,\u001b[0m \u001b[0mnon_full_backward_hooks\u001b[0m \u001b[0;34m=\u001b[0m \u001b[0;34m[\u001b[0m\u001b[0;34m]\u001b[0m\u001b[0;34m,\u001b[0m \u001b[0;34m[\u001b[0m\u001b[0;34m]\u001b[0m\u001b[0;34m\u001b[0m\u001b[0;34m\u001b[0m\u001b[0m\n",
            "\u001b[0;32m<ipython-input-13-d68d82bf0ca9>\u001b[0m in \u001b[0;36mforward\u001b[0;34m(self, input_ids, attention_show_flg)\u001b[0m\n\u001b[1;32m     30\u001b[0m         \u001b[0;31m# BERTの基本モデル部分の順伝搬\u001b[0m\u001b[0;34m\u001b[0m\u001b[0;34m\u001b[0m\u001b[0;34m\u001b[0m\u001b[0m\n\u001b[1;32m     31\u001b[0m         \u001b[0;31m# 順伝搬させる\u001b[0m\u001b[0;34m\u001b[0m\u001b[0;34m\u001b[0m\u001b[0;34m\u001b[0m\u001b[0m\n\u001b[0;32m---> 32\u001b[0;31m         \u001b[0mresult\u001b[0m \u001b[0;34m=\u001b[0m \u001b[0mself\u001b[0m\u001b[0;34m.\u001b[0m\u001b[0mbert\u001b[0m\u001b[0;34m(\u001b[0m\u001b[0minput_ids\u001b[0m\u001b[0;34m)\u001b[0m  \u001b[0;31m# reult は、sequence_output, pooled_output\u001b[0m\u001b[0;34m\u001b[0m\u001b[0;34m\u001b[0m\u001b[0m\n\u001b[0m\u001b[1;32m     33\u001b[0m \u001b[0;34m\u001b[0m\u001b[0m\n\u001b[1;32m     34\u001b[0m         \u001b[0;31m# sequence_outputの先頭の単語ベクトルを抜き出す\u001b[0m\u001b[0;34m\u001b[0m\u001b[0;34m\u001b[0m\u001b[0;34m\u001b[0m\u001b[0m\n",
            "\u001b[0;32m/usr/local/lib/python3.7/dist-packages/torch/nn/modules/module.py\u001b[0m in \u001b[0;36m_call_impl\u001b[0;34m(self, *input, **kwargs)\u001b[0m\n\u001b[1;32m   1128\u001b[0m         if not (self._backward_hooks or self._forward_hooks or self._forward_pre_hooks or _global_backward_hooks\n\u001b[1;32m   1129\u001b[0m                 or _global_forward_hooks or _global_forward_pre_hooks):\n\u001b[0;32m-> 1130\u001b[0;31m             \u001b[0;32mreturn\u001b[0m \u001b[0mforward_call\u001b[0m\u001b[0;34m(\u001b[0m\u001b[0;34m*\u001b[0m\u001b[0minput\u001b[0m\u001b[0;34m,\u001b[0m \u001b[0;34m**\u001b[0m\u001b[0mkwargs\u001b[0m\u001b[0;34m)\u001b[0m\u001b[0;34m\u001b[0m\u001b[0;34m\u001b[0m\u001b[0m\n\u001b[0m\u001b[1;32m   1131\u001b[0m         \u001b[0;31m# Do not call functions when jit is used\u001b[0m\u001b[0;34m\u001b[0m\u001b[0;34m\u001b[0m\u001b[0;34m\u001b[0m\u001b[0m\n\u001b[1;32m   1132\u001b[0m         \u001b[0mfull_backward_hooks\u001b[0m\u001b[0;34m,\u001b[0m \u001b[0mnon_full_backward_hooks\u001b[0m \u001b[0;34m=\u001b[0m \u001b[0;34m[\u001b[0m\u001b[0;34m]\u001b[0m\u001b[0;34m,\u001b[0m \u001b[0;34m[\u001b[0m\u001b[0;34m]\u001b[0m\u001b[0;34m\u001b[0m\u001b[0;34m\u001b[0m\u001b[0m\n",
            "\u001b[0;32m/usr/local/lib/python3.7/dist-packages/transformers/models/bert/modeling_bert.py\u001b[0m in \u001b[0;36mforward\u001b[0;34m(self, input_ids, attention_mask, token_type_ids, position_ids, head_mask, inputs_embeds, encoder_hidden_states, encoder_attention_mask, past_key_values, use_cache, output_attentions, output_hidden_states, return_dict)\u001b[0m\n\u001b[1;32m    979\u001b[0m             \u001b[0moutput_attentions\u001b[0m\u001b[0;34m=\u001b[0m\u001b[0moutput_attentions\u001b[0m\u001b[0;34m,\u001b[0m\u001b[0;34m\u001b[0m\u001b[0;34m\u001b[0m\u001b[0m\n\u001b[1;32m    980\u001b[0m             \u001b[0moutput_hidden_states\u001b[0m\u001b[0;34m=\u001b[0m\u001b[0moutput_hidden_states\u001b[0m\u001b[0;34m,\u001b[0m\u001b[0;34m\u001b[0m\u001b[0;34m\u001b[0m\u001b[0m\n\u001b[0;32m--> 981\u001b[0;31m             \u001b[0mreturn_dict\u001b[0m\u001b[0;34m=\u001b[0m\u001b[0mreturn_dict\u001b[0m\u001b[0;34m,\u001b[0m\u001b[0;34m\u001b[0m\u001b[0;34m\u001b[0m\u001b[0m\n\u001b[0m\u001b[1;32m    982\u001b[0m         )\n\u001b[1;32m    983\u001b[0m         \u001b[0msequence_output\u001b[0m \u001b[0;34m=\u001b[0m \u001b[0mencoder_outputs\u001b[0m\u001b[0;34m[\u001b[0m\u001b[0;36m0\u001b[0m\u001b[0;34m]\u001b[0m\u001b[0;34m\u001b[0m\u001b[0;34m\u001b[0m\u001b[0m\n",
            "\u001b[0;32m/usr/local/lib/python3.7/dist-packages/torch/nn/modules/module.py\u001b[0m in \u001b[0;36m_call_impl\u001b[0;34m(self, *input, **kwargs)\u001b[0m\n\u001b[1;32m   1128\u001b[0m         if not (self._backward_hooks or self._forward_hooks or self._forward_pre_hooks or _global_backward_hooks\n\u001b[1;32m   1129\u001b[0m                 or _global_forward_hooks or _global_forward_pre_hooks):\n\u001b[0;32m-> 1130\u001b[0;31m             \u001b[0;32mreturn\u001b[0m \u001b[0mforward_call\u001b[0m\u001b[0;34m(\u001b[0m\u001b[0;34m*\u001b[0m\u001b[0minput\u001b[0m\u001b[0;34m,\u001b[0m \u001b[0;34m**\u001b[0m\u001b[0mkwargs\u001b[0m\u001b[0;34m)\u001b[0m\u001b[0;34m\u001b[0m\u001b[0;34m\u001b[0m\u001b[0m\n\u001b[0m\u001b[1;32m   1131\u001b[0m         \u001b[0;31m# Do not call functions when jit is used\u001b[0m\u001b[0;34m\u001b[0m\u001b[0;34m\u001b[0m\u001b[0;34m\u001b[0m\u001b[0m\n\u001b[1;32m   1132\u001b[0m         \u001b[0mfull_backward_hooks\u001b[0m\u001b[0;34m,\u001b[0m \u001b[0mnon_full_backward_hooks\u001b[0m \u001b[0;34m=\u001b[0m \u001b[0;34m[\u001b[0m\u001b[0;34m]\u001b[0m\u001b[0;34m,\u001b[0m \u001b[0;34m[\u001b[0m\u001b[0;34m]\u001b[0m\u001b[0;34m\u001b[0m\u001b[0;34m\u001b[0m\u001b[0m\n",
            "\u001b[0;32m/usr/local/lib/python3.7/dist-packages/transformers/models/bert/modeling_bert.py\u001b[0m in \u001b[0;36mforward\u001b[0;34m(self, hidden_states, attention_mask, head_mask, encoder_hidden_states, encoder_attention_mask, past_key_values, use_cache, output_attentions, output_hidden_states, return_dict)\u001b[0m\n\u001b[1;32m    573\u001b[0m                     \u001b[0mencoder_attention_mask\u001b[0m\u001b[0;34m,\u001b[0m\u001b[0;34m\u001b[0m\u001b[0;34m\u001b[0m\u001b[0m\n\u001b[1;32m    574\u001b[0m                     \u001b[0mpast_key_value\u001b[0m\u001b[0;34m,\u001b[0m\u001b[0;34m\u001b[0m\u001b[0;34m\u001b[0m\u001b[0m\n\u001b[0;32m--> 575\u001b[0;31m                     \u001b[0moutput_attentions\u001b[0m\u001b[0;34m,\u001b[0m\u001b[0;34m\u001b[0m\u001b[0;34m\u001b[0m\u001b[0m\n\u001b[0m\u001b[1;32m    576\u001b[0m                 )\n\u001b[1;32m    577\u001b[0m \u001b[0;34m\u001b[0m\u001b[0m\n",
            "\u001b[0;32m/usr/local/lib/python3.7/dist-packages/torch/nn/modules/module.py\u001b[0m in \u001b[0;36m_call_impl\u001b[0;34m(self, *input, **kwargs)\u001b[0m\n\u001b[1;32m   1128\u001b[0m         if not (self._backward_hooks or self._forward_hooks or self._forward_pre_hooks or _global_backward_hooks\n\u001b[1;32m   1129\u001b[0m                 or _global_forward_hooks or _global_forward_pre_hooks):\n\u001b[0;32m-> 1130\u001b[0;31m             \u001b[0;32mreturn\u001b[0m \u001b[0mforward_call\u001b[0m\u001b[0;34m(\u001b[0m\u001b[0;34m*\u001b[0m\u001b[0minput\u001b[0m\u001b[0;34m,\u001b[0m \u001b[0;34m**\u001b[0m\u001b[0mkwargs\u001b[0m\u001b[0;34m)\u001b[0m\u001b[0;34m\u001b[0m\u001b[0;34m\u001b[0m\u001b[0m\n\u001b[0m\u001b[1;32m   1131\u001b[0m         \u001b[0;31m# Do not call functions when jit is used\u001b[0m\u001b[0;34m\u001b[0m\u001b[0;34m\u001b[0m\u001b[0;34m\u001b[0m\u001b[0m\n\u001b[1;32m   1132\u001b[0m         \u001b[0mfull_backward_hooks\u001b[0m\u001b[0;34m,\u001b[0m \u001b[0mnon_full_backward_hooks\u001b[0m \u001b[0;34m=\u001b[0m \u001b[0;34m[\u001b[0m\u001b[0;34m]\u001b[0m\u001b[0;34m,\u001b[0m \u001b[0;34m[\u001b[0m\u001b[0;34m]\u001b[0m\u001b[0;34m\u001b[0m\u001b[0;34m\u001b[0m\u001b[0m\n",
            "\u001b[0;32m/usr/local/lib/python3.7/dist-packages/transformers/models/bert/modeling_bert.py\u001b[0m in \u001b[0;36mforward\u001b[0;34m(self, hidden_states, attention_mask, head_mask, encoder_hidden_states, encoder_attention_mask, past_key_value, output_attentions)\u001b[0m\n\u001b[1;32m    459\u001b[0m             \u001b[0mhead_mask\u001b[0m\u001b[0;34m,\u001b[0m\u001b[0;34m\u001b[0m\u001b[0;34m\u001b[0m\u001b[0m\n\u001b[1;32m    460\u001b[0m             \u001b[0moutput_attentions\u001b[0m\u001b[0;34m=\u001b[0m\u001b[0moutput_attentions\u001b[0m\u001b[0;34m,\u001b[0m\u001b[0;34m\u001b[0m\u001b[0;34m\u001b[0m\u001b[0m\n\u001b[0;32m--> 461\u001b[0;31m             \u001b[0mpast_key_value\u001b[0m\u001b[0;34m=\u001b[0m\u001b[0mself_attn_past_key_value\u001b[0m\u001b[0;34m,\u001b[0m\u001b[0;34m\u001b[0m\u001b[0;34m\u001b[0m\u001b[0m\n\u001b[0m\u001b[1;32m    462\u001b[0m         )\n\u001b[1;32m    463\u001b[0m         \u001b[0mattention_output\u001b[0m \u001b[0;34m=\u001b[0m \u001b[0mself_attention_outputs\u001b[0m\u001b[0;34m[\u001b[0m\u001b[0;36m0\u001b[0m\u001b[0;34m]\u001b[0m\u001b[0;34m\u001b[0m\u001b[0;34m\u001b[0m\u001b[0m\n",
            "\u001b[0;32m/usr/local/lib/python3.7/dist-packages/torch/nn/modules/module.py\u001b[0m in \u001b[0;36m_call_impl\u001b[0;34m(self, *input, **kwargs)\u001b[0m\n\u001b[1;32m   1128\u001b[0m         if not (self._backward_hooks or self._forward_hooks or self._forward_pre_hooks or _global_backward_hooks\n\u001b[1;32m   1129\u001b[0m                 or _global_forward_hooks or _global_forward_pre_hooks):\n\u001b[0;32m-> 1130\u001b[0;31m             \u001b[0;32mreturn\u001b[0m \u001b[0mforward_call\u001b[0m\u001b[0;34m(\u001b[0m\u001b[0;34m*\u001b[0m\u001b[0minput\u001b[0m\u001b[0;34m,\u001b[0m \u001b[0;34m**\u001b[0m\u001b[0mkwargs\u001b[0m\u001b[0;34m)\u001b[0m\u001b[0;34m\u001b[0m\u001b[0;34m\u001b[0m\u001b[0m\n\u001b[0m\u001b[1;32m   1131\u001b[0m         \u001b[0;31m# Do not call functions when jit is used\u001b[0m\u001b[0;34m\u001b[0m\u001b[0;34m\u001b[0m\u001b[0;34m\u001b[0m\u001b[0m\n\u001b[1;32m   1132\u001b[0m         \u001b[0mfull_backward_hooks\u001b[0m\u001b[0;34m,\u001b[0m \u001b[0mnon_full_backward_hooks\u001b[0m \u001b[0;34m=\u001b[0m \u001b[0;34m[\u001b[0m\u001b[0;34m]\u001b[0m\u001b[0;34m,\u001b[0m \u001b[0;34m[\u001b[0m\u001b[0;34m]\u001b[0m\u001b[0;34m\u001b[0m\u001b[0;34m\u001b[0m\u001b[0m\n",
            "\u001b[0;32m/usr/local/lib/python3.7/dist-packages/transformers/models/bert/modeling_bert.py\u001b[0m in \u001b[0;36mforward\u001b[0;34m(self, hidden_states, attention_mask, head_mask, encoder_hidden_states, encoder_attention_mask, past_key_value, output_attentions)\u001b[0m\n\u001b[1;32m    392\u001b[0m             \u001b[0mencoder_attention_mask\u001b[0m\u001b[0;34m,\u001b[0m\u001b[0;34m\u001b[0m\u001b[0;34m\u001b[0m\u001b[0m\n\u001b[1;32m    393\u001b[0m             \u001b[0mpast_key_value\u001b[0m\u001b[0;34m,\u001b[0m\u001b[0;34m\u001b[0m\u001b[0;34m\u001b[0m\u001b[0m\n\u001b[0;32m--> 394\u001b[0;31m             \u001b[0moutput_attentions\u001b[0m\u001b[0;34m,\u001b[0m\u001b[0;34m\u001b[0m\u001b[0;34m\u001b[0m\u001b[0m\n\u001b[0m\u001b[1;32m    395\u001b[0m         )\n\u001b[1;32m    396\u001b[0m         \u001b[0mattention_output\u001b[0m \u001b[0;34m=\u001b[0m \u001b[0mself\u001b[0m\u001b[0;34m.\u001b[0m\u001b[0moutput\u001b[0m\u001b[0;34m(\u001b[0m\u001b[0mself_outputs\u001b[0m\u001b[0;34m[\u001b[0m\u001b[0;36m0\u001b[0m\u001b[0;34m]\u001b[0m\u001b[0;34m,\u001b[0m \u001b[0mhidden_states\u001b[0m\u001b[0;34m)\u001b[0m\u001b[0;34m\u001b[0m\u001b[0;34m\u001b[0m\u001b[0m\n",
            "\u001b[0;32m/usr/local/lib/python3.7/dist-packages/torch/nn/modules/module.py\u001b[0m in \u001b[0;36m_call_impl\u001b[0;34m(self, *input, **kwargs)\u001b[0m\n\u001b[1;32m   1128\u001b[0m         if not (self._backward_hooks or self._forward_hooks or self._forward_pre_hooks or _global_backward_hooks\n\u001b[1;32m   1129\u001b[0m                 or _global_forward_hooks or _global_forward_pre_hooks):\n\u001b[0;32m-> 1130\u001b[0;31m             \u001b[0;32mreturn\u001b[0m \u001b[0mforward_call\u001b[0m\u001b[0;34m(\u001b[0m\u001b[0;34m*\u001b[0m\u001b[0minput\u001b[0m\u001b[0;34m,\u001b[0m \u001b[0;34m**\u001b[0m\u001b[0mkwargs\u001b[0m\u001b[0;34m)\u001b[0m\u001b[0;34m\u001b[0m\u001b[0;34m\u001b[0m\u001b[0m\n\u001b[0m\u001b[1;32m   1131\u001b[0m         \u001b[0;31m# Do not call functions when jit is used\u001b[0m\u001b[0;34m\u001b[0m\u001b[0;34m\u001b[0m\u001b[0;34m\u001b[0m\u001b[0m\n\u001b[1;32m   1132\u001b[0m         \u001b[0mfull_backward_hooks\u001b[0m\u001b[0;34m,\u001b[0m \u001b[0mnon_full_backward_hooks\u001b[0m \u001b[0;34m=\u001b[0m \u001b[0;34m[\u001b[0m\u001b[0;34m]\u001b[0m\u001b[0;34m,\u001b[0m \u001b[0;34m[\u001b[0m\u001b[0;34m]\u001b[0m\u001b[0;34m\u001b[0m\u001b[0;34m\u001b[0m\u001b[0m\n",
            "\u001b[0;32m/usr/local/lib/python3.7/dist-packages/transformers/models/bert/modeling_bert.py\u001b[0m in \u001b[0;36mforward\u001b[0;34m(self, hidden_states, attention_mask, head_mask, encoder_hidden_states, encoder_attention_mask, past_key_value, output_attentions)\u001b[0m\n\u001b[1;32m    289\u001b[0m \u001b[0;34m\u001b[0m\u001b[0m\n\u001b[1;32m    290\u001b[0m         \u001b[0;31m# Take the dot product between \"query\" and \"key\" to get the raw attention scores.\u001b[0m\u001b[0;34m\u001b[0m\u001b[0;34m\u001b[0m\u001b[0;34m\u001b[0m\u001b[0m\n\u001b[0;32m--> 291\u001b[0;31m         \u001b[0mattention_scores\u001b[0m \u001b[0;34m=\u001b[0m \u001b[0mtorch\u001b[0m\u001b[0;34m.\u001b[0m\u001b[0mmatmul\u001b[0m\u001b[0;34m(\u001b[0m\u001b[0mquery_layer\u001b[0m\u001b[0;34m,\u001b[0m \u001b[0mkey_layer\u001b[0m\u001b[0;34m.\u001b[0m\u001b[0mtranspose\u001b[0m\u001b[0;34m(\u001b[0m\u001b[0;34m-\u001b[0m\u001b[0;36m1\u001b[0m\u001b[0;34m,\u001b[0m \u001b[0;34m-\u001b[0m\u001b[0;36m2\u001b[0m\u001b[0;34m)\u001b[0m\u001b[0;34m)\u001b[0m\u001b[0;34m\u001b[0m\u001b[0;34m\u001b[0m\u001b[0m\n\u001b[0m\u001b[1;32m    292\u001b[0m \u001b[0;34m\u001b[0m\u001b[0m\n\u001b[1;32m    293\u001b[0m         \u001b[0;32mif\u001b[0m \u001b[0mself\u001b[0m\u001b[0;34m.\u001b[0m\u001b[0mposition_embedding_type\u001b[0m \u001b[0;34m==\u001b[0m \u001b[0;34m\"relative_key\"\u001b[0m \u001b[0;32mor\u001b[0m \u001b[0mself\u001b[0m\u001b[0;34m.\u001b[0m\u001b[0mposition_embedding_type\u001b[0m \u001b[0;34m==\u001b[0m \u001b[0;34m\"relative_key_query\"\u001b[0m\u001b[0;34m:\u001b[0m\u001b[0;34m\u001b[0m\u001b[0;34m\u001b[0m\u001b[0m\n",
            "\u001b[0;31mRuntimeError\u001b[0m: CUDA out of memory. Tried to allocate 1.17 GiB (GPU 0; 15.90 GiB total capacity; 13.16 GiB already allocated; 981.75 MiB free; 14.23 GiB reserved in total by PyTorch) If reserved memory is >> allocated memory try setting max_split_size_mb to avoid fragmentation.  See documentation for Memory Management and PYTORCH_CUDA_ALLOC_CONF"
          ]
        }
      ]
    },
    {
      "cell_type": "code",
      "source": [],
      "metadata": {
        "id": "9rJVGVuUZ2qZ"
      },
      "execution_count": null,
      "outputs": []
    },
    {
      "cell_type": "code",
      "source": [],
      "metadata": {
        "id": "iRlIqVr0Z2nQ"
      },
      "execution_count": null,
      "outputs": []
    },
    {
      "cell_type": "code",
      "source": [],
      "metadata": {
        "id": "MbDMbR-xZ2jz"
      },
      "execution_count": null,
      "outputs": []
    },
    {
      "cell_type": "code",
      "source": [],
      "metadata": {
        "id": "f6UltQuhZ2ab"
      },
      "execution_count": null,
      "outputs": []
    },
    {
      "cell_type": "markdown",
      "source": [
        "# Attentionの可視化"
      ],
      "metadata": {
        "id": "lBy_yin5mqnW"
      }
    },
    {
      "cell_type": "code",
      "source": [
        "# BertForIMDbで処理\n",
        "\n",
        "# ミニバッチの用意\n",
        "batch = next(iter(dataloader_test))\n",
        "\n",
        "# GPUが使えるならGPUにデータを送る\n",
        "device = torch.device(\"cuda:0\" if torch.cuda.is_available() else \"cpu\")\n",
        "inputs = batch[\"ids\"][0].to(device)  # 文章\n",
        "labels = batch[\"label\"].to(device)  # ラベル\n",
        "\n",
        "outputs, attention_probs = net_trained(inputs, attention_show_flg=True)\n",
        "\n",
        "_, preds = torch.max(outputs, 1)  # ラベルを予測\n"
      ],
      "metadata": {
        "id": "EHr6gDHTmu7z"
      },
      "execution_count": null,
      "outputs": []
    },
    {
      "cell_type": "code",
      "source": [
        "attention_probs.size()"
      ],
      "metadata": {
        "colab": {
          "base_uri": "https://localhost:8080/"
        },
        "id": "9s5sOzrEmuyT",
        "outputId": "5629fa2a-9886-48c4-84c9-5b1af6db2b5a"
      },
      "execution_count": null,
      "outputs": [
        {
          "output_type": "execute_result",
          "data": {
            "text/plain": [
              "torch.Size([16, 12, 512, 512])"
            ]
          },
          "metadata": {},
          "execution_count": 75
        }
      ]
    },
    {
      "cell_type": "code",
      "source": [
        "id2label = {\n",
        "    0: 'dokujo-tsushin', \n",
        "    1: 'it-life-hack', \n",
        "    2: 'smax', \n",
        "    3: 'sports-watch', \n",
        "    4: 'kaden-channel', \n",
        "    5: 'movie-enter', \n",
        "    6: 'topic-news', \n",
        "    7: 'livedoor-homme', \n",
        "    8: 'peachy'\n",
        "}"
      ],
      "metadata": {
        "id": "k_iFpBe_nJNJ"
      },
      "execution_count": null,
      "outputs": []
    },
    {
      "cell_type": "code",
      "source": [
        "# HTMLを作成する関数を実装\n",
        "\n",
        "\n",
        "def highlight(word, attn):\n",
        "    '''\n",
        "    Attentionの値が大きいと文字の背景が濃い赤になるhtmlを出力させる関数\n",
        "    '''\n",
        "\n",
        "    html_color = '#%02X%02X%02X' % (\n",
        "        255, int(255*(1 - attn)), int(255*(1 - attn)))\n",
        "    return '<span style=\"background-color: {}\"> {}</span>'.format(html_color, word)\n",
        "\n",
        "\n",
        "def mk_html(index, batch, preds, normlized_weights):\n",
        "    '''\n",
        "    HTMLデータを作成する\n",
        "    '''\n",
        "\n",
        "    # indexの結果を抽出\n",
        "    sentence = batch[\"ids\"][0][index]  # 文章\n",
        "    label = batch[\"label\"][index]  # ラベル\n",
        "    pred = preds[index]  # 予測\n",
        "\n",
        "    # ラベルと予測結果を文字に置き換え\n",
        "    label_str = id2label[label.item()]\n",
        "    pred_str = id2label[pred.item()]\n",
        "\n",
        "    # 表示用のHTMLを作成する\n",
        "    html = f\"正解ラベル：{label_str}<br>推論ラベル：{pred_str}<br><br>\"\n",
        "\n",
        "    # Self-Attentionの重みを可視化。Multi-Headが12個なので、12種類のアテンションが存在\n",
        "    for i in range(12):\n",
        "\n",
        "        # indexのAttentionを抽出と規格化\n",
        "        # 0単語目[CLS]の、i番目のMulti-Head Attentionを取り出す\n",
        "        # indexはミニバッチの何個目のデータかをしめす\n",
        "        attens = normlized_weights[index, i, 0, :]\n",
        "        attens /= attens.max()\n",
        "\n",
        "        html += '[BERTのAttentionを可視化_' + str(i+1) + ']<br>'\n",
        "        for word, attn in zip(sentence, attens):\n",
        "\n",
        "            # 単語が[SEP]の場合は文章が終わりなのでbreak\n",
        "            if tokenizer.convert_ids_to_tokens([word.numpy().tolist()])[0] == \"[SEP]\":\n",
        "                break\n",
        "\n",
        "            # 関数highlightで色をつける、関数tokenizer_bert.convert_ids_to_tokensでIDを単語に戻す\n",
        "            html += highlight(tokenizer.convert_ids_to_tokens(\n",
        "                [word.numpy().tolist()])[0], attn)\n",
        "        html += \"<br><br>\"\n",
        "\n",
        "    # 12種類のAttentionの平均を求める。最大値で規格化\n",
        "    all_attens = attens*0  # all_attensという変数を作成する\n",
        "    for i in range(12):\n",
        "        attens += normlized_weights[index, i, 0, :]\n",
        "    attens /= attens.max()\n",
        "\n",
        "    html += '[BERTのAttentionを可視化_ALL]<br>'\n",
        "    for word, attn in zip(sentence, attens):\n",
        "\n",
        "        # 単語が[SEP]の場合は文章が終わりなのでbreak\n",
        "        if tokenizer.convert_ids_to_tokens([word.numpy().tolist()])[0] == \"[SEP]\":\n",
        "            break\n",
        "\n",
        "        # 関数highlightで色をつける、関数tokenizer_bert.convert_ids_to_tokensでIDを単語に戻す\n",
        "        html += highlight(tokenizer.convert_ids_to_tokens(\n",
        "            [word.numpy().tolist()])[0], attn)\n",
        "    html += \"<br><br>\"\n",
        "\n",
        "    return html\n"
      ],
      "metadata": {
        "id": "UVdJ0Sg4mx6J"
      },
      "execution_count": null,
      "outputs": []
    },
    {
      "cell_type": "code",
      "source": [
        "from IPython.display import HTML\n",
        "\n",
        "index = 2  # 出力させたいデータ\n",
        "html_output = mk_html(index, batch, preds, attention_probs)  # HTML作成\n",
        "HTML(html_output)  # HTML形式で出力\n"
      ],
      "metadata": {
        "colab": {
          "base_uri": "https://localhost:8080/",
          "height": 1000
        },
        "id": "kgYZYjfkmyqS",
        "outputId": "61f3ca77-ada1-474f-952b-7494f2db8c2e"
      },
      "execution_count": null,
      "outputs": [
        {
          "output_type": "execute_result",
          "data": {
            "text/plain": [
              "<IPython.core.display.HTML object>"
            ],
            "text/html": [
              "正解ラベル：livedoor-homme<br>推論ラベル：livedoor-homme<br><br>[BERTのAttentionを可視化_1]<br><span style=\"background-color: #FFFEFE\"> [CLS]</span><span style=\"background-color: #FFFEFE\"> ヒ</span><span style=\"background-color: #FFFEFE\"> ##ョー</span><span style=\"background-color: #FFFEFE\"> ##ドル</span><span style=\"background-color: #FFFEFE\"> 戦</span><span style=\"background-color: #FFFEFE\"> で</span><span style=\"background-color: #FFFEFE\"> KO</span><span style=\"background-color: #FFFEFE\"> さ</span><span style=\"background-color: #FFFEFE\"> れ</span><span style=\"background-color: #FFFEFE\"> 病院</span><span style=\"background-color: #FFFEFE\"> に</span><span style=\"background-color: #FFFEFE\"> 直行</span><span style=\"background-color: #FFFEFE\"> し</span><span style=\"background-color: #FFFEFE\"> た</span><span style=\"background-color: #FFFEFE\"> 石井</span><span style=\"background-color: #FFFEFE\"> 慧</span><span style=\"background-color: #FFFEFE\"> について</span><span style=\"background-color: #FFFEFE\"> 、</span><span style=\"background-color: #FFFDFD\"> 30</span><span style=\"background-color: #FFFEFE\"> 日</span><span style=\"background-color: #FFFEFE\"> に</span><span style=\"background-color: #FFFEFE\"> 脳</span><span style=\"background-color: #FFFEFE\"> 障害</span><span style=\"background-color: #FFFEFE\"> により</span><span style=\"background-color: #FFFEFE\"> 引退</span><span style=\"background-color: #FFFEFE\"> 危機</span><span style=\"background-color: #FFFDFD\"> という</span><span style=\"background-color: #FFEEEE\"> 報道</span><span style=\"background-color: #FFFDFD\"> が</span><span style=\"background-color: #FFFEFE\"> 行なわ</span><span style=\"background-color: #FFFDFD\"> れ</span><span style=\"background-color: #FFFBFB\"> た</span><span style=\"background-color: #FFFEFE\"> 。</span><span style=\"background-color: #FF0000\"> 記事</span><span style=\"background-color: #FFFCFC\"> に</span><span style=\"background-color: #FFFDFD\"> は</span><span style=\"background-color: #FFFEFE\"> 「</span><span style=\"background-color: #FFFBFB\"> 一説</span><span style=\"background-color: #FFF7F7\"> に</span><span style=\"background-color: #FFFDFD\"> は</span><span style=\"background-color: #FFFEFE\"> 『</span><span style=\"background-color: #FFFEFE\"> 脳</span><span style=\"background-color: #FFFEFE\"> 浮</span><span style=\"background-color: #FFFEFE\"> ##腫</span><span style=\"background-color: #FFFDFD\"> 』</span><span style=\"background-color: #FFFEFE\"> と</span><span style=\"background-color: #FFFEFE\"> も</span><span style=\"background-color: #FFFCFC\"> 言わ</span><span style=\"background-color: #FFFCFC\"> れ</span><span style=\"background-color: #FFFEFE\"> て</span><span style=\"background-color: #FFFAFA\"> い</span><span style=\"background-color: #FFFDFD\"> ます</span><span style=\"background-color: #FFFDFD\"> 」</span><span style=\"background-color: #FFFEFE\"> (</span><span style=\"background-color: #FFFEFE\"> 格闘技</span><span style=\"background-color: #FFFCFC\"> 事情</span><span style=\"background-color: #FFFBFB\"> 通</span><span style=\"background-color: #FFFCFC\"> )</span><span style=\"background-color: #FFFCFC\"> と</span><span style=\"background-color: #FFF6F6\"> あり</span><span style=\"background-color: #FFFDFD\"> 、</span><span style=\"background-color: #FFFEFE\"> 石井</span><span style=\"background-color: #FFFEFE\"> の</span><span style=\"background-color: #FFFEFE\"> 容</span><span style=\"background-color: #FFFBFB\"> ##態</span><span style=\"background-color: #FFFDFD\"> は</span><span style=\"background-color: #FFFDFD\"> 深刻</span><span style=\"background-color: #FFFDFD\"> な</span><span style=\"background-color: #FFFDFD\"> もの</span><span style=\"background-color: #FFF1F1\"> と</span><span style=\"background-color: #FFE0E0\"> 思わ</span><span style=\"background-color: #FFC8C8\"> れ</span><span style=\"background-color: #FFE7E7\"> た</span><span style=\"background-color: #FFFEFE\"> 。</span><span style=\"background-color: #FFF9F9\"> しかし</span><span style=\"background-color: #FFFDFD\"> 、</span><span style=\"background-color: #FFFDFD\"> この</span><span style=\"background-color: #FFFAFA\"> 件</span><span style=\"background-color: #FFFDFD\"> について</span><span style=\"background-color: #FFFEFE\"> 元</span><span style=\"background-color: #FFFEFE\"> DEEP</span><span style=\"background-color: #FFFEFE\"> ミドル</span><span style=\"background-color: #FFFEFE\"> 級</span><span style=\"background-color: #FFFCFC\"> 王者</span><span style=\"background-color: #FFFEFE\"> で</span><span style=\"background-color: #FFFEFE\"> ある</span><span style=\"background-color: #FFFEFE\"> 長</span><span style=\"background-color: #FFFEFE\"> ##南</span><span style=\"background-color: #FFFEFE\"> 亮</span><span style=\"background-color: #FFFEFE\"> (</span><span style=\"background-color: #FFFEFE\"> ちょう</span><span style=\"background-color: #FFFEFE\"> なん</span><span style=\"background-color: #FFFEFE\"> ・</span><span style=\"background-color: #FFFEFE\"> りょう</span><span style=\"background-color: #FFFEFE\"> )</span><span style=\"background-color: #FFFEFE\"> は</span><span style=\"background-color: #FFFEFE\"> 真っ</span><span style=\"background-color: #FFFEFE\"> ##向</span><span style=\"background-color: #FFFDFD\"> から</span><span style=\"background-color: #FFFCFC\"> 否定</span><span style=\"background-color: #FFFDFD\"> 。</span><span style=\"background-color: #FFFEFE\"> 自身</span><span style=\"background-color: #FFFEFE\"> の</span><span style=\"background-color: #FFFEFE\"> ツイッター</span><span style=\"background-color: #FFFEFE\"> にて</span><span style=\"background-color: #FFFEFE\"> 「</span><span style=\"background-color: #FFFEFE\"> 石井</span><span style=\"background-color: #FFFEFE\"> 慧</span><span style=\"background-color: #FFFEFE\"> の</span><span style=\"background-color: #FFFEFE\"> 体調</span><span style=\"background-color: #FFFEFE\"> は</span><span style=\"background-color: #FFFCFC\"> 良好</span><span style=\"background-color: #FFFEFE\"> だ</span><span style=\"background-color: #FFFEFE\"> そう</span><span style=\"background-color: #FFFEFE\"> です</span><span style=\"background-color: #FFFEFE\"> 。</span><span style=\"background-color: #FFFEFE\"> 」</span><span style=\"background-color: #FFFEFE\"> と</span><span style=\"background-color: #FFFAFA\"> コメント</span><span style=\"background-color: #FFFCFC\"> 、</span><span style=\"background-color: #FFFEFE\"> さらに</span><span style=\"background-color: #FFFEFE\"> 「</span><span style=\"background-color: #FFFEFE\"> 人</span><span style=\"background-color: #FFFEFE\"> の</span><span style=\"background-color: #FFFEFE\"> 人生</span><span style=\"background-color: #FFFEFE\"> や</span><span style=\"background-color: #FFFEFE\"> 生命</span><span style=\"background-color: #FFFEFE\"> に</span><span style=\"background-color: #FFFEFE\"> 関わる</span><span style=\"background-color: #FFFEFE\"> こと</span><span style=\"background-color: #FFFEFE\"> を</span><span style=\"background-color: #FFFEFE\"> 平</span><span style=\"background-color: #FFFEFE\"> ##気</span><span style=\"background-color: #FFFEFE\"> で</span><span style=\"background-color: #FFFEFE\"> ガ</span><span style=\"background-color: #FFFEFE\"> ##セ</span><span style=\"background-color: #FFFEFE\"> 流す</span><span style=\"background-color: #FFFEFE\"> 奴</span><span style=\"background-color: #FFFEFE\"> は</span><span style=\"background-color: #FFFEFE\"> 死ん</span><span style=\"background-color: #FFFEFE\"> だ</span><span style=\"background-color: #FFFEFE\"> ほう</span><span style=\"background-color: #FFFEFE\"> が</span><span style=\"background-color: #FFFEFE\"> 世</span><span style=\"background-color: #FFFEFE\"> の</span><span style=\"background-color: #FFFEFE\"> 為</span><span style=\"background-color: #FFFEFE\"> 。</span><span style=\"background-color: #FFFDFD\"> 」</span><span style=\"background-color: #FFFDFD\"> と</span><span style=\"background-color: #FFFCFC\"> 怒り</span><span style=\"background-color: #FFFEFE\"> の</span><span style=\"background-color: #FFFCFC\"> ツイート</span><span style=\"background-color: #FFFCFC\"> を</span><span style=\"background-color: #FFF8F8\"> し</span><span style=\"background-color: #FFFBFB\"> て</span><span style=\"background-color: #FFFCFC\"> いる</span><span style=\"background-color: #FFFEFE\"> 。</span><span style=\"background-color: #FFFBFB\"> これ</span><span style=\"background-color: #FFFBFB\"> を</span><span style=\"background-color: #FFF6F6\"> もっ</span><span style=\"background-color: #FFFCFC\"> て</span><span style=\"background-color: #FFFEFE\"> 、</span><span style=\"background-color: #FFFEFE\"> 石井</span><span style=\"background-color: #FFFEFE\"> の</span><span style=\"background-color: #FFFEFE\"> 体調</span><span style=\"background-color: #FFFBFB\"> 不良</span><span style=\"background-color: #FFFEFE\"> が</span><span style=\"background-color: #FFFEFE\"> ただちに</span><span style=\"background-color: #FFFDFD\"> 否定</span><span style=\"background-color: #FFFCFC\"> さ</span><span style=\"background-color: #FFFCFC\"> れ</span><span style=\"background-color: #FFF4F4\"> た</span><span style=\"background-color: #FFFAFA\"> わけ</span><span style=\"background-color: #FFF8F8\"> で</span><span style=\"background-color: #FFFDFD\"> は</span><span style=\"background-color: #FFFCFC\"> ない</span><span style=\"background-color: #FFFEFE\"> 。</span><span style=\"background-color: #FFFCFC\"> しかし</span><span style=\"background-color: #FFFEFE\"> 、</span><span style=\"background-color: #FFFEFE\"> 石井</span><span style=\"background-color: #FFFEFE\"> から</span><span style=\"background-color: #FFFEFE\"> 近</span><span style=\"background-color: #FFFEFE\"> ##しい</span><span style=\"background-color: #FFFEFE\"> と</span><span style=\"background-color: #FFFDFD\"> 思わ</span><span style=\"background-color: #FFFEFE\"> れる</span><span style=\"background-color: #FFFEFE\"> 人間</span><span style=\"background-color: #FFFEFE\"> から</span><span style=\"background-color: #FFFEFE\"> の</span><span style=\"background-color: #FFFAFA\"> 情報</span><span style=\"background-color: #FFFDFD\"> で</span><span style=\"background-color: #FFFEFE\"> あり</span><span style=\"background-color: #FFFEFE\"> 、</span><span style=\"background-color: #FFFEFE\"> 信</span><span style=\"background-color: #FFFEFE\"> ##ぴ</span><span style=\"background-color: #FFFEFE\"> ##ょう</span><span style=\"background-color: #FFFEFE\"> 性</span><span style=\"background-color: #FFFEFE\"> は</span><span style=\"background-color: #FFFDFD\"> 高い</span><span style=\"background-color: #FFFDFD\"> と</span><span style=\"background-color: #FFFCFC\"> いえる</span><span style=\"background-color: #FFFDFD\"> だろ</span><span style=\"background-color: #FFFDFD\"> う</span><span style=\"background-color: #FFFEFE\"> 。</span><span style=\"background-color: #FFFDFD\"> この</span><span style=\"background-color: #FFFCFC\"> 件</span><span style=\"background-color: #FFFDFD\"> について</span><span style=\"background-color: #FFFEFE\"> 、</span><span style=\"background-color: #FFFEFE\"> 格闘技</span><span style=\"background-color: #FFFEFE\"> ファン</span><span style=\"background-color: #FFFCFC\"> から</span><span style=\"background-color: #FFFEFE\"> は</span><span style=\"background-color: #FFFEFE\"> 「</span><span style=\"background-color: #FFFCFC\"> 良かっ</span><span style=\"background-color: #FFF8F8\"> た</span><span style=\"background-color: #FFFEFE\"> 、</span><span style=\"background-color: #FFFDFD\"> 引退</span><span style=\"background-color: #FFFEFE\"> する</span><span style=\"background-color: #FFFEFE\"> 石井</span><span style=\"background-color: #FFFEFE\"> は</span><span style=\"background-color: #FFFEFE\"> 居</span><span style=\"background-color: #FFFEFE\"> なかっ</span><span style=\"background-color: #FFFDFD\"> た</span><span style=\"background-color: #FFFEFE\"> ん</span><span style=\"background-color: #FFFEFE\"> だ</span><span style=\"background-color: #FFFEFE\"> ...」</span><span style=\"background-color: #FFFEFE\"> ##「</span><span style=\"background-color: #FFFEFE\"> とり</span><span style=\"background-color: #FFFEFE\"> ##あ</span><span style=\"background-color: #FFFDFD\"> ##えず</span><span style=\"background-color: #FFFEFE\"> よかっ</span><span style=\"background-color: #FFF8F8\"> た</span><span style=\"background-color: #FFFEFE\"> 」</span><span style=\"background-color: #FFFDFD\"> といった</span><span style=\"background-color: #FFFDFD\"> 安堵</span><span style=\"background-color: #FFFEFE\"> の</span><span style=\"background-color: #FFF8F8\"> コメント</span><span style=\"background-color: #FFF7F7\"> が</span><span style=\"background-color: #FFFAFA\"> 並ん</span><span style=\"background-color: #FFF8F8\"> で</span><span style=\"background-color: #FFF5F5\"> いる</span><span style=\"background-color: #FFFEFE\"> 。</span><br><br>[BERTのAttentionを可視化_2]<br><span style=\"background-color: #FFFEFE\"> [CLS]</span><span style=\"background-color: #FFFEFE\"> ヒ</span><span style=\"background-color: #FFFEFE\"> ##ョー</span><span style=\"background-color: #FFFEFE\"> ##ドル</span><span style=\"background-color: #FFFBFB\"> 戦</span><span style=\"background-color: #FFFEFE\"> で</span><span style=\"background-color: #FFFEFE\"> KO</span><span style=\"background-color: #FFFEFE\"> さ</span><span style=\"background-color: #FFFEFE\"> れ</span><span style=\"background-color: #FFFEFE\"> 病院</span><span style=\"background-color: #FFFEFE\"> に</span><span style=\"background-color: #FFFEFE\"> 直行</span><span style=\"background-color: #FFFEFE\"> し</span><span style=\"background-color: #FFFEFE\"> た</span><span style=\"background-color: #FFFEFE\"> 石井</span><span style=\"background-color: #FFFEFE\"> 慧</span><span style=\"background-color: #FFDEDE\"> について</span><span style=\"background-color: #FFFEFE\"> 、</span><span style=\"background-color: #FFFEFE\"> 30</span><span style=\"background-color: #FFFEFE\"> 日</span><span style=\"background-color: #FFFEFE\"> に</span><span style=\"background-color: #FFFEFE\"> 脳</span><span style=\"background-color: #FFFEFE\"> 障害</span><span style=\"background-color: #FFFEFE\"> により</span><span style=\"background-color: #FFFEFE\"> 引退</span><span style=\"background-color: #FFFEFE\"> 危機</span><span style=\"background-color: #FFFCFC\"> という</span><span style=\"background-color: #FFE8E8\"> 報道</span><span style=\"background-color: #FFFEFE\"> が</span><span style=\"background-color: #FFDBDB\"> 行なわ</span><span style=\"background-color: #FFFCFC\"> れ</span><span style=\"background-color: #FFFCFC\"> た</span><span style=\"background-color: #FFFEFE\"> 。</span><span style=\"background-color: #FFEFEF\"> 記事</span><span style=\"background-color: #FFFCFC\"> に</span><span style=\"background-color: #FFFEFE\"> は</span><span style=\"background-color: #FFFEFE\"> 「</span><span style=\"background-color: #FFFEFE\"> 一説</span><span style=\"background-color: #FFFEFE\"> に</span><span style=\"background-color: #FFFEFE\"> は</span><span style=\"background-color: #FFFEFE\"> 『</span><span style=\"background-color: #FFFEFE\"> 脳</span><span style=\"background-color: #FFFEFE\"> 浮</span><span style=\"background-color: #FFFEFE\"> ##腫</span><span style=\"background-color: #FFFEFE\"> 』</span><span style=\"background-color: #FFFEFE\"> と</span><span style=\"background-color: #FFFEFE\"> も</span><span style=\"background-color: #FFFEFE\"> 言わ</span><span style=\"background-color: #FFFEFE\"> れ</span><span style=\"background-color: #FFFEFE\"> て</span><span style=\"background-color: #FFFEFE\"> い</span><span style=\"background-color: #FFFEFE\"> ます</span><span style=\"background-color: #FFFEFE\"> 」</span><span style=\"background-color: #FFFEFE\"> (</span><span style=\"background-color: #FFFEFE\"> 格闘技</span><span style=\"background-color: #FFFEFE\"> 事情</span><span style=\"background-color: #FFFDFD\"> 通</span><span style=\"background-color: #FFFDFD\"> )</span><span style=\"background-color: #FFFDFD\"> と</span><span style=\"background-color: #FFFBFB\"> あり</span><span style=\"background-color: #FFFEFE\"> 、</span><span style=\"background-color: #FFFEFE\"> 石井</span><span style=\"background-color: #FFFEFE\"> の</span><span style=\"background-color: #FFFEFE\"> 容</span><span style=\"background-color: #FFFEFE\"> ##態</span><span style=\"background-color: #FFFEFE\"> は</span><span style=\"background-color: #FFFEFE\"> 深刻</span><span style=\"background-color: #FFFEFE\"> な</span><span style=\"background-color: #FFFEFE\"> もの</span><span style=\"background-color: #FFFEFE\"> と</span><span style=\"background-color: #FFFEFE\"> 思わ</span><span style=\"background-color: #FFFEFE\"> れ</span><span style=\"background-color: #FFFEFE\"> た</span><span style=\"background-color: #FFFEFE\"> 。</span><span style=\"background-color: #FFFEFE\"> しかし</span><span style=\"background-color: #FFFEFE\"> 、</span><span style=\"background-color: #FFFEFE\"> この</span><span style=\"background-color: #FFFEFE\"> 件</span><span style=\"background-color: #FFFDFD\"> について</span><span style=\"background-color: #FFFEFE\"> 元</span><span style=\"background-color: #FFFEFE\"> DEEP</span><span style=\"background-color: #FFFEFE\"> ミドル</span><span style=\"background-color: #FFFEFE\"> 級</span><span style=\"background-color: #FFFEFE\"> 王者</span><span style=\"background-color: #FFFEFE\"> で</span><span style=\"background-color: #FFFEFE\"> ある</span><span style=\"background-color: #FFFEFE\"> 長</span><span style=\"background-color: #FFFEFE\"> ##南</span><span style=\"background-color: #FFFEFE\"> 亮</span><span style=\"background-color: #FFFEFE\"> (</span><span style=\"background-color: #FFFEFE\"> ちょう</span><span style=\"background-color: #FFFEFE\"> なん</span><span style=\"background-color: #FFFEFE\"> ・</span><span style=\"background-color: #FFFEFE\"> りょう</span><span style=\"background-color: #FFFEFE\"> )</span><span style=\"background-color: #FFFDFD\"> は</span><span style=\"background-color: #FFFEFE\"> 真っ</span><span style=\"background-color: #FFFEFE\"> ##向</span><span style=\"background-color: #FFFEFE\"> から</span><span style=\"background-color: #FFF6F6\"> 否定</span><span style=\"background-color: #FFFDFD\"> 。</span><span style=\"background-color: #FFFEFE\"> 自身</span><span style=\"background-color: #FFFEFE\"> の</span><span style=\"background-color: #FFFEFE\"> ツイッター</span><span style=\"background-color: #FFF2F2\"> にて</span><span style=\"background-color: #FFFEFE\"> 「</span><span style=\"background-color: #FFFEFE\"> 石井</span><span style=\"background-color: #FFFEFE\"> 慧</span><span style=\"background-color: #FFFEFE\"> の</span><span style=\"background-color: #FFFEFE\"> 体調</span><span style=\"background-color: #FFFEFE\"> は</span><span style=\"background-color: #FFFEFE\"> 良好</span><span style=\"background-color: #FFFEFE\"> だ</span><span style=\"background-color: #FFFEFE\"> そう</span><span style=\"background-color: #FFFEFE\"> です</span><span style=\"background-color: #FFFEFE\"> 。</span><span style=\"background-color: #FFFEFE\"> 」</span><span style=\"background-color: #FFFEFE\"> と</span><span style=\"background-color: #FFFEFE\"> コメント</span><span style=\"background-color: #FFFEFE\"> 、</span><span style=\"background-color: #FFFEFE\"> さらに</span><span style=\"background-color: #FFFEFE\"> 「</span><span style=\"background-color: #FFFFFF\"> 人</span><span style=\"background-color: #FFFEFE\"> の</span><span style=\"background-color: #FFFEFE\"> 人生</span><span style=\"background-color: #FFFFFF\"> や</span><span style=\"background-color: #FFFFFF\"> 生命</span><span style=\"background-color: #FFFEFE\"> に</span><span style=\"background-color: #FFFEFE\"> 関わる</span><span style=\"background-color: #FFFEFE\"> こと</span><span style=\"background-color: #FFFEFE\"> を</span><span style=\"background-color: #FFFEFE\"> 平</span><span style=\"background-color: #FFFEFE\"> ##気</span><span style=\"background-color: #FFFEFE\"> で</span><span style=\"background-color: #FFFEFE\"> ガ</span><span style=\"background-color: #FFFEFE\"> ##セ</span><span style=\"background-color: #FFFEFE\"> 流す</span><span style=\"background-color: #FFFEFE\"> 奴</span><span style=\"background-color: #FFFEFE\"> は</span><span style=\"background-color: #FFFEFE\"> 死ん</span><span style=\"background-color: #FFFEFE\"> だ</span><span style=\"background-color: #FFFEFE\"> ほう</span><span style=\"background-color: #FFFEFE\"> が</span><span style=\"background-color: #FFFEFE\"> 世</span><span style=\"background-color: #FFFEFE\"> の</span><span style=\"background-color: #FFFEFE\"> 為</span><span style=\"background-color: #FFFEFE\"> 。</span><span style=\"background-color: #FFFEFE\"> 」</span><span style=\"background-color: #FFFDFD\"> と</span><span style=\"background-color: #FFFEFE\"> 怒り</span><span style=\"background-color: #FFFEFE\"> の</span><span style=\"background-color: #FFFBFB\"> ツイート</span><span style=\"background-color: #FFFEFE\"> を</span><span style=\"background-color: #FFFDFD\"> し</span><span style=\"background-color: #FFFCFC\"> て</span><span style=\"background-color: #FFFCFC\"> いる</span><span style=\"background-color: #FFFEFE\"> 。</span><span style=\"background-color: #FFFEFE\"> これ</span><span style=\"background-color: #FFFEFE\"> を</span><span style=\"background-color: #FFFEFE\"> もっ</span><span style=\"background-color: #FFFEFE\"> て</span><span style=\"background-color: #FFFEFE\"> 、</span><span style=\"background-color: #FFFEFE\"> 石井</span><span style=\"background-color: #FFFEFE\"> の</span><span style=\"background-color: #FFFEFE\"> 体調</span><span style=\"background-color: #FFFEFE\"> 不良</span><span style=\"background-color: #FFFEFE\"> が</span><span style=\"background-color: #FFFEFE\"> ただちに</span><span style=\"background-color: #FFFEFE\"> 否定</span><span style=\"background-color: #FFFEFE\"> さ</span><span style=\"background-color: #FFFEFE\"> れ</span><span style=\"background-color: #FFFEFE\"> た</span><span style=\"background-color: #FFFEFE\"> わけ</span><span style=\"background-color: #FFFEFE\"> で</span><span style=\"background-color: #FFFEFE\"> は</span><span style=\"background-color: #FFFEFE\"> ない</span><span style=\"background-color: #FFFEFE\"> 。</span><span style=\"background-color: #FFFEFE\"> しかし</span><span style=\"background-color: #FFFEFE\"> 、</span><span style=\"background-color: #FFFEFE\"> 石井</span><span style=\"background-color: #FFFEFE\"> から</span><span style=\"background-color: #FFFEFE\"> 近</span><span style=\"background-color: #FFFEFE\"> ##しい</span><span style=\"background-color: #FFFEFE\"> と</span><span style=\"background-color: #FFFEFE\"> 思わ</span><span style=\"background-color: #FFFEFE\"> れる</span><span style=\"background-color: #FFFEFE\"> 人間</span><span style=\"background-color: #FFFEFE\"> から</span><span style=\"background-color: #FFFEFE\"> の</span><span style=\"background-color: #FFFEFE\"> 情報</span><span style=\"background-color: #FFFEFE\"> で</span><span style=\"background-color: #FFFEFE\"> あり</span><span style=\"background-color: #FFFEFE\"> 、</span><span style=\"background-color: #FFFEFE\"> 信</span><span style=\"background-color: #FFFEFE\"> ##ぴ</span><span style=\"background-color: #FFFEFE\"> ##ょう</span><span style=\"background-color: #FFFDFD\"> 性</span><span style=\"background-color: #FFFEFE\"> は</span><span style=\"background-color: #FFFEFE\"> 高い</span><span style=\"background-color: #FFFEFE\"> と</span><span style=\"background-color: #FFFEFE\"> いえる</span><span style=\"background-color: #FFFEFE\"> だろ</span><span style=\"background-color: #FFFEFE\"> う</span><span style=\"background-color: #FFFEFE\"> 。</span><span style=\"background-color: #FFFEFE\"> この</span><span style=\"background-color: #FFFBFB\"> 件</span><span style=\"background-color: #FFE5E5\"> について</span><span style=\"background-color: #FFFEFE\"> 、</span><span style=\"background-color: #FFFEFE\"> 格闘技</span><span style=\"background-color: #FFFDFD\"> ファン</span><span style=\"background-color: #FF0000\"> から</span><span style=\"background-color: #FFF2F2\"> は</span><span style=\"background-color: #FFFEFE\"> 「</span><span style=\"background-color: #FFFEFE\"> 良かっ</span><span style=\"background-color: #FFFEFE\"> た</span><span style=\"background-color: #FFFEFE\"> 、</span><span style=\"background-color: #FFFEFE\"> 引退</span><span style=\"background-color: #FFFEFE\"> する</span><span style=\"background-color: #FFFEFE\"> 石井</span><span style=\"background-color: #FFFEFE\"> は</span><span style=\"background-color: #FFFEFE\"> 居</span><span style=\"background-color: #FFFEFE\"> なかっ</span><span style=\"background-color: #FFFEFE\"> た</span><span style=\"background-color: #FFFEFE\"> ん</span><span style=\"background-color: #FFFEFE\"> だ</span><span style=\"background-color: #FFFEFE\"> ...」</span><span style=\"background-color: #FFFEFE\"> ##「</span><span style=\"background-color: #FFFEFE\"> とり</span><span style=\"background-color: #FFFEFE\"> ##あ</span><span style=\"background-color: #FFFEFE\"> ##えず</span><span style=\"background-color: #FFFEFE\"> よかっ</span><span style=\"background-color: #FFFEFE\"> た</span><span style=\"background-color: #FFFEFE\"> 」</span><span style=\"background-color: #FFFEFE\"> といった</span><span style=\"background-color: #FFFEFE\"> 安堵</span><span style=\"background-color: #FFFEFE\"> の</span><span style=\"background-color: #FFFDFD\"> コメント</span><span style=\"background-color: #FFFDFD\"> が</span><span style=\"background-color: #FFF9F9\"> 並ん</span><span style=\"background-color: #FFFDFD\"> で</span><span style=\"background-color: #FFFAFA\"> いる</span><span style=\"background-color: #FFFEFE\"> 。</span><br><br>[BERTのAttentionを可視化_3]<br><span style=\"background-color: #FFFEFE\"> [CLS]</span><span style=\"background-color: #FFFEFE\"> ヒ</span><span style=\"background-color: #FFFEFE\"> ##ョー</span><span style=\"background-color: #FFFEFE\"> ##ドル</span><span style=\"background-color: #FFFEFE\"> 戦</span><span style=\"background-color: #FFFEFE\"> で</span><span style=\"background-color: #FFFEFE\"> KO</span><span style=\"background-color: #FFFEFE\"> さ</span><span style=\"background-color: #FFFEFE\"> れ</span><span style=\"background-color: #FFFEFE\"> 病院</span><span style=\"background-color: #FFFEFE\"> に</span><span style=\"background-color: #FFFEFE\"> 直行</span><span style=\"background-color: #FFFEFE\"> し</span><span style=\"background-color: #FFFEFE\"> た</span><span style=\"background-color: #FFF3F3\"> 石井</span><span style=\"background-color: #FFFCFC\"> 慧</span><span style=\"background-color: #FF0000\"> について</span><span style=\"background-color: #FFE5E5\"> 、</span><span style=\"background-color: #FFFEFE\"> 30</span><span style=\"background-color: #FFFEFE\"> 日</span><span style=\"background-color: #FFFEFE\"> に</span><span style=\"background-color: #FFFEFE\"> 脳</span><span style=\"background-color: #FFFEFE\"> 障害</span><span style=\"background-color: #FFFEFE\"> により</span><span style=\"background-color: #FFFEFE\"> 引退</span><span style=\"background-color: #FFFEFE\"> 危機</span><span style=\"background-color: #FFFEFE\"> という</span><span style=\"background-color: #FFFEFE\"> 報道</span><span style=\"background-color: #FFFEFE\"> が</span><span style=\"background-color: #FFFEFE\"> 行なわ</span><span style=\"background-color: #FFFEFE\"> れ</span><span style=\"background-color: #FFFDFD\"> た</span><span style=\"background-color: #FFFEFE\"> 。</span><span style=\"background-color: #FFFCFC\"> 記事</span><span style=\"background-color: #FFFDFD\"> に</span><span style=\"background-color: #FFCFCF\"> は</span><span style=\"background-color: #FFFEFE\"> 「</span><span style=\"background-color: #FFFEFE\"> 一説</span><span style=\"background-color: #FFFEFE\"> に</span><span style=\"background-color: #FFFEFE\"> は</span><span style=\"background-color: #FFFEFE\"> 『</span><span style=\"background-color: #FFFEFE\"> 脳</span><span style=\"background-color: #FFFEFE\"> 浮</span><span style=\"background-color: #FFFEFE\"> ##腫</span><span style=\"background-color: #FFFEFE\"> 』</span><span style=\"background-color: #FFFEFE\"> と</span><span style=\"background-color: #FFFEFE\"> も</span><span style=\"background-color: #FFFEFE\"> 言わ</span><span style=\"background-color: #FFFEFE\"> れ</span><span style=\"background-color: #FFFEFE\"> て</span><span style=\"background-color: #FFFEFE\"> い</span><span style=\"background-color: #FFFEFE\"> ます</span><span style=\"background-color: #FFFEFE\"> 」</span><span style=\"background-color: #FFFEFE\"> (</span><span style=\"background-color: #FFFEFE\"> 格闘技</span><span style=\"background-color: #FFFEFE\"> 事情</span><span style=\"background-color: #FFFEFE\"> 通</span><span style=\"background-color: #FFFEFE\"> )</span><span style=\"background-color: #FFFEFE\"> と</span><span style=\"background-color: #FFFEFE\"> あり</span><span style=\"background-color: #FFFDFD\"> 、</span><span style=\"background-color: #FFE5E5\"> 石井</span><span style=\"background-color: #FFFDFD\"> の</span><span style=\"background-color: #FFFEFE\"> 容</span><span style=\"background-color: #FFFEFE\"> ##態</span><span style=\"background-color: #FFFEFE\"> は</span><span style=\"background-color: #FFFEFE\"> 深刻</span><span style=\"background-color: #FFFEFE\"> な</span><span style=\"background-color: #FFFEFE\"> もの</span><span style=\"background-color: #FFFEFE\"> と</span><span style=\"background-color: #FFFEFE\"> 思わ</span><span style=\"background-color: #FFFEFE\"> れ</span><span style=\"background-color: #FFFEFE\"> た</span><span style=\"background-color: #FFFEFE\"> 。</span><span style=\"background-color: #FFFEFE\"> しかし</span><span style=\"background-color: #FFFAFA\"> 、</span><span style=\"background-color: #FFFEFE\"> この</span><span style=\"background-color: #FFFEFE\"> 件</span><span style=\"background-color: #FFF7F7\"> について</span><span style=\"background-color: #FFFEFE\"> 元</span><span style=\"background-color: #FFFEFE\"> DEEP</span><span style=\"background-color: #FFFEFE\"> ミドル</span><span style=\"background-color: #FFFEFE\"> 級</span><span style=\"background-color: #FFFEFE\"> 王者</span><span style=\"background-color: #FFFEFE\"> で</span><span style=\"background-color: #FFFDFD\"> ある</span><span style=\"background-color: #FFFBFB\"> 長</span><span style=\"background-color: #FFFEFE\"> ##南</span><span style=\"background-color: #FFFEFE\"> 亮</span><span style=\"background-color: #FFFEFE\"> (</span><span style=\"background-color: #FFFEFE\"> ちょう</span><span style=\"background-color: #FFFEFE\"> なん</span><span style=\"background-color: #FFFEFE\"> ・</span><span style=\"background-color: #FFFEFE\"> りょう</span><span style=\"background-color: #FFFEFE\"> )</span><span style=\"background-color: #FFC6C6\"> は</span><span style=\"background-color: #FFFEFE\"> 真っ</span><span style=\"background-color: #FFFEFE\"> ##向</span><span style=\"background-color: #FFFEFE\"> から</span><span style=\"background-color: #FFFEFE\"> 否定</span><span style=\"background-color: #FFF1F1\"> 。</span><span style=\"background-color: #FFF6F6\"> 自身</span><span style=\"background-color: #FFFEFE\"> の</span><span style=\"background-color: #FFFEFE\"> ツイッター</span><span style=\"background-color: #FFE4E4\"> にて</span><span style=\"background-color: #FFFEFE\"> 「</span><span style=\"background-color: #FFF6F6\"> 石井</span><span style=\"background-color: #FFFEFE\"> 慧</span><span style=\"background-color: #FFFEFE\"> の</span><span style=\"background-color: #FFFEFE\"> 体調</span><span style=\"background-color: #FFFEFE\"> は</span><span style=\"background-color: #FFFEFE\"> 良好</span><span style=\"background-color: #FFFEFE\"> だ</span><span style=\"background-color: #FFFEFE\"> そう</span><span style=\"background-color: #FFFEFE\"> です</span><span style=\"background-color: #FFFEFE\"> 。</span><span style=\"background-color: #FFFEFE\"> 」</span><span style=\"background-color: #FFFEFE\"> と</span><span style=\"background-color: #FFFEFE\"> コメント</span><span style=\"background-color: #FFFEFE\"> 、</span><span style=\"background-color: #FFFEFE\"> さらに</span><span style=\"background-color: #FFFEFE\"> 「</span><span style=\"background-color: #FFFEFE\"> 人</span><span style=\"background-color: #FFFEFE\"> の</span><span style=\"background-color: #FFFEFE\"> 人生</span><span style=\"background-color: #FFFEFE\"> や</span><span style=\"background-color: #FFFEFE\"> 生命</span><span style=\"background-color: #FFFEFE\"> に</span><span style=\"background-color: #FFFEFE\"> 関わる</span><span style=\"background-color: #FFFEFE\"> こと</span><span style=\"background-color: #FFFEFE\"> を</span><span style=\"background-color: #FFFEFE\"> 平</span><span style=\"background-color: #FFFEFE\"> ##気</span><span style=\"background-color: #FFFEFE\"> で</span><span style=\"background-color: #FFFEFE\"> ガ</span><span style=\"background-color: #FFFEFE\"> ##セ</span><span style=\"background-color: #FFFEFE\"> 流す</span><span style=\"background-color: #FFFEFE\"> 奴</span><span style=\"background-color: #FFFEFE\"> は</span><span style=\"background-color: #FFFEFE\"> 死ん</span><span style=\"background-color: #FFFEFE\"> だ</span><span style=\"background-color: #FFFEFE\"> ほう</span><span style=\"background-color: #FFFEFE\"> が</span><span style=\"background-color: #FFFEFE\"> 世</span><span style=\"background-color: #FFFEFE\"> の</span><span style=\"background-color: #FFFEFE\"> 為</span><span style=\"background-color: #FFFEFE\"> 。</span><span style=\"background-color: #FFFEFE\"> 」</span><span style=\"background-color: #FFFEFE\"> と</span><span style=\"background-color: #FFFEFE\"> 怒り</span><span style=\"background-color: #FFFEFE\"> の</span><span style=\"background-color: #FFFEFE\"> ツイート</span><span style=\"background-color: #FFFEFE\"> を</span><span style=\"background-color: #FFFEFE\"> し</span><span style=\"background-color: #FFFEFE\"> て</span><span style=\"background-color: #FFFDFD\"> いる</span><span style=\"background-color: #FFFEFE\"> 。</span><span style=\"background-color: #FFFEFE\"> これ</span><span style=\"background-color: #FFFEFE\"> を</span><span style=\"background-color: #FFFEFE\"> もっ</span><span style=\"background-color: #FFFEFE\"> て</span><span style=\"background-color: #FFFEFE\"> 、</span><span style=\"background-color: #FFEEEE\"> 石井</span><span style=\"background-color: #FFFDFD\"> の</span><span style=\"background-color: #FFFEFE\"> 体調</span><span style=\"background-color: #FFFEFE\"> 不良</span><span style=\"background-color: #FFFEFE\"> が</span><span style=\"background-color: #FFFEFE\"> ただちに</span><span style=\"background-color: #FFFEFE\"> 否定</span><span style=\"background-color: #FFFEFE\"> さ</span><span style=\"background-color: #FFFEFE\"> れ</span><span style=\"background-color: #FFFEFE\"> た</span><span style=\"background-color: #FFFEFE\"> わけ</span><span style=\"background-color: #FFFEFE\"> で</span><span style=\"background-color: #FFFEFE\"> は</span><span style=\"background-color: #FFFEFE\"> ない</span><span style=\"background-color: #FFFEFE\"> 。</span><span style=\"background-color: #FFFEFE\"> しかし</span><span style=\"background-color: #FFFEFE\"> 、</span><span style=\"background-color: #FFFBFB\"> 石井</span><span style=\"background-color: #FFFEFE\"> から</span><span style=\"background-color: #FFFEFE\"> 近</span><span style=\"background-color: #FFFEFE\"> ##しい</span><span style=\"background-color: #FFFEFE\"> と</span><span style=\"background-color: #FFFEFE\"> 思わ</span><span style=\"background-color: #FFFEFE\"> れる</span><span style=\"background-color: #FFFCFC\"> 人間</span><span style=\"background-color: #FFFEFE\"> から</span><span style=\"background-color: #FFFEFE\"> の</span><span style=\"background-color: #FFFEFE\"> 情報</span><span style=\"background-color: #FFFEFE\"> で</span><span style=\"background-color: #FFFDFD\"> あり</span><span style=\"background-color: #FFFEFE\"> 、</span><span style=\"background-color: #FFFEFE\"> 信</span><span style=\"background-color: #FFFEFE\"> ##ぴ</span><span style=\"background-color: #FFFEFE\"> ##ょう</span><span style=\"background-color: #FFFEFE\"> 性</span><span style=\"background-color: #FFFEFE\"> は</span><span style=\"background-color: #FFFEFE\"> 高い</span><span style=\"background-color: #FFFEFE\"> と</span><span style=\"background-color: #FFFEFE\"> いえる</span><span style=\"background-color: #FFFEFE\"> だろ</span><span style=\"background-color: #FFFEFE\"> う</span><span style=\"background-color: #FFFEFE\"> 。</span><span style=\"background-color: #FFFEFE\"> この</span><span style=\"background-color: #FFFEFE\"> 件</span><span style=\"background-color: #FFE2E2\"> について</span><span style=\"background-color: #FFFCFC\"> 、</span><span style=\"background-color: #FFFEFE\"> 格闘技</span><span style=\"background-color: #FFFEFE\"> ファン</span><span style=\"background-color: #FFEEEE\"> から</span><span style=\"background-color: #FF6C6C\"> は</span><span style=\"background-color: #FFFEFE\"> 「</span><span style=\"background-color: #FFFEFE\"> 良かっ</span><span style=\"background-color: #FFFEFE\"> た</span><span style=\"background-color: #FFFEFE\"> 、</span><span style=\"background-color: #FFFEFE\"> 引退</span><span style=\"background-color: #FFFEFE\"> する</span><span style=\"background-color: #FFFBFB\"> 石井</span><span style=\"background-color: #FFFEFE\"> は</span><span style=\"background-color: #FFFEFE\"> 居</span><span style=\"background-color: #FFFEFE\"> なかっ</span><span style=\"background-color: #FFFEFE\"> た</span><span style=\"background-color: #FFFEFE\"> ん</span><span style=\"background-color: #FFFEFE\"> だ</span><span style=\"background-color: #FFFEFE\"> ...」</span><span style=\"background-color: #FFFEFE\"> ##「</span><span style=\"background-color: #FFFEFE\"> とり</span><span style=\"background-color: #FFFEFE\"> ##あ</span><span style=\"background-color: #FFFEFE\"> ##えず</span><span style=\"background-color: #FFFEFE\"> よかっ</span><span style=\"background-color: #FFFEFE\"> た</span><span style=\"background-color: #FFFEFE\"> 」</span><span style=\"background-color: #FFFEFE\"> といった</span><span style=\"background-color: #FFFEFE\"> 安堵</span><span style=\"background-color: #FFFEFE\"> の</span><span style=\"background-color: #FFFEFE\"> コメント</span><span style=\"background-color: #FFFEFE\"> が</span><span style=\"background-color: #FFFEFE\"> 並ん</span><span style=\"background-color: #FFFEFE\"> で</span><span style=\"background-color: #FFFEFE\"> いる</span><span style=\"background-color: #FFFEFE\"> 。</span><br><br>[BERTのAttentionを可視化_4]<br><span style=\"background-color: #FFFEFE\"> [CLS]</span><span style=\"background-color: #FFFEFE\"> ヒ</span><span style=\"background-color: #FFFEFE\"> ##ョー</span><span style=\"background-color: #FFFEFE\"> ##ドル</span><span style=\"background-color: #FFF2F2\"> 戦</span><span style=\"background-color: #FFFEFE\"> で</span><span style=\"background-color: #FFFFFF\"> KO</span><span style=\"background-color: #FFFEFE\"> さ</span><span style=\"background-color: #FFFEFE\"> れ</span><span style=\"background-color: #FFFEFE\"> 病院</span><span style=\"background-color: #FFFEFE\"> に</span><span style=\"background-color: #FFFEFE\"> 直行</span><span style=\"background-color: #FFFEFE\"> し</span><span style=\"background-color: #FFFEFE\"> た</span><span style=\"background-color: #FFECEC\"> 石井</span><span style=\"background-color: #FFFEFE\"> 慧</span><span style=\"background-color: #FFFEFE\"> について</span><span style=\"background-color: #FFFEFE\"> 、</span><span style=\"background-color: #FFFEFE\"> 30</span><span style=\"background-color: #FFFEFE\"> 日</span><span style=\"background-color: #FFFEFE\"> に</span><span style=\"background-color: #FFF9F9\"> 脳</span><span style=\"background-color: #FFFEFE\"> 障害</span><span style=\"background-color: #FFFEFE\"> により</span><span style=\"background-color: #FFFCFC\"> 引退</span><span style=\"background-color: #FFFEFE\"> 危機</span><span style=\"background-color: #FFFEFE\"> という</span><span style=\"background-color: #FFFEFE\"> 報道</span><span style=\"background-color: #FFFEFE\"> が</span><span style=\"background-color: #FFFEFE\"> 行なわ</span><span style=\"background-color: #FFFEFE\"> れ</span><span style=\"background-color: #FFFEFE\"> た</span><span style=\"background-color: #FFFEFE\"> 。</span><span style=\"background-color: #FFFEFE\"> 記事</span><span style=\"background-color: #FFFEFE\"> に</span><span style=\"background-color: #FFFEFE\"> は</span><span style=\"background-color: #FFFEFE\"> 「</span><span style=\"background-color: #FFFEFE\"> 一説</span><span style=\"background-color: #FFFEFE\"> に</span><span style=\"background-color: #FFFEFE\"> は</span><span style=\"background-color: #FFFEFE\"> 『</span><span style=\"background-color: #FFFEFE\"> 脳</span><span style=\"background-color: #FFFEFE\"> 浮</span><span style=\"background-color: #FFFEFE\"> ##腫</span><span style=\"background-color: #FFFEFE\"> 』</span><span style=\"background-color: #FFFEFE\"> と</span><span style=\"background-color: #FFFEFE\"> も</span><span style=\"background-color: #FFFEFE\"> 言わ</span><span style=\"background-color: #FFFFFF\"> れ</span><span style=\"background-color: #FFFFFF\"> て</span><span style=\"background-color: #FFFEFE\"> い</span><span style=\"background-color: #FFFEFE\"> ます</span><span style=\"background-color: #FFFEFE\"> 」</span><span style=\"background-color: #FFFEFE\"> (</span><span style=\"background-color: #FFC0C0\"> 格闘技</span><span style=\"background-color: #FFFEFE\"> 事情</span><span style=\"background-color: #FFFEFE\"> 通</span><span style=\"background-color: #FFFEFE\"> )</span><span style=\"background-color: #FFFEFE\"> と</span><span style=\"background-color: #FFFEFE\"> あり</span><span style=\"background-color: #FFFEFE\"> 、</span><span style=\"background-color: #FFEEEE\"> 石井</span><span style=\"background-color: #FFFEFE\"> の</span><span style=\"background-color: #FFFEFE\"> 容</span><span style=\"background-color: #FFFEFE\"> ##態</span><span style=\"background-color: #FFFEFE\"> は</span><span style=\"background-color: #FFFEFE\"> 深刻</span><span style=\"background-color: #FFFEFE\"> な</span><span style=\"background-color: #FFFEFE\"> もの</span><span style=\"background-color: #FFFEFE\"> と</span><span style=\"background-color: #FFFEFE\"> 思わ</span><span style=\"background-color: #FFFEFE\"> れ</span><span style=\"background-color: #FFFEFE\"> た</span><span style=\"background-color: #FFFEFE\"> 。</span><span style=\"background-color: #FFFEFE\"> しかし</span><span style=\"background-color: #FFFEFE\"> 、</span><span style=\"background-color: #FFFEFE\"> この</span><span style=\"background-color: #FFFEFE\"> 件</span><span style=\"background-color: #FFFEFE\"> について</span><span style=\"background-color: #FFFEFE\"> 元</span><span style=\"background-color: #FFFEFE\"> DEEP</span><span style=\"background-color: #FF6D6D\"> ミドル</span><span style=\"background-color: #FFEBEB\"> 級</span><span style=\"background-color: #FFFDFD\"> 王者</span><span style=\"background-color: #FFFEFE\"> で</span><span style=\"background-color: #FFFEFE\"> ある</span><span style=\"background-color: #FFFEFE\"> 長</span><span style=\"background-color: #FFFEFE\"> ##南</span><span style=\"background-color: #FFFEFE\"> 亮</span><span style=\"background-color: #FFFEFE\"> (</span><span style=\"background-color: #FFFEFE\"> ちょう</span><span style=\"background-color: #FFFEFE\"> なん</span><span style=\"background-color: #FFFEFE\"> ・</span><span style=\"background-color: #FFFEFE\"> りょう</span><span style=\"background-color: #FFFEFE\"> )</span><span style=\"background-color: #FFFEFE\"> は</span><span style=\"background-color: #FFFEFE\"> 真っ</span><span style=\"background-color: #FFFEFE\"> ##向</span><span style=\"background-color: #FFFEFE\"> から</span><span style=\"background-color: #FFFEFE\"> 否定</span><span style=\"background-color: #FFFEFE\"> 。</span><span style=\"background-color: #FFFEFE\"> 自身</span><span style=\"background-color: #FFFEFE\"> の</span><span style=\"background-color: #FFEFEF\"> ツイッター</span><span style=\"background-color: #FFFEFE\"> にて</span><span style=\"background-color: #FFFEFE\"> 「</span><span style=\"background-color: #FFE2E2\"> 石井</span><span style=\"background-color: #FFFDFD\"> 慧</span><span style=\"background-color: #FFFEFE\"> の</span><span style=\"background-color: #FFFEFE\"> 体調</span><span style=\"background-color: #FFFEFE\"> は</span><span style=\"background-color: #FFFEFE\"> 良好</span><span style=\"background-color: #FFFEFE\"> だ</span><span style=\"background-color: #FFFEFE\"> そう</span><span style=\"background-color: #FFFEFE\"> です</span><span style=\"background-color: #FFFEFE\"> 。</span><span style=\"background-color: #FFFEFE\"> 」</span><span style=\"background-color: #FFFEFE\"> と</span><span style=\"background-color: #FFFEFE\"> コメント</span><span style=\"background-color: #FFFEFE\"> 、</span><span style=\"background-color: #FFFEFE\"> さらに</span><span style=\"background-color: #FFFEFE\"> 「</span><span style=\"background-color: #FFFEFE\"> 人</span><span style=\"background-color: #FFFEFE\"> の</span><span style=\"background-color: #FFFEFE\"> 人生</span><span style=\"background-color: #FFFEFE\"> や</span><span style=\"background-color: #FFFEFE\"> 生命</span><span style=\"background-color: #FFFEFE\"> に</span><span style=\"background-color: #FFFEFE\"> 関わる</span><span style=\"background-color: #FFFEFE\"> こと</span><span style=\"background-color: #FFFEFE\"> を</span><span style=\"background-color: #FFFEFE\"> 平</span><span style=\"background-color: #FFFEFE\"> ##気</span><span style=\"background-color: #FFFEFE\"> で</span><span style=\"background-color: #FFFEFE\"> ガ</span><span style=\"background-color: #FFFEFE\"> ##セ</span><span style=\"background-color: #FFFEFE\"> 流す</span><span style=\"background-color: #FFFEFE\"> 奴</span><span style=\"background-color: #FFFEFE\"> は</span><span style=\"background-color: #FFFEFE\"> 死ん</span><span style=\"background-color: #FFFEFE\"> だ</span><span style=\"background-color: #FFFEFE\"> ほう</span><span style=\"background-color: #FFFEFE\"> が</span><span style=\"background-color: #FFFEFE\"> 世</span><span style=\"background-color: #FFFEFE\"> の</span><span style=\"background-color: #FFFEFE\"> 為</span><span style=\"background-color: #FFFEFE\"> 。</span><span style=\"background-color: #FFFEFE\"> 」</span><span style=\"background-color: #FFFEFE\"> と</span><span style=\"background-color: #FFFEFE\"> 怒り</span><span style=\"background-color: #FFFEFE\"> の</span><span style=\"background-color: #FFFEFE\"> ツイート</span><span style=\"background-color: #FFFEFE\"> を</span><span style=\"background-color: #FFFEFE\"> し</span><span style=\"background-color: #FFFEFE\"> て</span><span style=\"background-color: #FFFEFE\"> いる</span><span style=\"background-color: #FFFEFE\"> 。</span><span style=\"background-color: #FFFEFE\"> これ</span><span style=\"background-color: #FFFEFE\"> を</span><span style=\"background-color: #FFFEFE\"> もっ</span><span style=\"background-color: #FFFEFE\"> て</span><span style=\"background-color: #FFFEFE\"> 、</span><span style=\"background-color: #FFD2D2\"> 石井</span><span style=\"background-color: #FFFEFE\"> の</span><span style=\"background-color: #FFFEFE\"> 体調</span><span style=\"background-color: #FFFEFE\"> 不良</span><span style=\"background-color: #FFFEFE\"> が</span><span style=\"background-color: #FFFEFE\"> ただちに</span><span style=\"background-color: #FFFEFE\"> 否定</span><span style=\"background-color: #FFFEFE\"> さ</span><span style=\"background-color: #FFFEFE\"> れ</span><span style=\"background-color: #FFFEFE\"> た</span><span style=\"background-color: #FFFEFE\"> わけ</span><span style=\"background-color: #FFFEFE\"> で</span><span style=\"background-color: #FFFEFE\"> は</span><span style=\"background-color: #FFFEFE\"> ない</span><span style=\"background-color: #FFFEFE\"> 。</span><span style=\"background-color: #FFFEFE\"> しかし</span><span style=\"background-color: #FFFEFE\"> 、</span><span style=\"background-color: #FFF0F0\"> 石井</span><span style=\"background-color: #FFFEFE\"> から</span><span style=\"background-color: #FFFEFE\"> 近</span><span style=\"background-color: #FFFEFE\"> ##しい</span><span style=\"background-color: #FFFEFE\"> と</span><span style=\"background-color: #FFFEFE\"> 思わ</span><span style=\"background-color: #FFFEFE\"> れる</span><span style=\"background-color: #FFFEFE\"> 人間</span><span style=\"background-color: #FFFEFE\"> から</span><span style=\"background-color: #FFFEFE\"> の</span><span style=\"background-color: #FFFEFE\"> 情報</span><span style=\"background-color: #FFFEFE\"> で</span><span style=\"background-color: #FFFEFE\"> あり</span><span style=\"background-color: #FFFEFE\"> 、</span><span style=\"background-color: #FFFEFE\"> 信</span><span style=\"background-color: #FFFFFF\"> ##ぴ</span><span style=\"background-color: #FFFEFE\"> ##ょう</span><span style=\"background-color: #FFFEFE\"> 性</span><span style=\"background-color: #FFFEFE\"> は</span><span style=\"background-color: #FFFEFE\"> 高い</span><span style=\"background-color: #FFFEFE\"> と</span><span style=\"background-color: #FFFEFE\"> いえる</span><span style=\"background-color: #FFFEFE\"> だろ</span><span style=\"background-color: #FFFEFE\"> う</span><span style=\"background-color: #FFFEFE\"> 。</span><span style=\"background-color: #FFFEFE\"> この</span><span style=\"background-color: #FFFEFE\"> 件</span><span style=\"background-color: #FFFEFE\"> について</span><span style=\"background-color: #FFFEFE\"> 、</span><span style=\"background-color: #FF0000\"> 格闘技</span><span style=\"background-color: #FFFDFD\"> ファン</span><span style=\"background-color: #FFFEFE\"> から</span><span style=\"background-color: #FFFEFE\"> は</span><span style=\"background-color: #FFFEFE\"> 「</span><span style=\"background-color: #FFFEFE\"> 良かっ</span><span style=\"background-color: #FFFEFE\"> た</span><span style=\"background-color: #FFFEFE\"> 、</span><span style=\"background-color: #FFFDFD\"> 引退</span><span style=\"background-color: #FFFEFE\"> する</span><span style=\"background-color: #FFECEC\"> 石井</span><span style=\"background-color: #FFFEFE\"> は</span><span style=\"background-color: #FFFEFE\"> 居</span><span style=\"background-color: #FFFEFE\"> なかっ</span><span style=\"background-color: #FFFEFE\"> た</span><span style=\"background-color: #FFFEFE\"> ん</span><span style=\"background-color: #FFFEFE\"> だ</span><span style=\"background-color: #FFFEFE\"> ...」</span><span style=\"background-color: #FFFEFE\"> ##「</span><span style=\"background-color: #FFFEFE\"> とり</span><span style=\"background-color: #FFFEFE\"> ##あ</span><span style=\"background-color: #FFFEFE\"> ##えず</span><span style=\"background-color: #FFFEFE\"> よかっ</span><span style=\"background-color: #FFFEFE\"> た</span><span style=\"background-color: #FFFEFE\"> 」</span><span style=\"background-color: #FFFEFE\"> といった</span><span style=\"background-color: #FFFEFE\"> 安堵</span><span style=\"background-color: #FFFEFE\"> の</span><span style=\"background-color: #FFFEFE\"> コメント</span><span style=\"background-color: #FFFEFE\"> が</span><span style=\"background-color: #FFFEFE\"> 並ん</span><span style=\"background-color: #FFFEFE\"> で</span><span style=\"background-color: #FFFEFE\"> いる</span><span style=\"background-color: #FFFEFE\"> 。</span><br><br>[BERTのAttentionを可視化_5]<br><span style=\"background-color: #FFFEFE\"> [CLS]</span><span style=\"background-color: #FFFEFE\"> ヒ</span><span style=\"background-color: #FFFEFE\"> ##ョー</span><span style=\"background-color: #FFFEFE\"> ##ドル</span><span style=\"background-color: #FFFEFE\"> 戦</span><span style=\"background-color: #FFFEFE\"> で</span><span style=\"background-color: #FFFEFE\"> KO</span><span style=\"background-color: #FFFEFE\"> さ</span><span style=\"background-color: #FFFEFE\"> れ</span><span style=\"background-color: #FFFEFE\"> 病院</span><span style=\"background-color: #FFFEFE\"> に</span><span style=\"background-color: #FFFEFE\"> 直行</span><span style=\"background-color: #FFFEFE\"> し</span><span style=\"background-color: #FFFEFE\"> た</span><span style=\"background-color: #FFFEFE\"> 石井</span><span style=\"background-color: #FFFEFE\"> 慧</span><span style=\"background-color: #FFFEFE\"> について</span><span style=\"background-color: #FFFEFE\"> 、</span><span style=\"background-color: #FFFEFE\"> 30</span><span style=\"background-color: #FFFEFE\"> 日</span><span style=\"background-color: #FFFEFE\"> に</span><span style=\"background-color: #FFFEFE\"> 脳</span><span style=\"background-color: #FFFEFE\"> 障害</span><span style=\"background-color: #FFFEFE\"> により</span><span style=\"background-color: #FFFEFE\"> 引退</span><span style=\"background-color: #FFFEFE\"> 危機</span><span style=\"background-color: #FFFEFE\"> という</span><span style=\"background-color: #FFF9F9\"> 報道</span><span style=\"background-color: #FFFDFD\"> が</span><span style=\"background-color: #FFF7F7\"> 行なわ</span><span style=\"background-color: #FF8C8C\"> れ</span><span style=\"background-color: #FF9494\"> た</span><span style=\"background-color: #FFFEFE\"> 。</span><span style=\"background-color: #FFFDFD\"> 記事</span><span style=\"background-color: #FFFEFE\"> に</span><span style=\"background-color: #FFFEFE\"> は</span><span style=\"background-color: #FFFEFE\"> 「</span><span style=\"background-color: #FFFEFE\"> 一説</span><span style=\"background-color: #FFFEFE\"> に</span><span style=\"background-color: #FFFEFE\"> は</span><span style=\"background-color: #FFFEFE\"> 『</span><span style=\"background-color: #FFFEFE\"> 脳</span><span style=\"background-color: #FFFEFE\"> 浮</span><span style=\"background-color: #FFFEFE\"> ##腫</span><span style=\"background-color: #FFFEFE\"> 』</span><span style=\"background-color: #FFFEFE\"> と</span><span style=\"background-color: #FFFEFE\"> も</span><span style=\"background-color: #FFFEFE\"> 言わ</span><span style=\"background-color: #FFFEFE\"> れ</span><span style=\"background-color: #FFFEFE\"> て</span><span style=\"background-color: #FFFEFE\"> い</span><span style=\"background-color: #FFFCFC\"> ます</span><span style=\"background-color: #FFFCFC\"> 」</span><span style=\"background-color: #FFFEFE\"> (</span><span style=\"background-color: #FFFEFE\"> 格闘技</span><span style=\"background-color: #FFFEFE\"> 事情</span><span style=\"background-color: #FFFEFE\"> 通</span><span style=\"background-color: #FFFEFE\"> )</span><span style=\"background-color: #FFFEFE\"> と</span><span style=\"background-color: #FFF8F8\"> あり</span><span style=\"background-color: #FFFEFE\"> 、</span><span style=\"background-color: #FFFEFE\"> 石井</span><span style=\"background-color: #FFFEFE\"> の</span><span style=\"background-color: #FFFEFE\"> 容</span><span style=\"background-color: #FFFEFE\"> ##態</span><span style=\"background-color: #FFFEFE\"> は</span><span style=\"background-color: #FFFEFE\"> 深刻</span><span style=\"background-color: #FFFEFE\"> な</span><span style=\"background-color: #FFFEFE\"> もの</span><span style=\"background-color: #FFFEFE\"> と</span><span style=\"background-color: #FFFCFC\"> 思わ</span><span style=\"background-color: #FF9696\"> れ</span><span style=\"background-color: #FF7171\"> た</span><span style=\"background-color: #FFFEFE\"> 。</span><span style=\"background-color: #FFE7E7\"> しかし</span><span style=\"background-color: #FFFEFE\"> 、</span><span style=\"background-color: #FFFEFE\"> この</span><span style=\"background-color: #FFFEFE\"> 件</span><span style=\"background-color: #FFFEFE\"> について</span><span style=\"background-color: #FFFEFE\"> 元</span><span style=\"background-color: #FFFEFE\"> DEEP</span><span style=\"background-color: #FFFEFE\"> ミドル</span><span style=\"background-color: #FFFEFE\"> 級</span><span style=\"background-color: #FFFEFE\"> 王者</span><span style=\"background-color: #FFFEFE\"> で</span><span style=\"background-color: #FFFEFE\"> ある</span><span style=\"background-color: #FFFEFE\"> 長</span><span style=\"background-color: #FFFEFE\"> ##南</span><span style=\"background-color: #FFFEFE\"> 亮</span><span style=\"background-color: #FFFEFE\"> (</span><span style=\"background-color: #FFFEFE\"> ちょう</span><span style=\"background-color: #FFFEFE\"> なん</span><span style=\"background-color: #FFFEFE\"> ・</span><span style=\"background-color: #FFFEFE\"> りょう</span><span style=\"background-color: #FFFEFE\"> )</span><span style=\"background-color: #FFFEFE\"> は</span><span style=\"background-color: #FFFDFD\"> 真っ</span><span style=\"background-color: #FFFEFE\"> ##向</span><span style=\"background-color: #FFFEFE\"> から</span><span style=\"background-color: #FFECEC\"> 否定</span><span style=\"background-color: #FFDBDB\"> 。</span><span style=\"background-color: #FFFDFD\"> 自身</span><span style=\"background-color: #FFFEFE\"> の</span><span style=\"background-color: #FFFEFE\"> ツイッター</span><span style=\"background-color: #FFF8F8\"> にて</span><span style=\"background-color: #FFFEFE\"> 「</span><span style=\"background-color: #FFFEFE\"> 石井</span><span style=\"background-color: #FFFEFE\"> 慧</span><span style=\"background-color: #FFFEFE\"> の</span><span style=\"background-color: #FFFEFE\"> 体調</span><span style=\"background-color: #FFFEFE\"> は</span><span style=\"background-color: #FFFEFE\"> 良好</span><span style=\"background-color: #FFFEFE\"> だ</span><span style=\"background-color: #FFFDFD\"> そう</span><span style=\"background-color: #FFF7F7\"> です</span><span style=\"background-color: #FFFDFD\"> 。</span><span style=\"background-color: #FFFEFE\"> 」</span><span style=\"background-color: #FFFEFE\"> と</span><span style=\"background-color: #FFFBFB\"> コメント</span><span style=\"background-color: #FFF6F6\"> 、</span><span style=\"background-color: #FFF6F6\"> さらに</span><span style=\"background-color: #FFFEFE\"> 「</span><span style=\"background-color: #FFFEFE\"> 人</span><span style=\"background-color: #FFFEFE\"> の</span><span style=\"background-color: #FFFEFE\"> 人生</span><span style=\"background-color: #FFFEFE\"> や</span><span style=\"background-color: #FFFEFE\"> 生命</span><span style=\"background-color: #FFFEFE\"> に</span><span style=\"background-color: #FFFEFE\"> 関わる</span><span style=\"background-color: #FFFEFE\"> こと</span><span style=\"background-color: #FFFEFE\"> を</span><span style=\"background-color: #FFFEFE\"> 平</span><span style=\"background-color: #FFFEFE\"> ##気</span><span style=\"background-color: #FFFEFE\"> で</span><span style=\"background-color: #FFFEFE\"> ガ</span><span style=\"background-color: #FFFEFE\"> ##セ</span><span style=\"background-color: #FFFEFE\"> 流す</span><span style=\"background-color: #FFFEFE\"> 奴</span><span style=\"background-color: #FFFEFE\"> は</span><span style=\"background-color: #FFFEFE\"> 死ん</span><span style=\"background-color: #FFFEFE\"> だ</span><span style=\"background-color: #FFFEFE\"> ほう</span><span style=\"background-color: #FFFEFE\"> が</span><span style=\"background-color: #FFFEFE\"> 世</span><span style=\"background-color: #FFFEFE\"> の</span><span style=\"background-color: #FFFEFE\"> 為</span><span style=\"background-color: #FFFCFC\"> 。</span><span style=\"background-color: #FFF8F8\"> 」</span><span style=\"background-color: #FFFEFE\"> と</span><span style=\"background-color: #FFFAFA\"> 怒り</span><span style=\"background-color: #FFFEFE\"> の</span><span style=\"background-color: #FFFAFA\"> ツイート</span><span style=\"background-color: #FFFBFB\"> を</span><span style=\"background-color: #FFDADA\"> し</span><span style=\"background-color: #FFDEDE\"> て</span><span style=\"background-color: #FF8484\"> いる</span><span style=\"background-color: #FFFEFE\"> 。</span><span style=\"background-color: #FFF3F3\"> これ</span><span style=\"background-color: #FFFCFC\"> を</span><span style=\"background-color: #FFF8F8\"> もっ</span><span style=\"background-color: #FFFBFB\"> て</span><span style=\"background-color: #FFFEFE\"> 、</span><span style=\"background-color: #FFFEFE\"> 石井</span><span style=\"background-color: #FFFEFE\"> の</span><span style=\"background-color: #FFFEFE\"> 体調</span><span style=\"background-color: #FFFEFE\"> 不良</span><span style=\"background-color: #FFFEFE\"> が</span><span style=\"background-color: #FFFEFE\"> ただちに</span><span style=\"background-color: #FFFDFD\"> 否定</span><span style=\"background-color: #FFFCFC\"> さ</span><span style=\"background-color: #FFF6F6\"> れ</span><span style=\"background-color: #FFF4F4\"> た</span><span style=\"background-color: #FFFBFB\"> わけ</span><span style=\"background-color: #FFEFEF\"> で</span><span style=\"background-color: #FFFCFC\"> は</span><span style=\"background-color: #FF8787\"> ない</span><span style=\"background-color: #FFFEFE\"> 。</span><span style=\"background-color: #FFE6E6\"> しかし</span><span style=\"background-color: #FFFEFE\"> 、</span><span style=\"background-color: #FFFEFE\"> 石井</span><span style=\"background-color: #FFFEFE\"> から</span><span style=\"background-color: #FFFEFE\"> 近</span><span style=\"background-color: #FFFEFE\"> ##しい</span><span style=\"background-color: #FFFEFE\"> と</span><span style=\"background-color: #FFFEFE\"> 思わ</span><span style=\"background-color: #FFFEFE\"> れる</span><span style=\"background-color: #FFFEFE\"> 人間</span><span style=\"background-color: #FFFEFE\"> から</span><span style=\"background-color: #FFFEFE\"> の</span><span style=\"background-color: #FFFEFE\"> 情報</span><span style=\"background-color: #FFFBFB\"> で</span><span style=\"background-color: #FFFBFB\"> あり</span><span style=\"background-color: #FFFEFE\"> 、</span><span style=\"background-color: #FFFEFE\"> 信</span><span style=\"background-color: #FFFEFE\"> ##ぴ</span><span style=\"background-color: #FFFEFE\"> ##ょう</span><span style=\"background-color: #FFFBFB\"> 性</span><span style=\"background-color: #FFFDFD\"> は</span><span style=\"background-color: #FFE2E2\"> 高い</span><span style=\"background-color: #FFFDFD\"> と</span><span style=\"background-color: #FFE5E5\"> いえる</span><span style=\"background-color: #FFB6B6\"> だろ</span><span style=\"background-color: #FFB7B7\"> う</span><span style=\"background-color: #FFFEFE\"> 。</span><span style=\"background-color: #FFFCFC\"> この</span><span style=\"background-color: #FFF5F5\"> 件</span><span style=\"background-color: #FFF9F9\"> について</span><span style=\"background-color: #FFFDFD\"> 、</span><span style=\"background-color: #FFFEFE\"> 格闘技</span><span style=\"background-color: #FFFEFE\"> ファン</span><span style=\"background-color: #FFFAFA\"> から</span><span style=\"background-color: #FFE0E0\"> は</span><span style=\"background-color: #FFFDFD\"> 「</span><span style=\"background-color: #FFFEFE\"> 良かっ</span><span style=\"background-color: #FFFEFE\"> た</span><span style=\"background-color: #FFFEFE\"> 、</span><span style=\"background-color: #FFFEFE\"> 引退</span><span style=\"background-color: #FFFEFE\"> する</span><span style=\"background-color: #FFFEFE\"> 石井</span><span style=\"background-color: #FFFEFE\"> は</span><span style=\"background-color: #FFFEFE\"> 居</span><span style=\"background-color: #FFFEFE\"> なかっ</span><span style=\"background-color: #FFFEFE\"> た</span><span style=\"background-color: #FFFEFE\"> ん</span><span style=\"background-color: #FFFCFC\"> だ</span><span style=\"background-color: #FFF8F8\"> ...」</span><span style=\"background-color: #FFFEFE\"> ##「</span><span style=\"background-color: #FFFEFE\"> とり</span><span style=\"background-color: #FFFEFE\"> ##あ</span><span style=\"background-color: #FFFEFE\"> ##えず</span><span style=\"background-color: #FFFEFE\"> よかっ</span><span style=\"background-color: #FFFEFE\"> た</span><span style=\"background-color: #FFFEFE\"> 」</span><span style=\"background-color: #FFFCFC\"> といった</span><span style=\"background-color: #FFFDFD\"> 安堵</span><span style=\"background-color: #FFFEFE\"> の</span><span style=\"background-color: #FFF6F6\"> コメント</span><span style=\"background-color: #FFF4F4\"> が</span><span style=\"background-color: #FF5656\"> 並ん</span><span style=\"background-color: #FF9393\"> で</span><span style=\"background-color: #FF0000\"> いる</span><span style=\"background-color: #FFFEFE\"> 。</span><br><br>[BERTのAttentionを可視化_6]<br><span style=\"background-color: #FFFEFE\"> [CLS]</span><span style=\"background-color: #FFFEFE\"> ヒ</span><span style=\"background-color: #FFFEFE\"> ##ョー</span><span style=\"background-color: #FFFEFE\"> ##ドル</span><span style=\"background-color: #FFFEFE\"> 戦</span><span style=\"background-color: #FFFEFE\"> で</span><span style=\"background-color: #FFFEFE\"> KO</span><span style=\"background-color: #FFFEFE\"> さ</span><span style=\"background-color: #FFFEFE\"> れ</span><span style=\"background-color: #FFFEFE\"> 病院</span><span style=\"background-color: #FFFEFE\"> に</span><span style=\"background-color: #FFFEFE\"> 直行</span><span style=\"background-color: #FFFEFE\"> し</span><span style=\"background-color: #FFFEFE\"> た</span><span style=\"background-color: #FFFEFE\"> 石井</span><span style=\"background-color: #FFFEFE\"> 慧</span><span style=\"background-color: #FFFEFE\"> について</span><span style=\"background-color: #FFFEFE\"> 、</span><span style=\"background-color: #FFFDFD\"> 30</span><span style=\"background-color: #FFFEFE\"> 日</span><span style=\"background-color: #FFFEFE\"> に</span><span style=\"background-color: #FFFEFE\"> 脳</span><span style=\"background-color: #FFFEFE\"> 障害</span><span style=\"background-color: #FFFEFE\"> により</span><span style=\"background-color: #FFFEFE\"> 引退</span><span style=\"background-color: #FFFEFE\"> 危機</span><span style=\"background-color: #FFFDFD\"> という</span><span style=\"background-color: #FFFEFE\"> 報道</span><span style=\"background-color: #FFFEFE\"> が</span><span style=\"background-color: #FFFEFE\"> 行なわ</span><span style=\"background-color: #FFFCFC\"> れ</span><span style=\"background-color: #FFE4E4\"> た</span><span style=\"background-color: #FFFEFE\"> 。</span><span style=\"background-color: #FFFEFE\"> 記事</span><span style=\"background-color: #FFFEFE\"> に</span><span style=\"background-color: #FFFEFE\"> は</span><span style=\"background-color: #FFFEFE\"> 「</span><span style=\"background-color: #FFFEFE\"> 一説</span><span style=\"background-color: #FFFEFE\"> に</span><span style=\"background-color: #FFFEFE\"> は</span><span style=\"background-color: #FFFEFE\"> 『</span><span style=\"background-color: #FFFEFE\"> 脳</span><span style=\"background-color: #FFFEFE\"> 浮</span><span style=\"background-color: #FFFEFE\"> ##腫</span><span style=\"background-color: #FFFEFE\"> 』</span><span style=\"background-color: #FFFEFE\"> と</span><span style=\"background-color: #FFFEFE\"> も</span><span style=\"background-color: #FFFEFE\"> 言わ</span><span style=\"background-color: #FFFEFE\"> れ</span><span style=\"background-color: #FFFEFE\"> て</span><span style=\"background-color: #FFFCFC\"> い</span><span style=\"background-color: #FFC3C3\"> ます</span><span style=\"background-color: #FFCBCB\"> 」</span><span style=\"background-color: #FFFDFD\"> (</span><span style=\"background-color: #FFFEFE\"> 格闘技</span><span style=\"background-color: #FFFEFE\"> 事情</span><span style=\"background-color: #FFFEFE\"> 通</span><span style=\"background-color: #FFFEFE\"> )</span><span style=\"background-color: #FFE9E9\"> と</span><span style=\"background-color: #FFF7F7\"> あり</span><span style=\"background-color: #FFF9F9\"> 、</span><span style=\"background-color: #FFFEFE\"> 石井</span><span style=\"background-color: #FFFEFE\"> の</span><span style=\"background-color: #FFFEFE\"> 容</span><span style=\"background-color: #FFFEFE\"> ##態</span><span style=\"background-color: #FFFEFE\"> は</span><span style=\"background-color: #FFFEFE\"> 深刻</span><span style=\"background-color: #FFFEFE\"> な</span><span style=\"background-color: #FFFEFE\"> もの</span><span style=\"background-color: #FFFEFE\"> と</span><span style=\"background-color: #FFFEFE\"> 思わ</span><span style=\"background-color: #FFF3F3\"> れ</span><span style=\"background-color: #FFAEAE\"> た</span><span style=\"background-color: #FFFEFE\"> 。</span><span style=\"background-color: #FFFDFD\"> しかし</span><span style=\"background-color: #FFFEFE\"> 、</span><span style=\"background-color: #FFFDFD\"> この</span><span style=\"background-color: #FFFDFD\"> 件</span><span style=\"background-color: #FFFEFE\"> について</span><span style=\"background-color: #FFFEFE\"> 元</span><span style=\"background-color: #FFFEFE\"> DEEP</span><span style=\"background-color: #FFFEFE\"> ミドル</span><span style=\"background-color: #FFFEFE\"> 級</span><span style=\"background-color: #FFFEFE\"> 王者</span><span style=\"background-color: #FFFEFE\"> で</span><span style=\"background-color: #FFFEFE\"> ある</span><span style=\"background-color: #FFFEFE\"> 長</span><span style=\"background-color: #FFFEFE\"> ##南</span><span style=\"background-color: #FFFEFE\"> 亮</span><span style=\"background-color: #FFFEFE\"> (</span><span style=\"background-color: #FFFEFE\"> ちょう</span><span style=\"background-color: #FFFEFE\"> なん</span><span style=\"background-color: #FFFEFE\"> ・</span><span style=\"background-color: #FFFEFE\"> りょう</span><span style=\"background-color: #FFFEFE\"> )</span><span style=\"background-color: #FFFEFE\"> は</span><span style=\"background-color: #FFE5E5\"> 真っ</span><span style=\"background-color: #FFFEFE\"> ##向</span><span style=\"background-color: #FFFEFE\"> から</span><span style=\"background-color: #FFFCFC\"> 否定</span><span style=\"background-color: #FFEAEA\"> 。</span><span style=\"background-color: #FFFEFE\"> 自身</span><span style=\"background-color: #FFFEFE\"> の</span><span style=\"background-color: #FFFEFE\"> ツイッター</span><span style=\"background-color: #FFFEFE\"> にて</span><span style=\"background-color: #FFFEFE\"> 「</span><span style=\"background-color: #FFFEFE\"> 石井</span><span style=\"background-color: #FFFEFE\"> 慧</span><span style=\"background-color: #FFFEFE\"> の</span><span style=\"background-color: #FFFEFE\"> 体調</span><span style=\"background-color: #FFFEFE\"> は</span><span style=\"background-color: #FFFEFE\"> 良好</span><span style=\"background-color: #FFFDFD\"> だ</span><span style=\"background-color: #FFF5F5\"> そう</span><span style=\"background-color: #FFF8F8\"> です</span><span style=\"background-color: #FFFDFD\"> 。</span><span style=\"background-color: #FFFDFD\"> 」</span><span style=\"background-color: #FFFAFA\"> と</span><span style=\"background-color: #FFFEFE\"> コメント</span><span style=\"background-color: #FF5A5A\"> 、</span><span style=\"background-color: #FFFBFB\"> さらに</span><span style=\"background-color: #FFFEFE\"> 「</span><span style=\"background-color: #FFFEFE\"> 人</span><span style=\"background-color: #FFFEFE\"> の</span><span style=\"background-color: #FFFEFE\"> 人生</span><span style=\"background-color: #FFFEFE\"> や</span><span style=\"background-color: #FFFEFE\"> 生命</span><span style=\"background-color: #FFFEFE\"> に</span><span style=\"background-color: #FFFEFE\"> 関わる</span><span style=\"background-color: #FFFEFE\"> こと</span><span style=\"background-color: #FFFEFE\"> を</span><span style=\"background-color: #FFFEFE\"> 平</span><span style=\"background-color: #FFFEFE\"> ##気</span><span style=\"background-color: #FFFEFE\"> で</span><span style=\"background-color: #FFFEFE\"> ガ</span><span style=\"background-color: #FFFEFE\"> ##セ</span><span style=\"background-color: #FFFEFE\"> 流す</span><span style=\"background-color: #FFFEFE\"> 奴</span><span style=\"background-color: #FFFEFE\"> は</span><span style=\"background-color: #FFFEFE\"> 死ん</span><span style=\"background-color: #FFFEFE\"> だ</span><span style=\"background-color: #FFFEFE\"> ほう</span><span style=\"background-color: #FFFEFE\"> が</span><span style=\"background-color: #FFFEFE\"> 世</span><span style=\"background-color: #FFFEFE\"> の</span><span style=\"background-color: #FFFEFE\"> 為</span><span style=\"background-color: #FFFEFE\"> 。</span><span style=\"background-color: #FFFAFA\"> 」</span><span style=\"background-color: #FFFBFB\"> と</span><span style=\"background-color: #FFFEFE\"> 怒り</span><span style=\"background-color: #FFFDFD\"> の</span><span style=\"background-color: #FFFEFE\"> ツイート</span><span style=\"background-color: #FFFDFD\"> を</span><span style=\"background-color: #FFFEFE\"> し</span><span style=\"background-color: #FFECEC\"> て</span><span style=\"background-color: #FFE8E8\"> いる</span><span style=\"background-color: #FFFEFE\"> 。</span><span style=\"background-color: #FFD3D3\"> これ</span><span style=\"background-color: #FFD2D2\"> を</span><span style=\"background-color: #FFEBEB\"> もっ</span><span style=\"background-color: #FFFDFD\"> て</span><span style=\"background-color: #FFFCFC\"> 、</span><span style=\"background-color: #FFFEFE\"> 石井</span><span style=\"background-color: #FFFEFE\"> の</span><span style=\"background-color: #FFFEFE\"> 体調</span><span style=\"background-color: #FFFEFE\"> 不良</span><span style=\"background-color: #FFFEFE\"> が</span><span style=\"background-color: #FFFEFE\"> ただちに</span><span style=\"background-color: #FFFEFE\"> 否定</span><span style=\"background-color: #FFFEFE\"> さ</span><span style=\"background-color: #FFFEFE\"> れ</span><span style=\"background-color: #FFFBFB\"> た</span><span style=\"background-color: #FFFDFD\"> わけ</span><span style=\"background-color: #FFFEFE\"> で</span><span style=\"background-color: #FFFEFE\"> は</span><span style=\"background-color: #FF5F5F\"> ない</span><span style=\"background-color: #FFFEFE\"> 。</span><span style=\"background-color: #FFF3F3\"> しかし</span><span style=\"background-color: #FFFCFC\"> 、</span><span style=\"background-color: #FFFEFE\"> 石井</span><span style=\"background-color: #FFFEFE\"> から</span><span style=\"background-color: #FFFEFE\"> 近</span><span style=\"background-color: #FFFEFE\"> ##しい</span><span style=\"background-color: #FFFEFE\"> と</span><span style=\"background-color: #FFFEFE\"> 思わ</span><span style=\"background-color: #FFFEFE\"> れる</span><span style=\"background-color: #FFFEFE\"> 人間</span><span style=\"background-color: #FFFEFE\"> から</span><span style=\"background-color: #FFFEFE\"> の</span><span style=\"background-color: #FFFEFE\"> 情報</span><span style=\"background-color: #FFF9F9\"> で</span><span style=\"background-color: #FFFBFB\"> あり</span><span style=\"background-color: #FFFCFC\"> 、</span><span style=\"background-color: #FFFEFE\"> 信</span><span style=\"background-color: #FFFEFE\"> ##ぴ</span><span style=\"background-color: #FFFEFE\"> ##ょう</span><span style=\"background-color: #FFFEFE\"> 性</span><span style=\"background-color: #FFFEFE\"> は</span><span style=\"background-color: #FFFEFE\"> 高い</span><span style=\"background-color: #FFFEFE\"> と</span><span style=\"background-color: #FFF9F9\"> いえる</span><span style=\"background-color: #FF0000\"> だろ</span><span style=\"background-color: #FFF8F8\"> う</span><span style=\"background-color: #FFFEFE\"> 。</span><span style=\"background-color: #FFFBFB\"> この</span><span style=\"background-color: #FFFEFE\"> 件</span><span style=\"background-color: #FFFEFE\"> について</span><span style=\"background-color: #FFFEFE\"> 、</span><span style=\"background-color: #FFFEFE\"> 格闘技</span><span style=\"background-color: #FFFEFE\"> ファン</span><span style=\"background-color: #FFFEFE\"> から</span><span style=\"background-color: #FFFEFE\"> は</span><span style=\"background-color: #FFFEFE\"> 「</span><span style=\"background-color: #FFFEFE\"> 良かっ</span><span style=\"background-color: #FFFEFE\"> た</span><span style=\"background-color: #FFFEFE\"> 、</span><span style=\"background-color: #FFFEFE\"> 引退</span><span style=\"background-color: #FFFEFE\"> する</span><span style=\"background-color: #FFFEFE\"> 石井</span><span style=\"background-color: #FFFEFE\"> は</span><span style=\"background-color: #FFFEFE\"> 居</span><span style=\"background-color: #FFFEFE\"> なかっ</span><span style=\"background-color: #FFFEFE\"> た</span><span style=\"background-color: #FFFBFB\"> ん</span><span style=\"background-color: #FFFDFD\"> だ</span><span style=\"background-color: #FFFAFA\"> ...」</span><span style=\"background-color: #FFFEFE\"> ##「</span><span style=\"background-color: #FFFEFE\"> とり</span><span style=\"background-color: #FFFEFE\"> ##あ</span><span style=\"background-color: #FFFEFE\"> ##えず</span><span style=\"background-color: #FFFEFE\"> よかっ</span><span style=\"background-color: #FFFEFE\"> た</span><span style=\"background-color: #FFFEFE\"> 」</span><span style=\"background-color: #FFF6F6\"> といった</span><span style=\"background-color: #FFFEFE\"> 安堵</span><span style=\"background-color: #FFFDFD\"> の</span><span style=\"background-color: #FFFEFE\"> コメント</span><span style=\"background-color: #FFFEFE\"> が</span><span style=\"background-color: #FFF6F6\"> 並ん</span><span style=\"background-color: #FFF5F5\"> で</span><span style=\"background-color: #FFF6F6\"> いる</span><span style=\"background-color: #FFFEFE\"> 。</span><br><br>[BERTのAttentionを可視化_7]<br><span style=\"background-color: #FFFEFE\"> [CLS]</span><span style=\"background-color: #FFFEFE\"> ヒ</span><span style=\"background-color: #FFFEFE\"> ##ョー</span><span style=\"background-color: #FFFEFE\"> ##ドル</span><span style=\"background-color: #FFFEFE\"> 戦</span><span style=\"background-color: #FFFEFE\"> で</span><span style=\"background-color: #FFFEFE\"> KO</span><span style=\"background-color: #FFFEFE\"> さ</span><span style=\"background-color: #FFFEFE\"> れ</span><span style=\"background-color: #FFFEFE\"> 病院</span><span style=\"background-color: #FFFEFE\"> に</span><span style=\"background-color: #FFFEFE\"> 直行</span><span style=\"background-color: #FFFEFE\"> し</span><span style=\"background-color: #FFFEFE\"> た</span><span style=\"background-color: #FFFEFE\"> 石井</span><span style=\"background-color: #FFFEFE\"> 慧</span><span style=\"background-color: #FFFEFE\"> について</span><span style=\"background-color: #FFFEFE\"> 、</span><span style=\"background-color: #FFFEFE\"> 30</span><span style=\"background-color: #FFFEFE\"> 日</span><span style=\"background-color: #FFFEFE\"> に</span><span style=\"background-color: #FFFEFE\"> 脳</span><span style=\"background-color: #FFFEFE\"> 障害</span><span style=\"background-color: #FFFEFE\"> により</span><span style=\"background-color: #FFFEFE\"> 引退</span><span style=\"background-color: #FFFEFE\"> 危機</span><span style=\"background-color: #FFFEFE\"> という</span><span style=\"background-color: #FFF3F3\"> 報道</span><span style=\"background-color: #FFFEFE\"> が</span><span style=\"background-color: #FFFEFE\"> 行なわ</span><span style=\"background-color: #FFFEFE\"> れ</span><span style=\"background-color: #FFFEFE\"> た</span><span style=\"background-color: #FFFEFE\"> 。</span><span style=\"background-color: #FF0000\"> 記事</span><span style=\"background-color: #FFFEFE\"> に</span><span style=\"background-color: #FFFEFE\"> は</span><span style=\"background-color: #FFFEFE\"> 「</span><span style=\"background-color: #FFFEFE\"> 一説</span><span style=\"background-color: #FFFEFE\"> に</span><span style=\"background-color: #FFFEFE\"> は</span><span style=\"background-color: #FFFEFE\"> 『</span><span style=\"background-color: #FFFEFE\"> 脳</span><span style=\"background-color: #FFFEFE\"> 浮</span><span style=\"background-color: #FFFEFE\"> ##腫</span><span style=\"background-color: #FFFEFE\"> 』</span><span style=\"background-color: #FFFEFE\"> と</span><span style=\"background-color: #FFFEFE\"> も</span><span style=\"background-color: #FFFEFE\"> 言わ</span><span style=\"background-color: #FFFEFE\"> れ</span><span style=\"background-color: #FFFEFE\"> て</span><span style=\"background-color: #FFFEFE\"> い</span><span style=\"background-color: #FFFEFE\"> ます</span><span style=\"background-color: #FFFEFE\"> 」</span><span style=\"background-color: #FFFEFE\"> (</span><span style=\"background-color: #FFFEFE\"> 格闘技</span><span style=\"background-color: #FFFEFE\"> 事情</span><span style=\"background-color: #FFFEFE\"> 通</span><span style=\"background-color: #FFFEFE\"> )</span><span style=\"background-color: #FFFEFE\"> と</span><span style=\"background-color: #FFFEFE\"> あり</span><span style=\"background-color: #FFFEFE\"> 、</span><span style=\"background-color: #FFFEFE\"> 石井</span><span style=\"background-color: #FFFEFE\"> の</span><span style=\"background-color: #FFFEFE\"> 容</span><span style=\"background-color: #FFFEFE\"> ##態</span><span style=\"background-color: #FFFEFE\"> は</span><span style=\"background-color: #FFFEFE\"> 深刻</span><span style=\"background-color: #FFFEFE\"> な</span><span style=\"background-color: #FFFEFE\"> もの</span><span style=\"background-color: #FFFEFE\"> と</span><span style=\"background-color: #FFFEFE\"> 思わ</span><span style=\"background-color: #FFFEFE\"> れ</span><span style=\"background-color: #FFFEFE\"> た</span><span style=\"background-color: #FFFEFE\"> 。</span><span style=\"background-color: #FFEEEE\"> しかし</span><span style=\"background-color: #FFFDFD\"> 、</span><span style=\"background-color: #FFF4F4\"> この</span><span style=\"background-color: #FFF7F7\"> 件</span><span style=\"background-color: #FFFEFE\"> について</span><span style=\"background-color: #FFFEFE\"> 元</span><span style=\"background-color: #FFFEFE\"> DEEP</span><span style=\"background-color: #FFFEFE\"> ミドル</span><span style=\"background-color: #FFFEFE\"> 級</span><span style=\"background-color: #FFFEFE\"> 王者</span><span style=\"background-color: #FFFEFE\"> で</span><span style=\"background-color: #FFFEFE\"> ある</span><span style=\"background-color: #FFFEFE\"> 長</span><span style=\"background-color: #FFFEFE\"> ##南</span><span style=\"background-color: #FFFEFE\"> 亮</span><span style=\"background-color: #FFFEFE\"> (</span><span style=\"background-color: #FFFEFE\"> ちょう</span><span style=\"background-color: #FFFEFE\"> なん</span><span style=\"background-color: #FFFEFE\"> ・</span><span style=\"background-color: #FFFEFE\"> りょう</span><span style=\"background-color: #FFFEFE\"> )</span><span style=\"background-color: #FFFEFE\"> は</span><span style=\"background-color: #FFFEFE\"> 真っ</span><span style=\"background-color: #FFFEFE\"> ##向</span><span style=\"background-color: #FFFEFE\"> から</span><span style=\"background-color: #FFFEFE\"> 否定</span><span style=\"background-color: #FFFEFE\"> 。</span><span style=\"background-color: #FFFEFE\"> 自身</span><span style=\"background-color: #FFFEFE\"> の</span><span style=\"background-color: #FFFEFE\"> ツイッター</span><span style=\"background-color: #FFFEFE\"> にて</span><span style=\"background-color: #FFFEFE\"> 「</span><span style=\"background-color: #FFFEFE\"> 石井</span><span style=\"background-color: #FFFEFE\"> 慧</span><span style=\"background-color: #FFFEFE\"> の</span><span style=\"background-color: #FFFEFE\"> 体調</span><span style=\"background-color: #FFFEFE\"> は</span><span style=\"background-color: #FFFEFE\"> 良好</span><span style=\"background-color: #FFFEFE\"> だ</span><span style=\"background-color: #FFFEFE\"> そう</span><span style=\"background-color: #FFFEFE\"> です</span><span style=\"background-color: #FFFEFE\"> 。</span><span style=\"background-color: #FFFEFE\"> 」</span><span style=\"background-color: #FFFEFE\"> と</span><span style=\"background-color: #FFFEFE\"> コメント</span><span style=\"background-color: #FFFEFE\"> 、</span><span style=\"background-color: #FFFEFE\"> さらに</span><span style=\"background-color: #FFFEFE\"> 「</span><span style=\"background-color: #FFFEFE\"> 人</span><span style=\"background-color: #FFFEFE\"> の</span><span style=\"background-color: #FFFEFE\"> 人生</span><span style=\"background-color: #FFFEFE\"> や</span><span style=\"background-color: #FFFEFE\"> 生命</span><span style=\"background-color: #FFFEFE\"> に</span><span style=\"background-color: #FFFEFE\"> 関わる</span><span style=\"background-color: #FFFEFE\"> こと</span><span style=\"background-color: #FFFEFE\"> を</span><span style=\"background-color: #FFFEFE\"> 平</span><span style=\"background-color: #FFFEFE\"> ##気</span><span style=\"background-color: #FFFEFE\"> で</span><span style=\"background-color: #FFFEFE\"> ガ</span><span style=\"background-color: #FFFEFE\"> ##セ</span><span style=\"background-color: #FFFEFE\"> 流す</span><span style=\"background-color: #FFFEFE\"> 奴</span><span style=\"background-color: #FFFEFE\"> は</span><span style=\"background-color: #FFFEFE\"> 死ん</span><span style=\"background-color: #FFFEFE\"> だ</span><span style=\"background-color: #FFFEFE\"> ほう</span><span style=\"background-color: #FFFEFE\"> が</span><span style=\"background-color: #FFFEFE\"> 世</span><span style=\"background-color: #FFFEFE\"> の</span><span style=\"background-color: #FFFEFE\"> 為</span><span style=\"background-color: #FFFEFE\"> 。</span><span style=\"background-color: #FFFEFE\"> 」</span><span style=\"background-color: #FFFEFE\"> と</span><span style=\"background-color: #FFFDFD\"> 怒り</span><span style=\"background-color: #FFFEFE\"> の</span><span style=\"background-color: #FFFEFE\"> ツイート</span><span style=\"background-color: #FFFEFE\"> を</span><span style=\"background-color: #FFFEFE\"> し</span><span style=\"background-color: #FFFEFE\"> て</span><span style=\"background-color: #FFFEFE\"> いる</span><span style=\"background-color: #FFFEFE\"> 。</span><span style=\"background-color: #FFC0C0\"> これ</span><span style=\"background-color: #FFE3E3\"> を</span><span style=\"background-color: #FFDCDC\"> もっ</span><span style=\"background-color: #FFFDFD\"> て</span><span style=\"background-color: #FFFDFD\"> 、</span><span style=\"background-color: #FFFEFE\"> 石井</span><span style=\"background-color: #FFFEFE\"> の</span><span style=\"background-color: #FFFEFE\"> 体調</span><span style=\"background-color: #FFFEFE\"> 不良</span><span style=\"background-color: #FFF6F6\"> が</span><span style=\"background-color: #FFFEFE\"> ただちに</span><span style=\"background-color: #FFFCFC\"> 否定</span><span style=\"background-color: #FFF6F6\"> さ</span><span style=\"background-color: #FFFBFB\"> れ</span><span style=\"background-color: #FFFDFD\"> た</span><span style=\"background-color: #FFFCFC\"> わけ</span><span style=\"background-color: #FFFEFE\"> で</span><span style=\"background-color: #FFFEFE\"> は</span><span style=\"background-color: #FFF6F6\"> ない</span><span style=\"background-color: #FFFEFE\"> 。</span><span style=\"background-color: #FFAEAE\"> しかし</span><span style=\"background-color: #FFFEFE\"> 、</span><span style=\"background-color: #FFFEFE\"> 石井</span><span style=\"background-color: #FFFEFE\"> から</span><span style=\"background-color: #FFFEFE\"> 近</span><span style=\"background-color: #FFFEFE\"> ##しい</span><span style=\"background-color: #FFFEFE\"> と</span><span style=\"background-color: #FFFEFE\"> 思わ</span><span style=\"background-color: #FFFEFE\"> れる</span><span style=\"background-color: #FFFEFE\"> 人間</span><span style=\"background-color: #FFFEFE\"> から</span><span style=\"background-color: #FFFEFE\"> の</span><span style=\"background-color: #FFFDFD\"> 情報</span><span style=\"background-color: #FFFEFE\"> で</span><span style=\"background-color: #FFFDFD\"> あり</span><span style=\"background-color: #FFFEFE\"> 、</span><span style=\"background-color: #FFFEFE\"> 信</span><span style=\"background-color: #FFFEFE\"> ##ぴ</span><span style=\"background-color: #FFFEFE\"> ##ょう</span><span style=\"background-color: #FFFCFC\"> 性</span><span style=\"background-color: #FFFEFE\"> は</span><span style=\"background-color: #FFFEFE\"> 高い</span><span style=\"background-color: #FFFEFE\"> と</span><span style=\"background-color: #FFFEFE\"> いえる</span><span style=\"background-color: #FFFDFD\"> だろ</span><span style=\"background-color: #FFFDFD\"> う</span><span style=\"background-color: #FFFEFE\"> 。</span><span style=\"background-color: #FFC7C7\"> この</span><span style=\"background-color: #FFEEEE\"> 件</span><span style=\"background-color: #FFFDFD\"> について</span><span style=\"background-color: #FFFEFE\"> 、</span><span style=\"background-color: #FFFEFE\"> 格闘技</span><span style=\"background-color: #FFFEFE\"> ファン</span><span style=\"background-color: #FFFEFE\"> から</span><span style=\"background-color: #FFFEFE\"> は</span><span style=\"background-color: #FFFEFE\"> 「</span><span style=\"background-color: #FFFEFE\"> 良かっ</span><span style=\"background-color: #FFFEFE\"> た</span><span style=\"background-color: #FFFEFE\"> 、</span><span style=\"background-color: #FFFEFE\"> 引退</span><span style=\"background-color: #FFFEFE\"> する</span><span style=\"background-color: #FFFEFE\"> 石井</span><span style=\"background-color: #FFFEFE\"> は</span><span style=\"background-color: #FFFEFE\"> 居</span><span style=\"background-color: #FFFEFE\"> なかっ</span><span style=\"background-color: #FFFEFE\"> た</span><span style=\"background-color: #FFFEFE\"> ん</span><span style=\"background-color: #FFFEFE\"> だ</span><span style=\"background-color: #FFFEFE\"> ...」</span><span style=\"background-color: #FFFEFE\"> ##「</span><span style=\"background-color: #FFFEFE\"> とり</span><span style=\"background-color: #FFFEFE\"> ##あ</span><span style=\"background-color: #FFFEFE\"> ##えず</span><span style=\"background-color: #FFFEFE\"> よかっ</span><span style=\"background-color: #FFFEFE\"> た</span><span style=\"background-color: #FFFEFE\"> 」</span><span style=\"background-color: #FFFEFE\"> といった</span><span style=\"background-color: #FFFEFE\"> 安堵</span><span style=\"background-color: #FFFEFE\"> の</span><span style=\"background-color: #FFFEFE\"> コメント</span><span style=\"background-color: #FFFEFE\"> が</span><span style=\"background-color: #FFFEFE\"> 並ん</span><span style=\"background-color: #FFFEFE\"> で</span><span style=\"background-color: #FFFEFE\"> いる</span><span style=\"background-color: #FFFEFE\"> 。</span><br><br>[BERTのAttentionを可視化_8]<br><span style=\"background-color: #FFFEFE\"> [CLS]</span><span style=\"background-color: #FFFEFE\"> ヒ</span><span style=\"background-color: #FFFEFE\"> ##ョー</span><span style=\"background-color: #FFFEFE\"> ##ドル</span><span style=\"background-color: #FFFEFE\"> 戦</span><span style=\"background-color: #FFFEFE\"> で</span><span style=\"background-color: #FFFEFE\"> KO</span><span style=\"background-color: #FFFEFE\"> さ</span><span style=\"background-color: #FFFEFE\"> れ</span><span style=\"background-color: #FFFFFF\"> 病院</span><span style=\"background-color: #FFFFFF\"> に</span><span style=\"background-color: #FFFEFE\"> 直行</span><span style=\"background-color: #FFFEFE\"> し</span><span style=\"background-color: #FFFEFE\"> た</span><span style=\"background-color: #FFFEFE\"> 石井</span><span style=\"background-color: #FFFEFE\"> 慧</span><span style=\"background-color: #FFFEFE\"> について</span><span style=\"background-color: #FFFEFE\"> 、</span><span style=\"background-color: #FFFEFE\"> 30</span><span style=\"background-color: #FFFEFE\"> 日</span><span style=\"background-color: #FFFEFE\"> に</span><span style=\"background-color: #FFFEFE\"> 脳</span><span style=\"background-color: #FFFEFE\"> 障害</span><span style=\"background-color: #FFFEFE\"> により</span><span style=\"background-color: #FFFEFE\"> 引退</span><span style=\"background-color: #FFFEFE\"> 危機</span><span style=\"background-color: #FFFEFE\"> という</span><span style=\"background-color: #FFFEFE\"> 報道</span><span style=\"background-color: #FFFEFE\"> が</span><span style=\"background-color: #FFFEFE\"> 行なわ</span><span style=\"background-color: #FFCCCC\"> れ</span><span style=\"background-color: #FF8F8F\"> た</span><span style=\"background-color: #FFFEFE\"> 。</span><span style=\"background-color: #FFFEFE\"> 記事</span><span style=\"background-color: #FFFEFE\"> に</span><span style=\"background-color: #FFFEFE\"> は</span><span style=\"background-color: #FFFEFE\"> 「</span><span style=\"background-color: #FFFEFE\"> 一説</span><span style=\"background-color: #FFFEFE\"> に</span><span style=\"background-color: #FFFEFE\"> は</span><span style=\"background-color: #FFFFFF\"> 『</span><span style=\"background-color: #FFFFFF\"> 脳</span><span style=\"background-color: #FFFEFE\"> 浮</span><span style=\"background-color: #FFFEFE\"> ##腫</span><span style=\"background-color: #FFFFFF\"> 』</span><span style=\"background-color: #FFFEFE\"> と</span><span style=\"background-color: #FFFEFE\"> も</span><span style=\"background-color: #FFFEFE\"> 言わ</span><span style=\"background-color: #FFFEFE\"> れ</span><span style=\"background-color: #FFFEFE\"> て</span><span style=\"background-color: #FFFEFE\"> い</span><span style=\"background-color: #FFFEFE\"> ます</span><span style=\"background-color: #FFFEFE\"> 」</span><span style=\"background-color: #FFFEFE\"> (</span><span style=\"background-color: #FFFEFE\"> 格闘技</span><span style=\"background-color: #FFFEFE\"> 事情</span><span style=\"background-color: #FFFEFE\"> 通</span><span style=\"background-color: #FFFEFE\"> )</span><span style=\"background-color: #FFFEFE\"> と</span><span style=\"background-color: #FFFEFE\"> あり</span><span style=\"background-color: #FFFEFE\"> 、</span><span style=\"background-color: #FFFEFE\"> 石井</span><span style=\"background-color: #FFFEFE\"> の</span><span style=\"background-color: #FFFEFE\"> 容</span><span style=\"background-color: #FFFEFE\"> ##態</span><span style=\"background-color: #FFFEFE\"> は</span><span style=\"background-color: #FFFEFE\"> 深刻</span><span style=\"background-color: #FFFEFE\"> な</span><span style=\"background-color: #FFFEFE\"> もの</span><span style=\"background-color: #FFFEFE\"> と</span><span style=\"background-color: #FFFEFE\"> 思わ</span><span style=\"background-color: #FFE7E7\"> れ</span><span style=\"background-color: #FFAEAE\"> た</span><span style=\"background-color: #FFFEFE\"> 。</span><span style=\"background-color: #FFFEFE\"> しかし</span><span style=\"background-color: #FFFEFE\"> 、</span><span style=\"background-color: #FFFEFE\"> この</span><span style=\"background-color: #FFFEFE\"> 件</span><span style=\"background-color: #FFFEFE\"> について</span><span style=\"background-color: #FFFEFE\"> 元</span><span style=\"background-color: #FFFEFE\"> DEEP</span><span style=\"background-color: #FFFEFE\"> ミドル</span><span style=\"background-color: #FFFEFE\"> 級</span><span style=\"background-color: #FFFEFE\"> 王者</span><span style=\"background-color: #FFFEFE\"> で</span><span style=\"background-color: #FFFEFE\"> ある</span><span style=\"background-color: #FFFEFE\"> 長</span><span style=\"background-color: #FFFEFE\"> ##南</span><span style=\"background-color: #FFFEFE\"> 亮</span><span style=\"background-color: #FFFEFE\"> (</span><span style=\"background-color: #FFFFFF\"> ちょう</span><span style=\"background-color: #FFFEFE\"> なん</span><span style=\"background-color: #FFFEFE\"> ・</span><span style=\"background-color: #FFFEFE\"> りょう</span><span style=\"background-color: #FFFEFE\"> )</span><span style=\"background-color: #FFFEFE\"> は</span><span style=\"background-color: #FFFEFE\"> 真っ</span><span style=\"background-color: #FFFEFE\"> ##向</span><span style=\"background-color: #FFFEFE\"> から</span><span style=\"background-color: #FFFDFD\"> 否定</span><span style=\"background-color: #FFFBFB\"> 。</span><span style=\"background-color: #FFFEFE\"> 自身</span><span style=\"background-color: #FFFEFE\"> の</span><span style=\"background-color: #FFFEFE\"> ツイッター</span><span style=\"background-color: #FFFEFE\"> にて</span><span style=\"background-color: #FFFEFE\"> 「</span><span style=\"background-color: #FFFEFE\"> 石井</span><span style=\"background-color: #FFFEFE\"> 慧</span><span style=\"background-color: #FFFEFE\"> の</span><span style=\"background-color: #FFFEFE\"> 体調</span><span style=\"background-color: #FFFEFE\"> は</span><span style=\"background-color: #FFFEFE\"> 良好</span><span style=\"background-color: #FFFEFE\"> だ</span><span style=\"background-color: #FFFEFE\"> そう</span><span style=\"background-color: #FFFEFE\"> です</span><span style=\"background-color: #FFFEFE\"> 。</span><span style=\"background-color: #FFFEFE\"> 」</span><span style=\"background-color: #FFFEFE\"> と</span><span style=\"background-color: #FFFEFE\"> コメント</span><span style=\"background-color: #FFFEFE\"> 、</span><span style=\"background-color: #FFFEFE\"> さらに</span><span style=\"background-color: #FFFEFE\"> 「</span><span style=\"background-color: #FFFFFF\"> 人</span><span style=\"background-color: #FFFFFF\"> の</span><span style=\"background-color: #FFFFFF\"> 人生</span><span style=\"background-color: #FFFFFF\"> や</span><span style=\"background-color: #FFFFFF\"> 生命</span><span style=\"background-color: #FFFFFF\"> に</span><span style=\"background-color: #FFFFFF\"> 関わる</span><span style=\"background-color: #FFFFFF\"> こと</span><span style=\"background-color: #FFFFFF\"> を</span><span style=\"background-color: #FFFFFF\"> 平</span><span style=\"background-color: #FFFEFE\"> ##気</span><span style=\"background-color: #FFFEFE\"> で</span><span style=\"background-color: #FFFFFF\"> ガ</span><span style=\"background-color: #FFFEFE\"> ##セ</span><span style=\"background-color: #FFFEFE\"> 流す</span><span style=\"background-color: #FFFEFE\"> 奴</span><span style=\"background-color: #FFFFFF\"> は</span><span style=\"background-color: #FFFEFE\"> 死ん</span><span style=\"background-color: #FFFEFE\"> だ</span><span style=\"background-color: #FFFEFE\"> ほう</span><span style=\"background-color: #FFFEFE\"> が</span><span style=\"background-color: #FFFFFF\"> 世</span><span style=\"background-color: #FFFFFF\"> の</span><span style=\"background-color: #FFFEFE\"> 為</span><span style=\"background-color: #FFFEFE\"> 。</span><span style=\"background-color: #FFFEFE\"> 」</span><span style=\"background-color: #FFFEFE\"> と</span><span style=\"background-color: #FFFEFE\"> 怒り</span><span style=\"background-color: #FFFEFE\"> の</span><span style=\"background-color: #FFFEFE\"> ツイート</span><span style=\"background-color: #FFFEFE\"> を</span><span style=\"background-color: #FFFCFC\"> し</span><span style=\"background-color: #FFF1F1\"> て</span><span style=\"background-color: #FF0000\"> いる</span><span style=\"background-color: #FFFEFE\"> 。</span><span style=\"background-color: #FFFEFE\"> これ</span><span style=\"background-color: #FFFEFE\"> を</span><span style=\"background-color: #FFFEFE\"> もっ</span><span style=\"background-color: #FFFEFE\"> て</span><span style=\"background-color: #FFFEFE\"> 、</span><span style=\"background-color: #FFFEFE\"> 石井</span><span style=\"background-color: #FFFEFE\"> の</span><span style=\"background-color: #FFFEFE\"> 体調</span><span style=\"background-color: #FFFEFE\"> 不良</span><span style=\"background-color: #FFFEFE\"> が</span><span style=\"background-color: #FFFEFE\"> ただちに</span><span style=\"background-color: #FFFEFE\"> 否定</span><span style=\"background-color: #FFFEFE\"> さ</span><span style=\"background-color: #FFFEFE\"> れ</span><span style=\"background-color: #FFFEFE\"> た</span><span style=\"background-color: #FFFEFE\"> わけ</span><span style=\"background-color: #FFFEFE\"> で</span><span style=\"background-color: #FFFEFE\"> は</span><span style=\"background-color: #FFFCFC\"> ない</span><span style=\"background-color: #FFFEFE\"> 。</span><span style=\"background-color: #FFFEFE\"> しかし</span><span style=\"background-color: #FFFEFE\"> 、</span><span style=\"background-color: #FFFEFE\"> 石井</span><span style=\"background-color: #FFFEFE\"> から</span><span style=\"background-color: #FFFFFF\"> 近</span><span style=\"background-color: #FFFEFE\"> ##しい</span><span style=\"background-color: #FFFFFF\"> と</span><span style=\"background-color: #FFFEFE\"> 思わ</span><span style=\"background-color: #FFFEFE\"> れる</span><span style=\"background-color: #FFFEFE\"> 人間</span><span style=\"background-color: #FFFEFE\"> から</span><span style=\"background-color: #FFFEFE\"> の</span><span style=\"background-color: #FFFEFE\"> 情報</span><span style=\"background-color: #FFFEFE\"> で</span><span style=\"background-color: #FFFEFE\"> あり</span><span style=\"background-color: #FFFEFE\"> 、</span><span style=\"background-color: #FFFEFE\"> 信</span><span style=\"background-color: #FFFEFE\"> ##ぴ</span><span style=\"background-color: #FFFEFE\"> ##ょう</span><span style=\"background-color: #FFFEFE\"> 性</span><span style=\"background-color: #FFFEFE\"> は</span><span style=\"background-color: #FFFEFE\"> 高い</span><span style=\"background-color: #FFFEFE\"> と</span><span style=\"background-color: #FFFEFE\"> いえる</span><span style=\"background-color: #FFFEFE\"> だろ</span><span style=\"background-color: #FFFEFE\"> う</span><span style=\"background-color: #FFFEFE\"> 。</span><span style=\"background-color: #FFFEFE\"> この</span><span style=\"background-color: #FFFEFE\"> 件</span><span style=\"background-color: #FFFEFE\"> について</span><span style=\"background-color: #FFFEFE\"> 、</span><span style=\"background-color: #FFFEFE\"> 格闘技</span><span style=\"background-color: #FFFEFE\"> ファン</span><span style=\"background-color: #FFFEFE\"> から</span><span style=\"background-color: #FFFEFE\"> は</span><span style=\"background-color: #FFFEFE\"> 「</span><span style=\"background-color: #FFFEFE\"> 良かっ</span><span style=\"background-color: #FFFEFE\"> た</span><span style=\"background-color: #FFFFFF\"> 、</span><span style=\"background-color: #FFFEFE\"> 引退</span><span style=\"background-color: #FFFEFE\"> する</span><span style=\"background-color: #FFFEFE\"> 石井</span><span style=\"background-color: #FFFFFF\"> は</span><span style=\"background-color: #FFFEFE\"> 居</span><span style=\"background-color: #FFFEFE\"> なかっ</span><span style=\"background-color: #FFFEFE\"> た</span><span style=\"background-color: #FFFEFE\"> ん</span><span style=\"background-color: #FFFEFE\"> だ</span><span style=\"background-color: #FFFEFE\"> ...」</span><span style=\"background-color: #FFFEFE\"> ##「</span><span style=\"background-color: #FFFEFE\"> とり</span><span style=\"background-color: #FFFEFE\"> ##あ</span><span style=\"background-color: #FFFFFF\"> ##えず</span><span style=\"background-color: #FFFEFE\"> よかっ</span><span style=\"background-color: #FFFEFE\"> た</span><span style=\"background-color: #FFFEFE\"> 」</span><span style=\"background-color: #FFFEFE\"> といった</span><span style=\"background-color: #FFFEFE\"> 安堵</span><span style=\"background-color: #FFFEFE\"> の</span><span style=\"background-color: #FFFEFE\"> コメント</span><span style=\"background-color: #FFFEFE\"> が</span><span style=\"background-color: #FFFEFE\"> 並ん</span><span style=\"background-color: #FFFDFD\"> で</span><span style=\"background-color: #FF9797\"> いる</span><span style=\"background-color: #FFFEFE\"> 。</span><br><br>[BERTのAttentionを可視化_9]<br><span style=\"background-color: #FFFEFE\"> [CLS]</span><span style=\"background-color: #FFFEFE\"> ヒ</span><span style=\"background-color: #FFFEFE\"> ##ョー</span><span style=\"background-color: #FFFEFE\"> ##ドル</span><span style=\"background-color: #FFFEFE\"> 戦</span><span style=\"background-color: #FFFEFE\"> で</span><span style=\"background-color: #FFFEFE\"> KO</span><span style=\"background-color: #FFFEFE\"> さ</span><span style=\"background-color: #FFFEFE\"> れ</span><span style=\"background-color: #FFFEFE\"> 病院</span><span style=\"background-color: #FFFEFE\"> に</span><span style=\"background-color: #FFFEFE\"> 直行</span><span style=\"background-color: #FFFEFE\"> し</span><span style=\"background-color: #FFFEFE\"> た</span><span style=\"background-color: #FFFEFE\"> 石井</span><span style=\"background-color: #FFFEFE\"> 慧</span><span style=\"background-color: #FFFBFB\"> について</span><span style=\"background-color: #FFFEFE\"> 、</span><span style=\"background-color: #FFFEFE\"> 30</span><span style=\"background-color: #FFFEFE\"> 日</span><span style=\"background-color: #FFFEFE\"> に</span><span style=\"background-color: #FFFEFE\"> 脳</span><span style=\"background-color: #FFFEFE\"> 障害</span><span style=\"background-color: #FFFEFE\"> により</span><span style=\"background-color: #FFFEFE\"> 引退</span><span style=\"background-color: #FFFEFE\"> 危機</span><span style=\"background-color: #FFFDFD\"> という</span><span style=\"background-color: #FFFCFC\"> 報道</span><span style=\"background-color: #FFFEFE\"> が</span><span style=\"background-color: #FFFBFB\"> 行なわ</span><span style=\"background-color: #FFF6F6\"> れ</span><span style=\"background-color: #FFC7C7\"> た</span><span style=\"background-color: #FFFEFE\"> 。</span><span style=\"background-color: #FFFDFD\"> 記事</span><span style=\"background-color: #FFFDFD\"> に</span><span style=\"background-color: #FFF4F4\"> は</span><span style=\"background-color: #FFFEFE\"> 「</span><span style=\"background-color: #FFFEFE\"> 一説</span><span style=\"background-color: #FFFEFE\"> に</span><span style=\"background-color: #FFFEFE\"> は</span><span style=\"background-color: #FFFEFE\"> 『</span><span style=\"background-color: #FFFEFE\"> 脳</span><span style=\"background-color: #FFFEFE\"> 浮</span><span style=\"background-color: #FFFEFE\"> ##腫</span><span style=\"background-color: #FFFEFE\"> 』</span><span style=\"background-color: #FFFEFE\"> と</span><span style=\"background-color: #FFFDFD\"> も</span><span style=\"background-color: #FFFEFE\"> 言わ</span><span style=\"background-color: #FFFEFE\"> れ</span><span style=\"background-color: #FFFEFE\"> て</span><span style=\"background-color: #FFFCFC\"> い</span><span style=\"background-color: #FFFAFA\"> ます</span><span style=\"background-color: #FFF1F1\"> 」</span><span style=\"background-color: #FFFEFE\"> (</span><span style=\"background-color: #FFFEFE\"> 格闘技</span><span style=\"background-color: #FFFEFE\"> 事情</span><span style=\"background-color: #FFFEFE\"> 通</span><span style=\"background-color: #FFFEFE\"> )</span><span style=\"background-color: #FFF5F5\"> と</span><span style=\"background-color: #FF6E6E\"> あり</span><span style=\"background-color: #FFFEFE\"> 、</span><span style=\"background-color: #FFFDFD\"> 石井</span><span style=\"background-color: #FFFEFE\"> の</span><span style=\"background-color: #FFFEFE\"> 容</span><span style=\"background-color: #FFFEFE\"> ##態</span><span style=\"background-color: #FFFEFE\"> は</span><span style=\"background-color: #FFFEFE\"> 深刻</span><span style=\"background-color: #FFFEFE\"> な</span><span style=\"background-color: #FFFCFC\"> もの</span><span style=\"background-color: #FFFEFE\"> と</span><span style=\"background-color: #FFFEFE\"> 思わ</span><span style=\"background-color: #FFFEFE\"> れ</span><span style=\"background-color: #FFEFEF\"> た</span><span style=\"background-color: #FFFEFE\"> 。</span><span style=\"background-color: #FF9494\"> しかし</span><span style=\"background-color: #FFFEFE\"> 、</span><span style=\"background-color: #FFFDFD\"> この</span><span style=\"background-color: #FFFDFD\"> 件</span><span style=\"background-color: #FFFCFC\"> について</span><span style=\"background-color: #FFFEFE\"> 元</span><span style=\"background-color: #FFFEFE\"> DEEP</span><span style=\"background-color: #FFFEFE\"> ミドル</span><span style=\"background-color: #FFFEFE\"> 級</span><span style=\"background-color: #FFFEFE\"> 王者</span><span style=\"background-color: #FFFEFE\"> で</span><span style=\"background-color: #FFFDFD\"> ある</span><span style=\"background-color: #FFFEFE\"> 長</span><span style=\"background-color: #FFFEFE\"> ##南</span><span style=\"background-color: #FFFEFE\"> 亮</span><span style=\"background-color: #FFFEFE\"> (</span><span style=\"background-color: #FFFEFE\"> ちょう</span><span style=\"background-color: #FFFEFE\"> なん</span><span style=\"background-color: #FFFEFE\"> ・</span><span style=\"background-color: #FFFEFE\"> りょう</span><span style=\"background-color: #FFFEFE\"> )</span><span style=\"background-color: #FFFEFE\"> は</span><span style=\"background-color: #FFFEFE\"> 真っ</span><span style=\"background-color: #FFFEFE\"> ##向</span><span style=\"background-color: #FFFEFE\"> から</span><span style=\"background-color: #FFFEFE\"> 否定</span><span style=\"background-color: #FFFEFE\"> 。</span><span style=\"background-color: #FFF6F6\"> 自身</span><span style=\"background-color: #FFFEFE\"> の</span><span style=\"background-color: #FFFEFE\"> ツイッター</span><span style=\"background-color: #FFFDFD\"> にて</span><span style=\"background-color: #FFFEFE\"> 「</span><span style=\"background-color: #FFFEFE\"> 石井</span><span style=\"background-color: #FFFEFE\"> 慧</span><span style=\"background-color: #FFFEFE\"> の</span><span style=\"background-color: #FFFEFE\"> 体調</span><span style=\"background-color: #FFFEFE\"> は</span><span style=\"background-color: #FFFEFE\"> 良好</span><span style=\"background-color: #FFFEFE\"> だ</span><span style=\"background-color: #FFFEFE\"> そう</span><span style=\"background-color: #FFFBFB\"> です</span><span style=\"background-color: #FFFCFC\"> 。</span><span style=\"background-color: #FFF8F8\"> 」</span><span style=\"background-color: #FFFEFE\"> と</span><span style=\"background-color: #FFFEFE\"> コメント</span><span style=\"background-color: #FFFEFE\"> 、</span><span style=\"background-color: #FFE7E7\"> さらに</span><span style=\"background-color: #FFFEFE\"> 「</span><span style=\"background-color: #FFFEFE\"> 人</span><span style=\"background-color: #FFFEFE\"> の</span><span style=\"background-color: #FFFEFE\"> 人生</span><span style=\"background-color: #FFFEFE\"> や</span><span style=\"background-color: #FFFEFE\"> 生命</span><span style=\"background-color: #FFFEFE\"> に</span><span style=\"background-color: #FFFEFE\"> 関わる</span><span style=\"background-color: #FFFEFE\"> こと</span><span style=\"background-color: #FFFEFE\"> を</span><span style=\"background-color: #FFFEFE\"> 平</span><span style=\"background-color: #FFFEFE\"> ##気</span><span style=\"background-color: #FFFEFE\"> で</span><span style=\"background-color: #FFFEFE\"> ガ</span><span style=\"background-color: #FFFEFE\"> ##セ</span><span style=\"background-color: #FFFEFE\"> 流す</span><span style=\"background-color: #FFFEFE\"> 奴</span><span style=\"background-color: #FFFEFE\"> は</span><span style=\"background-color: #FFFEFE\"> 死ん</span><span style=\"background-color: #FFFEFE\"> だ</span><span style=\"background-color: #FFFEFE\"> ほう</span><span style=\"background-color: #FFFEFE\"> が</span><span style=\"background-color: #FFFEFE\"> 世</span><span style=\"background-color: #FFFEFE\"> の</span><span style=\"background-color: #FFFEFE\"> 為</span><span style=\"background-color: #FFFCFC\"> 。</span><span style=\"background-color: #FFD1D1\"> 」</span><span style=\"background-color: #FFFEFE\"> と</span><span style=\"background-color: #FFFEFE\"> 怒り</span><span style=\"background-color: #FFFEFE\"> の</span><span style=\"background-color: #FFFEFE\"> ツイート</span><span style=\"background-color: #FFFDFD\"> を</span><span style=\"background-color: #FFF0F0\"> し</span><span style=\"background-color: #FFFCFC\"> て</span><span style=\"background-color: #FF0000\"> いる</span><span style=\"background-color: #FFFEFE\"> 。</span><span style=\"background-color: #FFFCFC\"> これ</span><span style=\"background-color: #FFFEFE\"> を</span><span style=\"background-color: #FFFEFE\"> もっ</span><span style=\"background-color: #FFFEFE\"> て</span><span style=\"background-color: #FFFEFE\"> 、</span><span style=\"background-color: #FFFDFD\"> 石井</span><span style=\"background-color: #FFFEFE\"> の</span><span style=\"background-color: #FFFEFE\"> 体調</span><span style=\"background-color: #FFFEFE\"> 不良</span><span style=\"background-color: #FFFEFE\"> が</span><span style=\"background-color: #FFFEFE\"> ただちに</span><span style=\"background-color: #FFFEFE\"> 否定</span><span style=\"background-color: #FFFEFE\"> さ</span><span style=\"background-color: #FFFEFE\"> れ</span><span style=\"background-color: #FFFDFD\"> た</span><span style=\"background-color: #FFF5F5\"> わけ</span><span style=\"background-color: #FFFDFD\"> で</span><span style=\"background-color: #FFFDFD\"> は</span><span style=\"background-color: #FFF1F1\"> ない</span><span style=\"background-color: #FFFEFE\"> 。</span><span style=\"background-color: #FFDBDB\"> しかし</span><span style=\"background-color: #FFFEFE\"> 、</span><span style=\"background-color: #FFFEFE\"> 石井</span><span style=\"background-color: #FFFEFE\"> から</span><span style=\"background-color: #FFFEFE\"> 近</span><span style=\"background-color: #FFFEFE\"> ##しい</span><span style=\"background-color: #FFFEFE\"> と</span><span style=\"background-color: #FFFEFE\"> 思わ</span><span style=\"background-color: #FFFEFE\"> れる</span><span style=\"background-color: #FFFEFE\"> 人間</span><span style=\"background-color: #FFFEFE\"> から</span><span style=\"background-color: #FFFEFE\"> の</span><span style=\"background-color: #FFFEFE\"> 情報</span><span style=\"background-color: #FFFEFE\"> で</span><span style=\"background-color: #FFFAFA\"> あり</span><span style=\"background-color: #FFFEFE\"> 、</span><span style=\"background-color: #FFFEFE\"> 信</span><span style=\"background-color: #FFFEFE\"> ##ぴ</span><span style=\"background-color: #FFFEFE\"> ##ょう</span><span style=\"background-color: #FFFEFE\"> 性</span><span style=\"background-color: #FFFEFE\"> は</span><span style=\"background-color: #FFF1F1\"> 高い</span><span style=\"background-color: #FFFEFE\"> と</span><span style=\"background-color: #FFFBFB\"> いえる</span><span style=\"background-color: #FFFCFC\"> だろ</span><span style=\"background-color: #FFF8F8\"> う</span><span style=\"background-color: #FFFEFE\"> 。</span><span style=\"background-color: #FFFDFD\"> この</span><span style=\"background-color: #FFFEFE\"> 件</span><span style=\"background-color: #FFFCFC\"> について</span><span style=\"background-color: #FFFEFE\"> 、</span><span style=\"background-color: #FFFEFE\"> 格闘技</span><span style=\"background-color: #FFFEFE\"> ファン</span><span style=\"background-color: #FFFDFD\"> から</span><span style=\"background-color: #FFFCFC\"> は</span><span style=\"background-color: #FFFEFE\"> 「</span><span style=\"background-color: #FFFEFE\"> 良かっ</span><span style=\"background-color: #FFFEFE\"> た</span><span style=\"background-color: #FFFEFE\"> 、</span><span style=\"background-color: #FFFEFE\"> 引退</span><span style=\"background-color: #FFFEFE\"> する</span><span style=\"background-color: #FFFEFE\"> 石井</span><span style=\"background-color: #FFFEFE\"> は</span><span style=\"background-color: #FFFEFE\"> 居</span><span style=\"background-color: #FFFEFE\"> なかっ</span><span style=\"background-color: #FFFEFE\"> た</span><span style=\"background-color: #FFFEFE\"> ん</span><span style=\"background-color: #FFFDFD\"> だ</span><span style=\"background-color: #FFFEFE\"> ...」</span><span style=\"background-color: #FFFEFE\"> ##「</span><span style=\"background-color: #FFFEFE\"> とり</span><span style=\"background-color: #FFFEFE\"> ##あ</span><span style=\"background-color: #FFFEFE\"> ##えず</span><span style=\"background-color: #FFFEFE\"> よかっ</span><span style=\"background-color: #FFFEFE\"> た</span><span style=\"background-color: #FFFBFB\"> 」</span><span style=\"background-color: #FFFDFD\"> といった</span><span style=\"background-color: #FFFEFE\"> 安堵</span><span style=\"background-color: #FFFEFE\"> の</span><span style=\"background-color: #FFFEFE\"> コメント</span><span style=\"background-color: #FFFEFE\"> が</span><span style=\"background-color: #FFFEFE\"> 並ん</span><span style=\"background-color: #FFFEFE\"> で</span><span style=\"background-color: #FFA0A0\"> いる</span><span style=\"background-color: #FFFEFE\"> 。</span><br><br>[BERTのAttentionを可視化_10]<br><span style=\"background-color: #FFFEFE\"> [CLS]</span><span style=\"background-color: #FFFEFE\"> ヒ</span><span style=\"background-color: #FFFEFE\"> ##ョー</span><span style=\"background-color: #FFFEFE\"> ##ドル</span><span style=\"background-color: #FFFEFE\"> 戦</span><span style=\"background-color: #FFFEFE\"> で</span><span style=\"background-color: #FFFEFE\"> KO</span><span style=\"background-color: #FFFEFE\"> さ</span><span style=\"background-color: #FFFEFE\"> れ</span><span style=\"background-color: #FFFEFE\"> 病院</span><span style=\"background-color: #FFFEFE\"> に</span><span style=\"background-color: #FFFEFE\"> 直行</span><span style=\"background-color: #FFFEFE\"> し</span><span style=\"background-color: #FFFEFE\"> た</span><span style=\"background-color: #FFFEFE\"> 石井</span><span style=\"background-color: #FFFEFE\"> 慧</span><span style=\"background-color: #FF0000\"> について</span><span style=\"background-color: #FFFEFE\"> 、</span><span style=\"background-color: #FFFEFE\"> 30</span><span style=\"background-color: #FFFEFE\"> 日</span><span style=\"background-color: #FFFEFE\"> に</span><span style=\"background-color: #FFFEFE\"> 脳</span><span style=\"background-color: #FFFEFE\"> 障害</span><span style=\"background-color: #FFFEFE\"> により</span><span style=\"background-color: #FFFEFE\"> 引退</span><span style=\"background-color: #FFFEFE\"> 危機</span><span style=\"background-color: #FFFEFE\"> という</span><span style=\"background-color: #FFFEFE\"> 報道</span><span style=\"background-color: #FFFEFE\"> が</span><span style=\"background-color: #FFFEFE\"> 行なわ</span><span style=\"background-color: #FFFDFD\"> れ</span><span style=\"background-color: #FFFEFE\"> た</span><span style=\"background-color: #FFFEFE\"> 。</span><span style=\"background-color: #FFFEFE\"> 記事</span><span style=\"background-color: #FFFEFE\"> に</span><span style=\"background-color: #FFFBFB\"> は</span><span style=\"background-color: #FFFEFE\"> 「</span><span style=\"background-color: #FFFEFE\"> 一説</span><span style=\"background-color: #FFFEFE\"> に</span><span style=\"background-color: #FFFEFE\"> は</span><span style=\"background-color: #FFFEFE\"> 『</span><span style=\"background-color: #FFFEFE\"> 脳</span><span style=\"background-color: #FFFEFE\"> 浮</span><span style=\"background-color: #FFFEFE\"> ##腫</span><span style=\"background-color: #FFFEFE\"> 』</span><span style=\"background-color: #FFFEFE\"> と</span><span style=\"background-color: #FFFEFE\"> も</span><span style=\"background-color: #FFFEFE\"> 言わ</span><span style=\"background-color: #FFFEFE\"> れ</span><span style=\"background-color: #FFFEFE\"> て</span><span style=\"background-color: #FFFEFE\"> い</span><span style=\"background-color: #FFFEFE\"> ます</span><span style=\"background-color: #FFFEFE\"> 」</span><span style=\"background-color: #FFFEFE\"> (</span><span style=\"background-color: #FFFEFE\"> 格闘技</span><span style=\"background-color: #FFFEFE\"> 事情</span><span style=\"background-color: #FFFEFE\"> 通</span><span style=\"background-color: #FFFEFE\"> )</span><span style=\"background-color: #FFFEFE\"> と</span><span style=\"background-color: #FFD3D3\"> あり</span><span style=\"background-color: #FFFEFE\"> 、</span><span style=\"background-color: #FFFEFE\"> 石井</span><span style=\"background-color: #FFFEFE\"> の</span><span style=\"background-color: #FFFEFE\"> 容</span><span style=\"background-color: #FFFEFE\"> ##態</span><span style=\"background-color: #FFFEFE\"> は</span><span style=\"background-color: #FFFEFE\"> 深刻</span><span style=\"background-color: #FFFEFE\"> な</span><span style=\"background-color: #FFFEFE\"> もの</span><span style=\"background-color: #FFFEFE\"> と</span><span style=\"background-color: #FFFEFE\"> 思わ</span><span style=\"background-color: #FFFEFE\"> れ</span><span style=\"background-color: #FFFEFE\"> た</span><span style=\"background-color: #FFFEFE\"> 。</span><span style=\"background-color: #FFFAFA\"> しかし</span><span style=\"background-color: #FFFEFE\"> 、</span><span style=\"background-color: #FFFEFE\"> この</span><span style=\"background-color: #FFFEFE\"> 件</span><span style=\"background-color: #FFF6F6\"> について</span><span style=\"background-color: #FFFEFE\"> 元</span><span style=\"background-color: #FFFEFE\"> DEEP</span><span style=\"background-color: #FFFEFE\"> ミドル</span><span style=\"background-color: #FFFEFE\"> 級</span><span style=\"background-color: #FFFEFE\"> 王者</span><span style=\"background-color: #FFFEFE\"> で</span><span style=\"background-color: #FFFEFE\"> ある</span><span style=\"background-color: #FFFEFE\"> 長</span><span style=\"background-color: #FFFEFE\"> ##南</span><span style=\"background-color: #FFFEFE\"> 亮</span><span style=\"background-color: #FFFEFE\"> (</span><span style=\"background-color: #FFFEFE\"> ちょう</span><span style=\"background-color: #FFFEFE\"> なん</span><span style=\"background-color: #FFFEFE\"> ・</span><span style=\"background-color: #FFFEFE\"> りょう</span><span style=\"background-color: #FFFDFD\"> )</span><span style=\"background-color: #FFF0F0\"> は</span><span style=\"background-color: #FFFEFE\"> 真っ</span><span style=\"background-color: #FFFEFE\"> ##向</span><span style=\"background-color: #FFFEFE\"> から</span><span style=\"background-color: #FFFEFE\"> 否定</span><span style=\"background-color: #FFFEFE\"> 。</span><span style=\"background-color: #FFFEFE\"> 自身</span><span style=\"background-color: #FFFEFE\"> の</span><span style=\"background-color: #FFFEFE\"> ツイッター</span><span style=\"background-color: #FFFEFE\"> にて</span><span style=\"background-color: #FFFEFE\"> 「</span><span style=\"background-color: #FFFEFE\"> 石井</span><span style=\"background-color: #FFFEFE\"> 慧</span><span style=\"background-color: #FFFEFE\"> の</span><span style=\"background-color: #FFFEFE\"> 体調</span><span style=\"background-color: #FFFEFE\"> は</span><span style=\"background-color: #FFFEFE\"> 良好</span><span style=\"background-color: #FFFEFE\"> だ</span><span style=\"background-color: #FFFEFE\"> そう</span><span style=\"background-color: #FFFEFE\"> です</span><span style=\"background-color: #FFFEFE\"> 。</span><span style=\"background-color: #FFFEFE\"> 」</span><span style=\"background-color: #FFFEFE\"> と</span><span style=\"background-color: #FFFEFE\"> コメント</span><span style=\"background-color: #FFFEFE\"> 、</span><span style=\"background-color: #FFFEFE\"> さらに</span><span style=\"background-color: #FFFEFE\"> 「</span><span style=\"background-color: #FFFEFE\"> 人</span><span style=\"background-color: #FFFEFE\"> の</span><span style=\"background-color: #FFFEFE\"> 人生</span><span style=\"background-color: #FFFEFE\"> や</span><span style=\"background-color: #FFFEFE\"> 生命</span><span style=\"background-color: #FFFEFE\"> に</span><span style=\"background-color: #FFFEFE\"> 関わる</span><span style=\"background-color: #FFFEFE\"> こと</span><span style=\"background-color: #FFFEFE\"> を</span><span style=\"background-color: #FFFEFE\"> 平</span><span style=\"background-color: #FFFEFE\"> ##気</span><span style=\"background-color: #FFFEFE\"> で</span><span style=\"background-color: #FFFEFE\"> ガ</span><span style=\"background-color: #FFFFFF\"> ##セ</span><span style=\"background-color: #FFFEFE\"> 流す</span><span style=\"background-color: #FFFEFE\"> 奴</span><span style=\"background-color: #FFFEFE\"> は</span><span style=\"background-color: #FFFEFE\"> 死ん</span><span style=\"background-color: #FFFEFE\"> だ</span><span style=\"background-color: #FFFEFE\"> ほう</span><span style=\"background-color: #FFFEFE\"> が</span><span style=\"background-color: #FFFEFE\"> 世</span><span style=\"background-color: #FFFEFE\"> の</span><span style=\"background-color: #FFFEFE\"> 為</span><span style=\"background-color: #FFFEFE\"> 。</span><span style=\"background-color: #FFFEFE\"> 」</span><span style=\"background-color: #FFFEFE\"> と</span><span style=\"background-color: #FFFEFE\"> 怒り</span><span style=\"background-color: #FFFEFE\"> の</span><span style=\"background-color: #FFFEFE\"> ツイート</span><span style=\"background-color: #FFFEFE\"> を</span><span style=\"background-color: #FFFEFE\"> し</span><span style=\"background-color: #FFFEFE\"> て</span><span style=\"background-color: #FFFEFE\"> いる</span><span style=\"background-color: #FFFEFE\"> 。</span><span style=\"background-color: #FFFEFE\"> これ</span><span style=\"background-color: #FFFEFE\"> を</span><span style=\"background-color: #FFFEFE\"> もっ</span><span style=\"background-color: #FFFEFE\"> て</span><span style=\"background-color: #FFFEFE\"> 、</span><span style=\"background-color: #FFFEFE\"> 石井</span><span style=\"background-color: #FFFEFE\"> の</span><span style=\"background-color: #FFFEFE\"> 体調</span><span style=\"background-color: #FFFEFE\"> 不良</span><span style=\"background-color: #FFFEFE\"> が</span><span style=\"background-color: #FFFEFE\"> ただちに</span><span style=\"background-color: #FFFEFE\"> 否定</span><span style=\"background-color: #FFFEFE\"> さ</span><span style=\"background-color: #FFFEFE\"> れ</span><span style=\"background-color: #FFFEFE\"> た</span><span style=\"background-color: #FFFEFE\"> わけ</span><span style=\"background-color: #FFFEFE\"> で</span><span style=\"background-color: #FFFEFE\"> は</span><span style=\"background-color: #FFFBFB\"> ない</span><span style=\"background-color: #FFFEFE\"> 。</span><span style=\"background-color: #FFFBFB\"> しかし</span><span style=\"background-color: #FFFEFE\"> 、</span><span style=\"background-color: #FFFEFE\"> 石井</span><span style=\"background-color: #FFFEFE\"> から</span><span style=\"background-color: #FFFEFE\"> 近</span><span style=\"background-color: #FFFEFE\"> ##しい</span><span style=\"background-color: #FFFEFE\"> と</span><span style=\"background-color: #FFFEFE\"> 思わ</span><span style=\"background-color: #FFFEFE\"> れる</span><span style=\"background-color: #FFFEFE\"> 人間</span><span style=\"background-color: #FFFEFE\"> から</span><span style=\"background-color: #FFFEFE\"> の</span><span style=\"background-color: #FFFEFE\"> 情報</span><span style=\"background-color: #FFFEFE\"> で</span><span style=\"background-color: #FFEDED\"> あり</span><span style=\"background-color: #FFFEFE\"> 、</span><span style=\"background-color: #FFFEFE\"> 信</span><span style=\"background-color: #FFFEFE\"> ##ぴ</span><span style=\"background-color: #FFFEFE\"> ##ょう</span><span style=\"background-color: #FFFEFE\"> 性</span><span style=\"background-color: #FFFEFE\"> は</span><span style=\"background-color: #FFFEFE\"> 高い</span><span style=\"background-color: #FFFEFE\"> と</span><span style=\"background-color: #FFFDFD\"> いえる</span><span style=\"background-color: #FFFDFD\"> だろ</span><span style=\"background-color: #FFFDFD\"> う</span><span style=\"background-color: #FFFEFE\"> 。</span><span style=\"background-color: #FFFEFE\"> この</span><span style=\"background-color: #FFFEFE\"> 件</span><span style=\"background-color: #FFCFCF\"> について</span><span style=\"background-color: #FFFEFE\"> 、</span><span style=\"background-color: #FFFEFE\"> 格闘技</span><span style=\"background-color: #FFFEFE\"> ファン</span><span style=\"background-color: #FFFEFE\"> から</span><span style=\"background-color: #FFFBFB\"> は</span><span style=\"background-color: #FFFEFE\"> 「</span><span style=\"background-color: #FFFEFE\"> 良かっ</span><span style=\"background-color: #FFFEFE\"> た</span><span style=\"background-color: #FFFEFE\"> 、</span><span style=\"background-color: #FFFEFE\"> 引退</span><span style=\"background-color: #FFFEFE\"> する</span><span style=\"background-color: #FFFEFE\"> 石井</span><span style=\"background-color: #FFFEFE\"> は</span><span style=\"background-color: #FFFEFE\"> 居</span><span style=\"background-color: #FFFEFE\"> なかっ</span><span style=\"background-color: #FFFEFE\"> た</span><span style=\"background-color: #FFFEFE\"> ん</span><span style=\"background-color: #FFFEFE\"> だ</span><span style=\"background-color: #FFFEFE\"> ...」</span><span style=\"background-color: #FFFEFE\"> ##「</span><span style=\"background-color: #FFFEFE\"> とり</span><span style=\"background-color: #FFFEFE\"> ##あ</span><span style=\"background-color: #FFFEFE\"> ##えず</span><span style=\"background-color: #FFFEFE\"> よかっ</span><span style=\"background-color: #FFFEFE\"> た</span><span style=\"background-color: #FFFEFE\"> 」</span><span style=\"background-color: #FFFEFE\"> といった</span><span style=\"background-color: #FFFEFE\"> 安堵</span><span style=\"background-color: #FFFEFE\"> の</span><span style=\"background-color: #FFFEFE\"> コメント</span><span style=\"background-color: #FFFEFE\"> が</span><span style=\"background-color: #FFFEFE\"> 並ん</span><span style=\"background-color: #FFFEFE\"> で</span><span style=\"background-color: #FFFEFE\"> いる</span><span style=\"background-color: #FFFEFE\"> 。</span><br><br>[BERTのAttentionを可視化_11]<br><span style=\"background-color: #FFFEFE\"> [CLS]</span><span style=\"background-color: #FFFEFE\"> ヒ</span><span style=\"background-color: #FFFEFE\"> ##ョー</span><span style=\"background-color: #FFFEFE\"> ##ドル</span><span style=\"background-color: #FFEBEB\"> 戦</span><span style=\"background-color: #FFFEFE\"> で</span><span style=\"background-color: #FFFEFE\"> KO</span><span style=\"background-color: #FFFEFE\"> さ</span><span style=\"background-color: #FFFEFE\"> れ</span><span style=\"background-color: #FFFEFE\"> 病院</span><span style=\"background-color: #FFFEFE\"> に</span><span style=\"background-color: #FFFEFE\"> 直行</span><span style=\"background-color: #FFFEFE\"> し</span><span style=\"background-color: #FFFEFE\"> た</span><span style=\"background-color: #FFF3F3\"> 石井</span><span style=\"background-color: #FFFEFE\"> 慧</span><span style=\"background-color: #FFFEFE\"> について</span><span style=\"background-color: #FFFEFE\"> 、</span><span style=\"background-color: #FFFEFE\"> 30</span><span style=\"background-color: #FFFEFE\"> 日</span><span style=\"background-color: #FFFEFE\"> に</span><span style=\"background-color: #FFFEFE\"> 脳</span><span style=\"background-color: #FFFEFE\"> 障害</span><span style=\"background-color: #FFFEFE\"> により</span><span style=\"background-color: #FFFEFE\"> 引退</span><span style=\"background-color: #FFFEFE\"> 危機</span><span style=\"background-color: #FFFEFE\"> という</span><span style=\"background-color: #FFFEFE\"> 報道</span><span style=\"background-color: #FFFEFE\"> が</span><span style=\"background-color: #FFFEFE\"> 行なわ</span><span style=\"background-color: #FFFEFE\"> れ</span><span style=\"background-color: #FFFEFE\"> た</span><span style=\"background-color: #FFFEFE\"> 。</span><span style=\"background-color: #FFFEFE\"> 記事</span><span style=\"background-color: #FFFEFE\"> に</span><span style=\"background-color: #FFFEFE\"> は</span><span style=\"background-color: #FFFEFE\"> 「</span><span style=\"background-color: #FFFEFE\"> 一説</span><span style=\"background-color: #FFFEFE\"> に</span><span style=\"background-color: #FFFEFE\"> は</span><span style=\"background-color: #FFFEFE\"> 『</span><span style=\"background-color: #FFFEFE\"> 脳</span><span style=\"background-color: #FFFEFE\"> 浮</span><span style=\"background-color: #FFFEFE\"> ##腫</span><span style=\"background-color: #FFFEFE\"> 』</span><span style=\"background-color: #FFFEFE\"> と</span><span style=\"background-color: #FFFEFE\"> も</span><span style=\"background-color: #FFFEFE\"> 言わ</span><span style=\"background-color: #FFFEFE\"> れ</span><span style=\"background-color: #FFFEFE\"> て</span><span style=\"background-color: #FFFEFE\"> い</span><span style=\"background-color: #FFFEFE\"> ます</span><span style=\"background-color: #FFFEFE\"> 」</span><span style=\"background-color: #FFFEFE\"> (</span><span style=\"background-color: #FF3B3B\"> 格闘技</span><span style=\"background-color: #FFFEFE\"> 事情</span><span style=\"background-color: #FFFEFE\"> 通</span><span style=\"background-color: #FFFEFE\"> )</span><span style=\"background-color: #FFFEFE\"> と</span><span style=\"background-color: #FFFEFE\"> あり</span><span style=\"background-color: #FFFEFE\"> 、</span><span style=\"background-color: #FFDFDF\"> 石井</span><span style=\"background-color: #FFFEFE\"> の</span><span style=\"background-color: #FFFEFE\"> 容</span><span style=\"background-color: #FFFEFE\"> ##態</span><span style=\"background-color: #FFFEFE\"> は</span><span style=\"background-color: #FFFEFE\"> 深刻</span><span style=\"background-color: #FFFEFE\"> な</span><span style=\"background-color: #FFFEFE\"> もの</span><span style=\"background-color: #FFFEFE\"> と</span><span style=\"background-color: #FFFEFE\"> 思わ</span><span style=\"background-color: #FFFEFE\"> れ</span><span style=\"background-color: #FFFEFE\"> た</span><span style=\"background-color: #FFFEFE\"> 。</span><span style=\"background-color: #FFFEFE\"> しかし</span><span style=\"background-color: #FFFEFE\"> 、</span><span style=\"background-color: #FFFEFE\"> この</span><span style=\"background-color: #FFFEFE\"> 件</span><span style=\"background-color: #FFFEFE\"> について</span><span style=\"background-color: #FFFEFE\"> 元</span><span style=\"background-color: #FFFEFE\"> DEEP</span><span style=\"background-color: #FFF5F5\"> ミドル</span><span style=\"background-color: #FFF8F8\"> 級</span><span style=\"background-color: #FFF7F7\"> 王者</span><span style=\"background-color: #FFFEFE\"> で</span><span style=\"background-color: #FFFEFE\"> ある</span><span style=\"background-color: #FFFEFE\"> 長</span><span style=\"background-color: #FFFEFE\"> ##南</span><span style=\"background-color: #FFFEFE\"> 亮</span><span style=\"background-color: #FFFEFE\"> (</span><span style=\"background-color: #FFFEFE\"> ちょう</span><span style=\"background-color: #FFFEFE\"> なん</span><span style=\"background-color: #FFFEFE\"> ・</span><span style=\"background-color: #FFFEFE\"> りょう</span><span style=\"background-color: #FFFEFE\"> )</span><span style=\"background-color: #FFFEFE\"> は</span><span style=\"background-color: #FFFEFE\"> 真っ</span><span style=\"background-color: #FFFEFE\"> ##向</span><span style=\"background-color: #FFFEFE\"> から</span><span style=\"background-color: #FFFEFE\"> 否定</span><span style=\"background-color: #FFFEFE\"> 。</span><span style=\"background-color: #FFFEFE\"> 自身</span><span style=\"background-color: #FFFEFE\"> の</span><span style=\"background-color: #FFFEFE\"> ツイッター</span><span style=\"background-color: #FFFEFE\"> にて</span><span style=\"background-color: #FFFEFE\"> 「</span><span style=\"background-color: #FFE3E3\"> 石井</span><span style=\"background-color: #FFFDFD\"> 慧</span><span style=\"background-color: #FFFEFE\"> の</span><span style=\"background-color: #FFFEFE\"> 体調</span><span style=\"background-color: #FFFEFE\"> は</span><span style=\"background-color: #FFFEFE\"> 良好</span><span style=\"background-color: #FFFEFE\"> だ</span><span style=\"background-color: #FFFEFE\"> そう</span><span style=\"background-color: #FFFEFE\"> です</span><span style=\"background-color: #FFFEFE\"> 。</span><span style=\"background-color: #FFFEFE\"> 」</span><span style=\"background-color: #FFFEFE\"> と</span><span style=\"background-color: #FFFEFE\"> コメント</span><span style=\"background-color: #FFFEFE\"> 、</span><span style=\"background-color: #FFFEFE\"> さらに</span><span style=\"background-color: #FFFEFE\"> 「</span><span style=\"background-color: #FFFEFE\"> 人</span><span style=\"background-color: #FFFEFE\"> の</span><span style=\"background-color: #FFFEFE\"> 人生</span><span style=\"background-color: #FFFEFE\"> や</span><span style=\"background-color: #FFFEFE\"> 生命</span><span style=\"background-color: #FFFEFE\"> に</span><span style=\"background-color: #FFFEFE\"> 関わる</span><span style=\"background-color: #FFFEFE\"> こと</span><span style=\"background-color: #FFFEFE\"> を</span><span style=\"background-color: #FFFEFE\"> 平</span><span style=\"background-color: #FFFEFE\"> ##気</span><span style=\"background-color: #FFFEFE\"> で</span><span style=\"background-color: #FFFEFE\"> ガ</span><span style=\"background-color: #FFFEFE\"> ##セ</span><span style=\"background-color: #FFFEFE\"> 流す</span><span style=\"background-color: #FFFEFE\"> 奴</span><span style=\"background-color: #FFFEFE\"> は</span><span style=\"background-color: #FFFEFE\"> 死ん</span><span style=\"background-color: #FFFEFE\"> だ</span><span style=\"background-color: #FFFEFE\"> ほう</span><span style=\"background-color: #FFFEFE\"> が</span><span style=\"background-color: #FFFEFE\"> 世</span><span style=\"background-color: #FFFEFE\"> の</span><span style=\"background-color: #FFFEFE\"> 為</span><span style=\"background-color: #FFFEFE\"> 。</span><span style=\"background-color: #FFFEFE\"> 」</span><span style=\"background-color: #FFFEFE\"> と</span><span style=\"background-color: #FFFEFE\"> 怒り</span><span style=\"background-color: #FFFEFE\"> の</span><span style=\"background-color: #FFFEFE\"> ツイート</span><span style=\"background-color: #FFFEFE\"> を</span><span style=\"background-color: #FFFEFE\"> し</span><span style=\"background-color: #FFFEFE\"> て</span><span style=\"background-color: #FFFEFE\"> いる</span><span style=\"background-color: #FFFEFE\"> 。</span><span style=\"background-color: #FFFEFE\"> これ</span><span style=\"background-color: #FFFEFE\"> を</span><span style=\"background-color: #FFFEFE\"> もっ</span><span style=\"background-color: #FFFEFE\"> て</span><span style=\"background-color: #FFFEFE\"> 、</span><span style=\"background-color: #FFD4D4\"> 石井</span><span style=\"background-color: #FFFEFE\"> の</span><span style=\"background-color: #FFFEFE\"> 体調</span><span style=\"background-color: #FFFEFE\"> 不良</span><span style=\"background-color: #FFFEFE\"> が</span><span style=\"background-color: #FFFEFE\"> ただちに</span><span style=\"background-color: #FFFEFE\"> 否定</span><span style=\"background-color: #FFFEFE\"> さ</span><span style=\"background-color: #FFFEFE\"> れ</span><span style=\"background-color: #FFFEFE\"> た</span><span style=\"background-color: #FFFFFF\"> わけ</span><span style=\"background-color: #FFFEFE\"> で</span><span style=\"background-color: #FFFFFF\"> は</span><span style=\"background-color: #FFFEFE\"> ない</span><span style=\"background-color: #FFFEFE\"> 。</span><span style=\"background-color: #FFFEFE\"> しかし</span><span style=\"background-color: #FFFEFE\"> 、</span><span style=\"background-color: #FFC4C4\"> 石井</span><span style=\"background-color: #FFFEFE\"> から</span><span style=\"background-color: #FFFEFE\"> 近</span><span style=\"background-color: #FFFEFE\"> ##しい</span><span style=\"background-color: #FFFEFE\"> と</span><span style=\"background-color: #FFFEFE\"> 思わ</span><span style=\"background-color: #FFFEFE\"> れる</span><span style=\"background-color: #FFFEFE\"> 人間</span><span style=\"background-color: #FFFEFE\"> から</span><span style=\"background-color: #FFFEFE\"> の</span><span style=\"background-color: #FFFEFE\"> 情報</span><span style=\"background-color: #FFFEFE\"> で</span><span style=\"background-color: #FFFEFE\"> あり</span><span style=\"background-color: #FFFEFE\"> 、</span><span style=\"background-color: #FFFEFE\"> 信</span><span style=\"background-color: #FFFEFE\"> ##ぴ</span><span style=\"background-color: #FFFEFE\"> ##ょう</span><span style=\"background-color: #FFFEFE\"> 性</span><span style=\"background-color: #FFFEFE\"> は</span><span style=\"background-color: #FFFEFE\"> 高い</span><span style=\"background-color: #FFFEFE\"> と</span><span style=\"background-color: #FFFEFE\"> いえる</span><span style=\"background-color: #FFFEFE\"> だろ</span><span style=\"background-color: #FFFEFE\"> う</span><span style=\"background-color: #FFFEFE\"> 。</span><span style=\"background-color: #FFFEFE\"> この</span><span style=\"background-color: #FFFEFE\"> 件</span><span style=\"background-color: #FFFEFE\"> について</span><span style=\"background-color: #FFFEFE\"> 、</span><span style=\"background-color: #FF0000\"> 格闘技</span><span style=\"background-color: #FFFDFD\"> ファン</span><span style=\"background-color: #FFFEFE\"> から</span><span style=\"background-color: #FFFEFE\"> は</span><span style=\"background-color: #FFFEFE\"> 「</span><span style=\"background-color: #FFFEFE\"> 良かっ</span><span style=\"background-color: #FFFEFE\"> た</span><span style=\"background-color: #FFFEFE\"> 、</span><span style=\"background-color: #FFFAFA\"> 引退</span><span style=\"background-color: #FFFEFE\"> する</span><span style=\"background-color: #FFDBDB\"> 石井</span><span style=\"background-color: #FFFEFE\"> は</span><span style=\"background-color: #FFFEFE\"> 居</span><span style=\"background-color: #FFFEFE\"> なかっ</span><span style=\"background-color: #FFFEFE\"> た</span><span style=\"background-color: #FFFEFE\"> ん</span><span style=\"background-color: #FFFEFE\"> だ</span><span style=\"background-color: #FFFEFE\"> ...」</span><span style=\"background-color: #FFFEFE\"> ##「</span><span style=\"background-color: #FFFEFE\"> とり</span><span style=\"background-color: #FFFEFE\"> ##あ</span><span style=\"background-color: #FFFEFE\"> ##えず</span><span style=\"background-color: #FFFEFE\"> よかっ</span><span style=\"background-color: #FFFEFE\"> た</span><span style=\"background-color: #FFFEFE\"> 」</span><span style=\"background-color: #FFFEFE\"> といった</span><span style=\"background-color: #FFFEFE\"> 安堵</span><span style=\"background-color: #FFFEFE\"> の</span><span style=\"background-color: #FFFEFE\"> コメント</span><span style=\"background-color: #FFFEFE\"> が</span><span style=\"background-color: #FFFEFE\"> 並ん</span><span style=\"background-color: #FFFEFE\"> で</span><span style=\"background-color: #FFFEFE\"> いる</span><span style=\"background-color: #FFFEFE\"> 。</span><br><br>[BERTのAttentionを可視化_12]<br><span style=\"background-color: #FFFEFE\"> [CLS]</span><span style=\"background-color: #FFFEFE\"> ヒ</span><span style=\"background-color: #FFFEFE\"> ##ョー</span><span style=\"background-color: #FFFEFE\"> ##ドル</span><span style=\"background-color: #FFFEFE\"> 戦</span><span style=\"background-color: #FFFEFE\"> で</span><span style=\"background-color: #FFFEFE\"> KO</span><span style=\"background-color: #FFFEFE\"> さ</span><span style=\"background-color: #FFFEFE\"> れ</span><span style=\"background-color: #FFFEFE\"> 病院</span><span style=\"background-color: #FFFEFE\"> に</span><span style=\"background-color: #FFFEFE\"> 直行</span><span style=\"background-color: #FFFEFE\"> し</span><span style=\"background-color: #FFFEFE\"> た</span><span style=\"background-color: #FFFEFE\"> 石井</span><span style=\"background-color: #FFFEFE\"> 慧</span><span style=\"background-color: #FFFEFE\"> について</span><span style=\"background-color: #FFFEFE\"> 、</span><span style=\"background-color: #FFFEFE\"> 30</span><span style=\"background-color: #FFFEFE\"> 日</span><span style=\"background-color: #FFFEFE\"> に</span><span style=\"background-color: #FFFEFE\"> 脳</span><span style=\"background-color: #FFFEFE\"> 障害</span><span style=\"background-color: #FFFEFE\"> により</span><span style=\"background-color: #FFFEFE\"> 引退</span><span style=\"background-color: #FFFEFE\"> 危機</span><span style=\"background-color: #FFFBFB\"> という</span><span style=\"background-color: #FFFCFC\"> 報道</span><span style=\"background-color: #FFF6F6\"> が</span><span style=\"background-color: #FFF4F4\"> 行なわ</span><span style=\"background-color: #FFC9C9\"> れ</span><span style=\"background-color: #FFEBEB\"> た</span><span style=\"background-color: #FFFEFE\"> 。</span><span style=\"background-color: #FFFBFB\"> 記事</span><span style=\"background-color: #FFFDFD\"> に</span><span style=\"background-color: #FFFBFB\"> は</span><span style=\"background-color: #FFFEFE\"> 「</span><span style=\"background-color: #FFFEFE\"> 一説</span><span style=\"background-color: #FFFEFE\"> に</span><span style=\"background-color: #FFFEFE\"> は</span><span style=\"background-color: #FFFEFE\"> 『</span><span style=\"background-color: #FFFEFE\"> 脳</span><span style=\"background-color: #FFFEFE\"> 浮</span><span style=\"background-color: #FFFEFE\"> ##腫</span><span style=\"background-color: #FFFEFE\"> 』</span><span style=\"background-color: #FFFEFE\"> と</span><span style=\"background-color: #FFFEFE\"> も</span><span style=\"background-color: #FFFEFE\"> 言わ</span><span style=\"background-color: #FFFEFE\"> れ</span><span style=\"background-color: #FFFEFE\"> て</span><span style=\"background-color: #FFFEFE\"> い</span><span style=\"background-color: #FFFEFE\"> ます</span><span style=\"background-color: #FFFEFE\"> 」</span><span style=\"background-color: #FFFEFE\"> (</span><span style=\"background-color: #FFFEFE\"> 格闘技</span><span style=\"background-color: #FFFEFE\"> 事情</span><span style=\"background-color: #FFFEFE\"> 通</span><span style=\"background-color: #FFFEFE\"> )</span><span style=\"background-color: #FFFEFE\"> と</span><span style=\"background-color: #FFF8F8\"> あり</span><span style=\"background-color: #FFFEFE\"> 、</span><span style=\"background-color: #FFFEFE\"> 石井</span><span style=\"background-color: #FFFEFE\"> の</span><span style=\"background-color: #FFFEFE\"> 容</span><span style=\"background-color: #FFFEFE\"> ##態</span><span style=\"background-color: #FFFEFE\"> は</span><span style=\"background-color: #FFFEFE\"> 深刻</span><span style=\"background-color: #FFFEFE\"> な</span><span style=\"background-color: #FFFEFE\"> もの</span><span style=\"background-color: #FFFEFE\"> と</span><span style=\"background-color: #FFFEFE\"> 思わ</span><span style=\"background-color: #FFFDFD\"> れ</span><span style=\"background-color: #FFFCFC\"> た</span><span style=\"background-color: #FFFEFE\"> 。</span><span style=\"background-color: #FFFEFE\"> しかし</span><span style=\"background-color: #FFFEFE\"> 、</span><span style=\"background-color: #FFFEFE\"> この</span><span style=\"background-color: #FFFEFE\"> 件</span><span style=\"background-color: #FFFEFE\"> について</span><span style=\"background-color: #FFFEFE\"> 元</span><span style=\"background-color: #FFFEFE\"> DEEP</span><span style=\"background-color: #FFFEFE\"> ミドル</span><span style=\"background-color: #FFFEFE\"> 級</span><span style=\"background-color: #FFFEFE\"> 王者</span><span style=\"background-color: #FFFEFE\"> で</span><span style=\"background-color: #FFFEFE\"> ある</span><span style=\"background-color: #FFFEFE\"> 長</span><span style=\"background-color: #FFFEFE\"> ##南</span><span style=\"background-color: #FFFEFE\"> 亮</span><span style=\"background-color: #FFFEFE\"> (</span><span style=\"background-color: #FFFEFE\"> ちょう</span><span style=\"background-color: #FFFEFE\"> なん</span><span style=\"background-color: #FFFEFE\"> ・</span><span style=\"background-color: #FFFEFE\"> りょう</span><span style=\"background-color: #FFFEFE\"> )</span><span style=\"background-color: #FFFEFE\"> は</span><span style=\"background-color: #FFFEFE\"> 真っ</span><span style=\"background-color: #FFFEFE\"> ##向</span><span style=\"background-color: #FFFEFE\"> から</span><span style=\"background-color: #FFFEFE\"> 否定</span><span style=\"background-color: #FFFEFE\"> 。</span><span style=\"background-color: #FFF2F2\"> 自身</span><span style=\"background-color: #FFFEFE\"> の</span><span style=\"background-color: #FFFEFE\"> ツイッター</span><span style=\"background-color: #FFFEFE\"> にて</span><span style=\"background-color: #FFFEFE\"> 「</span><span style=\"background-color: #FFFEFE\"> 石井</span><span style=\"background-color: #FFFEFE\"> 慧</span><span style=\"background-color: #FFFEFE\"> の</span><span style=\"background-color: #FFFEFE\"> 体調</span><span style=\"background-color: #FFFEFE\"> は</span><span style=\"background-color: #FFFEFE\"> 良好</span><span style=\"background-color: #FFFEFE\"> だ</span><span style=\"background-color: #FFFEFE\"> そう</span><span style=\"background-color: #FFFEFE\"> です</span><span style=\"background-color: #FFFEFE\"> 。</span><span style=\"background-color: #FFFEFE\"> 」</span><span style=\"background-color: #FFFEFE\"> と</span><span style=\"background-color: #FFFEFE\"> コメント</span><span style=\"background-color: #FFFEFE\"> 、</span><span style=\"background-color: #FFFEFE\"> さらに</span><span style=\"background-color: #FFFEFE\"> 「</span><span style=\"background-color: #FFFFFF\"> 人</span><span style=\"background-color: #FFFFFF\"> の</span><span style=\"background-color: #FFFFFF\"> 人生</span><span style=\"background-color: #FFFFFF\"> や</span><span style=\"background-color: #FFFFFF\"> 生命</span><span style=\"background-color: #FFFFFF\"> に</span><span style=\"background-color: #FFFFFF\"> 関わる</span><span style=\"background-color: #FFFFFF\"> こと</span><span style=\"background-color: #FFFFFF\"> を</span><span style=\"background-color: #FFFFFF\"> 平</span><span style=\"background-color: #FFFEFE\"> ##気</span><span style=\"background-color: #FFFEFE\"> で</span><span style=\"background-color: #FFFEFE\"> ガ</span><span style=\"background-color: #FFFEFE\"> ##セ</span><span style=\"background-color: #FFFEFE\"> 流す</span><span style=\"background-color: #FFFFFF\"> 奴</span><span style=\"background-color: #FFFFFF\"> は</span><span style=\"background-color: #FFFEFE\"> 死ん</span><span style=\"background-color: #FFFFFF\"> だ</span><span style=\"background-color: #FFFFFF\"> ほう</span><span style=\"background-color: #FFFFFF\"> が</span><span style=\"background-color: #FFFFFF\"> 世</span><span style=\"background-color: #FFFFFF\"> の</span><span style=\"background-color: #FFFEFE\"> 為</span><span style=\"background-color: #FFFEFE\"> 。</span><span style=\"background-color: #FFFEFE\"> 」</span><span style=\"background-color: #FFFEFE\"> と</span><span style=\"background-color: #FFFEFE\"> 怒り</span><span style=\"background-color: #FFFEFE\"> の</span><span style=\"background-color: #FFFEFE\"> ツイート</span><span style=\"background-color: #FFFDFD\"> を</span><span style=\"background-color: #FF5E5E\"> し</span><span style=\"background-color: #FFE2E2\"> て</span><span style=\"background-color: #FFC0C0\"> いる</span><span style=\"background-color: #FFFEFE\"> 。</span><span style=\"background-color: #FFFEFE\"> これ</span><span style=\"background-color: #FFFEFE\"> を</span><span style=\"background-color: #FFFEFE\"> もっ</span><span style=\"background-color: #FFFEFE\"> て</span><span style=\"background-color: #FFFEFE\"> 、</span><span style=\"background-color: #FFFEFE\"> 石井</span><span style=\"background-color: #FFFEFE\"> の</span><span style=\"background-color: #FFFEFE\"> 体調</span><span style=\"background-color: #FFFEFE\"> 不良</span><span style=\"background-color: #FFFEFE\"> が</span><span style=\"background-color: #FFFEFE\"> ただちに</span><span style=\"background-color: #FFFEFE\"> 否定</span><span style=\"background-color: #FFFEFE\"> さ</span><span style=\"background-color: #FFFEFE\"> れ</span><span style=\"background-color: #FFFEFE\"> た</span><span style=\"background-color: #FFFEFE\"> わけ</span><span style=\"background-color: #FFFEFE\"> で</span><span style=\"background-color: #FFFEFE\"> は</span><span style=\"background-color: #FFFEFE\"> ない</span><span style=\"background-color: #FFFEFE\"> 。</span><span style=\"background-color: #FFFEFE\"> しかし</span><span style=\"background-color: #FFFEFE\"> 、</span><span style=\"background-color: #FFFEFE\"> 石井</span><span style=\"background-color: #FFFEFE\"> から</span><span style=\"background-color: #FFFEFE\"> 近</span><span style=\"background-color: #FFFEFE\"> ##しい</span><span style=\"background-color: #FFFEFE\"> と</span><span style=\"background-color: #FFFEFE\"> 思わ</span><span style=\"background-color: #FFFEFE\"> れる</span><span style=\"background-color: #FFFEFE\"> 人間</span><span style=\"background-color: #FFFEFE\"> から</span><span style=\"background-color: #FFFEFE\"> の</span><span style=\"background-color: #FFFEFE\"> 情報</span><span style=\"background-color: #FFFEFE\"> で</span><span style=\"background-color: #FFFEFE\"> あり</span><span style=\"background-color: #FFFEFE\"> 、</span><span style=\"background-color: #FFFEFE\"> 信</span><span style=\"background-color: #FFFEFE\"> ##ぴ</span><span style=\"background-color: #FFFEFE\"> ##ょう</span><span style=\"background-color: #FFFEFE\"> 性</span><span style=\"background-color: #FFFEFE\"> は</span><span style=\"background-color: #FFEAEA\"> 高い</span><span style=\"background-color: #FFFEFE\"> と</span><span style=\"background-color: #FFFDFD\"> いえる</span><span style=\"background-color: #FFFEFE\"> だろ</span><span style=\"background-color: #FFFEFE\"> う</span><span style=\"background-color: #FFFEFE\"> 。</span><span style=\"background-color: #FFFEFE\"> この</span><span style=\"background-color: #FFFEFE\"> 件</span><span style=\"background-color: #FFFEFE\"> について</span><span style=\"background-color: #FFFEFE\"> 、</span><span style=\"background-color: #FFFEFE\"> 格闘技</span><span style=\"background-color: #FFFEFE\"> ファン</span><span style=\"background-color: #FFFEFE\"> から</span><span style=\"background-color: #FFFDFD\"> は</span><span style=\"background-color: #FFFEFE\"> 「</span><span style=\"background-color: #FFFEFE\"> 良かっ</span><span style=\"background-color: #FFFEFE\"> た</span><span style=\"background-color: #FFFEFE\"> 、</span><span style=\"background-color: #FFFEFE\"> 引退</span><span style=\"background-color: #FFFEFE\"> する</span><span style=\"background-color: #FFFEFE\"> 石井</span><span style=\"background-color: #FFFEFE\"> は</span><span style=\"background-color: #FFFEFE\"> 居</span><span style=\"background-color: #FFFEFE\"> なかっ</span><span style=\"background-color: #FFFEFE\"> た</span><span style=\"background-color: #FFFEFE\"> ん</span><span style=\"background-color: #FFFEFE\"> だ</span><span style=\"background-color: #FFFEFE\"> ...」</span><span style=\"background-color: #FFFEFE\"> ##「</span><span style=\"background-color: #FFFEFE\"> とり</span><span style=\"background-color: #FFFEFE\"> ##あ</span><span style=\"background-color: #FFFEFE\"> ##えず</span><span style=\"background-color: #FFFEFE\"> よかっ</span><span style=\"background-color: #FFFEFE\"> た</span><span style=\"background-color: #FFFEFE\"> 」</span><span style=\"background-color: #FFFDFD\"> といった</span><span style=\"background-color: #FFFEFE\"> 安堵</span><span style=\"background-color: #FFFEFE\"> の</span><span style=\"background-color: #FFFEFE\"> コメント</span><span style=\"background-color: #FFF6F6\"> が</span><span style=\"background-color: #FF0000\"> 並ん</span><span style=\"background-color: #FFA3A3\"> で</span><span style=\"background-color: #FF7474\"> いる</span><span style=\"background-color: #FFFEFE\"> 。</span><br><br>[BERTのAttentionを可視化_ALL]<br><span style=\"background-color: #FFFEFE\"> [CLS]</span><span style=\"background-color: #FFFEFE\"> ヒ</span><span style=\"background-color: #FFFEFE\"> ##ョー</span><span style=\"background-color: #FFFEFE\"> ##ドル</span><span style=\"background-color: #FFF2F2\"> 戦</span><span style=\"background-color: #FFFEFE\"> で</span><span style=\"background-color: #FFFEFE\"> KO</span><span style=\"background-color: #FFFEFE\"> さ</span><span style=\"background-color: #FFFEFE\"> れ</span><span style=\"background-color: #FFFEFE\"> 病院</span><span style=\"background-color: #FFFEFE\"> に</span><span style=\"background-color: #FFFEFE\"> 直行</span><span style=\"background-color: #FFFEFE\"> し</span><span style=\"background-color: #FFFEFE\"> た</span><span style=\"background-color: #FFF0F0\"> 石井</span><span style=\"background-color: #FFFDFD\"> 慧</span><span style=\"background-color: #FF3E3E\"> について</span><span style=\"background-color: #FFF4F4\"> 、</span><span style=\"background-color: #FFFDFD\"> 30</span><span style=\"background-color: #FFFEFE\"> 日</span><span style=\"background-color: #FFFEFE\"> に</span><span style=\"background-color: #FFFCFC\"> 脳</span><span style=\"background-color: #FFFEFE\"> 障害</span><span style=\"background-color: #FFFEFE\"> により</span><span style=\"background-color: #FFFDFD\"> 引退</span><span style=\"background-color: #FFFEFE\"> 危機</span><span style=\"background-color: #FFFBFB\"> という</span><span style=\"background-color: #FFE9E9\"> 報道</span><span style=\"background-color: #FFFAFA\"> が</span><span style=\"background-color: #FFEAEA\"> 行なわ</span><span style=\"background-color: #FFACAC\"> れ</span><span style=\"background-color: #FF8B8B\"> た</span><span style=\"background-color: #FFFEFE\"> 。</span><span style=\"background-color: #FF4242\"> 記事</span><span style=\"background-color: #FFFBFB\"> に</span><span style=\"background-color: #FFE7E7\"> は</span><span style=\"background-color: #FFFEFE\"> 「</span><span style=\"background-color: #FFFDFD\"> 一説</span><span style=\"background-color: #FFFCFC\"> に</span><span style=\"background-color: #FFFEFE\"> は</span><span style=\"background-color: #FFFEFE\"> 『</span><span style=\"background-color: #FFFEFE\"> 脳</span><span style=\"background-color: #FFFEFE\"> 浮</span><span style=\"background-color: #FFFEFE\"> ##腫</span><span style=\"background-color: #FFFEFE\"> 』</span><span style=\"background-color: #FFFEFE\"> と</span><span style=\"background-color: #FFFEFE\"> も</span><span style=\"background-color: #FFFDFD\"> 言わ</span><span style=\"background-color: #FFFDFD\"> れ</span><span style=\"background-color: #FFFEFE\"> て</span><span style=\"background-color: #FFFBFB\"> い</span><span style=\"background-color: #FFE6E6\"> ます</span><span style=\"background-color: #FFE6E6\"> 」</span><span style=\"background-color: #FFFEFE\"> (</span><span style=\"background-color: #FFA3A3\"> 格闘技</span><span style=\"background-color: #FFFDFD\"> 事情</span><span style=\"background-color: #FFFCFC\"> 通</span><span style=\"background-color: #FFFCFC\"> )</span><span style=\"background-color: #FFF2F2\"> と</span><span style=\"background-color: #FFB1B1\"> あり</span><span style=\"background-color: #FFFBFB\"> 、</span><span style=\"background-color: #FFE4E4\"> 石井</span><span style=\"background-color: #FFFEFE\"> の</span><span style=\"background-color: #FFFEFE\"> 容</span><span style=\"background-color: #FFFDFD\"> ##態</span><span style=\"background-color: #FFFEFE\"> は</span><span style=\"background-color: #FFFEFE\"> 深刻</span><span style=\"background-color: #FFFEFE\"> な</span><span style=\"background-color: #FFFDFD\"> もの</span><span style=\"background-color: #FFF9F9\"> と</span><span style=\"background-color: #FFF2F2\"> 思わ</span><span style=\"background-color: #FFB9B9\"> れ</span><span style=\"background-color: #FF8585\"> た</span><span style=\"background-color: #FFFEFE\"> 。</span><span style=\"background-color: #FFC6C6\"> しかし</span><span style=\"background-color: #FFFBFB\"> 、</span><span style=\"background-color: #FFF9F9\"> この</span><span style=\"background-color: #FFF8F8\"> 件</span><span style=\"background-color: #FFF7F7\"> について</span><span style=\"background-color: #FFFEFE\"> 元</span><span style=\"background-color: #FFFEFE\"> DEEP</span><span style=\"background-color: #FFC8C8\"> ミドル</span><span style=\"background-color: #FFF5F5\"> 級</span><span style=\"background-color: #FFFAFA\"> 王者</span><span style=\"background-color: #FFFEFE\"> で</span><span style=\"background-color: #FFFDFD\"> ある</span><span style=\"background-color: #FFFDFD\"> 長</span><span style=\"background-color: #FFFEFE\"> ##南</span><span style=\"background-color: #FFFEFE\"> 亮</span><span style=\"background-color: #FFFEFE\"> (</span><span style=\"background-color: #FFFEFE\"> ちょう</span><span style=\"background-color: #FFFEFE\"> なん</span><span style=\"background-color: #FFFEFE\"> ・</span><span style=\"background-color: #FFFEFE\"> りょう</span><span style=\"background-color: #FFFEFE\"> )</span><span style=\"background-color: #FFE5E5\"> は</span><span style=\"background-color: #FFF5F5\"> 真っ</span><span style=\"background-color: #FFFEFE\"> ##向</span><span style=\"background-color: #FFFEFE\"> から</span><span style=\"background-color: #FFF2F2\"> 否定</span><span style=\"background-color: #FFE4E4\"> 。</span><span style=\"background-color: #FFF3F3\"> 自身</span><span style=\"background-color: #FFFEFE\"> の</span><span style=\"background-color: #FFF8F8\"> ツイッター</span><span style=\"background-color: #FFEEEE\"> にて</span><span style=\"background-color: #FFFEFE\"> 「</span><span style=\"background-color: #FFE8E8\"> 石井</span><span style=\"background-color: #FFFDFD\"> 慧</span><span style=\"background-color: #FFFEFE\"> の</span><span style=\"background-color: #FFFEFE\"> 体調</span><span style=\"background-color: #FFFEFE\"> は</span><span style=\"background-color: #FFFDFD\"> 良好</span><span style=\"background-color: #FFFEFE\"> だ</span><span style=\"background-color: #FFFAFA\"> そう</span><span style=\"background-color: #FFF8F8\"> です</span><span style=\"background-color: #FFFDFD\"> 。</span><span style=\"background-color: #FFFBFB\"> 」</span><span style=\"background-color: #FFFCFC\"> と</span><span style=\"background-color: #FFFAFA\"> コメント</span><span style=\"background-color: #FFC0C0\"> 、</span><span style=\"background-color: #FFF2F2\"> さらに</span><span style=\"background-color: #FFFEFE\"> 「</span><span style=\"background-color: #FFFEFE\"> 人</span><span style=\"background-color: #FFFEFE\"> の</span><span style=\"background-color: #FFFEFE\"> 人生</span><span style=\"background-color: #FFFEFE\"> や</span><span style=\"background-color: #FFFEFE\"> 生命</span><span style=\"background-color: #FFFEFE\"> に</span><span style=\"background-color: #FFFEFE\"> 関わる</span><span style=\"background-color: #FFFEFE\"> こと</span><span style=\"background-color: #FFFEFE\"> を</span><span style=\"background-color: #FFFEFE\"> 平</span><span style=\"background-color: #FFFEFE\"> ##気</span><span style=\"background-color: #FFFEFE\"> で</span><span style=\"background-color: #FFFEFE\"> ガ</span><span style=\"background-color: #FFFEFE\"> ##セ</span><span style=\"background-color: #FFFEFE\"> 流す</span><span style=\"background-color: #FFFEFE\"> 奴</span><span style=\"background-color: #FFFEFE\"> は</span><span style=\"background-color: #FFFEFE\"> 死ん</span><span style=\"background-color: #FFFEFE\"> だ</span><span style=\"background-color: #FFFEFE\"> ほう</span><span style=\"background-color: #FFFEFE\"> が</span><span style=\"background-color: #FFFEFE\"> 世</span><span style=\"background-color: #FFFEFE\"> の</span><span style=\"background-color: #FFFEFE\"> 為</span><span style=\"background-color: #FFFCFC\"> 。</span><span style=\"background-color: #FFEAEA\"> 」</span><span style=\"background-color: #FFFCFC\"> と</span><span style=\"background-color: #FFFBFB\"> 怒り</span><span style=\"background-color: #FFFEFE\"> の</span><span style=\"background-color: #FFFAFA\"> ツイート</span><span style=\"background-color: #FFFAFA\"> を</span><span style=\"background-color: #FFB0B0\"> し</span><span style=\"background-color: #FFDADA\"> て</span><span style=\"background-color: #FF0000\"> いる</span><span style=\"background-color: #FFFEFE\"> 。</span><span style=\"background-color: #FFD2D2\"> これ</span><span style=\"background-color: #FFE3E3\"> を</span><span style=\"background-color: #FFE6E6\"> もっ</span><span style=\"background-color: #FFFBFB\"> て</span><span style=\"background-color: #FFFCFC\"> 、</span><span style=\"background-color: #FFD9D9\"> 石井</span><span style=\"background-color: #FFFEFE\"> の</span><span style=\"background-color: #FFFEFE\"> 体調</span><span style=\"background-color: #FFFDFD\"> 不良</span><span style=\"background-color: #FFFBFB\"> が</span><span style=\"background-color: #FFFEFE\"> ただちに</span><span style=\"background-color: #FFFCFC\"> 否定</span><span style=\"background-color: #FFFAFA\"> さ</span><span style=\"background-color: #FFF9F9\"> れ</span><span style=\"background-color: #FFF5F5\"> た</span><span style=\"background-color: #FFF7F7\"> わけ</span><span style=\"background-color: #FFF6F6\"> で</span><span style=\"background-color: #FFFCFC\"> は</span><span style=\"background-color: #FF9292\"> ない</span><span style=\"background-color: #FFFEFE\"> 。</span><span style=\"background-color: #FFC7C7\"> しかし</span><span style=\"background-color: #FFFDFD\"> 、</span><span style=\"background-color: #FFE3E3\"> 石井</span><span style=\"background-color: #FFFEFE\"> から</span><span style=\"background-color: #FFFEFE\"> 近</span><span style=\"background-color: #FFFEFE\"> ##しい</span><span style=\"background-color: #FFFEFE\"> と</span><span style=\"background-color: #FFFEFE\"> 思わ</span><span style=\"background-color: #FFFEFE\"> れる</span><span style=\"background-color: #FFFDFD\"> 人間</span><span style=\"background-color: #FFFEFE\"> から</span><span style=\"background-color: #FFFEFE\"> の</span><span style=\"background-color: #FFFCFC\"> 情報</span><span style=\"background-color: #FFFAFA\"> で</span><span style=\"background-color: #FFF2F2\"> あり</span><span style=\"background-color: #FFFDFD\"> 、</span><span style=\"background-color: #FFFEFE\"> 信</span><span style=\"background-color: #FFFEFE\"> ##ぴ</span><span style=\"background-color: #FFFEFE\"> ##ょう</span><span style=\"background-color: #FFFBFB\"> 性</span><span style=\"background-color: #FFFEFE\"> は</span><span style=\"background-color: #FFE7E7\"> 高い</span><span style=\"background-color: #FFFDFD\"> と</span><span style=\"background-color: #FFF0F0\"> いえる</span><span style=\"background-color: #FF8888\"> だろ</span><span style=\"background-color: #FFDFDF\"> う</span><span style=\"background-color: #FFFEFE\"> 。</span><span style=\"background-color: #FFE8E8\"> この</span><span style=\"background-color: #FFF2F2\"> 件</span><span style=\"background-color: #FFD7D7\"> について</span><span style=\"background-color: #FFFCFC\"> 、</span><span style=\"background-color: #FF4B4B\"> 格闘技</span><span style=\"background-color: #FFFDFD\"> ファン</span><span style=\"background-color: #FF9C9C\"> から</span><span style=\"background-color: #FFB9B9\"> は</span><span style=\"background-color: #FFFEFE\"> 「</span><span style=\"background-color: #FFFDFD\"> 良かっ</span><span style=\"background-color: #FFFCFC\"> た</span><span style=\"background-color: #FFFEFE\"> 、</span><span style=\"background-color: #FFFCFC\"> 引退</span><span style=\"background-color: #FFFEFE\"> する</span><span style=\"background-color: #FFEAEA\"> 石井</span><span style=\"background-color: #FFFEFE\"> は</span><span style=\"background-color: #FFFEFE\"> 居</span><span style=\"background-color: #FFFEFE\"> なかっ</span><span style=\"background-color: #FFFEFE\"> た</span><span style=\"background-color: #FFFDFD\"> ん</span><span style=\"background-color: #FFFCFC\"> だ</span><span style=\"background-color: #FFFAFA\"> ...」</span><span style=\"background-color: #FFFEFE\"> ##「</span><span style=\"background-color: #FFFEFE\"> とり</span><span style=\"background-color: #FFFEFE\"> ##あ</span><span style=\"background-color: #FFFEFE\"> ##えず</span><span style=\"background-color: #FFFEFE\"> よかっ</span><span style=\"background-color: #FFFCFC\"> た</span><span style=\"background-color: #FFFDFD\"> 」</span><span style=\"background-color: #FFF9F9\"> といった</span><span style=\"background-color: #FFFDFD\"> 安堵</span><span style=\"background-color: #FFFEFE\"> の</span><span style=\"background-color: #FFF8F8\"> コメント</span><span style=\"background-color: #FFF4F4\"> が</span><span style=\"background-color: #FF6262\"> 並ん</span><span style=\"background-color: #FFB1B1\"> で</span><span style=\"background-color: #FF2626\"> いる</span><span style=\"background-color: #FFFEFE\"> 。</span><br><br>"
            ]
          },
          "metadata": {},
          "execution_count": 78
        }
      ]
    },
    {
      "cell_type": "code",
      "source": [],
      "metadata": {
        "id": "RZbw3QXQpMrG"
      },
      "execution_count": null,
      "outputs": []
    }
  ]
}